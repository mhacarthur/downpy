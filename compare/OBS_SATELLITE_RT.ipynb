{
 "cells": [
  {
   "cell_type": "code",
   "execution_count": null,
   "metadata": {},
   "outputs": [],
   "source": []
  },
  {
   "cell_type": "code",
   "execution_count": null,
   "metadata": {},
   "outputs": [],
   "source": []
  },
  {
   "cell_type": "code",
   "execution_count": null,
   "metadata": {},
   "outputs": [],
   "source": [
    "# For MEV quantile for given non exceedance probability\n",
    "Tr = np.array([2, 5, 10, 20, 30, 40, 50, 60, 70, 80, 90, 100])\n",
    "Fi = 1-1/Tr"
   ]
  },
  {
   "cell_type": "code",
   "execution_count": null,
   "metadata": {},
   "outputs": [],
   "source": [
    "OBS_dir = os.path.join(dir_base,f'VENETO_WEIBULL_OBS_IMERG_1981_2023.nc')\n",
    "\n",
    "print(f'OBS load: {data_dir}')\n",
    "OBS = xr.open_dataset(OBS_dir)\n",
    "OBS = OBS.sel(time=OBS.time.dt.year.isin([np.arange(yys_cut,yye_cut+1)]))\n",
    "\n",
    "nlat = len(OBS['lat'])\n",
    "nlon = len(OBS['lon'])\n",
    "ntime = len(OBS['time'])"
   ]
  },
  {
   "cell_type": "code",
   "execution_count": null,
   "metadata": {},
   "outputs": [],
   "source": [
    "OBS_Q = np.zeros([len(Tr), nlat, nlon])\n",
    "for i in range(nlat):\n",
    "    for j in range(nlon):\n",
    "        if np.isnan(OBS['Wetdays'][:, i, j].values).sum() == ntime:\n",
    "            OBS_Q[:,i,j] = np.nan\n",
    "        else:\n",
    "            x0 = 9.0*np.mean(OBS['Scale'][:, i, j]).values\n",
    "            OBS_Q[:,i,j] = mev_quant(Fi, x0, OBS['Wetdays'][:, i, j], OBS['Scale'][:, i, j], OBS['Shape'][:, i, j], thresh=1)[0]"
   ]
  }
 ],
 "metadata": {
  "kernelspec": {
   "display_name": "AXE",
   "language": "python",
   "name": "python3"
  },
  "language_info": {
   "name": "python",
   "version": "3.12.2"
  }
 },
 "nbformat": 4,
 "nbformat_minor": 2
}
