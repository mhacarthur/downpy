{
 "cells": [
  {
   "cell_type": "code",
   "execution_count": 1,
   "metadata": {},
   "outputs": [],
   "source": [
    "import os\n",
    "import glob\n",
    "from PIL import Image"
   ]
  },
  {
   "cell_type": "code",
   "execution_count": 3,
   "metadata": {},
   "outputs": [],
   "source": [
    "# images = glob.glob(os.path.join('..','fig','gif','*.png'))\n",
    "images = glob.glob('/home/arturo/Pictures/SM_gif/*.png')"
   ]
  },
  {
   "cell_type": "code",
   "execution_count": 4,
   "metadata": {},
   "outputs": [
    {
     "name": "stdout",
     "output_type": "stream",
     "text": [
      "Number of images: 43\n"
     ]
    }
   ],
   "source": [
    "images = sorted(images)\n",
    "len_images = len(images)\n",
    "print(f'Number of images: {len_images}')"
   ]
  },
  {
   "cell_type": "code",
   "execution_count": 5,
   "metadata": {},
   "outputs": [
    {
     "data": {
      "text/plain": [
       "['/home/arturo/Pictures/SM_gif/FD_00.png',\n",
       " '/home/arturo/Pictures/SM_gif/FD_01.png',\n",
       " '/home/arturo/Pictures/SM_gif/FD_02.png',\n",
       " '/home/arturo/Pictures/SM_gif/FD_03.png',\n",
       " '/home/arturo/Pictures/SM_gif/FD_04.png',\n",
       " '/home/arturo/Pictures/SM_gif/FD_05.png',\n",
       " '/home/arturo/Pictures/SM_gif/FD_06.png',\n",
       " '/home/arturo/Pictures/SM_gif/FD_07.png',\n",
       " '/home/arturo/Pictures/SM_gif/FD_08.png',\n",
       " '/home/arturo/Pictures/SM_gif/FD_09.png']"
      ]
     },
     "execution_count": 5,
     "metadata": {},
     "output_type": "execute_result"
    }
   ],
   "source": [
    "images[0:10]"
   ]
  },
  {
   "cell_type": "code",
   "execution_count": 6,
   "metadata": {},
   "outputs": [],
   "source": [
    "img_list = [Image.open(img) for img in images]"
   ]
  },
  {
   "cell_type": "code",
   "execution_count": 9,
   "metadata": {},
   "outputs": [],
   "source": [
    "# gif_dir = '/home/arturo/github/downpy/fig/OBS_corr/OBS_corr.gif'\n",
    "# gif_dir = '/home/arturo/github/downpy/fig/OBS_weibull/OBS_weibull.gif'\n",
    "# gif_dir = os.path.join('..','fig','Veneto_box_beta_gamma_v2.gif')\n",
    "\n",
    "gif_dir = os.path.join('/','home','arturo','Pictures','FD_NEB_2020.gif')\n",
    "\n",
    "img_list[0].save(gif_dir, save_all=True, \n",
    "                append_images=img_list[1:], # Adds all the other images to the GIF\n",
    "                duration=220, #  The time in milliseconds each image is displayed in the GIF\n",
    "                loop=0 # The GIF will loop infinitely\n",
    "                )"
   ]
  },
  {
   "cell_type": "code",
   "execution_count": null,
   "metadata": {},
   "outputs": [],
   "source": []
  }
 ],
 "metadata": {
  "kernelspec": {
   "display_name": "AXE",
   "language": "python",
   "name": "python3"
  },
  "language_info": {
   "codemirror_mode": {
    "name": "ipython",
    "version": 3
   },
   "file_extension": ".py",
   "mimetype": "text/x-python",
   "name": "python",
   "nbconvert_exporter": "python",
   "pygments_lexer": "ipython3",
   "version": "3.13.1"
  }
 },
 "nbformat": 4,
 "nbformat_minor": 2
}
