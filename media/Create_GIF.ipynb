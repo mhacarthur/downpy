{
 "cells": [
  {
   "cell_type": "code",
   "execution_count": 1,
   "metadata": {},
   "outputs": [],
   "source": [
    "import os\n",
    "import glob\n",
    "from PIL import Image"
   ]
  },
  {
   "cell_type": "code",
   "execution_count": 2,
   "metadata": {},
   "outputs": [],
   "source": [
    "images = glob.glob(os.path.join('..','fig','gif','*.png'))"
   ]
  },
  {
   "cell_type": "code",
   "execution_count": 3,
   "metadata": {},
   "outputs": [
    {
     "name": "stdout",
     "output_type": "stream",
     "text": [
      "Number of images: 120\n"
     ]
    }
   ],
   "source": [
    "images = sorted(images)\n",
    "len_images = len(images)\n",
    "print(f'Number of images: {len_images}')"
   ]
  },
  {
   "cell_type": "code",
   "execution_count": 4,
   "metadata": {},
   "outputs": [
    {
     "data": {
      "text/plain": [
       "['../fig/gif/VENETO_000.png',\n",
       " '../fig/gif/VENETO_001.png',\n",
       " '../fig/gif/VENETO_002.png',\n",
       " '../fig/gif/VENETO_003.png',\n",
       " '../fig/gif/VENETO_004.png',\n",
       " '../fig/gif/VENETO_005.png',\n",
       " '../fig/gif/VENETO_006.png',\n",
       " '../fig/gif/VENETO_007.png',\n",
       " '../fig/gif/VENETO_008.png',\n",
       " '../fig/gif/VENETO_009.png']"
      ]
     },
     "execution_count": 4,
     "metadata": {},
     "output_type": "execute_result"
    }
   ],
   "source": [
    "images[0:10]"
   ]
  },
  {
   "cell_type": "code",
   "execution_count": 5,
   "metadata": {},
   "outputs": [],
   "source": [
    "img_list = [Image.open(img) for img in images]"
   ]
  },
  {
   "cell_type": "code",
   "execution_count": 6,
   "metadata": {},
   "outputs": [],
   "source": [
    "# gif_dir = '/home/arturo/github/downpy/fig/OBS_corr/OBS_corr.gif'\n",
    "# gif_dir = '/home/arturo/github/downpy/fig/OBS_weibull/OBS_weibull.gif'\n",
    "gif_dir = os.path.join('..','fig','Veneto_box_beta_gamma_v2.gif')\n",
    "\n",
    "img_list[0].save(gif_dir, save_all=True, \n",
    "                append_images=img_list[1:], # Adds all the other images to the GIF\n",
    "                duration=200, #  The time in milliseconds each image is displayed in the GIF\n",
    "                loop=0 # The GIF will loop infinitely\n",
    "                )"
   ]
  },
  {
   "cell_type": "code",
   "execution_count": null,
   "metadata": {},
   "outputs": [],
   "source": []
  }
 ],
 "metadata": {
  "kernelspec": {
   "display_name": "AXE",
   "language": "python",
   "name": "python3"
  },
  "language_info": {
   "codemirror_mode": {
    "name": "ipython",
    "version": 3
   },
   "file_extension": ".py",
   "mimetype": "text/x-python",
   "name": "python",
   "nbconvert_exporter": "python",
   "pygments_lexer": "ipython3",
   "version": "3.13.1"
  }
 },
 "nbformat": 4,
 "nbformat_minor": 2
}
