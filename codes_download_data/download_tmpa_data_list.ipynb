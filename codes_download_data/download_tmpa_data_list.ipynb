{
 "cells": [
  {
   "cell_type": "code",
   "execution_count": 1,
   "metadata": {},
   "outputs": [],
   "source": [
    "import os\n",
    "import numpy as np\n",
    "import pandas as pd"
   ]
  },
  {
   "cell_type": "code",
   "execution_count": 106,
   "metadata": {},
   "outputs": [
    {
     "name": "stdout",
     "output_type": "stream",
     "text": [
      "Export list to: ../codes_download_data/tmpa_urls\n"
     ]
    }
   ],
   "source": [
    "out_dir = os.path.join('..','codes_download_data','tmpa_urls')\n",
    "\n",
    "if not os.path.exists(out_dir):\n",
    "    print('WARNING: Download folder not found, must create it!')\n",
    "else:\n",
    "    print(f'Export list to: {out_dir}')"
   ]
  },
  {
   "cell_type": "code",
   "execution_count": 92,
   "metadata": {},
   "outputs": [
    {
     "name": "stdout",
     "output_type": "stream",
     "text": [
      "Number of files: 3\n"
     ]
    }
   ],
   "source": [
    "urls_folder = 'tmpa_urls'\n",
    "url_files = os.listdir(urls_folder)\n",
    "num_url_files = len(url_files)\n",
    "print(f'Number of files: {num_url_files}')"
   ]
  },
  {
   "cell_type": "code",
   "execution_count": 93,
   "metadata": {},
   "outputs": [
    {
     "data": {
      "text/plain": [
       "['urls_2018.txt', 'urls_1998_2007.txt', 'urls_2008_2017.txt']"
      ]
     },
     "execution_count": 93,
     "metadata": {},
     "output_type": "execute_result"
    }
   ],
   "source": [
    "url_files"
   ]
  },
  {
   "cell_type": "code",
   "execution_count": 111,
   "metadata": {},
   "outputs": [],
   "source": [
    "file_dir = os.path.join(urls_folder, url_files[-1])\n",
    "FILES = pd.read_csv(file_dir, header=None)\n",
    "FILES.rename(columns={list(FILES)[0]:'url'}, inplace=True)"
   ]
  },
  {
   "cell_type": "code",
   "execution_count": 112,
   "metadata": {},
   "outputs": [
    {
     "data": {
      "text/html": [
       "<div>\n",
       "<style scoped>\n",
       "    .dataframe tbody tr th:only-of-type {\n",
       "        vertical-align: middle;\n",
       "    }\n",
       "\n",
       "    .dataframe tbody tr th {\n",
       "        vertical-align: top;\n",
       "    }\n",
       "\n",
       "    .dataframe thead th {\n",
       "        text-align: right;\n",
       "    }\n",
       "</style>\n",
       "<table border=\"1\" class=\"dataframe\">\n",
       "  <thead>\n",
       "    <tr style=\"text-align: right;\">\n",
       "      <th></th>\n",
       "      <th>url</th>\n",
       "      <th>year</th>\n",
       "    </tr>\n",
       "  </thead>\n",
       "  <tbody>\n",
       "    <tr>\n",
       "      <th>0</th>\n",
       "      <td>https://disc2.gesdisc.eosdis.nasa.gov/data//TR...</td>\n",
       "      <td>2017</td>\n",
       "    </tr>\n",
       "    <tr>\n",
       "      <th>1</th>\n",
       "      <td>http://disc2.gesdisc.eosdis.nasa.gov/data//TRM...</td>\n",
       "      <td>2017</td>\n",
       "    </tr>\n",
       "    <tr>\n",
       "      <th>2</th>\n",
       "      <td>http://disc2.gesdisc.eosdis.nasa.gov/data//TRM...</td>\n",
       "      <td>2017</td>\n",
       "    </tr>\n",
       "    <tr>\n",
       "      <th>3</th>\n",
       "      <td>http://disc2.gesdisc.eosdis.nasa.gov/data//TRM...</td>\n",
       "      <td>2017</td>\n",
       "    </tr>\n",
       "    <tr>\n",
       "      <th>4</th>\n",
       "      <td>http://disc2.gesdisc.eosdis.nasa.gov/data//TRM...</td>\n",
       "      <td>2017</td>\n",
       "    </tr>\n",
       "  </tbody>\n",
       "</table>\n",
       "</div>"
      ],
      "text/plain": [
       "                                                 url  year\n",
       "0  https://disc2.gesdisc.eosdis.nasa.gov/data//TR...  2017\n",
       "1  http://disc2.gesdisc.eosdis.nasa.gov/data//TRM...  2017\n",
       "2  http://disc2.gesdisc.eosdis.nasa.gov/data//TRM...  2017\n",
       "3  http://disc2.gesdisc.eosdis.nasa.gov/data//TRM...  2017\n",
       "4  http://disc2.gesdisc.eosdis.nasa.gov/data//TRM...  2017"
      ]
     },
     "execution_count": 112,
     "metadata": {},
     "output_type": "execute_result"
    }
   ],
   "source": [
    "years = []\n",
    "for nn in range(len(FILES)):\n",
    "    yy = FILES['url'][nn].split('/')[-3]\n",
    "    years.append(int(yy))\n",
    "\n",
    "FILES['year'] = years\n",
    "FILES.head(5)"
   ]
  },
  {
   "cell_type": "code",
   "execution_count": 121,
   "metadata": {},
   "outputs": [
    {
     "data": {
      "text/html": [
       "<div>\n",
       "<style scoped>\n",
       "    .dataframe tbody tr th:only-of-type {\n",
       "        vertical-align: middle;\n",
       "    }\n",
       "\n",
       "    .dataframe tbody tr th {\n",
       "        vertical-align: top;\n",
       "    }\n",
       "\n",
       "    .dataframe thead th {\n",
       "        text-align: right;\n",
       "    }\n",
       "</style>\n",
       "<table border=\"1\" class=\"dataframe\">\n",
       "  <thead>\n",
       "    <tr style=\"text-align: right;\">\n",
       "      <th></th>\n",
       "      <th>url</th>\n",
       "      <th>year</th>\n",
       "    </tr>\n",
       "  </thead>\n",
       "  <tbody>\n",
       "    <tr>\n",
       "      <th>20456</th>\n",
       "      <td>http://disc2.gesdisc.eosdis.nasa.gov/data//TRM...</td>\n",
       "      <td>2010</td>\n",
       "    </tr>\n",
       "    <tr>\n",
       "      <th>20457</th>\n",
       "      <td>http://disc2.gesdisc.eosdis.nasa.gov/data//TRM...</td>\n",
       "      <td>2010</td>\n",
       "    </tr>\n",
       "    <tr>\n",
       "      <th>20458</th>\n",
       "      <td>http://disc2.gesdisc.eosdis.nasa.gov/data//TRM...</td>\n",
       "      <td>2010</td>\n",
       "    </tr>\n",
       "    <tr>\n",
       "      <th>20459</th>\n",
       "      <td>http://disc2.gesdisc.eosdis.nasa.gov/data//TRM...</td>\n",
       "      <td>2010</td>\n",
       "    </tr>\n",
       "    <tr>\n",
       "      <th>20460</th>\n",
       "      <td>http://disc2.gesdisc.eosdis.nasa.gov/data//TRM...</td>\n",
       "      <td>2010</td>\n",
       "    </tr>\n",
       "  </tbody>\n",
       "</table>\n",
       "</div>"
      ],
      "text/plain": [
       "                                                     url  year\n",
       "20456  http://disc2.gesdisc.eosdis.nasa.gov/data//TRM...  2010\n",
       "20457  http://disc2.gesdisc.eosdis.nasa.gov/data//TRM...  2010\n",
       "20458  http://disc2.gesdisc.eosdis.nasa.gov/data//TRM...  2010\n",
       "20459  http://disc2.gesdisc.eosdis.nasa.gov/data//TRM...  2010\n",
       "20460  http://disc2.gesdisc.eosdis.nasa.gov/data//TRM...  2010"
      ]
     },
     "execution_count": 121,
     "metadata": {},
     "output_type": "execute_result"
    }
   ],
   "source": [
    "yy1 = 2008\n",
    "yy2 = 2010\n",
    "FILES = FILES[(FILES['year']>=yy1)&(FILES['year']<=yy2)]\n",
    "FILES.head(5)"
   ]
  },
  {
   "cell_type": "code",
   "execution_count": 122,
   "metadata": {},
   "outputs": [
    {
     "data": {
      "text/plain": [
       "array([2010, 2009, 2008])"
      ]
     },
     "execution_count": 122,
     "metadata": {},
     "output_type": "execute_result"
    }
   ],
   "source": [
    "FILES['year'].unique()"
   ]
  },
  {
   "cell_type": "code",
   "execution_count": 123,
   "metadata": {},
   "outputs": [
    {
     "name": "stdout",
     "output_type": "stream",
     "text": [
      "Times in 2010: 2920\n",
      "Times in 2009: 2920\n",
      "Times in 2008: 2928\n"
     ]
    }
   ],
   "source": [
    "for nn in range(len(FILES['year'].unique())):\n",
    "    print(f'Times in {FILES['year'].unique()[nn]}: {len(FILES[FILES['year']==FILES['year'].unique()[nn]])}')"
   ]
  },
  {
   "cell_type": "code",
   "execution_count": 124,
   "metadata": {},
   "outputs": [
    {
     "name": "stdout",
     "output_type": "stream",
     "text": [
      "Export list as: ../codes_download_data/tmpa_urls/urls_2008_2010.csv\n"
     ]
    }
   ],
   "source": [
    "filename = os.path.join('..','codes_download_data','tmpa_urls',f'urls_{yy1}_{yy2}.csv')\n",
    "print(f'Export list as: {filename}')\n",
    "FILES.to_csv(filename, header=True, index=False)"
   ]
  }
 ],
 "metadata": {
  "kernelspec": {
   "display_name": "AXE",
   "language": "python",
   "name": "python3"
  },
  "language_info": {
   "codemirror_mode": {
    "name": "ipython",
    "version": 3
   },
   "file_extension": ".py",
   "mimetype": "text/x-python",
   "name": "python",
   "nbconvert_exporter": "python",
   "pygments_lexer": "ipython3",
   "version": "3.12.2"
  }
 },
 "nbformat": 4,
 "nbformat_minor": 2
}
