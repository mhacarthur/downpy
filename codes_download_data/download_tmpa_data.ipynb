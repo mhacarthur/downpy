{
 "cells": [
  {
   "cell_type": "code",
   "execution_count": 1,
   "metadata": {},
   "outputs": [],
   "source": [
    "import os\n",
    "import numpy as np\n",
    "import pandas as pd\n",
    "\n",
    "import time\n",
    "import requests"
   ]
  },
  {
   "cell_type": "code",
   "execution_count": 2,
   "metadata": {},
   "outputs": [],
   "source": [
    "class SessionWithHeaderRedirection(requests.Session):\n",
    "    AUTH_HOST = 'urs.earthdata.nasa.gov'\n",
    "    def __init__(self, username, password):\n",
    "        super().__init__()\n",
    "        self.auth = (username, password)\n",
    "    # Overrides from the library to keep headers when redirected to or from\n",
    "    # the NASA auth host.\n",
    "    def rebuild_auth(self, prepared_request, response):\n",
    "        headers = prepared_request.headers\n",
    "        url = prepared_request.url\n",
    "        if 'Authorization' in headers:\n",
    "            original_parsed = requests.utils.urlparse(response.request.url)\n",
    "            redirect_parsed = requests.utils.urlparse(url)\n",
    "            if (original_parsed.hostname != redirect_parsed.hostname) and \\\n",
    "                        redirect_parsed.hostname != self.AUTH_HOST and \\\n",
    "                        original_parsed.hostname != self.AUTH_HOST:\n",
    "                del headers['Authorization']\n",
    "        return"
   ]
  },
  {
   "cell_type": "code",
   "execution_count": 3,
   "metadata": {},
   "outputs": [],
   "source": [
    "def download_my_urls(list_of_urls, out_dir, username, password):\n",
    "    session = SessionWithHeaderRedirection(username, password)\n",
    "    n_urls = len(list_of_urls)\n",
    "    for iiu in range(n_urls):\n",
    "        print(iiu)\n",
    "        url = list_of_urls[iiu]\n",
    "        path_and_name = os.path.join(out_dir, url[url.rfind('/') + 1:])\n",
    "        try:\n",
    "            # submit the request using the session\n",
    "            response = session.get(url, stream=True)\n",
    "            # print(response.status_code)\n",
    "            # raise an exception in case of http errors\n",
    "            response.raise_for_status()\n",
    "            # save the file\n",
    "            with open(path_and_name, 'wb') as fd:\n",
    "                for chunk in response.iter_content(chunk_size=1024 * 1024):\n",
    "                    fd.write(chunk)\n",
    "        except requests.exceptions.HTTPError as e:\n",
    "            # handle any errors here\n",
    "            print(e)"
   ]
  },
  {
   "cell_type": "code",
   "execution_count": 8,
   "metadata": {},
   "outputs": [
    {
     "ename": "KeyError",
     "evalue": "'EARTH_DATA_USER'",
     "output_type": "error",
     "traceback": [
      "\u001b[0;31m---------------------------------------------------------------------------\u001b[0m",
      "\u001b[0;31mKeyError\u001b[0m                                  Traceback (most recent call last)",
      "Cell \u001b[0;32mIn[8], line 1\u001b[0m\n\u001b[0;32m----> 1\u001b[0m os\u001b[38;5;241m.\u001b[39menviron[\u001b[38;5;124m'\u001b[39m\u001b[38;5;124mCOMPUTERNAME\u001b[39m\u001b[38;5;124m'\u001b[39m], os\u001b[38;5;241m.\u001b[39menviron[\u001b[38;5;124m'\u001b[39m\u001b[38;5;124mEARTH_DATA_USER\u001b[39m\u001b[38;5;124m'\u001b[39m]\n",
      "File \u001b[0;32m<frozen os>:685\u001b[0m, in \u001b[0;36m__getitem__\u001b[0;34m(self, key)\u001b[0m\n",
      "\u001b[0;31mKeyError\u001b[0m: 'EARTH_DATA_USER'"
     ]
    }
   ],
   "source": [
    "os.environ['COMPUTERNAME'], os.environ['EARTH_DATA_USER']"
   ]
  },
  {
   "cell_type": "code",
   "execution_count": null,
   "metadata": {},
   "outputs": [],
   "source": []
  }
 ],
 "metadata": {
  "kernelspec": {
   "display_name": "AXE",
   "language": "python",
   "name": "python3"
  },
  "language_info": {
   "codemirror_mode": {
    "name": "ipython",
    "version": 3
   },
   "file_extension": ".py",
   "mimetype": "text/x-python",
   "name": "python",
   "nbconvert_exporter": "python",
   "pygments_lexer": "ipython3",
   "version": "3.12.2"
  }
 },
 "nbformat": 4,
 "nbformat_minor": 2
}
