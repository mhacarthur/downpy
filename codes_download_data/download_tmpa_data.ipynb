{
 "cells": [
  {
   "cell_type": "code",
   "execution_count": null,
   "metadata": {},
   "outputs": [],
   "source": [
    "import os\n",
    "import numpy as np\n",
    "import pandas as pd\n",
    "\n",
    "import time\n",
    "import requests"
   ]
  },
  {
   "cell_type": "code",
   "execution_count": null,
   "metadata": {},
   "outputs": [],
   "source": [
    "class SessionWithHeaderRedirection(requests.Session):\n",
    "    AUTH_HOST = 'urs.earthdata.nasa.gov'\n",
    "    def __init__(self, username, password):\n",
    "        super().__init__()\n",
    "        self.auth = (username, password)\n",
    "    # Overrides from the library to keep headers when redirected to or from\n",
    "    # the NASA auth host.\n",
    "    def rebuild_auth(self, prepared_request, response):\n",
    "        headers = prepared_request.headers\n",
    "        url = prepared_request.url\n",
    "        if 'Authorization' in headers:\n",
    "            original_parsed = requests.utils.urlparse(response.request.url)\n",
    "            redirect_parsed = requests.utils.urlparse(url)\n",
    "            if (original_parsed.hostname != redirect_parsed.hostname) and \\\n",
    "                        redirect_parsed.hostname != self.AUTH_HOST and \\\n",
    "                        original_parsed.hostname != self.AUTH_HOST:\n",
    "                del headers['Authorization']\n",
    "        return"
   ]
  },
  {
   "cell_type": "code",
   "execution_count": null,
   "metadata": {},
   "outputs": [],
   "source": [
    "def download_my_urls(list_of_urls, out_dir, username, password):\n",
    "    session = SessionWithHeaderRedirection(username, password)\n",
    "    n_urls = len(list_of_urls)\n",
    "    for iiu in range(n_urls):\n",
    "        print(iiu)\n",
    "        url = list_of_urls[iiu]\n",
    "        path_and_name = os.path.join(out_dir, url[url.rfind('/') + 1:])\n",
    "        try:\n",
    "            # submit the request using the session\n",
    "            response = session.get(url, stream=True)\n",
    "            # print(response.status_code)\n",
    "            # raise an exception in case of http errors\n",
    "            response.raise_for_status()\n",
    "            # save the file\n",
    "            with open(path_and_name, 'wb') as fd:\n",
    "                for chunk in response.iter_content(chunk_size=1024 * 1024):\n",
    "                    fd.write(chunk)\n",
    "        except requests.exceptions.HTTPError as e:\n",
    "            # handle any errors here\n",
    "            print(e)\n",
    "\n",
    "def download_my_urls_v2(url, out_file, username, password):\n",
    "    try:\n",
    "        session = SessionWithHeaderRedirection(username, password)\n",
    "        response = session.get(url, stream=True)\n",
    "        response.raise_for_status()\n",
    "        with open(out_file, 'wb') as fd:\n",
    "                for chunk in response.iter_content(chunk_size=1024 * 1024):\n",
    "                    fd.write(chunk)\n",
    "    except requests.exceptions.HTTPError as e:\n",
    "            print(e)"
   ]
  },
  {
   "cell_type": "code",
   "execution_count": null,
   "metadata": {},
   "outputs": [],
   "source": [
    "username = os.environ['EARTH_DATA_USER']\n",
    "password = os.environ['EARTH_DATA_PASS']"
   ]
  },
  {
   "cell_type": "code",
   "execution_count": null,
   "metadata": {},
   "outputs": [],
   "source": [
    "out_dir = os.path.join('..','data','tmpa_raw_data')\n",
    "\n",
    "if not os.path.exists(out_dir):\n",
    "    print('download_tmpa_data WARNING: output folder not found-must create it!')\n",
    "else:\n",
    "    print(f'Data download to: {out_dir}')"
   ]
  },
  {
   "cell_type": "code",
   "execution_count": null,
   "metadata": {},
   "outputs": [],
   "source": [
    "urls_folder = os.path.join('..','codes_download_data','tmpa_urls')\n",
    "url_dir = os.path.join(urls_folder,'urls_2008_2010.csv')\n",
    "URLS = pd.read_csv(url_dir)"
   ]
  },
  {
   "cell_type": "code",
   "execution_count": null,
   "metadata": {},
   "outputs": [],
   "source": [
    "print('Number of url files {}'.format(len(URLS)))\n",
    "for iiy in range(len(URLS)):\n",
    "    name_tmp = URLS['url'][iiy].split('//')[-1].split('/')[-1]\n",
    "    out_file = os.path.join('..','data','tmpa_raw_data',name_tmp)\n",
    "    \n",
    "    if not os.path.isfile(out_file):\n",
    "        download_my_urls_v2(URLS['url'][iiy], out_file, username, password)\n",
    "    else:\n",
    "        # print('file exist')\n",
    "        continue"
   ]
  },
  {
   "cell_type": "code",
   "execution_count": null,
   "metadata": {},
   "outputs": [],
   "source": []
  }
 ],
 "metadata": {
  "kernelspec": {
   "display_name": "AXE",
   "language": "python",
   "name": "python3"
  },
  "language_info": {
   "codemirror_mode": {
    "name": "ipython",
    "version": 3
   },
   "file_extension": ".py",
   "mimetype": "text/x-python",
   "name": "python",
   "nbconvert_exporter": "python",
   "pygments_lexer": "ipython3",
   "version": "3.12.2"
  }
 },
 "nbformat": 4,
 "nbformat_minor": 2
}
