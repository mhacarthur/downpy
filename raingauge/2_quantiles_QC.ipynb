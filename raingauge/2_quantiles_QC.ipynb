{
 "cells": [
  {
   "cell_type": "code",
   "execution_count": 1,
   "id": "7955db4c",
   "metadata": {},
   "outputs": [],
   "source": [
    "import os\n",
    "import numpy as np\n",
    "import xarray as xr\n",
    "import pandas as pd\n",
    "import seaborn as sns\n",
    "import geopandas as gpd\n",
    "\n",
    "import cartopy.crs as ccrs\n",
    "import cartopy.feature as cf\n",
    "import cartopy.feature as cfeature\n",
    "\n",
    "import scipy.stats as stats\n",
    "\n",
    "from matplotlib import patches\n",
    "import matplotlib.pyplot as plt\n",
    "import matplotlib.colors as mcolors\n",
    "import matplotlib.colors as mcolors\n",
    "import matplotlib.gridspec as gridspec\n",
    "\n",
    "import shapely.geometry as sg\n",
    "from shapely.geometry import Point\n",
    "\n",
    "import sys\n",
    "sys.path.append(os.path.abspath(\"..\"))\n",
    "from function import DOWN_raw\n",
    "\n",
    "import warnings\n",
    "warnings.filterwarnings('ignore')"
   ]
  },
  {
   "cell_type": "markdown",
   "id": "acaa52e7",
   "metadata": {},
   "source": [
    "## Export the Statistics and Extreme Quantiles for rain gauges using QC version data of Dario"
   ]
  },
  {
   "cell_type": "code",
   "execution_count": 2,
   "id": "d744c2a2",
   "metadata": {},
   "outputs": [],
   "source": [
    "QC_method = 'QCv1_Flag1'\n",
    "# QC_method = 'QCv1_Flag_Rec'"
   ]
  },
  {
   "cell_type": "code",
   "execution_count": 3,
   "id": "23126285",
   "metadata": {},
   "outputs": [],
   "source": [
    "yy_s, yy_e = 2002, 2023\n",
    "years_num = yy_e - yy_s + 1"
   ]
  },
  {
   "cell_type": "code",
   "execution_count": 4,
   "id": "d6edb446",
   "metadata": {},
   "outputs": [],
   "source": [
    "lon_min, lon_max, lat_min, lat_max, area, toll = 6.5, 19, 36.5, 48, 'ITALY', 0.002"
   ]
  },
  {
   "cell_type": "code",
   "execution_count": 5,
   "id": "c6010e86",
   "metadata": {},
   "outputs": [],
   "source": [
    "# dir_base = os.path.join('/','media','arturo','T9','Data','Italy', 'stations', 'Italy_raingauges', 'QC')\n",
    "dir_base = os.path.join('/','media','arturo','T9','Data','Italy', 'stations', 'Italy_raingauges', 'QC_MIX')"
   ]
  },
  {
   "cell_type": "code",
   "execution_count": 6,
   "id": "fef58da9",
   "metadata": {},
   "outputs": [],
   "source": [
    "veneto_dir = os.path.join('/','media','arturo','T9','Data','shapes','Europa','Italy')\n",
    "\n",
    "if os.path.exists(veneto_dir):\n",
    "    REGIONS = gpd.read_file(os.path.join(veneto_dir,'Italy_regions.geojson'))\n",
    "else:\n",
    "    raise SystemExit(f\"File not found: {veneto_dir}\")"
   ]
  },
  {
   "cell_type": "code",
   "execution_count": 7,
   "id": "b6402dfa",
   "metadata": {},
   "outputs": [
    {
     "data": {
      "text/html": [
       "<div>\n",
       "<style scoped>\n",
       "    .dataframe tbody tr th:only-of-type {\n",
       "        vertical-align: middle;\n",
       "    }\n",
       "\n",
       "    .dataframe tbody tr th {\n",
       "        vertical-align: top;\n",
       "    }\n",
       "\n",
       "    .dataframe thead th {\n",
       "        text-align: right;\n",
       "    }\n",
       "</style>\n",
       "<table border=\"1\" class=\"dataframe\">\n",
       "  <thead>\n",
       "    <tr style=\"text-align: right;\">\n",
       "      <th></th>\n",
       "      <th>File</th>\n",
       "      <th>ISO</th>\n",
       "      <th>Region</th>\n",
       "      <th>Code</th>\n",
       "      <th>Name</th>\n",
       "      <th>Elevatn</th>\n",
       "      <th>Or_EPSG</th>\n",
       "      <th>CRS_E</th>\n",
       "      <th>CRS_N</th>\n",
       "      <th>Lat</th>\n",
       "      <th>...</th>\n",
       "      <th>INTENSE</th>\n",
       "      <th>AGENCY</th>\n",
       "      <th>Source</th>\n",
       "      <th>TimeZon</th>\n",
       "      <th>Elevation</th>\n",
       "      <th>Orig_EPSG</th>\n",
       "      <th>Year_Start</th>\n",
       "      <th>Year_End</th>\n",
       "      <th>INTENSE_Resp</th>\n",
       "      <th>TimeZone</th>\n",
       "    </tr>\n",
       "  </thead>\n",
       "  <tbody>\n",
       "    <tr>\n",
       "      <th>0</th>\n",
       "      <td>IT-322_AA_6535_0060_QCv1.csv</td>\n",
       "      <td>IT-322</td>\n",
       "      <td>Alto-Adige</td>\n",
       "      <td>AA_6535</td>\n",
       "      <td>VANDOIESDISOPRA</td>\n",
       "      <td>746.0</td>\n",
       "      <td>32632.0</td>\n",
       "      <td>710057.0</td>\n",
       "      <td>5187849.0</td>\n",
       "      <td>46.811055</td>\n",
       "      <td>...</td>\n",
       "      <td>UK</td>\n",
       "      <td>Provincia Autonoma di Bolzano</td>\n",
       "      <td>Alto-Adige</td>\n",
       "      <td>UTC</td>\n",
       "      <td>NaN</td>\n",
       "      <td>NaN</td>\n",
       "      <td>NaN</td>\n",
       "      <td>NaN</td>\n",
       "      <td>NaN</td>\n",
       "      <td>NaN</td>\n",
       "    </tr>\n",
       "    <tr>\n",
       "      <th>1</th>\n",
       "      <td>IT-322_AA_5650_0060_QCv1.csv</td>\n",
       "      <td>IT-322</td>\n",
       "      <td>Alto-Adige</td>\n",
       "      <td>AA_5650</td>\n",
       "      <td>SELVADEIMOLINI</td>\n",
       "      <td>1141.0</td>\n",
       "      <td>32632.0</td>\n",
       "      <td>718972.0</td>\n",
       "      <td>5196967.0</td>\n",
       "      <td>46.890136</td>\n",
       "      <td>...</td>\n",
       "      <td>UK</td>\n",
       "      <td>Provincia Autonoma di Bolzano</td>\n",
       "      <td>Alto-Adige</td>\n",
       "      <td>UTC</td>\n",
       "      <td>NaN</td>\n",
       "      <td>NaN</td>\n",
       "      <td>NaN</td>\n",
       "      <td>NaN</td>\n",
       "      <td>NaN</td>\n",
       "      <td>NaN</td>\n",
       "    </tr>\n",
       "  </tbody>\n",
       "</table>\n",
       "<p>2 rows × 23 columns</p>\n",
       "</div>"
      ],
      "text/plain": [
       "                           File     ISO      Region     Code             Name  \\\n",
       "0  IT-322_AA_6535_0060_QCv1.csv  IT-322  Alto-Adige  AA_6535  VANDOIESDISOPRA   \n",
       "1  IT-322_AA_5650_0060_QCv1.csv  IT-322  Alto-Adige  AA_5650   SELVADEIMOLINI   \n",
       "\n",
       "   Elevatn  Or_EPSG     CRS_E      CRS_N        Lat  ...  INTENSE  \\\n",
       "0    746.0  32632.0  710057.0  5187849.0  46.811055  ...       UK   \n",
       "1   1141.0  32632.0  718972.0  5196967.0  46.890136  ...       UK   \n",
       "\n",
       "                          AGENCY      Source TimeZon Elevation Orig_EPSG  \\\n",
       "0  Provincia Autonoma di Bolzano  Alto-Adige     UTC       NaN       NaN   \n",
       "1  Provincia Autonoma di Bolzano  Alto-Adige     UTC       NaN       NaN   \n",
       "\n",
       "  Year_Start  Year_End  INTENSE_Resp TimeZone  \n",
       "0        NaN       NaN           NaN      NaN  \n",
       "1        NaN       NaN           NaN      NaN  \n",
       "\n",
       "[2 rows x 23 columns]"
      ]
     },
     "execution_count": 7,
     "metadata": {},
     "output_type": "execute_result"
    }
   ],
   "source": [
    "METADATA = pd.read_csv(os.path.join(dir_base, 'METADATA', 'METADATA_INTENSE_UPDATE.csv'))\n",
    "METADATA.head(2)"
   ]
  },
  {
   "cell_type": "code",
   "execution_count": 8,
   "id": "65171e15",
   "metadata": {},
   "outputs": [],
   "source": [
    "# dir_read = os.path.join(dir_base, 'data_1h')\n",
    "dir_read = os.path.join(dir_base, 'data_1dy', 'data')\n",
    "regions_ISO = [d for d in os.listdir(dir_read) if os.path.isdir(os.path.join(dir_read, d))]"
   ]
  },
  {
   "cell_type": "code",
   "execution_count": 9,
   "id": "35ae230f",
   "metadata": {},
   "outputs": [
    {
     "name": "stdout",
     "output_type": "stream",
     "text": [
      "Directory: IT-210\n",
      "Directory: IT-450\n",
      "Directory: IT-230\n",
      "Directory: IT-250\n",
      "Directory: IT-321\n",
      "Directory: IT-322\n",
      "Directory: IT-340\n",
      "Directory: IT-360\n",
      "Directory: IT-420\n",
      "Directory: IT-520\n",
      "Directory: IT-550\n",
      "Directory: IT-570\n",
      "Directory: IT-620\n",
      "Directory: IT-670\n",
      "Directory: IT-720\n",
      "Directory: IT-750\n",
      "Directory: IT-770\n",
      "Directory: IT-780\n",
      "Directory: IT-820\n",
      "Directory: IT-880\n",
      "Directory: IT-650\n"
     ]
    }
   ],
   "source": [
    "for nn in range(len(regions_ISO)):\n",
    "    print(f'Directory: {regions_ISO[nn]}')\n",
    "    dir_tmp = os.path.join(dir_base, 'DATA_1dy', 'statistics', QC_method, regions_ISO[nn])\n",
    "    if not os.path.exists(dir_tmp):\n",
    "        os.makedirs(dir_tmp)"
   ]
  },
  {
   "cell_type": "code",
   "execution_count": 10,
   "id": "2a4cc1b2",
   "metadata": {},
   "outputs": [
    {
     "name": "stdout",
     "output_type": "stream",
     "text": [
      "Region: IT-210 has 38 stations\n",
      "Region: IT-450 has 439 stations\n",
      "Region: IT-230 has 69 stations\n",
      "Region: IT-250 has 228 stations\n",
      "Region: IT-321 has 97 stations\n",
      "Region: IT-322 has 57 stations\n",
      "Region: IT-340 has 213 stations\n",
      "Region: IT-360 has 203 stations\n",
      "Region: IT-420 has 153 stations\n",
      "Region: IT-520 has 408 stations\n",
      "Region: IT-550 has 65 stations\n",
      "Region: IT-570 has 157 stations\n",
      "Region: IT-620 has 213 stations\n",
      "Region: IT-670 has 22 stations\n",
      "Region: IT-720 has 153 stations\n",
      "Region: IT-750 has 36 stations\n",
      "Region: IT-770 has 37 stations\n",
      "Region: IT-780 has 158 stations\n",
      "Region: IT-820 has 106 stations\n",
      "Region: IT-880 has 95 stations\n",
      "Region: IT-650 has 38 stations\n"
     ]
    }
   ],
   "source": [
    "for rr in range(len(regions_ISO)):#len(regions_ISO)\n",
    "    region_ = regions_ISO[rr] \n",
    "    METADATA_clear = METADATA[METADATA['ISO']==region_].reset_index(inplace=False)\n",
    "    \n",
    "    print(f'Region: {region_} has {len(METADATA_clear)} stations')\n",
    "    \n",
    "    names, lats, lons, Q5, Q10, Q20, Q50, Q100 = [], [], [], [], [], [], [], []\n",
    "    for nn in range(len(METADATA_clear)):#len(METADATA_clear)\n",
    "\n",
    "        filename = f'{METADATA_clear['File'].values[nn]}'\n",
    "        RAIN_pd = pd.read_csv(os.path.join(dir_base, 'DATA_1dy', 'data', region_, filename))\n",
    "        RAIN_pd['Datetime'] = pd.to_datetime(RAIN_pd['Datetime'].values)\n",
    "        \n",
    "        ss, ee = RAIN_pd['Datetime'][0].year, RAIN_pd['Datetime'][len(RAIN_pd['Datetime'])-1].year\n",
    "\n",
    "        try:\n",
    "            RAIN_xr = xr.DataArray(\n",
    "                            RAIN_pd[QC_method].values,\n",
    "                            coords={'time':RAIN_pd['Datetime'].values}, \n",
    "                            dims=('time'))\n",
    "        except:\n",
    "            RAIN_xr = xr.DataArray(\n",
    "                            RAIN_pd['pre'].values,\n",
    "                            coords={'time':RAIN_pd['Datetime'].values}, \n",
    "                            dims=('time'))\n",
    "\n",
    "        NCWy, YEARSy = DOWN_raw.fit_yearly_weibull(RAIN_xr,1)\n",
    "        N = NCWy[:,0]\n",
    "        C = NCWy[:,1]\n",
    "        W = NCWy[:,2]\n",
    "        Y = YEARSy\n",
    "\n",
    "        mask = (N == 0)\n",
    "        N[mask] = np.nan\n",
    "        C[mask] = np.nan\n",
    "        W[mask] = np.nan\n",
    "\n",
    "        STATISTIC = pd.DataFrame({'Year':Y.astype(int), 'N': N, 'C': C, 'W':W})\n",
    "\n",
    "        dir_out = os.path.join(dir_base, 'DATA_1dy', 'statistics', QC_method, region_, filename)\n",
    "        STATISTIC.to_csv(dir_out, header=True, index=False)"
   ]
  },
  {
   "cell_type": "code",
   "execution_count": 11,
   "id": "54eccb42",
   "metadata": {},
   "outputs": [
    {
     "data": {
      "text/html": [
       "<div>\n",
       "<style scoped>\n",
       "    .dataframe tbody tr th:only-of-type {\n",
       "        vertical-align: middle;\n",
       "    }\n",
       "\n",
       "    .dataframe tbody tr th {\n",
       "        vertical-align: top;\n",
       "    }\n",
       "\n",
       "    .dataframe thead th {\n",
       "        text-align: right;\n",
       "    }\n",
       "</style>\n",
       "<table border=\"1\" class=\"dataframe\">\n",
       "  <thead>\n",
       "    <tr style=\"text-align: right;\">\n",
       "      <th></th>\n",
       "      <th>Year</th>\n",
       "      <th>N</th>\n",
       "      <th>C</th>\n",
       "      <th>W</th>\n",
       "    </tr>\n",
       "  </thead>\n",
       "  <tbody>\n",
       "    <tr>\n",
       "      <th>0</th>\n",
       "      <td>2016</td>\n",
       "      <td>102.0</td>\n",
       "      <td>8.108311</td>\n",
       "      <td>0.874955</td>\n",
       "    </tr>\n",
       "    <tr>\n",
       "      <th>1</th>\n",
       "      <td>2017</td>\n",
       "      <td>70.0</td>\n",
       "      <td>8.129048</td>\n",
       "      <td>0.751231</td>\n",
       "    </tr>\n",
       "    <tr>\n",
       "      <th>2</th>\n",
       "      <td>2018</td>\n",
       "      <td>123.0</td>\n",
       "      <td>9.203950</td>\n",
       "      <td>1.053938</td>\n",
       "    </tr>\n",
       "  </tbody>\n",
       "</table>\n",
       "</div>"
      ],
      "text/plain": [
       "   Year      N         C         W\n",
       "0  2016  102.0  8.108311  0.874955\n",
       "1  2017   70.0  8.129048  0.751231\n",
       "2  2018  123.0  9.203950  1.053938"
      ]
     },
     "execution_count": 11,
     "metadata": {},
     "output_type": "execute_result"
    }
   ],
   "source": [
    "STATISTIC.head(3)"
   ]
  },
  {
   "cell_type": "code",
   "execution_count": null,
   "id": "fda563ff",
   "metadata": {},
   "outputs": [],
   "source": []
  }
 ],
 "metadata": {
  "kernelspec": {
   "display_name": "AXE",
   "language": "python",
   "name": "python3"
  },
  "language_info": {
   "codemirror_mode": {
    "name": "ipython",
    "version": 3
   },
   "file_extension": ".py",
   "mimetype": "text/x-python",
   "name": "python",
   "nbconvert_exporter": "python",
   "pygments_lexer": "ipython3",
   "version": "3.13.1"
  }
 },
 "nbformat": 4,
 "nbformat_minor": 5
}
