{
 "cells": [
  {
   "cell_type": "code",
   "execution_count": 1,
   "id": "95b6ac5e",
   "metadata": {},
   "outputs": [],
   "source": [
    "import os\n",
    "import sys\n",
    "import numpy as np\n",
    "import pandas as pd"
   ]
  },
  {
   "cell_type": "markdown",
   "id": "bc7148e5",
   "metadata": {},
   "source": [
    "## Read the original METADATA_INTENSE_NOQC.csv and add ISO number column"
   ]
  },
  {
   "cell_type": "code",
   "execution_count": 2,
   "id": "b504b516",
   "metadata": {},
   "outputs": [],
   "source": [
    "dir_base = os.path.join('/','media','arturo','T9','Data','Italy','stations','Italy_raingauges')"
   ]
  },
  {
   "cell_type": "code",
   "execution_count": 3,
   "id": "c427be3c",
   "metadata": {},
   "outputs": [
    {
     "data": {
      "text/html": [
       "<div>\n",
       "<style scoped>\n",
       "    .dataframe tbody tr th:only-of-type {\n",
       "        vertical-align: middle;\n",
       "    }\n",
       "\n",
       "    .dataframe tbody tr th {\n",
       "        vertical-align: top;\n",
       "    }\n",
       "\n",
       "    .dataframe thead th {\n",
       "        text-align: right;\n",
       "    }\n",
       "</style>\n",
       "<table border=\"1\" class=\"dataframe\">\n",
       "  <thead>\n",
       "    <tr style=\"text-align: right;\">\n",
       "      <th></th>\n",
       "      <th>File</th>\n",
       "      <th>Region</th>\n",
       "      <th>Code</th>\n",
       "      <th>Name</th>\n",
       "      <th>Elevatn</th>\n",
       "      <th>Or_EPSG</th>\n",
       "      <th>CRS_E</th>\n",
       "      <th>CRS_N</th>\n",
       "      <th>Lat</th>\n",
       "      <th>Lon</th>\n",
       "      <th>Yr_Strt</th>\n",
       "      <th>Yer_End</th>\n",
       "      <th>INTENSE</th>\n",
       "      <th>AGENCY</th>\n",
       "      <th>Source</th>\n",
       "      <th>TimeZon</th>\n",
       "    </tr>\n",
       "  </thead>\n",
       "  <tbody>\n",
       "    <tr>\n",
       "      <th>0</th>\n",
       "      <td>IT-210_PIE-001030-900_0060_QCv1.csv</td>\n",
       "      <td>Piedmont</td>\n",
       "      <td>PIE-001030-900</td>\n",
       "      <td>BORGOFRANCODIVREA</td>\n",
       "      <td>337.0</td>\n",
       "      <td>32632</td>\n",
       "      <td>410005.0</td>\n",
       "      <td>5040731.0</td>\n",
       "      <td>45.514302</td>\n",
       "      <td>7.847798</td>\n",
       "      <td>1988-05-08 05:00:00</td>\n",
       "      <td>2024-09-09 01:00:00</td>\n",
       "      <td>DT</td>\n",
       "      <td>ARPA Piemonte</td>\n",
       "      <td>Piedmont</td>\n",
       "      <td>UTC</td>\n",
       "    </tr>\n",
       "    <tr>\n",
       "      <th>1</th>\n",
       "      <td>IT-210_PIE-001097-900_0060_QCv1.csv</td>\n",
       "      <td>Piedmont</td>\n",
       "      <td>PIE-001097-900</td>\n",
       "      <td>CUMIANA</td>\n",
       "      <td>327.0</td>\n",
       "      <td>32632</td>\n",
       "      <td>373092.0</td>\n",
       "      <td>4980177.0</td>\n",
       "      <td>44.963696</td>\n",
       "      <td>7.390821</td>\n",
       "      <td>1988-01-29 03:00:00</td>\n",
       "      <td>2024-09-18 12:00:00</td>\n",
       "      <td>DT</td>\n",
       "      <td>ARPA Piemonte</td>\n",
       "      <td>Piedmont</td>\n",
       "      <td>UTC</td>\n",
       "    </tr>\n",
       "    <tr>\n",
       "      <th>2</th>\n",
       "      <td>IT-210_PIE-001128-900_0060_QCv1.csv</td>\n",
       "      <td>Piedmont</td>\n",
       "      <td>PIE-001128-900</td>\n",
       "      <td>LANZO</td>\n",
       "      <td>580.0</td>\n",
       "      <td>32632</td>\n",
       "      <td>381803.0</td>\n",
       "      <td>5016138.0</td>\n",
       "      <td>45.288798</td>\n",
       "      <td>7.492737</td>\n",
       "      <td>1989-09-02 02:00:00</td>\n",
       "      <td>2024-09-09 05:00:00</td>\n",
       "      <td>DT</td>\n",
       "      <td>ARPA Piemonte</td>\n",
       "      <td>Piedmont</td>\n",
       "      <td>UTC</td>\n",
       "    </tr>\n",
       "  </tbody>\n",
       "</table>\n",
       "</div>"
      ],
      "text/plain": [
       "                                  File    Region            Code  \\\n",
       "0  IT-210_PIE-001030-900_0060_QCv1.csv  Piedmont  PIE-001030-900   \n",
       "1  IT-210_PIE-001097-900_0060_QCv1.csv  Piedmont  PIE-001097-900   \n",
       "2  IT-210_PIE-001128-900_0060_QCv1.csv  Piedmont  PIE-001128-900   \n",
       "\n",
       "                Name  Elevatn  Or_EPSG     CRS_E      CRS_N        Lat  \\\n",
       "0  BORGOFRANCODIVREA    337.0    32632  410005.0  5040731.0  45.514302   \n",
       "1            CUMIANA    327.0    32632  373092.0  4980177.0  44.963696   \n",
       "2              LANZO    580.0    32632  381803.0  5016138.0  45.288798   \n",
       "\n",
       "        Lon              Yr_Strt              Yer_End INTENSE         AGENCY  \\\n",
       "0  7.847798  1988-05-08 05:00:00  2024-09-09 01:00:00      DT  ARPA Piemonte   \n",
       "1  7.390821  1988-01-29 03:00:00  2024-09-18 12:00:00      DT  ARPA Piemonte   \n",
       "2  7.492737  1989-09-02 02:00:00  2024-09-09 05:00:00      DT  ARPA Piemonte   \n",
       "\n",
       "     Source TimeZon  \n",
       "0  Piedmont     UTC  \n",
       "1  Piedmont     UTC  \n",
       "2  Piedmont     UTC  "
      ]
     },
     "execution_count": 3,
     "metadata": {},
     "output_type": "execute_result"
    }
   ],
   "source": [
    "METADATA = pd.read_csv(os.path.join(dir_base, 'QC', 'METADATA', 'METADATA_INTENSE.csv'))\n",
    "METADATA.head(3)"
   ]
  },
  {
   "cell_type": "code",
   "execution_count": 4,
   "id": "743188d6",
   "metadata": {},
   "outputs": [
    {
     "data": {
      "text/plain": [
       "array(['Piedmont', 'Aosta Valley', 'Lombardy', 'Trentino', 'Alto-Adige',\n",
       "       'Veneto', 'Friuli-Venezia Giulia', 'Liguria', 'Emilia-Romagna',\n",
       "       'Tuscany', 'Umbria', 'Marche', 'Lazio', 'Molise', 'Campania',\n",
       "       'Apulia', 'Basilicata', 'Calabria', 'Sicily', 'Sardinia'],\n",
       "      dtype=object)"
      ]
     },
     "execution_count": 4,
     "metadata": {},
     "output_type": "execute_result"
    }
   ],
   "source": [
    "METADATA['Region'].unique()"
   ]
  },
  {
   "cell_type": "code",
   "execution_count": 5,
   "id": "600a915b",
   "metadata": {},
   "outputs": [
    {
     "data": {
      "text/html": [
       "<div>\n",
       "<style scoped>\n",
       "    .dataframe tbody tr th:only-of-type {\n",
       "        vertical-align: middle;\n",
       "    }\n",
       "\n",
       "    .dataframe tbody tr th {\n",
       "        vertical-align: top;\n",
       "    }\n",
       "\n",
       "    .dataframe thead th {\n",
       "        text-align: right;\n",
       "    }\n",
       "</style>\n",
       "<table border=\"1\" class=\"dataframe\">\n",
       "  <thead>\n",
       "    <tr style=\"text-align: right;\">\n",
       "      <th></th>\n",
       "      <th>Region</th>\n",
       "      <th>ISO</th>\n",
       "    </tr>\n",
       "  </thead>\n",
       "  <tbody>\n",
       "    <tr>\n",
       "      <th>0</th>\n",
       "      <td>Alto-Adige</td>\n",
       "      <td>IT-322</td>\n",
       "    </tr>\n",
       "    <tr>\n",
       "      <th>1</th>\n",
       "      <td>Aosta Valley</td>\n",
       "      <td>IT-230</td>\n",
       "    </tr>\n",
       "    <tr>\n",
       "      <th>2</th>\n",
       "      <td>Apulia</td>\n",
       "      <td>IT-750</td>\n",
       "    </tr>\n",
       "  </tbody>\n",
       "</table>\n",
       "</div>"
      ],
      "text/plain": [
       "         Region     ISO\n",
       "0    Alto-Adige  IT-322\n",
       "1  Aosta Valley  IT-230\n",
       "2        Apulia  IT-750"
      ]
     },
     "execution_count": 5,
     "metadata": {},
     "output_type": "execute_result"
    }
   ],
   "source": [
    "Regions_ID = pd.read_csv(os.path.join(dir_base, 'ISO_IT_REGION_EN_QC.csv'))\n",
    "Regions_ID.head(3)"
   ]
  },
  {
   "cell_type": "code",
   "execution_count": 6,
   "id": "a7e7d36d",
   "metadata": {},
   "outputs": [
    {
     "data": {
      "text/html": [
       "<div>\n",
       "<style scoped>\n",
       "    .dataframe tbody tr th:only-of-type {\n",
       "        vertical-align: middle;\n",
       "    }\n",
       "\n",
       "    .dataframe tbody tr th {\n",
       "        vertical-align: top;\n",
       "    }\n",
       "\n",
       "    .dataframe thead th {\n",
       "        text-align: right;\n",
       "    }\n",
       "</style>\n",
       "<table border=\"1\" class=\"dataframe\">\n",
       "  <thead>\n",
       "    <tr style=\"text-align: right;\">\n",
       "      <th></th>\n",
       "      <th>File</th>\n",
       "      <th>ISO</th>\n",
       "      <th>Region</th>\n",
       "      <th>Code</th>\n",
       "      <th>Name</th>\n",
       "      <th>Elevatn</th>\n",
       "      <th>Or_EPSG</th>\n",
       "      <th>CRS_E</th>\n",
       "      <th>CRS_N</th>\n",
       "      <th>Lat</th>\n",
       "      <th>Lon</th>\n",
       "      <th>Yr_Strt</th>\n",
       "      <th>Yer_End</th>\n",
       "      <th>INTENSE</th>\n",
       "      <th>AGENCY</th>\n",
       "      <th>Source</th>\n",
       "      <th>TimeZon</th>\n",
       "    </tr>\n",
       "  </thead>\n",
       "  <tbody>\n",
       "    <tr>\n",
       "      <th>0</th>\n",
       "      <td>IT-210_PIE-001030-900_0060_QCv1.csv</td>\n",
       "      <td>IT-210</td>\n",
       "      <td>Piedmont</td>\n",
       "      <td>PIE-001030-900</td>\n",
       "      <td>BORGOFRANCODIVREA</td>\n",
       "      <td>337.0</td>\n",
       "      <td>32632</td>\n",
       "      <td>410005.0</td>\n",
       "      <td>5040731.0</td>\n",
       "      <td>45.514302</td>\n",
       "      <td>7.847798</td>\n",
       "      <td>1988-05-08 05:00:00</td>\n",
       "      <td>2024-09-09 01:00:00</td>\n",
       "      <td>DT</td>\n",
       "      <td>ARPA Piemonte</td>\n",
       "      <td>Piedmont</td>\n",
       "      <td>UTC</td>\n",
       "    </tr>\n",
       "    <tr>\n",
       "      <th>1</th>\n",
       "      <td>IT-210_PIE-001097-900_0060_QCv1.csv</td>\n",
       "      <td>IT-210</td>\n",
       "      <td>Piedmont</td>\n",
       "      <td>PIE-001097-900</td>\n",
       "      <td>CUMIANA</td>\n",
       "      <td>327.0</td>\n",
       "      <td>32632</td>\n",
       "      <td>373092.0</td>\n",
       "      <td>4980177.0</td>\n",
       "      <td>44.963696</td>\n",
       "      <td>7.390821</td>\n",
       "      <td>1988-01-29 03:00:00</td>\n",
       "      <td>2024-09-18 12:00:00</td>\n",
       "      <td>DT</td>\n",
       "      <td>ARPA Piemonte</td>\n",
       "      <td>Piedmont</td>\n",
       "      <td>UTC</td>\n",
       "    </tr>\n",
       "    <tr>\n",
       "      <th>2</th>\n",
       "      <td>IT-210_PIE-001128-900_0060_QCv1.csv</td>\n",
       "      <td>IT-210</td>\n",
       "      <td>Piedmont</td>\n",
       "      <td>PIE-001128-900</td>\n",
       "      <td>LANZO</td>\n",
       "      <td>580.0</td>\n",
       "      <td>32632</td>\n",
       "      <td>381803.0</td>\n",
       "      <td>5016138.0</td>\n",
       "      <td>45.288798</td>\n",
       "      <td>7.492737</td>\n",
       "      <td>1989-09-02 02:00:00</td>\n",
       "      <td>2024-09-09 05:00:00</td>\n",
       "      <td>DT</td>\n",
       "      <td>ARPA Piemonte</td>\n",
       "      <td>Piedmont</td>\n",
       "      <td>UTC</td>\n",
       "    </tr>\n",
       "  </tbody>\n",
       "</table>\n",
       "</div>"
      ],
      "text/plain": [
       "                                  File     ISO    Region            Code  \\\n",
       "0  IT-210_PIE-001030-900_0060_QCv1.csv  IT-210  Piedmont  PIE-001030-900   \n",
       "1  IT-210_PIE-001097-900_0060_QCv1.csv  IT-210  Piedmont  PIE-001097-900   \n",
       "2  IT-210_PIE-001128-900_0060_QCv1.csv  IT-210  Piedmont  PIE-001128-900   \n",
       "\n",
       "                Name  Elevatn  Or_EPSG     CRS_E      CRS_N        Lat  \\\n",
       "0  BORGOFRANCODIVREA    337.0    32632  410005.0  5040731.0  45.514302   \n",
       "1            CUMIANA    327.0    32632  373092.0  4980177.0  44.963696   \n",
       "2              LANZO    580.0    32632  381803.0  5016138.0  45.288798   \n",
       "\n",
       "        Lon              Yr_Strt              Yer_End INTENSE         AGENCY  \\\n",
       "0  7.847798  1988-05-08 05:00:00  2024-09-09 01:00:00      DT  ARPA Piemonte   \n",
       "1  7.390821  1988-01-29 03:00:00  2024-09-18 12:00:00      DT  ARPA Piemonte   \n",
       "2  7.492737  1989-09-02 02:00:00  2024-09-09 05:00:00      DT  ARPA Piemonte   \n",
       "\n",
       "     Source TimeZon  \n",
       "0  Piedmont     UTC  \n",
       "1  Piedmont     UTC  \n",
       "2  Piedmont     UTC  "
      ]
     },
     "execution_count": 6,
     "metadata": {},
     "output_type": "execute_result"
    }
   ],
   "source": [
    "METADATA = METADATA.merge(Regions_ID[['Region', 'ISO']], on='Region', how='left')\n",
    "\n",
    "cols = list(METADATA.columns)\n",
    "cols.insert(1, cols.pop(cols.index('ISO')))\n",
    "METADATA = METADATA[cols]\n",
    "METADATA.head(3)"
   ]
  },
  {
   "cell_type": "code",
   "execution_count": 7,
   "id": "eb8bf54d",
   "metadata": {},
   "outputs": [],
   "source": [
    "dir_out = os.path.join(dir_base, 'QC', 'METADATA', 'METADATA_INTENSE_UPDATE.csv')\n",
    "METADATA.to_csv(dir_out, header=True, index=False)"
   ]
  },
  {
   "cell_type": "code",
   "execution_count": 8,
   "id": "1c973066",
   "metadata": {},
   "outputs": [
    {
     "name": "stdout",
     "output_type": "stream",
     "text": [
      "Number of Regions: 20\n"
     ]
    }
   ],
   "source": [
    "print(f'Number of Regions: {len(set(METADATA.ISO.values))}')"
   ]
  },
  {
   "cell_type": "code",
   "execution_count": 10,
   "id": "5fa3ce99",
   "metadata": {},
   "outputs": [
    {
     "data": {
      "text/plain": [
       "array(['IT-210', 'IT-230', 'IT-250', 'IT-321', 'IT-322', 'IT-340',\n",
       "       'IT-360', 'IT-420', 'IT-450', 'IT-520', 'IT-550', 'IT-570',\n",
       "       'IT-620', 'IT-670', 'IT-720', 'IT-750', 'IT-770', 'IT-780',\n",
       "       'IT-820', 'IT-880'], dtype=object)"
      ]
     },
     "execution_count": 10,
     "metadata": {},
     "output_type": "execute_result"
    }
   ],
   "source": [
    "METADATA.ISO.unique()"
   ]
  },
  {
   "cell_type": "code",
   "execution_count": null,
   "id": "47f11d5b",
   "metadata": {},
   "outputs": [],
   "source": []
  }
 ],
 "metadata": {
  "kernelspec": {
   "display_name": "AXE",
   "language": "python",
   "name": "python3"
  },
  "language_info": {
   "codemirror_mode": {
    "name": "ipython",
    "version": 3
   },
   "file_extension": ".py",
   "mimetype": "text/x-python",
   "name": "python",
   "nbconvert_exporter": "python",
   "pygments_lexer": "ipython3",
   "version": "3.13.1"
  }
 },
 "nbformat": 4,
 "nbformat_minor": 5
}
