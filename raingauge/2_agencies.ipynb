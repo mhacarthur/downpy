{
 "cells": [
  {
   "cell_type": "code",
   "execution_count": 1,
   "id": "dd400ca6",
   "metadata": {},
   "outputs": [],
   "source": [
    "import os\n",
    "import numpy as np\n",
    "import pandas as pd"
   ]
  },
  {
   "cell_type": "code",
   "execution_count": 2,
   "id": "d3c80eb5",
   "metadata": {},
   "outputs": [],
   "source": [
    "dir_base = os.path.join('/','media','arturo','T9','Data','Italy','stations','Italy_raingauges','METADATA')"
   ]
  },
  {
   "cell_type": "code",
   "execution_count": 3,
   "id": "22c900e1",
   "metadata": {},
   "outputs": [
    {
     "data": {
      "text/html": [
       "<div>\n",
       "<style scoped>\n",
       "    .dataframe tbody tr th:only-of-type {\n",
       "        vertical-align: middle;\n",
       "    }\n",
       "\n",
       "    .dataframe tbody tr th {\n",
       "        vertical-align: top;\n",
       "    }\n",
       "\n",
       "    .dataframe thead th {\n",
       "        text-align: right;\n",
       "    }\n",
       "</style>\n",
       "<table border=\"1\" class=\"dataframe\">\n",
       "  <thead>\n",
       "    <tr style=\"text-align: right;\">\n",
       "      <th></th>\n",
       "      <th>File</th>\n",
       "      <th>Region</th>\n",
       "      <th>Code</th>\n",
       "      <th>Name</th>\n",
       "      <th>Elevation</th>\n",
       "      <th>Orig_EPSG</th>\n",
       "      <th>CRS_E</th>\n",
       "      <th>CRS_N</th>\n",
       "      <th>Lat</th>\n",
       "      <th>Lon</th>\n",
       "      <th>Year_Start</th>\n",
       "      <th>Year_End</th>\n",
       "      <th>INTENSE_Resp</th>\n",
       "      <th>AGENCY</th>\n",
       "      <th>Source</th>\n",
       "      <th>TimeZone</th>\n",
       "    </tr>\n",
       "  </thead>\n",
       "  <tbody>\n",
       "    <tr>\n",
       "      <th>0</th>\n",
       "      <td>IT-210_PIE-001030-900_0060.csv</td>\n",
       "      <td>Piedmont</td>\n",
       "      <td>PIE-001030-900</td>\n",
       "      <td>BORGOFRANCODIVREA</td>\n",
       "      <td>337.0</td>\n",
       "      <td>32632.0</td>\n",
       "      <td>410005.0</td>\n",
       "      <td>5040731.0</td>\n",
       "      <td>45.514302</td>\n",
       "      <td>7.847798</td>\n",
       "      <td>1988-05-08 05:00:00</td>\n",
       "      <td>2024-09-09 01:00:00</td>\n",
       "      <td>DT</td>\n",
       "      <td>ARPA Piemonte</td>\n",
       "      <td>Piedmont</td>\n",
       "      <td>UTC</td>\n",
       "    </tr>\n",
       "    <tr>\n",
       "      <th>1</th>\n",
       "      <td>IT-210_PIE-001097-900_0060.csv</td>\n",
       "      <td>Piedmont</td>\n",
       "      <td>PIE-001097-900</td>\n",
       "      <td>CUMIANA</td>\n",
       "      <td>327.0</td>\n",
       "      <td>32632.0</td>\n",
       "      <td>373092.0</td>\n",
       "      <td>4980177.0</td>\n",
       "      <td>44.963696</td>\n",
       "      <td>7.390821</td>\n",
       "      <td>1988-01-29 03:00:00</td>\n",
       "      <td>2024-09-18 12:00:00</td>\n",
       "      <td>DT</td>\n",
       "      <td>ARPA Piemonte</td>\n",
       "      <td>Piedmont</td>\n",
       "      <td>UTC</td>\n",
       "    </tr>\n",
       "    <tr>\n",
       "      <th>2</th>\n",
       "      <td>IT-210_PIE-001128-900_0060.csv</td>\n",
       "      <td>Piedmont</td>\n",
       "      <td>PIE-001128-900</td>\n",
       "      <td>LANZO</td>\n",
       "      <td>580.0</td>\n",
       "      <td>32632.0</td>\n",
       "      <td>381803.0</td>\n",
       "      <td>5016138.0</td>\n",
       "      <td>45.288798</td>\n",
       "      <td>7.492737</td>\n",
       "      <td>1989-09-02 02:00:00</td>\n",
       "      <td>2024-09-09 05:00:00</td>\n",
       "      <td>DT</td>\n",
       "      <td>ARPA Piemonte</td>\n",
       "      <td>Piedmont</td>\n",
       "      <td>UTC</td>\n",
       "    </tr>\n",
       "  </tbody>\n",
       "</table>\n",
       "</div>"
      ],
      "text/plain": [
       "                             File    Region            Code  \\\n",
       "0  IT-210_PIE-001030-900_0060.csv  Piedmont  PIE-001030-900   \n",
       "1  IT-210_PIE-001097-900_0060.csv  Piedmont  PIE-001097-900   \n",
       "2  IT-210_PIE-001128-900_0060.csv  Piedmont  PIE-001128-900   \n",
       "\n",
       "                Name  Elevation  Orig_EPSG     CRS_E      CRS_N        Lat  \\\n",
       "0  BORGOFRANCODIVREA      337.0    32632.0  410005.0  5040731.0  45.514302   \n",
       "1            CUMIANA      327.0    32632.0  373092.0  4980177.0  44.963696   \n",
       "2              LANZO      580.0    32632.0  381803.0  5016138.0  45.288798   \n",
       "\n",
       "        Lon           Year_Start             Year_End INTENSE_Resp  \\\n",
       "0  7.847798  1988-05-08 05:00:00  2024-09-09 01:00:00           DT   \n",
       "1  7.390821  1988-01-29 03:00:00  2024-09-18 12:00:00           DT   \n",
       "2  7.492737  1989-09-02 02:00:00  2024-09-09 05:00:00           DT   \n",
       "\n",
       "          AGENCY    Source TimeZone  \n",
       "0  ARPA Piemonte  Piedmont      UTC  \n",
       "1  ARPA Piemonte  Piedmont      UTC  \n",
       "2  ARPA Piemonte  Piedmont      UTC  "
      ]
     },
     "execution_count": 3,
     "metadata": {},
     "output_type": "execute_result"
    }
   ],
   "source": [
    "METADATA_dir = os.path.join(dir_base,'METADATA_INTENSE_NOQC_update.csv')\n",
    "METADATA = pd.read_csv(METADATA_dir, sep=',')\n",
    "METADATA.head(3)"
   ]
  },
  {
   "cell_type": "code",
   "execution_count": 4,
   "id": "59c044f4",
   "metadata": {},
   "outputs": [],
   "source": [
    "regions = METADATA['Region'].unique()"
   ]
  },
  {
   "cell_type": "code",
   "execution_count": 6,
   "id": "5dac3ce5",
   "metadata": {},
   "outputs": [
    {
     "name": "stdout",
     "output_type": "stream",
     "text": [
      "1: Piedmont - 38 - ['ARPA Piemonte']\n",
      "2: Aosta Valley - 73 - [\"Centro Funzionale Regionale Regione Autonoma Valle d'Aosta\"]\n",
      "3: Lombardy - 271 - ['ARPA Lombardia']\n",
      "4: Trentino - 120 - ['Meteo Trentino']\n",
      "5: Alto-Adige - 57 - ['Provincia Autonoma di Bolzano']\n",
      "6: Veneto - 220 - ['ARPA Veneto']\n",
      "7: Friuli-Venezia Giulia - 208 - ['ARPA Friuli-Venezia Giulia']\n",
      "8: Liguria - 173 - ['Osservatorio Meteo Idrologico Reg. Liguria (OMIRL)' 'ARPA Piemonte']\n",
      "9: Tuscany - 442 - ['SIR TOSCANA']\n",
      "10: Umbria - 69 - ['Servizio Idrografico Regione Umbria']\n",
      "11: Marche - 53 - ['Civil Protection Marche ?']\n",
      "12: Lazio - 213 - ['Civil Protection Lazio']\n",
      "13: Abruzzo - 38 - ['Civil Protection Abruzzo']\n",
      "14: Molise - 22 - ['Civil Protection Molise']\n",
      "15: Campania - 153 - ['Civil Protection Campania']\n",
      "16: Apulia - 39 - ['Civil Protection Apulia']\n",
      "17: Basilicata - 65 - ['Civil Protection Basilicata']\n",
      "18: Calabria - 185 - ['Civil Protection Calabria']\n",
      "19: Sicily - 106 - ['SIAS']\n",
      "20: Sardinia - 135 - ['ARPA Sardegna']\n",
      "21: Emilia Romagna - 500 - ['ARPAE']\n"
     ]
    }
   ],
   "source": [
    "count = 0\n",
    "for region_ in regions:\n",
    "    agency_ = METADATA[METADATA['Region']==region_]['AGENCY'].unique()\n",
    "    len_ = len(METADATA[METADATA['Region']==region_]['AGENCY'])\n",
    "    print(f'{count+1}: {region_} - {len_} - {agency_}')\n",
    "    count += 1"
   ]
  }
 ],
 "metadata": {
  "kernelspec": {
   "display_name": "AXE",
   "language": "python",
   "name": "python3"
  },
  "language_info": {
   "codemirror_mode": {
    "name": "ipython",
    "version": 3
   },
   "file_extension": ".py",
   "mimetype": "text/x-python",
   "name": "python",
   "nbconvert_exporter": "python",
   "pygments_lexer": "ipython3",
   "version": "3.13.1"
  }
 },
 "nbformat": 4,
 "nbformat_minor": 5
}
