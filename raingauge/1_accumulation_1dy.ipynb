{
 "cells": [
  {
   "cell_type": "code",
   "execution_count": 1,
   "id": "de50621a",
   "metadata": {},
   "outputs": [],
   "source": [
    "import os\n",
    "import glob\n",
    "import numpy as np\n",
    "import pandas as pd\n",
    "\n",
    "import geopandas as gpd\n",
    "\n",
    "import cartopy.crs as ccrs\n",
    "import cartopy.feature as cf\n",
    "import cartopy.feature as cfeature\n",
    "\n",
    "import matplotlib.pyplot as plt\n",
    "import matplotlib.gridspec as gridspec"
   ]
  },
  {
   "cell_type": "code",
   "execution_count": 2,
   "id": "bd15611e",
   "metadata": {},
   "outputs": [],
   "source": [
    "dir_base = os.path.join('/','media','arturo','T9','Data','Italy', 'stations', 'Italy_raingauges', 'DATA_1h_QC_MF')"
   ]
  },
  {
   "cell_type": "code",
   "execution_count": 3,
   "id": "25d1e8c4",
   "metadata": {},
   "outputs": [
    {
     "data": {
      "text/html": [
       "<div>\n",
       "<style scoped>\n",
       "    .dataframe tbody tr th:only-of-type {\n",
       "        vertical-align: middle;\n",
       "    }\n",
       "\n",
       "    .dataframe tbody tr th {\n",
       "        vertical-align: top;\n",
       "    }\n",
       "\n",
       "    .dataframe thead th {\n",
       "        text-align: right;\n",
       "    }\n",
       "</style>\n",
       "<table border=\"1\" class=\"dataframe\">\n",
       "  <thead>\n",
       "    <tr style=\"text-align: right;\">\n",
       "      <th></th>\n",
       "      <th>File</th>\n",
       "      <th>ISO</th>\n",
       "      <th>Region</th>\n",
       "      <th>Code</th>\n",
       "      <th>Name</th>\n",
       "      <th>Elevation</th>\n",
       "      <th>Orig_EPSG</th>\n",
       "      <th>CRS_E</th>\n",
       "      <th>CRS_N</th>\n",
       "      <th>Lat</th>\n",
       "      <th>Lon</th>\n",
       "      <th>Year_Start</th>\n",
       "      <th>Year_End</th>\n",
       "      <th>INTENSE_Resp</th>\n",
       "      <th>AGENCY</th>\n",
       "      <th>Source</th>\n",
       "      <th>TimeZone</th>\n",
       "    </tr>\n",
       "  </thead>\n",
       "  <tbody>\n",
       "    <tr>\n",
       "      <th>0</th>\n",
       "      <td>IT-210_PIE-001030-900_0060.csv</td>\n",
       "      <td>IT-210</td>\n",
       "      <td>Piedmont</td>\n",
       "      <td>PIE-001030-900</td>\n",
       "      <td>BORGOFRANCODIVREA</td>\n",
       "      <td>337.0</td>\n",
       "      <td>32632</td>\n",
       "      <td>410005.0</td>\n",
       "      <td>5040731.0</td>\n",
       "      <td>45.514302</td>\n",
       "      <td>7.847798</td>\n",
       "      <td>1988-05-08 05:00:00</td>\n",
       "      <td>2024-09-09 01:00:00</td>\n",
       "      <td>DT</td>\n",
       "      <td>ARPA Piemonte</td>\n",
       "      <td>Piedmont</td>\n",
       "      <td>UTC</td>\n",
       "    </tr>\n",
       "    <tr>\n",
       "      <th>1</th>\n",
       "      <td>IT-210_PIE-001097-900_0060.csv</td>\n",
       "      <td>IT-210</td>\n",
       "      <td>Piedmont</td>\n",
       "      <td>PIE-001097-900</td>\n",
       "      <td>CUMIANA</td>\n",
       "      <td>327.0</td>\n",
       "      <td>32632</td>\n",
       "      <td>373092.0</td>\n",
       "      <td>4980177.0</td>\n",
       "      <td>44.963696</td>\n",
       "      <td>7.390821</td>\n",
       "      <td>1988-01-29 03:00:00</td>\n",
       "      <td>2024-09-18 12:00:00</td>\n",
       "      <td>DT</td>\n",
       "      <td>ARPA Piemonte</td>\n",
       "      <td>Piedmont</td>\n",
       "      <td>UTC</td>\n",
       "    </tr>\n",
       "  </tbody>\n",
       "</table>\n",
       "</div>"
      ],
      "text/plain": [
       "                             File     ISO    Region            Code  \\\n",
       "0  IT-210_PIE-001030-900_0060.csv  IT-210  Piedmont  PIE-001030-900   \n",
       "1  IT-210_PIE-001097-900_0060.csv  IT-210  Piedmont  PIE-001097-900   \n",
       "\n",
       "                Name  Elevation  Orig_EPSG     CRS_E      CRS_N        Lat  \\\n",
       "0  BORGOFRANCODIVREA      337.0      32632  410005.0  5040731.0  45.514302   \n",
       "1            CUMIANA      327.0      32632  373092.0  4980177.0  44.963696   \n",
       "\n",
       "        Lon           Year_Start             Year_End INTENSE_Resp  \\\n",
       "0  7.847798  1988-05-08 05:00:00  2024-09-09 01:00:00           DT   \n",
       "1  7.390821  1988-01-29 03:00:00  2024-09-18 12:00:00           DT   \n",
       "\n",
       "          AGENCY    Source TimeZone  \n",
       "0  ARPA Piemonte  Piedmont      UTC  \n",
       "1  ARPA Piemonte  Piedmont      UTC  "
      ]
     },
     "execution_count": 3,
     "metadata": {},
     "output_type": "execute_result"
    }
   ],
   "source": [
    "dir_input = os.path.join(dir_base, 'METADATA', 'METADATA_INTENSE_UPDATE.csv')\n",
    "METADATA = pd.read_csv(dir_input)\n",
    "METADATA.head(2)"
   ]
  },
  {
   "cell_type": "code",
   "execution_count": 8,
   "id": "112641f6",
   "metadata": {},
   "outputs": [],
   "source": [
    "dir_read = os.path.join(dir_base, 'data_1h')\n",
    "directories = [d for d in os.listdir(dir_read) if os.path.isdir(os.path.join(dir_read, d))]"
   ]
  },
  {
   "cell_type": "code",
   "execution_count": 11,
   "id": "d4c3e21b",
   "metadata": {},
   "outputs": [
    {
     "name": "stdout",
     "output_type": "stream",
     "text": [
      "Directory: IT-210\n",
      "Directory: IT-230\n",
      "Directory: IT-250\n",
      "Directory: IT-321\n",
      "Directory: IT-322\n",
      "Directory: IT-340\n",
      "Directory: IT-360\n",
      "Directory: IT-420\n",
      "Directory: IT-450\n",
      "Directory: IT-520\n",
      "Directory: IT-550\n",
      "Directory: IT-570\n",
      "Directory: IT-620\n",
      "Directory: IT-650\n",
      "Directory: IT-670\n",
      "Directory: IT-720\n",
      "Directory: IT-750\n",
      "Directory: IT-770\n",
      "Directory: IT-780\n",
      "Directory: IT-820\n",
      "Directory: IT-880\n"
     ]
    }
   ],
   "source": [
    "for nn in range(len(directories)):\n",
    "    print(f'Directory: {directories[nn]}')\n",
    "    dir_tmp = os.path.join(dir_base,'DATA_1dy',directories[nn])\n",
    "    # dir_tmp = os.path.join(dir_base,'DATA_1h',directories[nn])\n",
    "    if not os.path.exists(dir_tmp):\n",
    "        os.makedirs(dir_tmp)\n",
    "        print(f\"Directory created: {dir_tmp}\")"
   ]
  },
  {
   "cell_type": "code",
   "execution_count": 52,
   "id": "d70fdecb",
   "metadata": {},
   "outputs": [
    {
     "name": "stdout",
     "output_type": "stream",
     "text": [
      "Station: IT-210_PIE-001030-900_0060.csv\n",
      "Station: IT-210_PIE-001097-900_0060.csv\n",
      "Station: IT-210_PIE-001128-900_0060.csv\n",
      "Station: IT-210_PIE-001134-900_0060.csv\n",
      "Station: IT-210_PIE-001139-900_0060.csv\n",
      "Station: IT-210_PIE-001151-900_0060.csv\n",
      "Station: IT-210_PIE-001192-900_0060.csv\n",
      "Station: IT-210_PIE-001203-900_0060.csv\n",
      "Station: IT-210_PIE-001259-900_0060.csv\n",
      "Station: IT-210_PIE-001293-900_0060.csv\n",
      "Station: IT-210_PIE-002003-900_0060.csv\n",
      "Station: IT-210_PIE-002012-900_0060.csv\n",
      "Station: IT-210_PIE-002156-900_0060.csv\n",
      "Station: IT-210_PIE-003024-900_0060.csv\n",
      "Station: IT-210_PIE-003032-900_0060.csv\n",
      "Station: IT-210_PIE-003061-900_0060.csv\n",
      "Station: IT-210_PIE-003063-900_0060.csv\n",
      "Station: IT-210_PIE-003142-902_0060.csv\n",
      "Station: IT-210_PIE-003155-900_0060.csv\n",
      "Station: IT-210_PIE-004001-900_0060.csv\n",
      "Station: IT-210_PIE-004028-900_0060.csv\n",
      "Station: IT-210_PIE-004075-900_0060.csv\n",
      "Station: IT-210_PIE-004091-900_0060.csv\n",
      "Station: IT-210_PIE-004095-901_0060.csv\n",
      "Station: IT-210_PIE-004124-900_0060.csv\n",
      "Station: IT-210_PIE-004162-900_0060.csv\n",
      "Station: IT-210_PIE-004205-900_0060.csv\n",
      "Station: IT-210_PIE-004221-900_0060.csv\n",
      "Station: IT-210_PIE-004248-901_0060.csv\n",
      "Station: IT-210_PIE-005074-900_0060.csv\n",
      "Station: IT-210_PIE-005075-900_0060.csv\n",
      "Station: IT-210_PIE-005104-900_0060.csv\n",
      "Station: IT-210_PIE-006001-900_0060.csv\n",
      "Station: IT-210_PIE-006003-900_0060.csv\n",
      "Station: IT-210_PIE-006022-900_0060.csv\n",
      "Station: IT-210_PIE-006025-900_0060.csv\n",
      "Station: IT-210_PIE-006039-900_0060.csv\n",
      "Station: IT-210_PIE-006136-900_0060.csv\n"
     ]
    }
   ],
   "source": [
    "for nn in range(1):#len(directories)\n",
    "    META_REGION = METADATA[METADATA['ISO'] == directories[nn]].reset_index(inplace=False)\n",
    "\n",
    "    for ss in range(len(META_REGION)):\n",
    "\n",
    "        print(f'Station: {META_REGION['File'][ss]}')\n",
    "        data = pd.read_csv(os.path.join(dir_base,'data_1h',directories[nn],META_REGION['File'][ss]))\n",
    "        data[\"pre_QC\"] = np.where(data[\"QC\"] == 1, data[\"pre\"], np.nan)\n",
    "        data['Datetime'] = pd.to_datetime(data['Datetime'])\n",
    "        data.set_index('Datetime', inplace=True)\n",
    "        \n",
    "        # Daily accumulation\n",
    "        dir_out = os.path.join(dir_base,'data_1dy',directories[nn],META_REGION['File'][ss])\n",
    "        data_pre = data['pre'].resample('1d').sum()\n",
    "        data_preQC = data['pre_QC'].resample('1d').sum()\n",
    "\n",
    "        # # Hourly accumulation\n",
    "        # data = data['Prec_h'].resample('1h').sum()\n",
    "        # dir_out = os.path.join(dir_base,'DATA_1h',directories[nn],META_REGION['File'][ss])\n",
    "\n",
    "        pre_1dy = pd.DataFrame({'Datetime':data_preQC.index, 'pre':data_pre.values, 'preQC':data_preQC.values})\n",
    "        pre_1dy.to_csv(dir_out, header=True, index=False)"
   ]
  },
  {
   "cell_type": "code",
   "execution_count": 39,
   "id": "5074bcc2",
   "metadata": {},
   "outputs": [
    {
     "data": {
      "text/plain": [
       "'IT-230_1000_0060.csv'"
      ]
     },
     "execution_count": 39,
     "metadata": {},
     "output_type": "execute_result"
    }
   ],
   "source": [
    "META_REGION['File'][ss]"
   ]
  }
 ],
 "metadata": {
  "kernelspec": {
   "display_name": "AXE",
   "language": "python",
   "name": "python3"
  },
  "language_info": {
   "codemirror_mode": {
    "name": "ipython",
    "version": 3
   },
   "file_extension": ".py",
   "mimetype": "text/x-python",
   "name": "python",
   "nbconvert_exporter": "python",
   "pygments_lexer": "ipython3",
   "version": "3.13.1"
  }
 },
 "nbformat": 4,
 "nbformat_minor": 5
}
