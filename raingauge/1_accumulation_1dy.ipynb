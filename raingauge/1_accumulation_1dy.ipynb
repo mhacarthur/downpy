{
 "cells": [
  {
   "cell_type": "code",
   "execution_count": 1,
   "id": "de50621a",
   "metadata": {},
   "outputs": [],
   "source": [
    "import os\n",
    "import glob\n",
    "import numpy as np\n",
    "import pandas as pd\n",
    "\n",
    "import geopandas as gpd\n",
    "\n",
    "import cartopy.crs as ccrs\n",
    "import cartopy.feature as cf\n",
    "import cartopy.feature as cfeature\n",
    "\n",
    "import matplotlib.pyplot as plt\n",
    "import matplotlib.gridspec as gridspec"
   ]
  },
  {
   "cell_type": "code",
   "execution_count": 2,
   "id": "bd15611e",
   "metadata": {},
   "outputs": [],
   "source": [
    "dir_base = os.path.join('/','media','arturo','T9','Data','Italy', 'stations', 'Italy_raingauges', 'QC')"
   ]
  },
  {
   "cell_type": "code",
   "execution_count": 3,
   "id": "25d1e8c4",
   "metadata": {},
   "outputs": [
    {
     "data": {
      "text/html": [
       "<div>\n",
       "<style scoped>\n",
       "    .dataframe tbody tr th:only-of-type {\n",
       "        vertical-align: middle;\n",
       "    }\n",
       "\n",
       "    .dataframe tbody tr th {\n",
       "        vertical-align: top;\n",
       "    }\n",
       "\n",
       "    .dataframe thead th {\n",
       "        text-align: right;\n",
       "    }\n",
       "</style>\n",
       "<table border=\"1\" class=\"dataframe\">\n",
       "  <thead>\n",
       "    <tr style=\"text-align: right;\">\n",
       "      <th></th>\n",
       "      <th>File</th>\n",
       "      <th>ISO</th>\n",
       "      <th>Region</th>\n",
       "      <th>Code</th>\n",
       "      <th>Name</th>\n",
       "      <th>Elevatn</th>\n",
       "      <th>Or_EPSG</th>\n",
       "      <th>CRS_E</th>\n",
       "      <th>CRS_N</th>\n",
       "      <th>Lat</th>\n",
       "      <th>Lon</th>\n",
       "      <th>Yr_Strt</th>\n",
       "      <th>Yer_End</th>\n",
       "      <th>INTENSE</th>\n",
       "      <th>AGENCY</th>\n",
       "      <th>Source</th>\n",
       "      <th>TimeZon</th>\n",
       "    </tr>\n",
       "  </thead>\n",
       "  <tbody>\n",
       "    <tr>\n",
       "      <th>0</th>\n",
       "      <td>IT-210_PIE-001030-900_0060_QCv1.csv</td>\n",
       "      <td>IT-210</td>\n",
       "      <td>Piedmont</td>\n",
       "      <td>PIE-001030-900</td>\n",
       "      <td>BORGOFRANCODIVREA</td>\n",
       "      <td>337.0</td>\n",
       "      <td>32632</td>\n",
       "      <td>410005.0</td>\n",
       "      <td>5040731.0</td>\n",
       "      <td>45.514302</td>\n",
       "      <td>7.847798</td>\n",
       "      <td>1988-05-08 05:00:00</td>\n",
       "      <td>2024-09-09 01:00:00</td>\n",
       "      <td>DT</td>\n",
       "      <td>ARPA Piemonte</td>\n",
       "      <td>Piedmont</td>\n",
       "      <td>UTC</td>\n",
       "    </tr>\n",
       "    <tr>\n",
       "      <th>1</th>\n",
       "      <td>IT-210_PIE-001097-900_0060_QCv1.csv</td>\n",
       "      <td>IT-210</td>\n",
       "      <td>Piedmont</td>\n",
       "      <td>PIE-001097-900</td>\n",
       "      <td>CUMIANA</td>\n",
       "      <td>327.0</td>\n",
       "      <td>32632</td>\n",
       "      <td>373092.0</td>\n",
       "      <td>4980177.0</td>\n",
       "      <td>44.963696</td>\n",
       "      <td>7.390821</td>\n",
       "      <td>1988-01-29 03:00:00</td>\n",
       "      <td>2024-09-18 12:00:00</td>\n",
       "      <td>DT</td>\n",
       "      <td>ARPA Piemonte</td>\n",
       "      <td>Piedmont</td>\n",
       "      <td>UTC</td>\n",
       "    </tr>\n",
       "  </tbody>\n",
       "</table>\n",
       "</div>"
      ],
      "text/plain": [
       "                                  File     ISO    Region            Code  \\\n",
       "0  IT-210_PIE-001030-900_0060_QCv1.csv  IT-210  Piedmont  PIE-001030-900   \n",
       "1  IT-210_PIE-001097-900_0060_QCv1.csv  IT-210  Piedmont  PIE-001097-900   \n",
       "\n",
       "                Name  Elevatn  Or_EPSG     CRS_E      CRS_N        Lat  \\\n",
       "0  BORGOFRANCODIVREA    337.0    32632  410005.0  5040731.0  45.514302   \n",
       "1            CUMIANA    327.0    32632  373092.0  4980177.0  44.963696   \n",
       "\n",
       "        Lon              Yr_Strt              Yer_End INTENSE         AGENCY  \\\n",
       "0  7.847798  1988-05-08 05:00:00  2024-09-09 01:00:00      DT  ARPA Piemonte   \n",
       "1  7.390821  1988-01-29 03:00:00  2024-09-18 12:00:00      DT  ARPA Piemonte   \n",
       "\n",
       "     Source TimeZon  \n",
       "0  Piedmont     UTC  \n",
       "1  Piedmont     UTC  "
      ]
     },
     "execution_count": 3,
     "metadata": {},
     "output_type": "execute_result"
    }
   ],
   "source": [
    "dir_input = os.path.join(dir_base, 'METADATA', 'METADATA_INTENSE_UPDATE.csv')\n",
    "METADATA = pd.read_csv(dir_input)\n",
    "METADATA.head(2)"
   ]
  },
  {
   "cell_type": "code",
   "execution_count": 4,
   "id": "112641f6",
   "metadata": {},
   "outputs": [],
   "source": [
    "dir_read = os.path.join(dir_base, 'data_1h')\n",
    "directories = [d for d in os.listdir(dir_read) if os.path.isdir(os.path.join(dir_read, d))]"
   ]
  },
  {
   "cell_type": "code",
   "execution_count": 5,
   "id": "d4c3e21b",
   "metadata": {},
   "outputs": [
    {
     "name": "stdout",
     "output_type": "stream",
     "text": [
      "Directory: IT-210\n",
      "Directory: IT-230\n",
      "Directory: IT-250\n",
      "Directory: IT-321\n",
      "Directory: IT-322\n",
      "Directory: IT-340\n",
      "Directory: IT-360\n",
      "Directory: IT-420\n",
      "Directory: IT-450\n",
      "Directory: IT-520\n",
      "Directory: IT-550\n",
      "Directory: IT-570\n",
      "Directory: IT-620\n",
      "Directory: IT-670\n",
      "Directory: IT-720\n",
      "Directory: IT-750\n",
      "Directory: IT-770\n",
      "Directory: IT-780\n",
      "Directory: IT-820\n",
      "Directory: IT-880\n"
     ]
    }
   ],
   "source": [
    "for nn in range(len(directories)):\n",
    "    print(f'Directory: {directories[nn]}')\n",
    "    dir_tmp = os.path.join(dir_base,'DATA_1dy','data',directories[nn])\n",
    "    # dir_tmp = os.path.join(dir_base,'DATA_1h',directories[nn])\n",
    "    if not os.path.exists(dir_tmp):\n",
    "        os.makedirs(dir_tmp)\n",
    "        print(f\"Directory created: {dir_tmp}\")"
   ]
  },
  {
   "cell_type": "code",
   "execution_count": null,
   "id": "d70fdecb",
   "metadata": {},
   "outputs": [
    {
     "name": "stdout",
     "output_type": "stream",
     "text": [
      "Region: IT-322\n",
      "Station: IT-322_AA_0110_0060_QCv1.csv\n",
      "Station: IT-322_AA_0220_0060_QCv1.csv\n",
      "Station: IT-322_AA_0250_0060_QCv1.csv\n",
      "Station: IT-322_AA_0310_0060_QCv1.csv\n",
      "Station: IT-322_AA_0640_0060_QCv1.csv\n",
      "Station: IT-322_AA_0820_0060_QCv1.csv\n",
      "Station: IT-322_AA_0970_0060_QCv1.csv\n",
      "Station: IT-322_AA_1140_0060_QCv1.csv\n",
      "Station: IT-322_AA_1580_0060_QCv1.csv\n",
      "Station: IT-322_AA_1930_0060_QCv1.csv\n",
      "Station: IT-322_AA_2050_0060_QCv1.csv\n",
      "Station: IT-322_AA_2090_0060_QCv1.csv\n",
      "Station: IT-322_AA_2221_0060_QCv1.csv\n",
      "Station: IT-322_AA_2320_0060_QCv1.csv\n",
      "Station: IT-322_AA_2440_0060_QCv1.csv\n",
      "Station: IT-322_AA_2590_0060_QCv1.csv\n",
      "Station: IT-322_AA_2710_0060_QCv1.csv\n",
      "Station: IT-322_AA_3140_0060_QCv1.csv\n",
      "Station: IT-322_AA_3350_0060_QCv1.csv\n",
      "Station: IT-322_AA_3450_0060_QCv1.csv\n",
      "Station: IT-322_AA_3710_0060_QCv1.csv\n",
      "Station: IT-322_AA_3770_0060_QCv1.csv\n",
      "Station: IT-322_AA_3910_0060_QCv1.csv\n",
      "Station: IT-322_AA_4100_0060_QCv1.csv\n",
      "Station: IT-322_AA_4270_0060_QCv1.csv\n",
      "Station: IT-322_AA_4320_0060_QCv1.csv\n",
      "Station: IT-322_AA_4450_0060_QCv1.csv\n",
      "Station: IT-322_AA_4740_0060_QCv1.csv\n",
      "Station: IT-322_AA_5050_0060_QCv1.csv\n",
      "Station: IT-322_AA_5450_0060_QCv1.csv\n",
      "Station: IT-322_AA_5650_0060_QCv1.csv\n",
      "Station: IT-322_AA_5690_0060_QCv1.csv\n",
      "Station: IT-322_AA_5970_0060_QCv1.csv\n",
      "Station: IT-322_AA_6130_0060_QCv1.csv\n",
      "Station: IT-322_AA_6260_0060_QCv1.csv\n",
      "Station: IT-322_AA_6535_0060_QCv1.csv\n",
      "Station: IT-322_AA_6560_0060_QCv1.csv\n",
      "Station: IT-322_AA_6650_0060_QCv1.csv\n",
      "Station: IT-322_AA_6860_0060_QCv1.csv\n",
      "Station: IT-322_AA_7350_0060_QCv1.csv\n",
      "Station: IT-322_AA_7420_0060_QCv1.csv\n",
      "Station: IT-322_AA_7490_0060_QCv1.csv\n",
      "Station: IT-322_AA_7560_0060_QCv1.csv\n",
      "Station: IT-322_AA_7810_0060_QCv1.csv\n",
      "Station: IT-322_AA_7830_0060_QCv1.csv\n",
      "Station: IT-322_AA_8030_0060_QCv1.csv\n",
      "Station: IT-322_AA_8220_0060_QCv1.csv\n",
      "Station: IT-322_AA_8291_0060_QCv1.csv\n",
      "Station: IT-322_AA_8320_0060_QCv1.csv\n",
      "Station: IT-322_AA_8512_0060_QCv1.csv\n",
      "Station: IT-322_AA_8570_0060_QCv1.csv\n",
      "Station: IT-322_AA_8660_0060_QCv1.csv\n",
      "Station: IT-322_AA_8690_0060_QCv1.csv\n",
      "Station: IT-322_AA_8730_0060_QCv1.csv\n",
      "Station: IT-322_AA_8882_0060_QCv1.csv\n",
      "Station: IT-322_AA_8919_0060_QCv1.csv\n",
      "Station: IT-322_AA_9150_0060_QCv1.csv\n"
     ]
    }
   ],
   "source": [
    "for nn in range(len(directories)):#len(directories)\n",
    "    META_REGION = METADATA[METADATA['ISO'] == directories[nn]].reset_index(inplace=False)\n",
    "    print(f'Region: {directories[nn]}')\n",
    "\n",
    "    for ss in range(len(META_REGION)):#len(META_REGION)\n",
    "\n",
    "        print(f'Station: {META_REGION['File'][ss]}')\n",
    "        data = pd.read_csv(os.path.join(dir_base,'DATA_1h',directories[nn],META_REGION['File'][ss]))\n",
    "\n",
    "        data[\"QCv1_Flag1\"] = np.where(data[\"QCv1_Flag1\"] == 0, data[\"Prec_h\"], np.nan)\n",
    "        data[\"QCv1_Flag_Rec\"] = np.where(data[\"QCv1_Flag_Rec\"] == 0, data[\"Prec_h\"], np.nan)\n",
    "\n",
    "        data['Datetime_h'] = pd.to_datetime(data['Datetime_h'])\n",
    "        data.set_index('Datetime_h', inplace=True)\n",
    "        \n",
    "        # Daily accumulation\n",
    "        dir_out = os.path.join(dir_base,'data_1dy','data',directories[nn],META_REGION['File'][ss])\n",
    "        data_pre = data['Prec_h'].resample('1d').sum()\n",
    "        data_preQC = data['QCv1_Flag1'].resample('1d').sum()\n",
    "        data_preQC_rec = data['QCv1_Flag_Rec'].resample('1d').sum()\n",
    "\n",
    "        # # Hourly accumulation\n",
    "        # data = data['Prec_h'].resample('1h').sum()\n",
    "        # dir_out = os.path.join(dir_base,'DATA_1h',directories[nn],META_REGION['File'][ss])\n",
    "\n",
    "        pre_1dy = pd.DataFrame({'Datetime':data_preQC.index, 'pre':data_pre.values, 'QCv1_Flag1':data_preQC.values, 'QCv1_Flag_Rec':data_preQC_rec.values})\n",
    "        pre_1dy.to_csv(dir_out, header=True, index=False)"
   ]
  },
  {
   "cell_type": "code",
   "execution_count": 8,
   "id": "5074bcc2",
   "metadata": {},
   "outputs": [
    {
     "data": {
      "text/plain": [
       "[<matplotlib.lines.Line2D at 0x7cc031fd4550>]"
      ]
     },
     "execution_count": 8,
     "metadata": {},
     "output_type": "execute_result"
    },
    {
     "data": {
      "image/png": "[encoded data removed]",
      "text/plain": [
       "<Figure size 640x480 with 1 Axes>"
      ]
     },
     "metadata": {},
     "output_type": "display_data"
    }
   ],
   "source": [
    "plt.plot(pre_1dy.pre.values)\n",
    "plt.plot(pre_1dy.QCv1_Flag1.values)"
   ]
  }
 ],
 "metadata": {
  "kernelspec": {
   "display_name": "AXE",
   "language": "python",
   "name": "python3"
  },
  "language_info": {
   "codemirror_mode": {
    "name": "ipython",
    "version": 3
   },
   "file_extension": ".py",
   "mimetype": "text/x-python",
   "name": "python",
   "nbconvert_exporter": "python",
   "pygments_lexer": "ipython3",
   "version": "3.13.1"
  }
 },
 "nbformat": 4,
 "nbformat_minor": 5
}
