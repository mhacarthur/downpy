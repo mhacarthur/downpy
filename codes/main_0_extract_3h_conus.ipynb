{
 "cells": [
  {
   "cell_type": "code",
   "execution_count": 1,
   "metadata": {},
   "outputs": [],
   "source": [
    "import os\n",
    "import time\n",
    "import numpy as np\n",
    "from pyhdf.SD import SD, SDC\n",
    "import h5py"
   ]
  },
  {
   "cell_type": "code",
   "execution_count": 2,
   "metadata": {},
   "outputs": [],
   "source": [
    "# # boundaries of the selected bounding box\n",
    "box_name = 'Conus'\n",
    "solat = 22    # south bound\n",
    "nolat = 50    # north\n",
    "welon = -130  # west\n",
    "ealon = - 60   # east"
   ]
  },
  {
   "cell_type": "code",
   "execution_count": 3,
   "metadata": {},
   "outputs": [],
   "source": [
    "outdir  = os.path.join('..', 'data', 'tmpa_conus_data')\n",
    "datadir  = os.path.join('..', 'data', 'tmpa_raw_data')"
   ]
  },
  {
   "cell_type": "code",
   "execution_count": 4,
   "metadata": {},
   "outputs": [
    {
     "name": "stdout",
     "output_type": "stream",
     "text": [
      "Number of files:  7647\n"
     ]
    }
   ],
   "source": [
    "chnunkshape = (1, 1, 1000)\n",
    "start_time  = time.time() # track execution time\n",
    "filenames   = sorted([f for f in os.listdir(datadir) if f.endswith('.HDF')], \n",
    "                key = lambda name: name[5:13]+name[14:16])\n",
    "# filenames = filenames[:1000:]\n",
    "numfiles    = np.size(filenames)\n",
    "print('Number of files: ', numfiles)"
   ]
  },
  {
   "cell_type": "code",
   "execution_count": 5,
   "metadata": {},
   "outputs": [],
   "source": [
    "lat    = np.arange(-49.875, 49.876, 0.25) # South to North\n",
    "lon   = np.arange(-179.875, 179.876, 0.25) # West to East\n",
    "nlon        = np.size(lon)\n",
    "nlat        = np.size(lat)"
   ]
  },
  {
   "cell_type": "code",
   "execution_count": 6,
   "metadata": {},
   "outputs": [],
   "source": [
    "# mask arrays for selected  bounding box\n",
    "bblat = np.logical_and(lat >= solat, lat <= nolat)\n",
    "bblon = np.logical_and(lon >= welon, lon <= ealon)\n",
    "\n",
    "boxlat = lat[bblat]\n",
    "boxlon = lon[bblon]\n",
    "\n",
    "boxx = np.arange(nlon, dtype=int)[bblon]\n",
    "boxy = np.arange(nlat, dtype=int)[bblat]\n",
    "\n",
    "nblat = np.size(boxy)\n",
    "nblon = np.size(boxx)"
   ]
  },
  {
   "cell_type": "code",
   "execution_count": 7,
   "metadata": {},
   "outputs": [
    {
     "name": "stdout",
     "output_type": "stream",
     "text": [
      "3B42.20090425.12.7A.HDF\n",
      "3B42.20090425.21.7A.HDF\n",
      "3B42.20090426.06.7A.HDF\n",
      "3B42.20090426.12.7A.HDF\n",
      "3B42.20090427.09.7A.HDF\n",
      "3B42.20090427.12.7A.HDF\n",
      "3B42.20090427.15.7A.HDF\n",
      "3B42.20090428.00.7A.HDF\n",
      "3B42.20090428.06.7A.HDF\n",
      "3B42.20090428.12.7A.HDF\n",
      "3B42.20090428.15.7A.HDF\n",
      "3B42.20090428.18.7A.HDF\n",
      "3B42.20090428.21.7A.HDF\n",
      "3B42.20090429.00.7A.HDF\n",
      "3B42.20090429.18.7A.HDF\n",
      "3B42.20090429.21.7A.HDF\n",
      "3B42.20090430.03.7A.HDF\n",
      "3B42.20090430.06.7A.HDF\n",
      "3B42.20090501.00.7A.HDF\n",
      "3B42.20090503.21.7A.HDF\n",
      "3B42.20090504.00.7A.HDF\n",
      "3B42.20090505.00.7A.HDF\n",
      "3B42.20090505.03.7A.HDF\n",
      "3B42.20090505.06.7A.HDF\n",
      "3B42.20090506.00.7A.HDF\n",
      "3B42.20090506.03.7A.HDF\n",
      "3B42.20090513.21.7A.HDF\n",
      "3B42.20090514.00.7A.HDF\n",
      "3B42.20090515.00.7A.HDF\n",
      "extract_bounding_box:\n",
      "---execution time was 27.52599881887436 minutes ---\n"
     ]
    }
   ],
   "source": [
    "with h5py.File( os.path.join(outdir, 'data_tmpa_3h.hdf5'), 'w') as f:\n",
    "    for tt in range(numfiles):\n",
    "        # print(tt, filenames[tt])\n",
    "        try:\n",
    "            # read\n",
    "            fullname = os.path.join(datadir, filenames[tt])\n",
    "            hdf      = SD(fullname, SDC.READ)\n",
    "\n",
    "            # read only prcp over conus\n",
    "            prcpmat_rates = hdf.select('precipitation')[int(boxx[0]):int(\n",
    "                                    boxx[-1]+1), int(boxy[0]):int(boxy[-1]+1)]\n",
    "            prcpmat = prcpmat_rates*3 # accumulations\n",
    "            if tt == 0:\n",
    "                dset = f.create_dataset('prcp', (nblon, nblat, numfiles),\n",
    "                                            chunks = chnunkshape , dtype = 'f')\n",
    "                dset[ :,:, tt] = prcpmat # save accumulations\n",
    "\n",
    "                dset2 = f.create_dataset('lat', (nblat,), dtype = 'f')\n",
    "                dset2[:] = boxlat\n",
    "                dset3 = f.create_dataset('lon', (nblon,), dtype = 'f')\n",
    "                dset3[:] = boxlon\n",
    "                dset4 = f.create_dataset('dates', (numfiles,), dtype = 'int32')\n",
    "                # dset4[:] = hours\n",
    "                dset4[tt]=int(filenames[tt][5:13])\n",
    "                dset5 = f.create_dataset('hours', (numfiles,), dtype = 'int32')\n",
    "                # dset5[:] = dates\n",
    "                dset5[tt]=int(filenames[tt][14:16])\n",
    "                dset.attrs['north_bound'] = nolat\n",
    "                dset.attrs['south_bound'] = solat\n",
    "                dset.attrs['west_bound'] = welon\n",
    "                dset.attrs['east_bound'] = ealon\n",
    "                dset.attrs['start_date'] =filenames[0][5:13]\n",
    "                dset.attrs['start_time'] =filenames[0][14:16]\n",
    "                dset.attrs['end_date'] =filenames[-1][5:13]\n",
    "                dset.attrs['end_time'] =filenames[-1][14:16]\n",
    "                dset.attrs['variable'] = 'PRCP 3-hr ACCUMULATION [mm]'\n",
    "                dset.attrs['time_res'] = '3h'\n",
    "                dset.attrs['space_res'] = '0.25deg'\n",
    "                dset.attrs['chunks_shape'] = '1x1x1000'\n",
    "                dset.attrs['first_corner'] = 'south_west as in original dataset'\n",
    "                dset.attrs['rows'] = 'longitude (as in the original TMPA dataset)'\n",
    "                dset.attrs['cols'] = 'latitude (as in the original TMPA datset)'\n",
    "                # print(dset.shape)\n",
    "            else:\n",
    "                dset[ :,:, tt] = prcpmat\n",
    "                dset4[tt]=int(filenames[tt][5:13])\n",
    "                dset5[tt]=int(filenames[tt][14:16])\n",
    "        \n",
    "        except:\n",
    "            print(filenames[tt])\n",
    "\n",
    "# TIME of EXECUTION of the script\n",
    "execution_time = time.time() - start_time\n",
    "print()\n",
    "print('extract_bounding_box:')\n",
    "print(\"execution time was %s minutes\" % (round(execution_time/60,2)))"
   ]
  },
  {
   "cell_type": "code",
   "execution_count": null,
   "metadata": {},
   "outputs": [],
   "source": []
  }
 ],
 "metadata": {
  "kernelspec": {
   "display_name": "AXE",
   "language": "python",
   "name": "python3"
  },
  "language_info": {
   "codemirror_mode": {
    "name": "ipython",
    "version": 3
   },
   "file_extension": ".py",
   "mimetype": "text/x-python",
   "name": "python",
   "nbconvert_exporter": "python",
   "pygments_lexer": "ipython3",
   "version": "3.12.2"
  }
 },
 "nbformat": 4,
 "nbformat_minor": 2
}
