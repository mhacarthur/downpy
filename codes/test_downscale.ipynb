{
 "cells": [
  {
   "cell_type": "code",
   "execution_count": 1,
   "metadata": {},
   "outputs": [],
   "source": [
    "from datetime import datetime\n",
    "import dask.array as da\n",
    "import os\n",
    "import time\n",
    "import h5py\n",
    "import numpy as np\n",
    "import xarray as xr\n",
    "import downscale as down\n",
    "import matplotlib.pyplot as plt\n",
    "\n",
    "import cartopy\n",
    "import cartopy.feature as cf\n",
    "import cartopy.crs as ccrs\n",
    "import cartopy.feature as cfeature\n",
    "import cartopy.io.shapereader as shpreader\n",
    "\n",
    "import matplotlib.pyplot as plt\n",
    "import matplotlib.patches as mpatches\n",
    "import matplotlib.gridspec as gridspec"
   ]
  },
  {
   "cell_type": "code",
   "execution_count": 2,
   "metadata": {},
   "outputs": [],
   "source": [
    "# down.matplotlib_update_settings()"
   ]
  },
  {
   "cell_type": "code",
   "execution_count": 3,
   "metadata": {},
   "outputs": [],
   "source": [
    "def extract_sample_data(inputfile, outputfile,\n",
    "                        clat=34.875, clon=-98.125, npix=3, dx=0.25):\n",
    "    '''------------------------------------------------------------------------\n",
    "    Extract a given bounding box centered in (clat, clon) with size npix\n",
    "    grid cells from an input hdf file\n",
    "    and save it as nc dataset for further analysis\n",
    "    ------------------------------------------------------------------------'''\n",
    "    # f = h5py.File(os.path.join(cdat.tmpa_dir, 'data_tmpa_3h.hdf5'), \"r\")\n",
    "    f = h5py.File(inputfile, \"r\")\n",
    "    # print(list(f.keys()))\n",
    "    # print(list(f.attrs()))\n",
    "    tmpalat = f['lat'][:]\n",
    "    tmpalon = f['lon'][:]\n",
    "    dates_int = f['dates'][:]\n",
    "    hours_int = f['hours'][:]\n",
    "    dset = f['prcp']\n",
    "    print('dataset shape = {}'.format(dset.shape)) # too large to fit in memory!\n",
    "    x = da.from_array(dset, chunks=(6, 6, 300))\n",
    "    # UTC time\n",
    "    dates = [datetime.strptime(str(integd)+str(inthour), '%Y%m%d%H')\n",
    "                    for integd, inthour in zip(dates_int, hours_int)]\n",
    "    # create xarray\n",
    "    xrs0 = xr.DataArray(x,  coords={'lon':tmpalon, 'lat':tmpalat, 'time':dates},\n",
    "                                                    dims=('lon', 'lat', 'time'))\n",
    "    # set negative values to NaN (missing values)\n",
    "    xrs = xrs0.where(xrs0 >= -0.001)\n",
    "    # now extract a bounding box of interest:\n",
    "    # clat = 34.875\n",
    "    # clon = -98.125\n",
    "    # dx = 0.25\n",
    "    # npix = 3\n",
    "    buffer = 0.50*npix*dx\n",
    "    eps = 1e-4 # to make sure to include boundaires -> add an eps buffer\n",
    "    # eps = 0 # to make sure to include boundaires -> add an eps buffer\n",
    "    solat = clat - buffer + eps\n",
    "    nolat = clat + buffer + eps\n",
    "    ealon = clon + buffer + eps\n",
    "    welon = clon - buffer + eps\n",
    "    bcond = np.logical_and(\n",
    "                np.logical_and( xrs.lat > solat, xrs.lat < nolat),\n",
    "                np.logical_and( xrs.lon > welon, xrs.lon < ealon))\n",
    "    # XARRAY WITH VALUES LOADED IN MEMORY\n",
    "    box_3h = xrs.where(bcond, drop = True).load()\n",
    "    print(box_3h.shape)\n",
    "    box_3h.to_netcdf(outputfile)"
   ]
  },
  {
   "cell_type": "code",
   "execution_count": 4,
   "metadata": {},
   "outputs": [
    {
     "name": "stdout",
     "output_type": "stream",
     "text": [
      "dataset shape = (280, 112, 2433)\n",
      "(3, 3, 2433)\n"
     ]
    }
   ],
   "source": [
    "extract_box = True # do it only once\n",
    "# inputfile = os.path.join('..', cdat.tmpa_dir, 'data_tmpa_3h.hdf5')\n",
    "tmpa_dir = os.path.join('..', 'data', 'tmpa_conus_data')\n",
    "inputfile = os.path.join(tmpa_dir, 'data_tmpa_3h.hdf5')\n",
    "outputdir = os.path.join('..', 'data', 'sample_data')\n",
    "if not os.path.exists(outputdir):\n",
    "    os.makedirs(outputdir)\n",
    "# outputfile = os.path.join('..', 'sample_data','okla.nc')\n",
    "outputfile = os.path.join(outputdir,'okla.nc')\n",
    "clat = 34.875\n",
    "clon = -98.125\n",
    "dx = 0.25\n",
    "npix = 3\n",
    "if extract_box:\n",
    "    extract_sample_data(inputfile, outputfile,\n",
    "                        clat=clat, clon=clon, npix=npix,dx=dx)"
   ]
  },
  {
   "cell_type": "code",
   "execution_count": 5,
   "metadata": {},
   "outputs": [],
   "source": [
    "# box_3h = xr.open_dataset(outputfile)\n",
    "box_3h = xr.open_dataarray(outputfile)\n",
    "Tr = 100\n",
    "\n",
    "res = {}  # initialize dictionary for storing results"
   ]
  },
  {
   "cell_type": "code",
   "execution_count": 6,
   "metadata": {},
   "outputs": [],
   "source": [
    "DATA = h5py.File(inputfile, \"r\")\n",
    "ALL_lat = DATA['lat'][:]\n",
    "ALL_lon = DATA['lon'][:]\n",
    "lon2d, lat2d = np.meshgrid(ALL_lon, ALL_lat)\n",
    "del DATA\n",
    "\n",
    "lon2d_box, lat2d_box = np.meshgrid(box_3h['lon'], box_3h['lat'])"
   ]
  },
  {
   "cell_type": "code",
   "execution_count": 7,
   "metadata": {},
   "outputs": [
    {
     "name": "stderr",
     "output_type": "stream",
     "text": [
      "/home/arturo/anaconda3/envs/AXE/lib/python3.12/site-packages/cartopy/mpl/feature_artist.py:144: UserWarning: facecolor will have no effect as it has been defined as \"never\".\n",
      "  warnings.warn('facecolor will have no effect as it has been '\n"
     ]
    },
    {
     "data": {
      "text/plain": [
       "<matplotlib.collections.PathCollection at 0x7d4007936780>"
      ]
     },
     "execution_count": 7,
     "metadata": {},
     "output_type": "execute_result"
    },
    {
     "data": {
      "image/png": "[encoded data removed]",
      "text/plain": [
       "<Figure size 1500x1500 with 1 Axes>"
      ]
     },
     "metadata": {},
     "output_type": "display_data"
    }
   ],
   "source": [
    "proj = ccrs.PlateCarree()\n",
    "\n",
    "fig = plt.figure(figsize=(5,5),dpi=300)\n",
    "gs = gridspec.GridSpec(1,1)\n",
    "\n",
    "# =======================================================================================================\n",
    "ax1 = plt.subplot(gs[0, 0], projection = proj)\n",
    "ax1.add_feature(cf.COASTLINE,linewidth=0.3,color='grey')\n",
    "ax1.add_feature(cf.BORDERS,linewidth=0.3,color='grey')\n",
    "\n",
    "ax1.set_extent([-100, -95, 33, 36], crs=proj)\n",
    "\n",
    "ax1.scatter(clon,clat,s=10, color='r')\n",
    "ax1.scatter(lon2d_box, lat2d_box,s=4, color='b')\n",
    "ax1.scatter(lon2d, lat2d ,s=0.5, color='k')"
   ]
  },
  {
   "cell_type": "code",
   "execution_count": 8,
   "metadata": {},
   "outputs": [
    {
     "name": "stdout",
     "output_type": "stream",
     "text": [
      "Example: running the downscaling function\n",
      "Downscaling Intermittency\n"
     ]
    },
    {
     "name": "stderr",
     "output_type": "stream",
     "text": [
      "/home/arturo/anaconda3/envs/AXE/lib/python3.12/site-packages/xarray/core/groupby.py:668: FutureWarning: 'H' is deprecated and will be removed in a future version, please use 'h' instead.\n",
      "  index_grouper = pd.Grouper(\n",
      "/home/arturo/anaconda3/envs/AXE/lib/python3.12/site-packages/xarray/core/groupby.py:668: FutureWarning: 'H' is deprecated and will be removed in a future version, please use 'h' instead.\n",
      "  index_grouper = pd.Grouper(\n",
      "/home/arturo/anaconda3/envs/AXE/lib/python3.12/site-packages/xarray/core/groupby.py:668: FutureWarning: 'H' is deprecated and will be removed in a future version, please use 'h' instead.\n",
      "  index_grouper = pd.Grouper(\n",
      "/home/arturo/anaconda3/envs/AXE/lib/python3.12/site-packages/xarray/core/groupby.py:668: FutureWarning: 'H' is deprecated and will be removed in a future version, please use 'h' instead.\n",
      "  index_grouper = pd.Grouper(\n",
      "/home/arturo/anaconda3/envs/AXE/lib/python3.12/site-packages/xarray/core/groupby.py:668: FutureWarning: 'H' is deprecated and will be removed in a future version, please use 'h' instead.\n",
      "  index_grouper = pd.Grouper(\n",
      "/home/arturo/anaconda3/envs/AXE/lib/python3.12/site-packages/xarray/core/groupby.py:668: FutureWarning: 'H' is deprecated and will be removed in a future version, please use 'h' instead.\n",
      "  index_grouper = pd.Grouper(\n",
      "/home/arturo/anaconda3/envs/AXE/lib/python3.12/site-packages/xarray/core/groupby.py:668: FutureWarning: 'H' is deprecated and will be removed in a future version, please use 'h' instead.\n",
      "  index_grouper = pd.Grouper(\n",
      "/home/arturo/anaconda3/envs/AXE/lib/python3.12/site-packages/xarray/core/groupby.py:668: FutureWarning: 'H' is deprecated and will be removed in a future version, please use 'h' instead.\n",
      "  index_grouper = pd.Grouper(\n",
      "/home/arturo/anaconda3/envs/AXE/lib/python3.12/site-packages/xarray/core/groupby.py:668: FutureWarning: 'H' is deprecated and will be removed in a future version, please use 'h' instead.\n",
      "  index_grouper = pd.Grouper(\n",
      "/home/arturo/anaconda3/envs/AXE/lib/python3.12/site-packages/xarray/core/groupby.py:668: FutureWarning: 'H' is deprecated and will be removed in a future version, please use 'h' instead.\n",
      "  index_grouper = pd.Grouper(\n",
      "/home/arturo/anaconda3/envs/AXE/lib/python3.12/site-packages/xarray/core/groupby.py:668: FutureWarning: 'H' is deprecated and will be removed in a future version, please use 'h' instead.\n",
      "  index_grouper = pd.Grouper(\n"
     ]
    },
    {
     "name": "stdout",
     "output_type": "stream",
     "text": [
      "Downscaling the correlation\n",
      "Computing the correlation\n",
      "differential_evolution step 1: f(x)= 0.0028012539959308036\n",
      "differential_evolution step 2: f(x)= 0.002574521928473828\n",
      "differential_evolution step 3: f(x)= 0.0014528018152017218\n",
      "Polishing solution with 'L-BFGS-B'\n",
      "integration domain is zero\n",
      "Downscaling pdf - global Weibull parameters\n",
      "[67.]\n",
      "[12.68544449]\n",
      "[0.83916238]\n",
      "Downscaling pdf - yearly Weibull parameters\n",
      "[56.]\n",
      "[12.68149908]\n",
      "[0.83875668]\n",
      "Downscaling, execution time was = 1.423258908589681 minutes\n"
     ]
    }
   ],
   "source": [
    "# downscaling:\n",
    "print('Example: running the downscaling function')\n",
    "init_time = time.time()\n",
    "downres = down.downscale(box_3h, Tr, thresh=1.0, L0=0.0001, toll=0.005,\n",
    "                            acf='mar', save_yearly=True,\n",
    "                            maxmiss=300, clat=clat, clon=clon,\n",
    "                            opt_method='genetic', plot=True)#maxmiss=36\n",
    "end_time = time.time()\n",
    "exec_time = end_time - init_time\n",
    "print('Downscaling, execution time was = {} minutes'.format(exec_time/60))"
   ]
  },
  {
   "cell_type": "code",
   "execution_count": 10,
   "metadata": {},
   "outputs": [
    {
     "data": {
      "text/plain": [
       "{'NYs': array([60.]),\n",
       " 'CYs': array([11.79931403]),\n",
       " 'WYs': array([0.82803848]),\n",
       " 'NYd': array([56.]),\n",
       " 'CYd': array([12.68149908]),\n",
       " 'WYd': array([0.83875668]),\n",
       " 'Tr': 100,\n",
       " 'mev_d': 166.52222327754822,\n",
       " 'mev_s': 161.75412129498486,\n",
       " 'gam_d': 0.95048589218289,\n",
       " 'gam_s': 0.9646652936895838,\n",
       " 'beta': 1.0657762542861011,\n",
       " 'Nd': 67.0,\n",
       " 'Cd': 12.685444494659366,\n",
       " 'Wd': 0.8391623780956292,\n",
       " 'Ns': 71,\n",
       " 'Cs': 11.7993140329166,\n",
       " 'Ws': 0.8280384818656508,\n",
       " 'eps_s': 308.7325718827982,\n",
       " 'alp_s': 0.8488013034394477,\n",
       " 'eps_d': 40.25877808847465,\n",
       " 'alp_d': 0.1565091945903546,\n",
       " 'corr_down_success': True,\n",
       " 'corr_down_funval': 0.0014412772140475398,\n",
       " 'w_down_funval': 8.788525462932739e-13,\n",
       " 'thresh': 1.0,\n",
       " 'clat': 34.875,\n",
       " 'clon': -98.125,\n",
       " 'corr_plot': <Figure size 640x480 with 1 Axes>,\n",
       " 'Taylor_contour': <Figure size 640x480 with 2 Axes>}"
      ]
     },
     "execution_count": 10,
     "metadata": {},
     "output_type": "execute_result"
    }
   ],
   "source": [
    "downres"
   ]
  },
  {
   "cell_type": "code",
   "execution_count": null,
   "metadata": {},
   "outputs": [],
   "source": []
  },
  {
   "cell_type": "code",
   "execution_count": null,
   "metadata": {},
   "outputs": [],
   "source": []
  }
 ],
 "metadata": {
  "kernelspec": {
   "display_name": "AXE",
   "language": "python",
   "name": "python3"
  },
  "language_info": {
   "codemirror_mode": {
    "name": "ipython",
    "version": 3
   },
   "file_extension": ".py",
   "mimetype": "text/x-python",
   "name": "python",
   "nbconvert_exporter": "python",
   "pygments_lexer": "ipython3",
   "version": "3.1.undefined"
  }
 },
 "nbformat": 4,
 "nbformat_minor": 2
}
