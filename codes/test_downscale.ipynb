{
 "cells": [
  {
   "cell_type": "code",
   "execution_count": 1,
   "metadata": {},
   "outputs": [],
   "source": [
    "from datetime import datetime\n",
    "import dask.array as da\n",
    "import os\n",
    "import time\n",
    "import h5py\n",
    "import numpy as np\n",
    "import xarray as xr\n",
    "import downscale as down\n",
    "import matplotlib.pyplot as plt"
   ]
  },
  {
   "cell_type": "code",
   "execution_count": 4,
   "metadata": {},
   "outputs": [],
   "source": [
    "# down.matplotlib_update_settings()"
   ]
  },
  {
   "cell_type": "code",
   "execution_count": 5,
   "metadata": {},
   "outputs": [],
   "source": [
    "def extract_sample_data(inputfile, outputfile,\n",
    "                        clat=34.875, clon=-98.125, npix=3, dx=0.25):\n",
    "    '''------------------------------------------------------------------------\n",
    "    Extract a given bounding box centered in (clat, clon) with size npix\n",
    "    grid cells from an input hdf file\n",
    "    and save it as nc dataset for further analysis\n",
    "    ------------------------------------------------------------------------'''\n",
    "    # f = h5py.File(os.path.join(cdat.tmpa_dir, 'data_tmpa_3h.hdf5'), \"r\")\n",
    "    f = h5py.File(inputfile, \"r\")\n",
    "    # print(list(f.keys()))\n",
    "    # print(list(f.attrs()))\n",
    "    tmpalat = f['lat'][:]\n",
    "    tmpalon = f['lon'][:]\n",
    "    dates_int = f['dates'][:]\n",
    "    hours_int = f['hours'][:]\n",
    "    dset = f['prcp']\n",
    "    print('dataset shape = {}'.format(dset.shape)) # too large to fit in memory!\n",
    "    x = da.from_array(dset, chunks=(6, 6, 300))\n",
    "    # UTC time\n",
    "    dates = [datetime.strptime(str(integd)+str(inthour), '%Y%m%d%H')\n",
    "                    for integd, inthour in zip(dates_int, hours_int)]\n",
    "    # create xarray\n",
    "    xrs0 = xr.DataArray(x,  coords={'lon':tmpalon, 'lat':tmpalat, 'time':dates},\n",
    "                                                    dims=('lon', 'lat', 'time'))\n",
    "    # set negative values to NaN (missing values)\n",
    "    xrs = xrs0.where(xrs0 >= -0.001)\n",
    "    # now extract a bounding box of interest:\n",
    "    # clat = 34.875\n",
    "    # clon = -98.125\n",
    "    # dx = 0.25\n",
    "    # npix = 3\n",
    "    buffer = 0.50*npix*dx\n",
    "    eps = 1e-4 # to make sure to include boundaires -> add an eps buffer\n",
    "    # eps = 0 # to make sure to include boundaires -> add an eps buffer\n",
    "    solat = clat - buffer + eps\n",
    "    nolat = clat + buffer + eps\n",
    "    ealon = clon + buffer + eps\n",
    "    welon = clon - buffer + eps\n",
    "    bcond = np.logical_and(\n",
    "                np.logical_and( xrs.lat > solat, xrs.lat < nolat),\n",
    "                np.logical_and( xrs.lon > welon, xrs.lon < ealon))\n",
    "    # XARRAY WITH VALUES LOADED IN MEMORY\n",
    "    box_3h = xrs.where(bcond, drop = True).load()\n",
    "    print(box_3h.shape)\n",
    "    box_3h.to_netcdf(outputfile)"
   ]
  },
  {
   "cell_type": "code",
   "execution_count": 6,
   "metadata": {},
   "outputs": [
    {
     "ename": "FileNotFoundError",
     "evalue": "[Errno 2] Unable to synchronously open file (unable to open file: name = '../data/tmpa_conus_data/data_tmpa_3h.hdf5', errno = 2, error message = 'No such file or directory', flags = 0, o_flags = 0)",
     "output_type": "error",
     "traceback": [
      "\u001b[0;31m---------------------------------------------------------------------------\u001b[0m",
      "\u001b[0;31mFileNotFoundError\u001b[0m                         Traceback (most recent call last)",
      "Cell \u001b[0;32mIn[6], line 15\u001b[0m\n\u001b[1;32m     13\u001b[0m npix \u001b[38;5;241m=\u001b[39m \u001b[38;5;241m3\u001b[39m\n\u001b[1;32m     14\u001b[0m \u001b[38;5;28;01mif\u001b[39;00m extract_box:\n\u001b[0;32m---> 15\u001b[0m     extract_sample_data(inputfile, outputfile,\n\u001b[1;32m     16\u001b[0m                         clat\u001b[38;5;241m=\u001b[39mclat, clon\u001b[38;5;241m=\u001b[39mclon, npix\u001b[38;5;241m=\u001b[39mnpix,dx\u001b[38;5;241m=\u001b[39mdx)\n",
      "Cell \u001b[0;32mIn[5], line 9\u001b[0m, in \u001b[0;36mextract_sample_data\u001b[0;34m(inputfile, outputfile, clat, clon, npix, dx)\u001b[0m\n\u001b[1;32m      3\u001b[0m \u001b[38;5;250m\u001b[39m\u001b[38;5;124;03m'''------------------------------------------------------------------------\u001b[39;00m\n\u001b[1;32m      4\u001b[0m \u001b[38;5;124;03mExtract a given bounding box centered in (clat, clon) with size npix\u001b[39;00m\n\u001b[1;32m      5\u001b[0m \u001b[38;5;124;03mgrid cells from an input hdf file\u001b[39;00m\n\u001b[1;32m      6\u001b[0m \u001b[38;5;124;03mand save it as nc dataset for further analysis\u001b[39;00m\n\u001b[1;32m      7\u001b[0m \u001b[38;5;124;03m------------------------------------------------------------------------'''\u001b[39;00m\n\u001b[1;32m      8\u001b[0m \u001b[38;5;66;03m# f = h5py.File(os.path.join(cdat.tmpa_dir, 'data_tmpa_3h.hdf5'), \"r\")\u001b[39;00m\n\u001b[0;32m----> 9\u001b[0m f \u001b[38;5;241m=\u001b[39m h5py\u001b[38;5;241m.\u001b[39mFile(inputfile, \u001b[38;5;124m\"\u001b[39m\u001b[38;5;124mr\u001b[39m\u001b[38;5;124m\"\u001b[39m)\n\u001b[1;32m     10\u001b[0m \u001b[38;5;66;03m# print(list(f.keys()))\u001b[39;00m\n\u001b[1;32m     11\u001b[0m \u001b[38;5;66;03m# print(list(f.attrs()))\u001b[39;00m\n\u001b[1;32m     12\u001b[0m tmpalat \u001b[38;5;241m=\u001b[39m f[\u001b[38;5;124m'\u001b[39m\u001b[38;5;124mlat\u001b[39m\u001b[38;5;124m'\u001b[39m][:]\n",
      "File \u001b[0;32m~/anaconda3/envs/AXE/lib/python3.12/site-packages/h5py/_hl/files.py:562\u001b[0m, in \u001b[0;36mFile.__init__\u001b[0;34m(self, name, mode, driver, libver, userblock_size, swmr, rdcc_nslots, rdcc_nbytes, rdcc_w0, track_order, fs_strategy, fs_persist, fs_threshold, fs_page_size, page_buf_size, min_meta_keep, min_raw_keep, locking, alignment_threshold, alignment_interval, meta_block_size, **kwds)\u001b[0m\n\u001b[1;32m    553\u001b[0m     fapl \u001b[38;5;241m=\u001b[39m make_fapl(driver, libver, rdcc_nslots, rdcc_nbytes, rdcc_w0,\n\u001b[1;32m    554\u001b[0m                      locking, page_buf_size, min_meta_keep, min_raw_keep,\n\u001b[1;32m    555\u001b[0m                      alignment_threshold\u001b[38;5;241m=\u001b[39malignment_threshold,\n\u001b[1;32m    556\u001b[0m                      alignment_interval\u001b[38;5;241m=\u001b[39malignment_interval,\n\u001b[1;32m    557\u001b[0m                      meta_block_size\u001b[38;5;241m=\u001b[39mmeta_block_size,\n\u001b[1;32m    558\u001b[0m                      \u001b[38;5;241m*\u001b[39m\u001b[38;5;241m*\u001b[39mkwds)\n\u001b[1;32m    559\u001b[0m     fcpl \u001b[38;5;241m=\u001b[39m make_fcpl(track_order\u001b[38;5;241m=\u001b[39mtrack_order, fs_strategy\u001b[38;5;241m=\u001b[39mfs_strategy,\n\u001b[1;32m    560\u001b[0m                      fs_persist\u001b[38;5;241m=\u001b[39mfs_persist, fs_threshold\u001b[38;5;241m=\u001b[39mfs_threshold,\n\u001b[1;32m    561\u001b[0m                      fs_page_size\u001b[38;5;241m=\u001b[39mfs_page_size)\n\u001b[0;32m--> 562\u001b[0m     fid \u001b[38;5;241m=\u001b[39m make_fid(name, mode, userblock_size, fapl, fcpl, swmr\u001b[38;5;241m=\u001b[39mswmr)\n\u001b[1;32m    564\u001b[0m \u001b[38;5;28;01mif\u001b[39;00m \u001b[38;5;28misinstance\u001b[39m(libver, \u001b[38;5;28mtuple\u001b[39m):\n\u001b[1;32m    565\u001b[0m     \u001b[38;5;28mself\u001b[39m\u001b[38;5;241m.\u001b[39m_libver \u001b[38;5;241m=\u001b[39m libver\n",
      "File \u001b[0;32m~/anaconda3/envs/AXE/lib/python3.12/site-packages/h5py/_hl/files.py:235\u001b[0m, in \u001b[0;36mmake_fid\u001b[0;34m(name, mode, userblock_size, fapl, fcpl, swmr)\u001b[0m\n\u001b[1;32m    233\u001b[0m     \u001b[38;5;28;01mif\u001b[39;00m swmr \u001b[38;5;129;01mand\u001b[39;00m swmr_support:\n\u001b[1;32m    234\u001b[0m         flags \u001b[38;5;241m|\u001b[39m\u001b[38;5;241m=\u001b[39m h5f\u001b[38;5;241m.\u001b[39mACC_SWMR_READ\n\u001b[0;32m--> 235\u001b[0m     fid \u001b[38;5;241m=\u001b[39m h5f\u001b[38;5;241m.\u001b[39mopen(name, flags, fapl\u001b[38;5;241m=\u001b[39mfapl)\n\u001b[1;32m    236\u001b[0m \u001b[38;5;28;01melif\u001b[39;00m mode \u001b[38;5;241m==\u001b[39m \u001b[38;5;124m'\u001b[39m\u001b[38;5;124mr+\u001b[39m\u001b[38;5;124m'\u001b[39m:\n\u001b[1;32m    237\u001b[0m     fid \u001b[38;5;241m=\u001b[39m h5f\u001b[38;5;241m.\u001b[39mopen(name, h5f\u001b[38;5;241m.\u001b[39mACC_RDWR, fapl\u001b[38;5;241m=\u001b[39mfapl)\n",
      "File \u001b[0;32mh5py/_objects.pyx:54\u001b[0m, in \u001b[0;36mh5py._objects.with_phil.wrapper\u001b[0;34m()\u001b[0m\n",
      "File \u001b[0;32mh5py/_objects.pyx:55\u001b[0m, in \u001b[0;36mh5py._objects.with_phil.wrapper\u001b[0;34m()\u001b[0m\n",
      "File \u001b[0;32mh5py/h5f.pyx:102\u001b[0m, in \u001b[0;36mh5py.h5f.open\u001b[0;34m()\u001b[0m\n",
      "\u001b[0;31mFileNotFoundError\u001b[0m: [Errno 2] Unable to synchronously open file (unable to open file: name = '../data/tmpa_conus_data/data_tmpa_3h.hdf5', errno = 2, error message = 'No such file or directory', flags = 0, o_flags = 0)"
     ]
    }
   ],
   "source": [
    "extract_box = True # do it only once\n",
    "# inputfile = os.path.join('..', cdat.tmpa_dir, 'data_tmpa_3h.hdf5')\n",
    "tmpa_dir = os.path.join('..', 'data', 'tmpa_conus_data')\n",
    "inputfile = os.path.join(tmpa_dir, 'data_tmpa_3h.hdf5')\n",
    "outputdir = os.path.join('..', 'data', 'sample_data')\n",
    "if not os.path.exists(outputdir):\n",
    "    os.makedirs(outputdir)\n",
    "# outputfile = os.path.join('..', 'sample_data','okla.nc')\n",
    "outputfile = os.path.join(outputdir,'okla.nc')\n",
    "clat = 34.875\n",
    "clon = -98.125\n",
    "dx = 0.25\n",
    "npix = 3\n",
    "if extract_box:\n",
    "    extract_sample_data(inputfile, outputfile,\n",
    "                        clat=clat, clon=clon, npix=npix,dx=dx)"
   ]
  },
  {
   "cell_type": "code",
   "execution_count": null,
   "metadata": {},
   "outputs": [],
   "source": []
  }
 ],
 "metadata": {
  "kernelspec": {
   "display_name": "AXE",
   "language": "python",
   "name": "python3"
  },
  "language_info": {
   "codemirror_mode": {
    "name": "ipython",
    "version": 3
   },
   "file_extension": ".py",
   "mimetype": "text/x-python",
   "name": "python",
   "nbconvert_exporter": "python",
   "pygments_lexer": "ipython3",
   "version": "3.1.undefined"
  }
 },
 "nbformat": 4,
 "nbformat_minor": 2
}
