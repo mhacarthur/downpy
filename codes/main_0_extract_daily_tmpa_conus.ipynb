{
 "cells": [
  {
   "cell_type": "code",
   "execution_count": 4,
   "metadata": {},
   "outputs": [],
   "source": [
    "import os\n",
    "import time\n",
    "import numpy as np\n",
    "# from pyhdf.SD import SD, SDC\n",
    "import h5py"
   ]
  },
  {
   "cell_type": "code",
   "execution_count": 8,
   "metadata": {},
   "outputs": [],
   "source": [
    "outdir  = os.path.join('..', 'data', 'tmpa_conus_data')\n",
    "start_time = time.time()\n",
    "\n",
    "onlyconus=True"
   ]
  },
  {
   "cell_type": "code",
   "execution_count": 9,
   "metadata": {},
   "outputs": [],
   "source": [
    "if onlyconus: # for CONUS domain\n",
    "    inputfile = 'data_tmpa_3h.hdf5'\n",
    "    outputfile = 'data_tmpa_daily.hdf5'\n",
    "else: # for WORLD domain\n",
    "    inputfile = 'data_tmpa_world_3h.hdf5'\n",
    "    outputfile = 'data_tmpa_world_daily.hdf5'"
   ]
  },
  {
   "cell_type": "code",
   "execution_count": 10,
   "metadata": {},
   "outputs": [
    {
     "name": "stdout",
     "output_type": "stream",
     "text": [
      "extract_bounding_box:\n",
      "---execution time was 0.835429068406423 minutes ---\n"
     ]
    }
   ],
   "source": [
    "with h5py.File( os.path.join(outdir, inputfile), 'r') as f:\n",
    "    trset = f['prcp']\n",
    "    mylat = f['lat'][:]\n",
    "    mylon = f['lon'][:]\n",
    "    alldates = f['dates'][:]\n",
    "    # also read and write attributes of interest\n",
    "    nb = trset.attrs['north_bound']\n",
    "    sb = trset.attrs['south_bound']\n",
    "    wb = trset.attrs['west_bound']\n",
    "    eb = trset.attrs['east_bound']\n",
    "    sd = trset.attrs['start_date']\n",
    "    ed = trset.attrs['end_date']\n",
    "    sr =  trset.attrs['space_res']\n",
    "    fc = trset.attrs['first_corner']\n",
    "    rows = trset.attrs['rows']\n",
    "    cols = trset.attrs['cols']\n",
    "\n",
    "    nblon = np.size(mylon)\n",
    "    nblat = np.size(mylat)\n",
    "\n",
    "    # we compute daily totals only where all 8 3-hr values are non -missing\n",
    "    # and otherwise mark the day with -9999\n",
    "    # note: data must be already in 3-hr accumulations\n",
    "    mydates = np.unique(alldates)\n",
    "    ndates = np.size(mydates)\n",
    "\n",
    "    with h5py.File( os.path.join(outdir,outputfile), 'w') as ff:\n",
    "        dset = ff.create_dataset('prcp', (nblon, nblat, ndates),\n",
    "                                        chunks = (1, 1, ndates) , dtype = 'f')\n",
    "        dset2 = ff.create_dataset('lat', (nblat,), dtype = 'f')\n",
    "        dset2[:] = mylat\n",
    "        dset3 = ff.create_dataset('lon', (nblon,), dtype = 'f')\n",
    "        dset3[:] = mylon\n",
    "        dset4 = ff.create_dataset('dates', (ndates,), dtype = 'int32')\n",
    "        dset4[:] = mydates\n",
    "\n",
    "        for ii in range(nblon):\n",
    "            for jj in range(nblat):\n",
    "                sample = trset[ii,jj,:]\n",
    "                daily = np.zeros(ndates)\n",
    "                for kk in range(ndates):\n",
    "                    mydate = mydates[kk]\n",
    "                    mysample = sample[alldates == mydate]\n",
    "                    non_missing = np.logical_and(mysample > -0.1, ~np.isnan(mysample) )\n",
    "                    mysample2 = mysample[non_missing]\n",
    "                    if np.size(mysample2) == 8:\n",
    "                        daily[kk] = np.sum(mysample2)\n",
    "                        # dset[ii,jj,kk] = np.sum(mysample2)\n",
    "                    else:\n",
    "                        daily[kk] = -9999\n",
    "                        # dset[ii,jj,kk] = -9999\n",
    "                dset[ii,jj,:] = daily\n",
    "\n",
    "        dset.attrs['north_bound'] = nb\n",
    "        dset.attrs['south_bound'] = sb\n",
    "        dset.attrs['west_bound'] = wb\n",
    "        dset.attrs['east_bound'] = eb\n",
    "        dset.attrs['start_date'] =sd\n",
    "        dset.attrs['end_date'] = ed\n",
    "        dset.attrs['variable'] = 'PRCP Daily Accumulation [mm/day]'\n",
    "        dset.attrs['time_res'] = 'daily'\n",
    "        dset.attrs['space_res'] = sr\n",
    "        dset.attrs['chunks_shape'] = '1 x 1 x ndates'\n",
    "        dset.attrs['first_corner'] = fc\n",
    "        dset.attrs['rows'] = rows\n",
    "        dset.attrs['cols'] = cols\n",
    "\n",
    "# TIME of EXECUTION of the script\n",
    "execution_time = time.time() - start_time\n",
    "print('extract_bounding_box:')\n",
    "print(\"---execution time was %s minutes ---\" % (execution_time/60))"
   ]
  },
  {
   "cell_type": "code",
   "execution_count": null,
   "metadata": {},
   "outputs": [],
   "source": []
  }
 ],
 "metadata": {
  "kernelspec": {
   "display_name": "AXE",
   "language": "python",
   "name": "python3"
  },
  "language_info": {
   "codemirror_mode": {
    "name": "ipython",
    "version": 3
   },
   "file_extension": ".py",
   "mimetype": "text/x-python",
   "name": "python",
   "nbconvert_exporter": "python",
   "pygments_lexer": "ipython3",
   "version": "3.12.2"
  }
 },
 "nbformat": 4,
 "nbformat_minor": 2
}
