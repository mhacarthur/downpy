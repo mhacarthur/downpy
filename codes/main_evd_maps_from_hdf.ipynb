{
 "cells": [
  {
   "cell_type": "code",
   "execution_count": 1,
   "metadata": {},
   "outputs": [],
   "source": [
    "import os\n",
    "import time\n",
    "import numpy as np\n",
    "import h5py\n",
    "import pandas as pd\n",
    "import conusfun as cfun\n",
    "import downscale as down\n",
    "from datetime import datetime\n",
    "import xarray as xr\n",
    "import dask.array as da\n",
    "\n",
    "import cartopy\n",
    "import cartopy.feature as cf\n",
    "import cartopy.crs as ccrs\n",
    "import cartopy.feature as cfeature\n",
    "import cartopy.io.shapereader as shpreader\n",
    "\n",
    "import matplotlib.pyplot as plt\n",
    "import matplotlib.patches as mpatches\n",
    "import matplotlib.gridspec as gridspec"
   ]
  },
  {
   "cell_type": "code",
   "execution_count": 2,
   "metadata": {},
   "outputs": [],
   "source": [
    "outdir  = os.path.join('..', 'data', 'tmpa_conus_data')\n",
    "start_time = time.time()"
   ]
  },
  {
   "cell_type": "code",
   "execution_count": 3,
   "metadata": {},
   "outputs": [],
   "source": [
    "# relevant quantities:\n",
    "# TODO: get them from conusfun\n",
    "thresh = cfun.pixelkwargs['thresh']\n",
    "maxmiss = cfun.pixelkwargs['maxmiss']\n",
    "TR = cfun.Tr\n",
    "domain = 'conus'\n",
    "outname = \"evd_conus_map_{}.hdf5\".format(domain)\n",
    "# land_sea_mask = os.path.join(cfun.tmpa_dir, 'TRMM_TMPA_LandSeaMask.2.nc4')"
   ]
  },
  {
   "cell_type": "code",
   "execution_count": 4,
   "metadata": {},
   "outputs": [
    {
     "name": "stdout",
     "output_type": "stream",
     "text": [
      "File: ../data/tmpa_conus_data/data_tmpa_daily.hdf5\n"
     ]
    }
   ],
   "source": [
    "# TODO: get them from conusfun\n",
    "if domain == 'conus':\n",
    "    nb = 50.0\n",
    "    sb = 22.0\n",
    "    eb = -60.0\n",
    "    wb = -130.0\n",
    "    tmpa_hdf_file = os.path.join(cfun.tmpa_dir, 'data_tmpa_daily.hdf5')\n",
    "elif domain == 'world':\n",
    "    nb = 50.0\n",
    "    sb = -50.0\n",
    "    eb = 180.0\n",
    "    wb = -180.0\n",
    "    tmpa_hdf_file = os.path.join(cfun.tmpa_dir, 'data_tmpa_world_daily.hdf5')\n",
    "else:\n",
    "    print('main_evd_maps ERROR:: must specify a valid domain!')\n",
    "\n",
    "print(f'File: {tmpa_hdf_file}')"
   ]
  },
  {
   "cell_type": "code",
   "execution_count": 5,
   "metadata": {},
   "outputs": [
    {
     "name": "stdout",
     "output_type": "stream",
     "text": [
      "['dates', 'lat', 'lon', 'prcp']\n"
     ]
    }
   ],
   "source": [
    "# read dask array with all daily precipitation data\n",
    "f = h5py.File(tmpa_hdf_file, \"r\")\n",
    "print(list(f.keys()))\n",
    "\n",
    "tmpalat = f['lat'][:]\n",
    "tmpalon = f['lon'][:]\n",
    "nlat = np.size(tmpalat)\n",
    "nlon = np.size(tmpalon)\n",
    "dates_int = f['dates'][:]\n",
    "# hours_int = f['hours'][:]\n",
    "dset = f['prcp']\n",
    "# print('dataset shape = {}'.format(dset.shape))\n",
    "x = da.from_array(dset, chunks=(6, 6, 300))\n",
    "# UTC time\n",
    "dates = [datetime.strptime(str(integd), '%Y%m%d') for integd in dates_int]\n",
    "xconus = xr.DataArray(x,\n",
    "        coords={'lon':tmpalon, 'lat':tmpalat, 'time':dates},\n",
    "        dims=('lon', 'lat', 'time'))\n",
    "xconus = xconus.where(xconus >= -0.001)\n",
    "### end reading prcp dataset ###"
   ]
  },
  {
   "cell_type": "code",
   "execution_count": 6,
   "metadata": {},
   "outputs": [
    {
     "name": "stdout",
     "output_type": "stream",
     "text": [
      "0\n"
     ]
    },
    {
     "name": "stderr",
     "output_type": "stream",
     "text": [
      "/home/arturo/github/downpy/codes/downscale.py:1345: RuntimeWarning: invalid value encountered in power\n",
      "  mev0f = np.sum( ( 1-np.exp(-(y/C)**W ))**N) - nyears*pr\n",
      "/home/arturo/github/downpy/codes/downscale.py:1345: RuntimeWarning: invalid value encountered in power\n",
      "  mev0f = np.sum( ( 1-np.exp(-(y/C)**W ))**N) - nyears*pr\n",
      "/home/arturo/github/downpy/codes/downscale.py:1345: RuntimeWarning: invalid value encountered in power\n",
      "  mev0f = np.sum( ( 1-np.exp(-(y/C)**W ))**N) - nyears*pr\n"
     ]
    },
    {
     "name": "stdout",
     "output_type": "stream",
     "text": [
      "mevd_quant:: ERROR - fsolve does not work -  change x0\n",
      "mevd_quant:: ERROR - fsolve does not work -  change x0\n",
      "mevd_quant:: ERROR - fsolve does not work -  change x0\n",
      "mevd_quant:: ERROR - fsolve does not work -  change x0\n",
      "mevd_quant:: ERROR - fsolve does not work -  change x0\n",
      "mevd_quant:: ERROR - fsolve does not work -  change x0\n",
      "mevd_quant:: ERROR - fsolve does not work -  change x0\n"
     ]
    },
    {
     "name": "stderr",
     "output_type": "stream",
     "text": [
      "/home/arturo/github/downpy/codes/downscale.py:1345: RuntimeWarning: invalid value encountered in power\n",
      "  mev0f = np.sum( ( 1-np.exp(-(y/C)**W ))**N) - nyears*pr\n",
      "/home/arturo/github/downpy/codes/downscale.py:1345: RuntimeWarning: invalid value encountered in power\n",
      "  mev0f = np.sum( ( 1-np.exp(-(y/C)**W ))**N) - nyears*pr\n",
      "/home/arturo/github/downpy/codes/downscale.py:1345: RuntimeWarning: invalid value encountered in power\n",
      "  mev0f = np.sum( ( 1-np.exp(-(y/C)**W ))**N) - nyears*pr\n"
     ]
    },
    {
     "name": "stdout",
     "output_type": "stream",
     "text": [
      "mevd_quant:: ERROR - fsolve does not work -  change x0\n",
      "mevd_quant:: ERROR - fsolve does not work -  change x0\n",
      "mevd_quant:: ERROR - fsolve does not work -  change x0\n",
      "mevd_quant:: ERROR - fsolve does not work -  change x0\n",
      "mevd_quant:: ERROR - fsolve does not work -  change x0\n",
      "mevd_quant:: ERROR - fsolve does not work -  change x0\n",
      "mevd_quant:: ERROR - fsolve does not work -  change x0\n",
      "mevd_quant:: ERROR - fsolve does not work -  change x0\n"
     ]
    },
    {
     "name": "stderr",
     "output_type": "stream",
     "text": [
      "/home/arturo/github/downpy/codes/downscale.py:1345: RuntimeWarning: invalid value encountered in power\n",
      "  mev0f = np.sum( ( 1-np.exp(-(y/C)**W ))**N) - nyears*pr\n",
      "/home/arturo/github/downpy/codes/downscale.py:1345: RuntimeWarning: invalid value encountered in power\n",
      "  mev0f = np.sum( ( 1-np.exp(-(y/C)**W ))**N) - nyears*pr\n",
      "/home/arturo/github/downpy/codes/downscale.py:1345: RuntimeWarning: invalid value encountered in power\n",
      "  mev0f = np.sum( ( 1-np.exp(-(y/C)**W ))**N) - nyears*pr\n",
      "/home/arturo/github/downpy/codes/downscale.py:1345: RuntimeWarning: invalid value encountered in power\n",
      "  mev0f = np.sum( ( 1-np.exp(-(y/C)**W ))**N) - nyears*pr\n",
      "/home/arturo/github/downpy/codes/downscale.py:1345: RuntimeWarning: invalid value encountered in power\n",
      "  mev0f = np.sum( ( 1-np.exp(-(y/C)**W ))**N) - nyears*pr\n"
     ]
    },
    {
     "name": "stdout",
     "output_type": "stream",
     "text": [
      "mevd_quant:: ERROR - fsolve does not work -  change x0\n",
      "mevd_quant:: ERROR - fsolve does not work -  change x0\n",
      "mevd_quant:: ERROR - fsolve does not work -  change x0\n",
      "mevd_quant:: ERROR - fsolve does not work -  change x0\n",
      "mevd_quant:: ERROR - fsolve does not work -  change x0\n",
      "mevd_quant:: ERROR - fsolve does not work -  change x0\n",
      "mevd_quant:: ERROR - fsolve does not work -  change x0\n",
      "mevd_quant:: ERROR - fsolve does not work -  change x0\n",
      "mevd_quant:: ERROR - fsolve does not work -  change x0\n",
      "mevd_quant:: ERROR - fsolve does not work -  change x0\n",
      "1\n"
     ]
    },
    {
     "name": "stderr",
     "output_type": "stream",
     "text": [
      "/home/arturo/github/downpy/codes/downscale.py:1345: RuntimeWarning: invalid value encountered in power\n",
      "  mev0f = np.sum( ( 1-np.exp(-(y/C)**W ))**N) - nyears*pr\n",
      "/home/arturo/github/downpy/codes/downscale.py:1345: RuntimeWarning: invalid value encountered in power\n",
      "  mev0f = np.sum( ( 1-np.exp(-(y/C)**W ))**N) - nyears*pr\n",
      "/home/arturo/github/downpy/codes/downscale.py:1345: RuntimeWarning: invalid value encountered in power\n",
      "  mev0f = np.sum( ( 1-np.exp(-(y/C)**W ))**N) - nyears*pr\n",
      "/home/arturo/github/downpy/codes/downscale.py:1345: RuntimeWarning: invalid value encountered in power\n",
      "  mev0f = np.sum( ( 1-np.exp(-(y/C)**W ))**N) - nyears*pr\n"
     ]
    },
    {
     "name": "stdout",
     "output_type": "stream",
     "text": [
      "mevd_quant:: ERROR - fsolve does not work -  change x0\n",
      "mevd_quant:: ERROR - fsolve does not work -  change x0\n",
      "mevd_quant:: ERROR - fsolve does not work -  change x0\n",
      "mevd_quant:: ERROR - fsolve does not work -  change x0\n",
      "mevd_quant:: ERROR - fsolve does not work -  change x0\n",
      "mevd_quant:: ERROR - fsolve does not work -  change x0\n",
      "mevd_quant:: ERROR - fsolve does not work -  change x0\n",
      "mevd_quant:: ERROR - fsolve does not work -  change x0\n",
      "mevd_quant:: ERROR - fsolve does not work -  change x0\n",
      "mevd_quant:: ERROR - fsolve does not work -  change x0\n",
      "mevd_quant:: ERROR - fsolve does not work -  change x0\n",
      "mevd_quant:: ERROR - fsolve does not work -  change x0\n"
     ]
    },
    {
     "name": "stderr",
     "output_type": "stream",
     "text": [
      "/home/arturo/github/downpy/codes/downscale.py:1345: RuntimeWarning: invalid value encountered in power\n",
      "  mev0f = np.sum( ( 1-np.exp(-(y/C)**W ))**N) - nyears*pr\n",
      "/home/arturo/github/downpy/codes/downscale.py:1345: RuntimeWarning: invalid value encountered in power\n",
      "  mev0f = np.sum( ( 1-np.exp(-(y/C)**W ))**N) - nyears*pr\n",
      "/home/arturo/github/downpy/codes/downscale.py:1345: RuntimeWarning: invalid value encountered in power\n",
      "  mev0f = np.sum( ( 1-np.exp(-(y/C)**W ))**N) - nyears*pr\n",
      "/home/arturo/github/downpy/codes/downscale.py:1345: RuntimeWarning: invalid value encountered in power\n",
      "  mev0f = np.sum( ( 1-np.exp(-(y/C)**W ))**N) - nyears*pr\n"
     ]
    },
    {
     "name": "stdout",
     "output_type": "stream",
     "text": [
      "mevd_quant:: ERROR - fsolve does not work -  change x0\n",
      "mevd_quant:: ERROR - fsolve does not work -  change x0\n",
      "mevd_quant:: ERROR - fsolve does not work -  change x0\n",
      "mevd_quant:: ERROR - fsolve does not work -  change x0\n",
      "mevd_quant:: ERROR - fsolve does not work -  change x0\n",
      "mevd_quant:: ERROR - fsolve does not work -  change x0\n",
      "mevd_quant:: ERROR - fsolve does not work -  change x0\n"
     ]
    },
    {
     "name": "stderr",
     "output_type": "stream",
     "text": [
      "/home/arturo/github/downpy/codes/downscale.py:1345: RuntimeWarning: invalid value encountered in power\n",
      "  mev0f = np.sum( ( 1-np.exp(-(y/C)**W ))**N) - nyears*pr\n",
      "/home/arturo/github/downpy/codes/downscale.py:1345: RuntimeWarning: invalid value encountered in power\n",
      "  mev0f = np.sum( ( 1-np.exp(-(y/C)**W ))**N) - nyears*pr\n"
     ]
    },
    {
     "name": "stdout",
     "output_type": "stream",
     "text": [
      "mevd_quant:: ERROR - fsolve does not work -  change x0\n",
      "mevd_quant:: ERROR - fsolve does not work -  change x0\n",
      "mevd_quant:: ERROR - fsolve does not work -  change x0\n",
      "2\n"
     ]
    },
    {
     "name": "stderr",
     "output_type": "stream",
     "text": [
      "/home/arturo/github/downpy/codes/downscale.py:1345: RuntimeWarning: invalid value encountered in power\n",
      "  mev0f = np.sum( ( 1-np.exp(-(y/C)**W ))**N) - nyears*pr\n",
      "/home/arturo/github/downpy/codes/downscale.py:1345: RuntimeWarning: invalid value encountered in power\n",
      "  mev0f = np.sum( ( 1-np.exp(-(y/C)**W ))**N) - nyears*pr\n",
      "/home/arturo/github/downpy/codes/downscale.py:1345: RuntimeWarning: invalid value encountered in power\n",
      "  mev0f = np.sum( ( 1-np.exp(-(y/C)**W ))**N) - nyears*pr\n",
      "/home/arturo/github/downpy/codes/downscale.py:1345: RuntimeWarning: invalid value encountered in power\n",
      "  mev0f = np.sum( ( 1-np.exp(-(y/C)**W ))**N) - nyears*pr\n",
      "/home/arturo/github/downpy/codes/downscale.py:1345: RuntimeWarning: invalid value encountered in power\n",
      "  mev0f = np.sum( ( 1-np.exp(-(y/C)**W ))**N) - nyears*pr\n"
     ]
    },
    {
     "name": "stdout",
     "output_type": "stream",
     "text": [
      "mevd_quant:: ERROR - fsolve does not work -  change x0\n",
      "mevd_quant:: ERROR - fsolve does not work -  change x0\n",
      "mevd_quant:: ERROR - fsolve does not work -  change x0\n",
      "mevd_quant:: ERROR - fsolve does not work -  change x0\n",
      "mevd_quant:: ERROR - fsolve does not work -  change x0\n",
      "mevd_quant:: ERROR - fsolve does not work -  change x0\n",
      "mevd_quant:: ERROR - fsolve does not work -  change x0\n",
      "mevd_quant:: ERROR - fsolve does not work -  change x0\n",
      "mevd_quant:: ERROR - fsolve does not work -  change x0\n",
      "mevd_quant:: ERROR - fsolve does not work -  change x0\n",
      "mevd_quant:: ERROR - fsolve does not work -  change x0\n"
     ]
    },
    {
     "name": "stderr",
     "output_type": "stream",
     "text": [
      "/home/arturo/github/downpy/codes/downscale.py:1345: RuntimeWarning: invalid value encountered in power\n",
      "  mev0f = np.sum( ( 1-np.exp(-(y/C)**W ))**N) - nyears*pr\n",
      "/home/arturo/github/downpy/codes/downscale.py:1345: RuntimeWarning: invalid value encountered in power\n",
      "  mev0f = np.sum( ( 1-np.exp(-(y/C)**W ))**N) - nyears*pr\n"
     ]
    },
    {
     "name": "stdout",
     "output_type": "stream",
     "text": [
      "mevd_quant:: ERROR - fsolve does not work -  change x0\n",
      "mevd_quant:: ERROR - fsolve does not work -  change x0\n",
      "mevd_quant:: ERROR - fsolve does not work -  change x0\n",
      "mevd_quant:: ERROR - fsolve does not work -  change x0\n",
      "mevd_quant:: ERROR - fsolve does not work -  change x0\n",
      "mevd_quant:: ERROR - fsolve does not work -  change x0\n",
      "mevd_quant:: ERROR - fsolve does not work -  change x0\n"
     ]
    },
    {
     "name": "stderr",
     "output_type": "stream",
     "text": [
      "/home/arturo/github/downpy/codes/downscale.py:1345: RuntimeWarning: invalid value encountered in power\n",
      "  mev0f = np.sum( ( 1-np.exp(-(y/C)**W ))**N) - nyears*pr\n",
      "/home/arturo/github/downpy/codes/downscale.py:1345: RuntimeWarning: invalid value encountered in power\n",
      "  mev0f = np.sum( ( 1-np.exp(-(y/C)**W ))**N) - nyears*pr\n",
      "/home/arturo/github/downpy/codes/downscale.py:1345: RuntimeWarning: invalid value encountered in power\n",
      "  mev0f = np.sum( ( 1-np.exp(-(y/C)**W ))**N) - nyears*pr\n"
     ]
    },
    {
     "name": "stdout",
     "output_type": "stream",
     "text": [
      "mevd_quant:: ERROR - fsolve does not work -  change x0\n",
      "mevd_quant:: ERROR - fsolve does not work -  change x0\n",
      "mevd_quant:: ERROR - fsolve does not work -  change x0\n",
      "mevd_quant:: ERROR - fsolve does not work -  change x0\n",
      "mevd_quant:: ERROR - fsolve does not work -  change x0\n"
     ]
    },
    {
     "name": "stderr",
     "output_type": "stream",
     "text": [
      "/home/arturo/github/downpy/codes/downscale.py:1345: RuntimeWarning: invalid value encountered in power\n",
      "  mev0f = np.sum( ( 1-np.exp(-(y/C)**W ))**N) - nyears*pr\n",
      "/home/arturo/github/downpy/codes/downscale.py:1345: RuntimeWarning: invalid value encountered in power\n",
      "  mev0f = np.sum( ( 1-np.exp(-(y/C)**W ))**N) - nyears*pr\n",
      "/home/arturo/github/downpy/codes/downscale.py:1345: RuntimeWarning: invalid value encountered in power\n",
      "  mev0f = np.sum( ( 1-np.exp(-(y/C)**W ))**N) - nyears*pr\n"
     ]
    },
    {
     "name": "stdout",
     "output_type": "stream",
     "text": [
      "mevd_quant:: ERROR - fsolve does not work -  change x0\n",
      "mevd_quant:: ERROR - fsolve does not work -  change x0\n",
      "mevd_quant:: ERROR - fsolve does not work -  change x0\n",
      "mevd_quant:: ERROR - fsolve does not work -  change x0\n",
      "mevd_quant:: ERROR - fsolve does not work -  change x0\n",
      "mevd_quant:: ERROR - fsolve does not work -  change x0\n",
      "mevd_quant:: ERROR - fsolve does not work -  change x0\n",
      "3\n"
     ]
    },
    {
     "name": "stderr",
     "output_type": "stream",
     "text": [
      "/home/arturo/github/downpy/codes/downscale.py:1345: RuntimeWarning: invalid value encountered in power\n",
      "  mev0f = np.sum( ( 1-np.exp(-(y/C)**W ))**N) - nyears*pr\n",
      "/home/arturo/github/downpy/codes/downscale.py:1345: RuntimeWarning: invalid value encountered in power\n",
      "  mev0f = np.sum( ( 1-np.exp(-(y/C)**W ))**N) - nyears*pr\n",
      "/home/arturo/github/downpy/codes/downscale.py:1345: RuntimeWarning: invalid value encountered in power\n",
      "  mev0f = np.sum( ( 1-np.exp(-(y/C)**W ))**N) - nyears*pr\n",
      "/home/arturo/github/downpy/codes/downscale.py:1345: RuntimeWarning: invalid value encountered in power\n",
      "  mev0f = np.sum( ( 1-np.exp(-(y/C)**W ))**N) - nyears*pr\n",
      "/home/arturo/github/downpy/codes/downscale.py:1345: RuntimeWarning: invalid value encountered in power\n",
      "  mev0f = np.sum( ( 1-np.exp(-(y/C)**W ))**N) - nyears*pr\n",
      "/home/arturo/github/downpy/codes/downscale.py:1345: RuntimeWarning: invalid value encountered in power\n",
      "  mev0f = np.sum( ( 1-np.exp(-(y/C)**W ))**N) - nyears*pr\n",
      "/home/arturo/github/downpy/codes/downscale.py:1345: RuntimeWarning: invalid value encountered in power\n",
      "  mev0f = np.sum( ( 1-np.exp(-(y/C)**W ))**N) - nyears*pr\n",
      "/home/arturo/github/downpy/codes/downscale.py:1345: RuntimeWarning: invalid value encountered in power\n",
      "  mev0f = np.sum( ( 1-np.exp(-(y/C)**W ))**N) - nyears*pr\n"
     ]
    },
    {
     "name": "stdout",
     "output_type": "stream",
     "text": [
      "mevd_quant:: ERROR - fsolve does not work -  change x0\n",
      "mevd_quant:: ERROR - fsolve does not work -  change x0\n",
      "mevd_quant:: ERROR - fsolve does not work -  change x0\n",
      "mevd_quant:: ERROR - fsolve does not work -  change x0\n",
      "mevd_quant:: ERROR - fsolve does not work -  change x0\n",
      "mevd_quant:: ERROR - fsolve does not work -  change x0\n",
      "mevd_quant:: ERROR - fsolve does not work -  change x0\n",
      "mevd_quant:: ERROR - fsolve does not work -  change x0\n",
      "mevd_quant:: ERROR - fsolve does not work -  change x0\n",
      "mevd_quant:: ERROR - fsolve does not work -  change x0\n",
      "mevd_quant:: ERROR - fsolve does not work -  change x0\n",
      "mevd_quant:: ERROR - fsolve does not work -  change x0\n",
      "mevd_quant:: ERROR - fsolve does not work -  change x0\n"
     ]
    },
    {
     "name": "stderr",
     "output_type": "stream",
     "text": [
      "/home/arturo/github/downpy/codes/downscale.py:1345: RuntimeWarning: invalid value encountered in power\n",
      "  mev0f = np.sum( ( 1-np.exp(-(y/C)**W ))**N) - nyears*pr\n"
     ]
    },
    {
     "name": "stdout",
     "output_type": "stream",
     "text": [
      "mevd_quant:: ERROR - fsolve does not work -  change x0\n",
      "mevd_quant:: ERROR - fsolve does not work -  change x0\n"
     ]
    },
    {
     "name": "stderr",
     "output_type": "stream",
     "text": [
      "/home/arturo/github/downpy/codes/downscale.py:1345: RuntimeWarning: invalid value encountered in power\n",
      "  mev0f = np.sum( ( 1-np.exp(-(y/C)**W ))**N) - nyears*pr\n"
     ]
    },
    {
     "name": "stdout",
     "output_type": "stream",
     "text": [
      "mevd_quant:: ERROR - fsolve does not work -  change x0\n"
     ]
    },
    {
     "name": "stderr",
     "output_type": "stream",
     "text": [
      "/home/arturo/github/downpy/codes/downscale.py:1345: RuntimeWarning: invalid value encountered in power\n",
      "  mev0f = np.sum( ( 1-np.exp(-(y/C)**W ))**N) - nyears*pr\n",
      "/home/arturo/github/downpy/codes/downscale.py:1345: RuntimeWarning: invalid value encountered in power\n",
      "  mev0f = np.sum( ( 1-np.exp(-(y/C)**W ))**N) - nyears*pr\n",
      "/home/arturo/github/downpy/codes/downscale.py:1345: RuntimeWarning: invalid value encountered in power\n",
      "  mev0f = np.sum( ( 1-np.exp(-(y/C)**W ))**N) - nyears*pr\n",
      "/home/arturo/github/downpy/codes/downscale.py:1345: RuntimeWarning: invalid value encountered in power\n",
      "  mev0f = np.sum( ( 1-np.exp(-(y/C)**W ))**N) - nyears*pr\n"
     ]
    },
    {
     "name": "stdout",
     "output_type": "stream",
     "text": [
      "mevd_quant:: ERROR - fsolve does not work -  change x0\n",
      "mevd_quant:: ERROR - fsolve does not work -  change x0\n",
      "mevd_quant:: ERROR - fsolve does not work -  change x0\n",
      "mevd_quant:: ERROR - fsolve does not work -  change x0\n",
      "mevd_quant:: ERROR - fsolve does not work -  change x0\n",
      "mevd_quant:: ERROR - fsolve does not work -  change x0\n",
      "mevd_quant:: ERROR - fsolve does not work -  change x0\n",
      "mevd_quant:: ERROR - fsolve does not work -  change x0\n",
      "mevd_quant:: ERROR - fsolve does not work -  change x0\n",
      "mevd_quant:: ERROR - fsolve does not work -  change x0\n",
      "mevd_quant:: ERROR - fsolve does not work -  change x0\n",
      "mevd_quant:: ERROR - fsolve does not work -  change x0\n",
      "4\n"
     ]
    },
    {
     "name": "stderr",
     "output_type": "stream",
     "text": [
      "/home/arturo/github/downpy/codes/downscale.py:1345: RuntimeWarning: invalid value encountered in power\n",
      "  mev0f = np.sum( ( 1-np.exp(-(y/C)**W ))**N) - nyears*pr\n",
      "/home/arturo/github/downpy/codes/downscale.py:1345: RuntimeWarning: invalid value encountered in power\n",
      "  mev0f = np.sum( ( 1-np.exp(-(y/C)**W ))**N) - nyears*pr\n",
      "/home/arturo/github/downpy/codes/downscale.py:1345: RuntimeWarning: invalid value encountered in power\n",
      "  mev0f = np.sum( ( 1-np.exp(-(y/C)**W ))**N) - nyears*pr\n",
      "/home/arturo/github/downpy/codes/downscale.py:1345: RuntimeWarning: invalid value encountered in power\n",
      "  mev0f = np.sum( ( 1-np.exp(-(y/C)**W ))**N) - nyears*pr\n",
      "/home/arturo/github/downpy/codes/downscale.py:1345: RuntimeWarning: invalid value encountered in power\n",
      "  mev0f = np.sum( ( 1-np.exp(-(y/C)**W ))**N) - nyears*pr\n",
      "/home/arturo/github/downpy/codes/downscale.py:1345: RuntimeWarning: invalid value encountered in power\n",
      "  mev0f = np.sum( ( 1-np.exp(-(y/C)**W ))**N) - nyears*pr\n",
      "/home/arturo/github/downpy/codes/downscale.py:1345: RuntimeWarning: invalid value encountered in power\n",
      "  mev0f = np.sum( ( 1-np.exp(-(y/C)**W ))**N) - nyears*pr\n"
     ]
    },
    {
     "name": "stdout",
     "output_type": "stream",
     "text": [
      "mevd_quant:: ERROR - fsolve does not work -  change x0\n",
      "mevd_quant:: ERROR - fsolve does not work -  change x0\n",
      "mevd_quant:: ERROR - fsolve does not work -  change x0\n",
      "mevd_quant:: ERROR - fsolve does not work -  change x0\n",
      "mevd_quant:: ERROR - fsolve does not work -  change x0\n",
      "mevd_quant:: ERROR - fsolve does not work -  change x0\n",
      "mevd_quant:: ERROR - fsolve does not work -  change x0\n",
      "mevd_quant:: ERROR - fsolve does not work -  change x0\n",
      "mevd_quant:: ERROR - fsolve does not work -  change x0\n",
      "mevd_quant:: ERROR - fsolve does not work -  change x0\n",
      "mevd_quant:: ERROR - fsolve does not work -  change x0\n",
      "mevd_quant:: ERROR - fsolve does not work -  change x0\n",
      "mevd_quant:: ERROR - fsolve does not work -  change x0\n",
      "mevd_quant:: ERROR - fsolve does not work -  change x0\n",
      "mevd_quant:: ERROR - fsolve does not work -  change x0\n",
      "mevd_quant:: ERROR - fsolve does not work -  change x0\n",
      "mevd_quant:: ERROR - fsolve does not work -  change x0\n",
      "mevd_quant:: ERROR - fsolve does not work -  change x0\n"
     ]
    },
    {
     "name": "stderr",
     "output_type": "stream",
     "text": [
      "/home/arturo/github/downpy/codes/downscale.py:1345: RuntimeWarning: invalid value encountered in power\n",
      "  mev0f = np.sum( ( 1-np.exp(-(y/C)**W ))**N) - nyears*pr\n",
      "/home/arturo/github/downpy/codes/downscale.py:1345: RuntimeWarning: invalid value encountered in power\n",
      "  mev0f = np.sum( ( 1-np.exp(-(y/C)**W ))**N) - nyears*pr\n"
     ]
    },
    {
     "name": "stdout",
     "output_type": "stream",
     "text": [
      "mevd_quant:: ERROR - fsolve does not work -  change x0\n",
      "mevd_quant:: ERROR - fsolve does not work -  change x0\n",
      "mevd_quant:: ERROR - fsolve does not work -  change x0\n"
     ]
    },
    {
     "name": "stderr",
     "output_type": "stream",
     "text": [
      "/home/arturo/github/downpy/codes/downscale.py:1345: RuntimeWarning: invalid value encountered in power\n",
      "  mev0f = np.sum( ( 1-np.exp(-(y/C)**W ))**N) - nyears*pr\n",
      "/home/arturo/github/downpy/codes/downscale.py:1345: RuntimeWarning: invalid value encountered in power\n",
      "  mev0f = np.sum( ( 1-np.exp(-(y/C)**W ))**N) - nyears*pr\n",
      "/home/arturo/github/downpy/codes/downscale.py:1345: RuntimeWarning: invalid value encountered in power\n",
      "  mev0f = np.sum( ( 1-np.exp(-(y/C)**W ))**N) - nyears*pr\n",
      "/home/arturo/github/downpy/codes/downscale.py:1345: RuntimeWarning: invalid value encountered in power\n",
      "  mev0f = np.sum( ( 1-np.exp(-(y/C)**W ))**N) - nyears*pr\n",
      "/home/arturo/github/downpy/codes/downscale.py:1345: RuntimeWarning: invalid value encountered in power\n",
      "  mev0f = np.sum( ( 1-np.exp(-(y/C)**W ))**N) - nyears*pr\n",
      "/home/arturo/github/downpy/codes/downscale.py:1345: RuntimeWarning: invalid value encountered in power\n",
      "  mev0f = np.sum( ( 1-np.exp(-(y/C)**W ))**N) - nyears*pr\n",
      "/home/arturo/github/downpy/codes/downscale.py:1345: RuntimeWarning: invalid value encountered in power\n",
      "  mev0f = np.sum( ( 1-np.exp(-(y/C)**W ))**N) - nyears*pr\n"
     ]
    },
    {
     "name": "stdout",
     "output_type": "stream",
     "text": [
      "mevd_quant:: ERROR - fsolve does not work -  change x0\n",
      "mevd_quant:: ERROR - fsolve does not work -  change x0\n",
      "mevd_quant:: ERROR - fsolve does not work -  change x0\n",
      "mevd_quant:: ERROR - fsolve does not work -  change x0\n",
      "mevd_quant:: ERROR - fsolve does not work -  change x0\n",
      "mevd_quant:: ERROR - fsolve does not work -  change x0\n",
      "mevd_quant:: ERROR - fsolve does not work -  change x0\n",
      "mevd_quant:: ERROR - fsolve does not work -  change x0\n",
      "mevd_quant:: ERROR - fsolve does not work -  change x0\n",
      "mevd_quant:: ERROR - fsolve does not work -  change x0\n",
      "mevd_quant:: ERROR - fsolve does not work -  change x0\n",
      "mevd_quant:: ERROR - fsolve does not work -  change x0\n",
      "mevd_quant:: ERROR - fsolve does not work -  change x0\n",
      "mevd_quant:: ERROR - fsolve does not work -  change x0\n",
      "mevd_quant:: ERROR - fsolve does not work -  change x0\n",
      "mevd_quant:: ERROR - fsolve does not work -  change x0\n",
      "mevd_quant:: ERROR - fsolve does not work -  change x0\n",
      "mevd_quant:: ERROR - fsolve does not work -  change x0\n",
      "5\n"
     ]
    },
    {
     "name": "stderr",
     "output_type": "stream",
     "text": [
      "/home/arturo/github/downpy/codes/downscale.py:1345: RuntimeWarning: invalid value encountered in power\n",
      "  mev0f = np.sum( ( 1-np.exp(-(y/C)**W ))**N) - nyears*pr\n",
      "/home/arturo/github/downpy/codes/downscale.py:1345: RuntimeWarning: invalid value encountered in power\n",
      "  mev0f = np.sum( ( 1-np.exp(-(y/C)**W ))**N) - nyears*pr\n",
      "/home/arturo/github/downpy/codes/downscale.py:1345: RuntimeWarning: invalid value encountered in power\n",
      "  mev0f = np.sum( ( 1-np.exp(-(y/C)**W ))**N) - nyears*pr\n",
      "/home/arturo/github/downpy/codes/downscale.py:1345: RuntimeWarning: invalid value encountered in power\n",
      "  mev0f = np.sum( ( 1-np.exp(-(y/C)**W ))**N) - nyears*pr\n",
      "/home/arturo/github/downpy/codes/downscale.py:1345: RuntimeWarning: invalid value encountered in power\n",
      "  mev0f = np.sum( ( 1-np.exp(-(y/C)**W ))**N) - nyears*pr\n"
     ]
    },
    {
     "name": "stdout",
     "output_type": "stream",
     "text": [
      "mevd_quant:: ERROR - fsolve does not work -  change x0\n",
      "mevd_quant:: ERROR - fsolve does not work -  change x0\n",
      "mevd_quant:: ERROR - fsolve does not work -  change x0\n",
      "mevd_quant:: ERROR - fsolve does not work -  change x0\n",
      "mevd_quant:: ERROR - fsolve does not work -  change x0\n",
      "mevd_quant:: ERROR - fsolve does not work -  change x0\n",
      "mevd_quant:: ERROR - fsolve does not work -  change x0\n",
      "mevd_quant:: ERROR - fsolve does not work -  change x0\n",
      "mevd_quant:: ERROR - fsolve does not work -  change x0\n",
      "mevd_quant:: ERROR - fsolve does not work -  change x0\n",
      "mevd_quant:: ERROR - fsolve does not work -  change x0\n",
      "mevd_quant:: ERROR - fsolve does not work -  change x0\n"
     ]
    },
    {
     "name": "stderr",
     "output_type": "stream",
     "text": [
      "/home/arturo/github/downpy/codes/downscale.py:1345: RuntimeWarning: invalid value encountered in power\n",
      "  mev0f = np.sum( ( 1-np.exp(-(y/C)**W ))**N) - nyears*pr\n",
      "/home/arturo/github/downpy/codes/downscale.py:1345: RuntimeWarning: invalid value encountered in power\n",
      "  mev0f = np.sum( ( 1-np.exp(-(y/C)**W ))**N) - nyears*pr\n",
      "/home/arturo/github/downpy/codes/downscale.py:1345: RuntimeWarning: invalid value encountered in power\n",
      "  mev0f = np.sum( ( 1-np.exp(-(y/C)**W ))**N) - nyears*pr\n",
      "/home/arturo/github/downpy/codes/downscale.py:1345: RuntimeWarning: invalid value encountered in power\n",
      "  mev0f = np.sum( ( 1-np.exp(-(y/C)**W ))**N) - nyears*pr\n",
      "/home/arturo/github/downpy/codes/downscale.py:1345: RuntimeWarning: invalid value encountered in power\n",
      "  mev0f = np.sum( ( 1-np.exp(-(y/C)**W ))**N) - nyears*pr\n"
     ]
    },
    {
     "name": "stdout",
     "output_type": "stream",
     "text": [
      "mevd_quant:: ERROR - fsolve does not work -  change x0\n",
      "mevd_quant:: ERROR - fsolve does not work -  change x0\n",
      "mevd_quant:: ERROR - fsolve does not work -  change x0\n",
      "mevd_quant:: ERROR - fsolve does not work -  change x0\n",
      "mevd_quant:: ERROR - fsolve does not work -  change x0\n",
      "mevd_quant:: ERROR - fsolve does not work -  change x0\n",
      "mevd_quant:: ERROR - fsolve does not work -  change x0\n",
      "mevd_quant:: ERROR - fsolve does not work -  change x0\n",
      "mevd_quant:: ERROR - fsolve does not work -  change x0\n"
     ]
    },
    {
     "name": "stderr",
     "output_type": "stream",
     "text": [
      "/home/arturo/github/downpy/codes/downscale.py:1345: RuntimeWarning: invalid value encountered in power\n",
      "  mev0f = np.sum( ( 1-np.exp(-(y/C)**W ))**N) - nyears*pr\n",
      "/home/arturo/github/downpy/codes/downscale.py:1345: RuntimeWarning: invalid value encountered in power\n",
      "  mev0f = np.sum( ( 1-np.exp(-(y/C)**W ))**N) - nyears*pr\n",
      "/home/arturo/github/downpy/codes/downscale.py:1345: RuntimeWarning: invalid value encountered in power\n",
      "  mev0f = np.sum( ( 1-np.exp(-(y/C)**W ))**N) - nyears*pr\n",
      "/home/arturo/github/downpy/codes/downscale.py:1345: RuntimeWarning: invalid value encountered in power\n",
      "  mev0f = np.sum( ( 1-np.exp(-(y/C)**W ))**N) - nyears*pr\n",
      "/home/arturo/github/downpy/codes/downscale.py:1345: RuntimeWarning: invalid value encountered in power\n",
      "  mev0f = np.sum( ( 1-np.exp(-(y/C)**W ))**N) - nyears*pr\n",
      "/home/arturo/github/downpy/codes/downscale.py:1345: RuntimeWarning: invalid value encountered in power\n",
      "  mev0f = np.sum( ( 1-np.exp(-(y/C)**W ))**N) - nyears*pr\n"
     ]
    },
    {
     "name": "stdout",
     "output_type": "stream",
     "text": [
      "mevd_quant:: ERROR - fsolve does not work -  change x0\n",
      "mevd_quant:: ERROR - fsolve does not work -  change x0\n",
      "mevd_quant:: ERROR - fsolve does not work -  change x0\n",
      "mevd_quant:: ERROR - fsolve does not work -  change x0\n",
      "mevd_quant:: ERROR - fsolve does not work -  change x0\n",
      "mevd_quant:: ERROR - fsolve does not work -  change x0\n",
      "mevd_quant:: ERROR - fsolve does not work -  change x0\n",
      "mevd_quant:: ERROR - fsolve does not work -  change x0\n",
      "mevd_quant:: ERROR - fsolve does not work -  change x0\n",
      "mevd_quant:: ERROR - fsolve does not work -  change x0\n",
      "mevd_quant:: ERROR - fsolve does not work -  change x0\n",
      "mevd_quant:: ERROR - fsolve does not work -  change x0\n",
      "mevd_quant:: ERROR - fsolve does not work -  change x0\n",
      "mevd_quant:: ERROR - fsolve does not work -  change x0\n",
      "mevd_quant:: ERROR - fsolve does not work -  change x0\n",
      "mevd_quant:: ERROR - fsolve does not work -  change x0\n"
     ]
    },
    {
     "name": "stderr",
     "output_type": "stream",
     "text": [
      "/home/arturo/github/downpy/codes/downscale.py:1345: RuntimeWarning: invalid value encountered in power\n",
      "  mev0f = np.sum( ( 1-np.exp(-(y/C)**W ))**N) - nyears*pr\n"
     ]
    },
    {
     "name": "stdout",
     "output_type": "stream",
     "text": [
      "mevd_quant:: ERROR - fsolve does not work -  change x0\n",
      "6\n"
     ]
    },
    {
     "name": "stderr",
     "output_type": "stream",
     "text": [
      "/home/arturo/github/downpy/codes/downscale.py:1345: RuntimeWarning: invalid value encountered in power\n",
      "  mev0f = np.sum( ( 1-np.exp(-(y/C)**W ))**N) - nyears*pr\n",
      "/home/arturo/github/downpy/codes/downscale.py:1345: RuntimeWarning: invalid value encountered in power\n",
      "  mev0f = np.sum( ( 1-np.exp(-(y/C)**W ))**N) - nyears*pr\n",
      "/home/arturo/github/downpy/codes/downscale.py:1345: RuntimeWarning: invalid value encountered in power\n",
      "  mev0f = np.sum( ( 1-np.exp(-(y/C)**W ))**N) - nyears*pr\n",
      "/home/arturo/github/downpy/codes/downscale.py:1345: RuntimeWarning: invalid value encountered in power\n",
      "  mev0f = np.sum( ( 1-np.exp(-(y/C)**W ))**N) - nyears*pr\n",
      "/home/arturo/github/downpy/codes/downscale.py:1345: RuntimeWarning: invalid value encountered in power\n",
      "  mev0f = np.sum( ( 1-np.exp(-(y/C)**W ))**N) - nyears*pr\n",
      "/home/arturo/github/downpy/codes/downscale.py:1345: RuntimeWarning: invalid value encountered in power\n",
      "  mev0f = np.sum( ( 1-np.exp(-(y/C)**W ))**N) - nyears*pr\n",
      "/home/arturo/github/downpy/codes/downscale.py:1345: RuntimeWarning: invalid value encountered in power\n",
      "  mev0f = np.sum( ( 1-np.exp(-(y/C)**W ))**N) - nyears*pr\n",
      "/home/arturo/github/downpy/codes/downscale.py:1345: RuntimeWarning: invalid value encountered in power\n",
      "  mev0f = np.sum( ( 1-np.exp(-(y/C)**W ))**N) - nyears*pr\n"
     ]
    },
    {
     "name": "stdout",
     "output_type": "stream",
     "text": [
      "mevd_quant:: ERROR - fsolve does not work -  change x0\n",
      "mevd_quant:: ERROR - fsolve does not work -  change x0\n",
      "mevd_quant:: ERROR - fsolve does not work -  change x0\n",
      "mevd_quant:: ERROR - fsolve does not work -  change x0\n",
      "mevd_quant:: ERROR - fsolve does not work -  change x0\n",
      "mevd_quant:: ERROR - fsolve does not work -  change x0\n",
      "mevd_quant:: ERROR - fsolve does not work -  change x0\n",
      "mevd_quant:: ERROR - fsolve does not work -  change x0\n",
      "mevd_quant:: ERROR - fsolve does not work -  change x0\n",
      "mevd_quant:: ERROR - fsolve does not work -  change x0\n",
      "mevd_quant:: ERROR - fsolve does not work -  change x0\n",
      "mevd_quant:: ERROR - fsolve does not work -  change x0\n",
      "mevd_quant:: ERROR - fsolve does not work -  change x0\n",
      "mevd_quant:: ERROR - fsolve does not work -  change x0\n",
      "mevd_quant:: ERROR - fsolve does not work -  change x0\n",
      "mevd_quant:: ERROR - fsolve does not work -  change x0\n",
      "mevd_quant:: ERROR - fsolve does not work -  change x0\n",
      "mevd_quant:: ERROR - fsolve does not work -  change x0\n",
      "mevd_quant:: ERROR - fsolve does not work -  change x0\n",
      "mevd_quant:: ERROR - fsolve does not work -  change x0\n",
      "mevd_quant:: ERROR - fsolve does not work -  change x0\n",
      "mevd_quant:: ERROR - fsolve does not work -  change x0\n",
      "mevd_quant:: ERROR - fsolve does not work -  change x0\n",
      "mevd_quant:: ERROR - fsolve does not work -  change x0\n"
     ]
    },
    {
     "name": "stderr",
     "output_type": "stream",
     "text": [
      "/home/arturo/github/downpy/codes/downscale.py:1345: RuntimeWarning: invalid value encountered in power\n",
      "  mev0f = np.sum( ( 1-np.exp(-(y/C)**W ))**N) - nyears*pr\n",
      "/home/arturo/github/downpy/codes/downscale.py:1345: RuntimeWarning: invalid value encountered in power\n",
      "  mev0f = np.sum( ( 1-np.exp(-(y/C)**W ))**N) - nyears*pr\n",
      "/home/arturo/github/downpy/codes/downscale.py:1345: RuntimeWarning: invalid value encountered in power\n",
      "  mev0f = np.sum( ( 1-np.exp(-(y/C)**W ))**N) - nyears*pr\n"
     ]
    },
    {
     "name": "stdout",
     "output_type": "stream",
     "text": [
      "mevd_quant:: ERROR - fsolve does not work -  change x0\n",
      "mevd_quant:: ERROR - fsolve does not work -  change x0\n",
      "mevd_quant:: ERROR - fsolve does not work -  change x0\n",
      "mevd_quant:: ERROR - fsolve does not work -  change x0\n",
      "mevd_quant:: ERROR - fsolve does not work -  change x0\n",
      "mevd_quant:: ERROR - fsolve does not work -  change x0\n",
      "mevd_quant:: ERROR - fsolve does not work -  change x0\n",
      "mevd_quant:: ERROR - fsolve does not work -  change x0\n"
     ]
    },
    {
     "name": "stderr",
     "output_type": "stream",
     "text": [
      "/home/arturo/github/downpy/codes/downscale.py:1345: RuntimeWarning: invalid value encountered in power\n",
      "  mev0f = np.sum( ( 1-np.exp(-(y/C)**W ))**N) - nyears*pr\n"
     ]
    },
    {
     "name": "stdout",
     "output_type": "stream",
     "text": [
      "mevd_quant:: ERROR - fsolve does not work -  change x0\n",
      "mevd_quant:: ERROR - fsolve does not work -  change x0\n"
     ]
    },
    {
     "name": "stderr",
     "output_type": "stream",
     "text": [
      "/home/arturo/github/downpy/codes/downscale.py:1345: RuntimeWarning: invalid value encountered in power\n",
      "  mev0f = np.sum( ( 1-np.exp(-(y/C)**W ))**N) - nyears*pr\n",
      "/home/arturo/github/downpy/codes/downscale.py:1345: RuntimeWarning: invalid value encountered in power\n",
      "  mev0f = np.sum( ( 1-np.exp(-(y/C)**W ))**N) - nyears*pr\n",
      "/home/arturo/github/downpy/codes/downscale.py:1345: RuntimeWarning: invalid value encountered in power\n",
      "  mev0f = np.sum( ( 1-np.exp(-(y/C)**W ))**N) - nyears*pr\n",
      "/home/arturo/github/downpy/codes/downscale.py:1345: RuntimeWarning: invalid value encountered in power\n",
      "  mev0f = np.sum( ( 1-np.exp(-(y/C)**W ))**N) - nyears*pr\n",
      "/home/arturo/github/downpy/codes/downscale.py:1345: RuntimeWarning: invalid value encountered in power\n",
      "  mev0f = np.sum( ( 1-np.exp(-(y/C)**W ))**N) - nyears*pr\n",
      "/home/arturo/github/downpy/codes/downscale.py:1345: RuntimeWarning: invalid value encountered in power\n",
      "  mev0f = np.sum( ( 1-np.exp(-(y/C)**W ))**N) - nyears*pr\n"
     ]
    },
    {
     "name": "stdout",
     "output_type": "stream",
     "text": [
      "mevd_quant:: ERROR - fsolve does not work -  change x0\n",
      "mevd_quant:: ERROR - fsolve does not work -  change x0\n",
      "mevd_quant:: ERROR - fsolve does not work -  change x0\n",
      "mevd_quant:: ERROR - fsolve does not work -  change x0\n",
      "mevd_quant:: ERROR - fsolve does not work -  change x0\n",
      "mevd_quant:: ERROR - fsolve does not work -  change x0\n",
      "mevd_quant:: ERROR - fsolve does not work -  change x0\n",
      "mevd_quant:: ERROR - fsolve does not work -  change x0\n",
      "mevd_quant:: ERROR - fsolve does not work -  change x0\n",
      "mevd_quant:: ERROR - fsolve does not work -  change x0\n",
      "mevd_quant:: ERROR - fsolve does not work -  change x0\n",
      "mevd_quant:: ERROR - fsolve does not work -  change x0\n",
      "mevd_quant:: ERROR - fsolve does not work -  change x0\n",
      "mevd_quant:: ERROR - fsolve does not work -  change x0\n",
      "mevd_quant:: ERROR - fsolve does not work -  change x0\n",
      "mevd_quant:: ERROR - fsolve does not work -  change x0\n",
      "mevd_quant:: ERROR - fsolve does not work -  change x0\n",
      "mevd_quant:: ERROR - fsolve does not work -  change x0\n",
      "mevd_quant:: ERROR - fsolve does not work -  change x0\n",
      "mevd_quant:: ERROR - fsolve does not work -  change x0\n"
     ]
    },
    {
     "name": "stderr",
     "output_type": "stream",
     "text": [
      "/home/arturo/github/downpy/codes/downscale.py:1345: RuntimeWarning: invalid value encountered in power\n",
      "  mev0f = np.sum( ( 1-np.exp(-(y/C)**W ))**N) - nyears*pr\n"
     ]
    },
    {
     "name": "stdout",
     "output_type": "stream",
     "text": [
      "mevd_quant:: ERROR - fsolve does not work -  change x0\n",
      "7\n"
     ]
    },
    {
     "name": "stderr",
     "output_type": "stream",
     "text": [
      "/home/arturo/github/downpy/codes/downscale.py:1345: RuntimeWarning: invalid value encountered in power\n",
      "  mev0f = np.sum( ( 1-np.exp(-(y/C)**W ))**N) - nyears*pr\n",
      "/home/arturo/github/downpy/codes/downscale.py:1345: RuntimeWarning: invalid value encountered in power\n",
      "  mev0f = np.sum( ( 1-np.exp(-(y/C)**W ))**N) - nyears*pr\n",
      "/home/arturo/github/downpy/codes/downscale.py:1345: RuntimeWarning: invalid value encountered in power\n",
      "  mev0f = np.sum( ( 1-np.exp(-(y/C)**W ))**N) - nyears*pr\n",
      "/home/arturo/github/downpy/codes/downscale.py:1345: RuntimeWarning: invalid value encountered in power\n",
      "  mev0f = np.sum( ( 1-np.exp(-(y/C)**W ))**N) - nyears*pr\n",
      "/home/arturo/github/downpy/codes/downscale.py:1345: RuntimeWarning: invalid value encountered in power\n",
      "  mev0f = np.sum( ( 1-np.exp(-(y/C)**W ))**N) - nyears*pr\n",
      "/home/arturo/github/downpy/codes/downscale.py:1345: RuntimeWarning: invalid value encountered in power\n",
      "  mev0f = np.sum( ( 1-np.exp(-(y/C)**W ))**N) - nyears*pr\n",
      "/home/arturo/github/downpy/codes/downscale.py:1345: RuntimeWarning: invalid value encountered in power\n",
      "  mev0f = np.sum( ( 1-np.exp(-(y/C)**W ))**N) - nyears*pr\n",
      "/home/arturo/github/downpy/codes/downscale.py:1345: RuntimeWarning: invalid value encountered in power\n",
      "  mev0f = np.sum( ( 1-np.exp(-(y/C)**W ))**N) - nyears*pr\n",
      "/home/arturo/github/downpy/codes/downscale.py:1345: RuntimeWarning: invalid value encountered in power\n",
      "  mev0f = np.sum( ( 1-np.exp(-(y/C)**W ))**N) - nyears*pr\n",
      "/home/arturo/github/downpy/codes/downscale.py:1345: RuntimeWarning: invalid value encountered in power\n",
      "  mev0f = np.sum( ( 1-np.exp(-(y/C)**W ))**N) - nyears*pr\n",
      "/home/arturo/github/downpy/codes/downscale.py:1345: RuntimeWarning: invalid value encountered in power\n",
      "  mev0f = np.sum( ( 1-np.exp(-(y/C)**W ))**N) - nyears*pr\n"
     ]
    },
    {
     "name": "stdout",
     "output_type": "stream",
     "text": [
      "mevd_quant:: ERROR - fsolve does not work -  change x0\n",
      "mevd_quant:: ERROR - fsolve does not work -  change x0\n",
      "mevd_quant:: ERROR - fsolve does not work -  change x0\n",
      "mevd_quant:: ERROR - fsolve does not work -  change x0\n",
      "mevd_quant:: ERROR - fsolve does not work -  change x0\n",
      "mevd_quant:: ERROR - fsolve does not work -  change x0\n",
      "mevd_quant:: ERROR - fsolve does not work -  change x0\n",
      "mevd_quant:: ERROR - fsolve does not work -  change x0\n",
      "mevd_quant:: ERROR - fsolve does not work -  change x0\n",
      "mevd_quant:: ERROR - fsolve does not work -  change x0\n",
      "mevd_quant:: ERROR - fsolve does not work -  change x0\n",
      "mevd_quant:: ERROR - fsolve does not work -  change x0\n",
      "mevd_quant:: ERROR - fsolve does not work -  change x0\n",
      "mevd_quant:: ERROR - fsolve does not work -  change x0\n",
      "mevd_quant:: ERROR - fsolve does not work -  change x0\n",
      "mevd_quant:: ERROR - fsolve does not work -  change x0\n",
      "mevd_quant:: ERROR - fsolve does not work -  change x0\n",
      "mevd_quant:: ERROR - fsolve does not work -  change x0\n",
      "mevd_quant:: ERROR - fsolve does not work -  change x0\n",
      "mevd_quant:: ERROR - fsolve does not work -  change x0\n",
      "mevd_quant:: ERROR - fsolve does not work -  change x0\n",
      "mevd_quant:: ERROR - fsolve does not work -  change x0\n",
      "mevd_quant:: ERROR - fsolve does not work -  change x0\n",
      "mevd_quant:: ERROR - fsolve does not work -  change x0\n",
      "mevd_quant:: ERROR - fsolve does not work -  change x0\n",
      "mevd_quant:: ERROR - fsolve does not work -  change x0\n",
      "mevd_quant:: ERROR - fsolve does not work -  change x0\n",
      "mevd_quant:: ERROR - fsolve does not work -  change x0\n",
      "mevd_quant:: ERROR - fsolve does not work -  change x0\n",
      "mevd_quant:: ERROR - fsolve does not work -  change x0\n",
      "mevd_quant:: ERROR - fsolve does not work -  change x0\n"
     ]
    },
    {
     "name": "stderr",
     "output_type": "stream",
     "text": [
      "/home/arturo/github/downpy/codes/downscale.py:1345: RuntimeWarning: invalid value encountered in power\n",
      "  mev0f = np.sum( ( 1-np.exp(-(y/C)**W ))**N) - nyears*pr\n",
      "/home/arturo/github/downpy/codes/downscale.py:1345: RuntimeWarning: invalid value encountered in power\n",
      "  mev0f = np.sum( ( 1-np.exp(-(y/C)**W ))**N) - nyears*pr\n"
     ]
    },
    {
     "name": "stdout",
     "output_type": "stream",
     "text": [
      "mevd_quant:: ERROR - fsolve does not work -  change x0\n",
      "mevd_quant:: ERROR - fsolve does not work -  change x0\n",
      "mevd_quant:: ERROR - fsolve does not work -  change x0\n"
     ]
    },
    {
     "name": "stderr",
     "output_type": "stream",
     "text": [
      "/home/arturo/github/downpy/codes/downscale.py:1345: RuntimeWarning: invalid value encountered in power\n",
      "  mev0f = np.sum( ( 1-np.exp(-(y/C)**W ))**N) - nyears*pr\n",
      "/home/arturo/github/downpy/codes/downscale.py:1345: RuntimeWarning: invalid value encountered in power\n",
      "  mev0f = np.sum( ( 1-np.exp(-(y/C)**W ))**N) - nyears*pr\n",
      "/home/arturo/github/downpy/codes/downscale.py:1345: RuntimeWarning: invalid value encountered in power\n",
      "  mev0f = np.sum( ( 1-np.exp(-(y/C)**W ))**N) - nyears*pr\n",
      "/home/arturo/github/downpy/codes/downscale.py:1345: RuntimeWarning: invalid value encountered in power\n",
      "  mev0f = np.sum( ( 1-np.exp(-(y/C)**W ))**N) - nyears*pr\n",
      "/home/arturo/github/downpy/codes/downscale.py:1345: RuntimeWarning: invalid value encountered in power\n",
      "  mev0f = np.sum( ( 1-np.exp(-(y/C)**W ))**N) - nyears*pr\n"
     ]
    },
    {
     "name": "stdout",
     "output_type": "stream",
     "text": [
      "mevd_quant:: ERROR - fsolve does not work -  change x0\n",
      "mevd_quant:: ERROR - fsolve does not work -  change x0\n",
      "mevd_quant:: ERROR - fsolve does not work -  change x0\n",
      "mevd_quant:: ERROR - fsolve does not work -  change x0\n",
      "mevd_quant:: ERROR - fsolve does not work -  change x0\n",
      "mevd_quant:: ERROR - fsolve does not work -  change x0\n",
      "mevd_quant:: ERROR - fsolve does not work -  change x0\n",
      "mevd_quant:: ERROR - fsolve does not work -  change x0\n",
      "mevd_quant:: ERROR - fsolve does not work -  change x0\n",
      "mevd_quant:: ERROR - fsolve does not work -  change x0\n",
      "mevd_quant:: ERROR - fsolve does not work -  change x0\n",
      "mevd_quant:: ERROR - fsolve does not work -  change x0\n"
     ]
    },
    {
     "name": "stderr",
     "output_type": "stream",
     "text": [
      "/home/arturo/github/downpy/codes/downscale.py:1345: RuntimeWarning: invalid value encountered in power\n",
      "  mev0f = np.sum( ( 1-np.exp(-(y/C)**W ))**N) - nyears*pr\n",
      "/home/arturo/github/downpy/codes/downscale.py:1345: RuntimeWarning: invalid value encountered in power\n",
      "  mev0f = np.sum( ( 1-np.exp(-(y/C)**W ))**N) - nyears*pr\n",
      "/home/arturo/github/downpy/codes/downscale.py:1345: RuntimeWarning: invalid value encountered in power\n",
      "  mev0f = np.sum( ( 1-np.exp(-(y/C)**W ))**N) - nyears*pr\n",
      "/home/arturo/github/downpy/codes/downscale.py:1345: RuntimeWarning: invalid value encountered in power\n",
      "  mev0f = np.sum( ( 1-np.exp(-(y/C)**W ))**N) - nyears*pr\n",
      "/home/arturo/github/downpy/codes/downscale.py:1345: RuntimeWarning: invalid value encountered in power\n",
      "  mev0f = np.sum( ( 1-np.exp(-(y/C)**W ))**N) - nyears*pr\n"
     ]
    },
    {
     "name": "stdout",
     "output_type": "stream",
     "text": [
      "mevd_quant:: ERROR - fsolve does not work -  change x0\n",
      "mevd_quant:: ERROR - fsolve does not work -  change x0\n",
      "mevd_quant:: ERROR - fsolve does not work -  change x0\n",
      "mevd_quant:: ERROR - fsolve does not work -  change x0\n",
      "mevd_quant:: ERROR - fsolve does not work -  change x0\n",
      "mevd_quant:: ERROR - fsolve does not work -  change x0\n",
      "mevd_quant:: ERROR - fsolve does not work -  change x0\n",
      "mevd_quant:: ERROR - fsolve does not work -  change x0\n",
      "mevd_quant:: ERROR - fsolve does not work -  change x0\n",
      "mevd_quant:: ERROR - fsolve does not work -  change x0\n",
      "mevd_quant:: ERROR - fsolve does not work -  change x0\n",
      "mevd_quant:: ERROR - fsolve does not work -  change x0\n",
      "mevd_quant:: ERROR - fsolve does not work -  change x0\n",
      "mevd_quant:: ERROR - fsolve does not work -  change x0\n",
      "8\n",
      "mevd_quant:: ERROR - fsolve does not work -  change x0\n",
      "mevd_quant:: ERROR - fsolve does not work -  change x0\n",
      "mevd_quant:: ERROR - fsolve does not work -  change x0\n",
      "mevd_quant:: ERROR - fsolve does not work -  change x0\n"
     ]
    },
    {
     "name": "stderr",
     "output_type": "stream",
     "text": [
      "/home/arturo/github/downpy/codes/downscale.py:1345: RuntimeWarning: invalid value encountered in power\n",
      "  mev0f = np.sum( ( 1-np.exp(-(y/C)**W ))**N) - nyears*pr\n",
      "/home/arturo/github/downpy/codes/downscale.py:1345: RuntimeWarning: invalid value encountered in power\n",
      "  mev0f = np.sum( ( 1-np.exp(-(y/C)**W ))**N) - nyears*pr\n",
      "/home/arturo/github/downpy/codes/downscale.py:1345: RuntimeWarning: invalid value encountered in power\n",
      "  mev0f = np.sum( ( 1-np.exp(-(y/C)**W ))**N) - nyears*pr\n",
      "/home/arturo/github/downpy/codes/downscale.py:1345: RuntimeWarning: invalid value encountered in power\n",
      "  mev0f = np.sum( ( 1-np.exp(-(y/C)**W ))**N) - nyears*pr\n",
      "/home/arturo/github/downpy/codes/downscale.py:1345: RuntimeWarning: invalid value encountered in power\n",
      "  mev0f = np.sum( ( 1-np.exp(-(y/C)**W ))**N) - nyears*pr\n",
      "/home/arturo/github/downpy/codes/downscale.py:1345: RuntimeWarning: invalid value encountered in power\n",
      "  mev0f = np.sum( ( 1-np.exp(-(y/C)**W ))**N) - nyears*pr\n",
      "/home/arturo/github/downpy/codes/downscale.py:1345: RuntimeWarning: invalid value encountered in power\n",
      "  mev0f = np.sum( ( 1-np.exp(-(y/C)**W ))**N) - nyears*pr\n",
      "/home/arturo/github/downpy/codes/downscale.py:1345: RuntimeWarning: invalid value encountered in power\n",
      "  mev0f = np.sum( ( 1-np.exp(-(y/C)**W ))**N) - nyears*pr\n"
     ]
    },
    {
     "name": "stdout",
     "output_type": "stream",
     "text": [
      "mevd_quant:: ERROR - fsolve does not work -  change x0\n",
      "mevd_quant:: ERROR - fsolve does not work -  change x0\n",
      "mevd_quant:: ERROR - fsolve does not work -  change x0\n",
      "mevd_quant:: ERROR - fsolve does not work -  change x0\n",
      "mevd_quant:: ERROR - fsolve does not work -  change x0\n",
      "mevd_quant:: ERROR - fsolve does not work -  change x0\n",
      "mevd_quant:: ERROR - fsolve does not work -  change x0\n",
      "mevd_quant:: ERROR - fsolve does not work -  change x0\n",
      "mevd_quant:: ERROR - fsolve does not work -  change x0\n",
      "mevd_quant:: ERROR - fsolve does not work -  change x0\n",
      "mevd_quant:: ERROR - fsolve does not work -  change x0\n",
      "mevd_quant:: ERROR - fsolve does not work -  change x0\n",
      "mevd_quant:: ERROR - fsolve does not work -  change x0\n",
      "mevd_quant:: ERROR - fsolve does not work -  change x0\n",
      "mevd_quant:: ERROR - fsolve does not work -  change x0\n",
      "mevd_quant:: ERROR - fsolve does not work -  change x0\n",
      "mevd_quant:: ERROR - fsolve does not work -  change x0\n",
      "mevd_quant:: ERROR - fsolve does not work -  change x0\n",
      "mevd_quant:: ERROR - fsolve does not work -  change x0\n",
      "mevd_quant:: ERROR - fsolve does not work -  change x0\n",
      "mevd_quant:: ERROR - fsolve does not work -  change x0\n",
      "mevd_quant:: ERROR - fsolve does not work -  change x0\n",
      "mevd_quant:: ERROR - fsolve does not work -  change x0\n",
      "mevd_quant:: ERROR - fsolve does not work -  change x0\n"
     ]
    },
    {
     "name": "stderr",
     "output_type": "stream",
     "text": [
      "/home/arturo/github/downpy/codes/downscale.py:1345: RuntimeWarning: invalid value encountered in power\n",
      "  mev0f = np.sum( ( 1-np.exp(-(y/C)**W ))**N) - nyears*pr\n"
     ]
    },
    {
     "name": "stdout",
     "output_type": "stream",
     "text": [
      "mevd_quant:: ERROR - fsolve does not work -  change x0\n"
     ]
    },
    {
     "name": "stderr",
     "output_type": "stream",
     "text": [
      "/home/arturo/github/downpy/codes/downscale.py:1345: RuntimeWarning: invalid value encountered in power\n",
      "  mev0f = np.sum( ( 1-np.exp(-(y/C)**W ))**N) - nyears*pr\n",
      "/home/arturo/github/downpy/codes/downscale.py:1345: RuntimeWarning: invalid value encountered in power\n",
      "  mev0f = np.sum( ( 1-np.exp(-(y/C)**W ))**N) - nyears*pr\n",
      "/home/arturo/github/downpy/codes/downscale.py:1345: RuntimeWarning: invalid value encountered in power\n",
      "  mev0f = np.sum( ( 1-np.exp(-(y/C)**W ))**N) - nyears*pr\n",
      "/home/arturo/github/downpy/codes/downscale.py:1345: RuntimeWarning: invalid value encountered in power\n",
      "  mev0f = np.sum( ( 1-np.exp(-(y/C)**W ))**N) - nyears*pr\n",
      "/home/arturo/github/downpy/codes/downscale.py:1345: RuntimeWarning: invalid value encountered in power\n",
      "  mev0f = np.sum( ( 1-np.exp(-(y/C)**W ))**N) - nyears*pr\n",
      "/home/arturo/github/downpy/codes/downscale.py:1345: RuntimeWarning: invalid value encountered in power\n",
      "  mev0f = np.sum( ( 1-np.exp(-(y/C)**W ))**N) - nyears*pr\n"
     ]
    },
    {
     "name": "stdout",
     "output_type": "stream",
     "text": [
      "mevd_quant:: ERROR - fsolve does not work -  change x0\n",
      "mevd_quant:: ERROR - fsolve does not work -  change x0\n",
      "mevd_quant:: ERROR - fsolve does not work -  change x0\n",
      "mevd_quant:: ERROR - fsolve does not work -  change x0\n",
      "mevd_quant:: ERROR - fsolve does not work -  change x0\n",
      "mevd_quant:: ERROR - fsolve does not work -  change x0\n",
      "mevd_quant:: ERROR - fsolve does not work -  change x0\n",
      "mevd_quant:: ERROR - fsolve does not work -  change x0\n",
      "mevd_quant:: ERROR - fsolve does not work -  change x0\n",
      "mevd_quant:: ERROR - fsolve does not work -  change x0\n",
      "mevd_quant:: ERROR - fsolve does not work -  change x0\n",
      "mevd_quant:: ERROR - fsolve does not work -  change x0\n",
      "mevd_quant:: ERROR - fsolve does not work -  change x0\n",
      "mevd_quant:: ERROR - fsolve does not work -  change x0\n",
      "mevd_quant:: ERROR - fsolve does not work -  change x0\n",
      "mevd_quant:: ERROR - fsolve does not work -  change x0\n",
      "mevd_quant:: ERROR - fsolve does not work -  change x0\n",
      "mevd_quant:: ERROR - fsolve does not work -  change x0\n",
      "mevd_quant:: ERROR - fsolve does not work -  change x0\n",
      "mevd_quant:: ERROR - fsolve does not work -  change x0\n",
      "mevd_quant:: ERROR - fsolve does not work -  change x0\n"
     ]
    },
    {
     "name": "stderr",
     "output_type": "stream",
     "text": [
      "/home/arturo/github/downpy/codes/downscale.py:1345: RuntimeWarning: invalid value encountered in power\n",
      "  mev0f = np.sum( ( 1-np.exp(-(y/C)**W ))**N) - nyears*pr\n",
      "/home/arturo/github/downpy/codes/downscale.py:1345: RuntimeWarning: invalid value encountered in power\n",
      "  mev0f = np.sum( ( 1-np.exp(-(y/C)**W ))**N) - nyears*pr\n",
      "/home/arturo/github/downpy/codes/downscale.py:1345: RuntimeWarning: invalid value encountered in power\n",
      "  mev0f = np.sum( ( 1-np.exp(-(y/C)**W ))**N) - nyears*pr\n",
      "/home/arturo/github/downpy/codes/downscale.py:1345: RuntimeWarning: invalid value encountered in power\n",
      "  mev0f = np.sum( ( 1-np.exp(-(y/C)**W ))**N) - nyears*pr\n"
     ]
    },
    {
     "name": "stdout",
     "output_type": "stream",
     "text": [
      "mevd_quant:: ERROR - fsolve does not work -  change x0\n",
      "mevd_quant:: ERROR - fsolve does not work -  change x0\n",
      "mevd_quant:: ERROR - fsolve does not work -  change x0\n",
      "mevd_quant:: ERROR - fsolve does not work -  change x0\n",
      "mevd_quant:: ERROR - fsolve does not work -  change x0\n",
      "9\n",
      "mevd_quant:: ERROR - fsolve does not work -  change x0\n",
      "mevd_quant:: ERROR - fsolve does not work -  change x0\n",
      "mevd_quant:: ERROR - fsolve does not work -  change x0\n",
      "mevd_quant:: ERROR - fsolve does not work -  change x0\n",
      "mevd_quant:: ERROR - fsolve does not work -  change x0\n",
      "mevd_quant:: ERROR - fsolve does not work -  change x0\n",
      "mevd_quant:: ERROR - fsolve does not work -  change x0\n",
      "mevd_quant:: ERROR - fsolve does not work -  change x0\n",
      "mevd_quant:: ERROR - fsolve does not work -  change x0\n",
      "mevd_quant:: ERROR - fsolve does not work -  change x0\n",
      "mevd_quant:: ERROR - fsolve does not work -  change x0\n",
      "mevd_quant:: ERROR - fsolve does not work -  change x0\n",
      "mevd_quant:: ERROR - fsolve does not work -  change x0\n",
      "mevd_quant:: ERROR - fsolve does not work -  change x0\n",
      "mevd_quant:: ERROR - fsolve does not work -  change x0\n"
     ]
    },
    {
     "name": "stderr",
     "output_type": "stream",
     "text": [
      "/home/arturo/github/downpy/codes/downscale.py:1345: RuntimeWarning: invalid value encountered in power\n",
      "  mev0f = np.sum( ( 1-np.exp(-(y/C)**W ))**N) - nyears*pr\n",
      "/home/arturo/github/downpy/codes/downscale.py:1345: RuntimeWarning: invalid value encountered in power\n",
      "  mev0f = np.sum( ( 1-np.exp(-(y/C)**W ))**N) - nyears*pr\n",
      "/home/arturo/github/downpy/codes/downscale.py:1345: RuntimeWarning: invalid value encountered in power\n",
      "  mev0f = np.sum( ( 1-np.exp(-(y/C)**W ))**N) - nyears*pr\n",
      "/home/arturo/github/downpy/codes/downscale.py:1345: RuntimeWarning: invalid value encountered in power\n",
      "  mev0f = np.sum( ( 1-np.exp(-(y/C)**W ))**N) - nyears*pr\n",
      "/home/arturo/github/downpy/codes/downscale.py:1345: RuntimeWarning: invalid value encountered in power\n",
      "  mev0f = np.sum( ( 1-np.exp(-(y/C)**W ))**N) - nyears*pr\n",
      "/home/arturo/github/downpy/codes/downscale.py:1345: RuntimeWarning: invalid value encountered in power\n",
      "  mev0f = np.sum( ( 1-np.exp(-(y/C)**W ))**N) - nyears*pr\n",
      "/home/arturo/github/downpy/codes/downscale.py:1345: RuntimeWarning: invalid value encountered in power\n",
      "  mev0f = np.sum( ( 1-np.exp(-(y/C)**W ))**N) - nyears*pr\n"
     ]
    },
    {
     "name": "stdout",
     "output_type": "stream",
     "text": [
      "mevd_quant:: ERROR - fsolve does not work -  change x0\n",
      "mevd_quant:: ERROR - fsolve does not work -  change x0\n",
      "mevd_quant:: ERROR - fsolve does not work -  change x0\n",
      "mevd_quant:: ERROR - fsolve does not work -  change x0\n",
      "mevd_quant:: ERROR - fsolve does not work -  change x0\n",
      "mevd_quant:: ERROR - fsolve does not work -  change x0\n",
      "mevd_quant:: ERROR - fsolve does not work -  change x0\n",
      "mevd_quant:: ERROR - fsolve does not work -  change x0\n",
      "mevd_quant:: ERROR - fsolve does not work -  change x0\n",
      "mevd_quant:: ERROR - fsolve does not work -  change x0\n",
      "mevd_quant:: ERROR - fsolve does not work -  change x0\n"
     ]
    },
    {
     "name": "stderr",
     "output_type": "stream",
     "text": [
      "/home/arturo/github/downpy/codes/downscale.py:1345: RuntimeWarning: invalid value encountered in power\n",
      "  mev0f = np.sum( ( 1-np.exp(-(y/C)**W ))**N) - nyears*pr\n",
      "/home/arturo/github/downpy/codes/downscale.py:1345: RuntimeWarning: invalid value encountered in power\n",
      "  mev0f = np.sum( ( 1-np.exp(-(y/C)**W ))**N) - nyears*pr\n",
      "/home/arturo/github/downpy/codes/downscale.py:1345: RuntimeWarning: invalid value encountered in power\n",
      "  mev0f = np.sum( ( 1-np.exp(-(y/C)**W ))**N) - nyears*pr\n",
      "/home/arturo/github/downpy/codes/downscale.py:1345: RuntimeWarning: invalid value encountered in power\n",
      "  mev0f = np.sum( ( 1-np.exp(-(y/C)**W ))**N) - nyears*pr\n",
      "/home/arturo/github/downpy/codes/downscale.py:1345: RuntimeWarning: invalid value encountered in power\n",
      "  mev0f = np.sum( ( 1-np.exp(-(y/C)**W ))**N) - nyears*pr\n",
      "/home/arturo/github/downpy/codes/downscale.py:1345: RuntimeWarning: invalid value encountered in power\n",
      "  mev0f = np.sum( ( 1-np.exp(-(y/C)**W ))**N) - nyears*pr\n"
     ]
    },
    {
     "name": "stdout",
     "output_type": "stream",
     "text": [
      "mevd_quant:: ERROR - fsolve does not work -  change x0\n",
      "mevd_quant:: ERROR - fsolve does not work -  change x0\n",
      "mevd_quant:: ERROR - fsolve does not work -  change x0\n",
      "mevd_quant:: ERROR - fsolve does not work -  change x0\n",
      "mevd_quant:: ERROR - fsolve does not work -  change x0\n",
      "mevd_quant:: ERROR - fsolve does not work -  change x0\n",
      "mevd_quant:: ERROR - fsolve does not work -  change x0\n",
      "mevd_quant:: ERROR - fsolve does not work -  change x0\n",
      "mevd_quant:: ERROR - fsolve does not work -  change x0\n",
      "mevd_quant:: ERROR - fsolve does not work -  change x0\n",
      "mevd_quant:: ERROR - fsolve does not work -  change x0\n",
      "mevd_quant:: ERROR - fsolve does not work -  change x0\n"
     ]
    },
    {
     "name": "stderr",
     "output_type": "stream",
     "text": [
      "/home/arturo/github/downpy/codes/downscale.py:1345: RuntimeWarning: invalid value encountered in power\n",
      "  mev0f = np.sum( ( 1-np.exp(-(y/C)**W ))**N) - nyears*pr\n",
      "/home/arturo/github/downpy/codes/downscale.py:1345: RuntimeWarning: invalid value encountered in power\n",
      "  mev0f = np.sum( ( 1-np.exp(-(y/C)**W ))**N) - nyears*pr\n",
      "/home/arturo/github/downpy/codes/downscale.py:1345: RuntimeWarning: invalid value encountered in power\n",
      "  mev0f = np.sum( ( 1-np.exp(-(y/C)**W ))**N) - nyears*pr\n",
      "/home/arturo/github/downpy/codes/downscale.py:1345: RuntimeWarning: invalid value encountered in power\n",
      "  mev0f = np.sum( ( 1-np.exp(-(y/C)**W ))**N) - nyears*pr\n",
      "/home/arturo/github/downpy/codes/downscale.py:1345: RuntimeWarning: invalid value encountered in power\n",
      "  mev0f = np.sum( ( 1-np.exp(-(y/C)**W ))**N) - nyears*pr\n",
      "/home/arturo/github/downpy/codes/downscale.py:1345: RuntimeWarning: invalid value encountered in power\n",
      "  mev0f = np.sum( ( 1-np.exp(-(y/C)**W ))**N) - nyears*pr\n",
      "/home/arturo/github/downpy/codes/downscale.py:1345: RuntimeWarning: invalid value encountered in power\n",
      "  mev0f = np.sum( ( 1-np.exp(-(y/C)**W ))**N) - nyears*pr\n",
      "/home/arturo/github/downpy/codes/downscale.py:1345: RuntimeWarning: invalid value encountered in power\n",
      "  mev0f = np.sum( ( 1-np.exp(-(y/C)**W ))**N) - nyears*pr\n",
      "/home/arturo/github/downpy/codes/downscale.py:1345: RuntimeWarning: invalid value encountered in power\n",
      "  mev0f = np.sum( ( 1-np.exp(-(y/C)**W ))**N) - nyears*pr\n",
      "/home/arturo/github/downpy/codes/downscale.py:1345: RuntimeWarning: invalid value encountered in power\n",
      "  mev0f = np.sum( ( 1-np.exp(-(y/C)**W ))**N) - nyears*pr\n",
      "/home/arturo/github/downpy/codes/downscale.py:1345: RuntimeWarning: invalid value encountered in power\n",
      "  mev0f = np.sum( ( 1-np.exp(-(y/C)**W ))**N) - nyears*pr\n",
      "/home/arturo/github/downpy/codes/downscale.py:1345: RuntimeWarning: invalid value encountered in power\n",
      "  mev0f = np.sum( ( 1-np.exp(-(y/C)**W ))**N) - nyears*pr\n",
      "/home/arturo/github/downpy/codes/downscale.py:1345: RuntimeWarning: invalid value encountered in power\n",
      "  mev0f = np.sum( ( 1-np.exp(-(y/C)**W ))**N) - nyears*pr\n"
     ]
    },
    {
     "name": "stdout",
     "output_type": "stream",
     "text": [
      "mevd_quant:: ERROR - fsolve does not work -  change x0\n",
      "mevd_quant:: ERROR - fsolve does not work -  change x0\n",
      "mevd_quant:: ERROR - fsolve does not work -  change x0\n",
      "mevd_quant:: ERROR - fsolve does not work -  change x0\n",
      "mevd_quant:: ERROR - fsolve does not work -  change x0\n",
      "mevd_quant:: ERROR - fsolve does not work -  change x0\n",
      "mevd_quant:: ERROR - fsolve does not work -  change x0\n",
      "mevd_quant:: ERROR - fsolve does not work -  change x0\n",
      "mevd_quant:: ERROR - fsolve does not work -  change x0\n",
      "mevd_quant:: ERROR - fsolve does not work -  change x0\n",
      "mevd_quant:: ERROR - fsolve does not work -  change x0\n",
      "mevd_quant:: ERROR - fsolve does not work -  change x0\n",
      "mevd_quant:: ERROR - fsolve does not work -  change x0\n",
      "mevd_quant:: ERROR - fsolve does not work -  change x0\n",
      "mevd_quant:: ERROR - fsolve does not work -  change x0\n",
      "mevd_quant:: ERROR - fsolve does not work -  change x0\n",
      "mevd_quant:: ERROR - fsolve does not work -  change x0\n",
      "mevd_quant:: ERROR - fsolve does not work -  change x0\n",
      "mevd_quant:: ERROR - fsolve does not work -  change x0\n",
      "mevd_quant:: ERROR - fsolve does not work -  change x0\n",
      "mevd_quant:: ERROR - fsolve does not work -  change x0\n",
      "mevd_quant:: ERROR - fsolve does not work -  change x0\n",
      "mevd_quant:: ERROR - fsolve does not work -  change x0\n",
      "mevd_quant:: ERROR - fsolve does not work -  change x0\n",
      "mevd_quant:: ERROR - fsolve does not work -  change x0\n",
      "mevd_quant:: ERROR - fsolve does not work -  change x0\n",
      "mevd_quant:: ERROR - fsolve does not work -  change x0\n",
      "mevd_quant:: ERROR - fsolve does not work -  change x0\n",
      "mevd_quant:: ERROR - fsolve does not work -  change x0\n"
     ]
    },
    {
     "name": "stderr",
     "output_type": "stream",
     "text": [
      "/home/arturo/github/downpy/codes/downscale.py:1345: RuntimeWarning: invalid value encountered in power\n",
      "  mev0f = np.sum( ( 1-np.exp(-(y/C)**W ))**N) - nyears*pr\n",
      "/home/arturo/github/downpy/codes/downscale.py:1345: RuntimeWarning: invalid value encountered in power\n",
      "  mev0f = np.sum( ( 1-np.exp(-(y/C)**W ))**N) - nyears*pr\n",
      "/home/arturo/github/downpy/codes/downscale.py:1345: RuntimeWarning: invalid value encountered in power\n",
      "  mev0f = np.sum( ( 1-np.exp(-(y/C)**W ))**N) - nyears*pr\n"
     ]
    },
    {
     "name": "stdout",
     "output_type": "stream",
     "text": [
      "mevd_quant:: ERROR - fsolve does not work -  change x0\n",
      "mevd_quant:: ERROR - fsolve does not work -  change x0\n"
     ]
    },
    {
     "name": "stderr",
     "output_type": "stream",
     "text": [
      "/home/arturo/github/downpy/codes/downscale.py:1345: RuntimeWarning: invalid value encountered in power\n",
      "  mev0f = np.sum( ( 1-np.exp(-(y/C)**W ))**N) - nyears*pr\n"
     ]
    },
    {
     "name": "stdout",
     "output_type": "stream",
     "text": [
      "10\n",
      "mevd_quant:: ERROR - fsolve does not work -  change x0\n",
      "mevd_quant:: ERROR - fsolve does not work -  change x0\n",
      "mevd_quant:: ERROR - fsolve does not work -  change x0\n",
      "mevd_quant:: ERROR - fsolve does not work -  change x0\n",
      "mevd_quant:: ERROR - fsolve does not work -  change x0\n",
      "mevd_quant:: ERROR - fsolve does not work -  change x0\n",
      "mevd_quant:: ERROR - fsolve does not work -  change x0\n",
      "mevd_quant:: ERROR - fsolve does not work -  change x0\n",
      "mevd_quant:: ERROR - fsolve does not work -  change x0\n",
      "mevd_quant:: ERROR - fsolve does not work -  change x0\n",
      "mevd_quant:: ERROR - fsolve does not work -  change x0\n",
      "mevd_quant:: ERROR - fsolve does not work -  change x0\n",
      "mevd_quant:: ERROR - fsolve does not work -  change x0\n",
      "mevd_quant:: ERROR - fsolve does not work -  change x0\n",
      "mevd_quant:: ERROR - fsolve does not work -  change x0\n"
     ]
    },
    {
     "name": "stderr",
     "output_type": "stream",
     "text": [
      "/home/arturo/github/downpy/codes/downscale.py:1345: RuntimeWarning: invalid value encountered in power\n",
      "  mev0f = np.sum( ( 1-np.exp(-(y/C)**W ))**N) - nyears*pr\n",
      "/home/arturo/github/downpy/codes/downscale.py:1345: RuntimeWarning: invalid value encountered in power\n",
      "  mev0f = np.sum( ( 1-np.exp(-(y/C)**W ))**N) - nyears*pr\n",
      "/home/arturo/github/downpy/codes/downscale.py:1345: RuntimeWarning: invalid value encountered in power\n",
      "  mev0f = np.sum( ( 1-np.exp(-(y/C)**W ))**N) - nyears*pr\n",
      "/home/arturo/github/downpy/codes/downscale.py:1345: RuntimeWarning: invalid value encountered in power\n",
      "  mev0f = np.sum( ( 1-np.exp(-(y/C)**W ))**N) - nyears*pr\n",
      "/home/arturo/github/downpy/codes/downscale.py:1345: RuntimeWarning: invalid value encountered in power\n",
      "  mev0f = np.sum( ( 1-np.exp(-(y/C)**W ))**N) - nyears*pr\n"
     ]
    },
    {
     "name": "stdout",
     "output_type": "stream",
     "text": [
      "mevd_quant:: ERROR - fsolve does not work -  change x0\n",
      "mevd_quant:: ERROR - fsolve does not work -  change x0\n"
     ]
    },
    {
     "name": "stderr",
     "output_type": "stream",
     "text": [
      "/home/arturo/github/downpy/codes/downscale.py:1345: RuntimeWarning: invalid value encountered in power\n",
      "  mev0f = np.sum( ( 1-np.exp(-(y/C)**W ))**N) - nyears*pr\n",
      "/home/arturo/github/downpy/codes/downscale.py:1345: RuntimeWarning: invalid value encountered in power\n",
      "  mev0f = np.sum( ( 1-np.exp(-(y/C)**W ))**N) - nyears*pr\n",
      "/home/arturo/github/downpy/codes/downscale.py:1345: RuntimeWarning: invalid value encountered in power\n",
      "  mev0f = np.sum( ( 1-np.exp(-(y/C)**W ))**N) - nyears*pr\n",
      "/home/arturo/github/downpy/codes/downscale.py:1345: RuntimeWarning: invalid value encountered in power\n",
      "  mev0f = np.sum( ( 1-np.exp(-(y/C)**W ))**N) - nyears*pr\n",
      "/home/arturo/github/downpy/codes/downscale.py:1345: RuntimeWarning: invalid value encountered in power\n",
      "  mev0f = np.sum( ( 1-np.exp(-(y/C)**W ))**N) - nyears*pr\n",
      "/home/arturo/github/downpy/codes/downscale.py:1345: RuntimeWarning: invalid value encountered in power\n",
      "  mev0f = np.sum( ( 1-np.exp(-(y/C)**W ))**N) - nyears*pr\n"
     ]
    },
    {
     "name": "stdout",
     "output_type": "stream",
     "text": [
      "mevd_quant:: ERROR - fsolve does not work -  change x0\n",
      "mevd_quant:: ERROR - fsolve does not work -  change x0\n",
      "mevd_quant:: ERROR - fsolve does not work -  change x0\n",
      "mevd_quant:: ERROR - fsolve does not work -  change x0\n",
      "mevd_quant:: ERROR - fsolve does not work -  change x0\n",
      "mevd_quant:: ERROR - fsolve does not work -  change x0\n",
      "mevd_quant:: ERROR - fsolve does not work -  change x0\n",
      "mevd_quant:: ERROR - fsolve does not work -  change x0\n",
      "mevd_quant:: ERROR - fsolve does not work -  change x0\n",
      "mevd_quant:: ERROR - fsolve does not work -  change x0\n",
      "mevd_quant:: ERROR - fsolve does not work -  change x0\n",
      "mevd_quant:: ERROR - fsolve does not work -  change x0\n",
      "mevd_quant:: ERROR - fsolve does not work -  change x0\n",
      "mevd_quant:: ERROR - fsolve does not work -  change x0\n"
     ]
    },
    {
     "name": "stderr",
     "output_type": "stream",
     "text": [
      "/home/arturo/github/downpy/codes/downscale.py:1345: RuntimeWarning: invalid value encountered in power\n",
      "  mev0f = np.sum( ( 1-np.exp(-(y/C)**W ))**N) - nyears*pr\n",
      "/home/arturo/github/downpy/codes/downscale.py:1345: RuntimeWarning: invalid value encountered in power\n",
      "  mev0f = np.sum( ( 1-np.exp(-(y/C)**W ))**N) - nyears*pr\n",
      "/home/arturo/github/downpy/codes/downscale.py:1345: RuntimeWarning: invalid value encountered in power\n",
      "  mev0f = np.sum( ( 1-np.exp(-(y/C)**W ))**N) - nyears*pr\n",
      "/home/arturo/github/downpy/codes/downscale.py:1345: RuntimeWarning: invalid value encountered in power\n",
      "  mev0f = np.sum( ( 1-np.exp(-(y/C)**W ))**N) - nyears*pr\n",
      "/home/arturo/github/downpy/codes/downscale.py:1345: RuntimeWarning: invalid value encountered in power\n",
      "  mev0f = np.sum( ( 1-np.exp(-(y/C)**W ))**N) - nyears*pr\n",
      "/home/arturo/github/downpy/codes/downscale.py:1345: RuntimeWarning: invalid value encountered in power\n",
      "  mev0f = np.sum( ( 1-np.exp(-(y/C)**W ))**N) - nyears*pr\n",
      "/home/arturo/github/downpy/codes/downscale.py:1345: RuntimeWarning: invalid value encountered in power\n",
      "  mev0f = np.sum( ( 1-np.exp(-(y/C)**W ))**N) - nyears*pr\n",
      "/home/arturo/github/downpy/codes/downscale.py:1345: RuntimeWarning: invalid value encountered in power\n",
      "  mev0f = np.sum( ( 1-np.exp(-(y/C)**W ))**N) - nyears*pr\n",
      "/home/arturo/github/downpy/codes/downscale.py:1345: RuntimeWarning: invalid value encountered in power\n",
      "  mev0f = np.sum( ( 1-np.exp(-(y/C)**W ))**N) - nyears*pr\n"
     ]
    },
    {
     "name": "stdout",
     "output_type": "stream",
     "text": [
      "mevd_quant:: ERROR - fsolve does not work -  change x0\n",
      "mevd_quant:: ERROR - fsolve does not work -  change x0\n",
      "mevd_quant:: ERROR - fsolve does not work -  change x0\n",
      "mevd_quant:: ERROR - fsolve does not work -  change x0\n",
      "mevd_quant:: ERROR - fsolve does not work -  change x0\n",
      "mevd_quant:: ERROR - fsolve does not work -  change x0\n",
      "mevd_quant:: ERROR - fsolve does not work -  change x0\n",
      "mevd_quant:: ERROR - fsolve does not work -  change x0\n",
      "mevd_quant:: ERROR - fsolve does not work -  change x0\n",
      "mevd_quant:: ERROR - fsolve does not work -  change x0\n",
      "mevd_quant:: ERROR - fsolve does not work -  change x0\n",
      "mevd_quant:: ERROR - fsolve does not work -  change x0\n",
      "mevd_quant:: ERROR - fsolve does not work -  change x0\n",
      "mevd_quant:: ERROR - fsolve does not work -  change x0\n",
      "mevd_quant:: ERROR - fsolve does not work -  change x0\n",
      "mevd_quant:: ERROR - fsolve does not work -  change x0\n",
      "mevd_quant:: ERROR - fsolve does not work -  change x0\n",
      "mevd_quant:: ERROR - fsolve does not work -  change x0\n",
      "mevd_quant:: ERROR - fsolve does not work -  change x0\n",
      "mevd_quant:: ERROR - fsolve does not work -  change x0\n",
      "mevd_quant:: ERROR - fsolve does not work -  change x0\n",
      "mevd_quant:: ERROR - fsolve does not work -  change x0\n",
      "mevd_quant:: ERROR - fsolve does not work -  change x0\n",
      "mevd_quant:: ERROR - fsolve does not work -  change x0\n",
      "mevd_quant:: ERROR - fsolve does not work -  change x0\n",
      "mevd_quant:: ERROR - fsolve does not work -  change x0\n"
     ]
    },
    {
     "name": "stderr",
     "output_type": "stream",
     "text": [
      "/home/arturo/github/downpy/codes/downscale.py:1345: RuntimeWarning: invalid value encountered in power\n",
      "  mev0f = np.sum( ( 1-np.exp(-(y/C)**W ))**N) - nyears*pr\n",
      "/home/arturo/github/downpy/codes/downscale.py:1345: RuntimeWarning: invalid value encountered in power\n",
      "  mev0f = np.sum( ( 1-np.exp(-(y/C)**W ))**N) - nyears*pr\n",
      "/home/arturo/github/downpy/codes/downscale.py:1345: RuntimeWarning: invalid value encountered in power\n",
      "  mev0f = np.sum( ( 1-np.exp(-(y/C)**W ))**N) - nyears*pr\n",
      "/home/arturo/github/downpy/codes/downscale.py:1345: RuntimeWarning: invalid value encountered in power\n",
      "  mev0f = np.sum( ( 1-np.exp(-(y/C)**W ))**N) - nyears*pr\n",
      "/home/arturo/github/downpy/codes/downscale.py:1345: RuntimeWarning: invalid value encountered in power\n",
      "  mev0f = np.sum( ( 1-np.exp(-(y/C)**W ))**N) - nyears*pr\n"
     ]
    },
    {
     "name": "stdout",
     "output_type": "stream",
     "text": [
      "mevd_quant:: ERROR - fsolve does not work -  change x0\n",
      "mevd_quant:: ERROR - fsolve does not work -  change x0\n",
      "mevd_quant:: ERROR - fsolve does not work -  change x0\n",
      "mevd_quant:: ERROR - fsolve does not work -  change x0\n",
      "mevd_quant:: ERROR - fsolve does not work -  change x0\n",
      "mevd_quant:: ERROR - fsolve does not work -  change x0\n",
      "mevd_quant:: ERROR - fsolve does not work -  change x0\n",
      "mevd_quant:: ERROR - fsolve does not work -  change x0\n",
      "mevd_quant:: ERROR - fsolve does not work -  change x0\n",
      "mevd_quant:: ERROR - fsolve does not work -  change x0\n",
      "mevd_quant:: ERROR - fsolve does not work -  change x0\n",
      "mevd_quant:: ERROR - fsolve does not work -  change x0\n",
      "mevd_quant:: ERROR - fsolve does not work -  change x0\n",
      "mevd_quant:: ERROR - fsolve does not work -  change x0\n",
      "mevd_quant:: ERROR - fsolve does not work -  change x0\n",
      "11\n",
      "mevd_quant:: ERROR - fsolve does not work -  change x0\n",
      "mevd_quant:: ERROR - fsolve does not work -  change x0\n",
      "mevd_quant:: ERROR - fsolve does not work -  change x0\n",
      "mevd_quant:: ERROR - fsolve does not work -  change x0\n",
      "mevd_quant:: ERROR - fsolve does not work -  change x0\n",
      "mevd_quant:: ERROR - fsolve does not work -  change x0\n",
      "mevd_quant:: ERROR - fsolve does not work -  change x0\n",
      "mevd_quant:: ERROR - fsolve does not work -  change x0\n",
      "mevd_quant:: ERROR - fsolve does not work -  change x0\n",
      "mevd_quant:: ERROR - fsolve does not work -  change x0\n",
      "mevd_quant:: ERROR - fsolve does not work -  change x0\n",
      "mevd_quant:: ERROR - fsolve does not work -  change x0\n",
      "mevd_quant:: ERROR - fsolve does not work -  change x0\n",
      "mevd_quant:: ERROR - fsolve does not work -  change x0\n",
      "mevd_quant:: ERROR - fsolve does not work -  change x0\n",
      "mevd_quant:: ERROR - fsolve does not work -  change x0\n",
      "mevd_quant:: ERROR - fsolve does not work -  change x0\n"
     ]
    },
    {
     "name": "stderr",
     "output_type": "stream",
     "text": [
      "/home/arturo/github/downpy/codes/downscale.py:1345: RuntimeWarning: invalid value encountered in power\n",
      "  mev0f = np.sum( ( 1-np.exp(-(y/C)**W ))**N) - nyears*pr\n",
      "/home/arturo/github/downpy/codes/downscale.py:1345: RuntimeWarning: invalid value encountered in power\n",
      "  mev0f = np.sum( ( 1-np.exp(-(y/C)**W ))**N) - nyears*pr\n",
      "/home/arturo/github/downpy/codes/downscale.py:1345: RuntimeWarning: invalid value encountered in power\n",
      "  mev0f = np.sum( ( 1-np.exp(-(y/C)**W ))**N) - nyears*pr\n",
      "/home/arturo/github/downpy/codes/downscale.py:1345: RuntimeWarning: invalid value encountered in power\n",
      "  mev0f = np.sum( ( 1-np.exp(-(y/C)**W ))**N) - nyears*pr\n",
      "/home/arturo/github/downpy/codes/downscale.py:1345: RuntimeWarning: invalid value encountered in power\n",
      "  mev0f = np.sum( ( 1-np.exp(-(y/C)**W ))**N) - nyears*pr\n",
      "/home/arturo/github/downpy/codes/downscale.py:1345: RuntimeWarning: invalid value encountered in power\n",
      "  mev0f = np.sum( ( 1-np.exp(-(y/C)**W ))**N) - nyears*pr\n",
      "/home/arturo/github/downpy/codes/downscale.py:1345: RuntimeWarning: invalid value encountered in power\n",
      "  mev0f = np.sum( ( 1-np.exp(-(y/C)**W ))**N) - nyears*pr\n",
      "/home/arturo/github/downpy/codes/downscale.py:1345: RuntimeWarning: invalid value encountered in power\n",
      "  mev0f = np.sum( ( 1-np.exp(-(y/C)**W ))**N) - nyears*pr\n",
      "/home/arturo/github/downpy/codes/downscale.py:1345: RuntimeWarning: invalid value encountered in power\n",
      "  mev0f = np.sum( ( 1-np.exp(-(y/C)**W ))**N) - nyears*pr\n",
      "/home/arturo/github/downpy/codes/downscale.py:1345: RuntimeWarning: invalid value encountered in power\n",
      "  mev0f = np.sum( ( 1-np.exp(-(y/C)**W ))**N) - nyears*pr\n"
     ]
    },
    {
     "name": "stdout",
     "output_type": "stream",
     "text": [
      "mevd_quant:: ERROR - fsolve does not work -  change x0\n",
      "mevd_quant:: ERROR - fsolve does not work -  change x0\n",
      "mevd_quant:: ERROR - fsolve does not work -  change x0\n",
      "mevd_quant:: ERROR - fsolve does not work -  change x0\n",
      "mevd_quant:: ERROR - fsolve does not work -  change x0\n",
      "mevd_quant:: ERROR - fsolve does not work -  change x0\n",
      "mevd_quant:: ERROR - fsolve does not work -  change x0\n",
      "mevd_quant:: ERROR - fsolve does not work -  change x0\n",
      "mevd_quant:: ERROR - fsolve does not work -  change x0\n",
      "mevd_quant:: ERROR - fsolve does not work -  change x0\n",
      "mevd_quant:: ERROR - fsolve does not work -  change x0\n"
     ]
    },
    {
     "name": "stderr",
     "output_type": "stream",
     "text": [
      "/home/arturo/github/downpy/codes/downscale.py:1345: RuntimeWarning: invalid value encountered in power\n",
      "  mev0f = np.sum( ( 1-np.exp(-(y/C)**W ))**N) - nyears*pr\n",
      "/home/arturo/github/downpy/codes/downscale.py:1345: RuntimeWarning: invalid value encountered in power\n",
      "  mev0f = np.sum( ( 1-np.exp(-(y/C)**W ))**N) - nyears*pr\n",
      "/home/arturo/github/downpy/codes/downscale.py:1345: RuntimeWarning: invalid value encountered in power\n",
      "  mev0f = np.sum( ( 1-np.exp(-(y/C)**W ))**N) - nyears*pr\n"
     ]
    },
    {
     "name": "stdout",
     "output_type": "stream",
     "text": [
      "mevd_quant:: ERROR - fsolve does not work -  change x0\n",
      "mevd_quant:: ERROR - fsolve does not work -  change x0\n",
      "mevd_quant:: ERROR - fsolve does not work -  change x0\n",
      "mevd_quant:: ERROR - fsolve does not work -  change x0\n",
      "mevd_quant:: ERROR - fsolve does not work -  change x0\n",
      "mevd_quant:: ERROR - fsolve does not work -  change x0\n"
     ]
    },
    {
     "name": "stderr",
     "output_type": "stream",
     "text": [
      "/home/arturo/github/downpy/codes/downscale.py:1345: RuntimeWarning: invalid value encountered in power\n",
      "  mev0f = np.sum( ( 1-np.exp(-(y/C)**W ))**N) - nyears*pr\n",
      "/home/arturo/github/downpy/codes/downscale.py:1345: RuntimeWarning: invalid value encountered in power\n",
      "  mev0f = np.sum( ( 1-np.exp(-(y/C)**W ))**N) - nyears*pr\n",
      "/home/arturo/github/downpy/codes/downscale.py:1345: RuntimeWarning: invalid value encountered in power\n",
      "  mev0f = np.sum( ( 1-np.exp(-(y/C)**W ))**N) - nyears*pr\n",
      "/home/arturo/github/downpy/codes/downscale.py:1345: RuntimeWarning: invalid value encountered in power\n",
      "  mev0f = np.sum( ( 1-np.exp(-(y/C)**W ))**N) - nyears*pr\n",
      "/home/arturo/github/downpy/codes/downscale.py:1345: RuntimeWarning: invalid value encountered in power\n",
      "  mev0f = np.sum( ( 1-np.exp(-(y/C)**W ))**N) - nyears*pr\n",
      "/home/arturo/github/downpy/codes/downscale.py:1345: RuntimeWarning: invalid value encountered in power\n",
      "  mev0f = np.sum( ( 1-np.exp(-(y/C)**W ))**N) - nyears*pr\n",
      "/home/arturo/github/downpy/codes/downscale.py:1345: RuntimeWarning: invalid value encountered in power\n",
      "  mev0f = np.sum( ( 1-np.exp(-(y/C)**W ))**N) - nyears*pr\n",
      "/home/arturo/github/downpy/codes/downscale.py:1345: RuntimeWarning: invalid value encountered in power\n",
      "  mev0f = np.sum( ( 1-np.exp(-(y/C)**W ))**N) - nyears*pr\n",
      "/home/arturo/github/downpy/codes/downscale.py:1345: RuntimeWarning: invalid value encountered in power\n",
      "  mev0f = np.sum( ( 1-np.exp(-(y/C)**W ))**N) - nyears*pr\n"
     ]
    },
    {
     "name": "stdout",
     "output_type": "stream",
     "text": [
      "mevd_quant:: ERROR - fsolve does not work -  change x0\n",
      "mevd_quant:: ERROR - fsolve does not work -  change x0\n",
      "mevd_quant:: ERROR - fsolve does not work -  change x0\n",
      "mevd_quant:: ERROR - fsolve does not work -  change x0\n",
      "mevd_quant:: ERROR - fsolve does not work -  change x0\n",
      "mevd_quant:: ERROR - fsolve does not work -  change x0\n",
      "mevd_quant:: ERROR - fsolve does not work -  change x0\n",
      "mevd_quant:: ERROR - fsolve does not work -  change x0\n",
      "mevd_quant:: ERROR - fsolve does not work -  change x0\n",
      "mevd_quant:: ERROR - fsolve does not work -  change x0\n",
      "mevd_quant:: ERROR - fsolve does not work -  change x0\n",
      "mevd_quant:: ERROR - fsolve does not work -  change x0\n",
      "mevd_quant:: ERROR - fsolve does not work -  change x0\n",
      "mevd_quant:: ERROR - fsolve does not work -  change x0\n",
      "mevd_quant:: ERROR - fsolve does not work -  change x0\n",
      "mevd_quant:: ERROR - fsolve does not work -  change x0\n",
      "mevd_quant:: ERROR - fsolve does not work -  change x0\n",
      "mevd_quant:: ERROR - fsolve does not work -  change x0\n",
      "mevd_quant:: ERROR - fsolve does not work -  change x0\n",
      "mevd_quant:: ERROR - fsolve does not work -  change x0\n",
      "mevd_quant:: ERROR - fsolve does not work -  change x0\n",
      "12\n",
      "mevd_quant:: ERROR - fsolve does not work -  change x0\n",
      "mevd_quant:: ERROR - fsolve does not work -  change x0\n"
     ]
    },
    {
     "name": "stderr",
     "output_type": "stream",
     "text": [
      "/home/arturo/github/downpy/codes/downscale.py:1345: RuntimeWarning: invalid value encountered in power\n",
      "  mev0f = np.sum( ( 1-np.exp(-(y/C)**W ))**N) - nyears*pr\n",
      "/home/arturo/github/downpy/codes/downscale.py:1345: RuntimeWarning: invalid value encountered in power\n",
      "  mev0f = np.sum( ( 1-np.exp(-(y/C)**W ))**N) - nyears*pr\n",
      "/home/arturo/github/downpy/codes/downscale.py:1345: RuntimeWarning: invalid value encountered in power\n",
      "  mev0f = np.sum( ( 1-np.exp(-(y/C)**W ))**N) - nyears*pr\n",
      "/home/arturo/github/downpy/codes/downscale.py:1345: RuntimeWarning: invalid value encountered in power\n",
      "  mev0f = np.sum( ( 1-np.exp(-(y/C)**W ))**N) - nyears*pr\n"
     ]
    },
    {
     "name": "stdout",
     "output_type": "stream",
     "text": [
      "mevd_quant:: ERROR - fsolve does not work -  change x0\n",
      "mevd_quant:: ERROR - fsolve does not work -  change x0\n",
      "mevd_quant:: ERROR - fsolve does not work -  change x0\n",
      "mevd_quant:: ERROR - fsolve does not work -  change x0\n",
      "mevd_quant:: ERROR - fsolve does not work -  change x0\n",
      "mevd_quant:: ERROR - fsolve does not work -  change x0\n",
      "mevd_quant:: ERROR - fsolve does not work -  change x0\n",
      "mevd_quant:: ERROR - fsolve does not work -  change x0\n",
      "mevd_quant:: ERROR - fsolve does not work -  change x0\n",
      "mevd_quant:: ERROR - fsolve does not work -  change x0\n",
      "mevd_quant:: ERROR - fsolve does not work -  change x0\n",
      "mevd_quant:: ERROR - fsolve does not work -  change x0\n",
      "mevd_quant:: ERROR - fsolve does not work -  change x0\n",
      "mevd_quant:: ERROR - fsolve does not work -  change x0\n",
      "mevd_quant:: ERROR - fsolve does not work -  change x0\n",
      "mevd_quant:: ERROR - fsolve does not work -  change x0\n",
      "mevd_quant:: ERROR - fsolve does not work -  change x0\n",
      "mevd_quant:: ERROR - fsolve does not work -  change x0\n",
      "mevd_quant:: ERROR - fsolve does not work -  change x0\n"
     ]
    },
    {
     "name": "stderr",
     "output_type": "stream",
     "text": [
      "/home/arturo/github/downpy/codes/downscale.py:1345: RuntimeWarning: invalid value encountered in power\n",
      "  mev0f = np.sum( ( 1-np.exp(-(y/C)**W ))**N) - nyears*pr\n",
      "/home/arturo/github/downpy/codes/downscale.py:1345: RuntimeWarning: invalid value encountered in power\n",
      "  mev0f = np.sum( ( 1-np.exp(-(y/C)**W ))**N) - nyears*pr\n",
      "/home/arturo/github/downpy/codes/downscale.py:1345: RuntimeWarning: invalid value encountered in power\n",
      "  mev0f = np.sum( ( 1-np.exp(-(y/C)**W ))**N) - nyears*pr\n",
      "/home/arturo/github/downpy/codes/downscale.py:1345: RuntimeWarning: invalid value encountered in power\n",
      "  mev0f = np.sum( ( 1-np.exp(-(y/C)**W ))**N) - nyears*pr\n",
      "/home/arturo/github/downpy/codes/downscale.py:1345: RuntimeWarning: invalid value encountered in power\n",
      "  mev0f = np.sum( ( 1-np.exp(-(y/C)**W ))**N) - nyears*pr\n"
     ]
    },
    {
     "name": "stdout",
     "output_type": "stream",
     "text": [
      "mevd_quant:: ERROR - fsolve does not work -  change x0\n",
      "mevd_quant:: ERROR - fsolve does not work -  change x0\n"
     ]
    },
    {
     "name": "stderr",
     "output_type": "stream",
     "text": [
      "/home/arturo/github/downpy/codes/downscale.py:1345: RuntimeWarning: invalid value encountered in power\n",
      "  mev0f = np.sum( ( 1-np.exp(-(y/C)**W ))**N) - nyears*pr\n",
      "/home/arturo/github/downpy/codes/downscale.py:1345: RuntimeWarning: invalid value encountered in power\n",
      "  mev0f = np.sum( ( 1-np.exp(-(y/C)**W ))**N) - nyears*pr\n",
      "/home/arturo/github/downpy/codes/downscale.py:1345: RuntimeWarning: invalid value encountered in power\n",
      "  mev0f = np.sum( ( 1-np.exp(-(y/C)**W ))**N) - nyears*pr\n",
      "/home/arturo/github/downpy/codes/downscale.py:1345: RuntimeWarning: invalid value encountered in power\n",
      "  mev0f = np.sum( ( 1-np.exp(-(y/C)**W ))**N) - nyears*pr\n",
      "/home/arturo/github/downpy/codes/downscale.py:1345: RuntimeWarning: invalid value encountered in power\n",
      "  mev0f = np.sum( ( 1-np.exp(-(y/C)**W ))**N) - nyears*pr\n",
      "/home/arturo/github/downpy/codes/downscale.py:1345: RuntimeWarning: invalid value encountered in power\n",
      "  mev0f = np.sum( ( 1-np.exp(-(y/C)**W ))**N) - nyears*pr\n",
      "/home/arturo/github/downpy/codes/downscale.py:1345: RuntimeWarning: invalid value encountered in power\n",
      "  mev0f = np.sum( ( 1-np.exp(-(y/C)**W ))**N) - nyears*pr\n",
      "/home/arturo/github/downpy/codes/downscale.py:1345: RuntimeWarning: invalid value encountered in power\n",
      "  mev0f = np.sum( ( 1-np.exp(-(y/C)**W ))**N) - nyears*pr\n",
      "/home/arturo/github/downpy/codes/downscale.py:1345: RuntimeWarning: invalid value encountered in power\n",
      "  mev0f = np.sum( ( 1-np.exp(-(y/C)**W ))**N) - nyears*pr\n"
     ]
    },
    {
     "name": "stdout",
     "output_type": "stream",
     "text": [
      "mevd_quant:: ERROR - fsolve does not work -  change x0\n",
      "mevd_quant:: ERROR - fsolve does not work -  change x0\n",
      "mevd_quant:: ERROR - fsolve does not work -  change x0\n",
      "mevd_quant:: ERROR - fsolve does not work -  change x0\n",
      "mevd_quant:: ERROR - fsolve does not work -  change x0\n",
      "mevd_quant:: ERROR - fsolve does not work -  change x0\n",
      "mevd_quant:: ERROR - fsolve does not work -  change x0\n",
      "mevd_quant:: ERROR - fsolve does not work -  change x0\n",
      "mevd_quant:: ERROR - fsolve does not work -  change x0\n",
      "mevd_quant:: ERROR - fsolve does not work -  change x0\n",
      "mevd_quant:: ERROR - fsolve does not work -  change x0\n",
      "mevd_quant:: ERROR - fsolve does not work -  change x0\n",
      "mevd_quant:: ERROR - fsolve does not work -  change x0\n",
      "mevd_quant:: ERROR - fsolve does not work -  change x0\n",
      "mevd_quant:: ERROR - fsolve does not work -  change x0\n",
      "mevd_quant:: ERROR - fsolve does not work -  change x0\n",
      "mevd_quant:: ERROR - fsolve does not work -  change x0\n",
      "mevd_quant:: ERROR - fsolve does not work -  change x0\n",
      "mevd_quant:: ERROR - fsolve does not work -  change x0\n",
      "mevd_quant:: ERROR - fsolve does not work -  change x0\n",
      "mevd_quant:: ERROR - fsolve does not work -  change x0\n",
      "mevd_quant:: ERROR - fsolve does not work -  change x0\n",
      "mevd_quant:: ERROR - fsolve does not work -  change x0\n",
      "mevd_quant:: ERROR - fsolve does not work -  change x0\n",
      "mevd_quant:: ERROR - fsolve does not work -  change x0\n",
      "13\n"
     ]
    },
    {
     "name": "stderr",
     "output_type": "stream",
     "text": [
      "/home/arturo/github/downpy/codes/downscale.py:1345: RuntimeWarning: invalid value encountered in power\n",
      "  mev0f = np.sum( ( 1-np.exp(-(y/C)**W ))**N) - nyears*pr\n",
      "/home/arturo/github/downpy/codes/downscale.py:1345: RuntimeWarning: invalid value encountered in power\n",
      "  mev0f = np.sum( ( 1-np.exp(-(y/C)**W ))**N) - nyears*pr\n",
      "/home/arturo/github/downpy/codes/downscale.py:1345: RuntimeWarning: invalid value encountered in power\n",
      "  mev0f = np.sum( ( 1-np.exp(-(y/C)**W ))**N) - nyears*pr\n",
      "/home/arturo/github/downpy/codes/downscale.py:1345: RuntimeWarning: invalid value encountered in power\n",
      "  mev0f = np.sum( ( 1-np.exp(-(y/C)**W ))**N) - nyears*pr\n",
      "/home/arturo/github/downpy/codes/downscale.py:1345: RuntimeWarning: invalid value encountered in power\n",
      "  mev0f = np.sum( ( 1-np.exp(-(y/C)**W ))**N) - nyears*pr\n"
     ]
    },
    {
     "name": "stdout",
     "output_type": "stream",
     "text": [
      "mevd_quant:: ERROR - fsolve does not work -  change x0\n",
      "mevd_quant:: ERROR - fsolve does not work -  change x0\n",
      "mevd_quant:: ERROR - fsolve does not work -  change x0\n",
      "mevd_quant:: ERROR - fsolve does not work -  change x0\n",
      "mevd_quant:: ERROR - fsolve does not work -  change x0\n",
      "mevd_quant:: ERROR - fsolve does not work -  change x0\n",
      "mevd_quant:: ERROR - fsolve does not work -  change x0\n",
      "mevd_quant:: ERROR - fsolve does not work -  change x0\n",
      "mevd_quant:: ERROR - fsolve does not work -  change x0\n",
      "mevd_quant:: ERROR - fsolve does not work -  change x0\n",
      "mevd_quant:: ERROR - fsolve does not work -  change x0\n",
      "mevd_quant:: ERROR - fsolve does not work -  change x0\n"
     ]
    },
    {
     "name": "stderr",
     "output_type": "stream",
     "text": [
      "/home/arturo/github/downpy/codes/downscale.py:1345: RuntimeWarning: invalid value encountered in power\n",
      "  mev0f = np.sum( ( 1-np.exp(-(y/C)**W ))**N) - nyears*pr\n",
      "/home/arturo/github/downpy/codes/downscale.py:1345: RuntimeWarning: invalid value encountered in power\n",
      "  mev0f = np.sum( ( 1-np.exp(-(y/C)**W ))**N) - nyears*pr\n"
     ]
    },
    {
     "name": "stdout",
     "output_type": "stream",
     "text": [
      "mevd_quant:: ERROR - fsolve does not work -  change x0\n",
      "mevd_quant:: ERROR - fsolve does not work -  change x0\n",
      "mevd_quant:: ERROR - fsolve does not work -  change x0\n",
      "mevd_quant:: ERROR - fsolve does not work -  change x0\n",
      "mevd_quant:: ERROR - fsolve does not work -  change x0\n",
      "mevd_quant:: ERROR - fsolve does not work -  change x0\n",
      "mevd_quant:: ERROR - fsolve does not work -  change x0\n",
      "mevd_quant:: ERROR - fsolve does not work -  change x0\n"
     ]
    },
    {
     "name": "stderr",
     "output_type": "stream",
     "text": [
      "/home/arturo/github/downpy/codes/downscale.py:1345: RuntimeWarning: invalid value encountered in power\n",
      "  mev0f = np.sum( ( 1-np.exp(-(y/C)**W ))**N) - nyears*pr\n",
      "/home/arturo/github/downpy/codes/downscale.py:1345: RuntimeWarning: invalid value encountered in power\n",
      "  mev0f = np.sum( ( 1-np.exp(-(y/C)**W ))**N) - nyears*pr\n",
      "/home/arturo/github/downpy/codes/downscale.py:1345: RuntimeWarning: invalid value encountered in power\n",
      "  mev0f = np.sum( ( 1-np.exp(-(y/C)**W ))**N) - nyears*pr\n"
     ]
    },
    {
     "name": "stdout",
     "output_type": "stream",
     "text": [
      "mevd_quant:: ERROR - fsolve does not work -  change x0\n",
      "mevd_quant:: ERROR - fsolve does not work -  change x0\n",
      "mevd_quant:: ERROR - fsolve does not work -  change x0\n",
      "mevd_quant:: ERROR - fsolve does not work -  change x0\n",
      "mevd_quant:: ERROR - fsolve does not work -  change x0\n",
      "mevd_quant:: ERROR - fsolve does not work -  change x0\n"
     ]
    },
    {
     "name": "stderr",
     "output_type": "stream",
     "text": [
      "/home/arturo/github/downpy/codes/downscale.py:1345: RuntimeWarning: invalid value encountered in power\n",
      "  mev0f = np.sum( ( 1-np.exp(-(y/C)**W ))**N) - nyears*pr\n",
      "/home/arturo/github/downpy/codes/downscale.py:1345: RuntimeWarning: invalid value encountered in power\n",
      "  mev0f = np.sum( ( 1-np.exp(-(y/C)**W ))**N) - nyears*pr\n",
      "/home/arturo/github/downpy/codes/downscale.py:1345: RuntimeWarning: invalid value encountered in power\n",
      "  mev0f = np.sum( ( 1-np.exp(-(y/C)**W ))**N) - nyears*pr\n",
      "/home/arturo/github/downpy/codes/downscale.py:1345: RuntimeWarning: invalid value encountered in power\n",
      "  mev0f = np.sum( ( 1-np.exp(-(y/C)**W ))**N) - nyears*pr\n",
      "/home/arturo/github/downpy/codes/downscale.py:1345: RuntimeWarning: invalid value encountered in power\n",
      "  mev0f = np.sum( ( 1-np.exp(-(y/C)**W ))**N) - nyears*pr\n"
     ]
    },
    {
     "name": "stdout",
     "output_type": "stream",
     "text": [
      "mevd_quant:: ERROR - fsolve does not work -  change x0\n",
      "mevd_quant:: ERROR - fsolve does not work -  change x0\n",
      "mevd_quant:: ERROR - fsolve does not work -  change x0\n",
      "mevd_quant:: ERROR - fsolve does not work -  change x0\n",
      "mevd_quant:: ERROR - fsolve does not work -  change x0\n",
      "mevd_quant:: ERROR - fsolve does not work -  change x0\n",
      "mevd_quant:: ERROR - fsolve does not work -  change x0\n",
      "mevd_quant:: ERROR - fsolve does not work -  change x0\n",
      "mevd_quant:: ERROR - fsolve does not work -  change x0\n",
      "mevd_quant:: ERROR - fsolve does not work -  change x0\n",
      "mevd_quant:: ERROR - fsolve does not work -  change x0\n",
      "mevd_quant:: ERROR - fsolve does not work -  change x0\n",
      "mevd_quant:: ERROR - fsolve does not work -  change x0\n",
      "mevd_quant:: ERROR - fsolve does not work -  change x0\n",
      "14\n",
      "mevd_quant:: ERROR - fsolve does not work -  change x0\n",
      "mevd_quant:: ERROR - fsolve does not work -  change x0\n",
      "mevd_quant:: ERROR - fsolve does not work -  change x0\n",
      "mevd_quant:: ERROR - fsolve does not work -  change x0\n",
      "mevd_quant:: ERROR - fsolve does not work -  change x0\n",
      "mevd_quant:: ERROR - fsolve does not work -  change x0\n",
      "mevd_quant:: ERROR - fsolve does not work -  change x0\n"
     ]
    },
    {
     "name": "stderr",
     "output_type": "stream",
     "text": [
      "/home/arturo/github/downpy/codes/downscale.py:1345: RuntimeWarning: invalid value encountered in power\n",
      "  mev0f = np.sum( ( 1-np.exp(-(y/C)**W ))**N) - nyears*pr\n",
      "/home/arturo/github/downpy/codes/downscale.py:1345: RuntimeWarning: invalid value encountered in power\n",
      "  mev0f = np.sum( ( 1-np.exp(-(y/C)**W ))**N) - nyears*pr\n",
      "/home/arturo/github/downpy/codes/downscale.py:1345: RuntimeWarning: invalid value encountered in power\n",
      "  mev0f = np.sum( ( 1-np.exp(-(y/C)**W ))**N) - nyears*pr\n",
      "/home/arturo/github/downpy/codes/downscale.py:1345: RuntimeWarning: invalid value encountered in power\n",
      "  mev0f = np.sum( ( 1-np.exp(-(y/C)**W ))**N) - nyears*pr\n",
      "/home/arturo/github/downpy/codes/downscale.py:1345: RuntimeWarning: invalid value encountered in power\n",
      "  mev0f = np.sum( ( 1-np.exp(-(y/C)**W ))**N) - nyears*pr\n"
     ]
    },
    {
     "name": "stdout",
     "output_type": "stream",
     "text": [
      "mevd_quant:: ERROR - fsolve does not work -  change x0\n",
      "mevd_quant:: ERROR - fsolve does not work -  change x0\n",
      "mevd_quant:: ERROR - fsolve does not work -  change x0\n",
      "mevd_quant:: ERROR - fsolve does not work -  change x0\n",
      "mevd_quant:: ERROR - fsolve does not work -  change x0\n",
      "mevd_quant:: ERROR - fsolve does not work -  change x0\n",
      "mevd_quant:: ERROR - fsolve does not work -  change x0\n",
      "mevd_quant:: ERROR - fsolve does not work -  change x0\n",
      "mevd_quant:: ERROR - fsolve does not work -  change x0\n",
      "mevd_quant:: ERROR - fsolve does not work -  change x0\n",
      "mevd_quant:: ERROR - fsolve does not work -  change x0\n",
      "mevd_quant:: ERROR - fsolve does not work -  change x0\n",
      "mevd_quant:: ERROR - fsolve does not work -  change x0\n",
      "mevd_quant:: ERROR - fsolve does not work -  change x0\n"
     ]
    },
    {
     "name": "stderr",
     "output_type": "stream",
     "text": [
      "/home/arturo/github/downpy/codes/downscale.py:1345: RuntimeWarning: invalid value encountered in power\n",
      "  mev0f = np.sum( ( 1-np.exp(-(y/C)**W ))**N) - nyears*pr\n",
      "/home/arturo/github/downpy/codes/downscale.py:1345: RuntimeWarning: invalid value encountered in power\n",
      "  mev0f = np.sum( ( 1-np.exp(-(y/C)**W ))**N) - nyears*pr\n",
      "/home/arturo/github/downpy/codes/downscale.py:1345: RuntimeWarning: invalid value encountered in power\n",
      "  mev0f = np.sum( ( 1-np.exp(-(y/C)**W ))**N) - nyears*pr\n"
     ]
    },
    {
     "name": "stdout",
     "output_type": "stream",
     "text": [
      "mevd_quant:: ERROR - fsolve does not work -  change x0\n"
     ]
    },
    {
     "name": "stderr",
     "output_type": "stream",
     "text": [
      "/home/arturo/github/downpy/codes/downscale.py:1345: RuntimeWarning: invalid value encountered in power\n",
      "  mev0f = np.sum( ( 1-np.exp(-(y/C)**W ))**N) - nyears*pr\n",
      "/home/arturo/github/downpy/codes/downscale.py:1345: RuntimeWarning: invalid value encountered in power\n",
      "  mev0f = np.sum( ( 1-np.exp(-(y/C)**W ))**N) - nyears*pr\n",
      "/home/arturo/github/downpy/codes/downscale.py:1345: RuntimeWarning: invalid value encountered in power\n",
      "  mev0f = np.sum( ( 1-np.exp(-(y/C)**W ))**N) - nyears*pr\n"
     ]
    },
    {
     "name": "stdout",
     "output_type": "stream",
     "text": [
      "mevd_quant:: ERROR - fsolve does not work -  change x0\n",
      "mevd_quant:: ERROR - fsolve does not work -  change x0\n",
      "mevd_quant:: ERROR - fsolve does not work -  change x0\n",
      "mevd_quant:: ERROR - fsolve does not work -  change x0\n",
      "mevd_quant:: ERROR - fsolve does not work -  change x0\n",
      "mevd_quant:: ERROR - fsolve does not work -  change x0\n",
      "mevd_quant:: ERROR - fsolve does not work -  change x0\n",
      "mevd_quant:: ERROR - fsolve does not work -  change x0\n",
      "mevd_quant:: ERROR - fsolve does not work -  change x0\n",
      "15\n"
     ]
    },
    {
     "name": "stderr",
     "output_type": "stream",
     "text": [
      "/home/arturo/github/downpy/codes/downscale.py:1345: RuntimeWarning: invalid value encountered in power\n",
      "  mev0f = np.sum( ( 1-np.exp(-(y/C)**W ))**N) - nyears*pr\n",
      "/home/arturo/github/downpy/codes/downscale.py:1345: RuntimeWarning: invalid value encountered in power\n",
      "  mev0f = np.sum( ( 1-np.exp(-(y/C)**W ))**N) - nyears*pr\n",
      "/home/arturo/github/downpy/codes/downscale.py:1345: RuntimeWarning: invalid value encountered in power\n",
      "  mev0f = np.sum( ( 1-np.exp(-(y/C)**W ))**N) - nyears*pr\n",
      "/home/arturo/github/downpy/codes/downscale.py:1345: RuntimeWarning: invalid value encountered in power\n",
      "  mev0f = np.sum( ( 1-np.exp(-(y/C)**W ))**N) - nyears*pr\n"
     ]
    },
    {
     "name": "stdout",
     "output_type": "stream",
     "text": [
      "mevd_quant:: ERROR - fsolve does not work -  change x0\n",
      "mevd_quant:: ERROR - fsolve does not work -  change x0\n",
      "mevd_quant:: ERROR - fsolve does not work -  change x0\n",
      "mevd_quant:: ERROR - fsolve does not work -  change x0\n",
      "mevd_quant:: ERROR - fsolve does not work -  change x0\n",
      "mevd_quant:: ERROR - fsolve does not work -  change x0\n",
      "mevd_quant:: ERROR - fsolve does not work -  change x0\n",
      "mevd_quant:: ERROR - fsolve does not work -  change x0\n",
      "mevd_quant:: ERROR - fsolve does not work -  change x0\n",
      "mevd_quant:: ERROR - fsolve does not work -  change x0\n",
      "mevd_quant:: ERROR - fsolve does not work -  change x0\n"
     ]
    },
    {
     "ename": "KeyboardInterrupt",
     "evalue": "",
     "output_type": "error",
     "traceback": [
      "\u001b[0;31m---------------------------------------------------------------------------\u001b[0m",
      "\u001b[0;31mKeyboardInterrupt\u001b[0m                         Traceback (most recent call last)",
      "Cell \u001b[0;32mIn[6], line 9\u001b[0m\n\u001b[1;32m      7\u001b[0m \u001b[38;5;28mprint\u001b[39m(ii)\n\u001b[1;32m      8\u001b[0m \u001b[38;5;28;01mfor\u001b[39;00m jj, clat \u001b[38;5;129;01min\u001b[39;00m \u001b[38;5;28menumerate\u001b[39m(tmpalat):\n\u001b[0;32m----> 9\u001b[0m     xpixel \u001b[38;5;241m=\u001b[39m xconus\u001b[38;5;241m.\u001b[39msel(lat\u001b[38;5;241m=\u001b[39mclat, lon\u001b[38;5;241m=\u001b[39mclon)\u001b[38;5;241m.\u001b[39mdropna(dim\u001b[38;5;241m=\u001b[39m\u001b[38;5;124m'\u001b[39m\u001b[38;5;124mtime\u001b[39m\u001b[38;5;124m'\u001b[39m, how\u001b[38;5;241m=\u001b[39m\u001b[38;5;124m'\u001b[39m\u001b[38;5;124many\u001b[39m\u001b[38;5;124m'\u001b[39m)\u001b[38;5;241m.\u001b[39mload()\n\u001b[1;32m     10\u001b[0m     ts \u001b[38;5;241m=\u001b[39m xpixel\u001b[38;5;241m.\u001b[39mvalues\n\u001b[1;32m     11\u001b[0m     years \u001b[38;5;241m=\u001b[39m xpixel\u001b[38;5;241m.\u001b[39mtime\u001b[38;5;241m.\u001b[39mdt\u001b[38;5;241m.\u001b[39myear\u001b[38;5;241m.\u001b[39mvalues\n",
      "File \u001b[0;32m~/anaconda3/envs/AXE/lib/python3.12/site-packages/xarray/core/dataarray.py:1146\u001b[0m, in \u001b[0;36mDataArray.load\u001b[0;34m(self, **kwargs)\u001b[0m\n\u001b[1;32m   1126\u001b[0m \u001b[38;5;28;01mdef\u001b[39;00m \u001b[38;5;21mload\u001b[39m(\u001b[38;5;28mself\u001b[39m, \u001b[38;5;241m*\u001b[39m\u001b[38;5;241m*\u001b[39mkwargs) \u001b[38;5;241m-\u001b[39m\u001b[38;5;241m>\u001b[39m Self:\n\u001b[1;32m   1127\u001b[0m \u001b[38;5;250m    \u001b[39m\u001b[38;5;124;03m\"\"\"Manually trigger loading of this array's data from disk or a\u001b[39;00m\n\u001b[1;32m   1128\u001b[0m \u001b[38;5;124;03m    remote source into memory and return this array.\u001b[39;00m\n\u001b[1;32m   1129\u001b[0m \n\u001b[0;32m   (...)\u001b[0m\n\u001b[1;32m   1144\u001b[0m \u001b[38;5;124;03m    dask.compute\u001b[39;00m\n\u001b[1;32m   1145\u001b[0m \u001b[38;5;124;03m    \"\"\"\u001b[39;00m\n\u001b[0;32m-> 1146\u001b[0m     ds \u001b[38;5;241m=\u001b[39m \u001b[38;5;28mself\u001b[39m\u001b[38;5;241m.\u001b[39m_to_temp_dataset()\u001b[38;5;241m.\u001b[39mload(\u001b[38;5;241m*\u001b[39m\u001b[38;5;241m*\u001b[39mkwargs)\n\u001b[1;32m   1147\u001b[0m     new \u001b[38;5;241m=\u001b[39m \u001b[38;5;28mself\u001b[39m\u001b[38;5;241m.\u001b[39m_from_temp_dataset(ds)\n\u001b[1;32m   1148\u001b[0m     \u001b[38;5;28mself\u001b[39m\u001b[38;5;241m.\u001b[39m_variable \u001b[38;5;241m=\u001b[39m new\u001b[38;5;241m.\u001b[39m_variable\n",
      "File \u001b[0;32m~/anaconda3/envs/AXE/lib/python3.12/site-packages/xarray/core/dataset.py:862\u001b[0m, in \u001b[0;36mDataset.load\u001b[0;34m(self, **kwargs)\u001b[0m\n\u001b[1;32m    859\u001b[0m chunkmanager \u001b[38;5;241m=\u001b[39m get_chunked_array_type(\u001b[38;5;241m*\u001b[39mlazy_data\u001b[38;5;241m.\u001b[39mvalues())\n\u001b[1;32m    861\u001b[0m \u001b[38;5;66;03m# evaluate all the chunked arrays simultaneously\u001b[39;00m\n\u001b[0;32m--> 862\u001b[0m evaluated_data: \u001b[38;5;28mtuple\u001b[39m[np\u001b[38;5;241m.\u001b[39mndarray[Any, Any], \u001b[38;5;241m.\u001b[39m\u001b[38;5;241m.\u001b[39m\u001b[38;5;241m.\u001b[39m] \u001b[38;5;241m=\u001b[39m chunkmanager\u001b[38;5;241m.\u001b[39mcompute(\n\u001b[1;32m    863\u001b[0m     \u001b[38;5;241m*\u001b[39mlazy_data\u001b[38;5;241m.\u001b[39mvalues(), \u001b[38;5;241m*\u001b[39m\u001b[38;5;241m*\u001b[39mkwargs\n\u001b[1;32m    864\u001b[0m )\n\u001b[1;32m    866\u001b[0m \u001b[38;5;28;01mfor\u001b[39;00m k, data \u001b[38;5;129;01min\u001b[39;00m \u001b[38;5;28mzip\u001b[39m(lazy_data, evaluated_data):\n\u001b[1;32m    867\u001b[0m     \u001b[38;5;28mself\u001b[39m\u001b[38;5;241m.\u001b[39mvariables[k]\u001b[38;5;241m.\u001b[39mdata \u001b[38;5;241m=\u001b[39m data\n",
      "File \u001b[0;32m~/anaconda3/envs/AXE/lib/python3.12/site-packages/xarray/namedarray/daskmanager.py:86\u001b[0m, in \u001b[0;36mDaskManager.compute\u001b[0;34m(self, *data, **kwargs)\u001b[0m\n\u001b[1;32m     81\u001b[0m \u001b[38;5;28;01mdef\u001b[39;00m \u001b[38;5;21mcompute\u001b[39m(\n\u001b[1;32m     82\u001b[0m     \u001b[38;5;28mself\u001b[39m, \u001b[38;5;241m*\u001b[39mdata: Any, \u001b[38;5;241m*\u001b[39m\u001b[38;5;241m*\u001b[39mkwargs: Any\n\u001b[1;32m     83\u001b[0m ) \u001b[38;5;241m-\u001b[39m\u001b[38;5;241m>\u001b[39m \u001b[38;5;28mtuple\u001b[39m[np\u001b[38;5;241m.\u001b[39mndarray[Any, _DType_co], \u001b[38;5;241m.\u001b[39m\u001b[38;5;241m.\u001b[39m\u001b[38;5;241m.\u001b[39m]:\n\u001b[1;32m     84\u001b[0m     \u001b[38;5;28;01mfrom\u001b[39;00m \u001b[38;5;21;01mdask\u001b[39;00m\u001b[38;5;21;01m.\u001b[39;00m\u001b[38;5;21;01marray\u001b[39;00m \u001b[38;5;28;01mimport\u001b[39;00m compute\n\u001b[0;32m---> 86\u001b[0m     \u001b[38;5;28;01mreturn\u001b[39;00m compute(\u001b[38;5;241m*\u001b[39mdata, \u001b[38;5;241m*\u001b[39m\u001b[38;5;241m*\u001b[39mkwargs)\n",
      "File \u001b[0;32m~/anaconda3/envs/AXE/lib/python3.12/site-packages/dask/base.py:662\u001b[0m, in \u001b[0;36mcompute\u001b[0;34m(traverse, optimize_graph, scheduler, get, *args, **kwargs)\u001b[0m\n\u001b[1;32m    659\u001b[0m     postcomputes\u001b[38;5;241m.\u001b[39mappend(x\u001b[38;5;241m.\u001b[39m__dask_postcompute__())\n\u001b[1;32m    661\u001b[0m \u001b[38;5;28;01mwith\u001b[39;00m shorten_traceback():\n\u001b[0;32m--> 662\u001b[0m     results \u001b[38;5;241m=\u001b[39m schedule(dsk, keys, \u001b[38;5;241m*\u001b[39m\u001b[38;5;241m*\u001b[39mkwargs)\n\u001b[1;32m    664\u001b[0m \u001b[38;5;28;01mreturn\u001b[39;00m repack([f(r, \u001b[38;5;241m*\u001b[39ma) \u001b[38;5;28;01mfor\u001b[39;00m r, (f, a) \u001b[38;5;129;01min\u001b[39;00m \u001b[38;5;28mzip\u001b[39m(results, postcomputes)])\n",
      "File \u001b[0;32m~/anaconda3/envs/AXE/lib/python3.12/queue.py:171\u001b[0m, in \u001b[0;36mQueue.get\u001b[0;34m(self, block, timeout)\u001b[0m\n\u001b[1;32m    169\u001b[0m \u001b[38;5;28;01melif\u001b[39;00m timeout \u001b[38;5;129;01mis\u001b[39;00m \u001b[38;5;28;01mNone\u001b[39;00m:\n\u001b[1;32m    170\u001b[0m     \u001b[38;5;28;01mwhile\u001b[39;00m \u001b[38;5;129;01mnot\u001b[39;00m \u001b[38;5;28mself\u001b[39m\u001b[38;5;241m.\u001b[39m_qsize():\n\u001b[0;32m--> 171\u001b[0m         \u001b[38;5;28mself\u001b[39m\u001b[38;5;241m.\u001b[39mnot_empty\u001b[38;5;241m.\u001b[39mwait()\n\u001b[1;32m    172\u001b[0m \u001b[38;5;28;01melif\u001b[39;00m timeout \u001b[38;5;241m<\u001b[39m \u001b[38;5;241m0\u001b[39m:\n\u001b[1;32m    173\u001b[0m     \u001b[38;5;28;01mraise\u001b[39;00m \u001b[38;5;167;01mValueError\u001b[39;00m(\u001b[38;5;124m\"\u001b[39m\u001b[38;5;124m'\u001b[39m\u001b[38;5;124mtimeout\u001b[39m\u001b[38;5;124m'\u001b[39m\u001b[38;5;124m must be a non-negative number\u001b[39m\u001b[38;5;124m\"\u001b[39m)\n",
      "File \u001b[0;32m~/anaconda3/envs/AXE/lib/python3.12/threading.py:355\u001b[0m, in \u001b[0;36mCondition.wait\u001b[0;34m(self, timeout)\u001b[0m\n\u001b[1;32m    353\u001b[0m \u001b[38;5;28;01mtry\u001b[39;00m:    \u001b[38;5;66;03m# restore state no matter what (e.g., KeyboardInterrupt)\u001b[39;00m\n\u001b[1;32m    354\u001b[0m     \u001b[38;5;28;01mif\u001b[39;00m timeout \u001b[38;5;129;01mis\u001b[39;00m \u001b[38;5;28;01mNone\u001b[39;00m:\n\u001b[0;32m--> 355\u001b[0m         waiter\u001b[38;5;241m.\u001b[39macquire()\n\u001b[1;32m    356\u001b[0m         gotit \u001b[38;5;241m=\u001b[39m \u001b[38;5;28;01mTrue\u001b[39;00m\n\u001b[1;32m    357\u001b[0m     \u001b[38;5;28;01melse\u001b[39;00m:\n",
      "\u001b[0;31mKeyboardInterrupt\u001b[0m: "
     ]
    }
   ],
   "source": [
    "# for each grid cell do the following:\n",
    "ntr = np.size(TR)\n",
    "Fi = 1 - 1 / TR\n",
    "qmev = np.zeros((nlon, nlat, ntr))\n",
    "qgev = np.zeros((nlon, nlat, ntr))\n",
    "for ii, clon in enumerate(tmpalon):\n",
    "    print(ii)\n",
    "    for jj, clat in enumerate(tmpalat):\n",
    "        xpixel = xconus.sel(lat=clat, lon=clon).dropna(dim='time', how='any').load()\n",
    "        ts = xpixel.values\n",
    "        years = xpixel.time.dt.year.values\n",
    "        df = pd.DataFrame({'PRCP': ts, 'YEAR': years})\n",
    "        # df = down.remove_missing_years(df, maxmiss)[0]\n",
    "        \n",
    "        Ny, Cy, Wy = down.mev_fit(df, thresh=thresh)\n",
    "        x0 = 9.0 * np.mean(Cy)\n",
    "        qmev[ii, jj, :] = down.mev_quant(Fi, x0, Ny, Cy, Wy, thresh=thresh)[0]\n",
    "        # fit GEV and compute quantiles\n",
    "        XIemp, Fiemp, TRemp = down.tab_rain_max(df)\n",
    "        \n",
    "        csi, psi, mu = down.gev_fit_lmom(df['PRCP'].values) # origianl: csi, psi, mu = down.gev_fit_lmom(XIemp)  # fit to annual maxima\n",
    "        \n",
    "        qgev[ii, jj, :] = down.gev_quant(Fi, csi, psi, mu)"
   ]
  },
  {
   "cell_type": "code",
   "execution_count": 70,
   "metadata": {},
   "outputs": [],
   "source": [
    "outdir_data  = os.path.join('..', 'output', 'pixel_stats')\n",
    "outname2 = \"tmpa_mev_global_quants.hdf5\""
   ]
  },
  {
   "cell_type": "code",
   "execution_count": 71,
   "metadata": {},
   "outputs": [],
   "source": [
    "with h5py.File(os.path.join(outdir_data, outname2), \"w\") as f:\n",
    "    f.create_dataset(\"qmev\", data = qmev, dtype='f')\n",
    "    f.create_dataset(\"qgev\", data = qgev, dtype='f')\n",
    "    # f.create_dataset(\"num_complete_years\", data = num_complete_years, dtype='int32')\n",
    "    f.create_dataset(\"Tr\", data = TR,  dtype='int32')\n",
    "    f.create_dataset(\"lat\", data = tmpalat,  dtype='f')\n",
    "    f.create_dataset(\"lon\", data =tmpalon,  dtype='f')\n",
    "    # f.create_dataset(\"nmax_miss\", data =nmax_miss,  dtype='f')\n",
    "    f.create_dataset(\"thresh\", data =thresh,  dtype='f')\n",
    "    # f.create_dataset(\"min_n_complete_years\", data =min_n_years,  dtype='int32')"
   ]
  },
  {
   "cell_type": "code",
   "execution_count": null,
   "metadata": {},
   "outputs": [],
   "source": []
  }
 ],
 "metadata": {
  "kernelspec": {
   "display_name": "AXE",
   "language": "python",
   "name": "python3"
  },
  "language_info": {
   "codemirror_mode": {
    "name": "ipython",
    "version": 3
   },
   "file_extension": ".py",
   "mimetype": "text/x-python",
   "name": "python",
   "nbconvert_exporter": "python",
   "pygments_lexer": "ipython3",
   "version": "3.12.2"
  }
 },
 "nbformat": 4,
 "nbformat_minor": 2
}
