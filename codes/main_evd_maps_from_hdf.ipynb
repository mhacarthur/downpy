{
 "cells": [
  {
   "cell_type": "code",
   "execution_count": 3,
   "metadata": {},
   "outputs": [],
   "source": [
    "import os\n",
    "import time\n",
    "import numpy as np\n",
    "import h5py\n",
    "import pandas as pd\n",
    "import conusfun as cfun\n",
    "import downscale as down\n",
    "from datetime import datetime\n",
    "import xarray as xr\n",
    "import dask.array as da\n",
    "\n",
    "import cartopy\n",
    "import cartopy.feature as cf\n",
    "import cartopy.crs as ccrs\n",
    "import cartopy.feature as cfeature\n",
    "import cartopy.io.shapereader as shpreader\n",
    "\n",
    "import matplotlib.pyplot as plt\n",
    "import matplotlib.patches as mpatches\n",
    "import matplotlib.gridspec as gridspec"
   ]
  },
  {
   "cell_type": "code",
   "execution_count": 4,
   "metadata": {},
   "outputs": [],
   "source": [
    "outdir  = os.path.join('..', 'data', 'tmpa_conus_data')\n",
    "start_time = time.time()"
   ]
  },
  {
   "cell_type": "code",
   "execution_count": 5,
   "metadata": {},
   "outputs": [],
   "source": [
    "# relevant quantities:\n",
    "# TODO: get them from conusfun\n",
    "thresh = cfun.pixelkwargs['thresh']\n",
    "maxmiss = cfun.pixelkwargs['maxmiss']\n",
    "TR = cfun.Tr\n",
    "domain = 'conus'\n",
    "outname = \"evd_conus_map_{}.hdf5\".format(domain)\n",
    "land_sea_mask = os.path.join(cfun.tmpa_dir, 'TRMM_TMPA_LandSeaMask.2.nc4')"
   ]
  },
  {
   "cell_type": "code",
   "execution_count": 6,
   "metadata": {},
   "outputs": [
    {
     "name": "stdout",
     "output_type": "stream",
     "text": [
      "File: ../data/tmpa_conus_data/data_tmpa_daily.hdf5\n"
     ]
    }
   ],
   "source": [
    "# TODO: get them from conusfun\n",
    "if domain == 'conus':\n",
    "    nb = 50.0\n",
    "    sb = 22.0\n",
    "    eb = -60.0\n",
    "    wb = -130.0\n",
    "    tmpa_hdf_file = os.path.join(cfun.tmpa_dir, 'data_tmpa_daily.hdf5')\n",
    "elif domain == 'world':\n",
    "    nb = 50.0\n",
    "    sb = -50.0\n",
    "    eb = 180.0\n",
    "    wb = -180.0\n",
    "    tmpa_hdf_file = os.path.join(cfun.tmpa_dir, 'data_tmpa_world_daily.hdf5')\n",
    "else:\n",
    "    print('main_evd_maps ERROR:: must specify a valid domain!')\n",
    "\n",
    "print(f'File: {tmpa_hdf_file}')"
   ]
  },
  {
   "cell_type": "code",
   "execution_count": 7,
   "metadata": {},
   "outputs": [
    {
     "name": "stdout",
     "output_type": "stream",
     "text": [
      "['dates', 'lat', 'lon', 'prcp']\n"
     ]
    }
   ],
   "source": [
    "# read dask array with all daily precipitation data\n",
    "f = h5py.File(tmpa_hdf_file, \"r\")\n",
    "print(list(f.keys()))\n",
    "\n",
    "tmpalat = f['lat'][:]\n",
    "tmpalon = f['lon'][:]\n",
    "nlat = np.size(tmpalat)\n",
    "nlon = np.size(tmpalon)\n",
    "dates_int = f['dates'][:]\n",
    "# hours_int = f['hours'][:]\n",
    "dset = f['prcp']\n",
    "# print('dataset shape = {}'.format(dset.shape))\n",
    "x = da.from_array(dset, chunks=(6, 6, 300))\n",
    "# UTC time\n",
    "dates = [datetime.strptime(str(integd), '%Y%m%d') for integd in dates_int]\n",
    "xconus = xr.DataArray(x,\n",
    "        coords={'lon':tmpalon, 'lat':tmpalat, 'time':dates},\n",
    "        dims=('lon', 'lat', 'time'))\n",
    "xconus = xconus.where(xconus >= -0.001)\n",
    "### end reading prcp dataset ###"
   ]
  },
  {
   "cell_type": "code",
   "execution_count": 49,
   "metadata": {},
   "outputs": [
    {
     "name": "stdout",
     "output_type": "stream",
     "text": [
      "0\n"
     ]
    },
    {
     "name": "stderr",
     "output_type": "stream",
     "text": [
      "/home/arturo/github/downpy/codes/downscale.py:1248: RuntimeWarning: invalid value encountered in power\n",
      "  mev0f = np.sum( ( 1-np.exp(-(y/C)**W ))**N) - nyears*pr\n",
      "/home/arturo/github/downpy/codes/downscale.py:1248: RuntimeWarning: invalid value encountered in power\n",
      "  mev0f = np.sum( ( 1-np.exp(-(y/C)**W ))**N) - nyears*pr\n",
      "/home/arturo/github/downpy/codes/downscale.py:1248: RuntimeWarning: invalid value encountered in power\n",
      "  mev0f = np.sum( ( 1-np.exp(-(y/C)**W ))**N) - nyears*pr\n",
      "/home/arturo/github/downpy/codes/downscale.py:1248: RuntimeWarning: invalid value encountered in power\n",
      "  mev0f = np.sum( ( 1-np.exp(-(y/C)**W ))**N) - nyears*pr\n"
     ]
    },
    {
     "name": "stdout",
     "output_type": "stream",
     "text": [
      "mevd_quant:: ERROR - fsolve does not work -  change x0\n",
      "mevd_quant:: ERROR - fsolve does not work -  change x0\n",
      "mevd_quant:: ERROR - fsolve does not work -  change x0\n",
      "mevd_quant:: ERROR - fsolve does not work -  change x0\n",
      "mevd_quant:: ERROR - fsolve does not work -  change x0\n",
      "mevd_quant:: ERROR - fsolve does not work -  change x0\n",
      "mevd_quant:: ERROR - fsolve does not work -  change x0\n",
      "mevd_quant:: ERROR - fsolve does not work -  change x0\n",
      "mevd_quant:: ERROR - fsolve does not work -  change x0\n",
      "mevd_quant:: ERROR - fsolve does not work -  change x0\n"
     ]
    },
    {
     "name": "stderr",
     "output_type": "stream",
     "text": [
      "/home/arturo/github/downpy/codes/downscale.py:1248: RuntimeWarning: invalid value encountered in power\n",
      "  mev0f = np.sum( ( 1-np.exp(-(y/C)**W ))**N) - nyears*pr\n",
      "/home/arturo/github/downpy/codes/downscale.py:1248: RuntimeWarning: invalid value encountered in power\n",
      "  mev0f = np.sum( ( 1-np.exp(-(y/C)**W ))**N) - nyears*pr\n"
     ]
    },
    {
     "name": "stdout",
     "output_type": "stream",
     "text": [
      "mevd_quant:: ERROR - fsolve does not work -  change x0\n",
      "mevd_quant:: ERROR - fsolve does not work -  change x0\n",
      "mevd_quant:: ERROR - fsolve does not work -  change x0\n",
      "mevd_quant:: ERROR - fsolve does not work -  change x0\n",
      "mevd_quant:: ERROR - fsolve does not work -  change x0\n"
     ]
    },
    {
     "name": "stderr",
     "output_type": "stream",
     "text": [
      "/home/arturo/github/downpy/codes/downscale.py:1248: RuntimeWarning: invalid value encountered in power\n",
      "  mev0f = np.sum( ( 1-np.exp(-(y/C)**W ))**N) - nyears*pr\n",
      "/home/arturo/github/downpy/codes/downscale.py:1248: RuntimeWarning: invalid value encountered in power\n",
      "  mev0f = np.sum( ( 1-np.exp(-(y/C)**W ))**N) - nyears*pr\n",
      "/home/arturo/github/downpy/codes/downscale.py:1248: RuntimeWarning: invalid value encountered in power\n",
      "  mev0f = np.sum( ( 1-np.exp(-(y/C)**W ))**N) - nyears*pr\n"
     ]
    },
    {
     "name": "stdout",
     "output_type": "stream",
     "text": [
      "mevd_quant:: ERROR - fsolve does not work -  change x0\n",
      "mevd_quant:: ERROR - fsolve does not work -  change x0\n",
      "mevd_quant:: ERROR - fsolve does not work -  change x0\n",
      "mevd_quant:: ERROR - fsolve does not work -  change x0\n",
      "mevd_quant:: ERROR - fsolve does not work -  change x0\n"
     ]
    },
    {
     "name": "stderr",
     "output_type": "stream",
     "text": [
      "/home/arturo/github/downpy/codes/downscale.py:1248: RuntimeWarning: invalid value encountered in power\n",
      "  mev0f = np.sum( ( 1-np.exp(-(y/C)**W ))**N) - nyears*pr\n",
      "/home/arturo/github/downpy/codes/downscale.py:1248: RuntimeWarning: invalid value encountered in power\n",
      "  mev0f = np.sum( ( 1-np.exp(-(y/C)**W ))**N) - nyears*pr\n"
     ]
    },
    {
     "name": "stdout",
     "output_type": "stream",
     "text": [
      "mevd_quant:: ERROR - fsolve does not work -  change x0\n",
      "mevd_quant:: ERROR - fsolve does not work -  change x0\n",
      "mevd_quant:: ERROR - fsolve does not work -  change x0\n",
      "mevd_quant:: ERROR - fsolve does not work -  change x0\n",
      "mevd_quant:: ERROR - fsolve does not work -  change x0\n",
      "1\n"
     ]
    },
    {
     "name": "stderr",
     "output_type": "stream",
     "text": [
      "/home/arturo/github/downpy/codes/downscale.py:1248: RuntimeWarning: invalid value encountered in power\n",
      "  mev0f = np.sum( ( 1-np.exp(-(y/C)**W ))**N) - nyears*pr\n",
      "/home/arturo/github/downpy/codes/downscale.py:1248: RuntimeWarning: invalid value encountered in power\n",
      "  mev0f = np.sum( ( 1-np.exp(-(y/C)**W ))**N) - nyears*pr\n",
      "/home/arturo/github/downpy/codes/downscale.py:1248: RuntimeWarning: invalid value encountered in power\n",
      "  mev0f = np.sum( ( 1-np.exp(-(y/C)**W ))**N) - nyears*pr\n",
      "/home/arturo/github/downpy/codes/downscale.py:1248: RuntimeWarning: invalid value encountered in power\n",
      "  mev0f = np.sum( ( 1-np.exp(-(y/C)**W ))**N) - nyears*pr\n"
     ]
    },
    {
     "name": "stdout",
     "output_type": "stream",
     "text": [
      "mevd_quant:: ERROR - fsolve does not work -  change x0\n",
      "mevd_quant:: ERROR - fsolve does not work -  change x0\n",
      "mevd_quant:: ERROR - fsolve does not work -  change x0\n",
      "mevd_quant:: ERROR - fsolve does not work -  change x0\n",
      "mevd_quant:: ERROR - fsolve does not work -  change x0\n",
      "mevd_quant:: ERROR - fsolve does not work -  change x0\n",
      "mevd_quant:: ERROR - fsolve does not work -  change x0\n",
      "mevd_quant:: ERROR - fsolve does not work -  change x0\n",
      "mevd_quant:: ERROR - fsolve does not work -  change x0\n",
      "mevd_quant:: ERROR - fsolve does not work -  change x0\n",
      "mevd_quant:: ERROR - fsolve does not work -  change x0\n",
      "mevd_quant:: ERROR - fsolve does not work -  change x0\n"
     ]
    },
    {
     "name": "stderr",
     "output_type": "stream",
     "text": [
      "/home/arturo/github/downpy/codes/downscale.py:1248: RuntimeWarning: invalid value encountered in power\n",
      "  mev0f = np.sum( ( 1-np.exp(-(y/C)**W ))**N) - nyears*pr\n",
      "/home/arturo/github/downpy/codes/downscale.py:1248: RuntimeWarning: invalid value encountered in power\n",
      "  mev0f = np.sum( ( 1-np.exp(-(y/C)**W ))**N) - nyears*pr\n",
      "/home/arturo/github/downpy/codes/downscale.py:1248: RuntimeWarning: invalid value encountered in power\n",
      "  mev0f = np.sum( ( 1-np.exp(-(y/C)**W ))**N) - nyears*pr\n"
     ]
    },
    {
     "name": "stdout",
     "output_type": "stream",
     "text": [
      "mevd_quant:: ERROR - fsolve does not work -  change x0\n",
      "mevd_quant:: ERROR - fsolve does not work -  change x0\n",
      "mevd_quant:: ERROR - fsolve does not work -  change x0\n",
      "mevd_quant:: ERROR - fsolve does not work -  change x0\n"
     ]
    },
    {
     "name": "stderr",
     "output_type": "stream",
     "text": [
      "/home/arturo/github/downpy/codes/downscale.py:1248: RuntimeWarning: invalid value encountered in power\n",
      "  mev0f = np.sum( ( 1-np.exp(-(y/C)**W ))**N) - nyears*pr\n"
     ]
    },
    {
     "name": "stdout",
     "output_type": "stream",
     "text": [
      "mevd_quant:: ERROR - fsolve does not work -  change x0\n",
      "mevd_quant:: ERROR - fsolve does not work -  change x0\n",
      "mevd_quant:: ERROR - fsolve does not work -  change x0\n"
     ]
    },
    {
     "name": "stderr",
     "output_type": "stream",
     "text": [
      "/home/arturo/github/downpy/codes/downscale.py:1248: RuntimeWarning: invalid value encountered in power\n",
      "  mev0f = np.sum( ( 1-np.exp(-(y/C)**W ))**N) - nyears*pr\n",
      "/home/arturo/github/downpy/codes/downscale.py:1248: RuntimeWarning: invalid value encountered in power\n",
      "  mev0f = np.sum( ( 1-np.exp(-(y/C)**W ))**N) - nyears*pr\n"
     ]
    },
    {
     "name": "stdout",
     "output_type": "stream",
     "text": [
      "mevd_quant:: ERROR - fsolve does not work -  change x0\n",
      "mevd_quant:: ERROR - fsolve does not work -  change x0\n",
      "mevd_quant:: ERROR - fsolve does not work -  change x0\n",
      "2\n"
     ]
    },
    {
     "name": "stderr",
     "output_type": "stream",
     "text": [
      "/home/arturo/github/downpy/codes/downscale.py:1248: RuntimeWarning: invalid value encountered in power\n",
      "  mev0f = np.sum( ( 1-np.exp(-(y/C)**W ))**N) - nyears*pr\n",
      "/home/arturo/github/downpy/codes/downscale.py:1248: RuntimeWarning: invalid value encountered in power\n",
      "  mev0f = np.sum( ( 1-np.exp(-(y/C)**W ))**N) - nyears*pr\n",
      "/home/arturo/github/downpy/codes/downscale.py:1248: RuntimeWarning: invalid value encountered in power\n",
      "  mev0f = np.sum( ( 1-np.exp(-(y/C)**W ))**N) - nyears*pr\n",
      "/home/arturo/github/downpy/codes/downscale.py:1248: RuntimeWarning: invalid value encountered in power\n",
      "  mev0f = np.sum( ( 1-np.exp(-(y/C)**W ))**N) - nyears*pr\n",
      "/home/arturo/github/downpy/codes/downscale.py:1248: RuntimeWarning: invalid value encountered in power\n",
      "  mev0f = np.sum( ( 1-np.exp(-(y/C)**W ))**N) - nyears*pr\n"
     ]
    },
    {
     "name": "stdout",
     "output_type": "stream",
     "text": [
      "mevd_quant:: ERROR - fsolve does not work -  change x0\n",
      "mevd_quant:: ERROR - fsolve does not work -  change x0\n",
      "mevd_quant:: ERROR - fsolve does not work -  change x0\n",
      "mevd_quant:: ERROR - fsolve does not work -  change x0\n",
      "mevd_quant:: ERROR - fsolve does not work -  change x0\n",
      "mevd_quant:: ERROR - fsolve does not work -  change x0\n",
      "mevd_quant:: ERROR - fsolve does not work -  change x0\n",
      "mevd_quant:: ERROR - fsolve does not work -  change x0\n",
      "mevd_quant:: ERROR - fsolve does not work -  change x0\n",
      "mevd_quant:: ERROR - fsolve does not work -  change x0\n",
      "mevd_quant:: ERROR - fsolve does not work -  change x0\n"
     ]
    },
    {
     "name": "stderr",
     "output_type": "stream",
     "text": [
      "/home/arturo/github/downpy/codes/downscale.py:1248: RuntimeWarning: invalid value encountered in power\n",
      "  mev0f = np.sum( ( 1-np.exp(-(y/C)**W ))**N) - nyears*pr\n",
      "/home/arturo/github/downpy/codes/downscale.py:1248: RuntimeWarning: invalid value encountered in power\n",
      "  mev0f = np.sum( ( 1-np.exp(-(y/C)**W ))**N) - nyears*pr\n"
     ]
    },
    {
     "name": "stdout",
     "output_type": "stream",
     "text": [
      "mevd_quant:: ERROR - fsolve does not work -  change x0\n",
      "mevd_quant:: ERROR - fsolve does not work -  change x0\n",
      "mevd_quant:: ERROR - fsolve does not work -  change x0\n",
      "mevd_quant:: ERROR - fsolve does not work -  change x0\n",
      "mevd_quant:: ERROR - fsolve does not work -  change x0\n",
      "mevd_quant:: ERROR - fsolve does not work -  change x0\n",
      "mevd_quant:: ERROR - fsolve does not work -  change x0\n"
     ]
    },
    {
     "name": "stderr",
     "output_type": "stream",
     "text": [
      "/home/arturo/github/downpy/codes/downscale.py:1248: RuntimeWarning: invalid value encountered in power\n",
      "  mev0f = np.sum( ( 1-np.exp(-(y/C)**W ))**N) - nyears*pr\n",
      "/home/arturo/github/downpy/codes/downscale.py:1248: RuntimeWarning: invalid value encountered in power\n",
      "  mev0f = np.sum( ( 1-np.exp(-(y/C)**W ))**N) - nyears*pr\n",
      "/home/arturo/github/downpy/codes/downscale.py:1248: RuntimeWarning: invalid value encountered in power\n",
      "  mev0f = np.sum( ( 1-np.exp(-(y/C)**W ))**N) - nyears*pr\n"
     ]
    },
    {
     "name": "stdout",
     "output_type": "stream",
     "text": [
      "mevd_quant:: ERROR - fsolve does not work -  change x0\n",
      "mevd_quant:: ERROR - fsolve does not work -  change x0\n",
      "mevd_quant:: ERROR - fsolve does not work -  change x0\n",
      "mevd_quant:: ERROR - fsolve does not work -  change x0\n",
      "mevd_quant:: ERROR - fsolve does not work -  change x0\n"
     ]
    },
    {
     "name": "stderr",
     "output_type": "stream",
     "text": [
      "/home/arturo/github/downpy/codes/downscale.py:1248: RuntimeWarning: invalid value encountered in power\n",
      "  mev0f = np.sum( ( 1-np.exp(-(y/C)**W ))**N) - nyears*pr\n",
      "/home/arturo/github/downpy/codes/downscale.py:1248: RuntimeWarning: invalid value encountered in power\n",
      "  mev0f = np.sum( ( 1-np.exp(-(y/C)**W ))**N) - nyears*pr\n",
      "/home/arturo/github/downpy/codes/downscale.py:1248: RuntimeWarning: invalid value encountered in power\n",
      "  mev0f = np.sum( ( 1-np.exp(-(y/C)**W ))**N) - nyears*pr\n"
     ]
    },
    {
     "name": "stdout",
     "output_type": "stream",
     "text": [
      "mevd_quant:: ERROR - fsolve does not work -  change x0\n",
      "mevd_quant:: ERROR - fsolve does not work -  change x0\n",
      "mevd_quant:: ERROR - fsolve does not work -  change x0\n",
      "mevd_quant:: ERROR - fsolve does not work -  change x0\n",
      "mevd_quant:: ERROR - fsolve does not work -  change x0\n",
      "mevd_quant:: ERROR - fsolve does not work -  change x0\n",
      "mevd_quant:: ERROR - fsolve does not work -  change x0\n",
      "3\n"
     ]
    },
    {
     "name": "stderr",
     "output_type": "stream",
     "text": [
      "/home/arturo/github/downpy/codes/downscale.py:1248: RuntimeWarning: invalid value encountered in power\n",
      "  mev0f = np.sum( ( 1-np.exp(-(y/C)**W ))**N) - nyears*pr\n",
      "/home/arturo/github/downpy/codes/downscale.py:1248: RuntimeWarning: invalid value encountered in power\n",
      "  mev0f = np.sum( ( 1-np.exp(-(y/C)**W ))**N) - nyears*pr\n",
      "/home/arturo/github/downpy/codes/downscale.py:1248: RuntimeWarning: invalid value encountered in power\n",
      "  mev0f = np.sum( ( 1-np.exp(-(y/C)**W ))**N) - nyears*pr\n",
      "/home/arturo/github/downpy/codes/downscale.py:1248: RuntimeWarning: invalid value encountered in power\n",
      "  mev0f = np.sum( ( 1-np.exp(-(y/C)**W ))**N) - nyears*pr\n",
      "/home/arturo/github/downpy/codes/downscale.py:1248: RuntimeWarning: invalid value encountered in power\n",
      "  mev0f = np.sum( ( 1-np.exp(-(y/C)**W ))**N) - nyears*pr\n",
      "/home/arturo/github/downpy/codes/downscale.py:1248: RuntimeWarning: invalid value encountered in power\n",
      "  mev0f = np.sum( ( 1-np.exp(-(y/C)**W ))**N) - nyears*pr\n",
      "/home/arturo/github/downpy/codes/downscale.py:1248: RuntimeWarning: invalid value encountered in power\n",
      "  mev0f = np.sum( ( 1-np.exp(-(y/C)**W ))**N) - nyears*pr\n",
      "/home/arturo/github/downpy/codes/downscale.py:1248: RuntimeWarning: invalid value encountered in power\n",
      "  mev0f = np.sum( ( 1-np.exp(-(y/C)**W ))**N) - nyears*pr\n"
     ]
    },
    {
     "name": "stdout",
     "output_type": "stream",
     "text": [
      "mevd_quant:: ERROR - fsolve does not work -  change x0\n",
      "mevd_quant:: ERROR - fsolve does not work -  change x0\n",
      "mevd_quant:: ERROR - fsolve does not work -  change x0\n",
      "mevd_quant:: ERROR - fsolve does not work -  change x0\n",
      "mevd_quant:: ERROR - fsolve does not work -  change x0\n",
      "mevd_quant:: ERROR - fsolve does not work -  change x0\n",
      "mevd_quant:: ERROR - fsolve does not work -  change x0\n",
      "mevd_quant:: ERROR - fsolve does not work -  change x0\n",
      "mevd_quant:: ERROR - fsolve does not work -  change x0\n",
      "mevd_quant:: ERROR - fsolve does not work -  change x0\n",
      "mevd_quant:: ERROR - fsolve does not work -  change x0\n",
      "mevd_quant:: ERROR - fsolve does not work -  change x0\n",
      "mevd_quant:: ERROR - fsolve does not work -  change x0\n"
     ]
    },
    {
     "name": "stderr",
     "output_type": "stream",
     "text": [
      "/home/arturo/github/downpy/codes/downscale.py:1248: RuntimeWarning: invalid value encountered in power\n",
      "  mev0f = np.sum( ( 1-np.exp(-(y/C)**W ))**N) - nyears*pr\n"
     ]
    },
    {
     "name": "stdout",
     "output_type": "stream",
     "text": [
      "mevd_quant:: ERROR - fsolve does not work -  change x0\n",
      "mevd_quant:: ERROR - fsolve does not work -  change x0\n"
     ]
    },
    {
     "name": "stderr",
     "output_type": "stream",
     "text": [
      "/home/arturo/github/downpy/codes/downscale.py:1248: RuntimeWarning: invalid value encountered in power\n",
      "  mev0f = np.sum( ( 1-np.exp(-(y/C)**W ))**N) - nyears*pr\n"
     ]
    },
    {
     "name": "stdout",
     "output_type": "stream",
     "text": [
      "mevd_quant:: ERROR - fsolve does not work -  change x0\n"
     ]
    },
    {
     "name": "stderr",
     "output_type": "stream",
     "text": [
      "/home/arturo/github/downpy/codes/downscale.py:1248: RuntimeWarning: invalid value encountered in power\n",
      "  mev0f = np.sum( ( 1-np.exp(-(y/C)**W ))**N) - nyears*pr\n",
      "/home/arturo/github/downpy/codes/downscale.py:1248: RuntimeWarning: invalid value encountered in power\n",
      "  mev0f = np.sum( ( 1-np.exp(-(y/C)**W ))**N) - nyears*pr\n",
      "/home/arturo/github/downpy/codes/downscale.py:1248: RuntimeWarning: invalid value encountered in power\n",
      "  mev0f = np.sum( ( 1-np.exp(-(y/C)**W ))**N) - nyears*pr\n",
      "/home/arturo/github/downpy/codes/downscale.py:1248: RuntimeWarning: invalid value encountered in power\n",
      "  mev0f = np.sum( ( 1-np.exp(-(y/C)**W ))**N) - nyears*pr\n"
     ]
    },
    {
     "name": "stdout",
     "output_type": "stream",
     "text": [
      "mevd_quant:: ERROR - fsolve does not work -  change x0\n",
      "mevd_quant:: ERROR - fsolve does not work -  change x0\n",
      "mevd_quant:: ERROR - fsolve does not work -  change x0\n",
      "mevd_quant:: ERROR - fsolve does not work -  change x0\n",
      "mevd_quant:: ERROR - fsolve does not work -  change x0\n",
      "mevd_quant:: ERROR - fsolve does not work -  change x0\n",
      "mevd_quant:: ERROR - fsolve does not work -  change x0\n",
      "mevd_quant:: ERROR - fsolve does not work -  change x0\n",
      "mevd_quant:: ERROR - fsolve does not work -  change x0\n",
      "mevd_quant:: ERROR - fsolve does not work -  change x0\n",
      "mevd_quant:: ERROR - fsolve does not work -  change x0\n",
      "mevd_quant:: ERROR - fsolve does not work -  change x0\n",
      "4\n",
      "mevd_quant:: ERROR - fsolve does not work -  change x0\n",
      "mevd_quant:: ERROR - fsolve does not work -  change x0\n",
      "mevd_quant:: ERROR - fsolve does not work -  change x0\n",
      "mevd_quant:: ERROR - fsolve does not work -  change x0\n"
     ]
    },
    {
     "name": "stderr",
     "output_type": "stream",
     "text": [
      "/home/arturo/github/downpy/codes/downscale.py:1248: RuntimeWarning: invalid value encountered in power\n",
      "  mev0f = np.sum( ( 1-np.exp(-(y/C)**W ))**N) - nyears*pr\n",
      "/home/arturo/github/downpy/codes/downscale.py:1248: RuntimeWarning: invalid value encountered in power\n",
      "  mev0f = np.sum( ( 1-np.exp(-(y/C)**W ))**N) - nyears*pr\n",
      "/home/arturo/github/downpy/codes/downscale.py:1248: RuntimeWarning: invalid value encountered in power\n",
      "  mev0f = np.sum( ( 1-np.exp(-(y/C)**W ))**N) - nyears*pr\n",
      "/home/arturo/github/downpy/codes/downscale.py:1248: RuntimeWarning: invalid value encountered in power\n",
      "  mev0f = np.sum( ( 1-np.exp(-(y/C)**W ))**N) - nyears*pr\n",
      "/home/arturo/github/downpy/codes/downscale.py:1248: RuntimeWarning: invalid value encountered in power\n",
      "  mev0f = np.sum( ( 1-np.exp(-(y/C)**W ))**N) - nyears*pr\n",
      "/home/arturo/github/downpy/codes/downscale.py:1248: RuntimeWarning: invalid value encountered in power\n",
      "  mev0f = np.sum( ( 1-np.exp(-(y/C)**W ))**N) - nyears*pr\n",
      "/home/arturo/github/downpy/codes/downscale.py:1248: RuntimeWarning: invalid value encountered in power\n",
      "  mev0f = np.sum( ( 1-np.exp(-(y/C)**W ))**N) - nyears*pr\n"
     ]
    },
    {
     "name": "stdout",
     "output_type": "stream",
     "text": [
      "mevd_quant:: ERROR - fsolve does not work -  change x0\n",
      "mevd_quant:: ERROR - fsolve does not work -  change x0\n",
      "mevd_quant:: ERROR - fsolve does not work -  change x0\n",
      "mevd_quant:: ERROR - fsolve does not work -  change x0\n",
      "mevd_quant:: ERROR - fsolve does not work -  change x0\n",
      "mevd_quant:: ERROR - fsolve does not work -  change x0\n",
      "mevd_quant:: ERROR - fsolve does not work -  change x0\n",
      "mevd_quant:: ERROR - fsolve does not work -  change x0\n",
      "mevd_quant:: ERROR - fsolve does not work -  change x0\n",
      "mevd_quant:: ERROR - fsolve does not work -  change x0\n",
      "mevd_quant:: ERROR - fsolve does not work -  change x0\n",
      "mevd_quant:: ERROR - fsolve does not work -  change x0\n",
      "mevd_quant:: ERROR - fsolve does not work -  change x0\n",
      "mevd_quant:: ERROR - fsolve does not work -  change x0\n"
     ]
    },
    {
     "name": "stderr",
     "output_type": "stream",
     "text": [
      "/home/arturo/github/downpy/codes/downscale.py:1248: RuntimeWarning: invalid value encountered in power\n",
      "  mev0f = np.sum( ( 1-np.exp(-(y/C)**W ))**N) - nyears*pr\n",
      "/home/arturo/github/downpy/codes/downscale.py:1248: RuntimeWarning: invalid value encountered in power\n",
      "  mev0f = np.sum( ( 1-np.exp(-(y/C)**W ))**N) - nyears*pr\n"
     ]
    },
    {
     "name": "stdout",
     "output_type": "stream",
     "text": [
      "mevd_quant:: ERROR - fsolve does not work -  change x0\n",
      "mevd_quant:: ERROR - fsolve does not work -  change x0\n",
      "mevd_quant:: ERROR - fsolve does not work -  change x0\n"
     ]
    },
    {
     "name": "stderr",
     "output_type": "stream",
     "text": [
      "/home/arturo/github/downpy/codes/downscale.py:1248: RuntimeWarning: invalid value encountered in power\n",
      "  mev0f = np.sum( ( 1-np.exp(-(y/C)**W ))**N) - nyears*pr\n",
      "/home/arturo/github/downpy/codes/downscale.py:1248: RuntimeWarning: invalid value encountered in power\n",
      "  mev0f = np.sum( ( 1-np.exp(-(y/C)**W ))**N) - nyears*pr\n",
      "/home/arturo/github/downpy/codes/downscale.py:1248: RuntimeWarning: invalid value encountered in power\n",
      "  mev0f = np.sum( ( 1-np.exp(-(y/C)**W ))**N) - nyears*pr\n",
      "/home/arturo/github/downpy/codes/downscale.py:1248: RuntimeWarning: invalid value encountered in power\n",
      "  mev0f = np.sum( ( 1-np.exp(-(y/C)**W ))**N) - nyears*pr\n",
      "/home/arturo/github/downpy/codes/downscale.py:1248: RuntimeWarning: invalid value encountered in power\n",
      "  mev0f = np.sum( ( 1-np.exp(-(y/C)**W ))**N) - nyears*pr\n",
      "/home/arturo/github/downpy/codes/downscale.py:1248: RuntimeWarning: invalid value encountered in power\n",
      "  mev0f = np.sum( ( 1-np.exp(-(y/C)**W ))**N) - nyears*pr\n",
      "/home/arturo/github/downpy/codes/downscale.py:1248: RuntimeWarning: invalid value encountered in power\n",
      "  mev0f = np.sum( ( 1-np.exp(-(y/C)**W ))**N) - nyears*pr\n"
     ]
    },
    {
     "name": "stdout",
     "output_type": "stream",
     "text": [
      "mevd_quant:: ERROR - fsolve does not work -  change x0\n",
      "mevd_quant:: ERROR - fsolve does not work -  change x0\n",
      "mevd_quant:: ERROR - fsolve does not work -  change x0\n",
      "mevd_quant:: ERROR - fsolve does not work -  change x0\n",
      "mevd_quant:: ERROR - fsolve does not work -  change x0\n",
      "mevd_quant:: ERROR - fsolve does not work -  change x0\n",
      "mevd_quant:: ERROR - fsolve does not work -  change x0\n",
      "mevd_quant:: ERROR - fsolve does not work -  change x0\n",
      "mevd_quant:: ERROR - fsolve does not work -  change x0\n",
      "mevd_quant:: ERROR - fsolve does not work -  change x0\n",
      "mevd_quant:: ERROR - fsolve does not work -  change x0\n",
      "mevd_quant:: ERROR - fsolve does not work -  change x0\n",
      "mevd_quant:: ERROR - fsolve does not work -  change x0\n",
      "mevd_quant:: ERROR - fsolve does not work -  change x0\n",
      "mevd_quant:: ERROR - fsolve does not work -  change x0\n",
      "mevd_quant:: ERROR - fsolve does not work -  change x0\n",
      "mevd_quant:: ERROR - fsolve does not work -  change x0\n",
      "mevd_quant:: ERROR - fsolve does not work -  change x0\n",
      "5\n"
     ]
    },
    {
     "name": "stderr",
     "output_type": "stream",
     "text": [
      "/home/arturo/github/downpy/codes/downscale.py:1248: RuntimeWarning: invalid value encountered in power\n",
      "  mev0f = np.sum( ( 1-np.exp(-(y/C)**W ))**N) - nyears*pr\n",
      "/home/arturo/github/downpy/codes/downscale.py:1248: RuntimeWarning: invalid value encountered in power\n",
      "  mev0f = np.sum( ( 1-np.exp(-(y/C)**W ))**N) - nyears*pr\n",
      "/home/arturo/github/downpy/codes/downscale.py:1248: RuntimeWarning: invalid value encountered in power\n",
      "  mev0f = np.sum( ( 1-np.exp(-(y/C)**W ))**N) - nyears*pr\n",
      "/home/arturo/github/downpy/codes/downscale.py:1248: RuntimeWarning: invalid value encountered in power\n",
      "  mev0f = np.sum( ( 1-np.exp(-(y/C)**W ))**N) - nyears*pr\n",
      "/home/arturo/github/downpy/codes/downscale.py:1248: RuntimeWarning: invalid value encountered in power\n",
      "  mev0f = np.sum( ( 1-np.exp(-(y/C)**W ))**N) - nyears*pr\n"
     ]
    },
    {
     "name": "stdout",
     "output_type": "stream",
     "text": [
      "mevd_quant:: ERROR - fsolve does not work -  change x0\n",
      "mevd_quant:: ERROR - fsolve does not work -  change x0\n",
      "mevd_quant:: ERROR - fsolve does not work -  change x0\n",
      "mevd_quant:: ERROR - fsolve does not work -  change x0\n",
      "mevd_quant:: ERROR - fsolve does not work -  change x0\n",
      "mevd_quant:: ERROR - fsolve does not work -  change x0\n",
      "mevd_quant:: ERROR - fsolve does not work -  change x0\n",
      "mevd_quant:: ERROR - fsolve does not work -  change x0\n",
      "mevd_quant:: ERROR - fsolve does not work -  change x0\n",
      "mevd_quant:: ERROR - fsolve does not work -  change x0\n",
      "mevd_quant:: ERROR - fsolve does not work -  change x0\n",
      "mevd_quant:: ERROR - fsolve does not work -  change x0\n"
     ]
    },
    {
     "name": "stderr",
     "output_type": "stream",
     "text": [
      "/home/arturo/github/downpy/codes/downscale.py:1248: RuntimeWarning: invalid value encountered in power\n",
      "  mev0f = np.sum( ( 1-np.exp(-(y/C)**W ))**N) - nyears*pr\n",
      "/home/arturo/github/downpy/codes/downscale.py:1248: RuntimeWarning: invalid value encountered in power\n",
      "  mev0f = np.sum( ( 1-np.exp(-(y/C)**W ))**N) - nyears*pr\n",
      "/home/arturo/github/downpy/codes/downscale.py:1248: RuntimeWarning: invalid value encountered in power\n",
      "  mev0f = np.sum( ( 1-np.exp(-(y/C)**W ))**N) - nyears*pr\n",
      "/home/arturo/github/downpy/codes/downscale.py:1248: RuntimeWarning: invalid value encountered in power\n",
      "  mev0f = np.sum( ( 1-np.exp(-(y/C)**W ))**N) - nyears*pr\n",
      "/home/arturo/github/downpy/codes/downscale.py:1248: RuntimeWarning: invalid value encountered in power\n",
      "  mev0f = np.sum( ( 1-np.exp(-(y/C)**W ))**N) - nyears*pr\n"
     ]
    },
    {
     "name": "stdout",
     "output_type": "stream",
     "text": [
      "mevd_quant:: ERROR - fsolve does not work -  change x0\n",
      "mevd_quant:: ERROR - fsolve does not work -  change x0\n",
      "mevd_quant:: ERROR - fsolve does not work -  change x0\n",
      "mevd_quant:: ERROR - fsolve does not work -  change x0\n",
      "mevd_quant:: ERROR - fsolve does not work -  change x0\n",
      "mevd_quant:: ERROR - fsolve does not work -  change x0\n",
      "mevd_quant:: ERROR - fsolve does not work -  change x0\n",
      "mevd_quant:: ERROR - fsolve does not work -  change x0\n",
      "mevd_quant:: ERROR - fsolve does not work -  change x0\n"
     ]
    },
    {
     "name": "stderr",
     "output_type": "stream",
     "text": [
      "/home/arturo/github/downpy/codes/downscale.py:1248: RuntimeWarning: invalid value encountered in power\n",
      "  mev0f = np.sum( ( 1-np.exp(-(y/C)**W ))**N) - nyears*pr\n",
      "/home/arturo/github/downpy/codes/downscale.py:1248: RuntimeWarning: invalid value encountered in power\n",
      "  mev0f = np.sum( ( 1-np.exp(-(y/C)**W ))**N) - nyears*pr\n",
      "/home/arturo/github/downpy/codes/downscale.py:1248: RuntimeWarning: invalid value encountered in power\n",
      "  mev0f = np.sum( ( 1-np.exp(-(y/C)**W ))**N) - nyears*pr\n",
      "/home/arturo/github/downpy/codes/downscale.py:1248: RuntimeWarning: invalid value encountered in power\n",
      "  mev0f = np.sum( ( 1-np.exp(-(y/C)**W ))**N) - nyears*pr\n",
      "/home/arturo/github/downpy/codes/downscale.py:1248: RuntimeWarning: invalid value encountered in power\n",
      "  mev0f = np.sum( ( 1-np.exp(-(y/C)**W ))**N) - nyears*pr\n",
      "/home/arturo/github/downpy/codes/downscale.py:1248: RuntimeWarning: invalid value encountered in power\n",
      "  mev0f = np.sum( ( 1-np.exp(-(y/C)**W ))**N) - nyears*pr\n"
     ]
    },
    {
     "name": "stdout",
     "output_type": "stream",
     "text": [
      "mevd_quant:: ERROR - fsolve does not work -  change x0\n",
      "mevd_quant:: ERROR - fsolve does not work -  change x0\n",
      "mevd_quant:: ERROR - fsolve does not work -  change x0\n",
      "mevd_quant:: ERROR - fsolve does not work -  change x0\n",
      "mevd_quant:: ERROR - fsolve does not work -  change x0\n",
      "mevd_quant:: ERROR - fsolve does not work -  change x0\n",
      "mevd_quant:: ERROR - fsolve does not work -  change x0\n",
      "mevd_quant:: ERROR - fsolve does not work -  change x0\n",
      "mevd_quant:: ERROR - fsolve does not work -  change x0\n",
      "mevd_quant:: ERROR - fsolve does not work -  change x0\n",
      "mevd_quant:: ERROR - fsolve does not work -  change x0\n",
      "mevd_quant:: ERROR - fsolve does not work -  change x0\n",
      "mevd_quant:: ERROR - fsolve does not work -  change x0\n",
      "mevd_quant:: ERROR - fsolve does not work -  change x0\n",
      "mevd_quant:: ERROR - fsolve does not work -  change x0\n",
      "mevd_quant:: ERROR - fsolve does not work -  change x0\n"
     ]
    },
    {
     "name": "stderr",
     "output_type": "stream",
     "text": [
      "/home/arturo/github/downpy/codes/downscale.py:1248: RuntimeWarning: invalid value encountered in power\n",
      "  mev0f = np.sum( ( 1-np.exp(-(y/C)**W ))**N) - nyears*pr\n"
     ]
    },
    {
     "name": "stdout",
     "output_type": "stream",
     "text": [
      "mevd_quant:: ERROR - fsolve does not work -  change x0\n",
      "6\n"
     ]
    },
    {
     "name": "stderr",
     "output_type": "stream",
     "text": [
      "/home/arturo/github/downpy/codes/downscale.py:1248: RuntimeWarning: invalid value encountered in power\n",
      "  mev0f = np.sum( ( 1-np.exp(-(y/C)**W ))**N) - nyears*pr\n",
      "/home/arturo/github/downpy/codes/downscale.py:1248: RuntimeWarning: invalid value encountered in power\n",
      "  mev0f = np.sum( ( 1-np.exp(-(y/C)**W ))**N) - nyears*pr\n",
      "/home/arturo/github/downpy/codes/downscale.py:1248: RuntimeWarning: invalid value encountered in power\n",
      "  mev0f = np.sum( ( 1-np.exp(-(y/C)**W ))**N) - nyears*pr\n",
      "/home/arturo/github/downpy/codes/downscale.py:1248: RuntimeWarning: invalid value encountered in power\n",
      "  mev0f = np.sum( ( 1-np.exp(-(y/C)**W ))**N) - nyears*pr\n",
      "/home/arturo/github/downpy/codes/downscale.py:1248: RuntimeWarning: invalid value encountered in power\n",
      "  mev0f = np.sum( ( 1-np.exp(-(y/C)**W ))**N) - nyears*pr\n",
      "/home/arturo/github/downpy/codes/downscale.py:1248: RuntimeWarning: invalid value encountered in power\n",
      "  mev0f = np.sum( ( 1-np.exp(-(y/C)**W ))**N) - nyears*pr\n",
      "/home/arturo/github/downpy/codes/downscale.py:1248: RuntimeWarning: invalid value encountered in power\n",
      "  mev0f = np.sum( ( 1-np.exp(-(y/C)**W ))**N) - nyears*pr\n",
      "/home/arturo/github/downpy/codes/downscale.py:1248: RuntimeWarning: invalid value encountered in power\n",
      "  mev0f = np.sum( ( 1-np.exp(-(y/C)**W ))**N) - nyears*pr\n"
     ]
    },
    {
     "name": "stdout",
     "output_type": "stream",
     "text": [
      "mevd_quant:: ERROR - fsolve does not work -  change x0\n",
      "mevd_quant:: ERROR - fsolve does not work -  change x0\n",
      "mevd_quant:: ERROR - fsolve does not work -  change x0\n",
      "mevd_quant:: ERROR - fsolve does not work -  change x0\n",
      "mevd_quant:: ERROR - fsolve does not work -  change x0\n",
      "mevd_quant:: ERROR - fsolve does not work -  change x0\n",
      "mevd_quant:: ERROR - fsolve does not work -  change x0\n",
      "mevd_quant:: ERROR - fsolve does not work -  change x0\n",
      "mevd_quant:: ERROR - fsolve does not work -  change x0\n",
      "mevd_quant:: ERROR - fsolve does not work -  change x0\n",
      "mevd_quant:: ERROR - fsolve does not work -  change x0\n",
      "mevd_quant:: ERROR - fsolve does not work -  change x0\n",
      "mevd_quant:: ERROR - fsolve does not work -  change x0\n",
      "mevd_quant:: ERROR - fsolve does not work -  change x0\n",
      "mevd_quant:: ERROR - fsolve does not work -  change x0\n",
      "mevd_quant:: ERROR - fsolve does not work -  change x0\n",
      "mevd_quant:: ERROR - fsolve does not work -  change x0\n",
      "mevd_quant:: ERROR - fsolve does not work -  change x0\n",
      "mevd_quant:: ERROR - fsolve does not work -  change x0\n",
      "mevd_quant:: ERROR - fsolve does not work -  change x0\n",
      "mevd_quant:: ERROR - fsolve does not work -  change x0\n",
      "mevd_quant:: ERROR - fsolve does not work -  change x0\n",
      "mevd_quant:: ERROR - fsolve does not work -  change x0\n",
      "mevd_quant:: ERROR - fsolve does not work -  change x0\n"
     ]
    },
    {
     "name": "stderr",
     "output_type": "stream",
     "text": [
      "/home/arturo/github/downpy/codes/downscale.py:1248: RuntimeWarning: invalid value encountered in power\n",
      "  mev0f = np.sum( ( 1-np.exp(-(y/C)**W ))**N) - nyears*pr\n",
      "/home/arturo/github/downpy/codes/downscale.py:1248: RuntimeWarning: invalid value encountered in power\n",
      "  mev0f = np.sum( ( 1-np.exp(-(y/C)**W ))**N) - nyears*pr\n",
      "/home/arturo/github/downpy/codes/downscale.py:1248: RuntimeWarning: invalid value encountered in power\n",
      "  mev0f = np.sum( ( 1-np.exp(-(y/C)**W ))**N) - nyears*pr\n"
     ]
    },
    {
     "name": "stdout",
     "output_type": "stream",
     "text": [
      "mevd_quant:: ERROR - fsolve does not work -  change x0\n",
      "mevd_quant:: ERROR - fsolve does not work -  change x0\n",
      "mevd_quant:: ERROR - fsolve does not work -  change x0\n",
      "mevd_quant:: ERROR - fsolve does not work -  change x0\n",
      "mevd_quant:: ERROR - fsolve does not work -  change x0\n",
      "mevd_quant:: ERROR - fsolve does not work -  change x0\n",
      "mevd_quant:: ERROR - fsolve does not work -  change x0\n",
      "mevd_quant:: ERROR - fsolve does not work -  change x0\n"
     ]
    },
    {
     "name": "stderr",
     "output_type": "stream",
     "text": [
      "/home/arturo/github/downpy/codes/downscale.py:1248: RuntimeWarning: invalid value encountered in power\n",
      "  mev0f = np.sum( ( 1-np.exp(-(y/C)**W ))**N) - nyears*pr\n"
     ]
    },
    {
     "name": "stdout",
     "output_type": "stream",
     "text": [
      "mevd_quant:: ERROR - fsolve does not work -  change x0\n",
      "mevd_quant:: ERROR - fsolve does not work -  change x0\n"
     ]
    },
    {
     "name": "stderr",
     "output_type": "stream",
     "text": [
      "/home/arturo/github/downpy/codes/downscale.py:1248: RuntimeWarning: invalid value encountered in power\n",
      "  mev0f = np.sum( ( 1-np.exp(-(y/C)**W ))**N) - nyears*pr\n",
      "/home/arturo/github/downpy/codes/downscale.py:1248: RuntimeWarning: invalid value encountered in power\n",
      "  mev0f = np.sum( ( 1-np.exp(-(y/C)**W ))**N) - nyears*pr\n",
      "/home/arturo/github/downpy/codes/downscale.py:1248: RuntimeWarning: invalid value encountered in power\n",
      "  mev0f = np.sum( ( 1-np.exp(-(y/C)**W ))**N) - nyears*pr\n",
      "/home/arturo/github/downpy/codes/downscale.py:1248: RuntimeWarning: invalid value encountered in power\n",
      "  mev0f = np.sum( ( 1-np.exp(-(y/C)**W ))**N) - nyears*pr\n",
      "/home/arturo/github/downpy/codes/downscale.py:1248: RuntimeWarning: invalid value encountered in power\n",
      "  mev0f = np.sum( ( 1-np.exp(-(y/C)**W ))**N) - nyears*pr\n",
      "/home/arturo/github/downpy/codes/downscale.py:1248: RuntimeWarning: invalid value encountered in power\n",
      "  mev0f = np.sum( ( 1-np.exp(-(y/C)**W ))**N) - nyears*pr\n",
      "/home/arturo/github/downpy/codes/downscale.py:1248: RuntimeWarning: invalid value encountered in power\n",
      "  mev0f = np.sum( ( 1-np.exp(-(y/C)**W ))**N) - nyears*pr\n"
     ]
    },
    {
     "name": "stdout",
     "output_type": "stream",
     "text": [
      "mevd_quant:: ERROR - fsolve does not work -  change x0\n",
      "mevd_quant:: ERROR - fsolve does not work -  change x0\n",
      "mevd_quant:: ERROR - fsolve does not work -  change x0\n",
      "mevd_quant:: ERROR - fsolve does not work -  change x0\n",
      "mevd_quant:: ERROR - fsolve does not work -  change x0\n",
      "mevd_quant:: ERROR - fsolve does not work -  change x0\n",
      "mevd_quant:: ERROR - fsolve does not work -  change x0\n",
      "mevd_quant:: ERROR - fsolve does not work -  change x0\n",
      "mevd_quant:: ERROR - fsolve does not work -  change x0\n",
      "mevd_quant:: ERROR - fsolve does not work -  change x0\n",
      "mevd_quant:: ERROR - fsolve does not work -  change x0\n",
      "mevd_quant:: ERROR - fsolve does not work -  change x0\n",
      "mevd_quant:: ERROR - fsolve does not work -  change x0\n",
      "mevd_quant:: ERROR - fsolve does not work -  change x0\n",
      "mevd_quant:: ERROR - fsolve does not work -  change x0\n",
      "mevd_quant:: ERROR - fsolve does not work -  change x0\n",
      "mevd_quant:: ERROR - fsolve does not work -  change x0\n",
      "mevd_quant:: ERROR - fsolve does not work -  change x0\n",
      "mevd_quant:: ERROR - fsolve does not work -  change x0\n",
      "mevd_quant:: ERROR - fsolve does not work -  change x0\n",
      "mevd_quant:: ERROR - fsolve does not work -  change x0\n",
      "7\n"
     ]
    },
    {
     "name": "stderr",
     "output_type": "stream",
     "text": [
      "/home/arturo/github/downpy/codes/downscale.py:1248: RuntimeWarning: invalid value encountered in power\n",
      "  mev0f = np.sum( ( 1-np.exp(-(y/C)**W ))**N) - nyears*pr\n",
      "/home/arturo/github/downpy/codes/downscale.py:1248: RuntimeWarning: invalid value encountered in power\n",
      "  mev0f = np.sum( ( 1-np.exp(-(y/C)**W ))**N) - nyears*pr\n",
      "/home/arturo/github/downpy/codes/downscale.py:1248: RuntimeWarning: invalid value encountered in power\n",
      "  mev0f = np.sum( ( 1-np.exp(-(y/C)**W ))**N) - nyears*pr\n",
      "/home/arturo/github/downpy/codes/downscale.py:1248: RuntimeWarning: invalid value encountered in power\n",
      "  mev0f = np.sum( ( 1-np.exp(-(y/C)**W ))**N) - nyears*pr\n",
      "/home/arturo/github/downpy/codes/downscale.py:1248: RuntimeWarning: invalid value encountered in power\n",
      "  mev0f = np.sum( ( 1-np.exp(-(y/C)**W ))**N) - nyears*pr\n",
      "/home/arturo/github/downpy/codes/downscale.py:1248: RuntimeWarning: invalid value encountered in power\n",
      "  mev0f = np.sum( ( 1-np.exp(-(y/C)**W ))**N) - nyears*pr\n",
      "/home/arturo/github/downpy/codes/downscale.py:1248: RuntimeWarning: invalid value encountered in power\n",
      "  mev0f = np.sum( ( 1-np.exp(-(y/C)**W ))**N) - nyears*pr\n",
      "/home/arturo/github/downpy/codes/downscale.py:1248: RuntimeWarning: invalid value encountered in power\n",
      "  mev0f = np.sum( ( 1-np.exp(-(y/C)**W ))**N) - nyears*pr\n",
      "/home/arturo/github/downpy/codes/downscale.py:1248: RuntimeWarning: invalid value encountered in power\n",
      "  mev0f = np.sum( ( 1-np.exp(-(y/C)**W ))**N) - nyears*pr\n",
      "/home/arturo/github/downpy/codes/downscale.py:1248: RuntimeWarning: invalid value encountered in power\n",
      "  mev0f = np.sum( ( 1-np.exp(-(y/C)**W ))**N) - nyears*pr\n",
      "/home/arturo/github/downpy/codes/downscale.py:1248: RuntimeWarning: invalid value encountered in power\n",
      "  mev0f = np.sum( ( 1-np.exp(-(y/C)**W ))**N) - nyears*pr\n"
     ]
    },
    {
     "name": "stdout",
     "output_type": "stream",
     "text": [
      "mevd_quant:: ERROR - fsolve does not work -  change x0\n",
      "mevd_quant:: ERROR - fsolve does not work -  change x0\n",
      "mevd_quant:: ERROR - fsolve does not work -  change x0\n",
      "mevd_quant:: ERROR - fsolve does not work -  change x0\n",
      "mevd_quant:: ERROR - fsolve does not work -  change x0\n",
      "mevd_quant:: ERROR - fsolve does not work -  change x0\n",
      "mevd_quant:: ERROR - fsolve does not work -  change x0\n",
      "mevd_quant:: ERROR - fsolve does not work -  change x0\n",
      "mevd_quant:: ERROR - fsolve does not work -  change x0\n",
      "mevd_quant:: ERROR - fsolve does not work -  change x0\n",
      "mevd_quant:: ERROR - fsolve does not work -  change x0\n",
      "mevd_quant:: ERROR - fsolve does not work -  change x0\n",
      "mevd_quant:: ERROR - fsolve does not work -  change x0\n",
      "mevd_quant:: ERROR - fsolve does not work -  change x0\n",
      "mevd_quant:: ERROR - fsolve does not work -  change x0\n",
      "mevd_quant:: ERROR - fsolve does not work -  change x0\n",
      "mevd_quant:: ERROR - fsolve does not work -  change x0\n",
      "mevd_quant:: ERROR - fsolve does not work -  change x0\n",
      "mevd_quant:: ERROR - fsolve does not work -  change x0\n",
      "mevd_quant:: ERROR - fsolve does not work -  change x0\n",
      "mevd_quant:: ERROR - fsolve does not work -  change x0\n",
      "mevd_quant:: ERROR - fsolve does not work -  change x0\n",
      "mevd_quant:: ERROR - fsolve does not work -  change x0\n",
      "mevd_quant:: ERROR - fsolve does not work -  change x0\n",
      "mevd_quant:: ERROR - fsolve does not work -  change x0\n",
      "mevd_quant:: ERROR - fsolve does not work -  change x0\n",
      "mevd_quant:: ERROR - fsolve does not work -  change x0\n",
      "mevd_quant:: ERROR - fsolve does not work -  change x0\n",
      "mevd_quant:: ERROR - fsolve does not work -  change x0\n",
      "mevd_quant:: ERROR - fsolve does not work -  change x0\n",
      "mevd_quant:: ERROR - fsolve does not work -  change x0\n"
     ]
    },
    {
     "name": "stderr",
     "output_type": "stream",
     "text": [
      "/home/arturo/github/downpy/codes/downscale.py:1248: RuntimeWarning: invalid value encountered in power\n",
      "  mev0f = np.sum( ( 1-np.exp(-(y/C)**W ))**N) - nyears*pr\n",
      "/home/arturo/github/downpy/codes/downscale.py:1248: RuntimeWarning: invalid value encountered in power\n",
      "  mev0f = np.sum( ( 1-np.exp(-(y/C)**W ))**N) - nyears*pr\n"
     ]
    },
    {
     "name": "stdout",
     "output_type": "stream",
     "text": [
      "mevd_quant:: ERROR - fsolve does not work -  change x0\n",
      "mevd_quant:: ERROR - fsolve does not work -  change x0\n",
      "mevd_quant:: ERROR - fsolve does not work -  change x0\n"
     ]
    },
    {
     "name": "stderr",
     "output_type": "stream",
     "text": [
      "/home/arturo/github/downpy/codes/downscale.py:1248: RuntimeWarning: invalid value encountered in power\n",
      "  mev0f = np.sum( ( 1-np.exp(-(y/C)**W ))**N) - nyears*pr\n",
      "/home/arturo/github/downpy/codes/downscale.py:1248: RuntimeWarning: invalid value encountered in power\n",
      "  mev0f = np.sum( ( 1-np.exp(-(y/C)**W ))**N) - nyears*pr\n",
      "/home/arturo/github/downpy/codes/downscale.py:1248: RuntimeWarning: invalid value encountered in power\n",
      "  mev0f = np.sum( ( 1-np.exp(-(y/C)**W ))**N) - nyears*pr\n",
      "/home/arturo/github/downpy/codes/downscale.py:1248: RuntimeWarning: invalid value encountered in power\n",
      "  mev0f = np.sum( ( 1-np.exp(-(y/C)**W ))**N) - nyears*pr\n"
     ]
    },
    {
     "name": "stdout",
     "output_type": "stream",
     "text": [
      "mevd_quant:: ERROR - fsolve does not work -  change x0\n",
      "mevd_quant:: ERROR - fsolve does not work -  change x0\n",
      "mevd_quant:: ERROR - fsolve does not work -  change x0\n",
      "mevd_quant:: ERROR - fsolve does not work -  change x0\n",
      "mevd_quant:: ERROR - fsolve does not work -  change x0\n",
      "mevd_quant:: ERROR - fsolve does not work -  change x0\n",
      "mevd_quant:: ERROR - fsolve does not work -  change x0\n",
      "mevd_quant:: ERROR - fsolve does not work -  change x0\n",
      "mevd_quant:: ERROR - fsolve does not work -  change x0\n",
      "mevd_quant:: ERROR - fsolve does not work -  change x0\n",
      "mevd_quant:: ERROR - fsolve does not work -  change x0\n"
     ]
    },
    {
     "name": "stderr",
     "output_type": "stream",
     "text": [
      "/home/arturo/github/downpy/codes/downscale.py:1248: RuntimeWarning: invalid value encountered in power\n",
      "  mev0f = np.sum( ( 1-np.exp(-(y/C)**W ))**N) - nyears*pr\n",
      "/home/arturo/github/downpy/codes/downscale.py:1248: RuntimeWarning: invalid value encountered in power\n",
      "  mev0f = np.sum( ( 1-np.exp(-(y/C)**W ))**N) - nyears*pr\n",
      "/home/arturo/github/downpy/codes/downscale.py:1248: RuntimeWarning: invalid value encountered in power\n",
      "  mev0f = np.sum( ( 1-np.exp(-(y/C)**W ))**N) - nyears*pr\n",
      "/home/arturo/github/downpy/codes/downscale.py:1248: RuntimeWarning: invalid value encountered in power\n",
      "  mev0f = np.sum( ( 1-np.exp(-(y/C)**W ))**N) - nyears*pr\n",
      "/home/arturo/github/downpy/codes/downscale.py:1248: RuntimeWarning: invalid value encountered in power\n",
      "  mev0f = np.sum( ( 1-np.exp(-(y/C)**W ))**N) - nyears*pr\n",
      "/home/arturo/github/downpy/codes/downscale.py:1248: RuntimeWarning: invalid value encountered in power\n",
      "  mev0f = np.sum( ( 1-np.exp(-(y/C)**W ))**N) - nyears*pr\n"
     ]
    },
    {
     "name": "stdout",
     "output_type": "stream",
     "text": [
      "mevd_quant:: ERROR - fsolve does not work -  change x0\n",
      "mevd_quant:: ERROR - fsolve does not work -  change x0\n",
      "mevd_quant:: ERROR - fsolve does not work -  change x0\n",
      "mevd_quant:: ERROR - fsolve does not work -  change x0\n",
      "mevd_quant:: ERROR - fsolve does not work -  change x0\n",
      "mevd_quant:: ERROR - fsolve does not work -  change x0\n",
      "mevd_quant:: ERROR - fsolve does not work -  change x0\n",
      "mevd_quant:: ERROR - fsolve does not work -  change x0\n",
      "mevd_quant:: ERROR - fsolve does not work -  change x0\n",
      "mevd_quant:: ERROR - fsolve does not work -  change x0\n",
      "mevd_quant:: ERROR - fsolve does not work -  change x0\n",
      "mevd_quant:: ERROR - fsolve does not work -  change x0\n",
      "mevd_quant:: ERROR - fsolve does not work -  change x0\n",
      "mevd_quant:: ERROR - fsolve does not work -  change x0\n",
      "mevd_quant:: ERROR - fsolve does not work -  change x0\n",
      "8\n",
      "mevd_quant:: ERROR - fsolve does not work -  change x0\n",
      "mevd_quant:: ERROR - fsolve does not work -  change x0\n",
      "mevd_quant:: ERROR - fsolve does not work -  change x0\n",
      "mevd_quant:: ERROR - fsolve does not work -  change x0\n"
     ]
    },
    {
     "name": "stderr",
     "output_type": "stream",
     "text": [
      "/home/arturo/github/downpy/codes/downscale.py:1248: RuntimeWarning: invalid value encountered in power\n",
      "  mev0f = np.sum( ( 1-np.exp(-(y/C)**W ))**N) - nyears*pr\n",
      "/home/arturo/github/downpy/codes/downscale.py:1248: RuntimeWarning: invalid value encountered in power\n",
      "  mev0f = np.sum( ( 1-np.exp(-(y/C)**W ))**N) - nyears*pr\n",
      "/home/arturo/github/downpy/codes/downscale.py:1248: RuntimeWarning: invalid value encountered in power\n",
      "  mev0f = np.sum( ( 1-np.exp(-(y/C)**W ))**N) - nyears*pr\n",
      "/home/arturo/github/downpy/codes/downscale.py:1248: RuntimeWarning: invalid value encountered in power\n",
      "  mev0f = np.sum( ( 1-np.exp(-(y/C)**W ))**N) - nyears*pr\n",
      "/home/arturo/github/downpy/codes/downscale.py:1248: RuntimeWarning: invalid value encountered in power\n",
      "  mev0f = np.sum( ( 1-np.exp(-(y/C)**W ))**N) - nyears*pr\n"
     ]
    },
    {
     "name": "stdout",
     "output_type": "stream",
     "text": [
      "mevd_quant:: ERROR - fsolve does not work -  change x0\n",
      "mevd_quant:: ERROR - fsolve does not work -  change x0\n",
      "mevd_quant:: ERROR - fsolve does not work -  change x0\n",
      "mevd_quant:: ERROR - fsolve does not work -  change x0\n",
      "mevd_quant:: ERROR - fsolve does not work -  change x0\n",
      "mevd_quant:: ERROR - fsolve does not work -  change x0\n",
      "mevd_quant:: ERROR - fsolve does not work -  change x0\n",
      "mevd_quant:: ERROR - fsolve does not work -  change x0\n",
      "mevd_quant:: ERROR - fsolve does not work -  change x0\n",
      "mevd_quant:: ERROR - fsolve does not work -  change x0\n",
      "mevd_quant:: ERROR - fsolve does not work -  change x0\n",
      "mevd_quant:: ERROR - fsolve does not work -  change x0\n",
      "mevd_quant:: ERROR - fsolve does not work -  change x0\n",
      "mevd_quant:: ERROR - fsolve does not work -  change x0\n",
      "mevd_quant:: ERROR - fsolve does not work -  change x0\n",
      "mevd_quant:: ERROR - fsolve does not work -  change x0\n",
      "mevd_quant:: ERROR - fsolve does not work -  change x0\n",
      "mevd_quant:: ERROR - fsolve does not work -  change x0\n",
      "mevd_quant:: ERROR - fsolve does not work -  change x0\n",
      "mevd_quant:: ERROR - fsolve does not work -  change x0\n",
      "mevd_quant:: ERROR - fsolve does not work -  change x0\n",
      "mevd_quant:: ERROR - fsolve does not work -  change x0\n",
      "mevd_quant:: ERROR - fsolve does not work -  change x0\n",
      "mevd_quant:: ERROR - fsolve does not work -  change x0\n"
     ]
    },
    {
     "name": "stderr",
     "output_type": "stream",
     "text": [
      "/home/arturo/github/downpy/codes/downscale.py:1248: RuntimeWarning: invalid value encountered in power\n",
      "  mev0f = np.sum( ( 1-np.exp(-(y/C)**W ))**N) - nyears*pr\n",
      "/home/arturo/github/downpy/codes/downscale.py:1248: RuntimeWarning: invalid value encountered in power\n",
      "  mev0f = np.sum( ( 1-np.exp(-(y/C)**W ))**N) - nyears*pr\n",
      "/home/arturo/github/downpy/codes/downscale.py:1248: RuntimeWarning: invalid value encountered in power\n",
      "  mev0f = np.sum( ( 1-np.exp(-(y/C)**W ))**N) - nyears*pr\n",
      "/home/arturo/github/downpy/codes/downscale.py:1248: RuntimeWarning: invalid value encountered in power\n",
      "  mev0f = np.sum( ( 1-np.exp(-(y/C)**W ))**N) - nyears*pr\n"
     ]
    },
    {
     "name": "stdout",
     "output_type": "stream",
     "text": [
      "mevd_quant:: ERROR - fsolve does not work -  change x0\n"
     ]
    },
    {
     "name": "stderr",
     "output_type": "stream",
     "text": [
      "/home/arturo/github/downpy/codes/downscale.py:1248: RuntimeWarning: invalid value encountered in power\n",
      "  mev0f = np.sum( ( 1-np.exp(-(y/C)**W ))**N) - nyears*pr\n",
      "/home/arturo/github/downpy/codes/downscale.py:1248: RuntimeWarning: invalid value encountered in power\n",
      "  mev0f = np.sum( ( 1-np.exp(-(y/C)**W ))**N) - nyears*pr\n",
      "/home/arturo/github/downpy/codes/downscale.py:1248: RuntimeWarning: invalid value encountered in power\n",
      "  mev0f = np.sum( ( 1-np.exp(-(y/C)**W ))**N) - nyears*pr\n",
      "/home/arturo/github/downpy/codes/downscale.py:1248: RuntimeWarning: invalid value encountered in power\n",
      "  mev0f = np.sum( ( 1-np.exp(-(y/C)**W ))**N) - nyears*pr\n",
      "/home/arturo/github/downpy/codes/downscale.py:1248: RuntimeWarning: invalid value encountered in power\n",
      "  mev0f = np.sum( ( 1-np.exp(-(y/C)**W ))**N) - nyears*pr\n",
      "/home/arturo/github/downpy/codes/downscale.py:1248: RuntimeWarning: invalid value encountered in power\n",
      "  mev0f = np.sum( ( 1-np.exp(-(y/C)**W ))**N) - nyears*pr\n"
     ]
    },
    {
     "name": "stdout",
     "output_type": "stream",
     "text": [
      "mevd_quant:: ERROR - fsolve does not work -  change x0\n",
      "mevd_quant:: ERROR - fsolve does not work -  change x0\n",
      "mevd_quant:: ERROR - fsolve does not work -  change x0\n",
      "mevd_quant:: ERROR - fsolve does not work -  change x0\n",
      "mevd_quant:: ERROR - fsolve does not work -  change x0\n",
      "mevd_quant:: ERROR - fsolve does not work -  change x0\n",
      "mevd_quant:: ERROR - fsolve does not work -  change x0\n",
      "mevd_quant:: ERROR - fsolve does not work -  change x0\n",
      "mevd_quant:: ERROR - fsolve does not work -  change x0\n",
      "mevd_quant:: ERROR - fsolve does not work -  change x0\n",
      "mevd_quant:: ERROR - fsolve does not work -  change x0\n",
      "mevd_quant:: ERROR - fsolve does not work -  change x0\n",
      "mevd_quant:: ERROR - fsolve does not work -  change x0\n",
      "mevd_quant:: ERROR - fsolve does not work -  change x0\n",
      "mevd_quant:: ERROR - fsolve does not work -  change x0\n",
      "mevd_quant:: ERROR - fsolve does not work -  change x0\n",
      "mevd_quant:: ERROR - fsolve does not work -  change x0\n",
      "mevd_quant:: ERROR - fsolve does not work -  change x0\n",
      "mevd_quant:: ERROR - fsolve does not work -  change x0\n",
      "mevd_quant:: ERROR - fsolve does not work -  change x0\n",
      "mevd_quant:: ERROR - fsolve does not work -  change x0\n"
     ]
    },
    {
     "name": "stderr",
     "output_type": "stream",
     "text": [
      "/home/arturo/github/downpy/codes/downscale.py:1248: RuntimeWarning: invalid value encountered in power\n",
      "  mev0f = np.sum( ( 1-np.exp(-(y/C)**W ))**N) - nyears*pr\n",
      "/home/arturo/github/downpy/codes/downscale.py:1248: RuntimeWarning: invalid value encountered in power\n",
      "  mev0f = np.sum( ( 1-np.exp(-(y/C)**W ))**N) - nyears*pr\n",
      "/home/arturo/github/downpy/codes/downscale.py:1248: RuntimeWarning: invalid value encountered in power\n",
      "  mev0f = np.sum( ( 1-np.exp(-(y/C)**W ))**N) - nyears*pr\n",
      "/home/arturo/github/downpy/codes/downscale.py:1248: RuntimeWarning: invalid value encountered in power\n",
      "  mev0f = np.sum( ( 1-np.exp(-(y/C)**W ))**N) - nyears*pr\n"
     ]
    },
    {
     "name": "stdout",
     "output_type": "stream",
     "text": [
      "mevd_quant:: ERROR - fsolve does not work -  change x0\n",
      "mevd_quant:: ERROR - fsolve does not work -  change x0\n",
      "mevd_quant:: ERROR - fsolve does not work -  change x0\n",
      "mevd_quant:: ERROR - fsolve does not work -  change x0\n",
      "mevd_quant:: ERROR - fsolve does not work -  change x0\n",
      "9\n",
      "mevd_quant:: ERROR - fsolve does not work -  change x0\n",
      "mevd_quant:: ERROR - fsolve does not work -  change x0\n",
      "mevd_quant:: ERROR - fsolve does not work -  change x0\n",
      "mevd_quant:: ERROR - fsolve does not work -  change x0\n",
      "mevd_quant:: ERROR - fsolve does not work -  change x0\n",
      "mevd_quant:: ERROR - fsolve does not work -  change x0\n"
     ]
    },
    {
     "name": "stderr",
     "output_type": "stream",
     "text": [
      "/home/arturo/github/downpy/codes/downscale.py:1248: RuntimeWarning: invalid value encountered in power\n",
      "  mev0f = np.sum( ( 1-np.exp(-(y/C)**W ))**N) - nyears*pr\n",
      "/home/arturo/github/downpy/codes/downscale.py:1248: RuntimeWarning: invalid value encountered in power\n",
      "  mev0f = np.sum( ( 1-np.exp(-(y/C)**W ))**N) - nyears*pr\n",
      "/home/arturo/github/downpy/codes/downscale.py:1248: RuntimeWarning: invalid value encountered in power\n",
      "  mev0f = np.sum( ( 1-np.exp(-(y/C)**W ))**N) - nyears*pr\n",
      "/home/arturo/github/downpy/codes/downscale.py:1248: RuntimeWarning: invalid value encountered in power\n",
      "  mev0f = np.sum( ( 1-np.exp(-(y/C)**W ))**N) - nyears*pr\n",
      "/home/arturo/github/downpy/codes/downscale.py:1248: RuntimeWarning: invalid value encountered in power\n",
      "  mev0f = np.sum( ( 1-np.exp(-(y/C)**W ))**N) - nyears*pr\n"
     ]
    },
    {
     "name": "stdout",
     "output_type": "stream",
     "text": [
      "mevd_quant:: ERROR - fsolve does not work -  change x0\n",
      "mevd_quant:: ERROR - fsolve does not work -  change x0\n",
      "mevd_quant:: ERROR - fsolve does not work -  change x0\n",
      "mevd_quant:: ERROR - fsolve does not work -  change x0\n",
      "mevd_quant:: ERROR - fsolve does not work -  change x0\n",
      "mevd_quant:: ERROR - fsolve does not work -  change x0\n",
      "mevd_quant:: ERROR - fsolve does not work -  change x0\n",
      "mevd_quant:: ERROR - fsolve does not work -  change x0\n",
      "mevd_quant:: ERROR - fsolve does not work -  change x0\n"
     ]
    },
    {
     "name": "stderr",
     "output_type": "stream",
     "text": [
      "/home/arturo/github/downpy/codes/downscale.py:1248: RuntimeWarning: invalid value encountered in power\n",
      "  mev0f = np.sum( ( 1-np.exp(-(y/C)**W ))**N) - nyears*pr\n",
      "/home/arturo/github/downpy/codes/downscale.py:1248: RuntimeWarning: invalid value encountered in power\n",
      "  mev0f = np.sum( ( 1-np.exp(-(y/C)**W ))**N) - nyears*pr\n",
      "/home/arturo/github/downpy/codes/downscale.py:1248: RuntimeWarning: invalid value encountered in power\n",
      "  mev0f = np.sum( ( 1-np.exp(-(y/C)**W ))**N) - nyears*pr\n",
      "/home/arturo/github/downpy/codes/downscale.py:1248: RuntimeWarning: invalid value encountered in power\n",
      "  mev0f = np.sum( ( 1-np.exp(-(y/C)**W ))**N) - nyears*pr\n"
     ]
    },
    {
     "name": "stdout",
     "output_type": "stream",
     "text": [
      "mevd_quant:: ERROR - fsolve does not work -  change x0\n",
      "mevd_quant:: ERROR - fsolve does not work -  change x0\n",
      "mevd_quant:: ERROR - fsolve does not work -  change x0\n",
      "mevd_quant:: ERROR - fsolve does not work -  change x0\n",
      "mevd_quant:: ERROR - fsolve does not work -  change x0\n",
      "mevd_quant:: ERROR - fsolve does not work -  change x0\n",
      "mevd_quant:: ERROR - fsolve does not work -  change x0\n"
     ]
    },
    {
     "name": "stderr",
     "output_type": "stream",
     "text": [
      "/home/arturo/github/downpy/codes/downscale.py:1248: RuntimeWarning: invalid value encountered in power\n",
      "  mev0f = np.sum( ( 1-np.exp(-(y/C)**W ))**N) - nyears*pr\n",
      "/home/arturo/github/downpy/codes/downscale.py:1248: RuntimeWarning: invalid value encountered in power\n",
      "  mev0f = np.sum( ( 1-np.exp(-(y/C)**W ))**N) - nyears*pr\n",
      "/home/arturo/github/downpy/codes/downscale.py:1248: RuntimeWarning: invalid value encountered in power\n",
      "  mev0f = np.sum( ( 1-np.exp(-(y/C)**W ))**N) - nyears*pr\n",
      "/home/arturo/github/downpy/codes/downscale.py:1248: RuntimeWarning: invalid value encountered in power\n",
      "  mev0f = np.sum( ( 1-np.exp(-(y/C)**W ))**N) - nyears*pr\n"
     ]
    },
    {
     "name": "stdout",
     "output_type": "stream",
     "text": [
      "mevd_quant:: ERROR - fsolve does not work -  change x0\n",
      "mevd_quant:: ERROR - fsolve does not work -  change x0\n",
      "mevd_quant:: ERROR - fsolve does not work -  change x0\n",
      "mevd_quant:: ERROR - fsolve does not work -  change x0\n",
      "mevd_quant:: ERROR - fsolve does not work -  change x0\n",
      "mevd_quant:: ERROR - fsolve does not work -  change x0\n",
      "mevd_quant:: ERROR - fsolve does not work -  change x0\n",
      "mevd_quant:: ERROR - fsolve does not work -  change x0\n",
      "mevd_quant:: ERROR - fsolve does not work -  change x0\n",
      "mevd_quant:: ERROR - fsolve does not work -  change x0\n"
     ]
    },
    {
     "name": "stderr",
     "output_type": "stream",
     "text": [
      "/home/arturo/github/downpy/codes/downscale.py:1248: RuntimeWarning: invalid value encountered in power\n",
      "  mev0f = np.sum( ( 1-np.exp(-(y/C)**W ))**N) - nyears*pr\n",
      "/home/arturo/github/downpy/codes/downscale.py:1248: RuntimeWarning: invalid value encountered in power\n",
      "  mev0f = np.sum( ( 1-np.exp(-(y/C)**W ))**N) - nyears*pr\n",
      "/home/arturo/github/downpy/codes/downscale.py:1248: RuntimeWarning: invalid value encountered in power\n",
      "  mev0f = np.sum( ( 1-np.exp(-(y/C)**W ))**N) - nyears*pr\n",
      "/home/arturo/github/downpy/codes/downscale.py:1248: RuntimeWarning: invalid value encountered in power\n",
      "  mev0f = np.sum( ( 1-np.exp(-(y/C)**W ))**N) - nyears*pr\n",
      "/home/arturo/github/downpy/codes/downscale.py:1248: RuntimeWarning: invalid value encountered in power\n",
      "  mev0f = np.sum( ( 1-np.exp(-(y/C)**W ))**N) - nyears*pr\n",
      "/home/arturo/github/downpy/codes/downscale.py:1248: RuntimeWarning: invalid value encountered in power\n",
      "  mev0f = np.sum( ( 1-np.exp(-(y/C)**W ))**N) - nyears*pr\n",
      "/home/arturo/github/downpy/codes/downscale.py:1248: RuntimeWarning: invalid value encountered in power\n",
      "  mev0f = np.sum( ( 1-np.exp(-(y/C)**W ))**N) - nyears*pr\n",
      "/home/arturo/github/downpy/codes/downscale.py:1248: RuntimeWarning: invalid value encountered in power\n",
      "  mev0f = np.sum( ( 1-np.exp(-(y/C)**W ))**N) - nyears*pr\n",
      "/home/arturo/github/downpy/codes/downscale.py:1248: RuntimeWarning: invalid value encountered in power\n",
      "  mev0f = np.sum( ( 1-np.exp(-(y/C)**W ))**N) - nyears*pr\n"
     ]
    },
    {
     "name": "stdout",
     "output_type": "stream",
     "text": [
      "mevd_quant:: ERROR - fsolve does not work -  change x0\n",
      "mevd_quant:: ERROR - fsolve does not work -  change x0\n",
      "mevd_quant:: ERROR - fsolve does not work -  change x0\n",
      "mevd_quant:: ERROR - fsolve does not work -  change x0\n",
      "mevd_quant:: ERROR - fsolve does not work -  change x0\n",
      "mevd_quant:: ERROR - fsolve does not work -  change x0\n",
      "mevd_quant:: ERROR - fsolve does not work -  change x0\n",
      "mevd_quant:: ERROR - fsolve does not work -  change x0\n",
      "mevd_quant:: ERROR - fsolve does not work -  change x0\n",
      "mevd_quant:: ERROR - fsolve does not work -  change x0\n",
      "mevd_quant:: ERROR - fsolve does not work -  change x0\n",
      "mevd_quant:: ERROR - fsolve does not work -  change x0\n",
      "mevd_quant:: ERROR - fsolve does not work -  change x0\n",
      "mevd_quant:: ERROR - fsolve does not work -  change x0\n",
      "mevd_quant:: ERROR - fsolve does not work -  change x0\n",
      "mevd_quant:: ERROR - fsolve does not work -  change x0\n"
     ]
    },
    {
     "name": "stderr",
     "output_type": "stream",
     "text": [
      "/home/arturo/github/downpy/codes/downscale.py:1248: RuntimeWarning: invalid value encountered in power\n",
      "  mev0f = np.sum( ( 1-np.exp(-(y/C)**W ))**N) - nyears*pr\n",
      "/home/arturo/github/downpy/codes/downscale.py:1248: RuntimeWarning: invalid value encountered in power\n",
      "  mev0f = np.sum( ( 1-np.exp(-(y/C)**W ))**N) - nyears*pr\n",
      "/home/arturo/github/downpy/codes/downscale.py:1248: RuntimeWarning: invalid value encountered in power\n",
      "  mev0f = np.sum( ( 1-np.exp(-(y/C)**W ))**N) - nyears*pr\n",
      "/home/arturo/github/downpy/codes/downscale.py:1248: RuntimeWarning: invalid value encountered in power\n",
      "  mev0f = np.sum( ( 1-np.exp(-(y/C)**W ))**N) - nyears*pr\n",
      "/home/arturo/github/downpy/codes/downscale.py:1248: RuntimeWarning: invalid value encountered in power\n",
      "  mev0f = np.sum( ( 1-np.exp(-(y/C)**W ))**N) - nyears*pr\n",
      "/home/arturo/github/downpy/codes/downscale.py:1248: RuntimeWarning: invalid value encountered in power\n",
      "  mev0f = np.sum( ( 1-np.exp(-(y/C)**W ))**N) - nyears*pr\n",
      "/home/arturo/github/downpy/codes/downscale.py:1248: RuntimeWarning: invalid value encountered in power\n",
      "  mev0f = np.sum( ( 1-np.exp(-(y/C)**W ))**N) - nyears*pr\n"
     ]
    },
    {
     "name": "stdout",
     "output_type": "stream",
     "text": [
      "mevd_quant:: ERROR - fsolve does not work -  change x0\n",
      "mevd_quant:: ERROR - fsolve does not work -  change x0\n",
      "mevd_quant:: ERROR - fsolve does not work -  change x0\n",
      "mevd_quant:: ERROR - fsolve does not work -  change x0\n",
      "mevd_quant:: ERROR - fsolve does not work -  change x0\n",
      "mevd_quant:: ERROR - fsolve does not work -  change x0\n",
      "mevd_quant:: ERROR - fsolve does not work -  change x0\n",
      "mevd_quant:: ERROR - fsolve does not work -  change x0\n",
      "mevd_quant:: ERROR - fsolve does not work -  change x0\n",
      "mevd_quant:: ERROR - fsolve does not work -  change x0\n",
      "mevd_quant:: ERROR - fsolve does not work -  change x0\n",
      "mevd_quant:: ERROR - fsolve does not work -  change x0\n",
      "mevd_quant:: ERROR - fsolve does not work -  change x0\n",
      "mevd_quant:: ERROR - fsolve does not work -  change x0\n",
      "mevd_quant:: ERROR - fsolve does not work -  change x0\n",
      "mevd_quant:: ERROR - fsolve does not work -  change x0\n",
      "mevd_quant:: ERROR - fsolve does not work -  change x0\n",
      "mevd_quant:: ERROR - fsolve does not work -  change x0\n",
      "mevd_quant:: ERROR - fsolve does not work -  change x0\n",
      "mevd_quant:: ERROR - fsolve does not work -  change x0\n"
     ]
    },
    {
     "name": "stderr",
     "output_type": "stream",
     "text": [
      "/home/arturo/github/downpy/codes/downscale.py:1248: RuntimeWarning: invalid value encountered in power\n",
      "  mev0f = np.sum( ( 1-np.exp(-(y/C)**W ))**N) - nyears*pr\n"
     ]
    },
    {
     "name": "stdout",
     "output_type": "stream",
     "text": [
      "mevd_quant:: ERROR - fsolve does not work -  change x0\n",
      "10\n",
      "mevd_quant:: ERROR - fsolve does not work -  change x0\n",
      "mevd_quant:: ERROR - fsolve does not work -  change x0\n",
      "mevd_quant:: ERROR - fsolve does not work -  change x0\n",
      "mevd_quant:: ERROR - fsolve does not work -  change x0\n",
      "mevd_quant:: ERROR - fsolve does not work -  change x0\n",
      "mevd_quant:: ERROR - fsolve does not work -  change x0\n",
      "mevd_quant:: ERROR - fsolve does not work -  change x0\n",
      "mevd_quant:: ERROR - fsolve does not work -  change x0\n",
      "mevd_quant:: ERROR - fsolve does not work -  change x0\n",
      "mevd_quant:: ERROR - fsolve does not work -  change x0\n",
      "mevd_quant:: ERROR - fsolve does not work -  change x0\n",
      "mevd_quant:: ERROR - fsolve does not work -  change x0\n",
      "mevd_quant:: ERROR - fsolve does not work -  change x0\n",
      "mevd_quant:: ERROR - fsolve does not work -  change x0\n",
      "mevd_quant:: ERROR - fsolve does not work -  change x0\n",
      "mevd_quant:: ERROR - fsolve does not work -  change x0\n",
      "mevd_quant:: ERROR - fsolve does not work -  change x0\n"
     ]
    },
    {
     "name": "stderr",
     "output_type": "stream",
     "text": [
      "/home/arturo/github/downpy/codes/downscale.py:1248: RuntimeWarning: invalid value encountered in power\n",
      "  mev0f = np.sum( ( 1-np.exp(-(y/C)**W ))**N) - nyears*pr\n",
      "/home/arturo/github/downpy/codes/downscale.py:1248: RuntimeWarning: invalid value encountered in power\n",
      "  mev0f = np.sum( ( 1-np.exp(-(y/C)**W ))**N) - nyears*pr\n",
      "/home/arturo/github/downpy/codes/downscale.py:1248: RuntimeWarning: invalid value encountered in power\n",
      "  mev0f = np.sum( ( 1-np.exp(-(y/C)**W ))**N) - nyears*pr\n",
      "/home/arturo/github/downpy/codes/downscale.py:1248: RuntimeWarning: invalid value encountered in power\n",
      "  mev0f = np.sum( ( 1-np.exp(-(y/C)**W ))**N) - nyears*pr\n",
      "/home/arturo/github/downpy/codes/downscale.py:1248: RuntimeWarning: invalid value encountered in power\n",
      "  mev0f = np.sum( ( 1-np.exp(-(y/C)**W ))**N) - nyears*pr\n",
      "/home/arturo/github/downpy/codes/downscale.py:1248: RuntimeWarning: invalid value encountered in power\n",
      "  mev0f = np.sum( ( 1-np.exp(-(y/C)**W ))**N) - nyears*pr\n",
      "/home/arturo/github/downpy/codes/downscale.py:1248: RuntimeWarning: invalid value encountered in power\n",
      "  mev0f = np.sum( ( 1-np.exp(-(y/C)**W ))**N) - nyears*pr\n",
      "/home/arturo/github/downpy/codes/downscale.py:1248: RuntimeWarning: invalid value encountered in power\n",
      "  mev0f = np.sum( ( 1-np.exp(-(y/C)**W ))**N) - nyears*pr\n",
      "/home/arturo/github/downpy/codes/downscale.py:1248: RuntimeWarning: invalid value encountered in power\n",
      "  mev0f = np.sum( ( 1-np.exp(-(y/C)**W ))**N) - nyears*pr\n",
      "/home/arturo/github/downpy/codes/downscale.py:1248: RuntimeWarning: invalid value encountered in power\n",
      "  mev0f = np.sum( ( 1-np.exp(-(y/C)**W ))**N) - nyears*pr\n",
      "/home/arturo/github/downpy/codes/downscale.py:1248: RuntimeWarning: invalid value encountered in power\n",
      "  mev0f = np.sum( ( 1-np.exp(-(y/C)**W ))**N) - nyears*pr\n"
     ]
    },
    {
     "name": "stdout",
     "output_type": "stream",
     "text": [
      "mevd_quant:: ERROR - fsolve does not work -  change x0\n",
      "mevd_quant:: ERROR - fsolve does not work -  change x0\n",
      "mevd_quant:: ERROR - fsolve does not work -  change x0\n",
      "mevd_quant:: ERROR - fsolve does not work -  change x0\n",
      "mevd_quant:: ERROR - fsolve does not work -  change x0\n",
      "mevd_quant:: ERROR - fsolve does not work -  change x0\n",
      "mevd_quant:: ERROR - fsolve does not work -  change x0\n",
      "mevd_quant:: ERROR - fsolve does not work -  change x0\n",
      "mevd_quant:: ERROR - fsolve does not work -  change x0\n",
      "mevd_quant:: ERROR - fsolve does not work -  change x0\n",
      "mevd_quant:: ERROR - fsolve does not work -  change x0\n",
      "mevd_quant:: ERROR - fsolve does not work -  change x0\n",
      "mevd_quant:: ERROR - fsolve does not work -  change x0\n",
      "mevd_quant:: ERROR - fsolve does not work -  change x0\n"
     ]
    },
    {
     "name": "stderr",
     "output_type": "stream",
     "text": [
      "/home/arturo/github/downpy/codes/downscale.py:1248: RuntimeWarning: invalid value encountered in power\n",
      "  mev0f = np.sum( ( 1-np.exp(-(y/C)**W ))**N) - nyears*pr\n",
      "/home/arturo/github/downpy/codes/downscale.py:1248: RuntimeWarning: invalid value encountered in power\n",
      "  mev0f = np.sum( ( 1-np.exp(-(y/C)**W ))**N) - nyears*pr\n",
      "/home/arturo/github/downpy/codes/downscale.py:1248: RuntimeWarning: invalid value encountered in power\n",
      "  mev0f = np.sum( ( 1-np.exp(-(y/C)**W ))**N) - nyears*pr\n",
      "/home/arturo/github/downpy/codes/downscale.py:1248: RuntimeWarning: invalid value encountered in power\n",
      "  mev0f = np.sum( ( 1-np.exp(-(y/C)**W ))**N) - nyears*pr\n",
      "/home/arturo/github/downpy/codes/downscale.py:1248: RuntimeWarning: invalid value encountered in power\n",
      "  mev0f = np.sum( ( 1-np.exp(-(y/C)**W ))**N) - nyears*pr\n",
      "/home/arturo/github/downpy/codes/downscale.py:1248: RuntimeWarning: invalid value encountered in power\n",
      "  mev0f = np.sum( ( 1-np.exp(-(y/C)**W ))**N) - nyears*pr\n",
      "/home/arturo/github/downpy/codes/downscale.py:1248: RuntimeWarning: invalid value encountered in power\n",
      "  mev0f = np.sum( ( 1-np.exp(-(y/C)**W ))**N) - nyears*pr\n"
     ]
    },
    {
     "name": "stdout",
     "output_type": "stream",
     "text": [
      "mevd_quant:: ERROR - fsolve does not work -  change x0\n",
      "mevd_quant:: ERROR - fsolve does not work -  change x0\n",
      "mevd_quant:: ERROR - fsolve does not work -  change x0\n",
      "mevd_quant:: ERROR - fsolve does not work -  change x0\n",
      "mevd_quant:: ERROR - fsolve does not work -  change x0\n",
      "mevd_quant:: ERROR - fsolve does not work -  change x0\n",
      "mevd_quant:: ERROR - fsolve does not work -  change x0\n",
      "mevd_quant:: ERROR - fsolve does not work -  change x0\n",
      "mevd_quant:: ERROR - fsolve does not work -  change x0\n",
      "mevd_quant:: ERROR - fsolve does not work -  change x0\n",
      "mevd_quant:: ERROR - fsolve does not work -  change x0\n",
      "mevd_quant:: ERROR - fsolve does not work -  change x0\n",
      "mevd_quant:: ERROR - fsolve does not work -  change x0\n",
      "mevd_quant:: ERROR - fsolve does not work -  change x0\n",
      "mevd_quant:: ERROR - fsolve does not work -  change x0\n",
      "mevd_quant:: ERROR - fsolve does not work -  change x0\n",
      "mevd_quant:: ERROR - fsolve does not work -  change x0\n",
      "mevd_quant:: ERROR - fsolve does not work -  change x0\n"
     ]
    },
    {
     "name": "stderr",
     "output_type": "stream",
     "text": [
      "/home/arturo/github/downpy/codes/downscale.py:1248: RuntimeWarning: invalid value encountered in power\n",
      "  mev0f = np.sum( ( 1-np.exp(-(y/C)**W ))**N) - nyears*pr\n",
      "/home/arturo/github/downpy/codes/downscale.py:1248: RuntimeWarning: invalid value encountered in power\n",
      "  mev0f = np.sum( ( 1-np.exp(-(y/C)**W ))**N) - nyears*pr\n",
      "/home/arturo/github/downpy/codes/downscale.py:1248: RuntimeWarning: invalid value encountered in power\n",
      "  mev0f = np.sum( ( 1-np.exp(-(y/C)**W ))**N) - nyears*pr\n",
      "/home/arturo/github/downpy/codes/downscale.py:1248: RuntimeWarning: invalid value encountered in power\n",
      "  mev0f = np.sum( ( 1-np.exp(-(y/C)**W ))**N) - nyears*pr\n",
      "/home/arturo/github/downpy/codes/downscale.py:1248: RuntimeWarning: invalid value encountered in power\n",
      "  mev0f = np.sum( ( 1-np.exp(-(y/C)**W ))**N) - nyears*pr\n",
      "/home/arturo/github/downpy/codes/downscale.py:1248: RuntimeWarning: invalid value encountered in power\n",
      "  mev0f = np.sum( ( 1-np.exp(-(y/C)**W ))**N) - nyears*pr\n"
     ]
    },
    {
     "name": "stdout",
     "output_type": "stream",
     "text": [
      "mevd_quant:: ERROR - fsolve does not work -  change x0\n",
      "mevd_quant:: ERROR - fsolve does not work -  change x0\n",
      "mevd_quant:: ERROR - fsolve does not work -  change x0\n",
      "mevd_quant:: ERROR - fsolve does not work -  change x0\n",
      "mevd_quant:: ERROR - fsolve does not work -  change x0\n",
      "mevd_quant:: ERROR - fsolve does not work -  change x0\n",
      "mevd_quant:: ERROR - fsolve does not work -  change x0\n",
      "mevd_quant:: ERROR - fsolve does not work -  change x0\n",
      "mevd_quant:: ERROR - fsolve does not work -  change x0\n",
      "mevd_quant:: ERROR - fsolve does not work -  change x0\n",
      "mevd_quant:: ERROR - fsolve does not work -  change x0\n",
      "mevd_quant:: ERROR - fsolve does not work -  change x0\n",
      "mevd_quant:: ERROR - fsolve does not work -  change x0\n",
      "mevd_quant:: ERROR - fsolve does not work -  change x0\n",
      "mevd_quant:: ERROR - fsolve does not work -  change x0\n",
      "mevd_quant:: ERROR - fsolve does not work -  change x0\n",
      "mevd_quant:: ERROR - fsolve does not work -  change x0\n",
      "mevd_quant:: ERROR - fsolve does not work -  change x0\n",
      "mevd_quant:: ERROR - fsolve does not work -  change x0\n",
      "mevd_quant:: ERROR - fsolve does not work -  change x0\n"
     ]
    },
    {
     "name": "stderr",
     "output_type": "stream",
     "text": [
      "/home/arturo/github/downpy/codes/downscale.py:1248: RuntimeWarning: invalid value encountered in power\n",
      "  mev0f = np.sum( ( 1-np.exp(-(y/C)**W ))**N) - nyears*pr\n"
     ]
    },
    {
     "name": "stdout",
     "output_type": "stream",
     "text": [
      "mevd_quant:: ERROR - fsolve does not work -  change x0\n",
      "mevd_quant:: ERROR - fsolve does not work -  change x0\n",
      "mevd_quant:: ERROR - fsolve does not work -  change x0\n",
      "11\n",
      "mevd_quant:: ERROR - fsolve does not work -  change x0\n",
      "mevd_quant:: ERROR - fsolve does not work -  change x0\n",
      "mevd_quant:: ERROR - fsolve does not work -  change x0\n",
      "mevd_quant:: ERROR - fsolve does not work -  change x0\n",
      "mevd_quant:: ERROR - fsolve does not work -  change x0\n",
      "mevd_quant:: ERROR - fsolve does not work -  change x0\n",
      "mevd_quant:: ERROR - fsolve does not work -  change x0\n",
      "mevd_quant:: ERROR - fsolve does not work -  change x0\n",
      "mevd_quant:: ERROR - fsolve does not work -  change x0\n",
      "mevd_quant:: ERROR - fsolve does not work -  change x0\n",
      "mevd_quant:: ERROR - fsolve does not work -  change x0\n",
      "mevd_quant:: ERROR - fsolve does not work -  change x0\n",
      "mevd_quant:: ERROR - fsolve does not work -  change x0\n",
      "mevd_quant:: ERROR - fsolve does not work -  change x0\n",
      "mevd_quant:: ERROR - fsolve does not work -  change x0\n",
      "mevd_quant:: ERROR - fsolve does not work -  change x0\n",
      "mevd_quant:: ERROR - fsolve does not work -  change x0\n"
     ]
    },
    {
     "name": "stderr",
     "output_type": "stream",
     "text": [
      "/home/arturo/github/downpy/codes/downscale.py:1248: RuntimeWarning: invalid value encountered in power\n",
      "  mev0f = np.sum( ( 1-np.exp(-(y/C)**W ))**N) - nyears*pr\n",
      "/home/arturo/github/downpy/codes/downscale.py:1248: RuntimeWarning: invalid value encountered in power\n",
      "  mev0f = np.sum( ( 1-np.exp(-(y/C)**W ))**N) - nyears*pr\n",
      "/home/arturo/github/downpy/codes/downscale.py:1248: RuntimeWarning: invalid value encountered in power\n",
      "  mev0f = np.sum( ( 1-np.exp(-(y/C)**W ))**N) - nyears*pr\n",
      "/home/arturo/github/downpy/codes/downscale.py:1248: RuntimeWarning: invalid value encountered in power\n",
      "  mev0f = np.sum( ( 1-np.exp(-(y/C)**W ))**N) - nyears*pr\n",
      "/home/arturo/github/downpy/codes/downscale.py:1248: RuntimeWarning: invalid value encountered in power\n",
      "  mev0f = np.sum( ( 1-np.exp(-(y/C)**W ))**N) - nyears*pr\n",
      "/home/arturo/github/downpy/codes/downscale.py:1248: RuntimeWarning: invalid value encountered in power\n",
      "  mev0f = np.sum( ( 1-np.exp(-(y/C)**W ))**N) - nyears*pr\n",
      "/home/arturo/github/downpy/codes/downscale.py:1248: RuntimeWarning: invalid value encountered in power\n",
      "  mev0f = np.sum( ( 1-np.exp(-(y/C)**W ))**N) - nyears*pr\n",
      "/home/arturo/github/downpy/codes/downscale.py:1248: RuntimeWarning: invalid value encountered in power\n",
      "  mev0f = np.sum( ( 1-np.exp(-(y/C)**W ))**N) - nyears*pr\n",
      "/home/arturo/github/downpy/codes/downscale.py:1248: RuntimeWarning: invalid value encountered in power\n",
      "  mev0f = np.sum( ( 1-np.exp(-(y/C)**W ))**N) - nyears*pr\n",
      "/home/arturo/github/downpy/codes/downscale.py:1248: RuntimeWarning: invalid value encountered in power\n",
      "  mev0f = np.sum( ( 1-np.exp(-(y/C)**W ))**N) - nyears*pr\n",
      "/home/arturo/github/downpy/codes/downscale.py:1248: RuntimeWarning: invalid value encountered in power\n",
      "  mev0f = np.sum( ( 1-np.exp(-(y/C)**W ))**N) - nyears*pr\n",
      "/home/arturo/github/downpy/codes/downscale.py:1248: RuntimeWarning: invalid value encountered in power\n",
      "  mev0f = np.sum( ( 1-np.exp(-(y/C)**W ))**N) - nyears*pr\n"
     ]
    },
    {
     "name": "stdout",
     "output_type": "stream",
     "text": [
      "mevd_quant:: ERROR - fsolve does not work -  change x0\n",
      "mevd_quant:: ERROR - fsolve does not work -  change x0\n",
      "mevd_quant:: ERROR - fsolve does not work -  change x0\n",
      "mevd_quant:: ERROR - fsolve does not work -  change x0\n",
      "mevd_quant:: ERROR - fsolve does not work -  change x0\n",
      "mevd_quant:: ERROR - fsolve does not work -  change x0\n",
      "mevd_quant:: ERROR - fsolve does not work -  change x0\n",
      "mevd_quant:: ERROR - fsolve does not work -  change x0\n",
      "mevd_quant:: ERROR - fsolve does not work -  change x0\n",
      "mevd_quant:: ERROR - fsolve does not work -  change x0\n",
      "mevd_quant:: ERROR - fsolve does not work -  change x0\n",
      "mevd_quant:: ERROR - fsolve does not work -  change x0\n",
      "mevd_quant:: ERROR - fsolve does not work -  change x0\n",
      "mevd_quant:: ERROR - fsolve does not work -  change x0\n",
      "mevd_quant:: ERROR - fsolve does not work -  change x0\n"
     ]
    },
    {
     "name": "stderr",
     "output_type": "stream",
     "text": [
      "/home/arturo/github/downpy/codes/downscale.py:1248: RuntimeWarning: invalid value encountered in power\n",
      "  mev0f = np.sum( ( 1-np.exp(-(y/C)**W ))**N) - nyears*pr\n"
     ]
    },
    {
     "name": "stdout",
     "output_type": "stream",
     "text": [
      "mevd_quant:: ERROR - fsolve does not work -  change x0\n",
      "mevd_quant:: ERROR - fsolve does not work -  change x0\n"
     ]
    },
    {
     "name": "stderr",
     "output_type": "stream",
     "text": [
      "/home/arturo/github/downpy/codes/downscale.py:1248: RuntimeWarning: invalid value encountered in power\n",
      "  mev0f = np.sum( ( 1-np.exp(-(y/C)**W ))**N) - nyears*pr\n",
      "/home/arturo/github/downpy/codes/downscale.py:1248: RuntimeWarning: invalid value encountered in power\n",
      "  mev0f = np.sum( ( 1-np.exp(-(y/C)**W ))**N) - nyears*pr\n",
      "/home/arturo/github/downpy/codes/downscale.py:1248: RuntimeWarning: invalid value encountered in power\n",
      "  mev0f = np.sum( ( 1-np.exp(-(y/C)**W ))**N) - nyears*pr\n",
      "/home/arturo/github/downpy/codes/downscale.py:1248: RuntimeWarning: invalid value encountered in power\n",
      "  mev0f = np.sum( ( 1-np.exp(-(y/C)**W ))**N) - nyears*pr\n",
      "/home/arturo/github/downpy/codes/downscale.py:1248: RuntimeWarning: invalid value encountered in power\n",
      "  mev0f = np.sum( ( 1-np.exp(-(y/C)**W ))**N) - nyears*pr\n",
      "/home/arturo/github/downpy/codes/downscale.py:1248: RuntimeWarning: invalid value encountered in power\n",
      "  mev0f = np.sum( ( 1-np.exp(-(y/C)**W ))**N) - nyears*pr\n",
      "/home/arturo/github/downpy/codes/downscale.py:1248: RuntimeWarning: invalid value encountered in power\n",
      "  mev0f = np.sum( ( 1-np.exp(-(y/C)**W ))**N) - nyears*pr\n"
     ]
    },
    {
     "name": "stdout",
     "output_type": "stream",
     "text": [
      "mevd_quant:: ERROR - fsolve does not work -  change x0\n",
      "mevd_quant:: ERROR - fsolve does not work -  change x0\n",
      "mevd_quant:: ERROR - fsolve does not work -  change x0\n",
      "mevd_quant:: ERROR - fsolve does not work -  change x0\n",
      "mevd_quant:: ERROR - fsolve does not work -  change x0\n",
      "mevd_quant:: ERROR - fsolve does not work -  change x0\n",
      "mevd_quant:: ERROR - fsolve does not work -  change x0\n",
      "mevd_quant:: ERROR - fsolve does not work -  change x0\n",
      "mevd_quant:: ERROR - fsolve does not work -  change x0\n",
      "mevd_quant:: ERROR - fsolve does not work -  change x0\n",
      "mevd_quant:: ERROR - fsolve does not work -  change x0\n",
      "mevd_quant:: ERROR - fsolve does not work -  change x0\n",
      "mevd_quant:: ERROR - fsolve does not work -  change x0\n",
      "mevd_quant:: ERROR - fsolve does not work -  change x0\n",
      "mevd_quant:: ERROR - fsolve does not work -  change x0\n",
      "mevd_quant:: ERROR - fsolve does not work -  change x0\n",
      "mevd_quant:: ERROR - fsolve does not work -  change x0\n",
      "mevd_quant:: ERROR - fsolve does not work -  change x0\n",
      "mevd_quant:: ERROR - fsolve does not work -  change x0\n"
     ]
    },
    {
     "name": "stderr",
     "output_type": "stream",
     "text": [
      "/home/arturo/github/downpy/codes/downscale.py:1248: RuntimeWarning: invalid value encountered in power\n",
      "  mev0f = np.sum( ( 1-np.exp(-(y/C)**W ))**N) - nyears*pr\n",
      "/home/arturo/github/downpy/codes/downscale.py:1248: RuntimeWarning: invalid value encountered in power\n",
      "  mev0f = np.sum( ( 1-np.exp(-(y/C)**W ))**N) - nyears*pr\n"
     ]
    },
    {
     "name": "stdout",
     "output_type": "stream",
     "text": [
      "mevd_quant:: ERROR - fsolve does not work -  change x0\n",
      "mevd_quant:: ERROR - fsolve does not work -  change x0\n",
      "12\n",
      "mevd_quant:: ERROR - fsolve does not work -  change x0\n",
      "mevd_quant:: ERROR - fsolve does not work -  change x0\n"
     ]
    },
    {
     "name": "stderr",
     "output_type": "stream",
     "text": [
      "/home/arturo/github/downpy/codes/downscale.py:1248: RuntimeWarning: invalid value encountered in power\n",
      "  mev0f = np.sum( ( 1-np.exp(-(y/C)**W ))**N) - nyears*pr\n",
      "/home/arturo/github/downpy/codes/downscale.py:1248: RuntimeWarning: invalid value encountered in power\n",
      "  mev0f = np.sum( ( 1-np.exp(-(y/C)**W ))**N) - nyears*pr\n",
      "/home/arturo/github/downpy/codes/downscale.py:1248: RuntimeWarning: invalid value encountered in power\n",
      "  mev0f = np.sum( ( 1-np.exp(-(y/C)**W ))**N) - nyears*pr\n",
      "/home/arturo/github/downpy/codes/downscale.py:1248: RuntimeWarning: invalid value encountered in power\n",
      "  mev0f = np.sum( ( 1-np.exp(-(y/C)**W ))**N) - nyears*pr\n"
     ]
    },
    {
     "name": "stdout",
     "output_type": "stream",
     "text": [
      "mevd_quant:: ERROR - fsolve does not work -  change x0\n",
      "mevd_quant:: ERROR - fsolve does not work -  change x0\n",
      "mevd_quant:: ERROR - fsolve does not work -  change x0\n",
      "mevd_quant:: ERROR - fsolve does not work -  change x0\n",
      "mevd_quant:: ERROR - fsolve does not work -  change x0\n"
     ]
    },
    {
     "name": "stderr",
     "output_type": "stream",
     "text": [
      "/home/arturo/github/downpy/codes/downscale.py:1248: RuntimeWarning: invalid value encountered in power\n",
      "  mev0f = np.sum( ( 1-np.exp(-(y/C)**W ))**N) - nyears*pr\n",
      "/home/arturo/github/downpy/codes/downscale.py:1248: RuntimeWarning: invalid value encountered in power\n",
      "  mev0f = np.sum( ( 1-np.exp(-(y/C)**W ))**N) - nyears*pr\n",
      "/home/arturo/github/downpy/codes/downscale.py:1248: RuntimeWarning: invalid value encountered in power\n",
      "  mev0f = np.sum( ( 1-np.exp(-(y/C)**W ))**N) - nyears*pr\n",
      "/home/arturo/github/downpy/codes/downscale.py:1248: RuntimeWarning: invalid value encountered in power\n",
      "  mev0f = np.sum( ( 1-np.exp(-(y/C)**W ))**N) - nyears*pr\n",
      "/home/arturo/github/downpy/codes/downscale.py:1248: RuntimeWarning: invalid value encountered in power\n",
      "  mev0f = np.sum( ( 1-np.exp(-(y/C)**W ))**N) - nyears*pr\n"
     ]
    },
    {
     "name": "stdout",
     "output_type": "stream",
     "text": [
      "mevd_quant:: ERROR - fsolve does not work -  change x0\n",
      "mevd_quant:: ERROR - fsolve does not work -  change x0\n",
      "mevd_quant:: ERROR - fsolve does not work -  change x0\n",
      "mevd_quant:: ERROR - fsolve does not work -  change x0\n",
      "mevd_quant:: ERROR - fsolve does not work -  change x0\n",
      "mevd_quant:: ERROR - fsolve does not work -  change x0\n",
      "mevd_quant:: ERROR - fsolve does not work -  change x0\n",
      "mevd_quant:: ERROR - fsolve does not work -  change x0\n",
      "mevd_quant:: ERROR - fsolve does not work -  change x0\n",
      "mevd_quant:: ERROR - fsolve does not work -  change x0\n",
      "mevd_quant:: ERROR - fsolve does not work -  change x0\n",
      "mevd_quant:: ERROR - fsolve does not work -  change x0\n",
      "mevd_quant:: ERROR - fsolve does not work -  change x0\n",
      "mevd_quant:: ERROR - fsolve does not work -  change x0\n",
      "mevd_quant:: ERROR - fsolve does not work -  change x0\n"
     ]
    },
    {
     "name": "stderr",
     "output_type": "stream",
     "text": [
      "/home/arturo/github/downpy/codes/downscale.py:1248: RuntimeWarning: invalid value encountered in power\n",
      "  mev0f = np.sum( ( 1-np.exp(-(y/C)**W ))**N) - nyears*pr\n"
     ]
    },
    {
     "name": "stdout",
     "output_type": "stream",
     "text": [
      "mevd_quant:: ERROR - fsolve does not work -  change x0\n"
     ]
    },
    {
     "name": "stderr",
     "output_type": "stream",
     "text": [
      "/home/arturo/github/downpy/codes/downscale.py:1248: RuntimeWarning: invalid value encountered in power\n",
      "  mev0f = np.sum( ( 1-np.exp(-(y/C)**W ))**N) - nyears*pr\n",
      "/home/arturo/github/downpy/codes/downscale.py:1248: RuntimeWarning: invalid value encountered in power\n",
      "  mev0f = np.sum( ( 1-np.exp(-(y/C)**W ))**N) - nyears*pr\n",
      "/home/arturo/github/downpy/codes/downscale.py:1248: RuntimeWarning: invalid value encountered in power\n",
      "  mev0f = np.sum( ( 1-np.exp(-(y/C)**W ))**N) - nyears*pr\n",
      "/home/arturo/github/downpy/codes/downscale.py:1248: RuntimeWarning: invalid value encountered in power\n",
      "  mev0f = np.sum( ( 1-np.exp(-(y/C)**W ))**N) - nyears*pr\n",
      "/home/arturo/github/downpy/codes/downscale.py:1248: RuntimeWarning: invalid value encountered in power\n",
      "  mev0f = np.sum( ( 1-np.exp(-(y/C)**W ))**N) - nyears*pr\n",
      "/home/arturo/github/downpy/codes/downscale.py:1248: RuntimeWarning: invalid value encountered in power\n",
      "  mev0f = np.sum( ( 1-np.exp(-(y/C)**W ))**N) - nyears*pr\n"
     ]
    },
    {
     "name": "stdout",
     "output_type": "stream",
     "text": [
      "mevd_quant:: ERROR - fsolve does not work -  change x0\n",
      "mevd_quant:: ERROR - fsolve does not work -  change x0\n",
      "mevd_quant:: ERROR - fsolve does not work -  change x0\n",
      "mevd_quant:: ERROR - fsolve does not work -  change x0\n",
      "mevd_quant:: ERROR - fsolve does not work -  change x0\n",
      "mevd_quant:: ERROR - fsolve does not work -  change x0\n",
      "mevd_quant:: ERROR - fsolve does not work -  change x0\n",
      "mevd_quant:: ERROR - fsolve does not work -  change x0\n",
      "mevd_quant:: ERROR - fsolve does not work -  change x0\n",
      "mevd_quant:: ERROR - fsolve does not work -  change x0\n",
      "mevd_quant:: ERROR - fsolve does not work -  change x0\n",
      "mevd_quant:: ERROR - fsolve does not work -  change x0\n",
      "mevd_quant:: ERROR - fsolve does not work -  change x0\n",
      "mevd_quant:: ERROR - fsolve does not work -  change x0\n",
      "mevd_quant:: ERROR - fsolve does not work -  change x0\n",
      "mevd_quant:: ERROR - fsolve does not work -  change x0\n",
      "mevd_quant:: ERROR - fsolve does not work -  change x0\n",
      "mevd_quant:: ERROR - fsolve does not work -  change x0\n",
      "mevd_quant:: ERROR - fsolve does not work -  change x0\n",
      "mevd_quant:: ERROR - fsolve does not work -  change x0\n"
     ]
    },
    {
     "name": "stderr",
     "output_type": "stream",
     "text": [
      "/home/arturo/github/downpy/codes/downscale.py:1248: RuntimeWarning: invalid value encountered in power\n",
      "  mev0f = np.sum( ( 1-np.exp(-(y/C)**W ))**N) - nyears*pr\n",
      "/home/arturo/github/downpy/codes/downscale.py:1248: RuntimeWarning: invalid value encountered in power\n",
      "  mev0f = np.sum( ( 1-np.exp(-(y/C)**W ))**N) - nyears*pr\n"
     ]
    },
    {
     "name": "stdout",
     "output_type": "stream",
     "text": [
      "mevd_quant:: ERROR - fsolve does not work -  change x0\n",
      "mevd_quant:: ERROR - fsolve does not work -  change x0\n",
      "mevd_quant:: ERROR - fsolve does not work -  change x0\n",
      "mevd_quant:: ERROR - fsolve does not work -  change x0\n",
      "mevd_quant:: ERROR - fsolve does not work -  change x0\n",
      "13\n",
      "mevd_quant:: ERROR - fsolve does not work -  change x0\n"
     ]
    },
    {
     "name": "stderr",
     "output_type": "stream",
     "text": [
      "/home/arturo/github/downpy/codes/downscale.py:1248: RuntimeWarning: invalid value encountered in power\n",
      "  mev0f = np.sum( ( 1-np.exp(-(y/C)**W ))**N) - nyears*pr\n",
      "/home/arturo/github/downpy/codes/downscale.py:1248: RuntimeWarning: invalid value encountered in power\n",
      "  mev0f = np.sum( ( 1-np.exp(-(y/C)**W ))**N) - nyears*pr\n",
      "/home/arturo/github/downpy/codes/downscale.py:1248: RuntimeWarning: invalid value encountered in power\n",
      "  mev0f = np.sum( ( 1-np.exp(-(y/C)**W ))**N) - nyears*pr\n",
      "/home/arturo/github/downpy/codes/downscale.py:1248: RuntimeWarning: invalid value encountered in power\n",
      "  mev0f = np.sum( ( 1-np.exp(-(y/C)**W ))**N) - nyears*pr\n"
     ]
    },
    {
     "name": "stdout",
     "output_type": "stream",
     "text": [
      "mevd_quant:: ERROR - fsolve does not work -  change x0\n",
      "mevd_quant:: ERROR - fsolve does not work -  change x0\n",
      "mevd_quant:: ERROR - fsolve does not work -  change x0\n",
      "mevd_quant:: ERROR - fsolve does not work -  change x0\n",
      "mevd_quant:: ERROR - fsolve does not work -  change x0\n",
      "mevd_quant:: ERROR - fsolve does not work -  change x0\n",
      "mevd_quant:: ERROR - fsolve does not work -  change x0\n",
      "mevd_quant:: ERROR - fsolve does not work -  change x0\n",
      "mevd_quant:: ERROR - fsolve does not work -  change x0\n",
      "mevd_quant:: ERROR - fsolve does not work -  change x0\n",
      "mevd_quant:: ERROR - fsolve does not work -  change x0\n",
      "mevd_quant:: ERROR - fsolve does not work -  change x0\n",
      "mevd_quant:: ERROR - fsolve does not work -  change x0\n",
      "mevd_quant:: ERROR - fsolve does not work -  change x0\n",
      "mevd_quant:: ERROR - fsolve does not work -  change x0\n"
     ]
    },
    {
     "name": "stderr",
     "output_type": "stream",
     "text": [
      "/home/arturo/github/downpy/codes/downscale.py:1248: RuntimeWarning: invalid value encountered in power\n",
      "  mev0f = np.sum( ( 1-np.exp(-(y/C)**W ))**N) - nyears*pr\n",
      "/home/arturo/github/downpy/codes/downscale.py:1248: RuntimeWarning: invalid value encountered in power\n",
      "  mev0f = np.sum( ( 1-np.exp(-(y/C)**W ))**N) - nyears*pr\n",
      "/home/arturo/github/downpy/codes/downscale.py:1248: RuntimeWarning: invalid value encountered in power\n",
      "  mev0f = np.sum( ( 1-np.exp(-(y/C)**W ))**N) - nyears*pr\n"
     ]
    },
    {
     "name": "stdout",
     "output_type": "stream",
     "text": [
      "mevd_quant:: ERROR - fsolve does not work -  change x0\n",
      "mevd_quant:: ERROR - fsolve does not work -  change x0\n",
      "mevd_quant:: ERROR - fsolve does not work -  change x0\n",
      "mevd_quant:: ERROR - fsolve does not work -  change x0\n"
     ]
    },
    {
     "name": "stderr",
     "output_type": "stream",
     "text": [
      "/home/arturo/github/downpy/codes/downscale.py:1248: RuntimeWarning: invalid value encountered in power\n",
      "  mev0f = np.sum( ( 1-np.exp(-(y/C)**W ))**N) - nyears*pr\n",
      "/home/arturo/github/downpy/codes/downscale.py:1248: RuntimeWarning: invalid value encountered in power\n",
      "  mev0f = np.sum( ( 1-np.exp(-(y/C)**W ))**N) - nyears*pr\n",
      "/home/arturo/github/downpy/codes/downscale.py:1248: RuntimeWarning: invalid value encountered in power\n",
      "  mev0f = np.sum( ( 1-np.exp(-(y/C)**W ))**N) - nyears*pr\n"
     ]
    },
    {
     "name": "stdout",
     "output_type": "stream",
     "text": [
      "mevd_quant:: ERROR - fsolve does not work -  change x0\n",
      "mevd_quant:: ERROR - fsolve does not work -  change x0\n",
      "mevd_quant:: ERROR - fsolve does not work -  change x0\n",
      "mevd_quant:: ERROR - fsolve does not work -  change x0\n",
      "mevd_quant:: ERROR - fsolve does not work -  change x0\n",
      "mevd_quant:: ERROR - fsolve does not work -  change x0\n"
     ]
    },
    {
     "name": "stderr",
     "output_type": "stream",
     "text": [
      "/home/arturo/github/downpy/codes/downscale.py:1248: RuntimeWarning: invalid value encountered in power\n",
      "  mev0f = np.sum( ( 1-np.exp(-(y/C)**W ))**N) - nyears*pr\n",
      "/home/arturo/github/downpy/codes/downscale.py:1248: RuntimeWarning: invalid value encountered in power\n",
      "  mev0f = np.sum( ( 1-np.exp(-(y/C)**W ))**N) - nyears*pr\n",
      "/home/arturo/github/downpy/codes/downscale.py:1248: RuntimeWarning: invalid value encountered in power\n",
      "  mev0f = np.sum( ( 1-np.exp(-(y/C)**W ))**N) - nyears*pr\n",
      "/home/arturo/github/downpy/codes/downscale.py:1248: RuntimeWarning: invalid value encountered in power\n",
      "  mev0f = np.sum( ( 1-np.exp(-(y/C)**W ))**N) - nyears*pr\n",
      "/home/arturo/github/downpy/codes/downscale.py:1248: RuntimeWarning: invalid value encountered in power\n",
      "  mev0f = np.sum( ( 1-np.exp(-(y/C)**W ))**N) - nyears*pr\n"
     ]
    },
    {
     "name": "stdout",
     "output_type": "stream",
     "text": [
      "mevd_quant:: ERROR - fsolve does not work -  change x0\n",
      "mevd_quant:: ERROR - fsolve does not work -  change x0\n",
      "mevd_quant:: ERROR - fsolve does not work -  change x0\n",
      "mevd_quant:: ERROR - fsolve does not work -  change x0\n",
      "mevd_quant:: ERROR - fsolve does not work -  change x0\n",
      "mevd_quant:: ERROR - fsolve does not work -  change x0\n",
      "mevd_quant:: ERROR - fsolve does not work -  change x0\n",
      "mevd_quant:: ERROR - fsolve does not work -  change x0\n",
      "mevd_quant:: ERROR - fsolve does not work -  change x0\n",
      "mevd_quant:: ERROR - fsolve does not work -  change x0\n",
      "mevd_quant:: ERROR - fsolve does not work -  change x0\n",
      "mevd_quant:: ERROR - fsolve does not work -  change x0\n",
      "mevd_quant:: ERROR - fsolve does not work -  change x0\n",
      "mevd_quant:: ERROR - fsolve does not work -  change x0\n",
      "14\n"
     ]
    },
    {
     "name": "stderr",
     "output_type": "stream",
     "text": [
      "/home/arturo/github/downpy/codes/downscale.py:1248: RuntimeWarning: invalid value encountered in power\n",
      "  mev0f = np.sum( ( 1-np.exp(-(y/C)**W ))**N) - nyears*pr\n",
      "/home/arturo/github/downpy/codes/downscale.py:1248: RuntimeWarning: invalid value encountered in power\n",
      "  mev0f = np.sum( ( 1-np.exp(-(y/C)**W ))**N) - nyears*pr\n",
      "/home/arturo/github/downpy/codes/downscale.py:1248: RuntimeWarning: invalid value encountered in power\n",
      "  mev0f = np.sum( ( 1-np.exp(-(y/C)**W ))**N) - nyears*pr\n",
      "/home/arturo/github/downpy/codes/downscale.py:1248: RuntimeWarning: invalid value encountered in power\n",
      "  mev0f = np.sum( ( 1-np.exp(-(y/C)**W ))**N) - nyears*pr\n"
     ]
    },
    {
     "name": "stdout",
     "output_type": "stream",
     "text": [
      "mevd_quant:: ERROR - fsolve does not work -  change x0\n",
      "mevd_quant:: ERROR - fsolve does not work -  change x0\n",
      "mevd_quant:: ERROR - fsolve does not work -  change x0\n",
      "mevd_quant:: ERROR - fsolve does not work -  change x0\n",
      "mevd_quant:: ERROR - fsolve does not work -  change x0\n",
      "mevd_quant:: ERROR - fsolve does not work -  change x0\n",
      "mevd_quant:: ERROR - fsolve does not work -  change x0\n",
      "mevd_quant:: ERROR - fsolve does not work -  change x0\n",
      "mevd_quant:: ERROR - fsolve does not work -  change x0\n",
      "mevd_quant:: ERROR - fsolve does not work -  change x0\n",
      "mevd_quant:: ERROR - fsolve does not work -  change x0\n",
      "mevd_quant:: ERROR - fsolve does not work -  change x0\n",
      "mevd_quant:: ERROR - fsolve does not work -  change x0\n"
     ]
    },
    {
     "name": "stderr",
     "output_type": "stream",
     "text": [
      "/home/arturo/github/downpy/codes/downscale.py:1248: RuntimeWarning: invalid value encountered in power\n",
      "  mev0f = np.sum( ( 1-np.exp(-(y/C)**W ))**N) - nyears*pr\n",
      "/home/arturo/github/downpy/codes/downscale.py:1248: RuntimeWarning: invalid value encountered in power\n",
      "  mev0f = np.sum( ( 1-np.exp(-(y/C)**W ))**N) - nyears*pr\n",
      "/home/arturo/github/downpy/codes/downscale.py:1248: RuntimeWarning: invalid value encountered in power\n",
      "  mev0f = np.sum( ( 1-np.exp(-(y/C)**W ))**N) - nyears*pr\n",
      "/home/arturo/github/downpy/codes/downscale.py:1248: RuntimeWarning: invalid value encountered in power\n",
      "  mev0f = np.sum( ( 1-np.exp(-(y/C)**W ))**N) - nyears*pr\n"
     ]
    },
    {
     "name": "stdout",
     "output_type": "stream",
     "text": [
      "mevd_quant:: ERROR - fsolve does not work -  change x0\n",
      "mevd_quant:: ERROR - fsolve does not work -  change x0\n",
      "mevd_quant:: ERROR - fsolve does not work -  change x0\n",
      "mevd_quant:: ERROR - fsolve does not work -  change x0\n",
      "mevd_quant:: ERROR - fsolve does not work -  change x0\n",
      "mevd_quant:: ERROR - fsolve does not work -  change x0\n",
      "mevd_quant:: ERROR - fsolve does not work -  change x0\n",
      "mevd_quant:: ERROR - fsolve does not work -  change x0\n",
      "mevd_quant:: ERROR - fsolve does not work -  change x0\n"
     ]
    },
    {
     "name": "stderr",
     "output_type": "stream",
     "text": [
      "/home/arturo/github/downpy/codes/downscale.py:1248: RuntimeWarning: invalid value encountered in power\n",
      "  mev0f = np.sum( ( 1-np.exp(-(y/C)**W ))**N) - nyears*pr\n",
      "/home/arturo/github/downpy/codes/downscale.py:1248: RuntimeWarning: invalid value encountered in power\n",
      "  mev0f = np.sum( ( 1-np.exp(-(y/C)**W ))**N) - nyears*pr\n",
      "/home/arturo/github/downpy/codes/downscale.py:1248: RuntimeWarning: invalid value encountered in power\n",
      "  mev0f = np.sum( ( 1-np.exp(-(y/C)**W ))**N) - nyears*pr\n"
     ]
    },
    {
     "name": "stdout",
     "output_type": "stream",
     "text": [
      "mevd_quant:: ERROR - fsolve does not work -  change x0\n",
      "mevd_quant:: ERROR - fsolve does not work -  change x0\n",
      "mevd_quant:: ERROR - fsolve does not work -  change x0\n",
      "mevd_quant:: ERROR - fsolve does not work -  change x0\n",
      "mevd_quant:: ERROR - fsolve does not work -  change x0\n",
      "mevd_quant:: ERROR - fsolve does not work -  change x0\n",
      "mevd_quant:: ERROR - fsolve does not work -  change x0\n",
      "mevd_quant:: ERROR - fsolve does not work -  change x0\n",
      "mevd_quant:: ERROR - fsolve does not work -  change x0\n",
      "15\n",
      "mevd_quant:: ERROR - fsolve does not work -  change x0\n"
     ]
    },
    {
     "name": "stderr",
     "output_type": "stream",
     "text": [
      "/home/arturo/github/downpy/codes/downscale.py:1248: RuntimeWarning: invalid value encountered in power\n",
      "  mev0f = np.sum( ( 1-np.exp(-(y/C)**W ))**N) - nyears*pr\n",
      "/home/arturo/github/downpy/codes/downscale.py:1248: RuntimeWarning: invalid value encountered in power\n",
      "  mev0f = np.sum( ( 1-np.exp(-(y/C)**W ))**N) - nyears*pr\n",
      "/home/arturo/github/downpy/codes/downscale.py:1248: RuntimeWarning: invalid value encountered in power\n",
      "  mev0f = np.sum( ( 1-np.exp(-(y/C)**W ))**N) - nyears*pr\n",
      "/home/arturo/github/downpy/codes/downscale.py:1248: RuntimeWarning: invalid value encountered in power\n",
      "  mev0f = np.sum( ( 1-np.exp(-(y/C)**W ))**N) - nyears*pr\n"
     ]
    },
    {
     "name": "stdout",
     "output_type": "stream",
     "text": [
      "mevd_quant:: ERROR - fsolve does not work -  change x0\n",
      "mevd_quant:: ERROR - fsolve does not work -  change x0\n",
      "mevd_quant:: ERROR - fsolve does not work -  change x0\n",
      "mevd_quant:: ERROR - fsolve does not work -  change x0\n",
      "mevd_quant:: ERROR - fsolve does not work -  change x0\n",
      "mevd_quant:: ERROR - fsolve does not work -  change x0\n",
      "mevd_quant:: ERROR - fsolve does not work -  change x0\n",
      "mevd_quant:: ERROR - fsolve does not work -  change x0\n",
      "mevd_quant:: ERROR - fsolve does not work -  change x0\n",
      "mevd_quant:: ERROR - fsolve does not work -  change x0\n"
     ]
    },
    {
     "name": "stderr",
     "output_type": "stream",
     "text": [
      "/home/arturo/github/downpy/codes/downscale.py:1248: RuntimeWarning: invalid value encountered in power\n",
      "  mev0f = np.sum( ( 1-np.exp(-(y/C)**W ))**N) - nyears*pr\n"
     ]
    },
    {
     "name": "stdout",
     "output_type": "stream",
     "text": [
      "mevd_quant:: ERROR - fsolve does not work -  change x0\n",
      "mevd_quant:: ERROR - fsolve does not work -  change x0\n"
     ]
    },
    {
     "name": "stderr",
     "output_type": "stream",
     "text": [
      "/home/arturo/github/downpy/codes/downscale.py:1248: RuntimeWarning: invalid value encountered in power\n",
      "  mev0f = np.sum( ( 1-np.exp(-(y/C)**W ))**N) - nyears*pr\n",
      "/home/arturo/github/downpy/codes/downscale.py:1248: RuntimeWarning: invalid value encountered in power\n",
      "  mev0f = np.sum( ( 1-np.exp(-(y/C)**W ))**N) - nyears*pr\n",
      "/home/arturo/github/downpy/codes/downscale.py:1248: RuntimeWarning: invalid value encountered in power\n",
      "  mev0f = np.sum( ( 1-np.exp(-(y/C)**W ))**N) - nyears*pr\n"
     ]
    },
    {
     "name": "stdout",
     "output_type": "stream",
     "text": [
      "mevd_quant:: ERROR - fsolve does not work -  change x0\n",
      "mevd_quant:: ERROR - fsolve does not work -  change x0\n",
      "mevd_quant:: ERROR - fsolve does not work -  change x0\n",
      "mevd_quant:: ERROR - fsolve does not work -  change x0\n",
      "mevd_quant:: ERROR - fsolve does not work -  change x0\n",
      "16\n"
     ]
    },
    {
     "name": "stderr",
     "output_type": "stream",
     "text": [
      "/home/arturo/github/downpy/codes/downscale.py:1248: RuntimeWarning: invalid value encountered in power\n",
      "  mev0f = np.sum( ( 1-np.exp(-(y/C)**W ))**N) - nyears*pr\n",
      "/home/arturo/github/downpy/codes/downscale.py:1248: RuntimeWarning: invalid value encountered in power\n",
      "  mev0f = np.sum( ( 1-np.exp(-(y/C)**W ))**N) - nyears*pr\n",
      "/home/arturo/github/downpy/codes/downscale.py:1248: RuntimeWarning: invalid value encountered in power\n",
      "  mev0f = np.sum( ( 1-np.exp(-(y/C)**W ))**N) - nyears*pr\n",
      "/home/arturo/github/downpy/codes/downscale.py:1248: RuntimeWarning: invalid value encountered in power\n",
      "  mev0f = np.sum( ( 1-np.exp(-(y/C)**W ))**N) - nyears*pr\n",
      "/home/arturo/github/downpy/codes/downscale.py:1248: RuntimeWarning: invalid value encountered in power\n",
      "  mev0f = np.sum( ( 1-np.exp(-(y/C)**W ))**N) - nyears*pr\n",
      "/home/arturo/github/downpy/codes/downscale.py:1248: RuntimeWarning: invalid value encountered in power\n",
      "  mev0f = np.sum( ( 1-np.exp(-(y/C)**W ))**N) - nyears*pr\n",
      "/home/arturo/github/downpy/codes/downscale.py:1248: RuntimeWarning: invalid value encountered in power\n",
      "  mev0f = np.sum( ( 1-np.exp(-(y/C)**W ))**N) - nyears*pr\n",
      "/home/arturo/github/downpy/codes/downscale.py:1248: RuntimeWarning: invalid value encountered in power\n",
      "  mev0f = np.sum( ( 1-np.exp(-(y/C)**W ))**N) - nyears*pr\n"
     ]
    },
    {
     "name": "stdout",
     "output_type": "stream",
     "text": [
      "mevd_quant:: ERROR - fsolve does not work -  change x0\n",
      "mevd_quant:: ERROR - fsolve does not work -  change x0\n",
      "mevd_quant:: ERROR - fsolve does not work -  change x0\n",
      "mevd_quant:: ERROR - fsolve does not work -  change x0\n",
      "mevd_quant:: ERROR - fsolve does not work -  change x0\n",
      "mevd_quant:: ERROR - fsolve does not work -  change x0\n",
      "mevd_quant:: ERROR - fsolve does not work -  change x0\n",
      "mevd_quant:: ERROR - fsolve does not work -  change x0\n",
      "mevd_quant:: ERROR - fsolve does not work -  change x0\n",
      "mevd_quant:: ERROR - fsolve does not work -  change x0\n",
      "mevd_quant:: ERROR - fsolve does not work -  change x0\n",
      "mevd_quant:: ERROR - fsolve does not work -  change x0\n",
      "mevd_quant:: ERROR - fsolve does not work -  change x0\n",
      "mevd_quant:: ERROR - fsolve does not work -  change x0\n",
      "mevd_quant:: ERROR - fsolve does not work -  change x0\n",
      "mevd_quant:: ERROR - fsolve does not work -  change x0\n",
      "mevd_quant:: ERROR - fsolve does not work -  change x0\n",
      "mevd_quant:: ERROR - fsolve does not work -  change x0\n",
      "mevd_quant:: ERROR - fsolve does not work -  change x0\n",
      "mevd_quant:: ERROR - fsolve does not work -  change x0\n",
      "mevd_quant:: ERROR - fsolve does not work -  change x0\n",
      "mevd_quant:: ERROR - fsolve does not work -  change x0\n",
      "mevd_quant:: ERROR - fsolve does not work -  change x0\n",
      "mevd_quant:: ERROR - fsolve does not work -  change x0\n",
      "mevd_quant:: ERROR - fsolve does not work -  change x0\n",
      "mevd_quant:: ERROR - fsolve does not work -  change x0\n",
      "mevd_quant:: ERROR - fsolve does not work -  change x0\n"
     ]
    },
    {
     "name": "stderr",
     "output_type": "stream",
     "text": [
      "/home/arturo/github/downpy/codes/downscale.py:1248: RuntimeWarning: invalid value encountered in power\n",
      "  mev0f = np.sum( ( 1-np.exp(-(y/C)**W ))**N) - nyears*pr\n",
      "/home/arturo/github/downpy/codes/downscale.py:1248: RuntimeWarning: invalid value encountered in power\n",
      "  mev0f = np.sum( ( 1-np.exp(-(y/C)**W ))**N) - nyears*pr\n",
      "/home/arturo/github/downpy/codes/downscale.py:1248: RuntimeWarning: invalid value encountered in power\n",
      "  mev0f = np.sum( ( 1-np.exp(-(y/C)**W ))**N) - nyears*pr\n"
     ]
    },
    {
     "name": "stdout",
     "output_type": "stream",
     "text": [
      "mevd_quant:: ERROR - fsolve does not work -  change x0\n",
      "mevd_quant:: ERROR - fsolve does not work -  change x0\n",
      "mevd_quant:: ERROR - fsolve does not work -  change x0\n",
      "mevd_quant:: ERROR - fsolve does not work -  change x0\n",
      "mevd_quant:: ERROR - fsolve does not work -  change x0\n",
      "mevd_quant:: ERROR - fsolve does not work -  change x0\n"
     ]
    },
    {
     "name": "stderr",
     "output_type": "stream",
     "text": [
      "/home/arturo/github/downpy/codes/downscale.py:1248: RuntimeWarning: invalid value encountered in power\n",
      "  mev0f = np.sum( ( 1-np.exp(-(y/C)**W ))**N) - nyears*pr\n",
      "/home/arturo/github/downpy/codes/downscale.py:1248: RuntimeWarning: invalid value encountered in power\n",
      "  mev0f = np.sum( ( 1-np.exp(-(y/C)**W ))**N) - nyears*pr\n",
      "/home/arturo/github/downpy/codes/downscale.py:1248: RuntimeWarning: invalid value encountered in power\n",
      "  mev0f = np.sum( ( 1-np.exp(-(y/C)**W ))**N) - nyears*pr\n"
     ]
    },
    {
     "name": "stdout",
     "output_type": "stream",
     "text": [
      "mevd_quant:: ERROR - fsolve does not work -  change x0\n",
      "mevd_quant:: ERROR - fsolve does not work -  change x0\n",
      "mevd_quant:: ERROR - fsolve does not work -  change x0\n",
      "mevd_quant:: ERROR - fsolve does not work -  change x0\n",
      "17\n"
     ]
    },
    {
     "name": "stderr",
     "output_type": "stream",
     "text": [
      "/home/arturo/github/downpy/codes/downscale.py:1248: RuntimeWarning: invalid value encountered in power\n",
      "  mev0f = np.sum( ( 1-np.exp(-(y/C)**W ))**N) - nyears*pr\n",
      "/home/arturo/github/downpy/codes/downscale.py:1248: RuntimeWarning: invalid value encountered in power\n",
      "  mev0f = np.sum( ( 1-np.exp(-(y/C)**W ))**N) - nyears*pr\n",
      "/home/arturo/github/downpy/codes/downscale.py:1248: RuntimeWarning: invalid value encountered in power\n",
      "  mev0f = np.sum( ( 1-np.exp(-(y/C)**W ))**N) - nyears*pr\n",
      "/home/arturo/github/downpy/codes/downscale.py:1248: RuntimeWarning: invalid value encountered in power\n",
      "  mev0f = np.sum( ( 1-np.exp(-(y/C)**W ))**N) - nyears*pr\n",
      "/home/arturo/github/downpy/codes/downscale.py:1248: RuntimeWarning: invalid value encountered in power\n",
      "  mev0f = np.sum( ( 1-np.exp(-(y/C)**W ))**N) - nyears*pr\n"
     ]
    },
    {
     "name": "stdout",
     "output_type": "stream",
     "text": [
      "mevd_quant:: ERROR - fsolve does not work -  change x0\n",
      "mevd_quant:: ERROR - fsolve does not work -  change x0\n",
      "mevd_quant:: ERROR - fsolve does not work -  change x0\n",
      "mevd_quant:: ERROR - fsolve does not work -  change x0\n",
      "mevd_quant:: ERROR - fsolve does not work -  change x0\n",
      "mevd_quant:: ERROR - fsolve does not work -  change x0\n",
      "mevd_quant:: ERROR - fsolve does not work -  change x0\n",
      "mevd_quant:: ERROR - fsolve does not work -  change x0\n",
      "mevd_quant:: ERROR - fsolve does not work -  change x0\n",
      "mevd_quant:: ERROR - fsolve does not work -  change x0\n",
      "mevd_quant:: ERROR - fsolve does not work -  change x0\n",
      "mevd_quant:: ERROR - fsolve does not work -  change x0\n",
      "mevd_quant:: ERROR - fsolve does not work -  change x0\n",
      "mevd_quant:: ERROR - fsolve does not work -  change x0\n",
      "mevd_quant:: ERROR - fsolve does not work -  change x0\n",
      "mevd_quant:: ERROR - fsolve does not work -  change x0\n"
     ]
    },
    {
     "name": "stderr",
     "output_type": "stream",
     "text": [
      "/home/arturo/github/downpy/codes/downscale.py:1248: RuntimeWarning: invalid value encountered in power\n",
      "  mev0f = np.sum( ( 1-np.exp(-(y/C)**W ))**N) - nyears*pr\n",
      "/home/arturo/github/downpy/codes/downscale.py:1248: RuntimeWarning: invalid value encountered in power\n",
      "  mev0f = np.sum( ( 1-np.exp(-(y/C)**W ))**N) - nyears*pr\n",
      "/home/arturo/github/downpy/codes/downscale.py:1248: RuntimeWarning: invalid value encountered in power\n",
      "  mev0f = np.sum( ( 1-np.exp(-(y/C)**W ))**N) - nyears*pr\n",
      "/home/arturo/github/downpy/codes/downscale.py:1248: RuntimeWarning: invalid value encountered in power\n",
      "  mev0f = np.sum( ( 1-np.exp(-(y/C)**W ))**N) - nyears*pr\n"
     ]
    },
    {
     "name": "stdout",
     "output_type": "stream",
     "text": [
      "mevd_quant:: ERROR - fsolve does not work -  change x0\n",
      "mevd_quant:: ERROR - fsolve does not work -  change x0\n",
      "mevd_quant:: ERROR - fsolve does not work -  change x0\n",
      "mevd_quant:: ERROR - fsolve does not work -  change x0\n"
     ]
    },
    {
     "name": "stderr",
     "output_type": "stream",
     "text": [
      "/home/arturo/github/downpy/codes/downscale.py:1248: RuntimeWarning: invalid value encountered in power\n",
      "  mev0f = np.sum( ( 1-np.exp(-(y/C)**W ))**N) - nyears*pr\n",
      "/home/arturo/github/downpy/codes/downscale.py:1248: RuntimeWarning: invalid value encountered in power\n",
      "  mev0f = np.sum( ( 1-np.exp(-(y/C)**W ))**N) - nyears*pr\n",
      "/home/arturo/github/downpy/codes/downscale.py:1248: RuntimeWarning: invalid value encountered in power\n",
      "  mev0f = np.sum( ( 1-np.exp(-(y/C)**W ))**N) - nyears*pr\n"
     ]
    },
    {
     "name": "stdout",
     "output_type": "stream",
     "text": [
      "mevd_quant:: ERROR - fsolve does not work -  change x0\n",
      "mevd_quant:: ERROR - fsolve does not work -  change x0\n",
      "mevd_quant:: ERROR - fsolve does not work -  change x0\n",
      "mevd_quant:: ERROR - fsolve does not work -  change x0\n",
      "mevd_quant:: ERROR - fsolve does not work -  change x0\n",
      "mevd_quant:: ERROR - fsolve does not work -  change x0\n",
      "mevd_quant:: ERROR - fsolve does not work -  change x0\n",
      "mevd_quant:: ERROR - fsolve does not work -  change x0\n"
     ]
    },
    {
     "name": "stderr",
     "output_type": "stream",
     "text": [
      "/home/arturo/github/downpy/codes/downscale.py:1248: RuntimeWarning: invalid value encountered in power\n",
      "  mev0f = np.sum( ( 1-np.exp(-(y/C)**W ))**N) - nyears*pr\n",
      "/home/arturo/github/downpy/codes/downscale.py:1248: RuntimeWarning: invalid value encountered in power\n",
      "  mev0f = np.sum( ( 1-np.exp(-(y/C)**W ))**N) - nyears*pr\n"
     ]
    },
    {
     "name": "stdout",
     "output_type": "stream",
     "text": [
      "mevd_quant:: ERROR - fsolve does not work -  change x0\n",
      "mevd_quant:: ERROR - fsolve does not work -  change x0\n",
      "mevd_quant:: ERROR - fsolve does not work -  change x0\n",
      "mevd_quant:: ERROR - fsolve does not work -  change x0\n"
     ]
    },
    {
     "name": "stderr",
     "output_type": "stream",
     "text": [
      "/home/arturo/github/downpy/codes/downscale.py:1248: RuntimeWarning: invalid value encountered in power\n",
      "  mev0f = np.sum( ( 1-np.exp(-(y/C)**W ))**N) - nyears*pr\n"
     ]
    },
    {
     "name": "stdout",
     "output_type": "stream",
     "text": [
      "mevd_quant:: ERROR - fsolve does not work -  change x0\n",
      "18\n",
      "mevd_quant:: ERROR - fsolve does not work -  change x0\n",
      "mevd_quant:: ERROR - fsolve does not work -  change x0\n",
      "mevd_quant:: ERROR - fsolve does not work -  change x0\n"
     ]
    },
    {
     "name": "stderr",
     "output_type": "stream",
     "text": [
      "/home/arturo/github/downpy/codes/downscale.py:1248: RuntimeWarning: invalid value encountered in power\n",
      "  mev0f = np.sum( ( 1-np.exp(-(y/C)**W ))**N) - nyears*pr\n",
      "/home/arturo/github/downpy/codes/downscale.py:1248: RuntimeWarning: invalid value encountered in power\n",
      "  mev0f = np.sum( ( 1-np.exp(-(y/C)**W ))**N) - nyears*pr\n"
     ]
    },
    {
     "name": "stdout",
     "output_type": "stream",
     "text": [
      "mevd_quant:: ERROR - fsolve does not work -  change x0\n"
     ]
    },
    {
     "name": "stderr",
     "output_type": "stream",
     "text": [
      "/home/arturo/github/downpy/codes/downscale.py:1248: RuntimeWarning: invalid value encountered in power\n",
      "  mev0f = np.sum( ( 1-np.exp(-(y/C)**W ))**N) - nyears*pr\n",
      "/home/arturo/github/downpy/codes/downscale.py:1248: RuntimeWarning: invalid value encountered in power\n",
      "  mev0f = np.sum( ( 1-np.exp(-(y/C)**W ))**N) - nyears*pr\n"
     ]
    },
    {
     "name": "stdout",
     "output_type": "stream",
     "text": [
      "mevd_quant:: ERROR - fsolve does not work -  change x0\n",
      "mevd_quant:: ERROR - fsolve does not work -  change x0\n",
      "mevd_quant:: ERROR - fsolve does not work -  change x0\n",
      "mevd_quant:: ERROR - fsolve does not work -  change x0\n",
      "mevd_quant:: ERROR - fsolve does not work -  change x0\n",
      "mevd_quant:: ERROR - fsolve does not work -  change x0\n"
     ]
    },
    {
     "name": "stderr",
     "output_type": "stream",
     "text": [
      "/home/arturo/github/downpy/codes/downscale.py:1248: RuntimeWarning: invalid value encountered in power\n",
      "  mev0f = np.sum( ( 1-np.exp(-(y/C)**W ))**N) - nyears*pr\n",
      "/home/arturo/github/downpy/codes/downscale.py:1248: RuntimeWarning: invalid value encountered in power\n",
      "  mev0f = np.sum( ( 1-np.exp(-(y/C)**W ))**N) - nyears*pr\n"
     ]
    },
    {
     "name": "stdout",
     "output_type": "stream",
     "text": [
      "mevd_quant:: ERROR - fsolve does not work -  change x0\n",
      "mevd_quant:: ERROR - fsolve does not work -  change x0\n",
      "mevd_quant:: ERROR - fsolve does not work -  change x0\n",
      "mevd_quant:: ERROR - fsolve does not work -  change x0\n",
      "mevd_quant:: ERROR - fsolve does not work -  change x0\n"
     ]
    },
    {
     "name": "stderr",
     "output_type": "stream",
     "text": [
      "/home/arturo/github/downpy/codes/downscale.py:1248: RuntimeWarning: invalid value encountered in power\n",
      "  mev0f = np.sum( ( 1-np.exp(-(y/C)**W ))**N) - nyears*pr\n",
      "/home/arturo/github/downpy/codes/downscale.py:1248: RuntimeWarning: invalid value encountered in power\n",
      "  mev0f = np.sum( ( 1-np.exp(-(y/C)**W ))**N) - nyears*pr\n",
      "/home/arturo/github/downpy/codes/downscale.py:1248: RuntimeWarning: invalid value encountered in power\n",
      "  mev0f = np.sum( ( 1-np.exp(-(y/C)**W ))**N) - nyears*pr\n",
      "/home/arturo/github/downpy/codes/downscale.py:1248: RuntimeWarning: invalid value encountered in power\n",
      "  mev0f = np.sum( ( 1-np.exp(-(y/C)**W ))**N) - nyears*pr\n",
      "/home/arturo/github/downpy/codes/downscale.py:1248: RuntimeWarning: invalid value encountered in power\n",
      "  mev0f = np.sum( ( 1-np.exp(-(y/C)**W ))**N) - nyears*pr\n",
      "/home/arturo/github/downpy/codes/downscale.py:1248: RuntimeWarning: invalid value encountered in power\n",
      "  mev0f = np.sum( ( 1-np.exp(-(y/C)**W ))**N) - nyears*pr\n"
     ]
    },
    {
     "name": "stdout",
     "output_type": "stream",
     "text": [
      "mevd_quant:: ERROR - fsolve does not work -  change x0\n",
      "mevd_quant:: ERROR - fsolve does not work -  change x0\n",
      "mevd_quant:: ERROR - fsolve does not work -  change x0\n",
      "mevd_quant:: ERROR - fsolve does not work -  change x0\n",
      "mevd_quant:: ERROR - fsolve does not work -  change x0\n",
      "mevd_quant:: ERROR - fsolve does not work -  change x0\n",
      "mevd_quant:: ERROR - fsolve does not work -  change x0\n",
      "mevd_quant:: ERROR - fsolve does not work -  change x0\n",
      "mevd_quant:: ERROR - fsolve does not work -  change x0\n",
      "mevd_quant:: ERROR - fsolve does not work -  change x0\n",
      "19\n"
     ]
    },
    {
     "name": "stderr",
     "output_type": "stream",
     "text": [
      "/home/arturo/github/downpy/codes/downscale.py:1248: RuntimeWarning: invalid value encountered in power\n",
      "  mev0f = np.sum( ( 1-np.exp(-(y/C)**W ))**N) - nyears*pr\n",
      "/home/arturo/github/downpy/codes/downscale.py:1248: RuntimeWarning: invalid value encountered in power\n",
      "  mev0f = np.sum( ( 1-np.exp(-(y/C)**W ))**N) - nyears*pr\n",
      "/home/arturo/github/downpy/codes/downscale.py:1248: RuntimeWarning: invalid value encountered in power\n",
      "  mev0f = np.sum( ( 1-np.exp(-(y/C)**W ))**N) - nyears*pr\n"
     ]
    },
    {
     "name": "stdout",
     "output_type": "stream",
     "text": [
      "mevd_quant:: ERROR - fsolve does not work -  change x0\n",
      "mevd_quant:: ERROR - fsolve does not work -  change x0\n",
      "mevd_quant:: ERROR - fsolve does not work -  change x0\n",
      "mevd_quant:: ERROR - fsolve does not work -  change x0\n",
      "mevd_quant:: ERROR - fsolve does not work -  change x0\n",
      "mevd_quant:: ERROR - fsolve does not work -  change x0\n",
      "mevd_quant:: ERROR - fsolve does not work -  change x0\n",
      "mevd_quant:: ERROR - fsolve does not work -  change x0\n"
     ]
    },
    {
     "name": "stderr",
     "output_type": "stream",
     "text": [
      "/home/arturo/github/downpy/codes/downscale.py:1248: RuntimeWarning: invalid value encountered in power\n",
      "  mev0f = np.sum( ( 1-np.exp(-(y/C)**W ))**N) - nyears*pr\n",
      "/home/arturo/github/downpy/codes/downscale.py:1248: RuntimeWarning: invalid value encountered in power\n",
      "  mev0f = np.sum( ( 1-np.exp(-(y/C)**W ))**N) - nyears*pr\n",
      "/home/arturo/github/downpy/codes/downscale.py:1248: RuntimeWarning: invalid value encountered in power\n",
      "  mev0f = np.sum( ( 1-np.exp(-(y/C)**W ))**N) - nyears*pr\n",
      "/home/arturo/github/downpy/codes/downscale.py:1248: RuntimeWarning: invalid value encountered in power\n",
      "  mev0f = np.sum( ( 1-np.exp(-(y/C)**W ))**N) - nyears*pr\n"
     ]
    },
    {
     "name": "stdout",
     "output_type": "stream",
     "text": [
      "mevd_quant:: ERROR - fsolve does not work -  change x0\n",
      "mevd_quant:: ERROR - fsolve does not work -  change x0\n",
      "mevd_quant:: ERROR - fsolve does not work -  change x0\n",
      "mevd_quant:: ERROR - fsolve does not work -  change x0\n",
      "mevd_quant:: ERROR - fsolve does not work -  change x0\n",
      "mevd_quant:: ERROR - fsolve does not work -  change x0\n",
      "mevd_quant:: ERROR - fsolve does not work -  change x0\n",
      "mevd_quant:: ERROR - fsolve does not work -  change x0\n",
      "mevd_quant:: ERROR - fsolve does not work -  change x0\n",
      "mevd_quant:: ERROR - fsolve does not work -  change x0\n",
      "mevd_quant:: ERROR - fsolve does not work -  change x0\n",
      "mevd_quant:: ERROR - fsolve does not work -  change x0\n",
      "mevd_quant:: ERROR - fsolve does not work -  change x0\n"
     ]
    },
    {
     "name": "stderr",
     "output_type": "stream",
     "text": [
      "/home/arturo/github/downpy/codes/downscale.py:1248: RuntimeWarning: invalid value encountered in power\n",
      "  mev0f = np.sum( ( 1-np.exp(-(y/C)**W ))**N) - nyears*pr\n"
     ]
    },
    {
     "name": "stdout",
     "output_type": "stream",
     "text": [
      "mevd_quant:: ERROR - fsolve does not work -  change x0\n",
      "mevd_quant:: ERROR - fsolve does not work -  change x0\n",
      "mevd_quant:: ERROR - fsolve does not work -  change x0\n",
      "mevd_quant:: ERROR - fsolve does not work -  change x0\n"
     ]
    },
    {
     "name": "stderr",
     "output_type": "stream",
     "text": [
      "/home/arturo/github/downpy/codes/downscale.py:1248: RuntimeWarning: invalid value encountered in power\n",
      "  mev0f = np.sum( ( 1-np.exp(-(y/C)**W ))**N) - nyears*pr\n",
      "/home/arturo/github/downpy/codes/downscale.py:1248: RuntimeWarning: invalid value encountered in power\n",
      "  mev0f = np.sum( ( 1-np.exp(-(y/C)**W ))**N) - nyears*pr\n"
     ]
    },
    {
     "name": "stdout",
     "output_type": "stream",
     "text": [
      "mevd_quant:: ERROR - fsolve does not work -  change x0\n",
      "mevd_quant:: ERROR - fsolve does not work -  change x0\n",
      "mevd_quant:: ERROR - fsolve does not work -  change x0\n",
      "mevd_quant:: ERROR - fsolve does not work -  change x0\n",
      "20\n",
      "mevd_quant:: ERROR - fsolve does not work -  change x0\n",
      "mevd_quant:: ERROR - fsolve does not work -  change x0\n",
      "mevd_quant:: ERROR - fsolve does not work -  change x0\n",
      "mevd_quant:: ERROR - fsolve does not work -  change x0\n",
      "mevd_quant:: ERROR - fsolve does not work -  change x0\n",
      "mevd_quant:: ERROR - fsolve does not work -  change x0\n",
      "mevd_quant:: ERROR - fsolve does not work -  change x0\n",
      "mevd_quant:: ERROR - fsolve does not work -  change x0\n",
      "mevd_quant:: ERROR - fsolve does not work -  change x0\n",
      "mevd_quant:: ERROR - fsolve does not work -  change x0\n",
      "mevd_quant:: ERROR - fsolve does not work -  change x0\n"
     ]
    },
    {
     "name": "stderr",
     "output_type": "stream",
     "text": [
      "/home/arturo/github/downpy/codes/downscale.py:1248: RuntimeWarning: invalid value encountered in power\n",
      "  mev0f = np.sum( ( 1-np.exp(-(y/C)**W ))**N) - nyears*pr\n",
      "/home/arturo/github/downpy/codes/downscale.py:1248: RuntimeWarning: invalid value encountered in power\n",
      "  mev0f = np.sum( ( 1-np.exp(-(y/C)**W ))**N) - nyears*pr\n",
      "/home/arturo/github/downpy/codes/downscale.py:1248: RuntimeWarning: invalid value encountered in power\n",
      "  mev0f = np.sum( ( 1-np.exp(-(y/C)**W ))**N) - nyears*pr\n",
      "/home/arturo/github/downpy/codes/downscale.py:1248: RuntimeWarning: invalid value encountered in power\n",
      "  mev0f = np.sum( ( 1-np.exp(-(y/C)**W ))**N) - nyears*pr\n",
      "/home/arturo/github/downpy/codes/downscale.py:1248: RuntimeWarning: invalid value encountered in power\n",
      "  mev0f = np.sum( ( 1-np.exp(-(y/C)**W ))**N) - nyears*pr\n",
      "/home/arturo/github/downpy/codes/downscale.py:1248: RuntimeWarning: invalid value encountered in power\n",
      "  mev0f = np.sum( ( 1-np.exp(-(y/C)**W ))**N) - nyears*pr\n"
     ]
    },
    {
     "name": "stdout",
     "output_type": "stream",
     "text": [
      "mevd_quant:: ERROR - fsolve does not work -  change x0\n",
      "mevd_quant:: ERROR - fsolve does not work -  change x0\n",
      "mevd_quant:: ERROR - fsolve does not work -  change x0\n",
      "mevd_quant:: ERROR - fsolve does not work -  change x0\n",
      "mevd_quant:: ERROR - fsolve does not work -  change x0\n",
      "mevd_quant:: ERROR - fsolve does not work -  change x0\n",
      "mevd_quant:: ERROR - fsolve does not work -  change x0\n",
      "mevd_quant:: ERROR - fsolve does not work -  change x0\n",
      "mevd_quant:: ERROR - fsolve does not work -  change x0\n",
      "mevd_quant:: ERROR - fsolve does not work -  change x0\n"
     ]
    },
    {
     "name": "stderr",
     "output_type": "stream",
     "text": [
      "/home/arturo/github/downpy/codes/downscale.py:1248: RuntimeWarning: invalid value encountered in power\n",
      "  mev0f = np.sum( ( 1-np.exp(-(y/C)**W ))**N) - nyears*pr\n",
      "/home/arturo/github/downpy/codes/downscale.py:1248: RuntimeWarning: invalid value encountered in power\n",
      "  mev0f = np.sum( ( 1-np.exp(-(y/C)**W ))**N) - nyears*pr\n",
      "/home/arturo/github/downpy/codes/downscale.py:1248: RuntimeWarning: invalid value encountered in power\n",
      "  mev0f = np.sum( ( 1-np.exp(-(y/C)**W ))**N) - nyears*pr\n",
      "/home/arturo/github/downpy/codes/downscale.py:1248: RuntimeWarning: invalid value encountered in power\n",
      "  mev0f = np.sum( ( 1-np.exp(-(y/C)**W ))**N) - nyears*pr\n",
      "/home/arturo/github/downpy/codes/downscale.py:1248: RuntimeWarning: invalid value encountered in power\n",
      "  mev0f = np.sum( ( 1-np.exp(-(y/C)**W ))**N) - nyears*pr\n"
     ]
    },
    {
     "name": "stdout",
     "output_type": "stream",
     "text": [
      "mevd_quant:: ERROR - fsolve does not work -  change x0\n",
      "mevd_quant:: ERROR - fsolve does not work -  change x0\n",
      "mevd_quant:: ERROR - fsolve does not work -  change x0\n",
      "mevd_quant:: ERROR - fsolve does not work -  change x0\n",
      "mevd_quant:: ERROR - fsolve does not work -  change x0\n",
      "mevd_quant:: ERROR - fsolve does not work -  change x0\n",
      "mevd_quant:: ERROR - fsolve does not work -  change x0\n",
      "mevd_quant:: ERROR - fsolve does not work -  change x0\n",
      "mevd_quant:: ERROR - fsolve does not work -  change x0\n",
      "mevd_quant:: ERROR - fsolve does not work -  change x0\n",
      "mevd_quant:: ERROR - fsolve does not work -  change x0\n"
     ]
    },
    {
     "name": "stderr",
     "output_type": "stream",
     "text": [
      "/home/arturo/github/downpy/codes/downscale.py:1248: RuntimeWarning: invalid value encountered in power\n",
      "  mev0f = np.sum( ( 1-np.exp(-(y/C)**W ))**N) - nyears*pr\n",
      "/home/arturo/github/downpy/codes/downscale.py:1248: RuntimeWarning: invalid value encountered in power\n",
      "  mev0f = np.sum( ( 1-np.exp(-(y/C)**W ))**N) - nyears*pr\n",
      "/home/arturo/github/downpy/codes/downscale.py:1248: RuntimeWarning: invalid value encountered in power\n",
      "  mev0f = np.sum( ( 1-np.exp(-(y/C)**W ))**N) - nyears*pr\n"
     ]
    },
    {
     "name": "stdout",
     "output_type": "stream",
     "text": [
      "mevd_quant:: ERROR - fsolve does not work -  change x0\n",
      "mevd_quant:: ERROR - fsolve does not work -  change x0\n",
      "mevd_quant:: ERROR - fsolve does not work -  change x0\n",
      "mevd_quant:: ERROR - fsolve does not work -  change x0\n",
      "mevd_quant:: ERROR - fsolve does not work -  change x0\n",
      "mevd_quant:: ERROR - fsolve does not work -  change x0\n",
      "21\n",
      "mevd_quant:: ERROR - fsolve does not work -  change x0\n",
      "mevd_quant:: ERROR - fsolve does not work -  change x0\n",
      "mevd_quant:: ERROR - fsolve does not work -  change x0\n",
      "mevd_quant:: ERROR - fsolve does not work -  change x0\n",
      "mevd_quant:: ERROR - fsolve does not work -  change x0\n",
      "mevd_quant:: ERROR - fsolve does not work -  change x0\n",
      "mevd_quant:: ERROR - fsolve does not work -  change x0\n",
      "mevd_quant:: ERROR - fsolve does not work -  change x0\n",
      "mevd_quant:: ERROR - fsolve does not work -  change x0\n",
      "mevd_quant:: ERROR - fsolve does not work -  change x0\n"
     ]
    },
    {
     "name": "stderr",
     "output_type": "stream",
     "text": [
      "/home/arturo/github/downpy/codes/downscale.py:1248: RuntimeWarning: invalid value encountered in power\n",
      "  mev0f = np.sum( ( 1-np.exp(-(y/C)**W ))**N) - nyears*pr\n",
      "/home/arturo/github/downpy/codes/downscale.py:1248: RuntimeWarning: invalid value encountered in power\n",
      "  mev0f = np.sum( ( 1-np.exp(-(y/C)**W ))**N) - nyears*pr\n",
      "/home/arturo/github/downpy/codes/downscale.py:1248: RuntimeWarning: invalid value encountered in power\n",
      "  mev0f = np.sum( ( 1-np.exp(-(y/C)**W ))**N) - nyears*pr\n",
      "/home/arturo/github/downpy/codes/downscale.py:1248: RuntimeWarning: invalid value encountered in power\n",
      "  mev0f = np.sum( ( 1-np.exp(-(y/C)**W ))**N) - nyears*pr\n",
      "/home/arturo/github/downpy/codes/downscale.py:1248: RuntimeWarning: invalid value encountered in power\n",
      "  mev0f = np.sum( ( 1-np.exp(-(y/C)**W ))**N) - nyears*pr\n",
      "/home/arturo/github/downpy/codes/downscale.py:1248: RuntimeWarning: invalid value encountered in power\n",
      "  mev0f = np.sum( ( 1-np.exp(-(y/C)**W ))**N) - nyears*pr\n",
      "/home/arturo/github/downpy/codes/downscale.py:1248: RuntimeWarning: invalid value encountered in power\n",
      "  mev0f = np.sum( ( 1-np.exp(-(y/C)**W ))**N) - nyears*pr\n"
     ]
    },
    {
     "name": "stdout",
     "output_type": "stream",
     "text": [
      "mevd_quant:: ERROR - fsolve does not work -  change x0\n",
      "mevd_quant:: ERROR - fsolve does not work -  change x0\n",
      "mevd_quant:: ERROR - fsolve does not work -  change x0\n"
     ]
    },
    {
     "name": "stderr",
     "output_type": "stream",
     "text": [
      "/home/arturo/github/downpy/codes/downscale.py:1248: RuntimeWarning: invalid value encountered in power\n",
      "  mev0f = np.sum( ( 1-np.exp(-(y/C)**W ))**N) - nyears*pr\n",
      "/home/arturo/github/downpy/codes/downscale.py:1248: RuntimeWarning: invalid value encountered in power\n",
      "  mev0f = np.sum( ( 1-np.exp(-(y/C)**W ))**N) - nyears*pr\n",
      "/home/arturo/github/downpy/codes/downscale.py:1248: RuntimeWarning: invalid value encountered in power\n",
      "  mev0f = np.sum( ( 1-np.exp(-(y/C)**W ))**N) - nyears*pr\n"
     ]
    },
    {
     "name": "stdout",
     "output_type": "stream",
     "text": [
      "mevd_quant:: ERROR - fsolve does not work -  change x0\n",
      "mevd_quant:: ERROR - fsolve does not work -  change x0\n",
      "mevd_quant:: ERROR - fsolve does not work -  change x0\n",
      "mevd_quant:: ERROR - fsolve does not work -  change x0\n"
     ]
    },
    {
     "name": "stderr",
     "output_type": "stream",
     "text": [
      "/home/arturo/github/downpy/codes/downscale.py:1248: RuntimeWarning: invalid value encountered in power\n",
      "  mev0f = np.sum( ( 1-np.exp(-(y/C)**W ))**N) - nyears*pr\n"
     ]
    },
    {
     "name": "stdout",
     "output_type": "stream",
     "text": [
      "mevd_quant:: ERROR - fsolve does not work -  change x0\n",
      "22\n"
     ]
    },
    {
     "name": "stderr",
     "output_type": "stream",
     "text": [
      "/home/arturo/github/downpy/codes/downscale.py:1248: RuntimeWarning: invalid value encountered in power\n",
      "  mev0f = np.sum( ( 1-np.exp(-(y/C)**W ))**N) - nyears*pr\n",
      "/home/arturo/github/downpy/codes/downscale.py:1248: RuntimeWarning: invalid value encountered in power\n",
      "  mev0f = np.sum( ( 1-np.exp(-(y/C)**W ))**N) - nyears*pr\n",
      "/home/arturo/github/downpy/codes/downscale.py:1248: RuntimeWarning: invalid value encountered in power\n",
      "  mev0f = np.sum( ( 1-np.exp(-(y/C)**W ))**N) - nyears*pr\n",
      "/home/arturo/github/downpy/codes/downscale.py:1248: RuntimeWarning: invalid value encountered in power\n",
      "  mev0f = np.sum( ( 1-np.exp(-(y/C)**W ))**N) - nyears*pr\n",
      "/home/arturo/github/downpy/codes/downscale.py:1248: RuntimeWarning: invalid value encountered in power\n",
      "  mev0f = np.sum( ( 1-np.exp(-(y/C)**W ))**N) - nyears*pr\n"
     ]
    },
    {
     "name": "stdout",
     "output_type": "stream",
     "text": [
      "mevd_quant:: ERROR - fsolve does not work -  change x0\n",
      "mevd_quant:: ERROR - fsolve does not work -  change x0\n",
      "mevd_quant:: ERROR - fsolve does not work -  change x0\n",
      "mevd_quant:: ERROR - fsolve does not work -  change x0\n",
      "mevd_quant:: ERROR - fsolve does not work -  change x0\n",
      "mevd_quant:: ERROR - fsolve does not work -  change x0\n",
      "mevd_quant:: ERROR - fsolve does not work -  change x0\n",
      "mevd_quant:: ERROR - fsolve does not work -  change x0\n",
      "mevd_quant:: ERROR - fsolve does not work -  change x0\n",
      "mevd_quant:: ERROR - fsolve does not work -  change x0\n",
      "mevd_quant:: ERROR - fsolve does not work -  change x0\n",
      "mevd_quant:: ERROR - fsolve does not work -  change x0\n",
      "mevd_quant:: ERROR - fsolve does not work -  change x0\n"
     ]
    },
    {
     "name": "stderr",
     "output_type": "stream",
     "text": [
      "/home/arturo/github/downpy/codes/downscale.py:1248: RuntimeWarning: invalid value encountered in power\n",
      "  mev0f = np.sum( ( 1-np.exp(-(y/C)**W ))**N) - nyears*pr\n",
      "/home/arturo/github/downpy/codes/downscale.py:1248: RuntimeWarning: invalid value encountered in power\n",
      "  mev0f = np.sum( ( 1-np.exp(-(y/C)**W ))**N) - nyears*pr\n",
      "/home/arturo/github/downpy/codes/downscale.py:1248: RuntimeWarning: invalid value encountered in power\n",
      "  mev0f = np.sum( ( 1-np.exp(-(y/C)**W ))**N) - nyears*pr\n",
      "/home/arturo/github/downpy/codes/downscale.py:1248: RuntimeWarning: invalid value encountered in power\n",
      "  mev0f = np.sum( ( 1-np.exp(-(y/C)**W ))**N) - nyears*pr\n",
      "/home/arturo/github/downpy/codes/downscale.py:1248: RuntimeWarning: invalid value encountered in power\n",
      "  mev0f = np.sum( ( 1-np.exp(-(y/C)**W ))**N) - nyears*pr\n",
      "/home/arturo/github/downpy/codes/downscale.py:1248: RuntimeWarning: invalid value encountered in power\n",
      "  mev0f = np.sum( ( 1-np.exp(-(y/C)**W ))**N) - nyears*pr\n"
     ]
    },
    {
     "name": "stdout",
     "output_type": "stream",
     "text": [
      "mevd_quant:: ERROR - fsolve does not work -  change x0\n",
      "mevd_quant:: ERROR - fsolve does not work -  change x0\n",
      "mevd_quant:: ERROR - fsolve does not work -  change x0\n",
      "mevd_quant:: ERROR - fsolve does not work -  change x0\n",
      "mevd_quant:: ERROR - fsolve does not work -  change x0\n",
      "mevd_quant:: ERROR - fsolve does not work -  change x0\n",
      "mevd_quant:: ERROR - fsolve does not work -  change x0\n",
      "mevd_quant:: ERROR - fsolve does not work -  change x0\n",
      "mevd_quant:: ERROR - fsolve does not work -  change x0\n",
      "mevd_quant:: ERROR - fsolve does not work -  change x0\n",
      "mevd_quant:: ERROR - fsolve does not work -  change x0\n",
      "mevd_quant:: ERROR - fsolve does not work -  change x0\n",
      "mevd_quant:: ERROR - fsolve does not work -  change x0\n",
      "mevd_quant:: ERROR - fsolve does not work -  change x0\n"
     ]
    },
    {
     "name": "stderr",
     "output_type": "stream",
     "text": [
      "/home/arturo/github/downpy/codes/downscale.py:1248: RuntimeWarning: invalid value encountered in power\n",
      "  mev0f = np.sum( ( 1-np.exp(-(y/C)**W ))**N) - nyears*pr\n"
     ]
    },
    {
     "name": "stdout",
     "output_type": "stream",
     "text": [
      "mevd_quant:: ERROR - fsolve does not work -  change x0\n",
      "23\n",
      "mevd_quant:: ERROR - fsolve does not work -  change x0\n",
      "mevd_quant:: ERROR - fsolve does not work -  change x0\n",
      "mevd_quant:: ERROR - fsolve does not work -  change x0\n"
     ]
    },
    {
     "name": "stderr",
     "output_type": "stream",
     "text": [
      "/home/arturo/github/downpy/codes/downscale.py:1248: RuntimeWarning: invalid value encountered in power\n",
      "  mev0f = np.sum( ( 1-np.exp(-(y/C)**W ))**N) - nyears*pr\n",
      "/home/arturo/github/downpy/codes/downscale.py:1248: RuntimeWarning: invalid value encountered in power\n",
      "  mev0f = np.sum( ( 1-np.exp(-(y/C)**W ))**N) - nyears*pr\n",
      "/home/arturo/github/downpy/codes/downscale.py:1248: RuntimeWarning: invalid value encountered in power\n",
      "  mev0f = np.sum( ( 1-np.exp(-(y/C)**W ))**N) - nyears*pr\n"
     ]
    },
    {
     "name": "stdout",
     "output_type": "stream",
     "text": [
      "mevd_quant:: ERROR - fsolve does not work -  change x0\n",
      "mevd_quant:: ERROR - fsolve does not work -  change x0\n",
      "mevd_quant:: ERROR - fsolve does not work -  change x0\n"
     ]
    },
    {
     "name": "stderr",
     "output_type": "stream",
     "text": [
      "/home/arturo/github/downpy/codes/downscale.py:1248: RuntimeWarning: invalid value encountered in power\n",
      "  mev0f = np.sum( ( 1-np.exp(-(y/C)**W ))**N) - nyears*pr\n",
      "/home/arturo/github/downpy/codes/downscale.py:1248: RuntimeWarning: invalid value encountered in power\n",
      "  mev0f = np.sum( ( 1-np.exp(-(y/C)**W ))**N) - nyears*pr\n"
     ]
    },
    {
     "name": "stdout",
     "output_type": "stream",
     "text": [
      "mevd_quant:: ERROR - fsolve does not work -  change x0\n",
      "mevd_quant:: ERROR - fsolve does not work -  change x0\n",
      "mevd_quant:: ERROR - fsolve does not work -  change x0\n",
      "mevd_quant:: ERROR - fsolve does not work -  change x0\n",
      "mevd_quant:: ERROR - fsolve does not work -  change x0\n",
      "24\n",
      "mevd_quant:: ERROR - fsolve does not work -  change x0\n"
     ]
    },
    {
     "name": "stderr",
     "output_type": "stream",
     "text": [
      "/home/arturo/github/downpy/codes/downscale.py:1248: RuntimeWarning: invalid value encountered in power\n",
      "  mev0f = np.sum( ( 1-np.exp(-(y/C)**W ))**N) - nyears*pr\n",
      "/home/arturo/github/downpy/codes/downscale.py:1248: RuntimeWarning: invalid value encountered in power\n",
      "  mev0f = np.sum( ( 1-np.exp(-(y/C)**W ))**N) - nyears*pr\n",
      "/home/arturo/github/downpy/codes/downscale.py:1248: RuntimeWarning: invalid value encountered in power\n",
      "  mev0f = np.sum( ( 1-np.exp(-(y/C)**W ))**N) - nyears*pr\n",
      "/home/arturo/github/downpy/codes/downscale.py:1248: RuntimeWarning: invalid value encountered in power\n",
      "  mev0f = np.sum( ( 1-np.exp(-(y/C)**W ))**N) - nyears*pr\n",
      "/home/arturo/github/downpy/codes/downscale.py:1248: RuntimeWarning: invalid value encountered in power\n",
      "  mev0f = np.sum( ( 1-np.exp(-(y/C)**W ))**N) - nyears*pr\n",
      "/home/arturo/github/downpy/codes/downscale.py:1248: RuntimeWarning: invalid value encountered in power\n",
      "  mev0f = np.sum( ( 1-np.exp(-(y/C)**W ))**N) - nyears*pr\n"
     ]
    },
    {
     "name": "stdout",
     "output_type": "stream",
     "text": [
      "mevd_quant:: ERROR - fsolve does not work -  change x0\n",
      "mevd_quant:: ERROR - fsolve does not work -  change x0\n",
      "mevd_quant:: ERROR - fsolve does not work -  change x0\n",
      "mevd_quant:: ERROR - fsolve does not work -  change x0\n",
      "mevd_quant:: ERROR - fsolve does not work -  change x0\n",
      "mevd_quant:: ERROR - fsolve does not work -  change x0\n",
      "mevd_quant:: ERROR - fsolve does not work -  change x0\n",
      "mevd_quant:: ERROR - fsolve does not work -  change x0\n",
      "mevd_quant:: ERROR - fsolve does not work -  change x0\n",
      "mevd_quant:: ERROR - fsolve does not work -  change x0\n",
      "mevd_quant:: ERROR - fsolve does not work -  change x0\n"
     ]
    },
    {
     "name": "stderr",
     "output_type": "stream",
     "text": [
      "/home/arturo/github/downpy/codes/downscale.py:1248: RuntimeWarning: invalid value encountered in power\n",
      "  mev0f = np.sum( ( 1-np.exp(-(y/C)**W ))**N) - nyears*pr\n",
      "/home/arturo/github/downpy/codes/downscale.py:1248: RuntimeWarning: invalid value encountered in power\n",
      "  mev0f = np.sum( ( 1-np.exp(-(y/C)**W ))**N) - nyears*pr\n",
      "/home/arturo/github/downpy/codes/downscale.py:1248: RuntimeWarning: invalid value encountered in power\n",
      "  mev0f = np.sum( ( 1-np.exp(-(y/C)**W ))**N) - nyears*pr\n",
      "/home/arturo/github/downpy/codes/downscale.py:1248: RuntimeWarning: invalid value encountered in power\n",
      "  mev0f = np.sum( ( 1-np.exp(-(y/C)**W ))**N) - nyears*pr\n",
      "/home/arturo/github/downpy/codes/downscale.py:1248: RuntimeWarning: invalid value encountered in power\n",
      "  mev0f = np.sum( ( 1-np.exp(-(y/C)**W ))**N) - nyears*pr\n"
     ]
    },
    {
     "name": "stdout",
     "output_type": "stream",
     "text": [
      "mevd_quant:: ERROR - fsolve does not work -  change x0\n",
      "mevd_quant:: ERROR - fsolve does not work -  change x0\n",
      "mevd_quant:: ERROR - fsolve does not work -  change x0\n",
      "mevd_quant:: ERROR - fsolve does not work -  change x0\n",
      "mevd_quant:: ERROR - fsolve does not work -  change x0\n",
      "mevd_quant:: ERROR - fsolve does not work -  change x0\n",
      "mevd_quant:: ERROR - fsolve does not work -  change x0\n",
      "mevd_quant:: ERROR - fsolve does not work -  change x0\n",
      "mevd_quant:: ERROR - fsolve does not work -  change x0\n"
     ]
    },
    {
     "name": "stderr",
     "output_type": "stream",
     "text": [
      "/home/arturo/github/downpy/codes/downscale.py:1248: RuntimeWarning: invalid value encountered in power\n",
      "  mev0f = np.sum( ( 1-np.exp(-(y/C)**W ))**N) - nyears*pr\n"
     ]
    },
    {
     "name": "stdout",
     "output_type": "stream",
     "text": [
      "mevd_quant:: ERROR - fsolve does not work -  change x0\n",
      "25\n"
     ]
    },
    {
     "name": "stderr",
     "output_type": "stream",
     "text": [
      "/home/arturo/github/downpy/codes/downscale.py:1248: RuntimeWarning: invalid value encountered in power\n",
      "  mev0f = np.sum( ( 1-np.exp(-(y/C)**W ))**N) - nyears*pr\n",
      "/home/arturo/github/downpy/codes/downscale.py:1248: RuntimeWarning: invalid value encountered in power\n",
      "  mev0f = np.sum( ( 1-np.exp(-(y/C)**W ))**N) - nyears*pr\n",
      "/home/arturo/github/downpy/codes/downscale.py:1248: RuntimeWarning: invalid value encountered in power\n",
      "  mev0f = np.sum( ( 1-np.exp(-(y/C)**W ))**N) - nyears*pr\n",
      "/home/arturo/github/downpy/codes/downscale.py:1248: RuntimeWarning: invalid value encountered in power\n",
      "  mev0f = np.sum( ( 1-np.exp(-(y/C)**W ))**N) - nyears*pr\n"
     ]
    },
    {
     "name": "stdout",
     "output_type": "stream",
     "text": [
      "mevd_quant:: ERROR - fsolve does not work -  change x0\n",
      "mevd_quant:: ERROR - fsolve does not work -  change x0\n",
      "mevd_quant:: ERROR - fsolve does not work -  change x0\n",
      "mevd_quant:: ERROR - fsolve does not work -  change x0\n",
      "mevd_quant:: ERROR - fsolve does not work -  change x0\n",
      "mevd_quant:: ERROR - fsolve does not work -  change x0\n",
      "mevd_quant:: ERROR - fsolve does not work -  change x0\n",
      "mevd_quant:: ERROR - fsolve does not work -  change x0\n",
      "mevd_quant:: ERROR - fsolve does not work -  change x0\n",
      "mevd_quant:: ERROR - fsolve does not work -  change x0\n",
      "mevd_quant:: ERROR - fsolve does not work -  change x0\n",
      "mevd_quant:: ERROR - fsolve does not work -  change x0\n",
      "mevd_quant:: ERROR - fsolve does not work -  change x0\n",
      "mevd_quant:: ERROR - fsolve does not work -  change x0\n"
     ]
    },
    {
     "name": "stderr",
     "output_type": "stream",
     "text": [
      "/home/arturo/github/downpy/codes/downscale.py:1248: RuntimeWarning: invalid value encountered in power\n",
      "  mev0f = np.sum( ( 1-np.exp(-(y/C)**W ))**N) - nyears*pr\n",
      "/home/arturo/github/downpy/codes/downscale.py:1248: RuntimeWarning: invalid value encountered in power\n",
      "  mev0f = np.sum( ( 1-np.exp(-(y/C)**W ))**N) - nyears*pr\n",
      "/home/arturo/github/downpy/codes/downscale.py:1248: RuntimeWarning: invalid value encountered in power\n",
      "  mev0f = np.sum( ( 1-np.exp(-(y/C)**W ))**N) - nyears*pr\n",
      "/home/arturo/github/downpy/codes/downscale.py:1248: RuntimeWarning: invalid value encountered in power\n",
      "  mev0f = np.sum( ( 1-np.exp(-(y/C)**W ))**N) - nyears*pr\n"
     ]
    },
    {
     "name": "stdout",
     "output_type": "stream",
     "text": [
      "mevd_quant:: ERROR - fsolve does not work -  change x0\n",
      "mevd_quant:: ERROR - fsolve does not work -  change x0\n",
      "mevd_quant:: ERROR - fsolve does not work -  change x0\n",
      "mevd_quant:: ERROR - fsolve does not work -  change x0\n",
      "mevd_quant:: ERROR - fsolve does not work -  change x0\n",
      "mevd_quant:: ERROR - fsolve does not work -  change x0\n",
      "mevd_quant:: ERROR - fsolve does not work -  change x0\n"
     ]
    },
    {
     "name": "stderr",
     "output_type": "stream",
     "text": [
      "/home/arturo/github/downpy/codes/downscale.py:1248: RuntimeWarning: invalid value encountered in power\n",
      "  mev0f = np.sum( ( 1-np.exp(-(y/C)**W ))**N) - nyears*pr\n"
     ]
    },
    {
     "name": "stdout",
     "output_type": "stream",
     "text": [
      "mevd_quant:: ERROR - fsolve does not work -  change x0\n",
      "mevd_quant:: ERROR - fsolve does not work -  change x0\n",
      "26\n",
      "mevd_quant:: ERROR - fsolve does not work -  change x0\n",
      "mevd_quant:: ERROR - fsolve does not work -  change x0\n",
      "mevd_quant:: ERROR - fsolve does not work -  change x0\n",
      "mevd_quant:: ERROR - fsolve does not work -  change x0\n",
      "mevd_quant:: ERROR - fsolve does not work -  change x0\n",
      "mevd_quant:: ERROR - fsolve does not work -  change x0\n",
      "mevd_quant:: ERROR - fsolve does not work -  change x0\n",
      "mevd_quant:: ERROR - fsolve does not work -  change x0\n",
      "mevd_quant:: ERROR - fsolve does not work -  change x0\n",
      "mevd_quant:: ERROR - fsolve does not work -  change x0\n",
      "mevd_quant:: ERROR - fsolve does not work -  change x0\n"
     ]
    },
    {
     "name": "stderr",
     "output_type": "stream",
     "text": [
      "/home/arturo/github/downpy/codes/downscale.py:1248: RuntimeWarning: invalid value encountered in power\n",
      "  mev0f = np.sum( ( 1-np.exp(-(y/C)**W ))**N) - nyears*pr\n",
      "/home/arturo/github/downpy/codes/downscale.py:1248: RuntimeWarning: invalid value encountered in power\n",
      "  mev0f = np.sum( ( 1-np.exp(-(y/C)**W ))**N) - nyears*pr\n",
      "/home/arturo/github/downpy/codes/downscale.py:1248: RuntimeWarning: invalid value encountered in power\n",
      "  mev0f = np.sum( ( 1-np.exp(-(y/C)**W ))**N) - nyears*pr\n",
      "/home/arturo/github/downpy/codes/downscale.py:1248: RuntimeWarning: invalid value encountered in power\n",
      "  mev0f = np.sum( ( 1-np.exp(-(y/C)**W ))**N) - nyears*pr\n",
      "/home/arturo/github/downpy/codes/downscale.py:1248: RuntimeWarning: invalid value encountered in power\n",
      "  mev0f = np.sum( ( 1-np.exp(-(y/C)**W ))**N) - nyears*pr\n",
      "/home/arturo/github/downpy/codes/downscale.py:1248: RuntimeWarning: invalid value encountered in power\n",
      "  mev0f = np.sum( ( 1-np.exp(-(y/C)**W ))**N) - nyears*pr\n",
      "/home/arturo/github/downpy/codes/downscale.py:1248: RuntimeWarning: invalid value encountered in power\n",
      "  mev0f = np.sum( ( 1-np.exp(-(y/C)**W ))**N) - nyears*pr\n",
      "/home/arturo/github/downpy/codes/downscale.py:1248: RuntimeWarning: invalid value encountered in power\n",
      "  mev0f = np.sum( ( 1-np.exp(-(y/C)**W ))**N) - nyears*pr\n",
      "/home/arturo/github/downpy/codes/downscale.py:1248: RuntimeWarning: invalid value encountered in power\n",
      "  mev0f = np.sum( ( 1-np.exp(-(y/C)**W ))**N) - nyears*pr\n",
      "/home/arturo/github/downpy/codes/downscale.py:1248: RuntimeWarning: invalid value encountered in power\n",
      "  mev0f = np.sum( ( 1-np.exp(-(y/C)**W ))**N) - nyears*pr\n",
      "/home/arturo/github/downpy/codes/downscale.py:1248: RuntimeWarning: invalid value encountered in power\n",
      "  mev0f = np.sum( ( 1-np.exp(-(y/C)**W ))**N) - nyears*pr\n"
     ]
    },
    {
     "name": "stdout",
     "output_type": "stream",
     "text": [
      "mevd_quant:: ERROR - fsolve does not work -  change x0\n",
      "mevd_quant:: ERROR - fsolve does not work -  change x0\n",
      "mevd_quant:: ERROR - fsolve does not work -  change x0\n",
      "mevd_quant:: ERROR - fsolve does not work -  change x0\n",
      "mevd_quant:: ERROR - fsolve does not work -  change x0\n",
      "mevd_quant:: ERROR - fsolve does not work -  change x0\n",
      "mevd_quant:: ERROR - fsolve does not work -  change x0\n",
      "mevd_quant:: ERROR - fsolve does not work -  change x0\n",
      "mevd_quant:: ERROR - fsolve does not work -  change x0\n",
      "mevd_quant:: ERROR - fsolve does not work -  change x0\n",
      "mevd_quant:: ERROR - fsolve does not work -  change x0\n",
      "mevd_quant:: ERROR - fsolve does not work -  change x0\n",
      "mevd_quant:: ERROR - fsolve does not work -  change x0\n",
      "mevd_quant:: ERROR - fsolve does not work -  change x0\n",
      "mevd_quant:: ERROR - fsolve does not work -  change x0\n",
      "mevd_quant:: ERROR - fsolve does not work -  change x0\n",
      "mevd_quant:: ERROR - fsolve does not work -  change x0\n",
      "mevd_quant:: ERROR - fsolve does not work -  change x0\n",
      "mevd_quant:: ERROR - fsolve does not work -  change x0\n",
      "mevd_quant:: ERROR - fsolve does not work -  change x0\n",
      "mevd_quant:: ERROR - fsolve does not work -  change x0\n",
      "mevd_quant:: ERROR - fsolve does not work -  change x0\n",
      "mevd_quant:: ERROR - fsolve does not work -  change x0\n",
      "mevd_quant:: ERROR - fsolve does not work -  change x0\n",
      "mevd_quant:: ERROR - fsolve does not work -  change x0\n",
      "mevd_quant:: ERROR - fsolve does not work -  change x0\n"
     ]
    },
    {
     "name": "stderr",
     "output_type": "stream",
     "text": [
      "/home/arturo/github/downpy/codes/downscale.py:1248: RuntimeWarning: invalid value encountered in power\n",
      "  mev0f = np.sum( ( 1-np.exp(-(y/C)**W ))**N) - nyears*pr\n",
      "/home/arturo/github/downpy/codes/downscale.py:1248: RuntimeWarning: invalid value encountered in power\n",
      "  mev0f = np.sum( ( 1-np.exp(-(y/C)**W ))**N) - nyears*pr\n",
      "/home/arturo/github/downpy/codes/downscale.py:1248: RuntimeWarning: invalid value encountered in power\n",
      "  mev0f = np.sum( ( 1-np.exp(-(y/C)**W ))**N) - nyears*pr\n",
      "/home/arturo/github/downpy/codes/downscale.py:1248: RuntimeWarning: invalid value encountered in power\n",
      "  mev0f = np.sum( ( 1-np.exp(-(y/C)**W ))**N) - nyears*pr\n",
      "/home/arturo/github/downpy/codes/downscale.py:1248: RuntimeWarning: invalid value encountered in power\n",
      "  mev0f = np.sum( ( 1-np.exp(-(y/C)**W ))**N) - nyears*pr\n",
      "/home/arturo/github/downpy/codes/downscale.py:1248: RuntimeWarning: invalid value encountered in power\n",
      "  mev0f = np.sum( ( 1-np.exp(-(y/C)**W ))**N) - nyears*pr\n"
     ]
    },
    {
     "name": "stdout",
     "output_type": "stream",
     "text": [
      "mevd_quant:: ERROR - fsolve does not work -  change x0\n",
      "mevd_quant:: ERROR - fsolve does not work -  change x0\n",
      "mevd_quant:: ERROR - fsolve does not work -  change x0\n",
      "mevd_quant:: ERROR - fsolve does not work -  change x0\n",
      "27\n",
      "mevd_quant:: ERROR - fsolve does not work -  change x0\n",
      "mevd_quant:: ERROR - fsolve does not work -  change x0\n",
      "mevd_quant:: ERROR - fsolve does not work -  change x0\n",
      "mevd_quant:: ERROR - fsolve does not work -  change x0\n",
      "mevd_quant:: ERROR - fsolve does not work -  change x0\n",
      "mevd_quant:: ERROR - fsolve does not work -  change x0\n",
      "mevd_quant:: ERROR - fsolve does not work -  change x0\n",
      "mevd_quant:: ERROR - fsolve does not work -  change x0\n",
      "mevd_quant:: ERROR - fsolve does not work -  change x0\n",
      "mevd_quant:: ERROR - fsolve does not work -  change x0\n",
      "mevd_quant:: ERROR - fsolve does not work -  change x0\n",
      "mevd_quant:: ERROR - fsolve does not work -  change x0\n",
      "mevd_quant:: ERROR - fsolve does not work -  change x0\n",
      "mevd_quant:: ERROR - fsolve does not work -  change x0\n",
      "mevd_quant:: ERROR - fsolve does not work -  change x0\n",
      "mevd_quant:: ERROR - fsolve does not work -  change x0\n"
     ]
    },
    {
     "name": "stderr",
     "output_type": "stream",
     "text": [
      "/home/arturo/github/downpy/codes/downscale.py:1248: RuntimeWarning: invalid value encountered in power\n",
      "  mev0f = np.sum( ( 1-np.exp(-(y/C)**W ))**N) - nyears*pr\n",
      "/home/arturo/github/downpy/codes/downscale.py:1248: RuntimeWarning: invalid value encountered in power\n",
      "  mev0f = np.sum( ( 1-np.exp(-(y/C)**W ))**N) - nyears*pr\n",
      "/home/arturo/github/downpy/codes/downscale.py:1248: RuntimeWarning: invalid value encountered in power\n",
      "  mev0f = np.sum( ( 1-np.exp(-(y/C)**W ))**N) - nyears*pr\n",
      "/home/arturo/github/downpy/codes/downscale.py:1248: RuntimeWarning: invalid value encountered in power\n",
      "  mev0f = np.sum( ( 1-np.exp(-(y/C)**W ))**N) - nyears*pr\n",
      "/home/arturo/github/downpy/codes/downscale.py:1248: RuntimeWarning: invalid value encountered in power\n",
      "  mev0f = np.sum( ( 1-np.exp(-(y/C)**W ))**N) - nyears*pr\n",
      "/home/arturo/github/downpy/codes/downscale.py:1248: RuntimeWarning: invalid value encountered in power\n",
      "  mev0f = np.sum( ( 1-np.exp(-(y/C)**W ))**N) - nyears*pr\n",
      "/home/arturo/github/downpy/codes/downscale.py:1248: RuntimeWarning: invalid value encountered in power\n",
      "  mev0f = np.sum( ( 1-np.exp(-(y/C)**W ))**N) - nyears*pr\n"
     ]
    },
    {
     "name": "stdout",
     "output_type": "stream",
     "text": [
      "mevd_quant:: ERROR - fsolve does not work -  change x0\n",
      "mevd_quant:: ERROR - fsolve does not work -  change x0\n",
      "mevd_quant:: ERROR - fsolve does not work -  change x0\n",
      "mevd_quant:: ERROR - fsolve does not work -  change x0\n",
      "mevd_quant:: ERROR - fsolve does not work -  change x0\n",
      "mevd_quant:: ERROR - fsolve does not work -  change x0\n",
      "mevd_quant:: ERROR - fsolve does not work -  change x0\n",
      "mevd_quant:: ERROR - fsolve does not work -  change x0\n",
      "mevd_quant:: ERROR - fsolve does not work -  change x0\n",
      "mevd_quant:: ERROR - fsolve does not work -  change x0\n",
      "mevd_quant:: ERROR - fsolve does not work -  change x0\n",
      "mevd_quant:: ERROR - fsolve does not work -  change x0\n",
      "mevd_quant:: ERROR - fsolve does not work -  change x0\n",
      "mevd_quant:: ERROR - fsolve does not work -  change x0\n",
      "mevd_quant:: ERROR - fsolve does not work -  change x0\n",
      "mevd_quant:: ERROR - fsolve does not work -  change x0\n",
      "mevd_quant:: ERROR - fsolve does not work -  change x0\n",
      "mevd_quant:: ERROR - fsolve does not work -  change x0\n",
      "mevd_quant:: ERROR - fsolve does not work -  change x0\n"
     ]
    },
    {
     "name": "stderr",
     "output_type": "stream",
     "text": [
      "/home/arturo/github/downpy/codes/downscale.py:1248: RuntimeWarning: invalid value encountered in power\n",
      "  mev0f = np.sum( ( 1-np.exp(-(y/C)**W ))**N) - nyears*pr\n",
      "/home/arturo/github/downpy/codes/downscale.py:1248: RuntimeWarning: invalid value encountered in power\n",
      "  mev0f = np.sum( ( 1-np.exp(-(y/C)**W ))**N) - nyears*pr\n",
      "/home/arturo/github/downpy/codes/downscale.py:1248: RuntimeWarning: invalid value encountered in power\n",
      "  mev0f = np.sum( ( 1-np.exp(-(y/C)**W ))**N) - nyears*pr\n",
      "/home/arturo/github/downpy/codes/downscale.py:1248: RuntimeWarning: invalid value encountered in power\n",
      "  mev0f = np.sum( ( 1-np.exp(-(y/C)**W ))**N) - nyears*pr\n",
      "/home/arturo/github/downpy/codes/downscale.py:1248: RuntimeWarning: invalid value encountered in power\n",
      "  mev0f = np.sum( ( 1-np.exp(-(y/C)**W ))**N) - nyears*pr\n"
     ]
    },
    {
     "name": "stdout",
     "output_type": "stream",
     "text": [
      "28\n",
      "mevd_quant:: ERROR - fsolve does not work -  change x0\n",
      "mevd_quant:: ERROR - fsolve does not work -  change x0\n",
      "mevd_quant:: ERROR - fsolve does not work -  change x0\n",
      "mevd_quant:: ERROR - fsolve does not work -  change x0\n",
      "mevd_quant:: ERROR - fsolve does not work -  change x0\n",
      "mevd_quant:: ERROR - fsolve does not work -  change x0\n",
      "mevd_quant:: ERROR - fsolve does not work -  change x0\n",
      "mevd_quant:: ERROR - fsolve does not work -  change x0\n",
      "mevd_quant:: ERROR - fsolve does not work -  change x0\n",
      "mevd_quant:: ERROR - fsolve does not work -  change x0\n",
      "mevd_quant:: ERROR - fsolve does not work -  change x0\n",
      "mevd_quant:: ERROR - fsolve does not work -  change x0\n",
      "mevd_quant:: ERROR - fsolve does not work -  change x0\n",
      "mevd_quant:: ERROR - fsolve does not work -  change x0\n",
      "mevd_quant:: ERROR - fsolve does not work -  change x0\n",
      "mevd_quant:: ERROR - fsolve does not work -  change x0\n",
      "mevd_quant:: ERROR - fsolve does not work -  change x0\n",
      "mevd_quant:: ERROR - fsolve does not work -  change x0\n",
      "mevd_quant:: ERROR - fsolve does not work -  change x0\n",
      "mevd_quant:: ERROR - fsolve does not work -  change x0\n",
      "mevd_quant:: ERROR - fsolve does not work -  change x0\n",
      "mevd_quant:: ERROR - fsolve does not work -  change x0\n",
      "mevd_quant:: ERROR - fsolve does not work -  change x0\n",
      "mevd_quant:: ERROR - fsolve does not work -  change x0\n",
      "mevd_quant:: ERROR - fsolve does not work -  change x0\n",
      "mevd_quant:: ERROR - fsolve does not work -  change x0\n"
     ]
    },
    {
     "name": "stderr",
     "output_type": "stream",
     "text": [
      "/home/arturo/github/downpy/codes/downscale.py:1248: RuntimeWarning: invalid value encountered in power\n",
      "  mev0f = np.sum( ( 1-np.exp(-(y/C)**W ))**N) - nyears*pr\n",
      "/home/arturo/github/downpy/codes/downscale.py:1248: RuntimeWarning: invalid value encountered in power\n",
      "  mev0f = np.sum( ( 1-np.exp(-(y/C)**W ))**N) - nyears*pr\n",
      "/home/arturo/github/downpy/codes/downscale.py:1248: RuntimeWarning: invalid value encountered in power\n",
      "  mev0f = np.sum( ( 1-np.exp(-(y/C)**W ))**N) - nyears*pr\n",
      "/home/arturo/github/downpy/codes/downscale.py:1248: RuntimeWarning: invalid value encountered in power\n",
      "  mev0f = np.sum( ( 1-np.exp(-(y/C)**W ))**N) - nyears*pr\n",
      "/home/arturo/github/downpy/codes/downscale.py:1248: RuntimeWarning: invalid value encountered in power\n",
      "  mev0f = np.sum( ( 1-np.exp(-(y/C)**W ))**N) - nyears*pr\n",
      "/home/arturo/github/downpy/codes/downscale.py:1248: RuntimeWarning: invalid value encountered in power\n",
      "  mev0f = np.sum( ( 1-np.exp(-(y/C)**W ))**N) - nyears*pr\n",
      "/home/arturo/github/downpy/codes/downscale.py:1248: RuntimeWarning: invalid value encountered in power\n",
      "  mev0f = np.sum( ( 1-np.exp(-(y/C)**W ))**N) - nyears*pr\n",
      "/home/arturo/github/downpy/codes/downscale.py:1248: RuntimeWarning: invalid value encountered in power\n",
      "  mev0f = np.sum( ( 1-np.exp(-(y/C)**W ))**N) - nyears*pr\n",
      "/home/arturo/github/downpy/codes/downscale.py:1248: RuntimeWarning: invalid value encountered in power\n",
      "  mev0f = np.sum( ( 1-np.exp(-(y/C)**W ))**N) - nyears*pr\n",
      "/home/arturo/github/downpy/codes/downscale.py:1248: RuntimeWarning: invalid value encountered in power\n",
      "  mev0f = np.sum( ( 1-np.exp(-(y/C)**W ))**N) - nyears*pr\n",
      "/home/arturo/github/downpy/codes/downscale.py:1248: RuntimeWarning: invalid value encountered in power\n",
      "  mev0f = np.sum( ( 1-np.exp(-(y/C)**W ))**N) - nyears*pr\n",
      "/home/arturo/github/downpy/codes/downscale.py:1248: RuntimeWarning: invalid value encountered in power\n",
      "  mev0f = np.sum( ( 1-np.exp(-(y/C)**W ))**N) - nyears*pr\n",
      "/home/arturo/github/downpy/codes/downscale.py:1248: RuntimeWarning: invalid value encountered in power\n",
      "  mev0f = np.sum( ( 1-np.exp(-(y/C)**W ))**N) - nyears*pr\n"
     ]
    },
    {
     "name": "stdout",
     "output_type": "stream",
     "text": [
      "mevd_quant:: ERROR - fsolve does not work -  change x0\n",
      "mevd_quant:: ERROR - fsolve does not work -  change x0\n",
      "mevd_quant:: ERROR - fsolve does not work -  change x0\n",
      "mevd_quant:: ERROR - fsolve does not work -  change x0\n",
      "mevd_quant:: ERROR - fsolve does not work -  change x0\n",
      "mevd_quant:: ERROR - fsolve does not work -  change x0\n",
      "mevd_quant:: ERROR - fsolve does not work -  change x0\n",
      "mevd_quant:: ERROR - fsolve does not work -  change x0\n",
      "mevd_quant:: ERROR - fsolve does not work -  change x0\n",
      "mevd_quant:: ERROR - fsolve does not work -  change x0\n",
      "mevd_quant:: ERROR - fsolve does not work -  change x0\n",
      "mevd_quant:: ERROR - fsolve does not work -  change x0\n",
      "mevd_quant:: ERROR - fsolve does not work -  change x0\n",
      "mevd_quant:: ERROR - fsolve does not work -  change x0\n",
      "mevd_quant:: ERROR - fsolve does not work -  change x0\n",
      "mevd_quant:: ERROR - fsolve does not work -  change x0\n",
      "mevd_quant:: ERROR - fsolve does not work -  change x0\n",
      "mevd_quant:: ERROR - fsolve does not work -  change x0\n",
      "mevd_quant:: ERROR - fsolve does not work -  change x0\n",
      "mevd_quant:: ERROR - fsolve does not work -  change x0\n",
      "mevd_quant:: ERROR - fsolve does not work -  change x0\n",
      "mevd_quant:: ERROR - fsolve does not work -  change x0\n"
     ]
    },
    {
     "name": "stderr",
     "output_type": "stream",
     "text": [
      "/home/arturo/github/downpy/codes/downscale.py:1248: RuntimeWarning: invalid value encountered in power\n",
      "  mev0f = np.sum( ( 1-np.exp(-(y/C)**W ))**N) - nyears*pr\n",
      "/home/arturo/github/downpy/codes/downscale.py:1248: RuntimeWarning: invalid value encountered in power\n",
      "  mev0f = np.sum( ( 1-np.exp(-(y/C)**W ))**N) - nyears*pr\n",
      "/home/arturo/github/downpy/codes/downscale.py:1248: RuntimeWarning: invalid value encountered in power\n",
      "  mev0f = np.sum( ( 1-np.exp(-(y/C)**W ))**N) - nyears*pr\n",
      "/home/arturo/github/downpy/codes/downscale.py:1248: RuntimeWarning: invalid value encountered in power\n",
      "  mev0f = np.sum( ( 1-np.exp(-(y/C)**W ))**N) - nyears*pr\n"
     ]
    },
    {
     "name": "stdout",
     "output_type": "stream",
     "text": [
      "mevd_quant:: ERROR - fsolve does not work -  change x0\n",
      "mevd_quant:: ERROR - fsolve does not work -  change x0\n",
      "mevd_quant:: ERROR - fsolve does not work -  change x0\n",
      "mevd_quant:: ERROR - fsolve does not work -  change x0\n"
     ]
    },
    {
     "name": "stderr",
     "output_type": "stream",
     "text": [
      "/home/arturo/github/downpy/codes/downscale.py:1248: RuntimeWarning: invalid value encountered in power\n",
      "  mev0f = np.sum( ( 1-np.exp(-(y/C)**W ))**N) - nyears*pr\n",
      "/home/arturo/github/downpy/codes/downscale.py:1248: RuntimeWarning: invalid value encountered in power\n",
      "  mev0f = np.sum( ( 1-np.exp(-(y/C)**W ))**N) - nyears*pr\n",
      "/home/arturo/github/downpy/codes/downscale.py:1248: RuntimeWarning: invalid value encountered in power\n",
      "  mev0f = np.sum( ( 1-np.exp(-(y/C)**W ))**N) - nyears*pr\n"
     ]
    },
    {
     "name": "stdout",
     "output_type": "stream",
     "text": [
      "mevd_quant:: ERROR - fsolve does not work -  change x0\n",
      "mevd_quant:: ERROR - fsolve does not work -  change x0\n",
      "mevd_quant:: ERROR - fsolve does not work -  change x0\n"
     ]
    },
    {
     "name": "stderr",
     "output_type": "stream",
     "text": [
      "/home/arturo/github/downpy/codes/downscale.py:1248: RuntimeWarning: invalid value encountered in power\n",
      "  mev0f = np.sum( ( 1-np.exp(-(y/C)**W ))**N) - nyears*pr\n"
     ]
    },
    {
     "name": "stdout",
     "output_type": "stream",
     "text": [
      "mevd_quant:: ERROR - fsolve does not work -  change x0\n",
      "mevd_quant:: ERROR - fsolve does not work -  change x0\n",
      "mevd_quant:: ERROR - fsolve does not work -  change x0\n",
      "29\n",
      "mevd_quant:: ERROR - fsolve does not work -  change x0\n",
      "mevd_quant:: ERROR - fsolve does not work -  change x0\n",
      "mevd_quant:: ERROR - fsolve does not work -  change x0\n",
      "mevd_quant:: ERROR - fsolve does not work -  change x0\n",
      "mevd_quant:: ERROR - fsolve does not work -  change x0\n",
      "mevd_quant:: ERROR - fsolve does not work -  change x0\n",
      "mevd_quant:: ERROR - fsolve does not work -  change x0\n",
      "mevd_quant:: ERROR - fsolve does not work -  change x0\n",
      "mevd_quant:: ERROR - fsolve does not work -  change x0\n",
      "mevd_quant:: ERROR - fsolve does not work -  change x0\n",
      "mevd_quant:: ERROR - fsolve does not work -  change x0\n",
      "mevd_quant:: ERROR - fsolve does not work -  change x0\n",
      "mevd_quant:: ERROR - fsolve does not work -  change x0\n",
      "mevd_quant:: ERROR - fsolve does not work -  change x0\n",
      "mevd_quant:: ERROR - fsolve does not work -  change x0\n",
      "mevd_quant:: ERROR - fsolve does not work -  change x0\n",
      "mevd_quant:: ERROR - fsolve does not work -  change x0\n",
      "mevd_quant:: ERROR - fsolve does not work -  change x0\n",
      "mevd_quant:: ERROR - fsolve does not work -  change x0\n",
      "mevd_quant:: ERROR - fsolve does not work -  change x0\n",
      "mevd_quant:: ERROR - fsolve does not work -  change x0\n",
      "mevd_quant:: ERROR - fsolve does not work -  change x0\n",
      "mevd_quant:: ERROR - fsolve does not work -  change x0\n",
      "mevd_quant:: ERROR - fsolve does not work -  change x0\n",
      "mevd_quant:: ERROR - fsolve does not work -  change x0\n",
      "mevd_quant:: ERROR - fsolve does not work -  change x0\n"
     ]
    },
    {
     "name": "stderr",
     "output_type": "stream",
     "text": [
      "/home/arturo/github/downpy/codes/downscale.py:1248: RuntimeWarning: invalid value encountered in power\n",
      "  mev0f = np.sum( ( 1-np.exp(-(y/C)**W ))**N) - nyears*pr\n",
      "/home/arturo/github/downpy/codes/downscale.py:1248: RuntimeWarning: invalid value encountered in power\n",
      "  mev0f = np.sum( ( 1-np.exp(-(y/C)**W ))**N) - nyears*pr\n",
      "/home/arturo/github/downpy/codes/downscale.py:1248: RuntimeWarning: invalid value encountered in power\n",
      "  mev0f = np.sum( ( 1-np.exp(-(y/C)**W ))**N) - nyears*pr\n",
      "/home/arturo/github/downpy/codes/downscale.py:1248: RuntimeWarning: invalid value encountered in power\n",
      "  mev0f = np.sum( ( 1-np.exp(-(y/C)**W ))**N) - nyears*pr\n",
      "/home/arturo/github/downpy/codes/downscale.py:1248: RuntimeWarning: invalid value encountered in power\n",
      "  mev0f = np.sum( ( 1-np.exp(-(y/C)**W ))**N) - nyears*pr\n",
      "/home/arturo/github/downpy/codes/downscale.py:1248: RuntimeWarning: invalid value encountered in power\n",
      "  mev0f = np.sum( ( 1-np.exp(-(y/C)**W ))**N) - nyears*pr\n",
      "/home/arturo/github/downpy/codes/downscale.py:1248: RuntimeWarning: invalid value encountered in power\n",
      "  mev0f = np.sum( ( 1-np.exp(-(y/C)**W ))**N) - nyears*pr\n",
      "/home/arturo/github/downpy/codes/downscale.py:1248: RuntimeWarning: invalid value encountered in power\n",
      "  mev0f = np.sum( ( 1-np.exp(-(y/C)**W ))**N) - nyears*pr\n",
      "/home/arturo/github/downpy/codes/downscale.py:1248: RuntimeWarning: invalid value encountered in power\n",
      "  mev0f = np.sum( ( 1-np.exp(-(y/C)**W ))**N) - nyears*pr\n",
      "/home/arturo/github/downpy/codes/downscale.py:1248: RuntimeWarning: invalid value encountered in power\n",
      "  mev0f = np.sum( ( 1-np.exp(-(y/C)**W ))**N) - nyears*pr\n",
      "/home/arturo/github/downpy/codes/downscale.py:1248: RuntimeWarning: invalid value encountered in power\n",
      "  mev0f = np.sum( ( 1-np.exp(-(y/C)**W ))**N) - nyears*pr\n"
     ]
    },
    {
     "name": "stdout",
     "output_type": "stream",
     "text": [
      "mevd_quant:: ERROR - fsolve does not work -  change x0\n",
      "mevd_quant:: ERROR - fsolve does not work -  change x0\n",
      "mevd_quant:: ERROR - fsolve does not work -  change x0\n",
      "mevd_quant:: ERROR - fsolve does not work -  change x0\n",
      "mevd_quant:: ERROR - fsolve does not work -  change x0\n",
      "mevd_quant:: ERROR - fsolve does not work -  change x0\n",
      "mevd_quant:: ERROR - fsolve does not work -  change x0\n",
      "mevd_quant:: ERROR - fsolve does not work -  change x0\n",
      "mevd_quant:: ERROR - fsolve does not work -  change x0\n",
      "mevd_quant:: ERROR - fsolve does not work -  change x0\n",
      "mevd_quant:: ERROR - fsolve does not work -  change x0\n",
      "mevd_quant:: ERROR - fsolve does not work -  change x0\n"
     ]
    },
    {
     "name": "stderr",
     "output_type": "stream",
     "text": [
      "/home/arturo/github/downpy/codes/downscale.py:1248: RuntimeWarning: invalid value encountered in power\n",
      "  mev0f = np.sum( ( 1-np.exp(-(y/C)**W ))**N) - nyears*pr\n",
      "/home/arturo/github/downpy/codes/downscale.py:1248: RuntimeWarning: invalid value encountered in power\n",
      "  mev0f = np.sum( ( 1-np.exp(-(y/C)**W ))**N) - nyears*pr\n",
      "/home/arturo/github/downpy/codes/downscale.py:1248: RuntimeWarning: invalid value encountered in power\n",
      "  mev0f = np.sum( ( 1-np.exp(-(y/C)**W ))**N) - nyears*pr\n",
      "/home/arturo/github/downpy/codes/downscale.py:1248: RuntimeWarning: invalid value encountered in power\n",
      "  mev0f = np.sum( ( 1-np.exp(-(y/C)**W ))**N) - nyears*pr\n"
     ]
    },
    {
     "name": "stdout",
     "output_type": "stream",
     "text": [
      "mevd_quant:: ERROR - fsolve does not work -  change x0\n",
      "mevd_quant:: ERROR - fsolve does not work -  change x0\n"
     ]
    },
    {
     "name": "stderr",
     "output_type": "stream",
     "text": [
      "/home/arturo/github/downpy/codes/downscale.py:1248: RuntimeWarning: invalid value encountered in power\n",
      "  mev0f = np.sum( ( 1-np.exp(-(y/C)**W ))**N) - nyears*pr\n",
      "/home/arturo/github/downpy/codes/downscale.py:1248: RuntimeWarning: invalid value encountered in power\n",
      "  mev0f = np.sum( ( 1-np.exp(-(y/C)**W ))**N) - nyears*pr\n",
      "/home/arturo/github/downpy/codes/downscale.py:1248: RuntimeWarning: invalid value encountered in power\n",
      "  mev0f = np.sum( ( 1-np.exp(-(y/C)**W ))**N) - nyears*pr\n",
      "/home/arturo/github/downpy/codes/downscale.py:1248: RuntimeWarning: invalid value encountered in power\n",
      "  mev0f = np.sum( ( 1-np.exp(-(y/C)**W ))**N) - nyears*pr\n",
      "/home/arturo/github/downpy/codes/downscale.py:1248: RuntimeWarning: invalid value encountered in power\n",
      "  mev0f = np.sum( ( 1-np.exp(-(y/C)**W ))**N) - nyears*pr\n",
      "/home/arturo/github/downpy/codes/downscale.py:1248: RuntimeWarning: invalid value encountered in power\n",
      "  mev0f = np.sum( ( 1-np.exp(-(y/C)**W ))**N) - nyears*pr\n"
     ]
    },
    {
     "name": "stdout",
     "output_type": "stream",
     "text": [
      "mevd_quant:: ERROR - fsolve does not work -  change x0\n",
      "mevd_quant:: ERROR - fsolve does not work -  change x0\n",
      "mevd_quant:: ERROR - fsolve does not work -  change x0\n",
      "mevd_quant:: ERROR - fsolve does not work -  change x0\n",
      "mevd_quant:: ERROR - fsolve does not work -  change x0\n",
      "mevd_quant:: ERROR - fsolve does not work -  change x0\n",
      "mevd_quant:: ERROR - fsolve does not work -  change x0\n",
      "mevd_quant:: ERROR - fsolve does not work -  change x0\n",
      "mevd_quant:: ERROR - fsolve does not work -  change x0\n",
      "mevd_quant:: ERROR - fsolve does not work -  change x0\n",
      "mevd_quant:: ERROR - fsolve does not work -  change x0\n",
      "mevd_quant:: ERROR - fsolve does not work -  change x0\n",
      "mevd_quant:: ERROR - fsolve does not work -  change x0\n",
      "mevd_quant:: ERROR - fsolve does not work -  change x0\n",
      "mevd_quant:: ERROR - fsolve does not work -  change x0\n",
      "30\n",
      "mevd_quant:: ERROR - fsolve does not work -  change x0\n",
      "mevd_quant:: ERROR - fsolve does not work -  change x0\n",
      "mevd_quant:: ERROR - fsolve does not work -  change x0\n",
      "mevd_quant:: ERROR - fsolve does not work -  change x0\n",
      "mevd_quant:: ERROR - fsolve does not work -  change x0\n",
      "mevd_quant:: ERROR - fsolve does not work -  change x0\n",
      "mevd_quant:: ERROR - fsolve does not work -  change x0\n",
      "mevd_quant:: ERROR - fsolve does not work -  change x0\n",
      "mevd_quant:: ERROR - fsolve does not work -  change x0\n",
      "mevd_quant:: ERROR - fsolve does not work -  change x0\n",
      "mevd_quant:: ERROR - fsolve does not work -  change x0\n",
      "mevd_quant:: ERROR - fsolve does not work -  change x0\n"
     ]
    },
    {
     "name": "stderr",
     "output_type": "stream",
     "text": [
      "/home/arturo/github/downpy/codes/downscale.py:1248: RuntimeWarning: invalid value encountered in power\n",
      "  mev0f = np.sum( ( 1-np.exp(-(y/C)**W ))**N) - nyears*pr\n",
      "/home/arturo/github/downpy/codes/downscale.py:1248: RuntimeWarning: invalid value encountered in power\n",
      "  mev0f = np.sum( ( 1-np.exp(-(y/C)**W ))**N) - nyears*pr\n",
      "/home/arturo/github/downpy/codes/downscale.py:1248: RuntimeWarning: invalid value encountered in power\n",
      "  mev0f = np.sum( ( 1-np.exp(-(y/C)**W ))**N) - nyears*pr\n",
      "/home/arturo/github/downpy/codes/downscale.py:1248: RuntimeWarning: invalid value encountered in power\n",
      "  mev0f = np.sum( ( 1-np.exp(-(y/C)**W ))**N) - nyears*pr\n",
      "/home/arturo/github/downpy/codes/downscale.py:1248: RuntimeWarning: invalid value encountered in power\n",
      "  mev0f = np.sum( ( 1-np.exp(-(y/C)**W ))**N) - nyears*pr\n",
      "/home/arturo/github/downpy/codes/downscale.py:1248: RuntimeWarning: invalid value encountered in power\n",
      "  mev0f = np.sum( ( 1-np.exp(-(y/C)**W ))**N) - nyears*pr\n",
      "/home/arturo/github/downpy/codes/downscale.py:1248: RuntimeWarning: invalid value encountered in power\n",
      "  mev0f = np.sum( ( 1-np.exp(-(y/C)**W ))**N) - nyears*pr\n",
      "/home/arturo/github/downpy/codes/downscale.py:1248: RuntimeWarning: invalid value encountered in power\n",
      "  mev0f = np.sum( ( 1-np.exp(-(y/C)**W ))**N) - nyears*pr\n",
      "/home/arturo/github/downpy/codes/downscale.py:1248: RuntimeWarning: invalid value encountered in power\n",
      "  mev0f = np.sum( ( 1-np.exp(-(y/C)**W ))**N) - nyears*pr\n"
     ]
    },
    {
     "name": "stdout",
     "output_type": "stream",
     "text": [
      "mevd_quant:: ERROR - fsolve does not work -  change x0\n",
      "mevd_quant:: ERROR - fsolve does not work -  change x0\n",
      "mevd_quant:: ERROR - fsolve does not work -  change x0\n",
      "mevd_quant:: ERROR - fsolve does not work -  change x0\n",
      "mevd_quant:: ERROR - fsolve does not work -  change x0\n",
      "mevd_quant:: ERROR - fsolve does not work -  change x0\n",
      "mevd_quant:: ERROR - fsolve does not work -  change x0\n",
      "mevd_quant:: ERROR - fsolve does not work -  change x0\n",
      "mevd_quant:: ERROR - fsolve does not work -  change x0\n",
      "mevd_quant:: ERROR - fsolve does not work -  change x0\n",
      "mevd_quant:: ERROR - fsolve does not work -  change x0\n",
      "mevd_quant:: ERROR - fsolve does not work -  change x0\n",
      "mevd_quant:: ERROR - fsolve does not work -  change x0\n",
      "mevd_quant:: ERROR - fsolve does not work -  change x0\n",
      "mevd_quant:: ERROR - fsolve does not work -  change x0\n",
      "mevd_quant:: ERROR - fsolve does not work -  change x0\n",
      "mevd_quant:: ERROR - fsolve does not work -  change x0\n",
      "mevd_quant:: ERROR - fsolve does not work -  change x0\n"
     ]
    },
    {
     "name": "stderr",
     "output_type": "stream",
     "text": [
      "/home/arturo/github/downpy/codes/downscale.py:1248: RuntimeWarning: invalid value encountered in power\n",
      "  mev0f = np.sum( ( 1-np.exp(-(y/C)**W ))**N) - nyears*pr\n",
      "/home/arturo/github/downpy/codes/downscale.py:1248: RuntimeWarning: invalid value encountered in power\n",
      "  mev0f = np.sum( ( 1-np.exp(-(y/C)**W ))**N) - nyears*pr\n",
      "/home/arturo/github/downpy/codes/downscale.py:1248: RuntimeWarning: invalid value encountered in power\n",
      "  mev0f = np.sum( ( 1-np.exp(-(y/C)**W ))**N) - nyears*pr\n",
      "/home/arturo/github/downpy/codes/downscale.py:1248: RuntimeWarning: invalid value encountered in power\n",
      "  mev0f = np.sum( ( 1-np.exp(-(y/C)**W ))**N) - nyears*pr\n"
     ]
    },
    {
     "name": "stdout",
     "output_type": "stream",
     "text": [
      "mevd_quant:: ERROR - fsolve does not work -  change x0\n",
      "mevd_quant:: ERROR - fsolve does not work -  change x0\n",
      "mevd_quant:: ERROR - fsolve does not work -  change x0\n",
      "mevd_quant:: ERROR - fsolve does not work -  change x0\n",
      "mevd_quant:: ERROR - fsolve does not work -  change x0\n",
      "mevd_quant:: ERROR - fsolve does not work -  change x0\n",
      "mevd_quant:: ERROR - fsolve does not work -  change x0\n"
     ]
    },
    {
     "name": "stderr",
     "output_type": "stream",
     "text": [
      "/home/arturo/github/downpy/codes/downscale.py:1248: RuntimeWarning: invalid value encountered in power\n",
      "  mev0f = np.sum( ( 1-np.exp(-(y/C)**W ))**N) - nyears*pr\n",
      "/home/arturo/github/downpy/codes/downscale.py:1248: RuntimeWarning: invalid value encountered in power\n",
      "  mev0f = np.sum( ( 1-np.exp(-(y/C)**W ))**N) - nyears*pr\n"
     ]
    },
    {
     "name": "stdout",
     "output_type": "stream",
     "text": [
      "mevd_quant:: ERROR - fsolve does not work -  change x0\n",
      "mevd_quant:: ERROR - fsolve does not work -  change x0\n",
      "mevd_quant:: ERROR - fsolve does not work -  change x0\n",
      "mevd_quant:: ERROR - fsolve does not work -  change x0\n",
      "mevd_quant:: ERROR - fsolve does not work -  change x0\n",
      "mevd_quant:: ERROR - fsolve does not work -  change x0\n",
      "31\n",
      "mevd_quant:: ERROR - fsolve does not work -  change x0\n",
      "mevd_quant:: ERROR - fsolve does not work -  change x0\n",
      "mevd_quant:: ERROR - fsolve does not work -  change x0\n",
      "mevd_quant:: ERROR - fsolve does not work -  change x0\n",
      "mevd_quant:: ERROR - fsolve does not work -  change x0\n",
      "mevd_quant:: ERROR - fsolve does not work -  change x0\n",
      "mevd_quant:: ERROR - fsolve does not work -  change x0\n",
      "mevd_quant:: ERROR - fsolve does not work -  change x0\n",
      "mevd_quant:: ERROR - fsolve does not work -  change x0\n",
      "mevd_quant:: ERROR - fsolve does not work -  change x0\n",
      "mevd_quant:: ERROR - fsolve does not work -  change x0\n",
      "mevd_quant:: ERROR - fsolve does not work -  change x0\n",
      "mevd_quant:: ERROR - fsolve does not work -  change x0\n"
     ]
    },
    {
     "name": "stderr",
     "output_type": "stream",
     "text": [
      "/home/arturo/github/downpy/codes/downscale.py:1248: RuntimeWarning: invalid value encountered in power\n",
      "  mev0f = np.sum( ( 1-np.exp(-(y/C)**W ))**N) - nyears*pr\n",
      "/home/arturo/github/downpy/codes/downscale.py:1248: RuntimeWarning: invalid value encountered in power\n",
      "  mev0f = np.sum( ( 1-np.exp(-(y/C)**W ))**N) - nyears*pr\n",
      "/home/arturo/github/downpy/codes/downscale.py:1248: RuntimeWarning: invalid value encountered in power\n",
      "  mev0f = np.sum( ( 1-np.exp(-(y/C)**W ))**N) - nyears*pr\n",
      "/home/arturo/github/downpy/codes/downscale.py:1248: RuntimeWarning: invalid value encountered in power\n",
      "  mev0f = np.sum( ( 1-np.exp(-(y/C)**W ))**N) - nyears*pr\n",
      "/home/arturo/github/downpy/codes/downscale.py:1248: RuntimeWarning: invalid value encountered in power\n",
      "  mev0f = np.sum( ( 1-np.exp(-(y/C)**W ))**N) - nyears*pr\n"
     ]
    },
    {
     "name": "stdout",
     "output_type": "stream",
     "text": [
      "mevd_quant:: ERROR - fsolve does not work -  change x0\n",
      "mevd_quant:: ERROR - fsolve does not work -  change x0\n",
      "mevd_quant:: ERROR - fsolve does not work -  change x0\n",
      "mevd_quant:: ERROR - fsolve does not work -  change x0\n",
      "mevd_quant:: ERROR - fsolve does not work -  change x0\n",
      "mevd_quant:: ERROR - fsolve does not work -  change x0\n",
      "mevd_quant:: ERROR - fsolve does not work -  change x0\n",
      "mevd_quant:: ERROR - fsolve does not work -  change x0\n"
     ]
    },
    {
     "name": "stderr",
     "output_type": "stream",
     "text": [
      "/home/arturo/github/downpy/codes/downscale.py:1248: RuntimeWarning: invalid value encountered in power\n",
      "  mev0f = np.sum( ( 1-np.exp(-(y/C)**W ))**N) - nyears*pr\n",
      "/home/arturo/github/downpy/codes/downscale.py:1248: RuntimeWarning: invalid value encountered in power\n",
      "  mev0f = np.sum( ( 1-np.exp(-(y/C)**W ))**N) - nyears*pr\n",
      "/home/arturo/github/downpy/codes/downscale.py:1248: RuntimeWarning: invalid value encountered in power\n",
      "  mev0f = np.sum( ( 1-np.exp(-(y/C)**W ))**N) - nyears*pr\n",
      "/home/arturo/github/downpy/codes/downscale.py:1248: RuntimeWarning: invalid value encountered in power\n",
      "  mev0f = np.sum( ( 1-np.exp(-(y/C)**W ))**N) - nyears*pr\n",
      "/home/arturo/github/downpy/codes/downscale.py:1248: RuntimeWarning: invalid value encountered in power\n",
      "  mev0f = np.sum( ( 1-np.exp(-(y/C)**W ))**N) - nyears*pr\n",
      "/home/arturo/github/downpy/codes/downscale.py:1248: RuntimeWarning: invalid value encountered in power\n",
      "  mev0f = np.sum( ( 1-np.exp(-(y/C)**W ))**N) - nyears*pr\n"
     ]
    },
    {
     "name": "stdout",
     "output_type": "stream",
     "text": [
      "mevd_quant:: ERROR - fsolve does not work -  change x0\n",
      "mevd_quant:: ERROR - fsolve does not work -  change x0\n",
      "mevd_quant:: ERROR - fsolve does not work -  change x0\n",
      "mevd_quant:: ERROR - fsolve does not work -  change x0\n",
      "mevd_quant:: ERROR - fsolve does not work -  change x0\n",
      "mevd_quant:: ERROR - fsolve does not work -  change x0\n"
     ]
    },
    {
     "name": "stderr",
     "output_type": "stream",
     "text": [
      "/home/arturo/github/downpy/codes/downscale.py:1248: RuntimeWarning: invalid value encountered in power\n",
      "  mev0f = np.sum( ( 1-np.exp(-(y/C)**W ))**N) - nyears*pr\n",
      "/home/arturo/github/downpy/codes/downscale.py:1248: RuntimeWarning: invalid value encountered in power\n",
      "  mev0f = np.sum( ( 1-np.exp(-(y/C)**W ))**N) - nyears*pr\n",
      "/home/arturo/github/downpy/codes/downscale.py:1248: RuntimeWarning: invalid value encountered in power\n",
      "  mev0f = np.sum( ( 1-np.exp(-(y/C)**W ))**N) - nyears*pr\n",
      "/home/arturo/github/downpy/codes/downscale.py:1248: RuntimeWarning: invalid value encountered in power\n",
      "  mev0f = np.sum( ( 1-np.exp(-(y/C)**W ))**N) - nyears*pr\n"
     ]
    },
    {
     "name": "stdout",
     "output_type": "stream",
     "text": [
      "mevd_quant:: ERROR - fsolve does not work -  change x0\n",
      "mevd_quant:: ERROR - fsolve does not work -  change x0\n",
      "mevd_quant:: ERROR - fsolve does not work -  change x0\n",
      "mevd_quant:: ERROR - fsolve does not work -  change x0\n",
      "mevd_quant:: ERROR - fsolve does not work -  change x0\n",
      "mevd_quant:: ERROR - fsolve does not work -  change x0\n",
      "mevd_quant:: ERROR - fsolve does not work -  change x0\n",
      "mevd_quant:: ERROR - fsolve does not work -  change x0\n",
      "mevd_quant:: ERROR - fsolve does not work -  change x0\n"
     ]
    },
    {
     "name": "stderr",
     "output_type": "stream",
     "text": [
      "/home/arturo/github/downpy/codes/downscale.py:1248: RuntimeWarning: invalid value encountered in power\n",
      "  mev0f = np.sum( ( 1-np.exp(-(y/C)**W ))**N) - nyears*pr\n",
      "/home/arturo/github/downpy/codes/downscale.py:1248: RuntimeWarning: invalid value encountered in power\n",
      "  mev0f = np.sum( ( 1-np.exp(-(y/C)**W ))**N) - nyears*pr\n",
      "/home/arturo/github/downpy/codes/downscale.py:1248: RuntimeWarning: invalid value encountered in power\n",
      "  mev0f = np.sum( ( 1-np.exp(-(y/C)**W ))**N) - nyears*pr\n",
      "/home/arturo/github/downpy/codes/downscale.py:1248: RuntimeWarning: invalid value encountered in power\n",
      "  mev0f = np.sum( ( 1-np.exp(-(y/C)**W ))**N) - nyears*pr\n"
     ]
    },
    {
     "name": "stdout",
     "output_type": "stream",
     "text": [
      "mevd_quant:: ERROR - fsolve does not work -  change x0\n",
      "mevd_quant:: ERROR - fsolve does not work -  change x0\n",
      "mevd_quant:: ERROR - fsolve does not work -  change x0\n",
      "mevd_quant:: ERROR - fsolve does not work -  change x0\n",
      "mevd_quant:: ERROR - fsolve does not work -  change x0\n",
      "mevd_quant:: ERROR - fsolve does not work -  change x0\n",
      "mevd_quant:: ERROR - fsolve does not work -  change x0\n",
      "32\n"
     ]
    },
    {
     "name": "stderr",
     "output_type": "stream",
     "text": [
      "/home/arturo/github/downpy/codes/downscale.py:1248: RuntimeWarning: invalid value encountered in power\n",
      "  mev0f = np.sum( ( 1-np.exp(-(y/C)**W ))**N) - nyears*pr\n",
      "/home/arturo/github/downpy/codes/downscale.py:1248: RuntimeWarning: invalid value encountered in power\n",
      "  mev0f = np.sum( ( 1-np.exp(-(y/C)**W ))**N) - nyears*pr\n",
      "/home/arturo/github/downpy/codes/downscale.py:1248: RuntimeWarning: invalid value encountered in power\n",
      "  mev0f = np.sum( ( 1-np.exp(-(y/C)**W ))**N) - nyears*pr\n",
      "/home/arturo/github/downpy/codes/downscale.py:1248: RuntimeWarning: invalid value encountered in power\n",
      "  mev0f = np.sum( ( 1-np.exp(-(y/C)**W ))**N) - nyears*pr\n",
      "/home/arturo/github/downpy/codes/downscale.py:1248: RuntimeWarning: invalid value encountered in power\n",
      "  mev0f = np.sum( ( 1-np.exp(-(y/C)**W ))**N) - nyears*pr\n",
      "/home/arturo/github/downpy/codes/downscale.py:1248: RuntimeWarning: invalid value encountered in power\n",
      "  mev0f = np.sum( ( 1-np.exp(-(y/C)**W ))**N) - nyears*pr\n"
     ]
    },
    {
     "name": "stdout",
     "output_type": "stream",
     "text": [
      "mevd_quant:: ERROR - fsolve does not work -  change x0\n",
      "mevd_quant:: ERROR - fsolve does not work -  change x0\n",
      "mevd_quant:: ERROR - fsolve does not work -  change x0\n",
      "mevd_quant:: ERROR - fsolve does not work -  change x0\n",
      "mevd_quant:: ERROR - fsolve does not work -  change x0\n",
      "mevd_quant:: ERROR - fsolve does not work -  change x0\n",
      "mevd_quant:: ERROR - fsolve does not work -  change x0\n",
      "mevd_quant:: ERROR - fsolve does not work -  change x0\n",
      "mevd_quant:: ERROR - fsolve does not work -  change x0\n",
      "mevd_quant:: ERROR - fsolve does not work -  change x0\n",
      "mevd_quant:: ERROR - fsolve does not work -  change x0\n",
      "mevd_quant:: ERROR - fsolve does not work -  change x0\n",
      "mevd_quant:: ERROR - fsolve does not work -  change x0\n",
      "mevd_quant:: ERROR - fsolve does not work -  change x0\n",
      "mevd_quant:: ERROR - fsolve does not work -  change x0\n",
      "mevd_quant:: ERROR - fsolve does not work -  change x0\n",
      "mevd_quant:: ERROR - fsolve does not work -  change x0\n",
      "mevd_quant:: ERROR - fsolve does not work -  change x0\n",
      "mevd_quant:: ERROR - fsolve does not work -  change x0\n",
      "mevd_quant:: ERROR - fsolve does not work -  change x0\n",
      "mevd_quant:: ERROR - fsolve does not work -  change x0\n",
      "mevd_quant:: ERROR - fsolve does not work -  change x0\n",
      "mevd_quant:: ERROR - fsolve does not work -  change x0\n"
     ]
    },
    {
     "name": "stderr",
     "output_type": "stream",
     "text": [
      "/home/arturo/github/downpy/codes/downscale.py:1248: RuntimeWarning: invalid value encountered in power\n",
      "  mev0f = np.sum( ( 1-np.exp(-(y/C)**W ))**N) - nyears*pr\n",
      "/home/arturo/github/downpy/codes/downscale.py:1248: RuntimeWarning: invalid value encountered in power\n",
      "  mev0f = np.sum( ( 1-np.exp(-(y/C)**W ))**N) - nyears*pr\n",
      "/home/arturo/github/downpy/codes/downscale.py:1248: RuntimeWarning: invalid value encountered in power\n",
      "  mev0f = np.sum( ( 1-np.exp(-(y/C)**W ))**N) - nyears*pr\n",
      "/home/arturo/github/downpy/codes/downscale.py:1248: RuntimeWarning: invalid value encountered in power\n",
      "  mev0f = np.sum( ( 1-np.exp(-(y/C)**W ))**N) - nyears*pr\n"
     ]
    },
    {
     "name": "stdout",
     "output_type": "stream",
     "text": [
      "mevd_quant:: ERROR - fsolve does not work -  change x0\n",
      "mevd_quant:: ERROR - fsolve does not work -  change x0\n",
      "mevd_quant:: ERROR - fsolve does not work -  change x0\n",
      "mevd_quant:: ERROR - fsolve does not work -  change x0\n",
      "mevd_quant:: ERROR - fsolve does not work -  change x0\n",
      "mevd_quant:: ERROR - fsolve does not work -  change x0\n"
     ]
    },
    {
     "name": "stderr",
     "output_type": "stream",
     "text": [
      "/home/arturo/github/downpy/codes/downscale.py:1248: RuntimeWarning: invalid value encountered in power\n",
      "  mev0f = np.sum( ( 1-np.exp(-(y/C)**W ))**N) - nyears*pr\n",
      "/home/arturo/github/downpy/codes/downscale.py:1248: RuntimeWarning: invalid value encountered in power\n",
      "  mev0f = np.sum( ( 1-np.exp(-(y/C)**W ))**N) - nyears*pr\n",
      "/home/arturo/github/downpy/codes/downscale.py:1248: RuntimeWarning: invalid value encountered in power\n",
      "  mev0f = np.sum( ( 1-np.exp(-(y/C)**W ))**N) - nyears*pr\n"
     ]
    },
    {
     "name": "stdout",
     "output_type": "stream",
     "text": [
      "mevd_quant:: ERROR - fsolve does not work -  change x0\n",
      "mevd_quant:: ERROR - fsolve does not work -  change x0\n",
      "mevd_quant:: ERROR - fsolve does not work -  change x0\n",
      "mevd_quant:: ERROR - fsolve does not work -  change x0\n",
      "mevd_quant:: ERROR - fsolve does not work -  change x0\n",
      "mevd_quant:: ERROR - fsolve does not work -  change x0\n",
      "mevd_quant:: ERROR - fsolve does not work -  change x0\n",
      "mevd_quant:: ERROR - fsolve does not work -  change x0\n",
      "mevd_quant:: ERROR - fsolve does not work -  change x0\n",
      "33\n"
     ]
    },
    {
     "name": "stderr",
     "output_type": "stream",
     "text": [
      "/home/arturo/github/downpy/codes/downscale.py:1248: RuntimeWarning: invalid value encountered in power\n",
      "  mev0f = np.sum( ( 1-np.exp(-(y/C)**W ))**N) - nyears*pr\n",
      "/home/arturo/github/downpy/codes/downscale.py:1248: RuntimeWarning: invalid value encountered in power\n",
      "  mev0f = np.sum( ( 1-np.exp(-(y/C)**W ))**N) - nyears*pr\n",
      "/home/arturo/github/downpy/codes/downscale.py:1248: RuntimeWarning: invalid value encountered in power\n",
      "  mev0f = np.sum( ( 1-np.exp(-(y/C)**W ))**N) - nyears*pr\n",
      "/home/arturo/github/downpy/codes/downscale.py:1248: RuntimeWarning: invalid value encountered in power\n",
      "  mev0f = np.sum( ( 1-np.exp(-(y/C)**W ))**N) - nyears*pr\n",
      "/home/arturo/github/downpy/codes/downscale.py:1248: RuntimeWarning: invalid value encountered in power\n",
      "  mev0f = np.sum( ( 1-np.exp(-(y/C)**W ))**N) - nyears*pr\n",
      "/home/arturo/github/downpy/codes/downscale.py:1248: RuntimeWarning: invalid value encountered in power\n",
      "  mev0f = np.sum( ( 1-np.exp(-(y/C)**W ))**N) - nyears*pr\n",
      "/home/arturo/github/downpy/codes/downscale.py:1248: RuntimeWarning: invalid value encountered in power\n",
      "  mev0f = np.sum( ( 1-np.exp(-(y/C)**W ))**N) - nyears*pr\n",
      "/home/arturo/github/downpy/codes/downscale.py:1248: RuntimeWarning: invalid value encountered in power\n",
      "  mev0f = np.sum( ( 1-np.exp(-(y/C)**W ))**N) - nyears*pr\n",
      "/home/arturo/github/downpy/codes/downscale.py:1248: RuntimeWarning: invalid value encountered in power\n",
      "  mev0f = np.sum( ( 1-np.exp(-(y/C)**W ))**N) - nyears*pr\n",
      "/home/arturo/github/downpy/codes/downscale.py:1248: RuntimeWarning: invalid value encountered in power\n",
      "  mev0f = np.sum( ( 1-np.exp(-(y/C)**W ))**N) - nyears*pr\n"
     ]
    },
    {
     "name": "stdout",
     "output_type": "stream",
     "text": [
      "mevd_quant:: ERROR - fsolve does not work -  change x0\n",
      "mevd_quant:: ERROR - fsolve does not work -  change x0\n",
      "mevd_quant:: ERROR - fsolve does not work -  change x0\n",
      "mevd_quant:: ERROR - fsolve does not work -  change x0\n",
      "mevd_quant:: ERROR - fsolve does not work -  change x0\n",
      "mevd_quant:: ERROR - fsolve does not work -  change x0\n",
      "mevd_quant:: ERROR - fsolve does not work -  change x0\n",
      "mevd_quant:: ERROR - fsolve does not work -  change x0\n",
      "mevd_quant:: ERROR - fsolve does not work -  change x0\n",
      "mevd_quant:: ERROR - fsolve does not work -  change x0\n",
      "mevd_quant:: ERROR - fsolve does not work -  change x0\n",
      "mevd_quant:: ERROR - fsolve does not work -  change x0\n",
      "mevd_quant:: ERROR - fsolve does not work -  change x0\n",
      "mevd_quant:: ERROR - fsolve does not work -  change x0\n",
      "mevd_quant:: ERROR - fsolve does not work -  change x0\n",
      "mevd_quant:: ERROR - fsolve does not work -  change x0\n",
      "mevd_quant:: ERROR - fsolve does not work -  change x0\n",
      "mevd_quant:: ERROR - fsolve does not work -  change x0\n",
      "mevd_quant:: ERROR - fsolve does not work -  change x0\n",
      "mevd_quant:: ERROR - fsolve does not work -  change x0\n",
      "mevd_quant:: ERROR - fsolve does not work -  change x0\n",
      "mevd_quant:: ERROR - fsolve does not work -  change x0\n",
      "mevd_quant:: ERROR - fsolve does not work -  change x0\n",
      "mevd_quant:: ERROR - fsolve does not work -  change x0\n",
      "mevd_quant:: ERROR - fsolve does not work -  change x0\n",
      "mevd_quant:: ERROR - fsolve does not work -  change x0\n",
      "mevd_quant:: ERROR - fsolve does not work -  change x0\n",
      "mevd_quant:: ERROR - fsolve does not work -  change x0\n",
      "mevd_quant:: ERROR - fsolve does not work -  change x0\n"
     ]
    },
    {
     "name": "stderr",
     "output_type": "stream",
     "text": [
      "/home/arturo/github/downpy/codes/downscale.py:1248: RuntimeWarning: invalid value encountered in power\n",
      "  mev0f = np.sum( ( 1-np.exp(-(y/C)**W ))**N) - nyears*pr\n",
      "/home/arturo/github/downpy/codes/downscale.py:1248: RuntimeWarning: invalid value encountered in power\n",
      "  mev0f = np.sum( ( 1-np.exp(-(y/C)**W ))**N) - nyears*pr\n",
      "/home/arturo/github/downpy/codes/downscale.py:1248: RuntimeWarning: invalid value encountered in power\n",
      "  mev0f = np.sum( ( 1-np.exp(-(y/C)**W ))**N) - nyears*pr\n",
      "/home/arturo/github/downpy/codes/downscale.py:1248: RuntimeWarning: invalid value encountered in power\n",
      "  mev0f = np.sum( ( 1-np.exp(-(y/C)**W ))**N) - nyears*pr\n",
      "/home/arturo/github/downpy/codes/downscale.py:1248: RuntimeWarning: invalid value encountered in power\n",
      "  mev0f = np.sum( ( 1-np.exp(-(y/C)**W ))**N) - nyears*pr\n",
      "/home/arturo/github/downpy/codes/downscale.py:1248: RuntimeWarning: invalid value encountered in power\n",
      "  mev0f = np.sum( ( 1-np.exp(-(y/C)**W ))**N) - nyears*pr\n",
      "/home/arturo/github/downpy/codes/downscale.py:1248: RuntimeWarning: invalid value encountered in power\n",
      "  mev0f = np.sum( ( 1-np.exp(-(y/C)**W ))**N) - nyears*pr\n"
     ]
    },
    {
     "name": "stdout",
     "output_type": "stream",
     "text": [
      "mevd_quant:: ERROR - fsolve does not work -  change x0\n",
      "mevd_quant:: ERROR - fsolve does not work -  change x0\n",
      "mevd_quant:: ERROR - fsolve does not work -  change x0\n",
      "mevd_quant:: ERROR - fsolve does not work -  change x0\n",
      "mevd_quant:: ERROR - fsolve does not work -  change x0\n",
      "mevd_quant:: ERROR - fsolve does not work -  change x0\n",
      "mevd_quant:: ERROR - fsolve does not work -  change x0\n",
      "mevd_quant:: ERROR - fsolve does not work -  change x0\n",
      "mevd_quant:: ERROR - fsolve does not work -  change x0\n",
      "mevd_quant:: ERROR - fsolve does not work -  change x0\n",
      "mevd_quant:: ERROR - fsolve does not work -  change x0\n",
      "mevd_quant:: ERROR - fsolve does not work -  change x0\n",
      "mevd_quant:: ERROR - fsolve does not work -  change x0\n",
      "mevd_quant:: ERROR - fsolve does not work -  change x0\n",
      "mevd_quant:: ERROR - fsolve does not work -  change x0\n",
      "mevd_quant:: ERROR - fsolve does not work -  change x0\n",
      "mevd_quant:: ERROR - fsolve does not work -  change x0\n",
      "mevd_quant:: ERROR - fsolve does not work -  change x0\n",
      "mevd_quant:: ERROR - fsolve does not work -  change x0\n"
     ]
    },
    {
     "name": "stderr",
     "output_type": "stream",
     "text": [
      "/home/arturo/github/downpy/codes/downscale.py:1248: RuntimeWarning: invalid value encountered in power\n",
      "  mev0f = np.sum( ( 1-np.exp(-(y/C)**W ))**N) - nyears*pr\n",
      "/home/arturo/github/downpy/codes/downscale.py:1248: RuntimeWarning: invalid value encountered in power\n",
      "  mev0f = np.sum( ( 1-np.exp(-(y/C)**W ))**N) - nyears*pr\n",
      "/home/arturo/github/downpy/codes/downscale.py:1248: RuntimeWarning: invalid value encountered in power\n",
      "  mev0f = np.sum( ( 1-np.exp(-(y/C)**W ))**N) - nyears*pr\n",
      "/home/arturo/github/downpy/codes/downscale.py:1248: RuntimeWarning: invalid value encountered in power\n",
      "  mev0f = np.sum( ( 1-np.exp(-(y/C)**W ))**N) - nyears*pr\n"
     ]
    },
    {
     "name": "stdout",
     "output_type": "stream",
     "text": [
      "mevd_quant:: ERROR - fsolve does not work -  change x0\n",
      "mevd_quant:: ERROR - fsolve does not work -  change x0\n",
      "mevd_quant:: ERROR - fsolve does not work -  change x0\n",
      "mevd_quant:: ERROR - fsolve does not work -  change x0\n",
      "mevd_quant:: ERROR - fsolve does not work -  change x0\n",
      "mevd_quant:: ERROR - fsolve does not work -  change x0\n",
      "mevd_quant:: ERROR - fsolve does not work -  change x0\n",
      "mevd_quant:: ERROR - fsolve does not work -  change x0\n",
      "34\n",
      "mevd_quant:: ERROR - fsolve does not work -  change x0\n"
     ]
    },
    {
     "name": "stderr",
     "output_type": "stream",
     "text": [
      "/home/arturo/github/downpy/codes/downscale.py:1248: RuntimeWarning: invalid value encountered in power\n",
      "  mev0f = np.sum( ( 1-np.exp(-(y/C)**W ))**N) - nyears*pr\n",
      "/home/arturo/github/downpy/codes/downscale.py:1248: RuntimeWarning: invalid value encountered in power\n",
      "  mev0f = np.sum( ( 1-np.exp(-(y/C)**W ))**N) - nyears*pr\n",
      "/home/arturo/github/downpy/codes/downscale.py:1248: RuntimeWarning: invalid value encountered in power\n",
      "  mev0f = np.sum( ( 1-np.exp(-(y/C)**W ))**N) - nyears*pr\n",
      "/home/arturo/github/downpy/codes/downscale.py:1248: RuntimeWarning: invalid value encountered in power\n",
      "  mev0f = np.sum( ( 1-np.exp(-(y/C)**W ))**N) - nyears*pr\n",
      "/home/arturo/github/downpy/codes/downscale.py:1248: RuntimeWarning: invalid value encountered in power\n",
      "  mev0f = np.sum( ( 1-np.exp(-(y/C)**W ))**N) - nyears*pr\n"
     ]
    },
    {
     "name": "stdout",
     "output_type": "stream",
     "text": [
      "mevd_quant:: ERROR - fsolve does not work -  change x0\n",
      "mevd_quant:: ERROR - fsolve does not work -  change x0\n",
      "mevd_quant:: ERROR - fsolve does not work -  change x0\n",
      "mevd_quant:: ERROR - fsolve does not work -  change x0\n",
      "mevd_quant:: ERROR - fsolve does not work -  change x0\n",
      "mevd_quant:: ERROR - fsolve does not work -  change x0\n",
      "mevd_quant:: ERROR - fsolve does not work -  change x0\n",
      "mevd_quant:: ERROR - fsolve does not work -  change x0\n",
      "mevd_quant:: ERROR - fsolve does not work -  change x0\n",
      "mevd_quant:: ERROR - fsolve does not work -  change x0\n",
      "mevd_quant:: ERROR - fsolve does not work -  change x0\n",
      "mevd_quant:: ERROR - fsolve does not work -  change x0\n",
      "mevd_quant:: ERROR - fsolve does not work -  change x0\n",
      "mevd_quant:: ERROR - fsolve does not work -  change x0\n",
      "mevd_quant:: ERROR - fsolve does not work -  change x0\n",
      "mevd_quant:: ERROR - fsolve does not work -  change x0\n",
      "mevd_quant:: ERROR - fsolve does not work -  change x0\n",
      "mevd_quant:: ERROR - fsolve does not work -  change x0\n",
      "mevd_quant:: ERROR - fsolve does not work -  change x0\n",
      "mevd_quant:: ERROR - fsolve does not work -  change x0\n",
      "mevd_quant:: ERROR - fsolve does not work -  change x0\n",
      "mevd_quant:: ERROR - fsolve does not work -  change x0\n",
      "mevd_quant:: ERROR - fsolve does not work -  change x0\n",
      "mevd_quant:: ERROR - fsolve does not work -  change x0\n",
      "mevd_quant:: ERROR - fsolve does not work -  change x0\n",
      "mevd_quant:: ERROR - fsolve does not work -  change x0\n",
      "mevd_quant:: ERROR - fsolve does not work -  change x0\n",
      "mevd_quant:: ERROR - fsolve does not work -  change x0\n",
      "mevd_quant:: ERROR - fsolve does not work -  change x0\n",
      "mevd_quant:: ERROR - fsolve does not work -  change x0\n",
      "mevd_quant:: ERROR - fsolve does not work -  change x0\n",
      "mevd_quant:: ERROR - fsolve does not work -  change x0\n"
     ]
    },
    {
     "name": "stderr",
     "output_type": "stream",
     "text": [
      "/home/arturo/github/downpy/codes/downscale.py:1248: RuntimeWarning: invalid value encountered in power\n",
      "  mev0f = np.sum( ( 1-np.exp(-(y/C)**W ))**N) - nyears*pr\n",
      "/home/arturo/github/downpy/codes/downscale.py:1248: RuntimeWarning: invalid value encountered in power\n",
      "  mev0f = np.sum( ( 1-np.exp(-(y/C)**W ))**N) - nyears*pr\n",
      "/home/arturo/github/downpy/codes/downscale.py:1248: RuntimeWarning: invalid value encountered in power\n",
      "  mev0f = np.sum( ( 1-np.exp(-(y/C)**W ))**N) - nyears*pr\n",
      "/home/arturo/github/downpy/codes/downscale.py:1248: RuntimeWarning: invalid value encountered in power\n",
      "  mev0f = np.sum( ( 1-np.exp(-(y/C)**W ))**N) - nyears*pr\n",
      "/home/arturo/github/downpy/codes/downscale.py:1248: RuntimeWarning: invalid value encountered in power\n",
      "  mev0f = np.sum( ( 1-np.exp(-(y/C)**W ))**N) - nyears*pr\n",
      "/home/arturo/github/downpy/codes/downscale.py:1248: RuntimeWarning: invalid value encountered in power\n",
      "  mev0f = np.sum( ( 1-np.exp(-(y/C)**W ))**N) - nyears*pr\n",
      "/home/arturo/github/downpy/codes/downscale.py:1248: RuntimeWarning: invalid value encountered in power\n",
      "  mev0f = np.sum( ( 1-np.exp(-(y/C)**W ))**N) - nyears*pr\n",
      "/home/arturo/github/downpy/codes/downscale.py:1248: RuntimeWarning: invalid value encountered in power\n",
      "  mev0f = np.sum( ( 1-np.exp(-(y/C)**W ))**N) - nyears*pr\n"
     ]
    },
    {
     "name": "stdout",
     "output_type": "stream",
     "text": [
      "mevd_quant:: ERROR - fsolve does not work -  change x0\n",
      "mevd_quant:: ERROR - fsolve does not work -  change x0\n",
      "mevd_quant:: ERROR - fsolve does not work -  change x0\n",
      "mevd_quant:: ERROR - fsolve does not work -  change x0\n",
      "mevd_quant:: ERROR - fsolve does not work -  change x0\n",
      "mevd_quant:: ERROR - fsolve does not work -  change x0\n",
      "mevd_quant:: ERROR - fsolve does not work -  change x0\n",
      "mevd_quant:: ERROR - fsolve does not work -  change x0\n",
      "mevd_quant:: ERROR - fsolve does not work -  change x0\n",
      "mevd_quant:: ERROR - fsolve does not work -  change x0\n"
     ]
    },
    {
     "name": "stderr",
     "output_type": "stream",
     "text": [
      "/home/arturo/github/downpy/codes/downscale.py:1248: RuntimeWarning: invalid value encountered in power\n",
      "  mev0f = np.sum( ( 1-np.exp(-(y/C)**W ))**N) - nyears*pr\n",
      "/home/arturo/github/downpy/codes/downscale.py:1248: RuntimeWarning: invalid value encountered in power\n",
      "  mev0f = np.sum( ( 1-np.exp(-(y/C)**W ))**N) - nyears*pr\n",
      "/home/arturo/github/downpy/codes/downscale.py:1248: RuntimeWarning: invalid value encountered in power\n",
      "  mev0f = np.sum( ( 1-np.exp(-(y/C)**W ))**N) - nyears*pr\n",
      "/home/arturo/github/downpy/codes/downscale.py:1248: RuntimeWarning: invalid value encountered in power\n",
      "  mev0f = np.sum( ( 1-np.exp(-(y/C)**W ))**N) - nyears*pr\n",
      "/home/arturo/github/downpy/codes/downscale.py:1248: RuntimeWarning: invalid value encountered in power\n",
      "  mev0f = np.sum( ( 1-np.exp(-(y/C)**W ))**N) - nyears*pr\n",
      "/home/arturo/github/downpy/codes/downscale.py:1248: RuntimeWarning: invalid value encountered in power\n",
      "  mev0f = np.sum( ( 1-np.exp(-(y/C)**W ))**N) - nyears*pr\n",
      "/home/arturo/github/downpy/codes/downscale.py:1248: RuntimeWarning: invalid value encountered in power\n",
      "  mev0f = np.sum( ( 1-np.exp(-(y/C)**W ))**N) - nyears*pr\n",
      "/home/arturo/github/downpy/codes/downscale.py:1248: RuntimeWarning: invalid value encountered in power\n",
      "  mev0f = np.sum( ( 1-np.exp(-(y/C)**W ))**N) - nyears*pr\n",
      "/home/arturo/github/downpy/codes/downscale.py:1248: RuntimeWarning: invalid value encountered in power\n",
      "  mev0f = np.sum( ( 1-np.exp(-(y/C)**W ))**N) - nyears*pr\n",
      "/home/arturo/github/downpy/codes/downscale.py:1248: RuntimeWarning: invalid value encountered in power\n",
      "  mev0f = np.sum( ( 1-np.exp(-(y/C)**W ))**N) - nyears*pr\n"
     ]
    },
    {
     "name": "stdout",
     "output_type": "stream",
     "text": [
      "mevd_quant:: ERROR - fsolve does not work -  change x0\n",
      "mevd_quant:: ERROR - fsolve does not work -  change x0\n",
      "mevd_quant:: ERROR - fsolve does not work -  change x0\n",
      "mevd_quant:: ERROR - fsolve does not work -  change x0\n",
      "mevd_quant:: ERROR - fsolve does not work -  change x0\n",
      "mevd_quant:: ERROR - fsolve does not work -  change x0\n",
      "mevd_quant:: ERROR - fsolve does not work -  change x0\n",
      "mevd_quant:: ERROR - fsolve does not work -  change x0\n",
      "mevd_quant:: ERROR - fsolve does not work -  change x0\n",
      "mevd_quant:: ERROR - fsolve does not work -  change x0\n",
      "mevd_quant:: ERROR - fsolve does not work -  change x0\n",
      "mevd_quant:: ERROR - fsolve does not work -  change x0\n",
      "mevd_quant:: ERROR - fsolve does not work -  change x0\n",
      "mevd_quant:: ERROR - fsolve does not work -  change x0\n",
      "mevd_quant:: ERROR - fsolve does not work -  change x0\n",
      "mevd_quant:: ERROR - fsolve does not work -  change x0\n",
      "mevd_quant:: ERROR - fsolve does not work -  change x0\n",
      "mevd_quant:: ERROR - fsolve does not work -  change x0\n",
      "mevd_quant:: ERROR - fsolve does not work -  change x0\n",
      "mevd_quant:: ERROR - fsolve does not work -  change x0\n",
      "mevd_quant:: ERROR - fsolve does not work -  change x0\n",
      "mevd_quant:: ERROR - fsolve does not work -  change x0\n",
      "mevd_quant:: ERROR - fsolve does not work -  change x0\n",
      "mevd_quant:: ERROR - fsolve does not work -  change x0\n",
      "mevd_quant:: ERROR - fsolve does not work -  change x0\n",
      "mevd_quant:: ERROR - fsolve does not work -  change x0\n"
     ]
    },
    {
     "name": "stderr",
     "output_type": "stream",
     "text": [
      "/home/arturo/github/downpy/codes/downscale.py:1248: RuntimeWarning: invalid value encountered in power\n",
      "  mev0f = np.sum( ( 1-np.exp(-(y/C)**W ))**N) - nyears*pr\n",
      "/home/arturo/github/downpy/codes/downscale.py:1248: RuntimeWarning: invalid value encountered in power\n",
      "  mev0f = np.sum( ( 1-np.exp(-(y/C)**W ))**N) - nyears*pr\n"
     ]
    },
    {
     "name": "stdout",
     "output_type": "stream",
     "text": [
      "mevd_quant:: ERROR - fsolve does not work -  change x0\n",
      "mevd_quant:: ERROR - fsolve does not work -  change x0\n",
      "mevd_quant:: ERROR - fsolve does not work -  change x0\n",
      "mevd_quant:: ERROR - fsolve does not work -  change x0\n",
      "mevd_quant:: ERROR - fsolve does not work -  change x0\n",
      "35\n"
     ]
    },
    {
     "name": "stderr",
     "output_type": "stream",
     "text": [
      "/home/arturo/github/downpy/codes/downscale.py:1248: RuntimeWarning: invalid value encountered in power\n",
      "  mev0f = np.sum( ( 1-np.exp(-(y/C)**W ))**N) - nyears*pr\n",
      "/home/arturo/github/downpy/codes/downscale.py:1248: RuntimeWarning: invalid value encountered in power\n",
      "  mev0f = np.sum( ( 1-np.exp(-(y/C)**W ))**N) - nyears*pr\n",
      "/home/arturo/github/downpy/codes/downscale.py:1248: RuntimeWarning: invalid value encountered in power\n",
      "  mev0f = np.sum( ( 1-np.exp(-(y/C)**W ))**N) - nyears*pr\n",
      "/home/arturo/github/downpy/codes/downscale.py:1248: RuntimeWarning: invalid value encountered in power\n",
      "  mev0f = np.sum( ( 1-np.exp(-(y/C)**W ))**N) - nyears*pr\n",
      "/home/arturo/github/downpy/codes/downscale.py:1248: RuntimeWarning: invalid value encountered in power\n",
      "  mev0f = np.sum( ( 1-np.exp(-(y/C)**W ))**N) - nyears*pr\n",
      "/home/arturo/github/downpy/codes/downscale.py:1248: RuntimeWarning: invalid value encountered in power\n",
      "  mev0f = np.sum( ( 1-np.exp(-(y/C)**W ))**N) - nyears*pr\n"
     ]
    },
    {
     "name": "stdout",
     "output_type": "stream",
     "text": [
      "mevd_quant:: ERROR - fsolve does not work -  change x0\n",
      "mevd_quant:: ERROR - fsolve does not work -  change x0\n",
      "mevd_quant:: ERROR - fsolve does not work -  change x0\n",
      "mevd_quant:: ERROR - fsolve does not work -  change x0\n",
      "mevd_quant:: ERROR - fsolve does not work -  change x0\n",
      "mevd_quant:: ERROR - fsolve does not work -  change x0\n",
      "mevd_quant:: ERROR - fsolve does not work -  change x0\n",
      "mevd_quant:: ERROR - fsolve does not work -  change x0\n",
      "mevd_quant:: ERROR - fsolve does not work -  change x0\n",
      "mevd_quant:: ERROR - fsolve does not work -  change x0\n",
      "mevd_quant:: ERROR - fsolve does not work -  change x0\n",
      "mevd_quant:: ERROR - fsolve does not work -  change x0\n",
      "mevd_quant:: ERROR - fsolve does not work -  change x0\n",
      "mevd_quant:: ERROR - fsolve does not work -  change x0\n",
      "mevd_quant:: ERROR - fsolve does not work -  change x0\n"
     ]
    },
    {
     "name": "stderr",
     "output_type": "stream",
     "text": [
      "/home/arturo/github/downpy/codes/downscale.py:1248: RuntimeWarning: invalid value encountered in power\n",
      "  mev0f = np.sum( ( 1-np.exp(-(y/C)**W ))**N) - nyears*pr\n",
      "/home/arturo/github/downpy/codes/downscale.py:1248: RuntimeWarning: invalid value encountered in power\n",
      "  mev0f = np.sum( ( 1-np.exp(-(y/C)**W ))**N) - nyears*pr\n",
      "/home/arturo/github/downpy/codes/downscale.py:1248: RuntimeWarning: invalid value encountered in power\n",
      "  mev0f = np.sum( ( 1-np.exp(-(y/C)**W ))**N) - nyears*pr\n",
      "/home/arturo/github/downpy/codes/downscale.py:1248: RuntimeWarning: invalid value encountered in power\n",
      "  mev0f = np.sum( ( 1-np.exp(-(y/C)**W ))**N) - nyears*pr\n",
      "/home/arturo/github/downpy/codes/downscale.py:1248: RuntimeWarning: invalid value encountered in power\n",
      "  mev0f = np.sum( ( 1-np.exp(-(y/C)**W ))**N) - nyears*pr\n",
      "/home/arturo/github/downpy/codes/downscale.py:1248: RuntimeWarning: invalid value encountered in power\n",
      "  mev0f = np.sum( ( 1-np.exp(-(y/C)**W ))**N) - nyears*pr\n",
      "/home/arturo/github/downpy/codes/downscale.py:1248: RuntimeWarning: invalid value encountered in power\n",
      "  mev0f = np.sum( ( 1-np.exp(-(y/C)**W ))**N) - nyears*pr\n",
      "/home/arturo/github/downpy/codes/downscale.py:1248: RuntimeWarning: invalid value encountered in power\n",
      "  mev0f = np.sum( ( 1-np.exp(-(y/C)**W ))**N) - nyears*pr\n"
     ]
    },
    {
     "name": "stdout",
     "output_type": "stream",
     "text": [
      "mevd_quant:: ERROR - fsolve does not work -  change x0\n",
      "mevd_quant:: ERROR - fsolve does not work -  change x0\n",
      "mevd_quant:: ERROR - fsolve does not work -  change x0\n",
      "mevd_quant:: ERROR - fsolve does not work -  change x0\n",
      "mevd_quant:: ERROR - fsolve does not work -  change x0\n",
      "mevd_quant:: ERROR - fsolve does not work -  change x0\n",
      "mevd_quant:: ERROR - fsolve does not work -  change x0\n",
      "mevd_quant:: ERROR - fsolve does not work -  change x0\n",
      "mevd_quant:: ERROR - fsolve does not work -  change x0\n",
      "mevd_quant:: ERROR - fsolve does not work -  change x0\n",
      "mevd_quant:: ERROR - fsolve does not work -  change x0\n",
      "mevd_quant:: ERROR - fsolve does not work -  change x0\n",
      "mevd_quant:: ERROR - fsolve does not work -  change x0\n",
      "mevd_quant:: ERROR - fsolve does not work -  change x0\n",
      "mevd_quant:: ERROR - fsolve does not work -  change x0\n",
      "mevd_quant:: ERROR - fsolve does not work -  change x0\n",
      "mevd_quant:: ERROR - fsolve does not work -  change x0\n",
      "mevd_quant:: ERROR - fsolve does not work -  change x0\n",
      "mevd_quant:: ERROR - fsolve does not work -  change x0\n",
      "mevd_quant:: ERROR - fsolve does not work -  change x0\n",
      "mevd_quant:: ERROR - fsolve does not work -  change x0\n",
      "mevd_quant:: ERROR - fsolve does not work -  change x0\n",
      "mevd_quant:: ERROR - fsolve does not work -  change x0\n",
      "mevd_quant:: ERROR - fsolve does not work -  change x0\n",
      "mevd_quant:: ERROR - fsolve does not work -  change x0\n"
     ]
    },
    {
     "name": "stderr",
     "output_type": "stream",
     "text": [
      "/home/arturo/github/downpy/codes/downscale.py:1248: RuntimeWarning: invalid value encountered in power\n",
      "  mev0f = np.sum( ( 1-np.exp(-(y/C)**W ))**N) - nyears*pr\n",
      "/home/arturo/github/downpy/codes/downscale.py:1248: RuntimeWarning: invalid value encountered in power\n",
      "  mev0f = np.sum( ( 1-np.exp(-(y/C)**W ))**N) - nyears*pr\n",
      "/home/arturo/github/downpy/codes/downscale.py:1248: RuntimeWarning: invalid value encountered in power\n",
      "  mev0f = np.sum( ( 1-np.exp(-(y/C)**W ))**N) - nyears*pr\n"
     ]
    },
    {
     "name": "stdout",
     "output_type": "stream",
     "text": [
      "mevd_quant:: ERROR - fsolve does not work -  change x0\n",
      "mevd_quant:: ERROR - fsolve does not work -  change x0\n",
      "mevd_quant:: ERROR - fsolve does not work -  change x0\n",
      "mevd_quant:: ERROR - fsolve does not work -  change x0\n",
      "mevd_quant:: ERROR - fsolve does not work -  change x0\n",
      "mevd_quant:: ERROR - fsolve does not work -  change x0\n",
      "mevd_quant:: ERROR - fsolve does not work -  change x0\n",
      "mevd_quant:: ERROR - fsolve does not work -  change x0\n",
      "mevd_quant:: ERROR - fsolve does not work -  change x0\n",
      "mevd_quant:: ERROR - fsolve does not work -  change x0\n",
      "mevd_quant:: ERROR - fsolve does not work -  change x0\n"
     ]
    },
    {
     "name": "stderr",
     "output_type": "stream",
     "text": [
      "/home/arturo/github/downpy/codes/downscale.py:1248: RuntimeWarning: invalid value encountered in power\n",
      "  mev0f = np.sum( ( 1-np.exp(-(y/C)**W ))**N) - nyears*pr\n",
      "/home/arturo/github/downpy/codes/downscale.py:1248: RuntimeWarning: invalid value encountered in power\n",
      "  mev0f = np.sum( ( 1-np.exp(-(y/C)**W ))**N) - nyears*pr\n",
      "/home/arturo/github/downpy/codes/downscale.py:1248: RuntimeWarning: invalid value encountered in power\n",
      "  mev0f = np.sum( ( 1-np.exp(-(y/C)**W ))**N) - nyears*pr\n",
      "/home/arturo/github/downpy/codes/downscale.py:1248: RuntimeWarning: invalid value encountered in power\n",
      "  mev0f = np.sum( ( 1-np.exp(-(y/C)**W ))**N) - nyears*pr\n",
      "/home/arturo/github/downpy/codes/downscale.py:1248: RuntimeWarning: invalid value encountered in power\n",
      "  mev0f = np.sum( ( 1-np.exp(-(y/C)**W ))**N) - nyears*pr\n"
     ]
    },
    {
     "name": "stdout",
     "output_type": "stream",
     "text": [
      "mevd_quant:: ERROR - fsolve does not work -  change x0\n",
      "mevd_quant:: ERROR - fsolve does not work -  change x0\n",
      "mevd_quant:: ERROR - fsolve does not work -  change x0\n",
      "mevd_quant:: ERROR - fsolve does not work -  change x0\n",
      "mevd_quant:: ERROR - fsolve does not work -  change x0\n",
      "mevd_quant:: ERROR - fsolve does not work -  change x0\n",
      "mevd_quant:: ERROR - fsolve does not work -  change x0\n",
      "mevd_quant:: ERROR - fsolve does not work -  change x0\n",
      "mevd_quant:: ERROR - fsolve does not work -  change x0\n",
      "mevd_quant:: ERROR - fsolve does not work -  change x0\n",
      "mevd_quant:: ERROR - fsolve does not work -  change x0\n",
      "mevd_quant:: ERROR - fsolve does not work -  change x0\n",
      "mevd_quant:: ERROR - fsolve does not work -  change x0\n",
      "mevd_quant:: ERROR - fsolve does not work -  change x0\n",
      "mevd_quant:: ERROR - fsolve does not work -  change x0\n",
      "mevd_quant:: ERROR - fsolve does not work -  change x0\n",
      "mevd_quant:: ERROR - fsolve does not work -  change x0\n",
      "36\n",
      "mevd_quant:: ERROR - fsolve does not work -  change x0\n",
      "mevd_quant:: ERROR - fsolve does not work -  change x0\n"
     ]
    },
    {
     "name": "stderr",
     "output_type": "stream",
     "text": [
      "/home/arturo/github/downpy/codes/downscale.py:1248: RuntimeWarning: invalid value encountered in power\n",
      "  mev0f = np.sum( ( 1-np.exp(-(y/C)**W ))**N) - nyears*pr\n",
      "/home/arturo/github/downpy/codes/downscale.py:1248: RuntimeWarning: invalid value encountered in power\n",
      "  mev0f = np.sum( ( 1-np.exp(-(y/C)**W ))**N) - nyears*pr\n"
     ]
    },
    {
     "name": "stdout",
     "output_type": "stream",
     "text": [
      "mevd_quant:: ERROR - fsolve does not work -  change x0\n",
      "mevd_quant:: ERROR - fsolve does not work -  change x0\n",
      "mevd_quant:: ERROR - fsolve does not work -  change x0\n",
      "mevd_quant:: ERROR - fsolve does not work -  change x0\n",
      "mevd_quant:: ERROR - fsolve does not work -  change x0\n",
      "mevd_quant:: ERROR - fsolve does not work -  change x0\n",
      "mevd_quant:: ERROR - fsolve does not work -  change x0\n",
      "mevd_quant:: ERROR - fsolve does not work -  change x0\n",
      "mevd_quant:: ERROR - fsolve does not work -  change x0\n",
      "mevd_quant:: ERROR - fsolve does not work -  change x0\n",
      "mevd_quant:: ERROR - fsolve does not work -  change x0\n",
      "mevd_quant:: ERROR - fsolve does not work -  change x0\n",
      "mevd_quant:: ERROR - fsolve does not work -  change x0\n",
      "mevd_quant:: ERROR - fsolve does not work -  change x0\n",
      "mevd_quant:: ERROR - fsolve does not work -  change x0\n",
      "mevd_quant:: ERROR - fsolve does not work -  change x0\n",
      "mevd_quant:: ERROR - fsolve does not work -  change x0\n",
      "mevd_quant:: ERROR - fsolve does not work -  change x0\n",
      "mevd_quant:: ERROR - fsolve does not work -  change x0\n",
      "mevd_quant:: ERROR - fsolve does not work -  change x0\n",
      "mevd_quant:: ERROR - fsolve does not work -  change x0\n",
      "mevd_quant:: ERROR - fsolve does not work -  change x0\n"
     ]
    },
    {
     "name": "stderr",
     "output_type": "stream",
     "text": [
      "/home/arturo/github/downpy/codes/downscale.py:1248: RuntimeWarning: invalid value encountered in power\n",
      "  mev0f = np.sum( ( 1-np.exp(-(y/C)**W ))**N) - nyears*pr\n",
      "/home/arturo/github/downpy/codes/downscale.py:1248: RuntimeWarning: invalid value encountered in power\n",
      "  mev0f = np.sum( ( 1-np.exp(-(y/C)**W ))**N) - nyears*pr\n",
      "/home/arturo/github/downpy/codes/downscale.py:1248: RuntimeWarning: invalid value encountered in power\n",
      "  mev0f = np.sum( ( 1-np.exp(-(y/C)**W ))**N) - nyears*pr\n",
      "/home/arturo/github/downpy/codes/downscale.py:1248: RuntimeWarning: invalid value encountered in power\n",
      "  mev0f = np.sum( ( 1-np.exp(-(y/C)**W ))**N) - nyears*pr\n",
      "/home/arturo/github/downpy/codes/downscale.py:1248: RuntimeWarning: invalid value encountered in power\n",
      "  mev0f = np.sum( ( 1-np.exp(-(y/C)**W ))**N) - nyears*pr\n",
      "/home/arturo/github/downpy/codes/downscale.py:1248: RuntimeWarning: invalid value encountered in power\n",
      "  mev0f = np.sum( ( 1-np.exp(-(y/C)**W ))**N) - nyears*pr\n",
      "/home/arturo/github/downpy/codes/downscale.py:1248: RuntimeWarning: invalid value encountered in power\n",
      "  mev0f = np.sum( ( 1-np.exp(-(y/C)**W ))**N) - nyears*pr\n"
     ]
    },
    {
     "name": "stdout",
     "output_type": "stream",
     "text": [
      "mevd_quant:: ERROR - fsolve does not work -  change x0\n",
      "mevd_quant:: ERROR - fsolve does not work -  change x0\n",
      "mevd_quant:: ERROR - fsolve does not work -  change x0\n",
      "mevd_quant:: ERROR - fsolve does not work -  change x0\n",
      "mevd_quant:: ERROR - fsolve does not work -  change x0\n",
      "mevd_quant:: ERROR - fsolve does not work -  change x0\n",
      "mevd_quant:: ERROR - fsolve does not work -  change x0\n",
      "mevd_quant:: ERROR - fsolve does not work -  change x0\n",
      "mevd_quant:: ERROR - fsolve does not work -  change x0\n",
      "mevd_quant:: ERROR - fsolve does not work -  change x0\n",
      "mevd_quant:: ERROR - fsolve does not work -  change x0\n",
      "mevd_quant:: ERROR - fsolve does not work -  change x0\n",
      "mevd_quant:: ERROR - fsolve does not work -  change x0\n",
      "mevd_quant:: ERROR - fsolve does not work -  change x0\n",
      "mevd_quant:: ERROR - fsolve does not work -  change x0\n",
      "mevd_quant:: ERROR - fsolve does not work -  change x0\n"
     ]
    },
    {
     "name": "stderr",
     "output_type": "stream",
     "text": [
      "/home/arturo/github/downpy/codes/downscale.py:1248: RuntimeWarning: invalid value encountered in power\n",
      "  mev0f = np.sum( ( 1-np.exp(-(y/C)**W ))**N) - nyears*pr\n",
      "/home/arturo/github/downpy/codes/downscale.py:1248: RuntimeWarning: invalid value encountered in power\n",
      "  mev0f = np.sum( ( 1-np.exp(-(y/C)**W ))**N) - nyears*pr\n",
      "/home/arturo/github/downpy/codes/downscale.py:1248: RuntimeWarning: invalid value encountered in power\n",
      "  mev0f = np.sum( ( 1-np.exp(-(y/C)**W ))**N) - nyears*pr\n",
      "/home/arturo/github/downpy/codes/downscale.py:1248: RuntimeWarning: invalid value encountered in power\n",
      "  mev0f = np.sum( ( 1-np.exp(-(y/C)**W ))**N) - nyears*pr\n",
      "/home/arturo/github/downpy/codes/downscale.py:1248: RuntimeWarning: invalid value encountered in power\n",
      "  mev0f = np.sum( ( 1-np.exp(-(y/C)**W ))**N) - nyears*pr\n"
     ]
    },
    {
     "name": "stdout",
     "output_type": "stream",
     "text": [
      "mevd_quant:: ERROR - fsolve does not work -  change x0\n",
      "mevd_quant:: ERROR - fsolve does not work -  change x0\n",
      "mevd_quant:: ERROR - fsolve does not work -  change x0\n"
     ]
    },
    {
     "name": "stderr",
     "output_type": "stream",
     "text": [
      "/home/arturo/github/downpy/codes/downscale.py:1248: RuntimeWarning: invalid value encountered in power\n",
      "  mev0f = np.sum( ( 1-np.exp(-(y/C)**W ))**N) - nyears*pr\n",
      "/home/arturo/github/downpy/codes/downscale.py:1248: RuntimeWarning: invalid value encountered in power\n",
      "  mev0f = np.sum( ( 1-np.exp(-(y/C)**W ))**N) - nyears*pr\n",
      "/home/arturo/github/downpy/codes/downscale.py:1248: RuntimeWarning: invalid value encountered in power\n",
      "  mev0f = np.sum( ( 1-np.exp(-(y/C)**W ))**N) - nyears*pr\n"
     ]
    },
    {
     "name": "stdout",
     "output_type": "stream",
     "text": [
      "mevd_quant:: ERROR - fsolve does not work -  change x0\n",
      "mevd_quant:: ERROR - fsolve does not work -  change x0\n",
      "mevd_quant:: ERROR - fsolve does not work -  change x0\n",
      "mevd_quant:: ERROR - fsolve does not work -  change x0\n",
      "mevd_quant:: ERROR - fsolve does not work -  change x0\n",
      "mevd_quant:: ERROR - fsolve does not work -  change x0\n",
      "37\n"
     ]
    },
    {
     "name": "stderr",
     "output_type": "stream",
     "text": [
      "/home/arturo/github/downpy/codes/downscale.py:1248: RuntimeWarning: invalid value encountered in power\n",
      "  mev0f = np.sum( ( 1-np.exp(-(y/C)**W ))**N) - nyears*pr\n",
      "/home/arturo/github/downpy/codes/downscale.py:1248: RuntimeWarning: invalid value encountered in power\n",
      "  mev0f = np.sum( ( 1-np.exp(-(y/C)**W ))**N) - nyears*pr\n",
      "/home/arturo/github/downpy/codes/downscale.py:1248: RuntimeWarning: invalid value encountered in power\n",
      "  mev0f = np.sum( ( 1-np.exp(-(y/C)**W ))**N) - nyears*pr\n",
      "/home/arturo/github/downpy/codes/downscale.py:1248: RuntimeWarning: invalid value encountered in power\n",
      "  mev0f = np.sum( ( 1-np.exp(-(y/C)**W ))**N) - nyears*pr\n",
      "/home/arturo/github/downpy/codes/downscale.py:1248: RuntimeWarning: invalid value encountered in power\n",
      "  mev0f = np.sum( ( 1-np.exp(-(y/C)**W ))**N) - nyears*pr\n",
      "/home/arturo/github/downpy/codes/downscale.py:1248: RuntimeWarning: invalid value encountered in power\n",
      "  mev0f = np.sum( ( 1-np.exp(-(y/C)**W ))**N) - nyears*pr\n",
      "/home/arturo/github/downpy/codes/downscale.py:1248: RuntimeWarning: invalid value encountered in power\n",
      "  mev0f = np.sum( ( 1-np.exp(-(y/C)**W ))**N) - nyears*pr\n",
      "/home/arturo/github/downpy/codes/downscale.py:1248: RuntimeWarning: invalid value encountered in power\n",
      "  mev0f = np.sum( ( 1-np.exp(-(y/C)**W ))**N) - nyears*pr\n",
      "/home/arturo/github/downpy/codes/downscale.py:1248: RuntimeWarning: invalid value encountered in power\n",
      "  mev0f = np.sum( ( 1-np.exp(-(y/C)**W ))**N) - nyears*pr\n",
      "/home/arturo/github/downpy/codes/downscale.py:1248: RuntimeWarning: invalid value encountered in power\n",
      "  mev0f = np.sum( ( 1-np.exp(-(y/C)**W ))**N) - nyears*pr\n",
      "/home/arturo/github/downpy/codes/downscale.py:1248: RuntimeWarning: invalid value encountered in power\n",
      "  mev0f = np.sum( ( 1-np.exp(-(y/C)**W ))**N) - nyears*pr\n",
      "/home/arturo/github/downpy/codes/downscale.py:1248: RuntimeWarning: invalid value encountered in power\n",
      "  mev0f = np.sum( ( 1-np.exp(-(y/C)**W ))**N) - nyears*pr\n"
     ]
    },
    {
     "name": "stdout",
     "output_type": "stream",
     "text": [
      "mevd_quant:: ERROR - fsolve does not work -  change x0\n",
      "mevd_quant:: ERROR - fsolve does not work -  change x0\n",
      "mevd_quant:: ERROR - fsolve does not work -  change x0\n",
      "mevd_quant:: ERROR - fsolve does not work -  change x0\n",
      "mevd_quant:: ERROR - fsolve does not work -  change x0\n",
      "mevd_quant:: ERROR - fsolve does not work -  change x0\n",
      "mevd_quant:: ERROR - fsolve does not work -  change x0\n",
      "mevd_quant:: ERROR - fsolve does not work -  change x0\n",
      "mevd_quant:: ERROR - fsolve does not work -  change x0\n",
      "mevd_quant:: ERROR - fsolve does not work -  change x0\n",
      "mevd_quant:: ERROR - fsolve does not work -  change x0\n",
      "mevd_quant:: ERROR - fsolve does not work -  change x0\n",
      "mevd_quant:: ERROR - fsolve does not work -  change x0\n",
      "mevd_quant:: ERROR - fsolve does not work -  change x0\n",
      "mevd_quant:: ERROR - fsolve does not work -  change x0\n",
      "mevd_quant:: ERROR - fsolve does not work -  change x0\n",
      "mevd_quant:: ERROR - fsolve does not work -  change x0\n",
      "mevd_quant:: ERROR - fsolve does not work -  change x0\n",
      "mevd_quant:: ERROR - fsolve does not work -  change x0\n",
      "mevd_quant:: ERROR - fsolve does not work -  change x0\n",
      "mevd_quant:: ERROR - fsolve does not work -  change x0\n",
      "mevd_quant:: ERROR - fsolve does not work -  change x0\n",
      "mevd_quant:: ERROR - fsolve does not work -  change x0\n",
      "mevd_quant:: ERROR - fsolve does not work -  change x0\n",
      "mevd_quant:: ERROR - fsolve does not work -  change x0\n",
      "mevd_quant:: ERROR - fsolve does not work -  change x0\n",
      "mevd_quant:: ERROR - fsolve does not work -  change x0\n",
      "mevd_quant:: ERROR - fsolve does not work -  change x0\n",
      "mevd_quant:: ERROR - fsolve does not work -  change x0\n",
      "mevd_quant:: ERROR - fsolve does not work -  change x0\n",
      "mevd_quant:: ERROR - fsolve does not work -  change x0\n",
      "mevd_quant:: ERROR - fsolve does not work -  change x0\n",
      "mevd_quant:: ERROR - fsolve does not work -  change x0\n",
      "mevd_quant:: ERROR - fsolve does not work -  change x0\n",
      "mevd_quant:: ERROR - fsolve does not work -  change x0\n",
      "mevd_quant:: ERROR - fsolve does not work -  change x0\n",
      "mevd_quant:: ERROR - fsolve does not work -  change x0\n",
      "mevd_quant:: ERROR - fsolve does not work -  change x0\n",
      "mevd_quant:: ERROR - fsolve does not work -  change x0\n",
      "mevd_quant:: ERROR - fsolve does not work -  change x0\n",
      "mevd_quant:: ERROR - fsolve does not work -  change x0\n",
      "mevd_quant:: ERROR - fsolve does not work -  change x0\n",
      "mevd_quant:: ERROR - fsolve does not work -  change x0\n"
     ]
    },
    {
     "name": "stderr",
     "output_type": "stream",
     "text": [
      "/home/arturo/github/downpy/codes/downscale.py:1248: RuntimeWarning: invalid value encountered in power\n",
      "  mev0f = np.sum( ( 1-np.exp(-(y/C)**W ))**N) - nyears*pr\n",
      "/home/arturo/github/downpy/codes/downscale.py:1248: RuntimeWarning: invalid value encountered in power\n",
      "  mev0f = np.sum( ( 1-np.exp(-(y/C)**W ))**N) - nyears*pr\n",
      "/home/arturo/github/downpy/codes/downscale.py:1248: RuntimeWarning: invalid value encountered in power\n",
      "  mev0f = np.sum( ( 1-np.exp(-(y/C)**W ))**N) - nyears*pr\n",
      "/home/arturo/github/downpy/codes/downscale.py:1248: RuntimeWarning: invalid value encountered in power\n",
      "  mev0f = np.sum( ( 1-np.exp(-(y/C)**W ))**N) - nyears*pr\n",
      "/home/arturo/github/downpy/codes/downscale.py:1248: RuntimeWarning: invalid value encountered in power\n",
      "  mev0f = np.sum( ( 1-np.exp(-(y/C)**W ))**N) - nyears*pr\n",
      "/home/arturo/github/downpy/codes/downscale.py:1248: RuntimeWarning: invalid value encountered in power\n",
      "  mev0f = np.sum( ( 1-np.exp(-(y/C)**W ))**N) - nyears*pr\n",
      "/home/arturo/github/downpy/codes/downscale.py:1248: RuntimeWarning: invalid value encountered in power\n",
      "  mev0f = np.sum( ( 1-np.exp(-(y/C)**W ))**N) - nyears*pr\n",
      "/home/arturo/github/downpy/codes/downscale.py:1248: RuntimeWarning: invalid value encountered in power\n",
      "  mev0f = np.sum( ( 1-np.exp(-(y/C)**W ))**N) - nyears*pr\n"
     ]
    },
    {
     "name": "stdout",
     "output_type": "stream",
     "text": [
      "mevd_quant:: ERROR - fsolve does not work -  change x0\n",
      "mevd_quant:: ERROR - fsolve does not work -  change x0\n",
      "mevd_quant:: ERROR - fsolve does not work -  change x0\n",
      "mevd_quant:: ERROR - fsolve does not work -  change x0\n",
      "mevd_quant:: ERROR - fsolve does not work -  change x0\n",
      "mevd_quant:: ERROR - fsolve does not work -  change x0\n",
      "mevd_quant:: ERROR - fsolve does not work -  change x0\n",
      "mevd_quant:: ERROR - fsolve does not work -  change x0\n",
      "mevd_quant:: ERROR - fsolve does not work -  change x0\n",
      "mevd_quant:: ERROR - fsolve does not work -  change x0\n",
      "mevd_quant:: ERROR - fsolve does not work -  change x0\n",
      "mevd_quant:: ERROR - fsolve does not work -  change x0\n",
      "mevd_quant:: ERROR - fsolve does not work -  change x0\n",
      "mevd_quant:: ERROR - fsolve does not work -  change x0\n",
      "mevd_quant:: ERROR - fsolve does not work -  change x0\n",
      "mevd_quant:: ERROR - fsolve does not work -  change x0\n",
      "mevd_quant:: ERROR - fsolve does not work -  change x0\n",
      "mevd_quant:: ERROR - fsolve does not work -  change x0\n",
      "mevd_quant:: ERROR - fsolve does not work -  change x0\n",
      "mevd_quant:: ERROR - fsolve does not work -  change x0\n",
      "mevd_quant:: ERROR - fsolve does not work -  change x0\n",
      "mevd_quant:: ERROR - fsolve does not work -  change x0\n",
      "mevd_quant:: ERROR - fsolve does not work -  change x0\n"
     ]
    },
    {
     "name": "stderr",
     "output_type": "stream",
     "text": [
      "/home/arturo/github/downpy/codes/downscale.py:1248: RuntimeWarning: invalid value encountered in power\n",
      "  mev0f = np.sum( ( 1-np.exp(-(y/C)**W ))**N) - nyears*pr\n",
      "/home/arturo/github/downpy/codes/downscale.py:1248: RuntimeWarning: invalid value encountered in power\n",
      "  mev0f = np.sum( ( 1-np.exp(-(y/C)**W ))**N) - nyears*pr\n",
      "/home/arturo/github/downpy/codes/downscale.py:1248: RuntimeWarning: invalid value encountered in power\n",
      "  mev0f = np.sum( ( 1-np.exp(-(y/C)**W ))**N) - nyears*pr\n",
      "/home/arturo/github/downpy/codes/downscale.py:1248: RuntimeWarning: invalid value encountered in power\n",
      "  mev0f = np.sum( ( 1-np.exp(-(y/C)**W ))**N) - nyears*pr\n"
     ]
    },
    {
     "name": "stdout",
     "output_type": "stream",
     "text": [
      "mevd_quant:: ERROR - fsolve does not work -  change x0\n",
      "mevd_quant:: ERROR - fsolve does not work -  change x0\n",
      "mevd_quant:: ERROR - fsolve does not work -  change x0\n",
      "mevd_quant:: ERROR - fsolve does not work -  change x0\n",
      "mevd_quant:: ERROR - fsolve does not work -  change x0\n"
     ]
    },
    {
     "name": "stderr",
     "output_type": "stream",
     "text": [
      "/home/arturo/github/downpy/codes/downscale.py:1248: RuntimeWarning: invalid value encountered in power\n",
      "  mev0f = np.sum( ( 1-np.exp(-(y/C)**W ))**N) - nyears*pr\n",
      "/home/arturo/github/downpy/codes/downscale.py:1248: RuntimeWarning: invalid value encountered in power\n",
      "  mev0f = np.sum( ( 1-np.exp(-(y/C)**W ))**N) - nyears*pr\n"
     ]
    },
    {
     "name": "stdout",
     "output_type": "stream",
     "text": [
      "mevd_quant:: ERROR - fsolve does not work -  change x0\n",
      "mevd_quant:: ERROR - fsolve does not work -  change x0\n",
      "mevd_quant:: ERROR - fsolve does not work -  change x0\n",
      "38\n"
     ]
    },
    {
     "name": "stderr",
     "output_type": "stream",
     "text": [
      "/home/arturo/github/downpy/codes/downscale.py:1248: RuntimeWarning: invalid value encountered in power\n",
      "  mev0f = np.sum( ( 1-np.exp(-(y/C)**W ))**N) - nyears*pr\n",
      "/home/arturo/github/downpy/codes/downscale.py:1248: RuntimeWarning: invalid value encountered in power\n",
      "  mev0f = np.sum( ( 1-np.exp(-(y/C)**W ))**N) - nyears*pr\n",
      "/home/arturo/github/downpy/codes/downscale.py:1248: RuntimeWarning: invalid value encountered in power\n",
      "  mev0f = np.sum( ( 1-np.exp(-(y/C)**W ))**N) - nyears*pr\n",
      "/home/arturo/github/downpy/codes/downscale.py:1248: RuntimeWarning: invalid value encountered in power\n",
      "  mev0f = np.sum( ( 1-np.exp(-(y/C)**W ))**N) - nyears*pr\n",
      "/home/arturo/github/downpy/codes/downscale.py:1248: RuntimeWarning: invalid value encountered in power\n",
      "  mev0f = np.sum( ( 1-np.exp(-(y/C)**W ))**N) - nyears*pr\n",
      "/home/arturo/github/downpy/codes/downscale.py:1248: RuntimeWarning: invalid value encountered in power\n",
      "  mev0f = np.sum( ( 1-np.exp(-(y/C)**W ))**N) - nyears*pr\n"
     ]
    },
    {
     "name": "stdout",
     "output_type": "stream",
     "text": [
      "mevd_quant:: ERROR - fsolve does not work -  change x0\n",
      "mevd_quant:: ERROR - fsolve does not work -  change x0\n",
      "mevd_quant:: ERROR - fsolve does not work -  change x0\n",
      "mevd_quant:: ERROR - fsolve does not work -  change x0\n",
      "mevd_quant:: ERROR - fsolve does not work -  change x0\n",
      "mevd_quant:: ERROR - fsolve does not work -  change x0\n",
      "mevd_quant:: ERROR - fsolve does not work -  change x0\n",
      "mevd_quant:: ERROR - fsolve does not work -  change x0\n",
      "mevd_quant:: ERROR - fsolve does not work -  change x0\n",
      "mevd_quant:: ERROR - fsolve does not work -  change x0\n",
      "mevd_quant:: ERROR - fsolve does not work -  change x0\n",
      "mevd_quant:: ERROR - fsolve does not work -  change x0\n",
      "mevd_quant:: ERROR - fsolve does not work -  change x0\n",
      "mevd_quant:: ERROR - fsolve does not work -  change x0\n",
      "mevd_quant:: ERROR - fsolve does not work -  change x0\n",
      "mevd_quant:: ERROR - fsolve does not work -  change x0\n",
      "mevd_quant:: ERROR - fsolve does not work -  change x0\n",
      "mevd_quant:: ERROR - fsolve does not work -  change x0\n",
      "mevd_quant:: ERROR - fsolve does not work -  change x0\n",
      "mevd_quant:: ERROR - fsolve does not work -  change x0\n",
      "mevd_quant:: ERROR - fsolve does not work -  change x0\n",
      "mevd_quant:: ERROR - fsolve does not work -  change x0\n",
      "mevd_quant:: ERROR - fsolve does not work -  change x0\n",
      "mevd_quant:: ERROR - fsolve does not work -  change x0\n"
     ]
    },
    {
     "name": "stderr",
     "output_type": "stream",
     "text": [
      "/home/arturo/github/downpy/codes/downscale.py:1248: RuntimeWarning: invalid value encountered in power\n",
      "  mev0f = np.sum( ( 1-np.exp(-(y/C)**W ))**N) - nyears*pr\n",
      "/home/arturo/github/downpy/codes/downscale.py:1248: RuntimeWarning: invalid value encountered in power\n",
      "  mev0f = np.sum( ( 1-np.exp(-(y/C)**W ))**N) - nyears*pr\n",
      "/home/arturo/github/downpy/codes/downscale.py:1248: RuntimeWarning: invalid value encountered in power\n",
      "  mev0f = np.sum( ( 1-np.exp(-(y/C)**W ))**N) - nyears*pr\n",
      "/home/arturo/github/downpy/codes/downscale.py:1248: RuntimeWarning: invalid value encountered in power\n",
      "  mev0f = np.sum( ( 1-np.exp(-(y/C)**W ))**N) - nyears*pr\n",
      "/home/arturo/github/downpy/codes/downscale.py:1248: RuntimeWarning: invalid value encountered in power\n",
      "  mev0f = np.sum( ( 1-np.exp(-(y/C)**W ))**N) - nyears*pr\n",
      "/home/arturo/github/downpy/codes/downscale.py:1248: RuntimeWarning: invalid value encountered in power\n",
      "  mev0f = np.sum( ( 1-np.exp(-(y/C)**W ))**N) - nyears*pr\n",
      "/home/arturo/github/downpy/codes/downscale.py:1248: RuntimeWarning: invalid value encountered in power\n",
      "  mev0f = np.sum( ( 1-np.exp(-(y/C)**W ))**N) - nyears*pr\n"
     ]
    },
    {
     "name": "stdout",
     "output_type": "stream",
     "text": [
      "mevd_quant:: ERROR - fsolve does not work -  change x0\n",
      "mevd_quant:: ERROR - fsolve does not work -  change x0\n",
      "mevd_quant:: ERROR - fsolve does not work -  change x0\n",
      "mevd_quant:: ERROR - fsolve does not work -  change x0\n",
      "mevd_quant:: ERROR - fsolve does not work -  change x0\n",
      "mevd_quant:: ERROR - fsolve does not work -  change x0\n",
      "mevd_quant:: ERROR - fsolve does not work -  change x0\n",
      "mevd_quant:: ERROR - fsolve does not work -  change x0\n",
      "mevd_quant:: ERROR - fsolve does not work -  change x0\n",
      "mevd_quant:: ERROR - fsolve does not work -  change x0\n",
      "mevd_quant:: ERROR - fsolve does not work -  change x0\n",
      "mevd_quant:: ERROR - fsolve does not work -  change x0\n",
      "mevd_quant:: ERROR - fsolve does not work -  change x0\n",
      "mevd_quant:: ERROR - fsolve does not work -  change x0\n",
      "mevd_quant:: ERROR - fsolve does not work -  change x0\n",
      "mevd_quant:: ERROR - fsolve does not work -  change x0\n",
      "mevd_quant:: ERROR - fsolve does not work -  change x0\n",
      "mevd_quant:: ERROR - fsolve does not work -  change x0\n",
      "mevd_quant:: ERROR - fsolve does not work -  change x0\n",
      "mevd_quant:: ERROR - fsolve does not work -  change x0\n",
      "mevd_quant:: ERROR - fsolve does not work -  change x0\n",
      "mevd_quant:: ERROR - fsolve does not work -  change x0\n",
      "mevd_quant:: ERROR - fsolve does not work -  change x0\n",
      "mevd_quant:: ERROR - fsolve does not work -  change x0\n"
     ]
    },
    {
     "name": "stderr",
     "output_type": "stream",
     "text": [
      "/home/arturo/github/downpy/codes/downscale.py:1248: RuntimeWarning: invalid value encountered in power\n",
      "  mev0f = np.sum( ( 1-np.exp(-(y/C)**W ))**N) - nyears*pr\n"
     ]
    },
    {
     "name": "stdout",
     "output_type": "stream",
     "text": [
      "mevd_quant:: ERROR - fsolve does not work -  change x0\n",
      "mevd_quant:: ERROR - fsolve does not work -  change x0\n",
      "mevd_quant:: ERROR - fsolve does not work -  change x0\n"
     ]
    },
    {
     "name": "stderr",
     "output_type": "stream",
     "text": [
      "/home/arturo/github/downpy/codes/downscale.py:1248: RuntimeWarning: invalid value encountered in power\n",
      "  mev0f = np.sum( ( 1-np.exp(-(y/C)**W ))**N) - nyears*pr\n",
      "/home/arturo/github/downpy/codes/downscale.py:1248: RuntimeWarning: invalid value encountered in power\n",
      "  mev0f = np.sum( ( 1-np.exp(-(y/C)**W ))**N) - nyears*pr\n",
      "/home/arturo/github/downpy/codes/downscale.py:1248: RuntimeWarning: invalid value encountered in power\n",
      "  mev0f = np.sum( ( 1-np.exp(-(y/C)**W ))**N) - nyears*pr\n"
     ]
    },
    {
     "name": "stdout",
     "output_type": "stream",
     "text": [
      "mevd_quant:: ERROR - fsolve does not work -  change x0\n",
      "mevd_quant:: ERROR - fsolve does not work -  change x0\n",
      "mevd_quant:: ERROR - fsolve does not work -  change x0\n",
      "mevd_quant:: ERROR - fsolve does not work -  change x0\n",
      "mevd_quant:: ERROR - fsolve does not work -  change x0\n",
      "mevd_quant:: ERROR - fsolve does not work -  change x0\n",
      "mevd_quant:: ERROR - fsolve does not work -  change x0\n",
      "mevd_quant:: ERROR - fsolve does not work -  change x0\n",
      "39\n",
      "mevd_quant:: ERROR - fsolve does not work -  change x0\n",
      "mevd_quant:: ERROR - fsolve does not work -  change x0\n",
      "mevd_quant:: ERROR - fsolve does not work -  change x0\n",
      "mevd_quant:: ERROR - fsolve does not work -  change x0\n",
      "mevd_quant:: ERROR - fsolve does not work -  change x0\n",
      "mevd_quant:: ERROR - fsolve does not work -  change x0\n",
      "mevd_quant:: ERROR - fsolve does not work -  change x0\n",
      "mevd_quant:: ERROR - fsolve does not work -  change x0\n"
     ]
    },
    {
     "name": "stderr",
     "output_type": "stream",
     "text": [
      "/home/arturo/github/downpy/codes/downscale.py:1248: RuntimeWarning: invalid value encountered in power\n",
      "  mev0f = np.sum( ( 1-np.exp(-(y/C)**W ))**N) - nyears*pr\n",
      "/home/arturo/github/downpy/codes/downscale.py:1248: RuntimeWarning: invalid value encountered in power\n",
      "  mev0f = np.sum( ( 1-np.exp(-(y/C)**W ))**N) - nyears*pr\n",
      "/home/arturo/github/downpy/codes/downscale.py:1248: RuntimeWarning: invalid value encountered in power\n",
      "  mev0f = np.sum( ( 1-np.exp(-(y/C)**W ))**N) - nyears*pr\n",
      "/home/arturo/github/downpy/codes/downscale.py:1248: RuntimeWarning: invalid value encountered in power\n",
      "  mev0f = np.sum( ( 1-np.exp(-(y/C)**W ))**N) - nyears*pr\n",
      "/home/arturo/github/downpy/codes/downscale.py:1248: RuntimeWarning: invalid value encountered in power\n",
      "  mev0f = np.sum( ( 1-np.exp(-(y/C)**W ))**N) - nyears*pr\n",
      "/home/arturo/github/downpy/codes/downscale.py:1248: RuntimeWarning: invalid value encountered in power\n",
      "  mev0f = np.sum( ( 1-np.exp(-(y/C)**W ))**N) - nyears*pr\n",
      "/home/arturo/github/downpy/codes/downscale.py:1248: RuntimeWarning: invalid value encountered in power\n",
      "  mev0f = np.sum( ( 1-np.exp(-(y/C)**W ))**N) - nyears*pr\n",
      "/home/arturo/github/downpy/codes/downscale.py:1248: RuntimeWarning: invalid value encountered in power\n",
      "  mev0f = np.sum( ( 1-np.exp(-(y/C)**W ))**N) - nyears*pr\n",
      "/home/arturo/github/downpy/codes/downscale.py:1248: RuntimeWarning: invalid value encountered in power\n",
      "  mev0f = np.sum( ( 1-np.exp(-(y/C)**W ))**N) - nyears*pr\n",
      "/home/arturo/github/downpy/codes/downscale.py:1248: RuntimeWarning: invalid value encountered in power\n",
      "  mev0f = np.sum( ( 1-np.exp(-(y/C)**W ))**N) - nyears*pr\n",
      "/home/arturo/github/downpy/codes/downscale.py:1248: RuntimeWarning: invalid value encountered in power\n",
      "  mev0f = np.sum( ( 1-np.exp(-(y/C)**W ))**N) - nyears*pr\n",
      "/home/arturo/github/downpy/codes/downscale.py:1248: RuntimeWarning: invalid value encountered in power\n",
      "  mev0f = np.sum( ( 1-np.exp(-(y/C)**W ))**N) - nyears*pr\n"
     ]
    },
    {
     "name": "stdout",
     "output_type": "stream",
     "text": [
      "mevd_quant:: ERROR - fsolve does not work -  change x0\n",
      "mevd_quant:: ERROR - fsolve does not work -  change x0\n",
      "mevd_quant:: ERROR - fsolve does not work -  change x0\n",
      "mevd_quant:: ERROR - fsolve does not work -  change x0\n",
      "mevd_quant:: ERROR - fsolve does not work -  change x0\n",
      "mevd_quant:: ERROR - fsolve does not work -  change x0\n",
      "mevd_quant:: ERROR - fsolve does not work -  change x0\n",
      "mevd_quant:: ERROR - fsolve does not work -  change x0\n",
      "mevd_quant:: ERROR - fsolve does not work -  change x0\n",
      "mevd_quant:: ERROR - fsolve does not work -  change x0\n",
      "mevd_quant:: ERROR - fsolve does not work -  change x0\n",
      "mevd_quant:: ERROR - fsolve does not work -  change x0\n",
      "mevd_quant:: ERROR - fsolve does not work -  change x0\n",
      "mevd_quant:: ERROR - fsolve does not work -  change x0\n",
      "mevd_quant:: ERROR - fsolve does not work -  change x0\n",
      "mevd_quant:: ERROR - fsolve does not work -  change x0\n",
      "mevd_quant:: ERROR - fsolve does not work -  change x0\n",
      "mevd_quant:: ERROR - fsolve does not work -  change x0\n",
      "mevd_quant:: ERROR - fsolve does not work -  change x0\n",
      "mevd_quant:: ERROR - fsolve does not work -  change x0\n",
      "mevd_quant:: ERROR - fsolve does not work -  change x0\n",
      "mevd_quant:: ERROR - fsolve does not work -  change x0\n",
      "mevd_quant:: ERROR - fsolve does not work -  change x0\n",
      "mevd_quant:: ERROR - fsolve does not work -  change x0\n",
      "mevd_quant:: ERROR - fsolve does not work -  change x0\n",
      "mevd_quant:: ERROR - fsolve does not work -  change x0\n",
      "mevd_quant:: ERROR - fsolve does not work -  change x0\n",
      "mevd_quant:: ERROR - fsolve does not work -  change x0\n",
      "mevd_quant:: ERROR - fsolve does not work -  change x0\n",
      "mevd_quant:: ERROR - fsolve does not work -  change x0\n",
      "mevd_quant:: ERROR - fsolve does not work -  change x0\n",
      "mevd_quant:: ERROR - fsolve does not work -  change x0\n",
      "mevd_quant:: ERROR - fsolve does not work -  change x0\n",
      "mevd_quant:: ERROR - fsolve does not work -  change x0\n",
      "mevd_quant:: ERROR - fsolve does not work -  change x0\n",
      "mevd_quant:: ERROR - fsolve does not work -  change x0\n",
      "mevd_quant:: ERROR - fsolve does not work -  change x0\n",
      "mevd_quant:: ERROR - fsolve does not work -  change x0\n",
      "mevd_quant:: ERROR - fsolve does not work -  change x0\n",
      "mevd_quant:: ERROR - fsolve does not work -  change x0\n",
      "mevd_quant:: ERROR - fsolve does not work -  change x0\n",
      "mevd_quant:: ERROR - fsolve does not work -  change x0\n",
      "mevd_quant:: ERROR - fsolve does not work -  change x0\n",
      "mevd_quant:: ERROR - fsolve does not work -  change x0\n"
     ]
    },
    {
     "name": "stderr",
     "output_type": "stream",
     "text": [
      "/home/arturo/github/downpy/codes/downscale.py:1248: RuntimeWarning: invalid value encountered in power\n",
      "  mev0f = np.sum( ( 1-np.exp(-(y/C)**W ))**N) - nyears*pr\n",
      "/home/arturo/github/downpy/codes/downscale.py:1248: RuntimeWarning: invalid value encountered in power\n",
      "  mev0f = np.sum( ( 1-np.exp(-(y/C)**W ))**N) - nyears*pr\n",
      "/home/arturo/github/downpy/codes/downscale.py:1248: RuntimeWarning: invalid value encountered in power\n",
      "  mev0f = np.sum( ( 1-np.exp(-(y/C)**W ))**N) - nyears*pr\n",
      "/home/arturo/github/downpy/codes/downscale.py:1248: RuntimeWarning: invalid value encountered in power\n",
      "  mev0f = np.sum( ( 1-np.exp(-(y/C)**W ))**N) - nyears*pr\n",
      "/home/arturo/github/downpy/codes/downscale.py:1248: RuntimeWarning: invalid value encountered in power\n",
      "  mev0f = np.sum( ( 1-np.exp(-(y/C)**W ))**N) - nyears*pr\n",
      "/home/arturo/github/downpy/codes/downscale.py:1248: RuntimeWarning: invalid value encountered in power\n",
      "  mev0f = np.sum( ( 1-np.exp(-(y/C)**W ))**N) - nyears*pr\n",
      "/home/arturo/github/downpy/codes/downscale.py:1248: RuntimeWarning: invalid value encountered in power\n",
      "  mev0f = np.sum( ( 1-np.exp(-(y/C)**W ))**N) - nyears*pr\n",
      "/home/arturo/github/downpy/codes/downscale.py:1248: RuntimeWarning: invalid value encountered in power\n",
      "  mev0f = np.sum( ( 1-np.exp(-(y/C)**W ))**N) - nyears*pr\n",
      "/home/arturo/github/downpy/codes/downscale.py:1248: RuntimeWarning: invalid value encountered in power\n",
      "  mev0f = np.sum( ( 1-np.exp(-(y/C)**W ))**N) - nyears*pr\n",
      "/home/arturo/github/downpy/codes/downscale.py:1248: RuntimeWarning: invalid value encountered in power\n",
      "  mev0f = np.sum( ( 1-np.exp(-(y/C)**W ))**N) - nyears*pr\n",
      "/home/arturo/github/downpy/codes/downscale.py:1248: RuntimeWarning: invalid value encountered in power\n",
      "  mev0f = np.sum( ( 1-np.exp(-(y/C)**W ))**N) - nyears*pr\n"
     ]
    },
    {
     "name": "stdout",
     "output_type": "stream",
     "text": [
      "mevd_quant:: ERROR - fsolve does not work -  change x0\n",
      "mevd_quant:: ERROR - fsolve does not work -  change x0\n",
      "mevd_quant:: ERROR - fsolve does not work -  change x0\n",
      "mevd_quant:: ERROR - fsolve does not work -  change x0\n",
      "mevd_quant:: ERROR - fsolve does not work -  change x0\n",
      "mevd_quant:: ERROR - fsolve does not work -  change x0\n",
      "mevd_quant:: ERROR - fsolve does not work -  change x0\n",
      "mevd_quant:: ERROR - fsolve does not work -  change x0\n",
      "mevd_quant:: ERROR - fsolve does not work -  change x0\n",
      "mevd_quant:: ERROR - fsolve does not work -  change x0\n",
      "mevd_quant:: ERROR - fsolve does not work -  change x0\n",
      "mevd_quant:: ERROR - fsolve does not work -  change x0\n",
      "mevd_quant:: ERROR - fsolve does not work -  change x0\n",
      "mevd_quant:: ERROR - fsolve does not work -  change x0\n",
      "mevd_quant:: ERROR - fsolve does not work -  change x0\n",
      "mevd_quant:: ERROR - fsolve does not work -  change x0\n",
      "mevd_quant:: ERROR - fsolve does not work -  change x0\n",
      "mevd_quant:: ERROR - fsolve does not work -  change x0\n",
      "mevd_quant:: ERROR - fsolve does not work -  change x0\n",
      "mevd_quant:: ERROR - fsolve does not work -  change x0\n",
      "mevd_quant:: ERROR - fsolve does not work -  change x0\n",
      "mevd_quant:: ERROR - fsolve does not work -  change x0\n",
      "mevd_quant:: ERROR - fsolve does not work -  change x0\n"
     ]
    },
    {
     "name": "stderr",
     "output_type": "stream",
     "text": [
      "/home/arturo/github/downpy/codes/downscale.py:1248: RuntimeWarning: invalid value encountered in power\n",
      "  mev0f = np.sum( ( 1-np.exp(-(y/C)**W ))**N) - nyears*pr\n",
      "/home/arturo/github/downpy/codes/downscale.py:1248: RuntimeWarning: invalid value encountered in power\n",
      "  mev0f = np.sum( ( 1-np.exp(-(y/C)**W ))**N) - nyears*pr\n"
     ]
    },
    {
     "name": "stdout",
     "output_type": "stream",
     "text": [
      "mevd_quant:: ERROR - fsolve does not work -  change x0\n",
      "mevd_quant:: ERROR - fsolve does not work -  change x0\n"
     ]
    },
    {
     "name": "stderr",
     "output_type": "stream",
     "text": [
      "/home/arturo/github/downpy/codes/downscale.py:1248: RuntimeWarning: invalid value encountered in power\n",
      "  mev0f = np.sum( ( 1-np.exp(-(y/C)**W ))**N) - nyears*pr\n",
      "/home/arturo/github/downpy/codes/downscale.py:1248: RuntimeWarning: invalid value encountered in power\n",
      "  mev0f = np.sum( ( 1-np.exp(-(y/C)**W ))**N) - nyears*pr\n",
      "/home/arturo/github/downpy/codes/downscale.py:1248: RuntimeWarning: invalid value encountered in power\n",
      "  mev0f = np.sum( ( 1-np.exp(-(y/C)**W ))**N) - nyears*pr\n",
      "/home/arturo/github/downpy/codes/downscale.py:1248: RuntimeWarning: invalid value encountered in power\n",
      "  mev0f = np.sum( ( 1-np.exp(-(y/C)**W ))**N) - nyears*pr\n"
     ]
    },
    {
     "name": "stdout",
     "output_type": "stream",
     "text": [
      "mevd_quant:: ERROR - fsolve does not work -  change x0\n",
      "mevd_quant:: ERROR - fsolve does not work -  change x0\n",
      "mevd_quant:: ERROR - fsolve does not work -  change x0\n",
      "mevd_quant:: ERROR - fsolve does not work -  change x0\n",
      "mevd_quant:: ERROR - fsolve does not work -  change x0\n",
      "mevd_quant:: ERROR - fsolve does not work -  change x0\n",
      "mevd_quant:: ERROR - fsolve does not work -  change x0\n",
      "mevd_quant:: ERROR - fsolve does not work -  change x0\n",
      "40\n"
     ]
    },
    {
     "name": "stderr",
     "output_type": "stream",
     "text": [
      "/home/arturo/github/downpy/codes/downscale.py:1248: RuntimeWarning: invalid value encountered in power\n",
      "  mev0f = np.sum( ( 1-np.exp(-(y/C)**W ))**N) - nyears*pr\n",
      "/home/arturo/github/downpy/codes/downscale.py:1248: RuntimeWarning: invalid value encountered in power\n",
      "  mev0f = np.sum( ( 1-np.exp(-(y/C)**W ))**N) - nyears*pr\n",
      "/home/arturo/github/downpy/codes/downscale.py:1248: RuntimeWarning: invalid value encountered in power\n",
      "  mev0f = np.sum( ( 1-np.exp(-(y/C)**W ))**N) - nyears*pr\n",
      "/home/arturo/github/downpy/codes/downscale.py:1248: RuntimeWarning: invalid value encountered in power\n",
      "  mev0f = np.sum( ( 1-np.exp(-(y/C)**W ))**N) - nyears*pr\n",
      "/home/arturo/github/downpy/codes/downscale.py:1248: RuntimeWarning: invalid value encountered in power\n",
      "  mev0f = np.sum( ( 1-np.exp(-(y/C)**W ))**N) - nyears*pr\n",
      "/home/arturo/github/downpy/codes/downscale.py:1248: RuntimeWarning: invalid value encountered in power\n",
      "  mev0f = np.sum( ( 1-np.exp(-(y/C)**W ))**N) - nyears*pr\n",
      "/home/arturo/github/downpy/codes/downscale.py:1248: RuntimeWarning: invalid value encountered in power\n",
      "  mev0f = np.sum( ( 1-np.exp(-(y/C)**W ))**N) - nyears*pr\n",
      "/home/arturo/github/downpy/codes/downscale.py:1248: RuntimeWarning: invalid value encountered in power\n",
      "  mev0f = np.sum( ( 1-np.exp(-(y/C)**W ))**N) - nyears*pr\n",
      "/home/arturo/github/downpy/codes/downscale.py:1248: RuntimeWarning: invalid value encountered in power\n",
      "  mev0f = np.sum( ( 1-np.exp(-(y/C)**W ))**N) - nyears*pr\n",
      "/home/arturo/github/downpy/codes/downscale.py:1248: RuntimeWarning: invalid value encountered in power\n",
      "  mev0f = np.sum( ( 1-np.exp(-(y/C)**W ))**N) - nyears*pr\n",
      "/home/arturo/github/downpy/codes/downscale.py:1248: RuntimeWarning: invalid value encountered in power\n",
      "  mev0f = np.sum( ( 1-np.exp(-(y/C)**W ))**N) - nyears*pr\n",
      "/home/arturo/github/downpy/codes/downscale.py:1248: RuntimeWarning: invalid value encountered in power\n",
      "  mev0f = np.sum( ( 1-np.exp(-(y/C)**W ))**N) - nyears*pr\n",
      "/home/arturo/github/downpy/codes/downscale.py:1248: RuntimeWarning: invalid value encountered in power\n",
      "  mev0f = np.sum( ( 1-np.exp(-(y/C)**W ))**N) - nyears*pr\n",
      "/home/arturo/github/downpy/codes/downscale.py:1248: RuntimeWarning: invalid value encountered in power\n",
      "  mev0f = np.sum( ( 1-np.exp(-(y/C)**W ))**N) - nyears*pr\n",
      "/home/arturo/github/downpy/codes/downscale.py:1248: RuntimeWarning: invalid value encountered in power\n",
      "  mev0f = np.sum( ( 1-np.exp(-(y/C)**W ))**N) - nyears*pr\n",
      "/home/arturo/github/downpy/codes/downscale.py:1248: RuntimeWarning: invalid value encountered in power\n",
      "  mev0f = np.sum( ( 1-np.exp(-(y/C)**W ))**N) - nyears*pr\n",
      "/home/arturo/github/downpy/codes/downscale.py:1248: RuntimeWarning: invalid value encountered in power\n",
      "  mev0f = np.sum( ( 1-np.exp(-(y/C)**W ))**N) - nyears*pr\n"
     ]
    },
    {
     "name": "stdout",
     "output_type": "stream",
     "text": [
      "mevd_quant:: ERROR - fsolve does not work -  change x0\n",
      "mevd_quant:: ERROR - fsolve does not work -  change x0\n",
      "mevd_quant:: ERROR - fsolve does not work -  change x0\n",
      "mevd_quant:: ERROR - fsolve does not work -  change x0\n",
      "mevd_quant:: ERROR - fsolve does not work -  change x0\n",
      "mevd_quant:: ERROR - fsolve does not work -  change x0\n",
      "mevd_quant:: ERROR - fsolve does not work -  change x0\n",
      "mevd_quant:: ERROR - fsolve does not work -  change x0\n",
      "mevd_quant:: ERROR - fsolve does not work -  change x0\n",
      "mevd_quant:: ERROR - fsolve does not work -  change x0\n",
      "mevd_quant:: ERROR - fsolve does not work -  change x0\n",
      "mevd_quant:: ERROR - fsolve does not work -  change x0\n",
      "mevd_quant:: ERROR - fsolve does not work -  change x0\n",
      "mevd_quant:: ERROR - fsolve does not work -  change x0\n",
      "mevd_quant:: ERROR - fsolve does not work -  change x0\n",
      "mevd_quant:: ERROR - fsolve does not work -  change x0\n",
      "mevd_quant:: ERROR - fsolve does not work -  change x0\n",
      "mevd_quant:: ERROR - fsolve does not work -  change x0\n",
      "mevd_quant:: ERROR - fsolve does not work -  change x0\n",
      "mevd_quant:: ERROR - fsolve does not work -  change x0\n",
      "mevd_quant:: ERROR - fsolve does not work -  change x0\n",
      "mevd_quant:: ERROR - fsolve does not work -  change x0\n",
      "mevd_quant:: ERROR - fsolve does not work -  change x0\n",
      "mevd_quant:: ERROR - fsolve does not work -  change x0\n",
      "mevd_quant:: ERROR - fsolve does not work -  change x0\n",
      "mevd_quant:: ERROR - fsolve does not work -  change x0\n",
      "mevd_quant:: ERROR - fsolve does not work -  change x0\n",
      "mevd_quant:: ERROR - fsolve does not work -  change x0\n",
      "mevd_quant:: ERROR - fsolve does not work -  change x0\n",
      "mevd_quant:: ERROR - fsolve does not work -  change x0\n",
      "mevd_quant:: ERROR - fsolve does not work -  change x0\n",
      "mevd_quant:: ERROR - fsolve does not work -  change x0\n",
      "mevd_quant:: ERROR - fsolve does not work -  change x0\n",
      "mevd_quant:: ERROR - fsolve does not work -  change x0\n",
      "mevd_quant:: ERROR - fsolve does not work -  change x0\n",
      "mevd_quant:: ERROR - fsolve does not work -  change x0\n",
      "mevd_quant:: ERROR - fsolve does not work -  change x0\n",
      "mevd_quant:: ERROR - fsolve does not work -  change x0\n",
      "mevd_quant:: ERROR - fsolve does not work -  change x0\n",
      "mevd_quant:: ERROR - fsolve does not work -  change x0\n",
      "mevd_quant:: ERROR - fsolve does not work -  change x0\n",
      "mevd_quant:: ERROR - fsolve does not work -  change x0\n",
      "mevd_quant:: ERROR - fsolve does not work -  change x0\n",
      "mevd_quant:: ERROR - fsolve does not work -  change x0\n",
      "mevd_quant:: ERROR - fsolve does not work -  change x0\n",
      "mevd_quant:: ERROR - fsolve does not work -  change x0\n",
      "mevd_quant:: ERROR - fsolve does not work -  change x0\n",
      "mevd_quant:: ERROR - fsolve does not work -  change x0\n",
      "mevd_quant:: ERROR - fsolve does not work -  change x0\n",
      "mevd_quant:: ERROR - fsolve does not work -  change x0\n",
      "mevd_quant:: ERROR - fsolve does not work -  change x0\n"
     ]
    },
    {
     "name": "stderr",
     "output_type": "stream",
     "text": [
      "/home/arturo/github/downpy/codes/downscale.py:1248: RuntimeWarning: invalid value encountered in power\n",
      "  mev0f = np.sum( ( 1-np.exp(-(y/C)**W ))**N) - nyears*pr\n",
      "/home/arturo/github/downpy/codes/downscale.py:1248: RuntimeWarning: invalid value encountered in power\n",
      "  mev0f = np.sum( ( 1-np.exp(-(y/C)**W ))**N) - nyears*pr\n",
      "/home/arturo/github/downpy/codes/downscale.py:1248: RuntimeWarning: invalid value encountered in power\n",
      "  mev0f = np.sum( ( 1-np.exp(-(y/C)**W ))**N) - nyears*pr\n",
      "/home/arturo/github/downpy/codes/downscale.py:1248: RuntimeWarning: invalid value encountered in power\n",
      "  mev0f = np.sum( ( 1-np.exp(-(y/C)**W ))**N) - nyears*pr\n",
      "/home/arturo/github/downpy/codes/downscale.py:1248: RuntimeWarning: invalid value encountered in power\n",
      "  mev0f = np.sum( ( 1-np.exp(-(y/C)**W ))**N) - nyears*pr\n",
      "/home/arturo/github/downpy/codes/downscale.py:1248: RuntimeWarning: invalid value encountered in power\n",
      "  mev0f = np.sum( ( 1-np.exp(-(y/C)**W ))**N) - nyears*pr\n",
      "/home/arturo/github/downpy/codes/downscale.py:1248: RuntimeWarning: invalid value encountered in power\n",
      "  mev0f = np.sum( ( 1-np.exp(-(y/C)**W ))**N) - nyears*pr\n",
      "/home/arturo/github/downpy/codes/downscale.py:1248: RuntimeWarning: invalid value encountered in power\n",
      "  mev0f = np.sum( ( 1-np.exp(-(y/C)**W ))**N) - nyears*pr\n"
     ]
    },
    {
     "name": "stdout",
     "output_type": "stream",
     "text": [
      "mevd_quant:: ERROR - fsolve does not work -  change x0\n",
      "mevd_quant:: ERROR - fsolve does not work -  change x0\n",
      "mevd_quant:: ERROR - fsolve does not work -  change x0\n",
      "mevd_quant:: ERROR - fsolve does not work -  change x0\n",
      "mevd_quant:: ERROR - fsolve does not work -  change x0\n",
      "mevd_quant:: ERROR - fsolve does not work -  change x0\n",
      "mevd_quant:: ERROR - fsolve does not work -  change x0\n",
      "mevd_quant:: ERROR - fsolve does not work -  change x0\n",
      "mevd_quant:: ERROR - fsolve does not work -  change x0\n",
      "mevd_quant:: ERROR - fsolve does not work -  change x0\n",
      "mevd_quant:: ERROR - fsolve does not work -  change x0\n",
      "mevd_quant:: ERROR - fsolve does not work -  change x0\n",
      "mevd_quant:: ERROR - fsolve does not work -  change x0\n",
      "mevd_quant:: ERROR - fsolve does not work -  change x0\n",
      "mevd_quant:: ERROR - fsolve does not work -  change x0\n",
      "mevd_quant:: ERROR - fsolve does not work -  change x0\n",
      "mevd_quant:: ERROR - fsolve does not work -  change x0\n",
      "mevd_quant:: ERROR - fsolve does not work -  change x0\n",
      "mevd_quant:: ERROR - fsolve does not work -  change x0\n",
      "mevd_quant:: ERROR - fsolve does not work -  change x0\n",
      "mevd_quant:: ERROR - fsolve does not work -  change x0\n",
      "mevd_quant:: ERROR - fsolve does not work -  change x0\n",
      "mevd_quant:: ERROR - fsolve does not work -  change x0\n",
      "mevd_quant:: ERROR - fsolve does not work -  change x0\n",
      "mevd_quant:: ERROR - fsolve does not work -  change x0\n",
      "mevd_quant:: ERROR - fsolve does not work -  change x0\n"
     ]
    },
    {
     "name": "stderr",
     "output_type": "stream",
     "text": [
      "/home/arturo/github/downpy/codes/downscale.py:1248: RuntimeWarning: invalid value encountered in power\n",
      "  mev0f = np.sum( ( 1-np.exp(-(y/C)**W ))**N) - nyears*pr\n",
      "/home/arturo/github/downpy/codes/downscale.py:1248: RuntimeWarning: invalid value encountered in power\n",
      "  mev0f = np.sum( ( 1-np.exp(-(y/C)**W ))**N) - nyears*pr\n",
      "/home/arturo/github/downpy/codes/downscale.py:1248: RuntimeWarning: invalid value encountered in power\n",
      "  mev0f = np.sum( ( 1-np.exp(-(y/C)**W ))**N) - nyears*pr\n",
      "/home/arturo/github/downpy/codes/downscale.py:1248: RuntimeWarning: invalid value encountered in power\n",
      "  mev0f = np.sum( ( 1-np.exp(-(y/C)**W ))**N) - nyears*pr\n"
     ]
    },
    {
     "name": "stdout",
     "output_type": "stream",
     "text": [
      "mevd_quant:: ERROR - fsolve does not work -  change x0\n",
      "mevd_quant:: ERROR - fsolve does not work -  change x0\n",
      "mevd_quant:: ERROR - fsolve does not work -  change x0\n",
      "mevd_quant:: ERROR - fsolve does not work -  change x0\n",
      "mevd_quant:: ERROR - fsolve does not work -  change x0\n",
      "mevd_quant:: ERROR - fsolve does not work -  change x0\n",
      "mevd_quant:: ERROR - fsolve does not work -  change x0\n",
      "mevd_quant:: ERROR - fsolve does not work -  change x0\n",
      "mevd_quant:: ERROR - fsolve does not work -  change x0\n"
     ]
    },
    {
     "name": "stderr",
     "output_type": "stream",
     "text": [
      "/home/arturo/github/downpy/codes/downscale.py:1248: RuntimeWarning: invalid value encountered in power\n",
      "  mev0f = np.sum( ( 1-np.exp(-(y/C)**W ))**N) - nyears*pr\n",
      "/home/arturo/github/downpy/codes/downscale.py:1248: RuntimeWarning: invalid value encountered in power\n",
      "  mev0f = np.sum( ( 1-np.exp(-(y/C)**W ))**N) - nyears*pr\n",
      "/home/arturo/github/downpy/codes/downscale.py:1248: RuntimeWarning: invalid value encountered in power\n",
      "  mev0f = np.sum( ( 1-np.exp(-(y/C)**W ))**N) - nyears*pr\n"
     ]
    },
    {
     "name": "stdout",
     "output_type": "stream",
     "text": [
      "mevd_quant:: ERROR - fsolve does not work -  change x0\n",
      "mevd_quant:: ERROR - fsolve does not work -  change x0\n",
      "mevd_quant:: ERROR - fsolve does not work -  change x0\n",
      "mevd_quant:: ERROR - fsolve does not work -  change x0\n",
      "41\n"
     ]
    },
    {
     "name": "stderr",
     "output_type": "stream",
     "text": [
      "/home/arturo/github/downpy/codes/downscale.py:1248: RuntimeWarning: invalid value encountered in power\n",
      "  mev0f = np.sum( ( 1-np.exp(-(y/C)**W ))**N) - nyears*pr\n",
      "/home/arturo/github/downpy/codes/downscale.py:1248: RuntimeWarning: invalid value encountered in power\n",
      "  mev0f = np.sum( ( 1-np.exp(-(y/C)**W ))**N) - nyears*pr\n",
      "/home/arturo/github/downpy/codes/downscale.py:1248: RuntimeWarning: invalid value encountered in power\n",
      "  mev0f = np.sum( ( 1-np.exp(-(y/C)**W ))**N) - nyears*pr\n",
      "/home/arturo/github/downpy/codes/downscale.py:1248: RuntimeWarning: invalid value encountered in power\n",
      "  mev0f = np.sum( ( 1-np.exp(-(y/C)**W ))**N) - nyears*pr\n",
      "/home/arturo/github/downpy/codes/downscale.py:1248: RuntimeWarning: invalid value encountered in power\n",
      "  mev0f = np.sum( ( 1-np.exp(-(y/C)**W ))**N) - nyears*pr\n",
      "/home/arturo/github/downpy/codes/downscale.py:1248: RuntimeWarning: invalid value encountered in power\n",
      "  mev0f = np.sum( ( 1-np.exp(-(y/C)**W ))**N) - nyears*pr\n",
      "/home/arturo/github/downpy/codes/downscale.py:1248: RuntimeWarning: invalid value encountered in power\n",
      "  mev0f = np.sum( ( 1-np.exp(-(y/C)**W ))**N) - nyears*pr\n",
      "/home/arturo/github/downpy/codes/downscale.py:1248: RuntimeWarning: invalid value encountered in power\n",
      "  mev0f = np.sum( ( 1-np.exp(-(y/C)**W ))**N) - nyears*pr\n",
      "/home/arturo/github/downpy/codes/downscale.py:1248: RuntimeWarning: invalid value encountered in power\n",
      "  mev0f = np.sum( ( 1-np.exp(-(y/C)**W ))**N) - nyears*pr\n",
      "/home/arturo/github/downpy/codes/downscale.py:1248: RuntimeWarning: invalid value encountered in power\n",
      "  mev0f = np.sum( ( 1-np.exp(-(y/C)**W ))**N) - nyears*pr\n",
      "/home/arturo/github/downpy/codes/downscale.py:1248: RuntimeWarning: invalid value encountered in power\n",
      "  mev0f = np.sum( ( 1-np.exp(-(y/C)**W ))**N) - nyears*pr\n"
     ]
    },
    {
     "name": "stdout",
     "output_type": "stream",
     "text": [
      "mevd_quant:: ERROR - fsolve does not work -  change x0\n",
      "mevd_quant:: ERROR - fsolve does not work -  change x0\n",
      "mevd_quant:: ERROR - fsolve does not work -  change x0\n",
      "mevd_quant:: ERROR - fsolve does not work -  change x0\n",
      "mevd_quant:: ERROR - fsolve does not work -  change x0\n",
      "mevd_quant:: ERROR - fsolve does not work -  change x0\n",
      "mevd_quant:: ERROR - fsolve does not work -  change x0\n",
      "mevd_quant:: ERROR - fsolve does not work -  change x0\n",
      "mevd_quant:: ERROR - fsolve does not work -  change x0\n",
      "mevd_quant:: ERROR - fsolve does not work -  change x0\n",
      "mevd_quant:: ERROR - fsolve does not work -  change x0\n",
      "mevd_quant:: ERROR - fsolve does not work -  change x0\n",
      "mevd_quant:: ERROR - fsolve does not work -  change x0\n",
      "mevd_quant:: ERROR - fsolve does not work -  change x0\n",
      "mevd_quant:: ERROR - fsolve does not work -  change x0\n",
      "mevd_quant:: ERROR - fsolve does not work -  change x0\n",
      "mevd_quant:: ERROR - fsolve does not work -  change x0\n",
      "mevd_quant:: ERROR - fsolve does not work -  change x0\n",
      "mevd_quant:: ERROR - fsolve does not work -  change x0\n",
      "mevd_quant:: ERROR - fsolve does not work -  change x0\n",
      "mevd_quant:: ERROR - fsolve does not work -  change x0\n",
      "mevd_quant:: ERROR - fsolve does not work -  change x0\n",
      "mevd_quant:: ERROR - fsolve does not work -  change x0\n",
      "mevd_quant:: ERROR - fsolve does not work -  change x0\n",
      "mevd_quant:: ERROR - fsolve does not work -  change x0\n",
      "mevd_quant:: ERROR - fsolve does not work -  change x0\n",
      "mevd_quant:: ERROR - fsolve does not work -  change x0\n",
      "mevd_quant:: ERROR - fsolve does not work -  change x0\n",
      "mevd_quant:: ERROR - fsolve does not work -  change x0\n",
      "mevd_quant:: ERROR - fsolve does not work -  change x0\n",
      "mevd_quant:: ERROR - fsolve does not work -  change x0\n",
      "mevd_quant:: ERROR - fsolve does not work -  change x0\n",
      "mevd_quant:: ERROR - fsolve does not work -  change x0\n"
     ]
    },
    {
     "name": "stderr",
     "output_type": "stream",
     "text": [
      "/home/arturo/github/downpy/codes/downscale.py:1248: RuntimeWarning: invalid value encountered in power\n",
      "  mev0f = np.sum( ( 1-np.exp(-(y/C)**W ))**N) - nyears*pr\n",
      "/home/arturo/github/downpy/codes/downscale.py:1248: RuntimeWarning: invalid value encountered in power\n",
      "  mev0f = np.sum( ( 1-np.exp(-(y/C)**W ))**N) - nyears*pr\n",
      "/home/arturo/github/downpy/codes/downscale.py:1248: RuntimeWarning: invalid value encountered in power\n",
      "  mev0f = np.sum( ( 1-np.exp(-(y/C)**W ))**N) - nyears*pr\n",
      "/home/arturo/github/downpy/codes/downscale.py:1248: RuntimeWarning: invalid value encountered in power\n",
      "  mev0f = np.sum( ( 1-np.exp(-(y/C)**W ))**N) - nyears*pr\n",
      "/home/arturo/github/downpy/codes/downscale.py:1248: RuntimeWarning: invalid value encountered in power\n",
      "  mev0f = np.sum( ( 1-np.exp(-(y/C)**W ))**N) - nyears*pr\n",
      "/home/arturo/github/downpy/codes/downscale.py:1248: RuntimeWarning: invalid value encountered in power\n",
      "  mev0f = np.sum( ( 1-np.exp(-(y/C)**W ))**N) - nyears*pr\n",
      "/home/arturo/github/downpy/codes/downscale.py:1248: RuntimeWarning: invalid value encountered in power\n",
      "  mev0f = np.sum( ( 1-np.exp(-(y/C)**W ))**N) - nyears*pr\n",
      "/home/arturo/github/downpy/codes/downscale.py:1248: RuntimeWarning: invalid value encountered in power\n",
      "  mev0f = np.sum( ( 1-np.exp(-(y/C)**W ))**N) - nyears*pr\n",
      "/home/arturo/github/downpy/codes/downscale.py:1248: RuntimeWarning: invalid value encountered in power\n",
      "  mev0f = np.sum( ( 1-np.exp(-(y/C)**W ))**N) - nyears*pr\n",
      "/home/arturo/github/downpy/codes/downscale.py:1248: RuntimeWarning: invalid value encountered in power\n",
      "  mev0f = np.sum( ( 1-np.exp(-(y/C)**W ))**N) - nyears*pr\n",
      "/home/arturo/github/downpy/codes/downscale.py:1248: RuntimeWarning: invalid value encountered in power\n",
      "  mev0f = np.sum( ( 1-np.exp(-(y/C)**W ))**N) - nyears*pr\n"
     ]
    },
    {
     "name": "stdout",
     "output_type": "stream",
     "text": [
      "mevd_quant:: ERROR - fsolve does not work -  change x0\n",
      "mevd_quant:: ERROR - fsolve does not work -  change x0\n",
      "mevd_quant:: ERROR - fsolve does not work -  change x0\n",
      "mevd_quant:: ERROR - fsolve does not work -  change x0\n",
      "mevd_quant:: ERROR - fsolve does not work -  change x0\n",
      "mevd_quant:: ERROR - fsolve does not work -  change x0\n",
      "mevd_quant:: ERROR - fsolve does not work -  change x0\n",
      "mevd_quant:: ERROR - fsolve does not work -  change x0\n",
      "mevd_quant:: ERROR - fsolve does not work -  change x0\n",
      "mevd_quant:: ERROR - fsolve does not work -  change x0\n",
      "mevd_quant:: ERROR - fsolve does not work -  change x0\n",
      "mevd_quant:: ERROR - fsolve does not work -  change x0\n",
      "mevd_quant:: ERROR - fsolve does not work -  change x0\n",
      "mevd_quant:: ERROR - fsolve does not work -  change x0\n",
      "mevd_quant:: ERROR - fsolve does not work -  change x0\n",
      "mevd_quant:: ERROR - fsolve does not work -  change x0\n",
      "mevd_quant:: ERROR - fsolve does not work -  change x0\n",
      "mevd_quant:: ERROR - fsolve does not work -  change x0\n",
      "mevd_quant:: ERROR - fsolve does not work -  change x0\n",
      "mevd_quant:: ERROR - fsolve does not work -  change x0\n",
      "mevd_quant:: ERROR - fsolve does not work -  change x0\n",
      "mevd_quant:: ERROR - fsolve does not work -  change x0\n",
      "mevd_quant:: ERROR - fsolve does not work -  change x0\n",
      "mevd_quant:: ERROR - fsolve does not work -  change x0\n",
      "mevd_quant:: ERROR - fsolve does not work -  change x0\n",
      "mevd_quant:: ERROR - fsolve does not work -  change x0\n",
      "mevd_quant:: ERROR - fsolve does not work -  change x0\n",
      "mevd_quant:: ERROR - fsolve does not work -  change x0\n",
      "mevd_quant:: ERROR - fsolve does not work -  change x0\n",
      "mevd_quant:: ERROR - fsolve does not work -  change x0\n",
      "mevd_quant:: ERROR - fsolve does not work -  change x0\n",
      "mevd_quant:: ERROR - fsolve does not work -  change x0\n",
      "mevd_quant:: ERROR - fsolve does not work -  change x0\n",
      "mevd_quant:: ERROR - fsolve does not work -  change x0\n",
      "mevd_quant:: ERROR - fsolve does not work -  change x0\n",
      "mevd_quant:: ERROR - fsolve does not work -  change x0\n",
      "mevd_quant:: ERROR - fsolve does not work -  change x0\n",
      "mevd_quant:: ERROR - fsolve does not work -  change x0\n",
      "mevd_quant:: ERROR - fsolve does not work -  change x0\n",
      "mevd_quant:: ERROR - fsolve does not work -  change x0\n",
      "mevd_quant:: ERROR - fsolve does not work -  change x0\n",
      "mevd_quant:: ERROR - fsolve does not work -  change x0\n",
      "mevd_quant:: ERROR - fsolve does not work -  change x0\n"
     ]
    },
    {
     "name": "stderr",
     "output_type": "stream",
     "text": [
      "/home/arturo/github/downpy/codes/downscale.py:1248: RuntimeWarning: invalid value encountered in power\n",
      "  mev0f = np.sum( ( 1-np.exp(-(y/C)**W ))**N) - nyears*pr\n"
     ]
    },
    {
     "name": "stdout",
     "output_type": "stream",
     "text": [
      "mevd_quant:: ERROR - fsolve does not work -  change x0\n",
      "mevd_quant:: ERROR - fsolve does not work -  change x0\n",
      "mevd_quant:: ERROR - fsolve does not work -  change x0\n",
      "mevd_quant:: ERROR - fsolve does not work -  change x0\n"
     ]
    },
    {
     "name": "stderr",
     "output_type": "stream",
     "text": [
      "/home/arturo/github/downpy/codes/downscale.py:1248: RuntimeWarning: invalid value encountered in power\n",
      "  mev0f = np.sum( ( 1-np.exp(-(y/C)**W ))**N) - nyears*pr\n",
      "/home/arturo/github/downpy/codes/downscale.py:1248: RuntimeWarning: invalid value encountered in power\n",
      "  mev0f = np.sum( ( 1-np.exp(-(y/C)**W ))**N) - nyears*pr\n",
      "/home/arturo/github/downpy/codes/downscale.py:1248: RuntimeWarning: invalid value encountered in power\n",
      "  mev0f = np.sum( ( 1-np.exp(-(y/C)**W ))**N) - nyears*pr\n",
      "/home/arturo/github/downpy/codes/downscale.py:1248: RuntimeWarning: invalid value encountered in power\n",
      "  mev0f = np.sum( ( 1-np.exp(-(y/C)**W ))**N) - nyears*pr\n",
      "/home/arturo/github/downpy/codes/downscale.py:1248: RuntimeWarning: invalid value encountered in power\n",
      "  mev0f = np.sum( ( 1-np.exp(-(y/C)**W ))**N) - nyears*pr\n"
     ]
    },
    {
     "name": "stdout",
     "output_type": "stream",
     "text": [
      "mevd_quant:: ERROR - fsolve does not work -  change x0\n",
      "mevd_quant:: ERROR - fsolve does not work -  change x0\n",
      "mevd_quant:: ERROR - fsolve does not work -  change x0\n",
      "mevd_quant:: ERROR - fsolve does not work -  change x0\n",
      "mevd_quant:: ERROR - fsolve does not work -  change x0\n",
      "mevd_quant:: ERROR - fsolve does not work -  change x0\n",
      "mevd_quant:: ERROR - fsolve does not work -  change x0\n",
      "mevd_quant:: ERROR - fsolve does not work -  change x0\n",
      "mevd_quant:: ERROR - fsolve does not work -  change x0\n",
      "mevd_quant:: ERROR - fsolve does not work -  change x0\n",
      "42\n"
     ]
    },
    {
     "name": "stderr",
     "output_type": "stream",
     "text": [
      "/home/arturo/github/downpy/codes/downscale.py:1248: RuntimeWarning: invalid value encountered in power\n",
      "  mev0f = np.sum( ( 1-np.exp(-(y/C)**W ))**N) - nyears*pr\n",
      "/home/arturo/github/downpy/codes/downscale.py:1248: RuntimeWarning: invalid value encountered in power\n",
      "  mev0f = np.sum( ( 1-np.exp(-(y/C)**W ))**N) - nyears*pr\n",
      "/home/arturo/github/downpy/codes/downscale.py:1248: RuntimeWarning: invalid value encountered in power\n",
      "  mev0f = np.sum( ( 1-np.exp(-(y/C)**W ))**N) - nyears*pr\n",
      "/home/arturo/github/downpy/codes/downscale.py:1248: RuntimeWarning: invalid value encountered in power\n",
      "  mev0f = np.sum( ( 1-np.exp(-(y/C)**W ))**N) - nyears*pr\n",
      "/home/arturo/github/downpy/codes/downscale.py:1248: RuntimeWarning: overflow encountered in exp\n",
      "  mev0f = np.sum( ( 1-np.exp(-(y/C)**W ))**N) - nyears*pr\n",
      "/home/arturo/github/downpy/codes/downscale.py:1248: RuntimeWarning: overflow encountered in exp\n",
      "  mev0f = np.sum( ( 1-np.exp(-(y/C)**W ))**N) - nyears*pr\n",
      "/home/arturo/github/downpy/codes/downscale.py:1248: RuntimeWarning: invalid value encountered in power\n",
      "  mev0f = np.sum( ( 1-np.exp(-(y/C)**W ))**N) - nyears*pr\n",
      "/home/arturo/github/downpy/codes/downscale.py:1248: RuntimeWarning: invalid value encountered in power\n",
      "  mev0f = np.sum( ( 1-np.exp(-(y/C)**W ))**N) - nyears*pr\n",
      "/home/arturo/github/downpy/codes/downscale.py:1248: RuntimeWarning: invalid value encountered in power\n",
      "  mev0f = np.sum( ( 1-np.exp(-(y/C)**W ))**N) - nyears*pr\n",
      "/home/arturo/github/downpy/codes/downscale.py:1248: RuntimeWarning: invalid value encountered in power\n",
      "  mev0f = np.sum( ( 1-np.exp(-(y/C)**W ))**N) - nyears*pr\n",
      "/home/arturo/github/downpy/codes/downscale.py:1248: RuntimeWarning: invalid value encountered in power\n",
      "  mev0f = np.sum( ( 1-np.exp(-(y/C)**W ))**N) - nyears*pr\n",
      "/home/arturo/github/downpy/codes/downscale.py:1248: RuntimeWarning: invalid value encountered in power\n",
      "  mev0f = np.sum( ( 1-np.exp(-(y/C)**W ))**N) - nyears*pr\n",
      "/home/arturo/github/downpy/codes/downscale.py:1248: RuntimeWarning: invalid value encountered in power\n",
      "  mev0f = np.sum( ( 1-np.exp(-(y/C)**W ))**N) - nyears*pr\n",
      "/home/arturo/github/downpy/codes/downscale.py:1248: RuntimeWarning: invalid value encountered in power\n",
      "  mev0f = np.sum( ( 1-np.exp(-(y/C)**W ))**N) - nyears*pr\n",
      "/home/arturo/github/downpy/codes/downscale.py:1248: RuntimeWarning: invalid value encountered in power\n",
      "  mev0f = np.sum( ( 1-np.exp(-(y/C)**W ))**N) - nyears*pr\n",
      "/home/arturo/github/downpy/codes/downscale.py:1248: RuntimeWarning: invalid value encountered in power\n",
      "  mev0f = np.sum( ( 1-np.exp(-(y/C)**W ))**N) - nyears*pr\n"
     ]
    },
    {
     "name": "stdout",
     "output_type": "stream",
     "text": [
      "mevd_quant:: ERROR - fsolve does not work -  change x0\n",
      "mevd_quant:: ERROR - fsolve does not work -  change x0\n",
      "mevd_quant:: ERROR - fsolve does not work -  change x0\n",
      "mevd_quant:: ERROR - fsolve does not work -  change x0\n",
      "mevd_quant:: ERROR - fsolve does not work -  change x0\n",
      "mevd_quant:: ERROR - fsolve does not work -  change x0\n",
      "mevd_quant:: ERROR - fsolve does not work -  change x0\n",
      "mevd_quant:: ERROR - fsolve does not work -  change x0\n",
      "mevd_quant:: ERROR - fsolve does not work -  change x0\n",
      "mevd_quant:: ERROR - fsolve does not work -  change x0\n",
      "mevd_quant:: ERROR - fsolve does not work -  change x0\n",
      "mevd_quant:: ERROR - fsolve does not work -  change x0\n",
      "mevd_quant:: ERROR - fsolve does not work -  change x0\n",
      "mevd_quant:: ERROR - fsolve does not work -  change x0\n",
      "mevd_quant:: ERROR - fsolve does not work -  change x0\n",
      "mevd_quant:: ERROR - fsolve does not work -  change x0\n",
      "mevd_quant:: ERROR - fsolve does not work -  change x0\n",
      "mevd_quant:: ERROR - fsolve does not work -  change x0\n",
      "mevd_quant:: ERROR - fsolve does not work -  change x0\n",
      "mevd_quant:: ERROR - fsolve does not work -  change x0\n",
      "mevd_quant:: ERROR - fsolve does not work -  change x0\n",
      "mevd_quant:: ERROR - fsolve does not work -  change x0\n",
      "mevd_quant:: ERROR - fsolve does not work -  change x0\n",
      "mevd_quant:: ERROR - fsolve does not work -  change x0\n",
      "mevd_quant:: ERROR - fsolve does not work -  change x0\n",
      "mevd_quant:: ERROR - fsolve does not work -  change x0\n",
      "mevd_quant:: ERROR - fsolve does not work -  change x0\n",
      "mevd_quant:: ERROR - fsolve does not work -  change x0\n",
      "mevd_quant:: ERROR - fsolve does not work -  change x0\n",
      "mevd_quant:: ERROR - fsolve does not work -  change x0\n",
      "mevd_quant:: ERROR - fsolve does not work -  change x0\n",
      "mevd_quant:: ERROR - fsolve does not work -  change x0\n",
      "mevd_quant:: ERROR - fsolve does not work -  change x0\n",
      "mevd_quant:: ERROR - fsolve does not work -  change x0\n",
      "mevd_quant:: ERROR - fsolve does not work -  change x0\n",
      "mevd_quant:: ERROR - fsolve does not work -  change x0\n",
      "mevd_quant:: ERROR - fsolve does not work -  change x0\n",
      "mevd_quant:: ERROR - fsolve does not work -  change x0\n",
      "mevd_quant:: ERROR - fsolve does not work -  change x0\n",
      "mevd_quant:: ERROR - fsolve does not work -  change x0\n",
      "mevd_quant:: ERROR - fsolve does not work -  change x0\n",
      "mevd_quant:: ERROR - fsolve does not work -  change x0\n",
      "mevd_quant:: ERROR - fsolve does not work -  change x0\n",
      "mevd_quant:: ERROR - fsolve does not work -  change x0\n",
      "mevd_quant:: ERROR - fsolve does not work -  change x0\n",
      "mevd_quant:: ERROR - fsolve does not work -  change x0\n",
      "mevd_quant:: ERROR - fsolve does not work -  change x0\n",
      "mevd_quant:: ERROR - fsolve does not work -  change x0\n",
      "mevd_quant:: ERROR - fsolve does not work -  change x0\n",
      "mevd_quant:: ERROR - fsolve does not work -  change x0\n",
      "mevd_quant:: ERROR - fsolve does not work -  change x0\n",
      "mevd_quant:: ERROR - fsolve does not work -  change x0\n",
      "mevd_quant:: ERROR - fsolve does not work -  change x0\n",
      "mevd_quant:: ERROR - fsolve does not work -  change x0\n",
      "mevd_quant:: ERROR - fsolve does not work -  change x0\n"
     ]
    },
    {
     "name": "stderr",
     "output_type": "stream",
     "text": [
      "/home/arturo/github/downpy/codes/downscale.py:1248: RuntimeWarning: invalid value encountered in power\n",
      "  mev0f = np.sum( ( 1-np.exp(-(y/C)**W ))**N) - nyears*pr\n",
      "/home/arturo/github/downpy/codes/downscale.py:1248: RuntimeWarning: invalid value encountered in power\n",
      "  mev0f = np.sum( ( 1-np.exp(-(y/C)**W ))**N) - nyears*pr\n",
      "/home/arturo/github/downpy/codes/downscale.py:1248: RuntimeWarning: invalid value encountered in power\n",
      "  mev0f = np.sum( ( 1-np.exp(-(y/C)**W ))**N) - nyears*pr\n"
     ]
    },
    {
     "name": "stdout",
     "output_type": "stream",
     "text": [
      "mevd_quant:: ERROR - fsolve does not work -  change x0\n",
      "mevd_quant:: ERROR - fsolve does not work -  change x0\n",
      "mevd_quant:: ERROR - fsolve does not work -  change x0\n",
      "mevd_quant:: ERROR - fsolve does not work -  change x0\n",
      "mevd_quant:: ERROR - fsolve does not work -  change x0\n",
      "mevd_quant:: ERROR - fsolve does not work -  change x0\n",
      "mevd_quant:: ERROR - fsolve does not work -  change x0\n"
     ]
    },
    {
     "name": "stderr",
     "output_type": "stream",
     "text": [
      "/home/arturo/github/downpy/codes/downscale.py:1248: RuntimeWarning: invalid value encountered in power\n",
      "  mev0f = np.sum( ( 1-np.exp(-(y/C)**W ))**N) - nyears*pr\n",
      "/home/arturo/github/downpy/codes/downscale.py:1248: RuntimeWarning: invalid value encountered in power\n",
      "  mev0f = np.sum( ( 1-np.exp(-(y/C)**W ))**N) - nyears*pr\n",
      "/home/arturo/github/downpy/codes/downscale.py:1248: RuntimeWarning: invalid value encountered in power\n",
      "  mev0f = np.sum( ( 1-np.exp(-(y/C)**W ))**N) - nyears*pr\n"
     ]
    },
    {
     "name": "stdout",
     "output_type": "stream",
     "text": [
      "mevd_quant:: ERROR - fsolve does not work -  change x0\n",
      "mevd_quant:: ERROR - fsolve does not work -  change x0\n",
      "mevd_quant:: ERROR - fsolve does not work -  change x0\n",
      "mevd_quant:: ERROR - fsolve does not work -  change x0\n",
      "mevd_quant:: ERROR - fsolve does not work -  change x0\n",
      "mevd_quant:: ERROR - fsolve does not work -  change x0\n"
     ]
    },
    {
     "name": "stderr",
     "output_type": "stream",
     "text": [
      "/home/arturo/github/downpy/codes/downscale.py:1248: RuntimeWarning: invalid value encountered in power\n",
      "  mev0f = np.sum( ( 1-np.exp(-(y/C)**W ))**N) - nyears*pr\n",
      "/home/arturo/github/downpy/codes/downscale.py:1248: RuntimeWarning: invalid value encountered in power\n",
      "  mev0f = np.sum( ( 1-np.exp(-(y/C)**W ))**N) - nyears*pr\n"
     ]
    },
    {
     "name": "stdout",
     "output_type": "stream",
     "text": [
      "mevd_quant:: ERROR - fsolve does not work -  change x0\n",
      "mevd_quant:: ERROR - fsolve does not work -  change x0\n",
      "43\n"
     ]
    },
    {
     "name": "stderr",
     "output_type": "stream",
     "text": [
      "/home/arturo/github/downpy/codes/downscale.py:1248: RuntimeWarning: invalid value encountered in power\n",
      "  mev0f = np.sum( ( 1-np.exp(-(y/C)**W ))**N) - nyears*pr\n",
      "/home/arturo/github/downpy/codes/downscale.py:1248: RuntimeWarning: invalid value encountered in power\n",
      "  mev0f = np.sum( ( 1-np.exp(-(y/C)**W ))**N) - nyears*pr\n",
      "/home/arturo/github/downpy/codes/downscale.py:1248: RuntimeWarning: invalid value encountered in power\n",
      "  mev0f = np.sum( ( 1-np.exp(-(y/C)**W ))**N) - nyears*pr\n",
      "/home/arturo/github/downpy/codes/downscale.py:1248: RuntimeWarning: invalid value encountered in power\n",
      "  mev0f = np.sum( ( 1-np.exp(-(y/C)**W ))**N) - nyears*pr\n",
      "/home/arturo/github/downpy/codes/downscale.py:1248: RuntimeWarning: invalid value encountered in power\n",
      "  mev0f = np.sum( ( 1-np.exp(-(y/C)**W ))**N) - nyears*pr\n",
      "/home/arturo/github/downpy/codes/downscale.py:1248: RuntimeWarning: invalid value encountered in power\n",
      "  mev0f = np.sum( ( 1-np.exp(-(y/C)**W ))**N) - nyears*pr\n",
      "/home/arturo/github/downpy/codes/downscale.py:1248: RuntimeWarning: invalid value encountered in power\n",
      "  mev0f = np.sum( ( 1-np.exp(-(y/C)**W ))**N) - nyears*pr\n",
      "/home/arturo/github/downpy/codes/downscale.py:1248: RuntimeWarning: invalid value encountered in power\n",
      "  mev0f = np.sum( ( 1-np.exp(-(y/C)**W ))**N) - nyears*pr\n",
      "/home/arturo/github/downpy/codes/downscale.py:1248: RuntimeWarning: invalid value encountered in power\n",
      "  mev0f = np.sum( ( 1-np.exp(-(y/C)**W ))**N) - nyears*pr\n",
      "/home/arturo/github/downpy/codes/downscale.py:1248: RuntimeWarning: invalid value encountered in power\n",
      "  mev0f = np.sum( ( 1-np.exp(-(y/C)**W ))**N) - nyears*pr\n",
      "/home/arturo/github/downpy/codes/downscale.py:1248: RuntimeWarning: invalid value encountered in power\n",
      "  mev0f = np.sum( ( 1-np.exp(-(y/C)**W ))**N) - nyears*pr\n"
     ]
    },
    {
     "name": "stdout",
     "output_type": "stream",
     "text": [
      "mevd_quant:: ERROR - fsolve does not work -  change x0\n",
      "mevd_quant:: ERROR - fsolve does not work -  change x0\n",
      "mevd_quant:: ERROR - fsolve does not work -  change x0\n",
      "mevd_quant:: ERROR - fsolve does not work -  change x0\n",
      "mevd_quant:: ERROR - fsolve does not work -  change x0\n",
      "mevd_quant:: ERROR - fsolve does not work -  change x0\n",
      "mevd_quant:: ERROR - fsolve does not work -  change x0\n",
      "mevd_quant:: ERROR - fsolve does not work -  change x0\n",
      "mevd_quant:: ERROR - fsolve does not work -  change x0\n",
      "mevd_quant:: ERROR - fsolve does not work -  change x0\n",
      "mevd_quant:: ERROR - fsolve does not work -  change x0\n",
      "mevd_quant:: ERROR - fsolve does not work -  change x0\n",
      "mevd_quant:: ERROR - fsolve does not work -  change x0\n",
      "mevd_quant:: ERROR - fsolve does not work -  change x0\n",
      "mevd_quant:: ERROR - fsolve does not work -  change x0\n",
      "mevd_quant:: ERROR - fsolve does not work -  change x0\n",
      "mevd_quant:: ERROR - fsolve does not work -  change x0\n",
      "mevd_quant:: ERROR - fsolve does not work -  change x0\n",
      "mevd_quant:: ERROR - fsolve does not work -  change x0\n",
      "mevd_quant:: ERROR - fsolve does not work -  change x0\n",
      "mevd_quant:: ERROR - fsolve does not work -  change x0\n",
      "mevd_quant:: ERROR - fsolve does not work -  change x0\n",
      "mevd_quant:: ERROR - fsolve does not work -  change x0\n",
      "mevd_quant:: ERROR - fsolve does not work -  change x0\n",
      "mevd_quant:: ERROR - fsolve does not work -  change x0\n",
      "mevd_quant:: ERROR - fsolve does not work -  change x0\n",
      "mevd_quant:: ERROR - fsolve does not work -  change x0\n",
      "mevd_quant:: ERROR - fsolve does not work -  change x0\n",
      "mevd_quant:: ERROR - fsolve does not work -  change x0\n",
      "mevd_quant:: ERROR - fsolve does not work -  change x0\n",
      "mevd_quant:: ERROR - fsolve does not work -  change x0\n",
      "mevd_quant:: ERROR - fsolve does not work -  change x0\n",
      "mevd_quant:: ERROR - fsolve does not work -  change x0\n",
      "mevd_quant:: ERROR - fsolve does not work -  change x0\n",
      "mevd_quant:: ERROR - fsolve does not work -  change x0\n",
      "mevd_quant:: ERROR - fsolve does not work -  change x0\n",
      "mevd_quant:: ERROR - fsolve does not work -  change x0\n",
      "mevd_quant:: ERROR - fsolve does not work -  change x0\n",
      "mevd_quant:: ERROR - fsolve does not work -  change x0\n",
      "mevd_quant:: ERROR - fsolve does not work -  change x0\n"
     ]
    },
    {
     "name": "stderr",
     "output_type": "stream",
     "text": [
      "/home/arturo/github/downpy/codes/downscale.py:1248: RuntimeWarning: invalid value encountered in power\n",
      "  mev0f = np.sum( ( 1-np.exp(-(y/C)**W ))**N) - nyears*pr\n",
      "/home/arturo/github/downpy/codes/downscale.py:1248: RuntimeWarning: invalid value encountered in power\n",
      "  mev0f = np.sum( ( 1-np.exp(-(y/C)**W ))**N) - nyears*pr\n",
      "/home/arturo/github/downpy/codes/downscale.py:1248: RuntimeWarning: invalid value encountered in power\n",
      "  mev0f = np.sum( ( 1-np.exp(-(y/C)**W ))**N) - nyears*pr\n",
      "/home/arturo/github/downpy/codes/downscale.py:1248: RuntimeWarning: invalid value encountered in power\n",
      "  mev0f = np.sum( ( 1-np.exp(-(y/C)**W ))**N) - nyears*pr\n"
     ]
    },
    {
     "name": "stdout",
     "output_type": "stream",
     "text": [
      "mevd_quant:: ERROR - fsolve does not work -  change x0\n",
      "mevd_quant:: ERROR - fsolve does not work -  change x0\n",
      "mevd_quant:: ERROR - fsolve does not work -  change x0\n",
      "mevd_quant:: ERROR - fsolve does not work -  change x0\n",
      "mevd_quant:: ERROR - fsolve does not work -  change x0\n",
      "mevd_quant:: ERROR - fsolve does not work -  change x0\n",
      "mevd_quant:: ERROR - fsolve does not work -  change x0\n"
     ]
    },
    {
     "name": "stderr",
     "output_type": "stream",
     "text": [
      "/home/arturo/github/downpy/codes/downscale.py:1248: RuntimeWarning: invalid value encountered in power\n",
      "  mev0f = np.sum( ( 1-np.exp(-(y/C)**W ))**N) - nyears*pr\n",
      "/home/arturo/github/downpy/codes/downscale.py:1248: RuntimeWarning: invalid value encountered in power\n",
      "  mev0f = np.sum( ( 1-np.exp(-(y/C)**W ))**N) - nyears*pr\n"
     ]
    },
    {
     "name": "stdout",
     "output_type": "stream",
     "text": [
      "mevd_quant:: ERROR - fsolve does not work -  change x0\n",
      "mevd_quant:: ERROR - fsolve does not work -  change x0\n",
      "mevd_quant:: ERROR - fsolve does not work -  change x0\n",
      "mevd_quant:: ERROR - fsolve does not work -  change x0\n",
      "mevd_quant:: ERROR - fsolve does not work -  change x0\n",
      "mevd_quant:: ERROR - fsolve does not work -  change x0\n"
     ]
    },
    {
     "name": "stderr",
     "output_type": "stream",
     "text": [
      "/home/arturo/github/downpy/codes/downscale.py:1248: RuntimeWarning: invalid value encountered in power\n",
      "  mev0f = np.sum( ( 1-np.exp(-(y/C)**W ))**N) - nyears*pr\n",
      "/home/arturo/github/downpy/codes/downscale.py:1248: RuntimeWarning: invalid value encountered in power\n",
      "  mev0f = np.sum( ( 1-np.exp(-(y/C)**W ))**N) - nyears*pr\n"
     ]
    },
    {
     "name": "stdout",
     "output_type": "stream",
     "text": [
      "mevd_quant:: ERROR - fsolve does not work -  change x0\n",
      "mevd_quant:: ERROR - fsolve does not work -  change x0\n",
      "mevd_quant:: ERROR - fsolve does not work -  change x0\n",
      "44\n"
     ]
    },
    {
     "name": "stderr",
     "output_type": "stream",
     "text": [
      "/home/arturo/github/downpy/codes/downscale.py:1248: RuntimeWarning: invalid value encountered in power\n",
      "  mev0f = np.sum( ( 1-np.exp(-(y/C)**W ))**N) - nyears*pr\n",
      "/home/arturo/github/downpy/codes/downscale.py:1248: RuntimeWarning: invalid value encountered in power\n",
      "  mev0f = np.sum( ( 1-np.exp(-(y/C)**W ))**N) - nyears*pr\n",
      "/home/arturo/github/downpy/codes/downscale.py:1248: RuntimeWarning: invalid value encountered in power\n",
      "  mev0f = np.sum( ( 1-np.exp(-(y/C)**W ))**N) - nyears*pr\n",
      "/home/arturo/github/downpy/codes/downscale.py:1248: RuntimeWarning: invalid value encountered in power\n",
      "  mev0f = np.sum( ( 1-np.exp(-(y/C)**W ))**N) - nyears*pr\n",
      "/home/arturo/github/downpy/codes/downscale.py:1248: RuntimeWarning: invalid value encountered in power\n",
      "  mev0f = np.sum( ( 1-np.exp(-(y/C)**W ))**N) - nyears*pr\n",
      "/home/arturo/github/downpy/codes/downscale.py:1248: RuntimeWarning: invalid value encountered in power\n",
      "  mev0f = np.sum( ( 1-np.exp(-(y/C)**W ))**N) - nyears*pr\n",
      "/home/arturo/github/downpy/codes/downscale.py:1248: RuntimeWarning: invalid value encountered in power\n",
      "  mev0f = np.sum( ( 1-np.exp(-(y/C)**W ))**N) - nyears*pr\n",
      "/home/arturo/github/downpy/codes/downscale.py:1248: RuntimeWarning: invalid value encountered in power\n",
      "  mev0f = np.sum( ( 1-np.exp(-(y/C)**W ))**N) - nyears*pr\n",
      "/home/arturo/github/downpy/codes/downscale.py:1248: RuntimeWarning: invalid value encountered in power\n",
      "  mev0f = np.sum( ( 1-np.exp(-(y/C)**W ))**N) - nyears*pr\n",
      "/home/arturo/github/downpy/codes/downscale.py:1248: RuntimeWarning: invalid value encountered in power\n",
      "  mev0f = np.sum( ( 1-np.exp(-(y/C)**W ))**N) - nyears*pr\n",
      "/home/arturo/github/downpy/codes/downscale.py:1248: RuntimeWarning: invalid value encountered in power\n",
      "  mev0f = np.sum( ( 1-np.exp(-(y/C)**W ))**N) - nyears*pr\n"
     ]
    },
    {
     "name": "stdout",
     "output_type": "stream",
     "text": [
      "mevd_quant:: ERROR - fsolve does not work -  change x0\n",
      "mevd_quant:: ERROR - fsolve does not work -  change x0\n",
      "mevd_quant:: ERROR - fsolve does not work -  change x0\n",
      "mevd_quant:: ERROR - fsolve does not work -  change x0\n",
      "mevd_quant:: ERROR - fsolve does not work -  change x0\n",
      "mevd_quant:: ERROR - fsolve does not work -  change x0\n",
      "mevd_quant:: ERROR - fsolve does not work -  change x0\n",
      "mevd_quant:: ERROR - fsolve does not work -  change x0\n",
      "mevd_quant:: ERROR - fsolve does not work -  change x0\n",
      "mevd_quant:: ERROR - fsolve does not work -  change x0\n",
      "mevd_quant:: ERROR - fsolve does not work -  change x0\n",
      "mevd_quant:: ERROR - fsolve does not work -  change x0\n",
      "mevd_quant:: ERROR - fsolve does not work -  change x0\n",
      "mevd_quant:: ERROR - fsolve does not work -  change x0\n",
      "mevd_quant:: ERROR - fsolve does not work -  change x0\n",
      "mevd_quant:: ERROR - fsolve does not work -  change x0\n",
      "mevd_quant:: ERROR - fsolve does not work -  change x0\n",
      "mevd_quant:: ERROR - fsolve does not work -  change x0\n",
      "mevd_quant:: ERROR - fsolve does not work -  change x0\n",
      "mevd_quant:: ERROR - fsolve does not work -  change x0\n",
      "mevd_quant:: ERROR - fsolve does not work -  change x0\n",
      "mevd_quant:: ERROR - fsolve does not work -  change x0\n",
      "mevd_quant:: ERROR - fsolve does not work -  change x0\n",
      "mevd_quant:: ERROR - fsolve does not work -  change x0\n",
      "mevd_quant:: ERROR - fsolve does not work -  change x0\n",
      "mevd_quant:: ERROR - fsolve does not work -  change x0\n",
      "mevd_quant:: ERROR - fsolve does not work -  change x0\n",
      "mevd_quant:: ERROR - fsolve does not work -  change x0\n",
      "mevd_quant:: ERROR - fsolve does not work -  change x0\n",
      "mevd_quant:: ERROR - fsolve does not work -  change x0\n",
      "mevd_quant:: ERROR - fsolve does not work -  change x0\n"
     ]
    },
    {
     "name": "stderr",
     "output_type": "stream",
     "text": [
      "/home/arturo/github/downpy/codes/downscale.py:1248: RuntimeWarning: invalid value encountered in power\n",
      "  mev0f = np.sum( ( 1-np.exp(-(y/C)**W ))**N) - nyears*pr\n",
      "/home/arturo/github/downpy/codes/downscale.py:1248: RuntimeWarning: invalid value encountered in power\n",
      "  mev0f = np.sum( ( 1-np.exp(-(y/C)**W ))**N) - nyears*pr\n",
      "/home/arturo/github/downpy/codes/downscale.py:1248: RuntimeWarning: invalid value encountered in power\n",
      "  mev0f = np.sum( ( 1-np.exp(-(y/C)**W ))**N) - nyears*pr\n",
      "/home/arturo/github/downpy/codes/downscale.py:1248: RuntimeWarning: invalid value encountered in power\n",
      "  mev0f = np.sum( ( 1-np.exp(-(y/C)**W ))**N) - nyears*pr\n"
     ]
    },
    {
     "name": "stdout",
     "output_type": "stream",
     "text": [
      "mevd_quant:: ERROR - fsolve does not work -  change x0\n",
      "mevd_quant:: ERROR - fsolve does not work -  change x0\n",
      "mevd_quant:: ERROR - fsolve does not work -  change x0\n",
      "mevd_quant:: ERROR - fsolve does not work -  change x0\n",
      "mevd_quant:: ERROR - fsolve does not work -  change x0\n",
      "mevd_quant:: ERROR - fsolve does not work -  change x0\n",
      "mevd_quant:: ERROR - fsolve does not work -  change x0\n",
      "mevd_quant:: ERROR - fsolve does not work -  change x0\n",
      "mevd_quant:: ERROR - fsolve does not work -  change x0\n",
      "mevd_quant:: ERROR - fsolve does not work -  change x0\n",
      "mevd_quant:: ERROR - fsolve does not work -  change x0\n",
      "mevd_quant:: ERROR - fsolve does not work -  change x0\n",
      "mevd_quant:: ERROR - fsolve does not work -  change x0\n"
     ]
    },
    {
     "name": "stderr",
     "output_type": "stream",
     "text": [
      "/home/arturo/github/downpy/codes/downscale.py:1248: RuntimeWarning: invalid value encountered in power\n",
      "  mev0f = np.sum( ( 1-np.exp(-(y/C)**W ))**N) - nyears*pr\n",
      "/home/arturo/github/downpy/codes/downscale.py:1248: RuntimeWarning: invalid value encountered in power\n",
      "  mev0f = np.sum( ( 1-np.exp(-(y/C)**W ))**N) - nyears*pr\n",
      "/home/arturo/github/downpy/codes/downscale.py:1248: RuntimeWarning: invalid value encountered in power\n",
      "  mev0f = np.sum( ( 1-np.exp(-(y/C)**W ))**N) - nyears*pr\n",
      "/home/arturo/github/downpy/codes/downscale.py:1248: RuntimeWarning: invalid value encountered in power\n",
      "  mev0f = np.sum( ( 1-np.exp(-(y/C)**W ))**N) - nyears*pr\n",
      "/home/arturo/github/downpy/codes/downscale.py:1248: RuntimeWarning: invalid value encountered in power\n",
      "  mev0f = np.sum( ( 1-np.exp(-(y/C)**W ))**N) - nyears*pr\n",
      "/home/arturo/github/downpy/codes/downscale.py:1248: RuntimeWarning: invalid value encountered in power\n",
      "  mev0f = np.sum( ( 1-np.exp(-(y/C)**W ))**N) - nyears*pr\n",
      "/home/arturo/github/downpy/codes/downscale.py:1248: RuntimeWarning: invalid value encountered in power\n",
      "  mev0f = np.sum( ( 1-np.exp(-(y/C)**W ))**N) - nyears*pr\n",
      "/home/arturo/github/downpy/codes/downscale.py:1248: RuntimeWarning: invalid value encountered in power\n",
      "  mev0f = np.sum( ( 1-np.exp(-(y/C)**W ))**N) - nyears*pr\n",
      "/home/arturo/github/downpy/codes/downscale.py:1248: RuntimeWarning: invalid value encountered in power\n",
      "  mev0f = np.sum( ( 1-np.exp(-(y/C)**W ))**N) - nyears*pr\n"
     ]
    },
    {
     "name": "stdout",
     "output_type": "stream",
     "text": [
      "mevd_quant:: ERROR - fsolve does not work -  change x0\n",
      "mevd_quant:: ERROR - fsolve does not work -  change x0\n",
      "mevd_quant:: ERROR - fsolve does not work -  change x0\n",
      "mevd_quant:: ERROR - fsolve does not work -  change x0\n",
      "mevd_quant:: ERROR - fsolve does not work -  change x0\n",
      "mevd_quant:: ERROR - fsolve does not work -  change x0\n",
      "mevd_quant:: ERROR - fsolve does not work -  change x0\n",
      "mevd_quant:: ERROR - fsolve does not work -  change x0\n",
      "mevd_quant:: ERROR - fsolve does not work -  change x0\n",
      "mevd_quant:: ERROR - fsolve does not work -  change x0\n",
      "mevd_quant:: ERROR - fsolve does not work -  change x0\n",
      "mevd_quant:: ERROR - fsolve does not work -  change x0\n",
      "mevd_quant:: ERROR - fsolve does not work -  change x0\n",
      "mevd_quant:: ERROR - fsolve does not work -  change x0\n",
      "mevd_quant:: ERROR - fsolve does not work -  change x0\n",
      "mevd_quant:: ERROR - fsolve does not work -  change x0\n",
      "mevd_quant:: ERROR - fsolve does not work -  change x0\n",
      "mevd_quant:: ERROR - fsolve does not work -  change x0\n",
      "mevd_quant:: ERROR - fsolve does not work -  change x0\n",
      "mevd_quant:: ERROR - fsolve does not work -  change x0\n",
      "45\n"
     ]
    },
    {
     "name": "stderr",
     "output_type": "stream",
     "text": [
      "/home/arturo/github/downpy/codes/downscale.py:1248: RuntimeWarning: invalid value encountered in power\n",
      "  mev0f = np.sum( ( 1-np.exp(-(y/C)**W ))**N) - nyears*pr\n",
      "/home/arturo/github/downpy/codes/downscale.py:1248: RuntimeWarning: invalid value encountered in power\n",
      "  mev0f = np.sum( ( 1-np.exp(-(y/C)**W ))**N) - nyears*pr\n",
      "/home/arturo/github/downpy/codes/downscale.py:1248: RuntimeWarning: invalid value encountered in power\n",
      "  mev0f = np.sum( ( 1-np.exp(-(y/C)**W ))**N) - nyears*pr\n",
      "/home/arturo/github/downpy/codes/downscale.py:1248: RuntimeWarning: invalid value encountered in power\n",
      "  mev0f = np.sum( ( 1-np.exp(-(y/C)**W ))**N) - nyears*pr\n",
      "/home/arturo/github/downpy/codes/downscale.py:1248: RuntimeWarning: invalid value encountered in power\n",
      "  mev0f = np.sum( ( 1-np.exp(-(y/C)**W ))**N) - nyears*pr\n",
      "/home/arturo/github/downpy/codes/downscale.py:1248: RuntimeWarning: invalid value encountered in power\n",
      "  mev0f = np.sum( ( 1-np.exp(-(y/C)**W ))**N) - nyears*pr\n",
      "/home/arturo/github/downpy/codes/downscale.py:1248: RuntimeWarning: invalid value encountered in power\n",
      "  mev0f = np.sum( ( 1-np.exp(-(y/C)**W ))**N) - nyears*pr\n",
      "/home/arturo/github/downpy/codes/downscale.py:1248: RuntimeWarning: invalid value encountered in power\n",
      "  mev0f = np.sum( ( 1-np.exp(-(y/C)**W ))**N) - nyears*pr\n",
      "/home/arturo/github/downpy/codes/downscale.py:1248: RuntimeWarning: invalid value encountered in power\n",
      "  mev0f = np.sum( ( 1-np.exp(-(y/C)**W ))**N) - nyears*pr\n",
      "/home/arturo/github/downpy/codes/downscale.py:1248: RuntimeWarning: invalid value encountered in power\n",
      "  mev0f = np.sum( ( 1-np.exp(-(y/C)**W ))**N) - nyears*pr\n"
     ]
    },
    {
     "name": "stdout",
     "output_type": "stream",
     "text": [
      "mevd_quant:: ERROR - fsolve does not work -  change x0\n",
      "mevd_quant:: ERROR - fsolve does not work -  change x0\n",
      "mevd_quant:: ERROR - fsolve does not work -  change x0\n",
      "mevd_quant:: ERROR - fsolve does not work -  change x0\n",
      "mevd_quant:: ERROR - fsolve does not work -  change x0\n",
      "mevd_quant:: ERROR - fsolve does not work -  change x0\n",
      "mevd_quant:: ERROR - fsolve does not work -  change x0\n",
      "mevd_quant:: ERROR - fsolve does not work -  change x0\n",
      "mevd_quant:: ERROR - fsolve does not work -  change x0\n",
      "mevd_quant:: ERROR - fsolve does not work -  change x0\n",
      "mevd_quant:: ERROR - fsolve does not work -  change x0\n",
      "mevd_quant:: ERROR - fsolve does not work -  change x0\n",
      "mevd_quant:: ERROR - fsolve does not work -  change x0\n",
      "mevd_quant:: ERROR - fsolve does not work -  change x0\n",
      "mevd_quant:: ERROR - fsolve does not work -  change x0\n",
      "mevd_quant:: ERROR - fsolve does not work -  change x0\n",
      "mevd_quant:: ERROR - fsolve does not work -  change x0\n",
      "mevd_quant:: ERROR - fsolve does not work -  change x0\n",
      "mevd_quant:: ERROR - fsolve does not work -  change x0\n",
      "mevd_quant:: ERROR - fsolve does not work -  change x0\n",
      "mevd_quant:: ERROR - fsolve does not work -  change x0\n",
      "mevd_quant:: ERROR - fsolve does not work -  change x0\n",
      "mevd_quant:: ERROR - fsolve does not work -  change x0\n",
      "mevd_quant:: ERROR - fsolve does not work -  change x0\n",
      "mevd_quant:: ERROR - fsolve does not work -  change x0\n",
      "mevd_quant:: ERROR - fsolve does not work -  change x0\n",
      "mevd_quant:: ERROR - fsolve does not work -  change x0\n",
      "mevd_quant:: ERROR - fsolve does not work -  change x0\n",
      "mevd_quant:: ERROR - fsolve does not work -  change x0\n",
      "mevd_quant:: ERROR - fsolve does not work -  change x0\n",
      "mevd_quant:: ERROR - fsolve does not work -  change x0\n",
      "mevd_quant:: ERROR - fsolve does not work -  change x0\n",
      "mevd_quant:: ERROR - fsolve does not work -  change x0\n",
      "mevd_quant:: ERROR - fsolve does not work -  change x0\n"
     ]
    },
    {
     "name": "stderr",
     "output_type": "stream",
     "text": [
      "/home/arturo/github/downpy/codes/downscale.py:1248: RuntimeWarning: invalid value encountered in power\n",
      "  mev0f = np.sum( ( 1-np.exp(-(y/C)**W ))**N) - nyears*pr\n",
      "/home/arturo/github/downpy/codes/downscale.py:1248: RuntimeWarning: invalid value encountered in power\n",
      "  mev0f = np.sum( ( 1-np.exp(-(y/C)**W ))**N) - nyears*pr\n",
      "/home/arturo/github/downpy/codes/downscale.py:1248: RuntimeWarning: invalid value encountered in power\n",
      "  mev0f = np.sum( ( 1-np.exp(-(y/C)**W ))**N) - nyears*pr\n",
      "/home/arturo/github/downpy/codes/downscale.py:1248: RuntimeWarning: invalid value encountered in power\n",
      "  mev0f = np.sum( ( 1-np.exp(-(y/C)**W ))**N) - nyears*pr\n",
      "/home/arturo/github/downpy/codes/downscale.py:1248: RuntimeWarning: invalid value encountered in power\n",
      "  mev0f = np.sum( ( 1-np.exp(-(y/C)**W ))**N) - nyears*pr\n",
      "/home/arturo/github/downpy/codes/downscale.py:1248: RuntimeWarning: invalid value encountered in power\n",
      "  mev0f = np.sum( ( 1-np.exp(-(y/C)**W ))**N) - nyears*pr\n",
      "/home/arturo/github/downpy/codes/downscale.py:1248: RuntimeWarning: invalid value encountered in power\n",
      "  mev0f = np.sum( ( 1-np.exp(-(y/C)**W ))**N) - nyears*pr\n"
     ]
    },
    {
     "name": "stdout",
     "output_type": "stream",
     "text": [
      "mevd_quant:: ERROR - fsolve does not work -  change x0\n",
      "mevd_quant:: ERROR - fsolve does not work -  change x0\n",
      "mevd_quant:: ERROR - fsolve does not work -  change x0\n",
      "mevd_quant:: ERROR - fsolve does not work -  change x0\n",
      "mevd_quant:: ERROR - fsolve does not work -  change x0\n",
      "mevd_quant:: ERROR - fsolve does not work -  change x0\n",
      "mevd_quant:: ERROR - fsolve does not work -  change x0\n",
      "mevd_quant:: ERROR - fsolve does not work -  change x0\n",
      "mevd_quant:: ERROR - fsolve does not work -  change x0\n",
      "mevd_quant:: ERROR - fsolve does not work -  change x0\n",
      "mevd_quant:: ERROR - fsolve does not work -  change x0\n",
      "mevd_quant:: ERROR - fsolve does not work -  change x0\n",
      "mevd_quant:: ERROR - fsolve does not work -  change x0\n",
      "mevd_quant:: ERROR - fsolve does not work -  change x0\n"
     ]
    },
    {
     "name": "stderr",
     "output_type": "stream",
     "text": [
      "/home/arturo/github/downpy/codes/downscale.py:1248: RuntimeWarning: invalid value encountered in power\n",
      "  mev0f = np.sum( ( 1-np.exp(-(y/C)**W ))**N) - nyears*pr\n",
      "/home/arturo/github/downpy/codes/downscale.py:1248: RuntimeWarning: invalid value encountered in power\n",
      "  mev0f = np.sum( ( 1-np.exp(-(y/C)**W ))**N) - nyears*pr\n",
      "/home/arturo/github/downpy/codes/downscale.py:1248: RuntimeWarning: invalid value encountered in power\n",
      "  mev0f = np.sum( ( 1-np.exp(-(y/C)**W ))**N) - nyears*pr\n",
      "/home/arturo/github/downpy/codes/downscale.py:1248: RuntimeWarning: invalid value encountered in power\n",
      "  mev0f = np.sum( ( 1-np.exp(-(y/C)**W ))**N) - nyears*pr\n",
      "/home/arturo/github/downpy/codes/downscale.py:1248: RuntimeWarning: invalid value encountered in power\n",
      "  mev0f = np.sum( ( 1-np.exp(-(y/C)**W ))**N) - nyears*pr\n",
      "/home/arturo/github/downpy/codes/downscale.py:1248: RuntimeWarning: invalid value encountered in power\n",
      "  mev0f = np.sum( ( 1-np.exp(-(y/C)**W ))**N) - nyears*pr\n",
      "/home/arturo/github/downpy/codes/downscale.py:1248: RuntimeWarning: invalid value encountered in power\n",
      "  mev0f = np.sum( ( 1-np.exp(-(y/C)**W ))**N) - nyears*pr\n",
      "/home/arturo/github/downpy/codes/downscale.py:1248: RuntimeWarning: invalid value encountered in power\n",
      "  mev0f = np.sum( ( 1-np.exp(-(y/C)**W ))**N) - nyears*pr\n",
      "/home/arturo/github/downpy/codes/downscale.py:1248: RuntimeWarning: invalid value encountered in power\n",
      "  mev0f = np.sum( ( 1-np.exp(-(y/C)**W ))**N) - nyears*pr\n"
     ]
    },
    {
     "name": "stdout",
     "output_type": "stream",
     "text": [
      "mevd_quant:: ERROR - fsolve does not work -  change x0\n",
      "mevd_quant:: ERROR - fsolve does not work -  change x0\n",
      "mevd_quant:: ERROR - fsolve does not work -  change x0\n",
      "mevd_quant:: ERROR - fsolve does not work -  change x0\n",
      "mevd_quant:: ERROR - fsolve does not work -  change x0\n",
      "mevd_quant:: ERROR - fsolve does not work -  change x0\n",
      "mevd_quant:: ERROR - fsolve does not work -  change x0\n",
      "mevd_quant:: ERROR - fsolve does not work -  change x0\n",
      "mevd_quant:: ERROR - fsolve does not work -  change x0\n",
      "mevd_quant:: ERROR - fsolve does not work -  change x0\n",
      "mevd_quant:: ERROR - fsolve does not work -  change x0\n",
      "mevd_quant:: ERROR - fsolve does not work -  change x0\n",
      "mevd_quant:: ERROR - fsolve does not work -  change x0\n",
      "mevd_quant:: ERROR - fsolve does not work -  change x0\n",
      "mevd_quant:: ERROR - fsolve does not work -  change x0\n",
      "mevd_quant:: ERROR - fsolve does not work -  change x0\n",
      "mevd_quant:: ERROR - fsolve does not work -  change x0\n",
      "mevd_quant:: ERROR - fsolve does not work -  change x0\n",
      "mevd_quant:: ERROR - fsolve does not work -  change x0\n",
      "mevd_quant:: ERROR - fsolve does not work -  change x0\n",
      "mevd_quant:: ERROR - fsolve does not work -  change x0\n",
      "mevd_quant:: ERROR - fsolve does not work -  change x0\n",
      "mevd_quant:: ERROR - fsolve does not work -  change x0\n",
      "mevd_quant:: ERROR - fsolve does not work -  change x0\n",
      "mevd_quant:: ERROR - fsolve does not work -  change x0\n",
      "mevd_quant:: ERROR - fsolve does not work -  change x0\n"
     ]
    },
    {
     "name": "stderr",
     "output_type": "stream",
     "text": [
      "/home/arturo/github/downpy/codes/downscale.py:1248: RuntimeWarning: invalid value encountered in power\n",
      "  mev0f = np.sum( ( 1-np.exp(-(y/C)**W ))**N) - nyears*pr\n",
      "/home/arturo/github/downpy/codes/downscale.py:1248: RuntimeWarning: invalid value encountered in power\n",
      "  mev0f = np.sum( ( 1-np.exp(-(y/C)**W ))**N) - nyears*pr\n"
     ]
    },
    {
     "name": "stdout",
     "output_type": "stream",
     "text": [
      "mevd_quant:: ERROR - fsolve does not work -  change x0\n",
      "mevd_quant:: ERROR - fsolve does not work -  change x0\n"
     ]
    },
    {
     "name": "stderr",
     "output_type": "stream",
     "text": [
      "/home/arturo/github/downpy/codes/downscale.py:1248: RuntimeWarning: invalid value encountered in power\n",
      "  mev0f = np.sum( ( 1-np.exp(-(y/C)**W ))**N) - nyears*pr\n"
     ]
    },
    {
     "name": "stdout",
     "output_type": "stream",
     "text": [
      "mevd_quant:: ERROR - fsolve does not work -  change x0\n",
      "mevd_quant:: ERROR - fsolve does not work -  change x0\n",
      "46\n"
     ]
    },
    {
     "name": "stderr",
     "output_type": "stream",
     "text": [
      "/home/arturo/github/downpy/codes/downscale.py:1248: RuntimeWarning: invalid value encountered in power\n",
      "  mev0f = np.sum( ( 1-np.exp(-(y/C)**W ))**N) - nyears*pr\n",
      "/home/arturo/github/downpy/codes/downscale.py:1248: RuntimeWarning: invalid value encountered in power\n",
      "  mev0f = np.sum( ( 1-np.exp(-(y/C)**W ))**N) - nyears*pr\n",
      "/home/arturo/github/downpy/codes/downscale.py:1248: RuntimeWarning: invalid value encountered in power\n",
      "  mev0f = np.sum( ( 1-np.exp(-(y/C)**W ))**N) - nyears*pr\n",
      "/home/arturo/github/downpy/codes/downscale.py:1248: RuntimeWarning: invalid value encountered in power\n",
      "  mev0f = np.sum( ( 1-np.exp(-(y/C)**W ))**N) - nyears*pr\n",
      "/home/arturo/github/downpy/codes/downscale.py:1248: RuntimeWarning: invalid value encountered in power\n",
      "  mev0f = np.sum( ( 1-np.exp(-(y/C)**W ))**N) - nyears*pr\n",
      "/home/arturo/github/downpy/codes/downscale.py:1248: RuntimeWarning: invalid value encountered in power\n",
      "  mev0f = np.sum( ( 1-np.exp(-(y/C)**W ))**N) - nyears*pr\n",
      "/home/arturo/github/downpy/codes/downscale.py:1248: RuntimeWarning: invalid value encountered in power\n",
      "  mev0f = np.sum( ( 1-np.exp(-(y/C)**W ))**N) - nyears*pr\n",
      "/home/arturo/github/downpy/codes/downscale.py:1248: RuntimeWarning: invalid value encountered in power\n",
      "  mev0f = np.sum( ( 1-np.exp(-(y/C)**W ))**N) - nyears*pr\n",
      "/home/arturo/github/downpy/codes/downscale.py:1248: RuntimeWarning: invalid value encountered in power\n",
      "  mev0f = np.sum( ( 1-np.exp(-(y/C)**W ))**N) - nyears*pr\n",
      "/home/arturo/github/downpy/codes/downscale.py:1248: RuntimeWarning: invalid value encountered in power\n",
      "  mev0f = np.sum( ( 1-np.exp(-(y/C)**W ))**N) - nyears*pr\n",
      "/home/arturo/github/downpy/codes/downscale.py:1248: RuntimeWarning: invalid value encountered in power\n",
      "  mev0f = np.sum( ( 1-np.exp(-(y/C)**W ))**N) - nyears*pr\n",
      "/home/arturo/github/downpy/codes/downscale.py:1248: RuntimeWarning: invalid value encountered in power\n",
      "  mev0f = np.sum( ( 1-np.exp(-(y/C)**W ))**N) - nyears*pr\n"
     ]
    },
    {
     "name": "stdout",
     "output_type": "stream",
     "text": [
      "mevd_quant:: ERROR - fsolve does not work -  change x0\n",
      "mevd_quant:: ERROR - fsolve does not work -  change x0\n",
      "mevd_quant:: ERROR - fsolve does not work -  change x0\n",
      "mevd_quant:: ERROR - fsolve does not work -  change x0\n",
      "mevd_quant:: ERROR - fsolve does not work -  change x0\n",
      "mevd_quant:: ERROR - fsolve does not work -  change x0\n",
      "mevd_quant:: ERROR - fsolve does not work -  change x0\n",
      "mevd_quant:: ERROR - fsolve does not work -  change x0\n",
      "mevd_quant:: ERROR - fsolve does not work -  change x0\n",
      "mevd_quant:: ERROR - fsolve does not work -  change x0\n",
      "mevd_quant:: ERROR - fsolve does not work -  change x0\n",
      "mevd_quant:: ERROR - fsolve does not work -  change x0\n",
      "mevd_quant:: ERROR - fsolve does not work -  change x0\n",
      "mevd_quant:: ERROR - fsolve does not work -  change x0\n",
      "mevd_quant:: ERROR - fsolve does not work -  change x0\n",
      "mevd_quant:: ERROR - fsolve does not work -  change x0\n",
      "mevd_quant:: ERROR - fsolve does not work -  change x0\n",
      "mevd_quant:: ERROR - fsolve does not work -  change x0\n",
      "mevd_quant:: ERROR - fsolve does not work -  change x0\n",
      "mevd_quant:: ERROR - fsolve does not work -  change x0\n",
      "mevd_quant:: ERROR - fsolve does not work -  change x0\n",
      "mevd_quant:: ERROR - fsolve does not work -  change x0\n",
      "mevd_quant:: ERROR - fsolve does not work -  change x0\n",
      "mevd_quant:: ERROR - fsolve does not work -  change x0\n",
      "mevd_quant:: ERROR - fsolve does not work -  change x0\n",
      "mevd_quant:: ERROR - fsolve does not work -  change x0\n",
      "mevd_quant:: ERROR - fsolve does not work -  change x0\n",
      "mevd_quant:: ERROR - fsolve does not work -  change x0\n",
      "mevd_quant:: ERROR - fsolve does not work -  change x0\n",
      "mevd_quant:: ERROR - fsolve does not work -  change x0\n",
      "mevd_quant:: ERROR - fsolve does not work -  change x0\n",
      "mevd_quant:: ERROR - fsolve does not work -  change x0\n",
      "mevd_quant:: ERROR - fsolve does not work -  change x0\n",
      "mevd_quant:: ERROR - fsolve does not work -  change x0\n",
      "mevd_quant:: ERROR - fsolve does not work -  change x0\n",
      "mevd_quant:: ERROR - fsolve does not work -  change x0\n",
      "mevd_quant:: ERROR - fsolve does not work -  change x0\n",
      "mevd_quant:: ERROR - fsolve does not work -  change x0\n",
      "mevd_quant:: ERROR - fsolve does not work -  change x0\n",
      "mevd_quant:: ERROR - fsolve does not work -  change x0\n",
      "mevd_quant:: ERROR - fsolve does not work -  change x0\n",
      "mevd_quant:: ERROR - fsolve does not work -  change x0\n",
      "mevd_quant:: ERROR - fsolve does not work -  change x0\n",
      "mevd_quant:: ERROR - fsolve does not work -  change x0\n",
      "mevd_quant:: ERROR - fsolve does not work -  change x0\n"
     ]
    },
    {
     "name": "stderr",
     "output_type": "stream",
     "text": [
      "/home/arturo/github/downpy/codes/downscale.py:1248: RuntimeWarning: invalid value encountered in power\n",
      "  mev0f = np.sum( ( 1-np.exp(-(y/C)**W ))**N) - nyears*pr\n",
      "/home/arturo/github/downpy/codes/downscale.py:1248: RuntimeWarning: invalid value encountered in power\n",
      "  mev0f = np.sum( ( 1-np.exp(-(y/C)**W ))**N) - nyears*pr\n",
      "/home/arturo/github/downpy/codes/downscale.py:1248: RuntimeWarning: invalid value encountered in power\n",
      "  mev0f = np.sum( ( 1-np.exp(-(y/C)**W ))**N) - nyears*pr\n",
      "/home/arturo/github/downpy/codes/downscale.py:1248: RuntimeWarning: invalid value encountered in power\n",
      "  mev0f = np.sum( ( 1-np.exp(-(y/C)**W ))**N) - nyears*pr\n",
      "/home/arturo/github/downpy/codes/downscale.py:1248: RuntimeWarning: invalid value encountered in power\n",
      "  mev0f = np.sum( ( 1-np.exp(-(y/C)**W ))**N) - nyears*pr\n",
      "/home/arturo/github/downpy/codes/downscale.py:1248: RuntimeWarning: invalid value encountered in power\n",
      "  mev0f = np.sum( ( 1-np.exp(-(y/C)**W ))**N) - nyears*pr\n",
      "/home/arturo/github/downpy/codes/downscale.py:1248: RuntimeWarning: invalid value encountered in power\n",
      "  mev0f = np.sum( ( 1-np.exp(-(y/C)**W ))**N) - nyears*pr\n",
      "/home/arturo/github/downpy/codes/downscale.py:1248: RuntimeWarning: invalid value encountered in power\n",
      "  mev0f = np.sum( ( 1-np.exp(-(y/C)**W ))**N) - nyears*pr\n",
      "/home/arturo/github/downpy/codes/downscale.py:1248: RuntimeWarning: invalid value encountered in power\n",
      "  mev0f = np.sum( ( 1-np.exp(-(y/C)**W ))**N) - nyears*pr\n"
     ]
    },
    {
     "name": "stdout",
     "output_type": "stream",
     "text": [
      "mevd_quant:: ERROR - fsolve does not work -  change x0\n",
      "mevd_quant:: ERROR - fsolve does not work -  change x0\n",
      "mevd_quant:: ERROR - fsolve does not work -  change x0\n",
      "mevd_quant:: ERROR - fsolve does not work -  change x0\n",
      "mevd_quant:: ERROR - fsolve does not work -  change x0\n",
      "mevd_quant:: ERROR - fsolve does not work -  change x0\n",
      "mevd_quant:: ERROR - fsolve does not work -  change x0\n",
      "mevd_quant:: ERROR - fsolve does not work -  change x0\n",
      "mevd_quant:: ERROR - fsolve does not work -  change x0\n",
      "mevd_quant:: ERROR - fsolve does not work -  change x0\n",
      "mevd_quant:: ERROR - fsolve does not work -  change x0\n",
      "mevd_quant:: ERROR - fsolve does not work -  change x0\n",
      "mevd_quant:: ERROR - fsolve does not work -  change x0\n",
      "mevd_quant:: ERROR - fsolve does not work -  change x0\n",
      "mevd_quant:: ERROR - fsolve does not work -  change x0\n",
      "mevd_quant:: ERROR - fsolve does not work -  change x0\n",
      "mevd_quant:: ERROR - fsolve does not work -  change x0\n",
      "mevd_quant:: ERROR - fsolve does not work -  change x0\n",
      "mevd_quant:: ERROR - fsolve does not work -  change x0\n",
      "mevd_quant:: ERROR - fsolve does not work -  change x0\n",
      "mevd_quant:: ERROR - fsolve does not work -  change x0\n",
      "mevd_quant:: ERROR - fsolve does not work -  change x0\n",
      "mevd_quant:: ERROR - fsolve does not work -  change x0\n",
      "mevd_quant:: ERROR - fsolve does not work -  change x0\n",
      "mevd_quant:: ERROR - fsolve does not work -  change x0\n"
     ]
    },
    {
     "name": "stderr",
     "output_type": "stream",
     "text": [
      "/home/arturo/github/downpy/codes/downscale.py:1248: RuntimeWarning: invalid value encountered in power\n",
      "  mev0f = np.sum( ( 1-np.exp(-(y/C)**W ))**N) - nyears*pr\n",
      "/home/arturo/github/downpy/codes/downscale.py:1248: RuntimeWarning: invalid value encountered in power\n",
      "  mev0f = np.sum( ( 1-np.exp(-(y/C)**W ))**N) - nyears*pr\n",
      "/home/arturo/github/downpy/codes/downscale.py:1248: RuntimeWarning: invalid value encountered in power\n",
      "  mev0f = np.sum( ( 1-np.exp(-(y/C)**W ))**N) - nyears*pr\n",
      "/home/arturo/github/downpy/codes/downscale.py:1248: RuntimeWarning: invalid value encountered in power\n",
      "  mev0f = np.sum( ( 1-np.exp(-(y/C)**W ))**N) - nyears*pr\n",
      "/home/arturo/github/downpy/codes/downscale.py:1248: RuntimeWarning: invalid value encountered in power\n",
      "  mev0f = np.sum( ( 1-np.exp(-(y/C)**W ))**N) - nyears*pr\n",
      "/home/arturo/github/downpy/codes/downscale.py:1248: RuntimeWarning: invalid value encountered in power\n",
      "  mev0f = np.sum( ( 1-np.exp(-(y/C)**W ))**N) - nyears*pr\n",
      "/home/arturo/github/downpy/codes/downscale.py:1248: RuntimeWarning: invalid value encountered in power\n",
      "  mev0f = np.sum( ( 1-np.exp(-(y/C)**W ))**N) - nyears*pr\n",
      "/home/arturo/github/downpy/codes/downscale.py:1248: RuntimeWarning: invalid value encountered in power\n",
      "  mev0f = np.sum( ( 1-np.exp(-(y/C)**W ))**N) - nyears*pr\n",
      "/home/arturo/github/downpy/codes/downscale.py:1248: RuntimeWarning: invalid value encountered in power\n",
      "  mev0f = np.sum( ( 1-np.exp(-(y/C)**W ))**N) - nyears*pr\n",
      "/home/arturo/github/downpy/codes/downscale.py:1248: RuntimeWarning: invalid value encountered in power\n",
      "  mev0f = np.sum( ( 1-np.exp(-(y/C)**W ))**N) - nyears*pr\n"
     ]
    },
    {
     "name": "stdout",
     "output_type": "stream",
     "text": [
      "mevd_quant:: ERROR - fsolve does not work -  change x0\n",
      "mevd_quant:: ERROR - fsolve does not work -  change x0\n",
      "mevd_quant:: ERROR - fsolve does not work -  change x0\n",
      "mevd_quant:: ERROR - fsolve does not work -  change x0\n",
      "mevd_quant:: ERROR - fsolve does not work -  change x0\n",
      "mevd_quant:: ERROR - fsolve does not work -  change x0\n",
      "mevd_quant:: ERROR - fsolve does not work -  change x0\n",
      "mevd_quant:: ERROR - fsolve does not work -  change x0\n",
      "mevd_quant:: ERROR - fsolve does not work -  change x0\n",
      "mevd_quant:: ERROR - fsolve does not work -  change x0\n",
      "mevd_quant:: ERROR - fsolve does not work -  change x0\n",
      "mevd_quant:: ERROR - fsolve does not work -  change x0\n",
      "mevd_quant:: ERROR - fsolve does not work -  change x0\n",
      "mevd_quant:: ERROR - fsolve does not work -  change x0\n",
      "mevd_quant:: ERROR - fsolve does not work -  change x0\n",
      "mevd_quant:: ERROR - fsolve does not work -  change x0\n",
      "mevd_quant:: ERROR - fsolve does not work -  change x0\n",
      "mevd_quant:: ERROR - fsolve does not work -  change x0\n",
      "mevd_quant:: ERROR - fsolve does not work -  change x0\n",
      "mevd_quant:: ERROR - fsolve does not work -  change x0\n",
      "mevd_quant:: ERROR - fsolve does not work -  change x0\n",
      "mevd_quant:: ERROR - fsolve does not work -  change x0\n",
      "mevd_quant:: ERROR - fsolve does not work -  change x0\n",
      "mevd_quant:: ERROR - fsolve does not work -  change x0\n",
      "mevd_quant:: ERROR - fsolve does not work -  change x0\n",
      "mevd_quant:: ERROR - fsolve does not work -  change x0\n",
      "mevd_quant:: ERROR - fsolve does not work -  change x0\n",
      "mevd_quant:: ERROR - fsolve does not work -  change x0\n"
     ]
    },
    {
     "name": "stderr",
     "output_type": "stream",
     "text": [
      "/home/arturo/github/downpy/codes/downscale.py:1248: RuntimeWarning: invalid value encountered in power\n",
      "  mev0f = np.sum( ( 1-np.exp(-(y/C)**W ))**N) - nyears*pr\n"
     ]
    },
    {
     "name": "stdout",
     "output_type": "stream",
     "text": [
      "mevd_quant:: ERROR - fsolve does not work -  change x0\n",
      "mevd_quant:: ERROR - fsolve does not work -  change x0\n",
      "mevd_quant:: ERROR - fsolve does not work -  change x0\n",
      "mevd_quant:: ERROR - fsolve does not work -  change x0\n",
      "47\n"
     ]
    },
    {
     "name": "stderr",
     "output_type": "stream",
     "text": [
      "/home/arturo/github/downpy/codes/downscale.py:1248: RuntimeWarning: invalid value encountered in power\n",
      "  mev0f = np.sum( ( 1-np.exp(-(y/C)**W ))**N) - nyears*pr\n",
      "/home/arturo/github/downpy/codes/downscale.py:1248: RuntimeWarning: invalid value encountered in power\n",
      "  mev0f = np.sum( ( 1-np.exp(-(y/C)**W ))**N) - nyears*pr\n",
      "/home/arturo/github/downpy/codes/downscale.py:1248: RuntimeWarning: invalid value encountered in power\n",
      "  mev0f = np.sum( ( 1-np.exp(-(y/C)**W ))**N) - nyears*pr\n",
      "/home/arturo/github/downpy/codes/downscale.py:1248: RuntimeWarning: invalid value encountered in power\n",
      "  mev0f = np.sum( ( 1-np.exp(-(y/C)**W ))**N) - nyears*pr\n",
      "/home/arturo/github/downpy/codes/downscale.py:1248: RuntimeWarning: invalid value encountered in power\n",
      "  mev0f = np.sum( ( 1-np.exp(-(y/C)**W ))**N) - nyears*pr\n",
      "/home/arturo/github/downpy/codes/downscale.py:1248: RuntimeWarning: invalid value encountered in power\n",
      "  mev0f = np.sum( ( 1-np.exp(-(y/C)**W ))**N) - nyears*pr\n",
      "/home/arturo/github/downpy/codes/downscale.py:1248: RuntimeWarning: invalid value encountered in power\n",
      "  mev0f = np.sum( ( 1-np.exp(-(y/C)**W ))**N) - nyears*pr\n",
      "/home/arturo/github/downpy/codes/downscale.py:1248: RuntimeWarning: invalid value encountered in power\n",
      "  mev0f = np.sum( ( 1-np.exp(-(y/C)**W ))**N) - nyears*pr\n",
      "/home/arturo/github/downpy/codes/downscale.py:1248: RuntimeWarning: invalid value encountered in power\n",
      "  mev0f = np.sum( ( 1-np.exp(-(y/C)**W ))**N) - nyears*pr\n",
      "/home/arturo/github/downpy/codes/downscale.py:1248: RuntimeWarning: invalid value encountered in power\n",
      "  mev0f = np.sum( ( 1-np.exp(-(y/C)**W ))**N) - nyears*pr\n"
     ]
    },
    {
     "name": "stdout",
     "output_type": "stream",
     "text": [
      "mevd_quant:: ERROR - fsolve does not work -  change x0\n",
      "mevd_quant:: ERROR - fsolve does not work -  change x0\n",
      "mevd_quant:: ERROR - fsolve does not work -  change x0\n",
      "mevd_quant:: ERROR - fsolve does not work -  change x0\n",
      "mevd_quant:: ERROR - fsolve does not work -  change x0\n",
      "mevd_quant:: ERROR - fsolve does not work -  change x0\n",
      "mevd_quant:: ERROR - fsolve does not work -  change x0\n",
      "mevd_quant:: ERROR - fsolve does not work -  change x0\n",
      "mevd_quant:: ERROR - fsolve does not work -  change x0\n",
      "mevd_quant:: ERROR - fsolve does not work -  change x0\n",
      "mevd_quant:: ERROR - fsolve does not work -  change x0\n",
      "mevd_quant:: ERROR - fsolve does not work -  change x0\n",
      "mevd_quant:: ERROR - fsolve does not work -  change x0\n",
      "mevd_quant:: ERROR - fsolve does not work -  change x0\n",
      "mevd_quant:: ERROR - fsolve does not work -  change x0\n",
      "mevd_quant:: ERROR - fsolve does not work -  change x0\n",
      "mevd_quant:: ERROR - fsolve does not work -  change x0\n",
      "mevd_quant:: ERROR - fsolve does not work -  change x0\n",
      "mevd_quant:: ERROR - fsolve does not work -  change x0\n",
      "mevd_quant:: ERROR - fsolve does not work -  change x0\n",
      "mevd_quant:: ERROR - fsolve does not work -  change x0\n",
      "mevd_quant:: ERROR - fsolve does not work -  change x0\n",
      "mevd_quant:: ERROR - fsolve does not work -  change x0\n",
      "mevd_quant:: ERROR - fsolve does not work -  change x0\n",
      "mevd_quant:: ERROR - fsolve does not work -  change x0\n",
      "mevd_quant:: ERROR - fsolve does not work -  change x0\n",
      "mevd_quant:: ERROR - fsolve does not work -  change x0\n",
      "mevd_quant:: ERROR - fsolve does not work -  change x0\n",
      "mevd_quant:: ERROR - fsolve does not work -  change x0\n",
      "mevd_quant:: ERROR - fsolve does not work -  change x0\n",
      "mevd_quant:: ERROR - fsolve does not work -  change x0\n",
      "mevd_quant:: ERROR - fsolve does not work -  change x0\n",
      "mevd_quant:: ERROR - fsolve does not work -  change x0\n",
      "mevd_quant:: ERROR - fsolve does not work -  change x0\n",
      "mevd_quant:: ERROR - fsolve does not work -  change x0\n",
      "mevd_quant:: ERROR - fsolve does not work -  change x0\n"
     ]
    },
    {
     "name": "stderr",
     "output_type": "stream",
     "text": [
      "/home/arturo/github/downpy/codes/downscale.py:1248: RuntimeWarning: invalid value encountered in power\n",
      "  mev0f = np.sum( ( 1-np.exp(-(y/C)**W ))**N) - nyears*pr\n",
      "/home/arturo/github/downpy/codes/downscale.py:1248: RuntimeWarning: invalid value encountered in power\n",
      "  mev0f = np.sum( ( 1-np.exp(-(y/C)**W ))**N) - nyears*pr\n",
      "/home/arturo/github/downpy/codes/downscale.py:1248: RuntimeWarning: invalid value encountered in power\n",
      "  mev0f = np.sum( ( 1-np.exp(-(y/C)**W ))**N) - nyears*pr\n",
      "/home/arturo/github/downpy/codes/downscale.py:1248: RuntimeWarning: invalid value encountered in power\n",
      "  mev0f = np.sum( ( 1-np.exp(-(y/C)**W ))**N) - nyears*pr\n",
      "/home/arturo/github/downpy/codes/downscale.py:1248: RuntimeWarning: invalid value encountered in power\n",
      "  mev0f = np.sum( ( 1-np.exp(-(y/C)**W ))**N) - nyears*pr\n",
      "/home/arturo/github/downpy/codes/downscale.py:1248: RuntimeWarning: invalid value encountered in power\n",
      "  mev0f = np.sum( ( 1-np.exp(-(y/C)**W ))**N) - nyears*pr\n",
      "/home/arturo/github/downpy/codes/downscale.py:1248: RuntimeWarning: invalid value encountered in power\n",
      "  mev0f = np.sum( ( 1-np.exp(-(y/C)**W ))**N) - nyears*pr\n"
     ]
    },
    {
     "name": "stdout",
     "output_type": "stream",
     "text": [
      "mevd_quant:: ERROR - fsolve does not work -  change x0\n",
      "mevd_quant:: ERROR - fsolve does not work -  change x0\n",
      "mevd_quant:: ERROR - fsolve does not work -  change x0\n",
      "mevd_quant:: ERROR - fsolve does not work -  change x0\n",
      "mevd_quant:: ERROR - fsolve does not work -  change x0\n",
      "mevd_quant:: ERROR - fsolve does not work -  change x0\n",
      "mevd_quant:: ERROR - fsolve does not work -  change x0\n",
      "mevd_quant:: ERROR - fsolve does not work -  change x0\n",
      "mevd_quant:: ERROR - fsolve does not work -  change x0\n",
      "mevd_quant:: ERROR - fsolve does not work -  change x0\n",
      "mevd_quant:: ERROR - fsolve does not work -  change x0\n",
      "mevd_quant:: ERROR - fsolve does not work -  change x0\n",
      "mevd_quant:: ERROR - fsolve does not work -  change x0\n",
      "mevd_quant:: ERROR - fsolve does not work -  change x0\n",
      "mevd_quant:: ERROR - fsolve does not work -  change x0\n",
      "mevd_quant:: ERROR - fsolve does not work -  change x0\n",
      "mevd_quant:: ERROR - fsolve does not work -  change x0\n",
      "mevd_quant:: ERROR - fsolve does not work -  change x0\n",
      "mevd_quant:: ERROR - fsolve does not work -  change x0\n",
      "mevd_quant:: ERROR - fsolve does not work -  change x0\n"
     ]
    },
    {
     "name": "stderr",
     "output_type": "stream",
     "text": [
      "/home/arturo/github/downpy/codes/downscale.py:1248: RuntimeWarning: invalid value encountered in power\n",
      "  mev0f = np.sum( ( 1-np.exp(-(y/C)**W ))**N) - nyears*pr\n",
      "/home/arturo/github/downpy/codes/downscale.py:1248: RuntimeWarning: invalid value encountered in power\n",
      "  mev0f = np.sum( ( 1-np.exp(-(y/C)**W ))**N) - nyears*pr\n",
      "/home/arturo/github/downpy/codes/downscale.py:1248: RuntimeWarning: invalid value encountered in power\n",
      "  mev0f = np.sum( ( 1-np.exp(-(y/C)**W ))**N) - nyears*pr\n",
      "/home/arturo/github/downpy/codes/downscale.py:1248: RuntimeWarning: invalid value encountered in power\n",
      "  mev0f = np.sum( ( 1-np.exp(-(y/C)**W ))**N) - nyears*pr\n",
      "/home/arturo/github/downpy/codes/downscale.py:1248: RuntimeWarning: invalid value encountered in power\n",
      "  mev0f = np.sum( ( 1-np.exp(-(y/C)**W ))**N) - nyears*pr\n",
      "/home/arturo/github/downpy/codes/downscale.py:1248: RuntimeWarning: invalid value encountered in power\n",
      "  mev0f = np.sum( ( 1-np.exp(-(y/C)**W ))**N) - nyears*pr\n",
      "/home/arturo/github/downpy/codes/downscale.py:1248: RuntimeWarning: invalid value encountered in power\n",
      "  mev0f = np.sum( ( 1-np.exp(-(y/C)**W ))**N) - nyears*pr\n",
      "/home/arturo/github/downpy/codes/downscale.py:1248: RuntimeWarning: invalid value encountered in power\n",
      "  mev0f = np.sum( ( 1-np.exp(-(y/C)**W ))**N) - nyears*pr\n",
      "/home/arturo/github/downpy/codes/downscale.py:1248: RuntimeWarning: invalid value encountered in power\n",
      "  mev0f = np.sum( ( 1-np.exp(-(y/C)**W ))**N) - nyears*pr\n",
      "/home/arturo/github/downpy/codes/downscale.py:1248: RuntimeWarning: invalid value encountered in power\n",
      "  mev0f = np.sum( ( 1-np.exp(-(y/C)**W ))**N) - nyears*pr\n",
      "/home/arturo/github/downpy/codes/downscale.py:1248: RuntimeWarning: invalid value encountered in power\n",
      "  mev0f = np.sum( ( 1-np.exp(-(y/C)**W ))**N) - nyears*pr\n",
      "/home/arturo/github/downpy/codes/downscale.py:1248: RuntimeWarning: invalid value encountered in power\n",
      "  mev0f = np.sum( ( 1-np.exp(-(y/C)**W ))**N) - nyears*pr\n"
     ]
    },
    {
     "name": "stdout",
     "output_type": "stream",
     "text": [
      "mevd_quant:: ERROR - fsolve does not work -  change x0\n",
      "mevd_quant:: ERROR - fsolve does not work -  change x0\n",
      "mevd_quant:: ERROR - fsolve does not work -  change x0\n",
      "mevd_quant:: ERROR - fsolve does not work -  change x0\n",
      "mevd_quant:: ERROR - fsolve does not work -  change x0\n",
      "mevd_quant:: ERROR - fsolve does not work -  change x0\n",
      "mevd_quant:: ERROR - fsolve does not work -  change x0\n",
      "mevd_quant:: ERROR - fsolve does not work -  change x0\n",
      "mevd_quant:: ERROR - fsolve does not work -  change x0\n",
      "mevd_quant:: ERROR - fsolve does not work -  change x0\n",
      "mevd_quant:: ERROR - fsolve does not work -  change x0\n",
      "mevd_quant:: ERROR - fsolve does not work -  change x0\n",
      "mevd_quant:: ERROR - fsolve does not work -  change x0\n",
      "mevd_quant:: ERROR - fsolve does not work -  change x0\n",
      "mevd_quant:: ERROR - fsolve does not work -  change x0\n",
      "mevd_quant:: ERROR - fsolve does not work -  change x0\n",
      "mevd_quant:: ERROR - fsolve does not work -  change x0\n",
      "mevd_quant:: ERROR - fsolve does not work -  change x0\n",
      "mevd_quant:: ERROR - fsolve does not work -  change x0\n",
      "mevd_quant:: ERROR - fsolve does not work -  change x0\n",
      "mevd_quant:: ERROR - fsolve does not work -  change x0\n",
      "mevd_quant:: ERROR - fsolve does not work -  change x0\n",
      "mevd_quant:: ERROR - fsolve does not work -  change x0\n",
      "mevd_quant:: ERROR - fsolve does not work -  change x0\n",
      "mevd_quant:: ERROR - fsolve does not work -  change x0\n",
      "mevd_quant:: ERROR - fsolve does not work -  change x0\n",
      "mevd_quant:: ERROR - fsolve does not work -  change x0\n",
      "mevd_quant:: ERROR - fsolve does not work -  change x0\n",
      "mevd_quant:: ERROR - fsolve does not work -  change x0\n",
      "mevd_quant:: ERROR - fsolve does not work -  change x0\n",
      "mevd_quant:: ERROR - fsolve does not work -  change x0\n",
      "mevd_quant:: ERROR - fsolve does not work -  change x0\n",
      "mevd_quant:: ERROR - fsolve does not work -  change x0\n",
      "mevd_quant:: ERROR - fsolve does not work -  change x0\n",
      "mevd_quant:: ERROR - fsolve does not work -  change x0\n",
      "mevd_quant:: ERROR - fsolve does not work -  change x0\n"
     ]
    },
    {
     "name": "stderr",
     "output_type": "stream",
     "text": [
      "/home/arturo/github/downpy/codes/downscale.py:1248: RuntimeWarning: invalid value encountered in power\n",
      "  mev0f = np.sum( ( 1-np.exp(-(y/C)**W ))**N) - nyears*pr\n",
      "/home/arturo/github/downpy/codes/downscale.py:1248: RuntimeWarning: invalid value encountered in power\n",
      "  mev0f = np.sum( ( 1-np.exp(-(y/C)**W ))**N) - nyears*pr\n",
      "/home/arturo/github/downpy/codes/downscale.py:1248: RuntimeWarning: invalid value encountered in power\n",
      "  mev0f = np.sum( ( 1-np.exp(-(y/C)**W ))**N) - nyears*pr\n"
     ]
    },
    {
     "name": "stdout",
     "output_type": "stream",
     "text": [
      "mevd_quant:: ERROR - fsolve does not work -  change x0\n",
      "mevd_quant:: ERROR - fsolve does not work -  change x0\n",
      "mevd_quant:: ERROR - fsolve does not work -  change x0\n",
      "mevd_quant:: ERROR - fsolve does not work -  change x0\n",
      "mevd_quant:: ERROR - fsolve does not work -  change x0\n",
      "mevd_quant:: ERROR - fsolve does not work -  change x0\n",
      "mevd_quant:: ERROR - fsolve does not work -  change x0\n",
      "mevd_quant:: ERROR - fsolve does not work -  change x0\n"
     ]
    },
    {
     "name": "stderr",
     "output_type": "stream",
     "text": [
      "/home/arturo/github/downpy/codes/downscale.py:1248: RuntimeWarning: invalid value encountered in power\n",
      "  mev0f = np.sum( ( 1-np.exp(-(y/C)**W ))**N) - nyears*pr\n"
     ]
    },
    {
     "name": "stdout",
     "output_type": "stream",
     "text": [
      "mevd_quant:: ERROR - fsolve does not work -  change x0\n",
      "48\n"
     ]
    },
    {
     "name": "stderr",
     "output_type": "stream",
     "text": [
      "/home/arturo/github/downpy/codes/downscale.py:1248: RuntimeWarning: invalid value encountered in power\n",
      "  mev0f = np.sum( ( 1-np.exp(-(y/C)**W ))**N) - nyears*pr\n",
      "/home/arturo/github/downpy/codes/downscale.py:1248: RuntimeWarning: invalid value encountered in power\n",
      "  mev0f = np.sum( ( 1-np.exp(-(y/C)**W ))**N) - nyears*pr\n",
      "/home/arturo/github/downpy/codes/downscale.py:1248: RuntimeWarning: invalid value encountered in power\n",
      "  mev0f = np.sum( ( 1-np.exp(-(y/C)**W ))**N) - nyears*pr\n",
      "/home/arturo/github/downpy/codes/downscale.py:1248: RuntimeWarning: invalid value encountered in power\n",
      "  mev0f = np.sum( ( 1-np.exp(-(y/C)**W ))**N) - nyears*pr\n",
      "/home/arturo/github/downpy/codes/downscale.py:1248: RuntimeWarning: invalid value encountered in power\n",
      "  mev0f = np.sum( ( 1-np.exp(-(y/C)**W ))**N) - nyears*pr\n",
      "/home/arturo/github/downpy/codes/downscale.py:1248: RuntimeWarning: invalid value encountered in power\n",
      "  mev0f = np.sum( ( 1-np.exp(-(y/C)**W ))**N) - nyears*pr\n",
      "/home/arturo/github/downpy/codes/downscale.py:1248: RuntimeWarning: invalid value encountered in power\n",
      "  mev0f = np.sum( ( 1-np.exp(-(y/C)**W ))**N) - nyears*pr\n",
      "/home/arturo/github/downpy/codes/downscale.py:1248: RuntimeWarning: invalid value encountered in power\n",
      "  mev0f = np.sum( ( 1-np.exp(-(y/C)**W ))**N) - nyears*pr\n",
      "/home/arturo/github/downpy/codes/downscale.py:1248: RuntimeWarning: invalid value encountered in power\n",
      "  mev0f = np.sum( ( 1-np.exp(-(y/C)**W ))**N) - nyears*pr\n",
      "/home/arturo/github/downpy/codes/downscale.py:1248: RuntimeWarning: invalid value encountered in power\n",
      "  mev0f = np.sum( ( 1-np.exp(-(y/C)**W ))**N) - nyears*pr\n",
      "/home/arturo/github/downpy/codes/downscale.py:1248: RuntimeWarning: invalid value encountered in power\n",
      "  mev0f = np.sum( ( 1-np.exp(-(y/C)**W ))**N) - nyears*pr\n",
      "/home/arturo/github/downpy/codes/downscale.py:1248: RuntimeWarning: invalid value encountered in power\n",
      "  mev0f = np.sum( ( 1-np.exp(-(y/C)**W ))**N) - nyears*pr\n",
      "/home/arturo/github/downpy/codes/downscale.py:1248: RuntimeWarning: invalid value encountered in power\n",
      "  mev0f = np.sum( ( 1-np.exp(-(y/C)**W ))**N) - nyears*pr\n"
     ]
    },
    {
     "name": "stdout",
     "output_type": "stream",
     "text": [
      "mevd_quant:: ERROR - fsolve does not work -  change x0\n",
      "mevd_quant:: ERROR - fsolve does not work -  change x0\n",
      "mevd_quant:: ERROR - fsolve does not work -  change x0\n",
      "mevd_quant:: ERROR - fsolve does not work -  change x0\n",
      "mevd_quant:: ERROR - fsolve does not work -  change x0\n",
      "mevd_quant:: ERROR - fsolve does not work -  change x0\n",
      "mevd_quant:: ERROR - fsolve does not work -  change x0\n",
      "mevd_quant:: ERROR - fsolve does not work -  change x0\n",
      "mevd_quant:: ERROR - fsolve does not work -  change x0\n",
      "mevd_quant:: ERROR - fsolve does not work -  change x0\n",
      "mevd_quant:: ERROR - fsolve does not work -  change x0\n",
      "mevd_quant:: ERROR - fsolve does not work -  change x0\n",
      "mevd_quant:: ERROR - fsolve does not work -  change x0\n",
      "mevd_quant:: ERROR - fsolve does not work -  change x0\n",
      "mevd_quant:: ERROR - fsolve does not work -  change x0\n",
      "mevd_quant:: ERROR - fsolve does not work -  change x0\n",
      "mevd_quant:: ERROR - fsolve does not work -  change x0\n",
      "mevd_quant:: ERROR - fsolve does not work -  change x0\n",
      "mevd_quant:: ERROR - fsolve does not work -  change x0\n",
      "mevd_quant:: ERROR - fsolve does not work -  change x0\n",
      "mevd_quant:: ERROR - fsolve does not work -  change x0\n",
      "mevd_quant:: ERROR - fsolve does not work -  change x0\n",
      "mevd_quant:: ERROR - fsolve does not work -  change x0\n",
      "mevd_quant:: ERROR - fsolve does not work -  change x0\n",
      "mevd_quant:: ERROR - fsolve does not work -  change x0\n",
      "mevd_quant:: ERROR - fsolve does not work -  change x0\n",
      "mevd_quant:: ERROR - fsolve does not work -  change x0\n",
      "mevd_quant:: ERROR - fsolve does not work -  change x0\n",
      "mevd_quant:: ERROR - fsolve does not work -  change x0\n",
      "mevd_quant:: ERROR - fsolve does not work -  change x0\n",
      "mevd_quant:: ERROR - fsolve does not work -  change x0\n",
      "mevd_quant:: ERROR - fsolve does not work -  change x0\n",
      "mevd_quant:: ERROR - fsolve does not work -  change x0\n",
      "mevd_quant:: ERROR - fsolve does not work -  change x0\n",
      "mevd_quant:: ERROR - fsolve does not work -  change x0\n",
      "mevd_quant:: ERROR - fsolve does not work -  change x0\n",
      "mevd_quant:: ERROR - fsolve does not work -  change x0\n"
     ]
    },
    {
     "name": "stderr",
     "output_type": "stream",
     "text": [
      "/home/arturo/github/downpy/codes/downscale.py:1248: RuntimeWarning: invalid value encountered in power\n",
      "  mev0f = np.sum( ( 1-np.exp(-(y/C)**W ))**N) - nyears*pr\n",
      "/home/arturo/github/downpy/codes/downscale.py:1248: RuntimeWarning: invalid value encountered in power\n",
      "  mev0f = np.sum( ( 1-np.exp(-(y/C)**W ))**N) - nyears*pr\n",
      "/home/arturo/github/downpy/codes/downscale.py:1248: RuntimeWarning: invalid value encountered in power\n",
      "  mev0f = np.sum( ( 1-np.exp(-(y/C)**W ))**N) - nyears*pr\n",
      "/home/arturo/github/downpy/codes/downscale.py:1248: RuntimeWarning: invalid value encountered in power\n",
      "  mev0f = np.sum( ( 1-np.exp(-(y/C)**W ))**N) - nyears*pr\n",
      "/home/arturo/github/downpy/codes/downscale.py:1248: RuntimeWarning: invalid value encountered in power\n",
      "  mev0f = np.sum( ( 1-np.exp(-(y/C)**W ))**N) - nyears*pr\n",
      "/home/arturo/github/downpy/codes/downscale.py:1248: RuntimeWarning: invalid value encountered in power\n",
      "  mev0f = np.sum( ( 1-np.exp(-(y/C)**W ))**N) - nyears*pr\n",
      "/home/arturo/github/downpy/codes/downscale.py:1248: RuntimeWarning: invalid value encountered in power\n",
      "  mev0f = np.sum( ( 1-np.exp(-(y/C)**W ))**N) - nyears*pr\n",
      "/home/arturo/github/downpy/codes/downscale.py:1248: RuntimeWarning: invalid value encountered in power\n",
      "  mev0f = np.sum( ( 1-np.exp(-(y/C)**W ))**N) - nyears*pr\n",
      "/home/arturo/github/downpy/codes/downscale.py:1248: RuntimeWarning: invalid value encountered in power\n",
      "  mev0f = np.sum( ( 1-np.exp(-(y/C)**W ))**N) - nyears*pr\n",
      "/home/arturo/github/downpy/codes/downscale.py:1248: RuntimeWarning: invalid value encountered in power\n",
      "  mev0f = np.sum( ( 1-np.exp(-(y/C)**W ))**N) - nyears*pr\n"
     ]
    },
    {
     "name": "stdout",
     "output_type": "stream",
     "text": [
      "mevd_quant:: ERROR - fsolve does not work -  change x0\n",
      "mevd_quant:: ERROR - fsolve does not work -  change x0\n",
      "mevd_quant:: ERROR - fsolve does not work -  change x0\n",
      "mevd_quant:: ERROR - fsolve does not work -  change x0\n",
      "mevd_quant:: ERROR - fsolve does not work -  change x0\n",
      "mevd_quant:: ERROR - fsolve does not work -  change x0\n",
      "mevd_quant:: ERROR - fsolve does not work -  change x0\n",
      "mevd_quant:: ERROR - fsolve does not work -  change x0\n",
      "mevd_quant:: ERROR - fsolve does not work -  change x0\n",
      "mevd_quant:: ERROR - fsolve does not work -  change x0\n",
      "mevd_quant:: ERROR - fsolve does not work -  change x0\n",
      "mevd_quant:: ERROR - fsolve does not work -  change x0\n",
      "mevd_quant:: ERROR - fsolve does not work -  change x0\n",
      "mevd_quant:: ERROR - fsolve does not work -  change x0\n",
      "mevd_quant:: ERROR - fsolve does not work -  change x0\n",
      "mevd_quant:: ERROR - fsolve does not work -  change x0\n",
      "mevd_quant:: ERROR - fsolve does not work -  change x0\n",
      "mevd_quant:: ERROR - fsolve does not work -  change x0\n",
      "mevd_quant:: ERROR - fsolve does not work -  change x0\n",
      "mevd_quant:: ERROR - fsolve does not work -  change x0\n",
      "mevd_quant:: ERROR - fsolve does not work -  change x0\n",
      "mevd_quant:: ERROR - fsolve does not work -  change x0\n",
      "mevd_quant:: ERROR - fsolve does not work -  change x0\n",
      "mevd_quant:: ERROR - fsolve does not work -  change x0\n",
      "mevd_quant:: ERROR - fsolve does not work -  change x0\n",
      "mevd_quant:: ERROR - fsolve does not work -  change x0\n",
      "mevd_quant:: ERROR - fsolve does not work -  change x0\n",
      "mevd_quant:: ERROR - fsolve does not work -  change x0\n",
      "mevd_quant:: ERROR - fsolve does not work -  change x0\n",
      "mevd_quant:: ERROR - fsolve does not work -  change x0\n",
      "mevd_quant:: ERROR - fsolve does not work -  change x0\n",
      "mevd_quant:: ERROR - fsolve does not work -  change x0\n",
      "mevd_quant:: ERROR - fsolve does not work -  change x0\n"
     ]
    },
    {
     "name": "stderr",
     "output_type": "stream",
     "text": [
      "/home/arturo/github/downpy/codes/downscale.py:1248: RuntimeWarning: invalid value encountered in power\n",
      "  mev0f = np.sum( ( 1-np.exp(-(y/C)**W ))**N) - nyears*pr\n",
      "/home/arturo/github/downpy/codes/downscale.py:1248: RuntimeWarning: invalid value encountered in power\n",
      "  mev0f = np.sum( ( 1-np.exp(-(y/C)**W ))**N) - nyears*pr\n",
      "/home/arturo/github/downpy/codes/downscale.py:1248: RuntimeWarning: invalid value encountered in power\n",
      "  mev0f = np.sum( ( 1-np.exp(-(y/C)**W ))**N) - nyears*pr\n",
      "/home/arturo/github/downpy/codes/downscale.py:1248: RuntimeWarning: invalid value encountered in power\n",
      "  mev0f = np.sum( ( 1-np.exp(-(y/C)**W ))**N) - nyears*pr\n",
      "/home/arturo/github/downpy/codes/downscale.py:1248: RuntimeWarning: invalid value encountered in power\n",
      "  mev0f = np.sum( ( 1-np.exp(-(y/C)**W ))**N) - nyears*pr\n",
      "/home/arturo/github/downpy/codes/downscale.py:1248: RuntimeWarning: invalid value encountered in power\n",
      "  mev0f = np.sum( ( 1-np.exp(-(y/C)**W ))**N) - nyears*pr\n",
      "/home/arturo/github/downpy/codes/downscale.py:1248: RuntimeWarning: invalid value encountered in power\n",
      "  mev0f = np.sum( ( 1-np.exp(-(y/C)**W ))**N) - nyears*pr\n"
     ]
    },
    {
     "name": "stdout",
     "output_type": "stream",
     "text": [
      "mevd_quant:: ERROR - fsolve does not work -  change x0\n",
      "mevd_quant:: ERROR - fsolve does not work -  change x0\n",
      "mevd_quant:: ERROR - fsolve does not work -  change x0\n",
      "mevd_quant:: ERROR - fsolve does not work -  change x0\n",
      "mevd_quant:: ERROR - fsolve does not work -  change x0\n",
      "mevd_quant:: ERROR - fsolve does not work -  change x0\n",
      "mevd_quant:: ERROR - fsolve does not work -  change x0\n",
      "mevd_quant:: ERROR - fsolve does not work -  change x0\n",
      "mevd_quant:: ERROR - fsolve does not work -  change x0\n",
      "mevd_quant:: ERROR - fsolve does not work -  change x0\n",
      "mevd_quant:: ERROR - fsolve does not work -  change x0\n",
      "mevd_quant:: ERROR - fsolve does not work -  change x0\n",
      "mevd_quant:: ERROR - fsolve does not work -  change x0\n",
      "mevd_quant:: ERROR - fsolve does not work -  change x0\n",
      "mevd_quant:: ERROR - fsolve does not work -  change x0\n",
      "mevd_quant:: ERROR - fsolve does not work -  change x0\n",
      "mevd_quant:: ERROR - fsolve does not work -  change x0\n"
     ]
    },
    {
     "name": "stderr",
     "output_type": "stream",
     "text": [
      "/home/arturo/github/downpy/codes/downscale.py:1248: RuntimeWarning: invalid value encountered in power\n",
      "  mev0f = np.sum( ( 1-np.exp(-(y/C)**W ))**N) - nyears*pr\n",
      "/home/arturo/github/downpy/codes/downscale.py:1248: RuntimeWarning: invalid value encountered in power\n",
      "  mev0f = np.sum( ( 1-np.exp(-(y/C)**W ))**N) - nyears*pr\n",
      "/home/arturo/github/downpy/codes/downscale.py:1248: RuntimeWarning: invalid value encountered in power\n",
      "  mev0f = np.sum( ( 1-np.exp(-(y/C)**W ))**N) - nyears*pr\n",
      "/home/arturo/github/downpy/codes/downscale.py:1248: RuntimeWarning: invalid value encountered in power\n",
      "  mev0f = np.sum( ( 1-np.exp(-(y/C)**W ))**N) - nyears*pr\n",
      "/home/arturo/github/downpy/codes/downscale.py:1248: RuntimeWarning: invalid value encountered in power\n",
      "  mev0f = np.sum( ( 1-np.exp(-(y/C)**W ))**N) - nyears*pr\n",
      "/home/arturo/github/downpy/codes/downscale.py:1248: RuntimeWarning: invalid value encountered in power\n",
      "  mev0f = np.sum( ( 1-np.exp(-(y/C)**W ))**N) - nyears*pr\n",
      "/home/arturo/github/downpy/codes/downscale.py:1248: RuntimeWarning: invalid value encountered in power\n",
      "  mev0f = np.sum( ( 1-np.exp(-(y/C)**W ))**N) - nyears*pr\n"
     ]
    },
    {
     "name": "stdout",
     "output_type": "stream",
     "text": [
      "mevd_quant:: ERROR - fsolve does not work -  change x0\n",
      "mevd_quant:: ERROR - fsolve does not work -  change x0\n",
      "mevd_quant:: ERROR - fsolve does not work -  change x0\n",
      "mevd_quant:: ERROR - fsolve does not work -  change x0\n",
      "mevd_quant:: ERROR - fsolve does not work -  change x0\n",
      "mevd_quant:: ERROR - fsolve does not work -  change x0\n",
      "mevd_quant:: ERROR - fsolve does not work -  change x0\n",
      "mevd_quant:: ERROR - fsolve does not work -  change x0\n",
      "mevd_quant:: ERROR - fsolve does not work -  change x0\n",
      "mevd_quant:: ERROR - fsolve does not work -  change x0\n",
      "mevd_quant:: ERROR - fsolve does not work -  change x0\n",
      "mevd_quant:: ERROR - fsolve does not work -  change x0\n",
      "mevd_quant:: ERROR - fsolve does not work -  change x0\n",
      "mevd_quant:: ERROR - fsolve does not work -  change x0\n",
      "mevd_quant:: ERROR - fsolve does not work -  change x0\n",
      "49\n"
     ]
    },
    {
     "name": "stderr",
     "output_type": "stream",
     "text": [
      "/home/arturo/github/downpy/codes/downscale.py:1248: RuntimeWarning: invalid value encountered in power\n",
      "  mev0f = np.sum( ( 1-np.exp(-(y/C)**W ))**N) - nyears*pr\n",
      "/home/arturo/github/downpy/codes/downscale.py:1248: RuntimeWarning: invalid value encountered in power\n",
      "  mev0f = np.sum( ( 1-np.exp(-(y/C)**W ))**N) - nyears*pr\n",
      "/home/arturo/github/downpy/codes/downscale.py:1248: RuntimeWarning: invalid value encountered in power\n",
      "  mev0f = np.sum( ( 1-np.exp(-(y/C)**W ))**N) - nyears*pr\n",
      "/home/arturo/github/downpy/codes/downscale.py:1248: RuntimeWarning: invalid value encountered in power\n",
      "  mev0f = np.sum( ( 1-np.exp(-(y/C)**W ))**N) - nyears*pr\n",
      "/home/arturo/github/downpy/codes/downscale.py:1248: RuntimeWarning: invalid value encountered in power\n",
      "  mev0f = np.sum( ( 1-np.exp(-(y/C)**W ))**N) - nyears*pr\n",
      "/home/arturo/github/downpy/codes/downscale.py:1248: RuntimeWarning: invalid value encountered in power\n",
      "  mev0f = np.sum( ( 1-np.exp(-(y/C)**W ))**N) - nyears*pr\n",
      "/home/arturo/github/downpy/codes/downscale.py:1248: RuntimeWarning: invalid value encountered in power\n",
      "  mev0f = np.sum( ( 1-np.exp(-(y/C)**W ))**N) - nyears*pr\n",
      "/home/arturo/github/downpy/codes/downscale.py:1248: RuntimeWarning: invalid value encountered in power\n",
      "  mev0f = np.sum( ( 1-np.exp(-(y/C)**W ))**N) - nyears*pr\n"
     ]
    },
    {
     "name": "stdout",
     "output_type": "stream",
     "text": [
      "mevd_quant:: ERROR - fsolve does not work -  change x0\n",
      "mevd_quant:: ERROR - fsolve does not work -  change x0\n",
      "mevd_quant:: ERROR - fsolve does not work -  change x0\n",
      "mevd_quant:: ERROR - fsolve does not work -  change x0\n",
      "mevd_quant:: ERROR - fsolve does not work -  change x0\n",
      "mevd_quant:: ERROR - fsolve does not work -  change x0\n",
      "mevd_quant:: ERROR - fsolve does not work -  change x0\n",
      "mevd_quant:: ERROR - fsolve does not work -  change x0\n",
      "mevd_quant:: ERROR - fsolve does not work -  change x0\n",
      "mevd_quant:: ERROR - fsolve does not work -  change x0\n",
      "mevd_quant:: ERROR - fsolve does not work -  change x0\n",
      "mevd_quant:: ERROR - fsolve does not work -  change x0\n",
      "mevd_quant:: ERROR - fsolve does not work -  change x0\n",
      "mevd_quant:: ERROR - fsolve does not work -  change x0\n",
      "mevd_quant:: ERROR - fsolve does not work -  change x0\n",
      "mevd_quant:: ERROR - fsolve does not work -  change x0\n",
      "mevd_quant:: ERROR - fsolve does not work -  change x0\n",
      "mevd_quant:: ERROR - fsolve does not work -  change x0\n",
      "mevd_quant:: ERROR - fsolve does not work -  change x0\n",
      "mevd_quant:: ERROR - fsolve does not work -  change x0\n",
      "mevd_quant:: ERROR - fsolve does not work -  change x0\n",
      "mevd_quant:: ERROR - fsolve does not work -  change x0\n",
      "mevd_quant:: ERROR - fsolve does not work -  change x0\n",
      "mevd_quant:: ERROR - fsolve does not work -  change x0\n",
      "mevd_quant:: ERROR - fsolve does not work -  change x0\n",
      "mevd_quant:: ERROR - fsolve does not work -  change x0\n",
      "mevd_quant:: ERROR - fsolve does not work -  change x0\n"
     ]
    },
    {
     "name": "stderr",
     "output_type": "stream",
     "text": [
      "/home/arturo/github/downpy/codes/downscale.py:1248: RuntimeWarning: invalid value encountered in power\n",
      "  mev0f = np.sum( ( 1-np.exp(-(y/C)**W ))**N) - nyears*pr\n",
      "/home/arturo/github/downpy/codes/downscale.py:1248: RuntimeWarning: invalid value encountered in power\n",
      "  mev0f = np.sum( ( 1-np.exp(-(y/C)**W ))**N) - nyears*pr\n",
      "/home/arturo/github/downpy/codes/downscale.py:1248: RuntimeWarning: invalid value encountered in power\n",
      "  mev0f = np.sum( ( 1-np.exp(-(y/C)**W ))**N) - nyears*pr\n",
      "/home/arturo/github/downpy/codes/downscale.py:1248: RuntimeWarning: invalid value encountered in power\n",
      "  mev0f = np.sum( ( 1-np.exp(-(y/C)**W ))**N) - nyears*pr\n",
      "/home/arturo/github/downpy/codes/downscale.py:1248: RuntimeWarning: invalid value encountered in power\n",
      "  mev0f = np.sum( ( 1-np.exp(-(y/C)**W ))**N) - nyears*pr\n",
      "/home/arturo/github/downpy/codes/downscale.py:1248: RuntimeWarning: invalid value encountered in power\n",
      "  mev0f = np.sum( ( 1-np.exp(-(y/C)**W ))**N) - nyears*pr\n",
      "/home/arturo/github/downpy/codes/downscale.py:1248: RuntimeWarning: invalid value encountered in power\n",
      "  mev0f = np.sum( ( 1-np.exp(-(y/C)**W ))**N) - nyears*pr\n",
      "/home/arturo/github/downpy/codes/downscale.py:1248: RuntimeWarning: invalid value encountered in power\n",
      "  mev0f = np.sum( ( 1-np.exp(-(y/C)**W ))**N) - nyears*pr\n",
      "/home/arturo/github/downpy/codes/downscale.py:1248: RuntimeWarning: invalid value encountered in power\n",
      "  mev0f = np.sum( ( 1-np.exp(-(y/C)**W ))**N) - nyears*pr\n"
     ]
    },
    {
     "name": "stdout",
     "output_type": "stream",
     "text": [
      "mevd_quant:: ERROR - fsolve does not work -  change x0\n",
      "mevd_quant:: ERROR - fsolve does not work -  change x0\n",
      "mevd_quant:: ERROR - fsolve does not work -  change x0\n",
      "mevd_quant:: ERROR - fsolve does not work -  change x0\n",
      "mevd_quant:: ERROR - fsolve does not work -  change x0\n",
      "mevd_quant:: ERROR - fsolve does not work -  change x0\n",
      "mevd_quant:: ERROR - fsolve does not work -  change x0\n",
      "mevd_quant:: ERROR - fsolve does not work -  change x0\n",
      "mevd_quant:: ERROR - fsolve does not work -  change x0\n",
      "mevd_quant:: ERROR - fsolve does not work -  change x0\n",
      "mevd_quant:: ERROR - fsolve does not work -  change x0\n",
      "mevd_quant:: ERROR - fsolve does not work -  change x0\n",
      "mevd_quant:: ERROR - fsolve does not work -  change x0\n",
      "mevd_quant:: ERROR - fsolve does not work -  change x0\n",
      "mevd_quant:: ERROR - fsolve does not work -  change x0\n",
      "mevd_quant:: ERROR - fsolve does not work -  change x0\n",
      "mevd_quant:: ERROR - fsolve does not work -  change x0\n",
      "mevd_quant:: ERROR - fsolve does not work -  change x0\n",
      "mevd_quant:: ERROR - fsolve does not work -  change x0\n",
      "mevd_quant:: ERROR - fsolve does not work -  change x0\n",
      "mevd_quant:: ERROR - fsolve does not work -  change x0\n",
      "mevd_quant:: ERROR - fsolve does not work -  change x0\n",
      "mevd_quant:: ERROR - fsolve does not work -  change x0\n",
      "mevd_quant:: ERROR - fsolve does not work -  change x0\n"
     ]
    },
    {
     "name": "stderr",
     "output_type": "stream",
     "text": [
      "/home/arturo/github/downpy/codes/downscale.py:1248: RuntimeWarning: invalid value encountered in power\n",
      "  mev0f = np.sum( ( 1-np.exp(-(y/C)**W ))**N) - nyears*pr\n",
      "/home/arturo/github/downpy/codes/downscale.py:1248: RuntimeWarning: invalid value encountered in power\n",
      "  mev0f = np.sum( ( 1-np.exp(-(y/C)**W ))**N) - nyears*pr\n",
      "/home/arturo/github/downpy/codes/downscale.py:1248: RuntimeWarning: invalid value encountered in power\n",
      "  mev0f = np.sum( ( 1-np.exp(-(y/C)**W ))**N) - nyears*pr\n",
      "/home/arturo/github/downpy/codes/downscale.py:1248: RuntimeWarning: invalid value encountered in power\n",
      "  mev0f = np.sum( ( 1-np.exp(-(y/C)**W ))**N) - nyears*pr\n",
      "/home/arturo/github/downpy/codes/downscale.py:1248: RuntimeWarning: invalid value encountered in power\n",
      "  mev0f = np.sum( ( 1-np.exp(-(y/C)**W ))**N) - nyears*pr\n",
      "/home/arturo/github/downpy/codes/downscale.py:1248: RuntimeWarning: invalid value encountered in power\n",
      "  mev0f = np.sum( ( 1-np.exp(-(y/C)**W ))**N) - nyears*pr\n",
      "/home/arturo/github/downpy/codes/downscale.py:1248: RuntimeWarning: invalid value encountered in power\n",
      "  mev0f = np.sum( ( 1-np.exp(-(y/C)**W ))**N) - nyears*pr\n",
      "/home/arturo/github/downpy/codes/downscale.py:1248: RuntimeWarning: invalid value encountered in power\n",
      "  mev0f = np.sum( ( 1-np.exp(-(y/C)**W ))**N) - nyears*pr\n",
      "/home/arturo/github/downpy/codes/downscale.py:1248: RuntimeWarning: invalid value encountered in power\n",
      "  mev0f = np.sum( ( 1-np.exp(-(y/C)**W ))**N) - nyears*pr\n",
      "/home/arturo/github/downpy/codes/downscale.py:1248: RuntimeWarning: invalid value encountered in power\n",
      "  mev0f = np.sum( ( 1-np.exp(-(y/C)**W ))**N) - nyears*pr\n"
     ]
    },
    {
     "name": "stdout",
     "output_type": "stream",
     "text": [
      "mevd_quant:: ERROR - fsolve does not work -  change x0\n",
      "mevd_quant:: ERROR - fsolve does not work -  change x0\n",
      "mevd_quant:: ERROR - fsolve does not work -  change x0\n",
      "mevd_quant:: ERROR - fsolve does not work -  change x0\n",
      "mevd_quant:: ERROR - fsolve does not work -  change x0\n",
      "mevd_quant:: ERROR - fsolve does not work -  change x0\n",
      "mevd_quant:: ERROR - fsolve does not work -  change x0\n",
      "mevd_quant:: ERROR - fsolve does not work -  change x0\n",
      "mevd_quant:: ERROR - fsolve does not work -  change x0\n",
      "mevd_quant:: ERROR - fsolve does not work -  change x0\n",
      "mevd_quant:: ERROR - fsolve does not work -  change x0\n",
      "mevd_quant:: ERROR - fsolve does not work -  change x0\n",
      "mevd_quant:: ERROR - fsolve does not work -  change x0\n",
      "mevd_quant:: ERROR - fsolve does not work -  change x0\n",
      "mevd_quant:: ERROR - fsolve does not work -  change x0\n",
      "mevd_quant:: ERROR - fsolve does not work -  change x0\n",
      "mevd_quant:: ERROR - fsolve does not work -  change x0\n",
      "mevd_quant:: ERROR - fsolve does not work -  change x0\n",
      "mevd_quant:: ERROR - fsolve does not work -  change x0\n",
      "mevd_quant:: ERROR - fsolve does not work -  change x0\n",
      "mevd_quant:: ERROR - fsolve does not work -  change x0\n",
      "mevd_quant:: ERROR - fsolve does not work -  change x0\n",
      "mevd_quant:: ERROR - fsolve does not work -  change x0\n",
      "mevd_quant:: ERROR - fsolve does not work -  change x0\n",
      "mevd_quant:: ERROR - fsolve does not work -  change x0\n",
      "mevd_quant:: ERROR - fsolve does not work -  change x0\n",
      "mevd_quant:: ERROR - fsolve does not work -  change x0\n",
      "mevd_quant:: ERROR - fsolve does not work -  change x0\n",
      "mevd_quant:: ERROR - fsolve does not work -  change x0\n",
      "mevd_quant:: ERROR - fsolve does not work -  change x0\n",
      "mevd_quant:: ERROR - fsolve does not work -  change x0\n",
      "mevd_quant:: ERROR - fsolve does not work -  change x0\n",
      "mevd_quant:: ERROR - fsolve does not work -  change x0\n",
      "mevd_quant:: ERROR - fsolve does not work -  change x0\n"
     ]
    },
    {
     "name": "stderr",
     "output_type": "stream",
     "text": [
      "/home/arturo/github/downpy/codes/downscale.py:1248: RuntimeWarning: invalid value encountered in power\n",
      "  mev0f = np.sum( ( 1-np.exp(-(y/C)**W ))**N) - nyears*pr\n",
      "/home/arturo/github/downpy/codes/downscale.py:1248: RuntimeWarning: invalid value encountered in power\n",
      "  mev0f = np.sum( ( 1-np.exp(-(y/C)**W ))**N) - nyears*pr\n",
      "/home/arturo/github/downpy/codes/downscale.py:1248: RuntimeWarning: invalid value encountered in power\n",
      "  mev0f = np.sum( ( 1-np.exp(-(y/C)**W ))**N) - nyears*pr\n",
      "/home/arturo/github/downpy/codes/downscale.py:1248: RuntimeWarning: invalid value encountered in power\n",
      "  mev0f = np.sum( ( 1-np.exp(-(y/C)**W ))**N) - nyears*pr\n",
      "/home/arturo/github/downpy/codes/downscale.py:1248: RuntimeWarning: invalid value encountered in power\n",
      "  mev0f = np.sum( ( 1-np.exp(-(y/C)**W ))**N) - nyears*pr\n",
      "/home/arturo/github/downpy/codes/downscale.py:1248: RuntimeWarning: invalid value encountered in power\n",
      "  mev0f = np.sum( ( 1-np.exp(-(y/C)**W ))**N) - nyears*pr\n",
      "/home/arturo/github/downpy/codes/downscale.py:1248: RuntimeWarning: invalid value encountered in power\n",
      "  mev0f = np.sum( ( 1-np.exp(-(y/C)**W ))**N) - nyears*pr\n"
     ]
    },
    {
     "name": "stdout",
     "output_type": "stream",
     "text": [
      "mevd_quant:: ERROR - fsolve does not work -  change x0\n",
      "mevd_quant:: ERROR - fsolve does not work -  change x0\n",
      "mevd_quant:: ERROR - fsolve does not work -  change x0\n",
      "mevd_quant:: ERROR - fsolve does not work -  change x0\n",
      "mevd_quant:: ERROR - fsolve does not work -  change x0\n",
      "mevd_quant:: ERROR - fsolve does not work -  change x0\n",
      "mevd_quant:: ERROR - fsolve does not work -  change x0\n",
      "mevd_quant:: ERROR - fsolve does not work -  change x0\n",
      "50\n",
      "mevd_quant:: ERROR - fsolve does not work -  change x0\n",
      "mevd_quant:: ERROR - fsolve does not work -  change x0\n"
     ]
    },
    {
     "name": "stderr",
     "output_type": "stream",
     "text": [
      "/home/arturo/github/downpy/codes/downscale.py:1248: RuntimeWarning: invalid value encountered in power\n",
      "  mev0f = np.sum( ( 1-np.exp(-(y/C)**W ))**N) - nyears*pr\n",
      "/home/arturo/github/downpy/codes/downscale.py:1248: RuntimeWarning: invalid value encountered in power\n",
      "  mev0f = np.sum( ( 1-np.exp(-(y/C)**W ))**N) - nyears*pr\n",
      "/home/arturo/github/downpy/codes/downscale.py:1248: RuntimeWarning: invalid value encountered in power\n",
      "  mev0f = np.sum( ( 1-np.exp(-(y/C)**W ))**N) - nyears*pr\n",
      "/home/arturo/github/downpy/codes/downscale.py:1248: RuntimeWarning: invalid value encountered in power\n",
      "  mev0f = np.sum( ( 1-np.exp(-(y/C)**W ))**N) - nyears*pr\n",
      "/home/arturo/github/downpy/codes/downscale.py:1248: RuntimeWarning: invalid value encountered in power\n",
      "  mev0f = np.sum( ( 1-np.exp(-(y/C)**W ))**N) - nyears*pr\n",
      "/home/arturo/github/downpy/codes/downscale.py:1248: RuntimeWarning: invalid value encountered in power\n",
      "  mev0f = np.sum( ( 1-np.exp(-(y/C)**W ))**N) - nyears*pr\n"
     ]
    },
    {
     "name": "stdout",
     "output_type": "stream",
     "text": [
      "mevd_quant:: ERROR - fsolve does not work -  change x0\n",
      "mevd_quant:: ERROR - fsolve does not work -  change x0\n",
      "mevd_quant:: ERROR - fsolve does not work -  change x0\n",
      "mevd_quant:: ERROR - fsolve does not work -  change x0\n",
      "mevd_quant:: ERROR - fsolve does not work -  change x0\n",
      "mevd_quant:: ERROR - fsolve does not work -  change x0\n",
      "mevd_quant:: ERROR - fsolve does not work -  change x0\n",
      "mevd_quant:: ERROR - fsolve does not work -  change x0\n"
     ]
    },
    {
     "name": "stderr",
     "output_type": "stream",
     "text": [
      "/home/arturo/github/downpy/codes/downscale.py:1248: RuntimeWarning: invalid value encountered in power\n",
      "  mev0f = np.sum( ( 1-np.exp(-(y/C)**W ))**N) - nyears*pr\n",
      "/home/arturo/github/downpy/codes/downscale.py:1248: RuntimeWarning: invalid value encountered in power\n",
      "  mev0f = np.sum( ( 1-np.exp(-(y/C)**W ))**N) - nyears*pr\n",
      "/home/arturo/github/downpy/codes/downscale.py:1248: RuntimeWarning: invalid value encountered in power\n",
      "  mev0f = np.sum( ( 1-np.exp(-(y/C)**W ))**N) - nyears*pr\n",
      "/home/arturo/github/downpy/codes/downscale.py:1248: RuntimeWarning: invalid value encountered in power\n",
      "  mev0f = np.sum( ( 1-np.exp(-(y/C)**W ))**N) - nyears*pr\n",
      "/home/arturo/github/downpy/codes/downscale.py:1248: RuntimeWarning: invalid value encountered in power\n",
      "  mev0f = np.sum( ( 1-np.exp(-(y/C)**W ))**N) - nyears*pr\n",
      "/home/arturo/github/downpy/codes/downscale.py:1248: RuntimeWarning: invalid value encountered in power\n",
      "  mev0f = np.sum( ( 1-np.exp(-(y/C)**W ))**N) - nyears*pr\n",
      "/home/arturo/github/downpy/codes/downscale.py:1248: RuntimeWarning: invalid value encountered in power\n",
      "  mev0f = np.sum( ( 1-np.exp(-(y/C)**W ))**N) - nyears*pr\n",
      "/home/arturo/github/downpy/codes/downscale.py:1248: RuntimeWarning: invalid value encountered in power\n",
      "  mev0f = np.sum( ( 1-np.exp(-(y/C)**W ))**N) - nyears*pr\n",
      "/home/arturo/github/downpy/codes/downscale.py:1248: RuntimeWarning: invalid value encountered in power\n",
      "  mev0f = np.sum( ( 1-np.exp(-(y/C)**W ))**N) - nyears*pr\n",
      "/home/arturo/github/downpy/codes/downscale.py:1248: RuntimeWarning: invalid value encountered in power\n",
      "  mev0f = np.sum( ( 1-np.exp(-(y/C)**W ))**N) - nyears*pr\n",
      "/home/arturo/github/downpy/codes/downscale.py:1248: RuntimeWarning: invalid value encountered in power\n",
      "  mev0f = np.sum( ( 1-np.exp(-(y/C)**W ))**N) - nyears*pr\n",
      "/home/arturo/github/downpy/codes/downscale.py:1248: RuntimeWarning: invalid value encountered in power\n",
      "  mev0f = np.sum( ( 1-np.exp(-(y/C)**W ))**N) - nyears*pr\n",
      "/home/arturo/github/downpy/codes/downscale.py:1248: RuntimeWarning: invalid value encountered in power\n",
      "  mev0f = np.sum( ( 1-np.exp(-(y/C)**W ))**N) - nyears*pr\n"
     ]
    },
    {
     "name": "stdout",
     "output_type": "stream",
     "text": [
      "mevd_quant:: ERROR - fsolve does not work -  change x0\n",
      "mevd_quant:: ERROR - fsolve does not work -  change x0\n",
      "mevd_quant:: ERROR - fsolve does not work -  change x0\n",
      "mevd_quant:: ERROR - fsolve does not work -  change x0\n",
      "mevd_quant:: ERROR - fsolve does not work -  change x0\n",
      "mevd_quant:: ERROR - fsolve does not work -  change x0\n",
      "mevd_quant:: ERROR - fsolve does not work -  change x0\n",
      "mevd_quant:: ERROR - fsolve does not work -  change x0\n",
      "mevd_quant:: ERROR - fsolve does not work -  change x0\n",
      "mevd_quant:: ERROR - fsolve does not work -  change x0\n",
      "mevd_quant:: ERROR - fsolve does not work -  change x0\n",
      "mevd_quant:: ERROR - fsolve does not work -  change x0\n",
      "mevd_quant:: ERROR - fsolve does not work -  change x0\n",
      "mevd_quant:: ERROR - fsolve does not work -  change x0\n",
      "mevd_quant:: ERROR - fsolve does not work -  change x0\n",
      "mevd_quant:: ERROR - fsolve does not work -  change x0\n",
      "mevd_quant:: ERROR - fsolve does not work -  change x0\n",
      "mevd_quant:: ERROR - fsolve does not work -  change x0\n",
      "mevd_quant:: ERROR - fsolve does not work -  change x0\n",
      "mevd_quant:: ERROR - fsolve does not work -  change x0\n",
      "mevd_quant:: ERROR - fsolve does not work -  change x0\n",
      "mevd_quant:: ERROR - fsolve does not work -  change x0\n",
      "mevd_quant:: ERROR - fsolve does not work -  change x0\n",
      "mevd_quant:: ERROR - fsolve does not work -  change x0\n",
      "mevd_quant:: ERROR - fsolve does not work -  change x0\n",
      "mevd_quant:: ERROR - fsolve does not work -  change x0\n",
      "mevd_quant:: ERROR - fsolve does not work -  change x0\n",
      "mevd_quant:: ERROR - fsolve does not work -  change x0\n",
      "mevd_quant:: ERROR - fsolve does not work -  change x0\n",
      "mevd_quant:: ERROR - fsolve does not work -  change x0\n",
      "mevd_quant:: ERROR - fsolve does not work -  change x0\n",
      "mevd_quant:: ERROR - fsolve does not work -  change x0\n",
      "mevd_quant:: ERROR - fsolve does not work -  change x0\n",
      "mevd_quant:: ERROR - fsolve does not work -  change x0\n",
      "mevd_quant:: ERROR - fsolve does not work -  change x0\n",
      "mevd_quant:: ERROR - fsolve does not work -  change x0\n",
      "mevd_quant:: ERROR - fsolve does not work -  change x0\n",
      "mevd_quant:: ERROR - fsolve does not work -  change x0\n",
      "mevd_quant:: ERROR - fsolve does not work -  change x0\n",
      "mevd_quant:: ERROR - fsolve does not work -  change x0\n",
      "mevd_quant:: ERROR - fsolve does not work -  change x0\n",
      "mevd_quant:: ERROR - fsolve does not work -  change x0\n",
      "mevd_quant:: ERROR - fsolve does not work -  change x0\n",
      "mevd_quant:: ERROR - fsolve does not work -  change x0\n"
     ]
    },
    {
     "name": "stderr",
     "output_type": "stream",
     "text": [
      "/home/arturo/github/downpy/codes/downscale.py:1248: RuntimeWarning: invalid value encountered in power\n",
      "  mev0f = np.sum( ( 1-np.exp(-(y/C)**W ))**N) - nyears*pr\n",
      "/home/arturo/github/downpy/codes/downscale.py:1248: RuntimeWarning: invalid value encountered in power\n",
      "  mev0f = np.sum( ( 1-np.exp(-(y/C)**W ))**N) - nyears*pr\n",
      "/home/arturo/github/downpy/codes/downscale.py:1248: RuntimeWarning: invalid value encountered in power\n",
      "  mev0f = np.sum( ( 1-np.exp(-(y/C)**W ))**N) - nyears*pr\n",
      "/home/arturo/github/downpy/codes/downscale.py:1248: RuntimeWarning: invalid value encountered in power\n",
      "  mev0f = np.sum( ( 1-np.exp(-(y/C)**W ))**N) - nyears*pr\n",
      "/home/arturo/github/downpy/codes/downscale.py:1248: RuntimeWarning: invalid value encountered in power\n",
      "  mev0f = np.sum( ( 1-np.exp(-(y/C)**W ))**N) - nyears*pr\n",
      "/home/arturo/github/downpy/codes/downscale.py:1248: RuntimeWarning: invalid value encountered in power\n",
      "  mev0f = np.sum( ( 1-np.exp(-(y/C)**W ))**N) - nyears*pr\n"
     ]
    },
    {
     "name": "stdout",
     "output_type": "stream",
     "text": [
      "mevd_quant:: ERROR - fsolve does not work -  change x0\n",
      "mevd_quant:: ERROR - fsolve does not work -  change x0\n",
      "mevd_quant:: ERROR - fsolve does not work -  change x0\n",
      "mevd_quant:: ERROR - fsolve does not work -  change x0\n",
      "mevd_quant:: ERROR - fsolve does not work -  change x0\n",
      "mevd_quant:: ERROR - fsolve does not work -  change x0\n",
      "mevd_quant:: ERROR - fsolve does not work -  change x0\n",
      "mevd_quant:: ERROR - fsolve does not work -  change x0\n",
      "mevd_quant:: ERROR - fsolve does not work -  change x0\n",
      "mevd_quant:: ERROR - fsolve does not work -  change x0\n",
      "mevd_quant:: ERROR - fsolve does not work -  change x0\n",
      "mevd_quant:: ERROR - fsolve does not work -  change x0\n",
      "mevd_quant:: ERROR - fsolve does not work -  change x0\n",
      "mevd_quant:: ERROR - fsolve does not work -  change x0\n",
      "mevd_quant:: ERROR - fsolve does not work -  change x0\n",
      "mevd_quant:: ERROR - fsolve does not work -  change x0\n",
      "mevd_quant:: ERROR - fsolve does not work -  change x0\n"
     ]
    },
    {
     "name": "stderr",
     "output_type": "stream",
     "text": [
      "/home/arturo/github/downpy/codes/downscale.py:1248: RuntimeWarning: invalid value encountered in power\n",
      "  mev0f = np.sum( ( 1-np.exp(-(y/C)**W ))**N) - nyears*pr\n",
      "/home/arturo/github/downpy/codes/downscale.py:1248: RuntimeWarning: invalid value encountered in power\n",
      "  mev0f = np.sum( ( 1-np.exp(-(y/C)**W ))**N) - nyears*pr\n"
     ]
    },
    {
     "name": "stdout",
     "output_type": "stream",
     "text": [
      "mevd_quant:: ERROR - fsolve does not work -  change x0\n",
      "51\n",
      "mevd_quant:: ERROR - fsolve does not work -  change x0\n",
      "mevd_quant:: ERROR - fsolve does not work -  change x0\n"
     ]
    },
    {
     "name": "stderr",
     "output_type": "stream",
     "text": [
      "/home/arturo/github/downpy/codes/downscale.py:1248: RuntimeWarning: invalid value encountered in power\n",
      "  mev0f = np.sum( ( 1-np.exp(-(y/C)**W ))**N) - nyears*pr\n",
      "/home/arturo/github/downpy/codes/downscale.py:1248: RuntimeWarning: invalid value encountered in power\n",
      "  mev0f = np.sum( ( 1-np.exp(-(y/C)**W ))**N) - nyears*pr\n"
     ]
    },
    {
     "name": "stdout",
     "output_type": "stream",
     "text": [
      "mevd_quant:: ERROR - fsolve does not work -  change x0\n",
      "mevd_quant:: ERROR - fsolve does not work -  change x0\n",
      "mevd_quant:: ERROR - fsolve does not work -  change x0\n"
     ]
    },
    {
     "name": "stderr",
     "output_type": "stream",
     "text": [
      "/home/arturo/github/downpy/codes/downscale.py:1248: RuntimeWarning: invalid value encountered in power\n",
      "  mev0f = np.sum( ( 1-np.exp(-(y/C)**W ))**N) - nyears*pr\n",
      "/home/arturo/github/downpy/codes/downscale.py:1248: RuntimeWarning: invalid value encountered in power\n",
      "  mev0f = np.sum( ( 1-np.exp(-(y/C)**W ))**N) - nyears*pr\n",
      "/home/arturo/github/downpy/codes/downscale.py:1248: RuntimeWarning: invalid value encountered in power\n",
      "  mev0f = np.sum( ( 1-np.exp(-(y/C)**W ))**N) - nyears*pr\n",
      "/home/arturo/github/downpy/codes/downscale.py:1248: RuntimeWarning: invalid value encountered in power\n",
      "  mev0f = np.sum( ( 1-np.exp(-(y/C)**W ))**N) - nyears*pr\n",
      "/home/arturo/github/downpy/codes/downscale.py:1248: RuntimeWarning: invalid value encountered in power\n",
      "  mev0f = np.sum( ( 1-np.exp(-(y/C)**W ))**N) - nyears*pr\n"
     ]
    },
    {
     "name": "stdout",
     "output_type": "stream",
     "text": [
      "mevd_quant:: ERROR - fsolve does not work -  change x0\n",
      "mevd_quant:: ERROR - fsolve does not work -  change x0\n",
      "mevd_quant:: ERROR - fsolve does not work -  change x0\n",
      "mevd_quant:: ERROR - fsolve does not work -  change x0\n",
      "mevd_quant:: ERROR - fsolve does not work -  change x0\n",
      "mevd_quant:: ERROR - fsolve does not work -  change x0\n",
      "mevd_quant:: ERROR - fsolve does not work -  change x0\n",
      "mevd_quant:: ERROR - fsolve does not work -  change x0\n",
      "mevd_quant:: ERROR - fsolve does not work -  change x0\n",
      "mevd_quant:: ERROR - fsolve does not work -  change x0\n",
      "mevd_quant:: ERROR - fsolve does not work -  change x0\n",
      "mevd_quant:: ERROR - fsolve does not work -  change x0\n",
      "mevd_quant:: ERROR - fsolve does not work -  change x0\n",
      "mevd_quant:: ERROR - fsolve does not work -  change x0\n",
      "mevd_quant:: ERROR - fsolve does not work -  change x0\n",
      "mevd_quant:: ERROR - fsolve does not work -  change x0\n",
      "mevd_quant:: ERROR - fsolve does not work -  change x0\n",
      "mevd_quant:: ERROR - fsolve does not work -  change x0\n",
      "mevd_quant:: ERROR - fsolve does not work -  change x0\n",
      "mevd_quant:: ERROR - fsolve does not work -  change x0\n"
     ]
    },
    {
     "name": "stderr",
     "output_type": "stream",
     "text": [
      "/home/arturo/github/downpy/codes/downscale.py:1248: RuntimeWarning: invalid value encountered in power\n",
      "  mev0f = np.sum( ( 1-np.exp(-(y/C)**W ))**N) - nyears*pr\n",
      "/home/arturo/github/downpy/codes/downscale.py:1248: RuntimeWarning: invalid value encountered in power\n",
      "  mev0f = np.sum( ( 1-np.exp(-(y/C)**W ))**N) - nyears*pr\n",
      "/home/arturo/github/downpy/codes/downscale.py:1248: RuntimeWarning: invalid value encountered in power\n",
      "  mev0f = np.sum( ( 1-np.exp(-(y/C)**W ))**N) - nyears*pr\n",
      "/home/arturo/github/downpy/codes/downscale.py:1248: RuntimeWarning: invalid value encountered in power\n",
      "  mev0f = np.sum( ( 1-np.exp(-(y/C)**W ))**N) - nyears*pr\n",
      "/home/arturo/github/downpy/codes/downscale.py:1248: RuntimeWarning: invalid value encountered in power\n",
      "  mev0f = np.sum( ( 1-np.exp(-(y/C)**W ))**N) - nyears*pr\n",
      "/home/arturo/github/downpy/codes/downscale.py:1248: RuntimeWarning: invalid value encountered in power\n",
      "  mev0f = np.sum( ( 1-np.exp(-(y/C)**W ))**N) - nyears*pr\n"
     ]
    },
    {
     "name": "stdout",
     "output_type": "stream",
     "text": [
      "mevd_quant:: ERROR - fsolve does not work -  change x0\n",
      "mevd_quant:: ERROR - fsolve does not work -  change x0\n",
      "mevd_quant:: ERROR - fsolve does not work -  change x0\n",
      "mevd_quant:: ERROR - fsolve does not work -  change x0\n",
      "mevd_quant:: ERROR - fsolve does not work -  change x0\n",
      "mevd_quant:: ERROR - fsolve does not work -  change x0\n",
      "mevd_quant:: ERROR - fsolve does not work -  change x0\n",
      "mevd_quant:: ERROR - fsolve does not work -  change x0\n",
      "mevd_quant:: ERROR - fsolve does not work -  change x0\n",
      "mevd_quant:: ERROR - fsolve does not work -  change x0\n",
      "mevd_quant:: ERROR - fsolve does not work -  change x0\n",
      "mevd_quant:: ERROR - fsolve does not work -  change x0\n",
      "mevd_quant:: ERROR - fsolve does not work -  change x0\n",
      "mevd_quant:: ERROR - fsolve does not work -  change x0\n",
      "mevd_quant:: ERROR - fsolve does not work -  change x0\n",
      "mevd_quant:: ERROR - fsolve does not work -  change x0\n",
      "mevd_quant:: ERROR - fsolve does not work -  change x0\n",
      "mevd_quant:: ERROR - fsolve does not work -  change x0\n",
      "mevd_quant:: ERROR - fsolve does not work -  change x0\n",
      "mevd_quant:: ERROR - fsolve does not work -  change x0\n",
      "mevd_quant:: ERROR - fsolve does not work -  change x0\n",
      "mevd_quant:: ERROR - fsolve does not work -  change x0\n"
     ]
    },
    {
     "name": "stderr",
     "output_type": "stream",
     "text": [
      "/home/arturo/github/downpy/codes/downscale.py:1248: RuntimeWarning: invalid value encountered in power\n",
      "  mev0f = np.sum( ( 1-np.exp(-(y/C)**W ))**N) - nyears*pr\n",
      "/home/arturo/github/downpy/codes/downscale.py:1248: RuntimeWarning: invalid value encountered in power\n",
      "  mev0f = np.sum( ( 1-np.exp(-(y/C)**W ))**N) - nyears*pr\n",
      "/home/arturo/github/downpy/codes/downscale.py:1248: RuntimeWarning: invalid value encountered in power\n",
      "  mev0f = np.sum( ( 1-np.exp(-(y/C)**W ))**N) - nyears*pr\n",
      "/home/arturo/github/downpy/codes/downscale.py:1248: RuntimeWarning: invalid value encountered in power\n",
      "  mev0f = np.sum( ( 1-np.exp(-(y/C)**W ))**N) - nyears*pr\n",
      "/home/arturo/github/downpy/codes/downscale.py:1248: RuntimeWarning: invalid value encountered in power\n",
      "  mev0f = np.sum( ( 1-np.exp(-(y/C)**W ))**N) - nyears*pr\n",
      "/home/arturo/github/downpy/codes/downscale.py:1248: RuntimeWarning: invalid value encountered in power\n",
      "  mev0f = np.sum( ( 1-np.exp(-(y/C)**W ))**N) - nyears*pr\n",
      "/home/arturo/github/downpy/codes/downscale.py:1248: RuntimeWarning: invalid value encountered in power\n",
      "  mev0f = np.sum( ( 1-np.exp(-(y/C)**W ))**N) - nyears*pr\n",
      "/home/arturo/github/downpy/codes/downscale.py:1248: RuntimeWarning: invalid value encountered in power\n",
      "  mev0f = np.sum( ( 1-np.exp(-(y/C)**W ))**N) - nyears*pr\n"
     ]
    },
    {
     "name": "stdout",
     "output_type": "stream",
     "text": [
      "mevd_quant:: ERROR - fsolve does not work -  change x0\n",
      "mevd_quant:: ERROR - fsolve does not work -  change x0\n",
      "mevd_quant:: ERROR - fsolve does not work -  change x0\n",
      "mevd_quant:: ERROR - fsolve does not work -  change x0\n",
      "mevd_quant:: ERROR - fsolve does not work -  change x0\n",
      "mevd_quant:: ERROR - fsolve does not work -  change x0\n",
      "mevd_quant:: ERROR - fsolve does not work -  change x0\n",
      "mevd_quant:: ERROR - fsolve does not work -  change x0\n",
      "mevd_quant:: ERROR - fsolve does not work -  change x0\n",
      "mevd_quant:: ERROR - fsolve does not work -  change x0\n",
      "mevd_quant:: ERROR - fsolve does not work -  change x0\n",
      "mevd_quant:: ERROR - fsolve does not work -  change x0\n",
      "mevd_quant:: ERROR - fsolve does not work -  change x0\n",
      "mevd_quant:: ERROR - fsolve does not work -  change x0\n",
      "mevd_quant:: ERROR - fsolve does not work -  change x0\n",
      "mevd_quant:: ERROR - fsolve does not work -  change x0\n",
      "mevd_quant:: ERROR - fsolve does not work -  change x0\n",
      "mevd_quant:: ERROR - fsolve does not work -  change x0\n",
      "mevd_quant:: ERROR - fsolve does not work -  change x0\n",
      "mevd_quant:: ERROR - fsolve does not work -  change x0\n",
      "mevd_quant:: ERROR - fsolve does not work -  change x0\n",
      "mevd_quant:: ERROR - fsolve does not work -  change x0\n",
      "mevd_quant:: ERROR - fsolve does not work -  change x0\n",
      "mevd_quant:: ERROR - fsolve does not work -  change x0\n"
     ]
    },
    {
     "name": "stderr",
     "output_type": "stream",
     "text": [
      "/home/arturo/github/downpy/codes/downscale.py:1248: RuntimeWarning: invalid value encountered in power\n",
      "  mev0f = np.sum( ( 1-np.exp(-(y/C)**W ))**N) - nyears*pr\n",
      "/home/arturo/github/downpy/codes/downscale.py:1248: RuntimeWarning: invalid value encountered in power\n",
      "  mev0f = np.sum( ( 1-np.exp(-(y/C)**W ))**N) - nyears*pr\n",
      "/home/arturo/github/downpy/codes/downscale.py:1248: RuntimeWarning: invalid value encountered in power\n",
      "  mev0f = np.sum( ( 1-np.exp(-(y/C)**W ))**N) - nyears*pr\n",
      "/home/arturo/github/downpy/codes/downscale.py:1248: RuntimeWarning: invalid value encountered in power\n",
      "  mev0f = np.sum( ( 1-np.exp(-(y/C)**W ))**N) - nyears*pr\n",
      "/home/arturo/github/downpy/codes/downscale.py:1248: RuntimeWarning: invalid value encountered in power\n",
      "  mev0f = np.sum( ( 1-np.exp(-(y/C)**W ))**N) - nyears*pr\n"
     ]
    },
    {
     "name": "stdout",
     "output_type": "stream",
     "text": [
      "mevd_quant:: ERROR - fsolve does not work -  change x0\n",
      "mevd_quant:: ERROR - fsolve does not work -  change x0\n",
      "mevd_quant:: ERROR - fsolve does not work -  change x0\n",
      "mevd_quant:: ERROR - fsolve does not work -  change x0\n",
      "mevd_quant:: ERROR - fsolve does not work -  change x0\n",
      "mevd_quant:: ERROR - fsolve does not work -  change x0\n",
      "mevd_quant:: ERROR - fsolve does not work -  change x0\n",
      "mevd_quant:: ERROR - fsolve does not work -  change x0\n"
     ]
    },
    {
     "name": "stderr",
     "output_type": "stream",
     "text": [
      "/home/arturo/github/downpy/codes/downscale.py:1248: RuntimeWarning: invalid value encountered in power\n",
      "  mev0f = np.sum( ( 1-np.exp(-(y/C)**W ))**N) - nyears*pr\n",
      "/home/arturo/github/downpy/codes/downscale.py:1248: RuntimeWarning: invalid value encountered in power\n",
      "  mev0f = np.sum( ( 1-np.exp(-(y/C)**W ))**N) - nyears*pr\n"
     ]
    },
    {
     "name": "stdout",
     "output_type": "stream",
     "text": [
      "mevd_quant:: ERROR - fsolve does not work -  change x0\n",
      "mevd_quant:: ERROR - fsolve does not work -  change x0\n",
      "mevd_quant:: ERROR - fsolve does not work -  change x0\n",
      "mevd_quant:: ERROR - fsolve does not work -  change x0\n",
      "52\n"
     ]
    },
    {
     "name": "stderr",
     "output_type": "stream",
     "text": [
      "/home/arturo/github/downpy/codes/downscale.py:1248: RuntimeWarning: invalid value encountered in power\n",
      "  mev0f = np.sum( ( 1-np.exp(-(y/C)**W ))**N) - nyears*pr\n",
      "/home/arturo/github/downpy/codes/downscale.py:1248: RuntimeWarning: invalid value encountered in power\n",
      "  mev0f = np.sum( ( 1-np.exp(-(y/C)**W ))**N) - nyears*pr\n",
      "/home/arturo/github/downpy/codes/downscale.py:1248: RuntimeWarning: invalid value encountered in power\n",
      "  mev0f = np.sum( ( 1-np.exp(-(y/C)**W ))**N) - nyears*pr\n",
      "/home/arturo/github/downpy/codes/downscale.py:1248: RuntimeWarning: invalid value encountered in power\n",
      "  mev0f = np.sum( ( 1-np.exp(-(y/C)**W ))**N) - nyears*pr\n",
      "/home/arturo/github/downpy/codes/downscale.py:1248: RuntimeWarning: invalid value encountered in power\n",
      "  mev0f = np.sum( ( 1-np.exp(-(y/C)**W ))**N) - nyears*pr\n",
      "/home/arturo/github/downpy/codes/downscale.py:1248: RuntimeWarning: invalid value encountered in power\n",
      "  mev0f = np.sum( ( 1-np.exp(-(y/C)**W ))**N) - nyears*pr\n",
      "/home/arturo/github/downpy/codes/downscale.py:1248: RuntimeWarning: invalid value encountered in power\n",
      "  mev0f = np.sum( ( 1-np.exp(-(y/C)**W ))**N) - nyears*pr\n"
     ]
    },
    {
     "name": "stdout",
     "output_type": "stream",
     "text": [
      "mevd_quant:: ERROR - fsolve does not work -  change x0\n",
      "mevd_quant:: ERROR - fsolve does not work -  change x0\n",
      "mevd_quant:: ERROR - fsolve does not work -  change x0\n",
      "mevd_quant:: ERROR - fsolve does not work -  change x0\n",
      "mevd_quant:: ERROR - fsolve does not work -  change x0\n",
      "mevd_quant:: ERROR - fsolve does not work -  change x0\n",
      "mevd_quant:: ERROR - fsolve does not work -  change x0\n",
      "mevd_quant:: ERROR - fsolve does not work -  change x0\n",
      "mevd_quant:: ERROR - fsolve does not work -  change x0\n",
      "mevd_quant:: ERROR - fsolve does not work -  change x0\n",
      "mevd_quant:: ERROR - fsolve does not work -  change x0\n",
      "mevd_quant:: ERROR - fsolve does not work -  change x0\n",
      "mevd_quant:: ERROR - fsolve does not work -  change x0\n",
      "mevd_quant:: ERROR - fsolve does not work -  change x0\n"
     ]
    },
    {
     "name": "stderr",
     "output_type": "stream",
     "text": [
      "/home/arturo/github/downpy/codes/downscale.py:1248: RuntimeWarning: invalid value encountered in power\n",
      "  mev0f = np.sum( ( 1-np.exp(-(y/C)**W ))**N) - nyears*pr\n",
      "/home/arturo/github/downpy/codes/downscale.py:1248: RuntimeWarning: invalid value encountered in power\n",
      "  mev0f = np.sum( ( 1-np.exp(-(y/C)**W ))**N) - nyears*pr\n",
      "/home/arturo/github/downpy/codes/downscale.py:1248: RuntimeWarning: invalid value encountered in power\n",
      "  mev0f = np.sum( ( 1-np.exp(-(y/C)**W ))**N) - nyears*pr\n",
      "/home/arturo/github/downpy/codes/downscale.py:1248: RuntimeWarning: invalid value encountered in power\n",
      "  mev0f = np.sum( ( 1-np.exp(-(y/C)**W ))**N) - nyears*pr\n"
     ]
    },
    {
     "name": "stdout",
     "output_type": "stream",
     "text": [
      "mevd_quant:: ERROR - fsolve does not work -  change x0\n",
      "mevd_quant:: ERROR - fsolve does not work -  change x0\n",
      "mevd_quant:: ERROR - fsolve does not work -  change x0\n",
      "mevd_quant:: ERROR - fsolve does not work -  change x0\n",
      "mevd_quant:: ERROR - fsolve does not work -  change x0\n",
      "mevd_quant:: ERROR - fsolve does not work -  change x0\n",
      "mevd_quant:: ERROR - fsolve does not work -  change x0\n",
      "mevd_quant:: ERROR - fsolve does not work -  change x0\n",
      "mevd_quant:: ERROR - fsolve does not work -  change x0\n",
      "mevd_quant:: ERROR - fsolve does not work -  change x0\n",
      "mevd_quant:: ERROR - fsolve does not work -  change x0\n"
     ]
    },
    {
     "name": "stderr",
     "output_type": "stream",
     "text": [
      "/home/arturo/github/downpy/codes/downscale.py:1248: RuntimeWarning: invalid value encountered in power\n",
      "  mev0f = np.sum( ( 1-np.exp(-(y/C)**W ))**N) - nyears*pr\n",
      "/home/arturo/github/downpy/codes/downscale.py:1248: RuntimeWarning: invalid value encountered in power\n",
      "  mev0f = np.sum( ( 1-np.exp(-(y/C)**W ))**N) - nyears*pr\n",
      "/home/arturo/github/downpy/codes/downscale.py:1248: RuntimeWarning: invalid value encountered in power\n",
      "  mev0f = np.sum( ( 1-np.exp(-(y/C)**W ))**N) - nyears*pr\n",
      "/home/arturo/github/downpy/codes/downscale.py:1248: RuntimeWarning: invalid value encountered in power\n",
      "  mev0f = np.sum( ( 1-np.exp(-(y/C)**W ))**N) - nyears*pr\n",
      "/home/arturo/github/downpy/codes/downscale.py:1248: RuntimeWarning: invalid value encountered in power\n",
      "  mev0f = np.sum( ( 1-np.exp(-(y/C)**W ))**N) - nyears*pr\n",
      "/home/arturo/github/downpy/codes/downscale.py:1248: RuntimeWarning: invalid value encountered in power\n",
      "  mev0f = np.sum( ( 1-np.exp(-(y/C)**W ))**N) - nyears*pr\n",
      "/home/arturo/github/downpy/codes/downscale.py:1248: RuntimeWarning: invalid value encountered in power\n",
      "  mev0f = np.sum( ( 1-np.exp(-(y/C)**W ))**N) - nyears*pr\n",
      "/home/arturo/github/downpy/codes/downscale.py:1248: RuntimeWarning: invalid value encountered in power\n",
      "  mev0f = np.sum( ( 1-np.exp(-(y/C)**W ))**N) - nyears*pr\n"
     ]
    },
    {
     "name": "stdout",
     "output_type": "stream",
     "text": [
      "mevd_quant:: ERROR - fsolve does not work -  change x0\n",
      "mevd_quant:: ERROR - fsolve does not work -  change x0\n",
      "mevd_quant:: ERROR - fsolve does not work -  change x0\n",
      "mevd_quant:: ERROR - fsolve does not work -  change x0\n",
      "mevd_quant:: ERROR - fsolve does not work -  change x0\n",
      "mevd_quant:: ERROR - fsolve does not work -  change x0\n",
      "mevd_quant:: ERROR - fsolve does not work -  change x0\n",
      "mevd_quant:: ERROR - fsolve does not work -  change x0\n",
      "mevd_quant:: ERROR - fsolve does not work -  change x0\n",
      "mevd_quant:: ERROR - fsolve does not work -  change x0\n",
      "mevd_quant:: ERROR - fsolve does not work -  change x0\n",
      "mevd_quant:: ERROR - fsolve does not work -  change x0\n",
      "mevd_quant:: ERROR - fsolve does not work -  change x0\n",
      "mevd_quant:: ERROR - fsolve does not work -  change x0\n",
      "mevd_quant:: ERROR - fsolve does not work -  change x0\n",
      "mevd_quant:: ERROR - fsolve does not work -  change x0\n",
      "mevd_quant:: ERROR - fsolve does not work -  change x0\n",
      "mevd_quant:: ERROR - fsolve does not work -  change x0\n",
      "mevd_quant:: ERROR - fsolve does not work -  change x0\n",
      "mevd_quant:: ERROR - fsolve does not work -  change x0\n",
      "mevd_quant:: ERROR - fsolve does not work -  change x0\n",
      "mevd_quant:: ERROR - fsolve does not work -  change x0\n",
      "mevd_quant:: ERROR - fsolve does not work -  change x0\n",
      "mevd_quant:: ERROR - fsolve does not work -  change x0\n"
     ]
    },
    {
     "name": "stderr",
     "output_type": "stream",
     "text": [
      "/home/arturo/github/downpy/codes/downscale.py:1248: RuntimeWarning: invalid value encountered in power\n",
      "  mev0f = np.sum( ( 1-np.exp(-(y/C)**W ))**N) - nyears*pr\n",
      "/home/arturo/github/downpy/codes/downscale.py:1248: RuntimeWarning: invalid value encountered in power\n",
      "  mev0f = np.sum( ( 1-np.exp(-(y/C)**W ))**N) - nyears*pr\n",
      "/home/arturo/github/downpy/codes/downscale.py:1248: RuntimeWarning: invalid value encountered in power\n",
      "  mev0f = np.sum( ( 1-np.exp(-(y/C)**W ))**N) - nyears*pr\n"
     ]
    },
    {
     "name": "stdout",
     "output_type": "stream",
     "text": [
      "mevd_quant:: ERROR - fsolve does not work -  change x0\n",
      "mevd_quant:: ERROR - fsolve does not work -  change x0\n",
      "mevd_quant:: ERROR - fsolve does not work -  change x0\n",
      "mevd_quant:: ERROR - fsolve does not work -  change x0\n",
      "mevd_quant:: ERROR - fsolve does not work -  change x0\n",
      "mevd_quant:: ERROR - fsolve does not work -  change x0\n",
      "mevd_quant:: ERROR - fsolve does not work -  change x0\n",
      "mevd_quant:: ERROR - fsolve does not work -  change x0\n",
      "mevd_quant:: ERROR - fsolve does not work -  change x0\n"
     ]
    },
    {
     "name": "stderr",
     "output_type": "stream",
     "text": [
      "/home/arturo/github/downpy/codes/downscale.py:1248: RuntimeWarning: invalid value encountered in power\n",
      "  mev0f = np.sum( ( 1-np.exp(-(y/C)**W ))**N) - nyears*pr\n",
      "/home/arturo/github/downpy/codes/downscale.py:1248: RuntimeWarning: invalid value encountered in power\n",
      "  mev0f = np.sum( ( 1-np.exp(-(y/C)**W ))**N) - nyears*pr\n"
     ]
    },
    {
     "name": "stdout",
     "output_type": "stream",
     "text": [
      "mevd_quant:: ERROR - fsolve does not work -  change x0\n",
      "mevd_quant:: ERROR - fsolve does not work -  change x0\n",
      "53\n",
      "mevd_quant:: ERROR - fsolve does not work -  change x0\n",
      "mevd_quant:: ERROR - fsolve does not work -  change x0\n",
      "mevd_quant:: ERROR - fsolve does not work -  change x0\n",
      "mevd_quant:: ERROR - fsolve does not work -  change x0\n",
      "mevd_quant:: ERROR - fsolve does not work -  change x0\n",
      "mevd_quant:: ERROR - fsolve does not work -  change x0\n",
      "mevd_quant:: ERROR - fsolve does not work -  change x0\n",
      "mevd_quant:: ERROR - fsolve does not work -  change x0\n",
      "mevd_quant:: ERROR - fsolve does not work -  change x0\n",
      "mevd_quant:: ERROR - fsolve does not work -  change x0\n"
     ]
    },
    {
     "name": "stderr",
     "output_type": "stream",
     "text": [
      "/home/arturo/github/downpy/codes/downscale.py:1248: RuntimeWarning: invalid value encountered in power\n",
      "  mev0f = np.sum( ( 1-np.exp(-(y/C)**W ))**N) - nyears*pr\n",
      "/home/arturo/github/downpy/codes/downscale.py:1248: RuntimeWarning: invalid value encountered in power\n",
      "  mev0f = np.sum( ( 1-np.exp(-(y/C)**W ))**N) - nyears*pr\n",
      "/home/arturo/github/downpy/codes/downscale.py:1248: RuntimeWarning: invalid value encountered in power\n",
      "  mev0f = np.sum( ( 1-np.exp(-(y/C)**W ))**N) - nyears*pr\n",
      "/home/arturo/github/downpy/codes/downscale.py:1248: RuntimeWarning: invalid value encountered in power\n",
      "  mev0f = np.sum( ( 1-np.exp(-(y/C)**W ))**N) - nyears*pr\n",
      "/home/arturo/github/downpy/codes/downscale.py:1248: RuntimeWarning: invalid value encountered in power\n",
      "  mev0f = np.sum( ( 1-np.exp(-(y/C)**W ))**N) - nyears*pr\n",
      "/home/arturo/github/downpy/codes/downscale.py:1248: RuntimeWarning: invalid value encountered in power\n",
      "  mev0f = np.sum( ( 1-np.exp(-(y/C)**W ))**N) - nyears*pr\n"
     ]
    },
    {
     "name": "stdout",
     "output_type": "stream",
     "text": [
      "mevd_quant:: ERROR - fsolve does not work -  change x0\n",
      "mevd_quant:: ERROR - fsolve does not work -  change x0\n",
      "mevd_quant:: ERROR - fsolve does not work -  change x0\n",
      "mevd_quant:: ERROR - fsolve does not work -  change x0\n",
      "mevd_quant:: ERROR - fsolve does not work -  change x0\n",
      "mevd_quant:: ERROR - fsolve does not work -  change x0\n"
     ]
    },
    {
     "name": "stderr",
     "output_type": "stream",
     "text": [
      "/home/arturo/github/downpy/codes/downscale.py:1248: RuntimeWarning: invalid value encountered in power\n",
      "  mev0f = np.sum( ( 1-np.exp(-(y/C)**W ))**N) - nyears*pr\n",
      "/home/arturo/github/downpy/codes/downscale.py:1248: RuntimeWarning: invalid value encountered in power\n",
      "  mev0f = np.sum( ( 1-np.exp(-(y/C)**W ))**N) - nyears*pr\n",
      "/home/arturo/github/downpy/codes/downscale.py:1248: RuntimeWarning: invalid value encountered in power\n",
      "  mev0f = np.sum( ( 1-np.exp(-(y/C)**W ))**N) - nyears*pr\n",
      "/home/arturo/github/downpy/codes/downscale.py:1248: RuntimeWarning: invalid value encountered in power\n",
      "  mev0f = np.sum( ( 1-np.exp(-(y/C)**W ))**N) - nyears*pr\n",
      "/home/arturo/github/downpy/codes/downscale.py:1248: RuntimeWarning: invalid value encountered in power\n",
      "  mev0f = np.sum( ( 1-np.exp(-(y/C)**W ))**N) - nyears*pr\n",
      "/home/arturo/github/downpy/codes/downscale.py:1248: RuntimeWarning: invalid value encountered in power\n",
      "  mev0f = np.sum( ( 1-np.exp(-(y/C)**W ))**N) - nyears*pr\n"
     ]
    },
    {
     "name": "stdout",
     "output_type": "stream",
     "text": [
      "mevd_quant:: ERROR - fsolve does not work -  change x0\n",
      "mevd_quant:: ERROR - fsolve does not work -  change x0\n",
      "mevd_quant:: ERROR - fsolve does not work -  change x0\n",
      "mevd_quant:: ERROR - fsolve does not work -  change x0\n",
      "mevd_quant:: ERROR - fsolve does not work -  change x0\n",
      "mevd_quant:: ERROR - fsolve does not work -  change x0\n",
      "mevd_quant:: ERROR - fsolve does not work -  change x0\n",
      "mevd_quant:: ERROR - fsolve does not work -  change x0\n",
      "mevd_quant:: ERROR - fsolve does not work -  change x0\n",
      "mevd_quant:: ERROR - fsolve does not work -  change x0\n",
      "mevd_quant:: ERROR - fsolve does not work -  change x0\n",
      "mevd_quant:: ERROR - fsolve does not work -  change x0\n",
      "mevd_quant:: ERROR - fsolve does not work -  change x0\n",
      "mevd_quant:: ERROR - fsolve does not work -  change x0\n",
      "mevd_quant:: ERROR - fsolve does not work -  change x0\n",
      "mevd_quant:: ERROR - fsolve does not work -  change x0\n",
      "mevd_quant:: ERROR - fsolve does not work -  change x0\n"
     ]
    },
    {
     "name": "stderr",
     "output_type": "stream",
     "text": [
      "/home/arturo/github/downpy/codes/downscale.py:1248: RuntimeWarning: invalid value encountered in power\n",
      "  mev0f = np.sum( ( 1-np.exp(-(y/C)**W ))**N) - nyears*pr\n",
      "/home/arturo/github/downpy/codes/downscale.py:1248: RuntimeWarning: invalid value encountered in power\n",
      "  mev0f = np.sum( ( 1-np.exp(-(y/C)**W ))**N) - nyears*pr\n",
      "/home/arturo/github/downpy/codes/downscale.py:1248: RuntimeWarning: invalid value encountered in power\n",
      "  mev0f = np.sum( ( 1-np.exp(-(y/C)**W ))**N) - nyears*pr\n",
      "/home/arturo/github/downpy/codes/downscale.py:1248: RuntimeWarning: invalid value encountered in power\n",
      "  mev0f = np.sum( ( 1-np.exp(-(y/C)**W ))**N) - nyears*pr\n",
      "/home/arturo/github/downpy/codes/downscale.py:1248: RuntimeWarning: invalid value encountered in power\n",
      "  mev0f = np.sum( ( 1-np.exp(-(y/C)**W ))**N) - nyears*pr\n",
      "/home/arturo/github/downpy/codes/downscale.py:1248: RuntimeWarning: invalid value encountered in power\n",
      "  mev0f = np.sum( ( 1-np.exp(-(y/C)**W ))**N) - nyears*pr\n",
      "/home/arturo/github/downpy/codes/downscale.py:1248: RuntimeWarning: invalid value encountered in power\n",
      "  mev0f = np.sum( ( 1-np.exp(-(y/C)**W ))**N) - nyears*pr\n"
     ]
    },
    {
     "name": "stdout",
     "output_type": "stream",
     "text": [
      "mevd_quant:: ERROR - fsolve does not work -  change x0\n",
      "mevd_quant:: ERROR - fsolve does not work -  change x0\n",
      "mevd_quant:: ERROR - fsolve does not work -  change x0\n",
      "mevd_quant:: ERROR - fsolve does not work -  change x0\n",
      "mevd_quant:: ERROR - fsolve does not work -  change x0\n",
      "mevd_quant:: ERROR - fsolve does not work -  change x0\n",
      "mevd_quant:: ERROR - fsolve does not work -  change x0\n",
      "mevd_quant:: ERROR - fsolve does not work -  change x0\n",
      "mevd_quant:: ERROR - fsolve does not work -  change x0\n",
      "mevd_quant:: ERROR - fsolve does not work -  change x0\n",
      "mevd_quant:: ERROR - fsolve does not work -  change x0\n",
      "mevd_quant:: ERROR - fsolve does not work -  change x0\n",
      "mevd_quant:: ERROR - fsolve does not work -  change x0\n",
      "mevd_quant:: ERROR - fsolve does not work -  change x0\n",
      "mevd_quant:: ERROR - fsolve does not work -  change x0\n",
      "mevd_quant:: ERROR - fsolve does not work -  change x0\n"
     ]
    },
    {
     "name": "stderr",
     "output_type": "stream",
     "text": [
      "/home/arturo/github/downpy/codes/downscale.py:1248: RuntimeWarning: invalid value encountered in power\n",
      "  mev0f = np.sum( ( 1-np.exp(-(y/C)**W ))**N) - nyears*pr\n",
      "/home/arturo/github/downpy/codes/downscale.py:1248: RuntimeWarning: invalid value encountered in power\n",
      "  mev0f = np.sum( ( 1-np.exp(-(y/C)**W ))**N) - nyears*pr\n",
      "/home/arturo/github/downpy/codes/downscale.py:1248: RuntimeWarning: invalid value encountered in power\n",
      "  mev0f = np.sum( ( 1-np.exp(-(y/C)**W ))**N) - nyears*pr\n",
      "/home/arturo/github/downpy/codes/downscale.py:1248: RuntimeWarning: invalid value encountered in power\n",
      "  mev0f = np.sum( ( 1-np.exp(-(y/C)**W ))**N) - nyears*pr\n",
      "/home/arturo/github/downpy/codes/downscale.py:1248: RuntimeWarning: invalid value encountered in power\n",
      "  mev0f = np.sum( ( 1-np.exp(-(y/C)**W ))**N) - nyears*pr\n"
     ]
    },
    {
     "name": "stdout",
     "output_type": "stream",
     "text": [
      "mevd_quant:: ERROR - fsolve does not work -  change x0\n",
      "mevd_quant:: ERROR - fsolve does not work -  change x0\n",
      "mevd_quant:: ERROR - fsolve does not work -  change x0\n",
      "mevd_quant:: ERROR - fsolve does not work -  change x0\n",
      "mevd_quant:: ERROR - fsolve does not work -  change x0\n",
      "mevd_quant:: ERROR - fsolve does not work -  change x0\n",
      "mevd_quant:: ERROR - fsolve does not work -  change x0\n",
      "mevd_quant:: ERROR - fsolve does not work -  change x0\n",
      "mevd_quant:: ERROR - fsolve does not work -  change x0\n",
      "mevd_quant:: ERROR - fsolve does not work -  change x0\n",
      "mevd_quant:: ERROR - fsolve does not work -  change x0\n",
      "mevd_quant:: ERROR - fsolve does not work -  change x0\n",
      "mevd_quant:: ERROR - fsolve does not work -  change x0\n",
      "mevd_quant:: ERROR - fsolve does not work -  change x0\n",
      "mevd_quant:: ERROR - fsolve does not work -  change x0\n"
     ]
    },
    {
     "name": "stderr",
     "output_type": "stream",
     "text": [
      "/home/arturo/github/downpy/codes/downscale.py:1248: RuntimeWarning: invalid value encountered in power\n",
      "  mev0f = np.sum( ( 1-np.exp(-(y/C)**W ))**N) - nyears*pr\n",
      "/home/arturo/github/downpy/codes/downscale.py:1248: RuntimeWarning: invalid value encountered in power\n",
      "  mev0f = np.sum( ( 1-np.exp(-(y/C)**W ))**N) - nyears*pr\n"
     ]
    },
    {
     "name": "stdout",
     "output_type": "stream",
     "text": [
      "mevd_quant:: ERROR - fsolve does not work -  change x0\n",
      "mevd_quant:: ERROR - fsolve does not work -  change x0\n",
      "mevd_quant:: ERROR - fsolve does not work -  change x0\n",
      "54\n",
      "mevd_quant:: ERROR - fsolve does not work -  change x0\n",
      "mevd_quant:: ERROR - fsolve does not work -  change x0\n",
      "mevd_quant:: ERROR - fsolve does not work -  change x0\n",
      "mevd_quant:: ERROR - fsolve does not work -  change x0\n"
     ]
    },
    {
     "name": "stderr",
     "output_type": "stream",
     "text": [
      "/home/arturo/github/downpy/codes/downscale.py:1248: RuntimeWarning: invalid value encountered in power\n",
      "  mev0f = np.sum( ( 1-np.exp(-(y/C)**W ))**N) - nyears*pr\n",
      "/home/arturo/github/downpy/codes/downscale.py:1248: RuntimeWarning: invalid value encountered in power\n",
      "  mev0f = np.sum( ( 1-np.exp(-(y/C)**W ))**N) - nyears*pr\n",
      "/home/arturo/github/downpy/codes/downscale.py:1248: RuntimeWarning: invalid value encountered in power\n",
      "  mev0f = np.sum( ( 1-np.exp(-(y/C)**W ))**N) - nyears*pr\n",
      "/home/arturo/github/downpy/codes/downscale.py:1248: RuntimeWarning: invalid value encountered in power\n",
      "  mev0f = np.sum( ( 1-np.exp(-(y/C)**W ))**N) - nyears*pr\n"
     ]
    },
    {
     "name": "stdout",
     "output_type": "stream",
     "text": [
      "mevd_quant:: ERROR - fsolve does not work -  change x0\n"
     ]
    },
    {
     "name": "stderr",
     "output_type": "stream",
     "text": [
      "/home/arturo/github/downpy/codes/downscale.py:1248: RuntimeWarning: invalid value encountered in power\n",
      "  mev0f = np.sum( ( 1-np.exp(-(y/C)**W ))**N) - nyears*pr\n",
      "/home/arturo/github/downpy/codes/downscale.py:1248: RuntimeWarning: invalid value encountered in power\n",
      "  mev0f = np.sum( ( 1-np.exp(-(y/C)**W ))**N) - nyears*pr\n",
      "/home/arturo/github/downpy/codes/downscale.py:1248: RuntimeWarning: invalid value encountered in power\n",
      "  mev0f = np.sum( ( 1-np.exp(-(y/C)**W ))**N) - nyears*pr\n",
      "/home/arturo/github/downpy/codes/downscale.py:1248: RuntimeWarning: invalid value encountered in power\n",
      "  mev0f = np.sum( ( 1-np.exp(-(y/C)**W ))**N) - nyears*pr\n",
      "/home/arturo/github/downpy/codes/downscale.py:1248: RuntimeWarning: invalid value encountered in power\n",
      "  mev0f = np.sum( ( 1-np.exp(-(y/C)**W ))**N) - nyears*pr\n",
      "/home/arturo/github/downpy/codes/downscale.py:1248: RuntimeWarning: invalid value encountered in power\n",
      "  mev0f = np.sum( ( 1-np.exp(-(y/C)**W ))**N) - nyears*pr\n",
      "/home/arturo/github/downpy/codes/downscale.py:1248: RuntimeWarning: invalid value encountered in power\n",
      "  mev0f = np.sum( ( 1-np.exp(-(y/C)**W ))**N) - nyears*pr\n",
      "/home/arturo/github/downpy/codes/downscale.py:1248: RuntimeWarning: invalid value encountered in power\n",
      "  mev0f = np.sum( ( 1-np.exp(-(y/C)**W ))**N) - nyears*pr\n"
     ]
    },
    {
     "name": "stdout",
     "output_type": "stream",
     "text": [
      "mevd_quant:: ERROR - fsolve does not work -  change x0\n",
      "mevd_quant:: ERROR - fsolve does not work -  change x0\n",
      "mevd_quant:: ERROR - fsolve does not work -  change x0\n",
      "mevd_quant:: ERROR - fsolve does not work -  change x0\n",
      "mevd_quant:: ERROR - fsolve does not work -  change x0\n",
      "mevd_quant:: ERROR - fsolve does not work -  change x0\n",
      "mevd_quant:: ERROR - fsolve does not work -  change x0\n",
      "mevd_quant:: ERROR - fsolve does not work -  change x0\n",
      "mevd_quant:: ERROR - fsolve does not work -  change x0\n",
      "mevd_quant:: ERROR - fsolve does not work -  change x0\n",
      "mevd_quant:: ERROR - fsolve does not work -  change x0\n",
      "mevd_quant:: ERROR - fsolve does not work -  change x0\n",
      "mevd_quant:: ERROR - fsolve does not work -  change x0\n",
      "mevd_quant:: ERROR - fsolve does not work -  change x0\n",
      "mevd_quant:: ERROR - fsolve does not work -  change x0\n",
      "mevd_quant:: ERROR - fsolve does not work -  change x0\n",
      "mevd_quant:: ERROR - fsolve does not work -  change x0\n",
      "mevd_quant:: ERROR - fsolve does not work -  change x0\n",
      "mevd_quant:: ERROR - fsolve does not work -  change x0\n",
      "mevd_quant:: ERROR - fsolve does not work -  change x0\n",
      "mevd_quant:: ERROR - fsolve does not work -  change x0\n",
      "mevd_quant:: ERROR - fsolve does not work -  change x0\n",
      "mevd_quant:: ERROR - fsolve does not work -  change x0\n",
      "mevd_quant:: ERROR - fsolve does not work -  change x0\n",
      "mevd_quant:: ERROR - fsolve does not work -  change x0\n"
     ]
    },
    {
     "name": "stderr",
     "output_type": "stream",
     "text": [
      "/home/arturo/github/downpy/codes/downscale.py:1248: RuntimeWarning: invalid value encountered in power\n",
      "  mev0f = np.sum( ( 1-np.exp(-(y/C)**W ))**N) - nyears*pr\n",
      "/home/arturo/github/downpy/codes/downscale.py:1248: RuntimeWarning: invalid value encountered in power\n",
      "  mev0f = np.sum( ( 1-np.exp(-(y/C)**W ))**N) - nyears*pr\n",
      "/home/arturo/github/downpy/codes/downscale.py:1248: RuntimeWarning: invalid value encountered in power\n",
      "  mev0f = np.sum( ( 1-np.exp(-(y/C)**W ))**N) - nyears*pr\n",
      "/home/arturo/github/downpy/codes/downscale.py:1248: RuntimeWarning: invalid value encountered in power\n",
      "  mev0f = np.sum( ( 1-np.exp(-(y/C)**W ))**N) - nyears*pr\n",
      "/home/arturo/github/downpy/codes/downscale.py:1248: RuntimeWarning: invalid value encountered in power\n",
      "  mev0f = np.sum( ( 1-np.exp(-(y/C)**W ))**N) - nyears*pr\n",
      "/home/arturo/github/downpy/codes/downscale.py:1248: RuntimeWarning: invalid value encountered in power\n",
      "  mev0f = np.sum( ( 1-np.exp(-(y/C)**W ))**N) - nyears*pr\n"
     ]
    },
    {
     "name": "stdout",
     "output_type": "stream",
     "text": [
      "mevd_quant:: ERROR - fsolve does not work -  change x0\n",
      "mevd_quant:: ERROR - fsolve does not work -  change x0\n",
      "mevd_quant:: ERROR - fsolve does not work -  change x0\n",
      "mevd_quant:: ERROR - fsolve does not work -  change x0\n",
      "mevd_quant:: ERROR - fsolve does not work -  change x0\n",
      "mevd_quant:: ERROR - fsolve does not work -  change x0\n",
      "mevd_quant:: ERROR - fsolve does not work -  change x0\n",
      "mevd_quant:: ERROR - fsolve does not work -  change x0\n",
      "mevd_quant:: ERROR - fsolve does not work -  change x0\n",
      "mevd_quant:: ERROR - fsolve does not work -  change x0\n",
      "mevd_quant:: ERROR - fsolve does not work -  change x0\n",
      "mevd_quant:: ERROR - fsolve does not work -  change x0\n",
      "mevd_quant:: ERROR - fsolve does not work -  change x0\n",
      "mevd_quant:: ERROR - fsolve does not work -  change x0\n",
      "mevd_quant:: ERROR - fsolve does not work -  change x0\n",
      "mevd_quant:: ERROR - fsolve does not work -  change x0\n",
      "mevd_quant:: ERROR - fsolve does not work -  change x0\n",
      "mevd_quant:: ERROR - fsolve does not work -  change x0\n",
      "mevd_quant:: ERROR - fsolve does not work -  change x0\n",
      "mevd_quant:: ERROR - fsolve does not work -  change x0\n",
      "mevd_quant:: ERROR - fsolve does not work -  change x0\n",
      "mevd_quant:: ERROR - fsolve does not work -  change x0\n",
      "mevd_quant:: ERROR - fsolve does not work -  change x0\n"
     ]
    },
    {
     "name": "stderr",
     "output_type": "stream",
     "text": [
      "/home/arturo/github/downpy/codes/downscale.py:1248: RuntimeWarning: invalid value encountered in power\n",
      "  mev0f = np.sum( ( 1-np.exp(-(y/C)**W ))**N) - nyears*pr\n",
      "/home/arturo/github/downpy/codes/downscale.py:1248: RuntimeWarning: invalid value encountered in power\n",
      "  mev0f = np.sum( ( 1-np.exp(-(y/C)**W ))**N) - nyears*pr\n",
      "/home/arturo/github/downpy/codes/downscale.py:1248: RuntimeWarning: invalid value encountered in power\n",
      "  mev0f = np.sum( ( 1-np.exp(-(y/C)**W ))**N) - nyears*pr\n",
      "/home/arturo/github/downpy/codes/downscale.py:1248: RuntimeWarning: invalid value encountered in power\n",
      "  mev0f = np.sum( ( 1-np.exp(-(y/C)**W ))**N) - nyears*pr\n",
      "/home/arturo/github/downpy/codes/downscale.py:1248: RuntimeWarning: invalid value encountered in power\n",
      "  mev0f = np.sum( ( 1-np.exp(-(y/C)**W ))**N) - nyears*pr\n",
      "/home/arturo/github/downpy/codes/downscale.py:1248: RuntimeWarning: invalid value encountered in power\n",
      "  mev0f = np.sum( ( 1-np.exp(-(y/C)**W ))**N) - nyears*pr\n"
     ]
    },
    {
     "name": "stdout",
     "output_type": "stream",
     "text": [
      "mevd_quant:: ERROR - fsolve does not work -  change x0\n",
      "mevd_quant:: ERROR - fsolve does not work -  change x0\n",
      "mevd_quant:: ERROR - fsolve does not work -  change x0\n",
      "mevd_quant:: ERROR - fsolve does not work -  change x0\n",
      "mevd_quant:: ERROR - fsolve does not work -  change x0\n",
      "mevd_quant:: ERROR - fsolve does not work -  change x0\n",
      "mevd_quant:: ERROR - fsolve does not work -  change x0\n",
      "mevd_quant:: ERROR - fsolve does not work -  change x0\n",
      "mevd_quant:: ERROR - fsolve does not work -  change x0\n",
      "mevd_quant:: ERROR - fsolve does not work -  change x0\n",
      "mevd_quant:: ERROR - fsolve does not work -  change x0\n",
      "mevd_quant:: ERROR - fsolve does not work -  change x0\n",
      "mevd_quant:: ERROR - fsolve does not work -  change x0\n"
     ]
    },
    {
     "name": "stderr",
     "output_type": "stream",
     "text": [
      "/home/arturo/github/downpy/codes/downscale.py:1248: RuntimeWarning: invalid value encountered in power\n",
      "  mev0f = np.sum( ( 1-np.exp(-(y/C)**W ))**N) - nyears*pr\n",
      "/home/arturo/github/downpy/codes/downscale.py:1248: RuntimeWarning: invalid value encountered in power\n",
      "  mev0f = np.sum( ( 1-np.exp(-(y/C)**W ))**N) - nyears*pr\n",
      "/home/arturo/github/downpy/codes/downscale.py:1248: RuntimeWarning: invalid value encountered in power\n",
      "  mev0f = np.sum( ( 1-np.exp(-(y/C)**W ))**N) - nyears*pr\n"
     ]
    },
    {
     "name": "stdout",
     "output_type": "stream",
     "text": [
      "mevd_quant:: ERROR - fsolve does not work -  change x0\n",
      "mevd_quant:: ERROR - fsolve does not work -  change x0\n",
      "mevd_quant:: ERROR - fsolve does not work -  change x0\n",
      "mevd_quant:: ERROR - fsolve does not work -  change x0\n",
      "mevd_quant:: ERROR - fsolve does not work -  change x0\n",
      "55\n",
      "mevd_quant:: ERROR - fsolve does not work -  change x0\n",
      "mevd_quant:: ERROR - fsolve does not work -  change x0\n",
      "mevd_quant:: ERROR - fsolve does not work -  change x0\n",
      "mevd_quant:: ERROR - fsolve does not work -  change x0\n",
      "mevd_quant:: ERROR - fsolve does not work -  change x0\n",
      "mevd_quant:: ERROR - fsolve does not work -  change x0\n",
      "mevd_quant:: ERROR - fsolve does not work -  change x0\n"
     ]
    },
    {
     "name": "stderr",
     "output_type": "stream",
     "text": [
      "/home/arturo/github/downpy/codes/downscale.py:1248: RuntimeWarning: invalid value encountered in power\n",
      "  mev0f = np.sum( ( 1-np.exp(-(y/C)**W ))**N) - nyears*pr\n",
      "/home/arturo/github/downpy/codes/downscale.py:1248: RuntimeWarning: invalid value encountered in power\n",
      "  mev0f = np.sum( ( 1-np.exp(-(y/C)**W ))**N) - nyears*pr\n",
      "/home/arturo/github/downpy/codes/downscale.py:1248: RuntimeWarning: invalid value encountered in power\n",
      "  mev0f = np.sum( ( 1-np.exp(-(y/C)**W ))**N) - nyears*pr\n",
      "/home/arturo/github/downpy/codes/downscale.py:1248: RuntimeWarning: invalid value encountered in power\n",
      "  mev0f = np.sum( ( 1-np.exp(-(y/C)**W ))**N) - nyears*pr\n",
      "/home/arturo/github/downpy/codes/downscale.py:1248: RuntimeWarning: invalid value encountered in power\n",
      "  mev0f = np.sum( ( 1-np.exp(-(y/C)**W ))**N) - nyears*pr\n"
     ]
    },
    {
     "name": "stdout",
     "output_type": "stream",
     "text": [
      "mevd_quant:: ERROR - fsolve does not work -  change x0\n",
      "mevd_quant:: ERROR - fsolve does not work -  change x0\n",
      "mevd_quant:: ERROR - fsolve does not work -  change x0\n",
      "mevd_quant:: ERROR - fsolve does not work -  change x0\n",
      "mevd_quant:: ERROR - fsolve does not work -  change x0\n",
      "mevd_quant:: ERROR - fsolve does not work -  change x0\n",
      "mevd_quant:: ERROR - fsolve does not work -  change x0\n",
      "mevd_quant:: ERROR - fsolve does not work -  change x0\n",
      "mevd_quant:: ERROR - fsolve does not work -  change x0\n",
      "mevd_quant:: ERROR - fsolve does not work -  change x0\n",
      "mevd_quant:: ERROR - fsolve does not work -  change x0\n",
      "mevd_quant:: ERROR - fsolve does not work -  change x0\n",
      "mevd_quant:: ERROR - fsolve does not work -  change x0\n",
      "mevd_quant:: ERROR - fsolve does not work -  change x0\n",
      "mevd_quant:: ERROR - fsolve does not work -  change x0\n",
      "mevd_quant:: ERROR - fsolve does not work -  change x0\n",
      "mevd_quant:: ERROR - fsolve does not work -  change x0\n",
      "mevd_quant:: ERROR - fsolve does not work -  change x0\n",
      "mevd_quant:: ERROR - fsolve does not work -  change x0\n"
     ]
    },
    {
     "name": "stderr",
     "output_type": "stream",
     "text": [
      "/home/arturo/github/downpy/codes/downscale.py:1248: RuntimeWarning: invalid value encountered in power\n",
      "  mev0f = np.sum( ( 1-np.exp(-(y/C)**W ))**N) - nyears*pr\n",
      "/home/arturo/github/downpy/codes/downscale.py:1248: RuntimeWarning: invalid value encountered in power\n",
      "  mev0f = np.sum( ( 1-np.exp(-(y/C)**W ))**N) - nyears*pr\n",
      "/home/arturo/github/downpy/codes/downscale.py:1248: RuntimeWarning: invalid value encountered in power\n",
      "  mev0f = np.sum( ( 1-np.exp(-(y/C)**W ))**N) - nyears*pr\n",
      "/home/arturo/github/downpy/codes/downscale.py:1248: RuntimeWarning: invalid value encountered in power\n",
      "  mev0f = np.sum( ( 1-np.exp(-(y/C)**W ))**N) - nyears*pr\n",
      "/home/arturo/github/downpy/codes/downscale.py:1248: RuntimeWarning: invalid value encountered in power\n",
      "  mev0f = np.sum( ( 1-np.exp(-(y/C)**W ))**N) - nyears*pr\n",
      "/home/arturo/github/downpy/codes/downscale.py:1248: RuntimeWarning: invalid value encountered in power\n",
      "  mev0f = np.sum( ( 1-np.exp(-(y/C)**W ))**N) - nyears*pr\n",
      "/home/arturo/github/downpy/codes/downscale.py:1248: RuntimeWarning: invalid value encountered in power\n",
      "  mev0f = np.sum( ( 1-np.exp(-(y/C)**W ))**N) - nyears*pr\n",
      "/home/arturo/github/downpy/codes/downscale.py:1248: RuntimeWarning: invalid value encountered in power\n",
      "  mev0f = np.sum( ( 1-np.exp(-(y/C)**W ))**N) - nyears*pr\n",
      "/home/arturo/github/downpy/codes/downscale.py:1248: RuntimeWarning: invalid value encountered in power\n",
      "  mev0f = np.sum( ( 1-np.exp(-(y/C)**W ))**N) - nyears*pr\n",
      "/home/arturo/github/downpy/codes/downscale.py:1248: RuntimeWarning: invalid value encountered in power\n",
      "  mev0f = np.sum( ( 1-np.exp(-(y/C)**W ))**N) - nyears*pr\n",
      "/home/arturo/github/downpy/codes/downscale.py:1248: RuntimeWarning: invalid value encountered in power\n",
      "  mev0f = np.sum( ( 1-np.exp(-(y/C)**W ))**N) - nyears*pr\n",
      "/home/arturo/github/downpy/codes/downscale.py:1248: RuntimeWarning: invalid value encountered in power\n",
      "  mev0f = np.sum( ( 1-np.exp(-(y/C)**W ))**N) - nyears*pr\n"
     ]
    },
    {
     "name": "stdout",
     "output_type": "stream",
     "text": [
      "mevd_quant:: ERROR - fsolve does not work -  change x0\n",
      "mevd_quant:: ERROR - fsolve does not work -  change x0\n",
      "mevd_quant:: ERROR - fsolve does not work -  change x0\n",
      "mevd_quant:: ERROR - fsolve does not work -  change x0\n",
      "mevd_quant:: ERROR - fsolve does not work -  change x0\n",
      "mevd_quant:: ERROR - fsolve does not work -  change x0\n",
      "mevd_quant:: ERROR - fsolve does not work -  change x0\n",
      "mevd_quant:: ERROR - fsolve does not work -  change x0\n",
      "mevd_quant:: ERROR - fsolve does not work -  change x0\n",
      "mevd_quant:: ERROR - fsolve does not work -  change x0\n",
      "mevd_quant:: ERROR - fsolve does not work -  change x0\n",
      "mevd_quant:: ERROR - fsolve does not work -  change x0\n",
      "mevd_quant:: ERROR - fsolve does not work -  change x0\n",
      "mevd_quant:: ERROR - fsolve does not work -  change x0\n",
      "mevd_quant:: ERROR - fsolve does not work -  change x0\n",
      "mevd_quant:: ERROR - fsolve does not work -  change x0\n",
      "mevd_quant:: ERROR - fsolve does not work -  change x0\n",
      "mevd_quant:: ERROR - fsolve does not work -  change x0\n",
      "mevd_quant:: ERROR - fsolve does not work -  change x0\n",
      "mevd_quant:: ERROR - fsolve does not work -  change x0\n",
      "mevd_quant:: ERROR - fsolve does not work -  change x0\n"
     ]
    },
    {
     "name": "stderr",
     "output_type": "stream",
     "text": [
      "/home/arturo/github/downpy/codes/downscale.py:1248: RuntimeWarning: invalid value encountered in power\n",
      "  mev0f = np.sum( ( 1-np.exp(-(y/C)**W ))**N) - nyears*pr\n",
      "/home/arturo/github/downpy/codes/downscale.py:1248: RuntimeWarning: invalid value encountered in power\n",
      "  mev0f = np.sum( ( 1-np.exp(-(y/C)**W ))**N) - nyears*pr\n",
      "/home/arturo/github/downpy/codes/downscale.py:1248: RuntimeWarning: invalid value encountered in power\n",
      "  mev0f = np.sum( ( 1-np.exp(-(y/C)**W ))**N) - nyears*pr\n"
     ]
    },
    {
     "name": "stdout",
     "output_type": "stream",
     "text": [
      "mevd_quant:: ERROR - fsolve does not work -  change x0\n",
      "mevd_quant:: ERROR - fsolve does not work -  change x0\n",
      "mevd_quant:: ERROR - fsolve does not work -  change x0\n",
      "mevd_quant:: ERROR - fsolve does not work -  change x0\n",
      "mevd_quant:: ERROR - fsolve does not work -  change x0\n"
     ]
    },
    {
     "name": "stderr",
     "output_type": "stream",
     "text": [
      "/home/arturo/github/downpy/codes/downscale.py:1248: RuntimeWarning: invalid value encountered in power\n",
      "  mev0f = np.sum( ( 1-np.exp(-(y/C)**W ))**N) - nyears*pr\n",
      "/home/arturo/github/downpy/codes/downscale.py:1248: RuntimeWarning: invalid value encountered in power\n",
      "  mev0f = np.sum( ( 1-np.exp(-(y/C)**W ))**N) - nyears*pr\n",
      "/home/arturo/github/downpy/codes/downscale.py:1248: RuntimeWarning: invalid value encountered in power\n",
      "  mev0f = np.sum( ( 1-np.exp(-(y/C)**W ))**N) - nyears*pr\n"
     ]
    },
    {
     "name": "stdout",
     "output_type": "stream",
     "text": [
      "mevd_quant:: ERROR - fsolve does not work -  change x0\n",
      "mevd_quant:: ERROR - fsolve does not work -  change x0\n",
      "mevd_quant:: ERROR - fsolve does not work -  change x0\n",
      "mevd_quant:: ERROR - fsolve does not work -  change x0\n",
      "mevd_quant:: ERROR - fsolve does not work -  change x0\n",
      "mevd_quant:: ERROR - fsolve does not work -  change x0\n"
     ]
    },
    {
     "name": "stderr",
     "output_type": "stream",
     "text": [
      "/home/arturo/github/downpy/codes/downscale.py:1248: RuntimeWarning: invalid value encountered in power\n",
      "  mev0f = np.sum( ( 1-np.exp(-(y/C)**W ))**N) - nyears*pr\n"
     ]
    },
    {
     "name": "stdout",
     "output_type": "stream",
     "text": [
      "mevd_quant:: ERROR - fsolve does not work -  change x0\n",
      "56\n",
      "mevd_quant:: ERROR - fsolve does not work -  change x0\n",
      "mevd_quant:: ERROR - fsolve does not work -  change x0\n",
      "mevd_quant:: ERROR - fsolve does not work -  change x0\n",
      "mevd_quant:: ERROR - fsolve does not work -  change x0\n",
      "mevd_quant:: ERROR - fsolve does not work -  change x0\n",
      "mevd_quant:: ERROR - fsolve does not work -  change x0\n",
      "mevd_quant:: ERROR - fsolve does not work -  change x0\n"
     ]
    },
    {
     "name": "stderr",
     "output_type": "stream",
     "text": [
      "/home/arturo/github/downpy/codes/downscale.py:1248: RuntimeWarning: invalid value encountered in power\n",
      "  mev0f = np.sum( ( 1-np.exp(-(y/C)**W ))**N) - nyears*pr\n",
      "/home/arturo/github/downpy/codes/downscale.py:1248: RuntimeWarning: invalid value encountered in power\n",
      "  mev0f = np.sum( ( 1-np.exp(-(y/C)**W ))**N) - nyears*pr\n",
      "/home/arturo/github/downpy/codes/downscale.py:1248: RuntimeWarning: invalid value encountered in power\n",
      "  mev0f = np.sum( ( 1-np.exp(-(y/C)**W ))**N) - nyears*pr\n",
      "/home/arturo/github/downpy/codes/downscale.py:1248: RuntimeWarning: invalid value encountered in power\n",
      "  mev0f = np.sum( ( 1-np.exp(-(y/C)**W ))**N) - nyears*pr\n"
     ]
    },
    {
     "name": "stdout",
     "output_type": "stream",
     "text": [
      "mevd_quant:: ERROR - fsolve does not work -  change x0\n",
      "mevd_quant:: ERROR - fsolve does not work -  change x0\n",
      "mevd_quant:: ERROR - fsolve does not work -  change x0\n",
      "mevd_quant:: ERROR - fsolve does not work -  change x0\n",
      "mevd_quant:: ERROR - fsolve does not work -  change x0\n",
      "mevd_quant:: ERROR - fsolve does not work -  change x0\n",
      "mevd_quant:: ERROR - fsolve does not work -  change x0\n",
      "mevd_quant:: ERROR - fsolve does not work -  change x0\n",
      "mevd_quant:: ERROR - fsolve does not work -  change x0\n",
      "mevd_quant:: ERROR - fsolve does not work -  change x0\n",
      "mevd_quant:: ERROR - fsolve does not work -  change x0\n",
      "mevd_quant:: ERROR - fsolve does not work -  change x0\n",
      "mevd_quant:: ERROR - fsolve does not work -  change x0\n",
      "mevd_quant:: ERROR - fsolve does not work -  change x0\n",
      "mevd_quant:: ERROR - fsolve does not work -  change x0\n",
      "mevd_quant:: ERROR - fsolve does not work -  change x0\n",
      "mevd_quant:: ERROR - fsolve does not work -  change x0\n",
      "mevd_quant:: ERROR - fsolve does not work -  change x0\n",
      "mevd_quant:: ERROR - fsolve does not work -  change x0\n",
      "mevd_quant:: ERROR - fsolve does not work -  change x0\n",
      "mevd_quant:: ERROR - fsolve does not work -  change x0\n",
      "mevd_quant:: ERROR - fsolve does not work -  change x0\n"
     ]
    },
    {
     "name": "stderr",
     "output_type": "stream",
     "text": [
      "/home/arturo/github/downpy/codes/downscale.py:1248: RuntimeWarning: invalid value encountered in power\n",
      "  mev0f = np.sum( ( 1-np.exp(-(y/C)**W ))**N) - nyears*pr\n",
      "/home/arturo/github/downpy/codes/downscale.py:1248: RuntimeWarning: invalid value encountered in power\n",
      "  mev0f = np.sum( ( 1-np.exp(-(y/C)**W ))**N) - nyears*pr\n",
      "/home/arturo/github/downpy/codes/downscale.py:1248: RuntimeWarning: invalid value encountered in power\n",
      "  mev0f = np.sum( ( 1-np.exp(-(y/C)**W ))**N) - nyears*pr\n",
      "/home/arturo/github/downpy/codes/downscale.py:1248: RuntimeWarning: invalid value encountered in power\n",
      "  mev0f = np.sum( ( 1-np.exp(-(y/C)**W ))**N) - nyears*pr\n",
      "/home/arturo/github/downpy/codes/downscale.py:1248: RuntimeWarning: invalid value encountered in power\n",
      "  mev0f = np.sum( ( 1-np.exp(-(y/C)**W ))**N) - nyears*pr\n",
      "/home/arturo/github/downpy/codes/downscale.py:1248: RuntimeWarning: invalid value encountered in power\n",
      "  mev0f = np.sum( ( 1-np.exp(-(y/C)**W ))**N) - nyears*pr\n",
      "/home/arturo/github/downpy/codes/downscale.py:1248: RuntimeWarning: invalid value encountered in power\n",
      "  mev0f = np.sum( ( 1-np.exp(-(y/C)**W ))**N) - nyears*pr\n",
      "/home/arturo/github/downpy/codes/downscale.py:1248: RuntimeWarning: invalid value encountered in power\n",
      "  mev0f = np.sum( ( 1-np.exp(-(y/C)**W ))**N) - nyears*pr\n"
     ]
    },
    {
     "name": "stdout",
     "output_type": "stream",
     "text": [
      "mevd_quant:: ERROR - fsolve does not work -  change x0\n",
      "mevd_quant:: ERROR - fsolve does not work -  change x0\n",
      "mevd_quant:: ERROR - fsolve does not work -  change x0\n",
      "mevd_quant:: ERROR - fsolve does not work -  change x0\n",
      "mevd_quant:: ERROR - fsolve does not work -  change x0\n",
      "mevd_quant:: ERROR - fsolve does not work -  change x0\n",
      "mevd_quant:: ERROR - fsolve does not work -  change x0\n",
      "mevd_quant:: ERROR - fsolve does not work -  change x0\n",
      "mevd_quant:: ERROR - fsolve does not work -  change x0\n",
      "mevd_quant:: ERROR - fsolve does not work -  change x0\n",
      "mevd_quant:: ERROR - fsolve does not work -  change x0\n",
      "mevd_quant:: ERROR - fsolve does not work -  change x0\n",
      "mevd_quant:: ERROR - fsolve does not work -  change x0\n",
      "mevd_quant:: ERROR - fsolve does not work -  change x0\n",
      "mevd_quant:: ERROR - fsolve does not work -  change x0\n"
     ]
    },
    {
     "name": "stderr",
     "output_type": "stream",
     "text": [
      "/home/arturo/github/downpy/codes/downscale.py:1248: RuntimeWarning: invalid value encountered in power\n",
      "  mev0f = np.sum( ( 1-np.exp(-(y/C)**W ))**N) - nyears*pr\n",
      "/home/arturo/github/downpy/codes/downscale.py:1248: RuntimeWarning: invalid value encountered in power\n",
      "  mev0f = np.sum( ( 1-np.exp(-(y/C)**W ))**N) - nyears*pr\n",
      "/home/arturo/github/downpy/codes/downscale.py:1248: RuntimeWarning: invalid value encountered in power\n",
      "  mev0f = np.sum( ( 1-np.exp(-(y/C)**W ))**N) - nyears*pr\n",
      "/home/arturo/github/downpy/codes/downscale.py:1248: RuntimeWarning: invalid value encountered in power\n",
      "  mev0f = np.sum( ( 1-np.exp(-(y/C)**W ))**N) - nyears*pr\n",
      "/home/arturo/github/downpy/codes/downscale.py:1248: RuntimeWarning: invalid value encountered in power\n",
      "  mev0f = np.sum( ( 1-np.exp(-(y/C)**W ))**N) - nyears*pr\n"
     ]
    },
    {
     "name": "stdout",
     "output_type": "stream",
     "text": [
      "mevd_quant:: ERROR - fsolve does not work -  change x0\n",
      "mevd_quant:: ERROR - fsolve does not work -  change x0\n",
      "mevd_quant:: ERROR - fsolve does not work -  change x0\n",
      "mevd_quant:: ERROR - fsolve does not work -  change x0\n",
      "mevd_quant:: ERROR - fsolve does not work -  change x0\n",
      "mevd_quant:: ERROR - fsolve does not work -  change x0\n",
      "mevd_quant:: ERROR - fsolve does not work -  change x0\n",
      "mevd_quant:: ERROR - fsolve does not work -  change x0\n",
      "mevd_quant:: ERROR - fsolve does not work -  change x0\n",
      "mevd_quant:: ERROR - fsolve does not work -  change x0\n"
     ]
    },
    {
     "name": "stderr",
     "output_type": "stream",
     "text": [
      "/home/arturo/github/downpy/codes/downscale.py:1248: RuntimeWarning: invalid value encountered in power\n",
      "  mev0f = np.sum( ( 1-np.exp(-(y/C)**W ))**N) - nyears*pr\n",
      "/home/arturo/github/downpy/codes/downscale.py:1248: RuntimeWarning: invalid value encountered in power\n",
      "  mev0f = np.sum( ( 1-np.exp(-(y/C)**W ))**N) - nyears*pr\n",
      "/home/arturo/github/downpy/codes/downscale.py:1248: RuntimeWarning: invalid value encountered in power\n",
      "  mev0f = np.sum( ( 1-np.exp(-(y/C)**W ))**N) - nyears*pr\n"
     ]
    },
    {
     "name": "stdout",
     "output_type": "stream",
     "text": [
      "mevd_quant:: ERROR - fsolve does not work -  change x0\n",
      "mevd_quant:: ERROR - fsolve does not work -  change x0\n",
      "57\n",
      "mevd_quant:: ERROR - fsolve does not work -  change x0\n",
      "mevd_quant:: ERROR - fsolve does not work -  change x0\n",
      "mevd_quant:: ERROR - fsolve does not work -  change x0\n",
      "mevd_quant:: ERROR - fsolve does not work -  change x0\n",
      "mevd_quant:: ERROR - fsolve does not work -  change x0\n",
      "mevd_quant:: ERROR - fsolve does not work -  change x0\n",
      "mevd_quant:: ERROR - fsolve does not work -  change x0\n",
      "mevd_quant:: ERROR - fsolve does not work -  change x0\n",
      "mevd_quant:: ERROR - fsolve does not work -  change x0\n"
     ]
    },
    {
     "name": "stderr",
     "output_type": "stream",
     "text": [
      "/home/arturo/github/downpy/codes/downscale.py:1248: RuntimeWarning: invalid value encountered in power\n",
      "  mev0f = np.sum( ( 1-np.exp(-(y/C)**W ))**N) - nyears*pr\n",
      "/home/arturo/github/downpy/codes/downscale.py:1248: RuntimeWarning: invalid value encountered in power\n",
      "  mev0f = np.sum( ( 1-np.exp(-(y/C)**W ))**N) - nyears*pr\n",
      "/home/arturo/github/downpy/codes/downscale.py:1248: RuntimeWarning: invalid value encountered in power\n",
      "  mev0f = np.sum( ( 1-np.exp(-(y/C)**W ))**N) - nyears*pr\n",
      "/home/arturo/github/downpy/codes/downscale.py:1248: RuntimeWarning: invalid value encountered in power\n",
      "  mev0f = np.sum( ( 1-np.exp(-(y/C)**W ))**N) - nyears*pr\n",
      "/home/arturo/github/downpy/codes/downscale.py:1248: RuntimeWarning: invalid value encountered in power\n",
      "  mev0f = np.sum( ( 1-np.exp(-(y/C)**W ))**N) - nyears*pr\n",
      "/home/arturo/github/downpy/codes/downscale.py:1248: RuntimeWarning: invalid value encountered in power\n",
      "  mev0f = np.sum( ( 1-np.exp(-(y/C)**W ))**N) - nyears*pr\n",
      "/home/arturo/github/downpy/codes/downscale.py:1248: RuntimeWarning: invalid value encountered in power\n",
      "  mev0f = np.sum( ( 1-np.exp(-(y/C)**W ))**N) - nyears*pr\n"
     ]
    },
    {
     "name": "stdout",
     "output_type": "stream",
     "text": [
      "mevd_quant:: ERROR - fsolve does not work -  change x0\n",
      "mevd_quant:: ERROR - fsolve does not work -  change x0\n",
      "mevd_quant:: ERROR - fsolve does not work -  change x0\n",
      "mevd_quant:: ERROR - fsolve does not work -  change x0\n",
      "mevd_quant:: ERROR - fsolve does not work -  change x0\n",
      "mevd_quant:: ERROR - fsolve does not work -  change x0\n",
      "mevd_quant:: ERROR - fsolve does not work -  change x0\n",
      "mevd_quant:: ERROR - fsolve does not work -  change x0\n",
      "mevd_quant:: ERROR - fsolve does not work -  change x0\n",
      "mevd_quant:: ERROR - fsolve does not work -  change x0\n",
      "mevd_quant:: ERROR - fsolve does not work -  change x0\n",
      "mevd_quant:: ERROR - fsolve does not work -  change x0\n"
     ]
    },
    {
     "name": "stderr",
     "output_type": "stream",
     "text": [
      "/home/arturo/github/downpy/codes/downscale.py:1248: RuntimeWarning: invalid value encountered in power\n",
      "  mev0f = np.sum( ( 1-np.exp(-(y/C)**W ))**N) - nyears*pr\n",
      "/home/arturo/github/downpy/codes/downscale.py:1248: RuntimeWarning: invalid value encountered in power\n",
      "  mev0f = np.sum( ( 1-np.exp(-(y/C)**W ))**N) - nyears*pr\n",
      "/home/arturo/github/downpy/codes/downscale.py:1248: RuntimeWarning: invalid value encountered in power\n",
      "  mev0f = np.sum( ( 1-np.exp(-(y/C)**W ))**N) - nyears*pr\n",
      "/home/arturo/github/downpy/codes/downscale.py:1248: RuntimeWarning: invalid value encountered in power\n",
      "  mev0f = np.sum( ( 1-np.exp(-(y/C)**W ))**N) - nyears*pr\n",
      "/home/arturo/github/downpy/codes/downscale.py:1248: RuntimeWarning: invalid value encountered in power\n",
      "  mev0f = np.sum( ( 1-np.exp(-(y/C)**W ))**N) - nyears*pr\n",
      "/home/arturo/github/downpy/codes/downscale.py:1248: RuntimeWarning: invalid value encountered in power\n",
      "  mev0f = np.sum( ( 1-np.exp(-(y/C)**W ))**N) - nyears*pr\n",
      "/home/arturo/github/downpy/codes/downscale.py:1248: RuntimeWarning: invalid value encountered in power\n",
      "  mev0f = np.sum( ( 1-np.exp(-(y/C)**W ))**N) - nyears*pr\n",
      "/home/arturo/github/downpy/codes/downscale.py:1248: RuntimeWarning: invalid value encountered in power\n",
      "  mev0f = np.sum( ( 1-np.exp(-(y/C)**W ))**N) - nyears*pr\n"
     ]
    },
    {
     "name": "stdout",
     "output_type": "stream",
     "text": [
      "mevd_quant:: ERROR - fsolve does not work -  change x0\n",
      "mevd_quant:: ERROR - fsolve does not work -  change x0\n",
      "mevd_quant:: ERROR - fsolve does not work -  change x0\n",
      "mevd_quant:: ERROR - fsolve does not work -  change x0\n",
      "mevd_quant:: ERROR - fsolve does not work -  change x0\n",
      "mevd_quant:: ERROR - fsolve does not work -  change x0\n",
      "mevd_quant:: ERROR - fsolve does not work -  change x0\n",
      "mevd_quant:: ERROR - fsolve does not work -  change x0\n",
      "mevd_quant:: ERROR - fsolve does not work -  change x0\n",
      "mevd_quant:: ERROR - fsolve does not work -  change x0\n",
      "mevd_quant:: ERROR - fsolve does not work -  change x0\n",
      "mevd_quant:: ERROR - fsolve does not work -  change x0\n",
      "mevd_quant:: ERROR - fsolve does not work -  change x0\n",
      "mevd_quant:: ERROR - fsolve does not work -  change x0\n",
      "mevd_quant:: ERROR - fsolve does not work -  change x0\n",
      "mevd_quant:: ERROR - fsolve does not work -  change x0\n",
      "mevd_quant:: ERROR - fsolve does not work -  change x0\n",
      "mevd_quant:: ERROR - fsolve does not work -  change x0\n",
      "mevd_quant:: ERROR - fsolve does not work -  change x0\n",
      "mevd_quant:: ERROR - fsolve does not work -  change x0\n",
      "mevd_quant:: ERROR - fsolve does not work -  change x0\n",
      "mevd_quant:: ERROR - fsolve does not work -  change x0\n",
      "mevd_quant:: ERROR - fsolve does not work -  change x0\n",
      "mevd_quant:: ERROR - fsolve does not work -  change x0\n",
      "mevd_quant:: ERROR - fsolve does not work -  change x0\n",
      "mevd_quant:: ERROR - fsolve does not work -  change x0\n",
      "mevd_quant:: ERROR - fsolve does not work -  change x0\n",
      "mevd_quant:: ERROR - fsolve does not work -  change x0\n"
     ]
    },
    {
     "name": "stderr",
     "output_type": "stream",
     "text": [
      "/home/arturo/github/downpy/codes/downscale.py:1248: RuntimeWarning: invalid value encountered in power\n",
      "  mev0f = np.sum( ( 1-np.exp(-(y/C)**W ))**N) - nyears*pr\n",
      "/home/arturo/github/downpy/codes/downscale.py:1248: RuntimeWarning: invalid value encountered in power\n",
      "  mev0f = np.sum( ( 1-np.exp(-(y/C)**W ))**N) - nyears*pr\n"
     ]
    },
    {
     "name": "stdout",
     "output_type": "stream",
     "text": [
      "mevd_quant:: ERROR - fsolve does not work -  change x0\n",
      "mevd_quant:: ERROR - fsolve does not work -  change x0\n",
      "mevd_quant:: ERROR - fsolve does not work -  change x0\n",
      "mevd_quant:: ERROR - fsolve does not work -  change x0\n",
      "mevd_quant:: ERROR - fsolve does not work -  change x0\n"
     ]
    },
    {
     "name": "stderr",
     "output_type": "stream",
     "text": [
      "/home/arturo/github/downpy/codes/downscale.py:1248: RuntimeWarning: invalid value encountered in power\n",
      "  mev0f = np.sum( ( 1-np.exp(-(y/C)**W ))**N) - nyears*pr\n"
     ]
    },
    {
     "name": "stdout",
     "output_type": "stream",
     "text": [
      "mevd_quant:: ERROR - fsolve does not work -  change x0\n",
      "58\n",
      "mevd_quant:: ERROR - fsolve does not work -  change x0\n",
      "mevd_quant:: ERROR - fsolve does not work -  change x0\n",
      "mevd_quant:: ERROR - fsolve does not work -  change x0\n",
      "mevd_quant:: ERROR - fsolve does not work -  change x0\n",
      "mevd_quant:: ERROR - fsolve does not work -  change x0\n",
      "mevd_quant:: ERROR - fsolve does not work -  change x0\n",
      "mevd_quant:: ERROR - fsolve does not work -  change x0\n",
      "mevd_quant:: ERROR - fsolve does not work -  change x0\n",
      "mevd_quant:: ERROR - fsolve does not work -  change x0\n",
      "mevd_quant:: ERROR - fsolve does not work -  change x0\n",
      "mevd_quant:: ERROR - fsolve does not work -  change x0\n",
      "mevd_quant:: ERROR - fsolve does not work -  change x0\n",
      "mevd_quant:: ERROR - fsolve does not work -  change x0\n",
      "mevd_quant:: ERROR - fsolve does not work -  change x0\n"
     ]
    },
    {
     "name": "stderr",
     "output_type": "stream",
     "text": [
      "/home/arturo/github/downpy/codes/downscale.py:1248: RuntimeWarning: invalid value encountered in power\n",
      "  mev0f = np.sum( ( 1-np.exp(-(y/C)**W ))**N) - nyears*pr\n",
      "/home/arturo/github/downpy/codes/downscale.py:1248: RuntimeWarning: invalid value encountered in power\n",
      "  mev0f = np.sum( ( 1-np.exp(-(y/C)**W ))**N) - nyears*pr\n",
      "/home/arturo/github/downpy/codes/downscale.py:1248: RuntimeWarning: invalid value encountered in power\n",
      "  mev0f = np.sum( ( 1-np.exp(-(y/C)**W ))**N) - nyears*pr\n",
      "/home/arturo/github/downpy/codes/downscale.py:1248: RuntimeWarning: invalid value encountered in power\n",
      "  mev0f = np.sum( ( 1-np.exp(-(y/C)**W ))**N) - nyears*pr\n",
      "/home/arturo/github/downpy/codes/downscale.py:1248: RuntimeWarning: invalid value encountered in power\n",
      "  mev0f = np.sum( ( 1-np.exp(-(y/C)**W ))**N) - nyears*pr\n",
      "/home/arturo/github/downpy/codes/downscale.py:1248: RuntimeWarning: invalid value encountered in power\n",
      "  mev0f = np.sum( ( 1-np.exp(-(y/C)**W ))**N) - nyears*pr\n",
      "/home/arturo/github/downpy/codes/downscale.py:1248: RuntimeWarning: invalid value encountered in power\n",
      "  mev0f = np.sum( ( 1-np.exp(-(y/C)**W ))**N) - nyears*pr\n",
      "/home/arturo/github/downpy/codes/downscale.py:1248: RuntimeWarning: invalid value encountered in power\n",
      "  mev0f = np.sum( ( 1-np.exp(-(y/C)**W ))**N) - nyears*pr\n",
      "/home/arturo/github/downpy/codes/downscale.py:1248: RuntimeWarning: invalid value encountered in power\n",
      "  mev0f = np.sum( ( 1-np.exp(-(y/C)**W ))**N) - nyears*pr\n",
      "/home/arturo/github/downpy/codes/downscale.py:1248: RuntimeWarning: invalid value encountered in power\n",
      "  mev0f = np.sum( ( 1-np.exp(-(y/C)**W ))**N) - nyears*pr\n",
      "/home/arturo/github/downpy/codes/downscale.py:1248: RuntimeWarning: invalid value encountered in power\n",
      "  mev0f = np.sum( ( 1-np.exp(-(y/C)**W ))**N) - nyears*pr\n",
      "/home/arturo/github/downpy/codes/downscale.py:1248: RuntimeWarning: invalid value encountered in power\n",
      "  mev0f = np.sum( ( 1-np.exp(-(y/C)**W ))**N) - nyears*pr\n",
      "/home/arturo/github/downpy/codes/downscale.py:1248: RuntimeWarning: invalid value encountered in power\n",
      "  mev0f = np.sum( ( 1-np.exp(-(y/C)**W ))**N) - nyears*pr\n",
      "/home/arturo/github/downpy/codes/downscale.py:1248: RuntimeWarning: invalid value encountered in power\n",
      "  mev0f = np.sum( ( 1-np.exp(-(y/C)**W ))**N) - nyears*pr\n",
      "/home/arturo/github/downpy/codes/downscale.py:1248: RuntimeWarning: invalid value encountered in power\n",
      "  mev0f = np.sum( ( 1-np.exp(-(y/C)**W ))**N) - nyears*pr\n",
      "/home/arturo/github/downpy/codes/downscale.py:1248: RuntimeWarning: invalid value encountered in power\n",
      "  mev0f = np.sum( ( 1-np.exp(-(y/C)**W ))**N) - nyears*pr\n",
      "/home/arturo/github/downpy/codes/downscale.py:1248: RuntimeWarning: invalid value encountered in power\n",
      "  mev0f = np.sum( ( 1-np.exp(-(y/C)**W ))**N) - nyears*pr\n"
     ]
    },
    {
     "name": "stdout",
     "output_type": "stream",
     "text": [
      "mevd_quant:: ERROR - fsolve does not work -  change x0\n",
      "mevd_quant:: ERROR - fsolve does not work -  change x0\n",
      "mevd_quant:: ERROR - fsolve does not work -  change x0\n",
      "mevd_quant:: ERROR - fsolve does not work -  change x0\n",
      "mevd_quant:: ERROR - fsolve does not work -  change x0\n",
      "mevd_quant:: ERROR - fsolve does not work -  change x0\n",
      "mevd_quant:: ERROR - fsolve does not work -  change x0\n",
      "mevd_quant:: ERROR - fsolve does not work -  change x0\n",
      "mevd_quant:: ERROR - fsolve does not work -  change x0\n",
      "mevd_quant:: ERROR - fsolve does not work -  change x0\n",
      "mevd_quant:: ERROR - fsolve does not work -  change x0\n",
      "mevd_quant:: ERROR - fsolve does not work -  change x0\n",
      "mevd_quant:: ERROR - fsolve does not work -  change x0\n",
      "mevd_quant:: ERROR - fsolve does not work -  change x0\n",
      "mevd_quant:: ERROR - fsolve does not work -  change x0\n",
      "mevd_quant:: ERROR - fsolve does not work -  change x0\n",
      "mevd_quant:: ERROR - fsolve does not work -  change x0\n",
      "mevd_quant:: ERROR - fsolve does not work -  change x0\n",
      "mevd_quant:: ERROR - fsolve does not work -  change x0\n",
      "mevd_quant:: ERROR - fsolve does not work -  change x0\n",
      "mevd_quant:: ERROR - fsolve does not work -  change x0\n",
      "mevd_quant:: ERROR - fsolve does not work -  change x0\n",
      "mevd_quant:: ERROR - fsolve does not work -  change x0\n",
      "mevd_quant:: ERROR - fsolve does not work -  change x0\n",
      "mevd_quant:: ERROR - fsolve does not work -  change x0\n",
      "mevd_quant:: ERROR - fsolve does not work -  change x0\n",
      "mevd_quant:: ERROR - fsolve does not work -  change x0\n",
      "mevd_quant:: ERROR - fsolve does not work -  change x0\n",
      "mevd_quant:: ERROR - fsolve does not work -  change x0\n",
      "mevd_quant:: ERROR - fsolve does not work -  change x0\n",
      "mevd_quant:: ERROR - fsolve does not work -  change x0\n",
      "mevd_quant:: ERROR - fsolve does not work -  change x0\n",
      "mevd_quant:: ERROR - fsolve does not work -  change x0\n",
      "mevd_quant:: ERROR - fsolve does not work -  change x0\n",
      "mevd_quant:: ERROR - fsolve does not work -  change x0\n"
     ]
    },
    {
     "name": "stderr",
     "output_type": "stream",
     "text": [
      "/home/arturo/github/downpy/codes/downscale.py:1248: RuntimeWarning: invalid value encountered in power\n",
      "  mev0f = np.sum( ( 1-np.exp(-(y/C)**W ))**N) - nyears*pr\n",
      "/home/arturo/github/downpy/codes/downscale.py:1248: RuntimeWarning: invalid value encountered in power\n",
      "  mev0f = np.sum( ( 1-np.exp(-(y/C)**W ))**N) - nyears*pr\n",
      "/home/arturo/github/downpy/codes/downscale.py:1248: RuntimeWarning: invalid value encountered in power\n",
      "  mev0f = np.sum( ( 1-np.exp(-(y/C)**W ))**N) - nyears*pr\n",
      "/home/arturo/github/downpy/codes/downscale.py:1248: RuntimeWarning: invalid value encountered in power\n",
      "  mev0f = np.sum( ( 1-np.exp(-(y/C)**W ))**N) - nyears*pr\n",
      "/home/arturo/github/downpy/codes/downscale.py:1248: RuntimeWarning: invalid value encountered in power\n",
      "  mev0f = np.sum( ( 1-np.exp(-(y/C)**W ))**N) - nyears*pr\n"
     ]
    },
    {
     "name": "stdout",
     "output_type": "stream",
     "text": [
      "mevd_quant:: ERROR - fsolve does not work -  change x0\n",
      "mevd_quant:: ERROR - fsolve does not work -  change x0\n",
      "mevd_quant:: ERROR - fsolve does not work -  change x0\n",
      "mevd_quant:: ERROR - fsolve does not work -  change x0\n",
      "mevd_quant:: ERROR - fsolve does not work -  change x0\n",
      "mevd_quant:: ERROR - fsolve does not work -  change x0\n",
      "mevd_quant:: ERROR - fsolve does not work -  change x0\n",
      "mevd_quant:: ERROR - fsolve does not work -  change x0\n",
      "mevd_quant:: ERROR - fsolve does not work -  change x0\n",
      "mevd_quant:: ERROR - fsolve does not work -  change x0\n",
      "mevd_quant:: ERROR - fsolve does not work -  change x0\n",
      "mevd_quant:: ERROR - fsolve does not work -  change x0\n",
      "mevd_quant:: ERROR - fsolve does not work -  change x0\n",
      "mevd_quant:: ERROR - fsolve does not work -  change x0\n",
      "mevd_quant:: ERROR - fsolve does not work -  change x0\n"
     ]
    },
    {
     "name": "stderr",
     "output_type": "stream",
     "text": [
      "/home/arturo/github/downpy/codes/downscale.py:1248: RuntimeWarning: invalid value encountered in power\n",
      "  mev0f = np.sum( ( 1-np.exp(-(y/C)**W ))**N) - nyears*pr\n",
      "/home/arturo/github/downpy/codes/downscale.py:1248: RuntimeWarning: invalid value encountered in power\n",
      "  mev0f = np.sum( ( 1-np.exp(-(y/C)**W ))**N) - nyears*pr\n",
      "/home/arturo/github/downpy/codes/downscale.py:1248: RuntimeWarning: invalid value encountered in power\n",
      "  mev0f = np.sum( ( 1-np.exp(-(y/C)**W ))**N) - nyears*pr\n",
      "/home/arturo/github/downpy/codes/downscale.py:1248: RuntimeWarning: invalid value encountered in power\n",
      "  mev0f = np.sum( ( 1-np.exp(-(y/C)**W ))**N) - nyears*pr\n",
      "/home/arturo/github/downpy/codes/downscale.py:1248: RuntimeWarning: invalid value encountered in power\n",
      "  mev0f = np.sum( ( 1-np.exp(-(y/C)**W ))**N) - nyears*pr\n"
     ]
    },
    {
     "name": "stdout",
     "output_type": "stream",
     "text": [
      "mevd_quant:: ERROR - fsolve does not work -  change x0\n",
      "mevd_quant:: ERROR - fsolve does not work -  change x0\n",
      "mevd_quant:: ERROR - fsolve does not work -  change x0\n",
      "mevd_quant:: ERROR - fsolve does not work -  change x0\n",
      "mevd_quant:: ERROR - fsolve does not work -  change x0\n",
      "mevd_quant:: ERROR - fsolve does not work -  change x0\n",
      "mevd_quant:: ERROR - fsolve does not work -  change x0\n",
      "mevd_quant:: ERROR - fsolve does not work -  change x0\n",
      "mevd_quant:: ERROR - fsolve does not work -  change x0\n",
      "mevd_quant:: ERROR - fsolve does not work -  change x0\n",
      "59\n",
      "mevd_quant:: ERROR - fsolve does not work -  change x0\n",
      "mevd_quant:: ERROR - fsolve does not work -  change x0\n",
      "mevd_quant:: ERROR - fsolve does not work -  change x0\n",
      "mevd_quant:: ERROR - fsolve does not work -  change x0\n",
      "mevd_quant:: ERROR - fsolve does not work -  change x0\n"
     ]
    },
    {
     "name": "stderr",
     "output_type": "stream",
     "text": [
      "/home/arturo/github/downpy/codes/downscale.py:1248: RuntimeWarning: invalid value encountered in power\n",
      "  mev0f = np.sum( ( 1-np.exp(-(y/C)**W ))**N) - nyears*pr\n",
      "/home/arturo/github/downpy/codes/downscale.py:1248: RuntimeWarning: invalid value encountered in power\n",
      "  mev0f = np.sum( ( 1-np.exp(-(y/C)**W ))**N) - nyears*pr\n"
     ]
    },
    {
     "name": "stdout",
     "output_type": "stream",
     "text": [
      "mevd_quant:: ERROR - fsolve does not work -  change x0\n",
      "mevd_quant:: ERROR - fsolve does not work -  change x0\n"
     ]
    },
    {
     "name": "stderr",
     "output_type": "stream",
     "text": [
      "/home/arturo/github/downpy/codes/downscale.py:1248: RuntimeWarning: invalid value encountered in power\n",
      "  mev0f = np.sum( ( 1-np.exp(-(y/C)**W ))**N) - nyears*pr\n",
      "/home/arturo/github/downpy/codes/downscale.py:1248: RuntimeWarning: invalid value encountered in power\n",
      "  mev0f = np.sum( ( 1-np.exp(-(y/C)**W ))**N) - nyears*pr\n",
      "/home/arturo/github/downpy/codes/downscale.py:1248: RuntimeWarning: invalid value encountered in power\n",
      "  mev0f = np.sum( ( 1-np.exp(-(y/C)**W ))**N) - nyears*pr\n",
      "/home/arturo/github/downpy/codes/downscale.py:1248: RuntimeWarning: invalid value encountered in power\n",
      "  mev0f = np.sum( ( 1-np.exp(-(y/C)**W ))**N) - nyears*pr\n",
      "/home/arturo/github/downpy/codes/downscale.py:1248: RuntimeWarning: invalid value encountered in power\n",
      "  mev0f = np.sum( ( 1-np.exp(-(y/C)**W ))**N) - nyears*pr\n",
      "/home/arturo/github/downpy/codes/downscale.py:1248: RuntimeWarning: invalid value encountered in power\n",
      "  mev0f = np.sum( ( 1-np.exp(-(y/C)**W ))**N) - nyears*pr\n",
      "/home/arturo/github/downpy/codes/downscale.py:1248: RuntimeWarning: invalid value encountered in power\n",
      "  mev0f = np.sum( ( 1-np.exp(-(y/C)**W ))**N) - nyears*pr\n"
     ]
    },
    {
     "name": "stdout",
     "output_type": "stream",
     "text": [
      "mevd_quant:: ERROR - fsolve does not work -  change x0\n",
      "mevd_quant:: ERROR - fsolve does not work -  change x0\n",
      "mevd_quant:: ERROR - fsolve does not work -  change x0\n",
      "mevd_quant:: ERROR - fsolve does not work -  change x0\n",
      "mevd_quant:: ERROR - fsolve does not work -  change x0\n",
      "mevd_quant:: ERROR - fsolve does not work -  change x0\n",
      "mevd_quant:: ERROR - fsolve does not work -  change x0\n",
      "mevd_quant:: ERROR - fsolve does not work -  change x0\n",
      "mevd_quant:: ERROR - fsolve does not work -  change x0\n",
      "mevd_quant:: ERROR - fsolve does not work -  change x0\n",
      "mevd_quant:: ERROR - fsolve does not work -  change x0\n",
      "mevd_quant:: ERROR - fsolve does not work -  change x0\n",
      "mevd_quant:: ERROR - fsolve does not work -  change x0\n",
      "mevd_quant:: ERROR - fsolve does not work -  change x0\n",
      "mevd_quant:: ERROR - fsolve does not work -  change x0\n",
      "mevd_quant:: ERROR - fsolve does not work -  change x0\n",
      "mevd_quant:: ERROR - fsolve does not work -  change x0\n",
      "mevd_quant:: ERROR - fsolve does not work -  change x0\n",
      "mevd_quant:: ERROR - fsolve does not work -  change x0\n",
      "mevd_quant:: ERROR - fsolve does not work -  change x0\n",
      "mevd_quant:: ERROR - fsolve does not work -  change x0\n"
     ]
    },
    {
     "name": "stderr",
     "output_type": "stream",
     "text": [
      "/home/arturo/github/downpy/codes/downscale.py:1248: RuntimeWarning: invalid value encountered in power\n",
      "  mev0f = np.sum( ( 1-np.exp(-(y/C)**W ))**N) - nyears*pr\n",
      "/home/arturo/github/downpy/codes/downscale.py:1248: RuntimeWarning: invalid value encountered in power\n",
      "  mev0f = np.sum( ( 1-np.exp(-(y/C)**W ))**N) - nyears*pr\n",
      "/home/arturo/github/downpy/codes/downscale.py:1248: RuntimeWarning: invalid value encountered in power\n",
      "  mev0f = np.sum( ( 1-np.exp(-(y/C)**W ))**N) - nyears*pr\n",
      "/home/arturo/github/downpy/codes/downscale.py:1248: RuntimeWarning: invalid value encountered in power\n",
      "  mev0f = np.sum( ( 1-np.exp(-(y/C)**W ))**N) - nyears*pr\n",
      "/home/arturo/github/downpy/codes/downscale.py:1248: RuntimeWarning: invalid value encountered in power\n",
      "  mev0f = np.sum( ( 1-np.exp(-(y/C)**W ))**N) - nyears*pr\n",
      "/home/arturo/github/downpy/codes/downscale.py:1248: RuntimeWarning: invalid value encountered in power\n",
      "  mev0f = np.sum( ( 1-np.exp(-(y/C)**W ))**N) - nyears*pr\n"
     ]
    },
    {
     "name": "stdout",
     "output_type": "stream",
     "text": [
      "mevd_quant:: ERROR - fsolve does not work -  change x0\n",
      "mevd_quant:: ERROR - fsolve does not work -  change x0\n",
      "mevd_quant:: ERROR - fsolve does not work -  change x0\n",
      "mevd_quant:: ERROR - fsolve does not work -  change x0\n",
      "mevd_quant:: ERROR - fsolve does not work -  change x0\n",
      "mevd_quant:: ERROR - fsolve does not work -  change x0\n",
      "mevd_quant:: ERROR - fsolve does not work -  change x0\n",
      "mevd_quant:: ERROR - fsolve does not work -  change x0\n",
      "mevd_quant:: ERROR - fsolve does not work -  change x0\n",
      "mevd_quant:: ERROR - fsolve does not work -  change x0\n",
      "mevd_quant:: ERROR - fsolve does not work -  change x0\n",
      "mevd_quant:: ERROR - fsolve does not work -  change x0\n",
      "mevd_quant:: ERROR - fsolve does not work -  change x0\n",
      "mevd_quant:: ERROR - fsolve does not work -  change x0\n",
      "mevd_quant:: ERROR - fsolve does not work -  change x0\n",
      "mevd_quant:: ERROR - fsolve does not work -  change x0\n",
      "mevd_quant:: ERROR - fsolve does not work -  change x0\n",
      "mevd_quant:: ERROR - fsolve does not work -  change x0\n",
      "mevd_quant:: ERROR - fsolve does not work -  change x0\n",
      "mevd_quant:: ERROR - fsolve does not work -  change x0\n"
     ]
    },
    {
     "name": "stderr",
     "output_type": "stream",
     "text": [
      "/home/arturo/github/downpy/codes/downscale.py:1248: RuntimeWarning: invalid value encountered in power\n",
      "  mev0f = np.sum( ( 1-np.exp(-(y/C)**W ))**N) - nyears*pr\n",
      "/home/arturo/github/downpy/codes/downscale.py:1248: RuntimeWarning: invalid value encountered in power\n",
      "  mev0f = np.sum( ( 1-np.exp(-(y/C)**W ))**N) - nyears*pr\n"
     ]
    },
    {
     "name": "stdout",
     "output_type": "stream",
     "text": [
      "mevd_quant:: ERROR - fsolve does not work -  change x0\n",
      "mevd_quant:: ERROR - fsolve does not work -  change x0\n",
      "mevd_quant:: ERROR - fsolve does not work -  change x0\n",
      "mevd_quant:: ERROR - fsolve does not work -  change x0\n",
      "mevd_quant:: ERROR - fsolve does not work -  change x0\n",
      "mevd_quant:: ERROR - fsolve does not work -  change x0\n",
      "mevd_quant:: ERROR - fsolve does not work -  change x0\n",
      "mevd_quant:: ERROR - fsolve does not work -  change x0\n"
     ]
    },
    {
     "name": "stderr",
     "output_type": "stream",
     "text": [
      "/home/arturo/github/downpy/codes/downscale.py:1248: RuntimeWarning: invalid value encountered in power\n",
      "  mev0f = np.sum( ( 1-np.exp(-(y/C)**W ))**N) - nyears*pr\n",
      "/home/arturo/github/downpy/codes/downscale.py:1248: RuntimeWarning: invalid value encountered in power\n",
      "  mev0f = np.sum( ( 1-np.exp(-(y/C)**W ))**N) - nyears*pr\n",
      "/home/arturo/github/downpy/codes/downscale.py:1248: RuntimeWarning: invalid value encountered in power\n",
      "  mev0f = np.sum( ( 1-np.exp(-(y/C)**W ))**N) - nyears*pr\n",
      "/home/arturo/github/downpy/codes/downscale.py:1248: RuntimeWarning: invalid value encountered in power\n",
      "  mev0f = np.sum( ( 1-np.exp(-(y/C)**W ))**N) - nyears*pr\n"
     ]
    },
    {
     "name": "stdout",
     "output_type": "stream",
     "text": [
      "mevd_quant:: ERROR - fsolve does not work -  change x0\n",
      "mevd_quant:: ERROR - fsolve does not work -  change x0\n",
      "mevd_quant:: ERROR - fsolve does not work -  change x0\n",
      "mevd_quant:: ERROR - fsolve does not work -  change x0\n",
      "60\n",
      "mevd_quant:: ERROR - fsolve does not work -  change x0\n",
      "mevd_quant:: ERROR - fsolve does not work -  change x0\n",
      "mevd_quant:: ERROR - fsolve does not work -  change x0\n",
      "mevd_quant:: ERROR - fsolve does not work -  change x0\n",
      "mevd_quant:: ERROR - fsolve does not work -  change x0\n",
      "mevd_quant:: ERROR - fsolve does not work -  change x0\n",
      "mevd_quant:: ERROR - fsolve does not work -  change x0\n"
     ]
    },
    {
     "name": "stderr",
     "output_type": "stream",
     "text": [
      "/home/arturo/github/downpy/codes/downscale.py:1248: RuntimeWarning: invalid value encountered in power\n",
      "  mev0f = np.sum( ( 1-np.exp(-(y/C)**W ))**N) - nyears*pr\n",
      "/home/arturo/github/downpy/codes/downscale.py:1248: RuntimeWarning: invalid value encountered in power\n",
      "  mev0f = np.sum( ( 1-np.exp(-(y/C)**W ))**N) - nyears*pr\n",
      "/home/arturo/github/downpy/codes/downscale.py:1248: RuntimeWarning: invalid value encountered in power\n",
      "  mev0f = np.sum( ( 1-np.exp(-(y/C)**W ))**N) - nyears*pr\n",
      "/home/arturo/github/downpy/codes/downscale.py:1248: RuntimeWarning: invalid value encountered in power\n",
      "  mev0f = np.sum( ( 1-np.exp(-(y/C)**W ))**N) - nyears*pr\n",
      "/home/arturo/github/downpy/codes/downscale.py:1248: RuntimeWarning: invalid value encountered in power\n",
      "  mev0f = np.sum( ( 1-np.exp(-(y/C)**W ))**N) - nyears*pr\n",
      "/home/arturo/github/downpy/codes/downscale.py:1248: RuntimeWarning: invalid value encountered in power\n",
      "  mev0f = np.sum( ( 1-np.exp(-(y/C)**W ))**N) - nyears*pr\n"
     ]
    },
    {
     "name": "stdout",
     "output_type": "stream",
     "text": [
      "mevd_quant:: ERROR - fsolve does not work -  change x0\n",
      "mevd_quant:: ERROR - fsolve does not work -  change x0\n",
      "mevd_quant:: ERROR - fsolve does not work -  change x0\n",
      "mevd_quant:: ERROR - fsolve does not work -  change x0\n",
      "mevd_quant:: ERROR - fsolve does not work -  change x0\n",
      "mevd_quant:: ERROR - fsolve does not work -  change x0\n",
      "mevd_quant:: ERROR - fsolve does not work -  change x0\n",
      "mevd_quant:: ERROR - fsolve does not work -  change x0\n",
      "mevd_quant:: ERROR - fsolve does not work -  change x0\n",
      "mevd_quant:: ERROR - fsolve does not work -  change x0\n",
      "mevd_quant:: ERROR - fsolve does not work -  change x0\n",
      "mevd_quant:: ERROR - fsolve does not work -  change x0\n",
      "mevd_quant:: ERROR - fsolve does not work -  change x0\n",
      "mevd_quant:: ERROR - fsolve does not work -  change x0\n",
      "mevd_quant:: ERROR - fsolve does not work -  change x0\n",
      "mevd_quant:: ERROR - fsolve does not work -  change x0\n"
     ]
    },
    {
     "name": "stderr",
     "output_type": "stream",
     "text": [
      "/home/arturo/github/downpy/codes/downscale.py:1248: RuntimeWarning: invalid value encountered in power\n",
      "  mev0f = np.sum( ( 1-np.exp(-(y/C)**W ))**N) - nyears*pr\n",
      "/home/arturo/github/downpy/codes/downscale.py:1248: RuntimeWarning: invalid value encountered in power\n",
      "  mev0f = np.sum( ( 1-np.exp(-(y/C)**W ))**N) - nyears*pr\n",
      "/home/arturo/github/downpy/codes/downscale.py:1248: RuntimeWarning: invalid value encountered in power\n",
      "  mev0f = np.sum( ( 1-np.exp(-(y/C)**W ))**N) - nyears*pr\n",
      "/home/arturo/github/downpy/codes/downscale.py:1248: RuntimeWarning: invalid value encountered in power\n",
      "  mev0f = np.sum( ( 1-np.exp(-(y/C)**W ))**N) - nyears*pr\n",
      "/home/arturo/github/downpy/codes/downscale.py:1248: RuntimeWarning: invalid value encountered in power\n",
      "  mev0f = np.sum( ( 1-np.exp(-(y/C)**W ))**N) - nyears*pr\n"
     ]
    },
    {
     "name": "stdout",
     "output_type": "stream",
     "text": [
      "mevd_quant:: ERROR - fsolve does not work -  change x0\n",
      "mevd_quant:: ERROR - fsolve does not work -  change x0\n",
      "mevd_quant:: ERROR - fsolve does not work -  change x0\n",
      "mevd_quant:: ERROR - fsolve does not work -  change x0\n",
      "mevd_quant:: ERROR - fsolve does not work -  change x0\n",
      "mevd_quant:: ERROR - fsolve does not work -  change x0\n",
      "mevd_quant:: ERROR - fsolve does not work -  change x0\n",
      "mevd_quant:: ERROR - fsolve does not work -  change x0\n",
      "mevd_quant:: ERROR - fsolve does not work -  change x0\n",
      "mevd_quant:: ERROR - fsolve does not work -  change x0\n",
      "mevd_quant:: ERROR - fsolve does not work -  change x0\n",
      "mevd_quant:: ERROR - fsolve does not work -  change x0\n",
      "mevd_quant:: ERROR - fsolve does not work -  change x0\n",
      "mevd_quant:: ERROR - fsolve does not work -  change x0\n",
      "mevd_quant:: ERROR - fsolve does not work -  change x0\n"
     ]
    },
    {
     "name": "stderr",
     "output_type": "stream",
     "text": [
      "/home/arturo/github/downpy/codes/downscale.py:1248: RuntimeWarning: invalid value encountered in power\n",
      "  mev0f = np.sum( ( 1-np.exp(-(y/C)**W ))**N) - nyears*pr\n"
     ]
    },
    {
     "name": "stdout",
     "output_type": "stream",
     "text": [
      "mevd_quant:: ERROR - fsolve does not work -  change x0\n",
      "mevd_quant:: ERROR - fsolve does not work -  change x0\n"
     ]
    },
    {
     "name": "stderr",
     "output_type": "stream",
     "text": [
      "/home/arturo/github/downpy/codes/downscale.py:1248: RuntimeWarning: invalid value encountered in power\n",
      "  mev0f = np.sum( ( 1-np.exp(-(y/C)**W ))**N) - nyears*pr\n"
     ]
    },
    {
     "name": "stdout",
     "output_type": "stream",
     "text": [
      "mevd_quant:: ERROR - fsolve does not work -  change x0\n",
      "mevd_quant:: ERROR - fsolve does not work -  change x0\n",
      "mevd_quant:: ERROR - fsolve does not work -  change x0\n",
      "mevd_quant:: ERROR - fsolve does not work -  change x0\n",
      "61\n",
      "mevd_quant:: ERROR - fsolve does not work -  change x0\n",
      "mevd_quant:: ERROR - fsolve does not work -  change x0\n",
      "mevd_quant:: ERROR - fsolve does not work -  change x0\n",
      "mevd_quant:: ERROR - fsolve does not work -  change x0\n",
      "mevd_quant:: ERROR - fsolve does not work -  change x0\n",
      "mevd_quant:: ERROR - fsolve does not work -  change x0\n",
      "mevd_quant:: ERROR - fsolve does not work -  change x0\n",
      "mevd_quant:: ERROR - fsolve does not work -  change x0\n",
      "mevd_quant:: ERROR - fsolve does not work -  change x0\n",
      "mevd_quant:: ERROR - fsolve does not work -  change x0\n",
      "mevd_quant:: ERROR - fsolve does not work -  change x0\n",
      "mevd_quant:: ERROR - fsolve does not work -  change x0\n",
      "mevd_quant:: ERROR - fsolve does not work -  change x0\n",
      "mevd_quant:: ERROR - fsolve does not work -  change x0\n",
      "mevd_quant:: ERROR - fsolve does not work -  change x0\n",
      "mevd_quant:: ERROR - fsolve does not work -  change x0\n",
      "mevd_quant:: ERROR - fsolve does not work -  change x0\n",
      "mevd_quant:: ERROR - fsolve does not work -  change x0\n",
      "mevd_quant:: ERROR - fsolve does not work -  change x0\n",
      "mevd_quant:: ERROR - fsolve does not work -  change x0\n",
      "mevd_quant:: ERROR - fsolve does not work -  change x0\n",
      "mevd_quant:: ERROR - fsolve does not work -  change x0\n",
      "mevd_quant:: ERROR - fsolve does not work -  change x0\n",
      "mevd_quant:: ERROR - fsolve does not work -  change x0\n",
      "mevd_quant:: ERROR - fsolve does not work -  change x0\n",
      "mevd_quant:: ERROR - fsolve does not work -  change x0\n",
      "mevd_quant:: ERROR - fsolve does not work -  change x0\n",
      "mevd_quant:: ERROR - fsolve does not work -  change x0\n"
     ]
    },
    {
     "name": "stderr",
     "output_type": "stream",
     "text": [
      "/home/arturo/github/downpy/codes/downscale.py:1248: RuntimeWarning: invalid value encountered in power\n",
      "  mev0f = np.sum( ( 1-np.exp(-(y/C)**W ))**N) - nyears*pr\n",
      "/home/arturo/github/downpy/codes/downscale.py:1248: RuntimeWarning: invalid value encountered in power\n",
      "  mev0f = np.sum( ( 1-np.exp(-(y/C)**W ))**N) - nyears*pr\n",
      "/home/arturo/github/downpy/codes/downscale.py:1248: RuntimeWarning: invalid value encountered in power\n",
      "  mev0f = np.sum( ( 1-np.exp(-(y/C)**W ))**N) - nyears*pr\n",
      "/home/arturo/github/downpy/codes/downscale.py:1248: RuntimeWarning: invalid value encountered in power\n",
      "  mev0f = np.sum( ( 1-np.exp(-(y/C)**W ))**N) - nyears*pr\n",
      "/home/arturo/github/downpy/codes/downscale.py:1248: RuntimeWarning: invalid value encountered in power\n",
      "  mev0f = np.sum( ( 1-np.exp(-(y/C)**W ))**N) - nyears*pr\n",
      "/home/arturo/github/downpy/codes/downscale.py:1248: RuntimeWarning: invalid value encountered in power\n",
      "  mev0f = np.sum( ( 1-np.exp(-(y/C)**W ))**N) - nyears*pr\n",
      "/home/arturo/github/downpy/codes/downscale.py:1248: RuntimeWarning: invalid value encountered in power\n",
      "  mev0f = np.sum( ( 1-np.exp(-(y/C)**W ))**N) - nyears*pr\n",
      "/home/arturo/github/downpy/codes/downscale.py:1248: RuntimeWarning: invalid value encountered in power\n",
      "  mev0f = np.sum( ( 1-np.exp(-(y/C)**W ))**N) - nyears*pr\n",
      "/home/arturo/github/downpy/codes/downscale.py:1248: RuntimeWarning: invalid value encountered in power\n",
      "  mev0f = np.sum( ( 1-np.exp(-(y/C)**W ))**N) - nyears*pr\n",
      "/home/arturo/github/downpy/codes/downscale.py:1248: RuntimeWarning: invalid value encountered in power\n",
      "  mev0f = np.sum( ( 1-np.exp(-(y/C)**W ))**N) - nyears*pr\n",
      "/home/arturo/github/downpy/codes/downscale.py:1248: RuntimeWarning: invalid value encountered in power\n",
      "  mev0f = np.sum( ( 1-np.exp(-(y/C)**W ))**N) - nyears*pr\n",
      "/home/arturo/github/downpy/codes/downscale.py:1248: RuntimeWarning: invalid value encountered in power\n",
      "  mev0f = np.sum( ( 1-np.exp(-(y/C)**W ))**N) - nyears*pr\n"
     ]
    },
    {
     "name": "stdout",
     "output_type": "stream",
     "text": [
      "mevd_quant:: ERROR - fsolve does not work -  change x0\n",
      "mevd_quant:: ERROR - fsolve does not work -  change x0\n",
      "mevd_quant:: ERROR - fsolve does not work -  change x0\n",
      "mevd_quant:: ERROR - fsolve does not work -  change x0\n"
     ]
    },
    {
     "name": "stderr",
     "output_type": "stream",
     "text": [
      "/home/arturo/github/downpy/codes/downscale.py:1248: RuntimeWarning: invalid value encountered in power\n",
      "  mev0f = np.sum( ( 1-np.exp(-(y/C)**W ))**N) - nyears*pr\n",
      "/home/arturo/github/downpy/codes/downscale.py:1248: RuntimeWarning: invalid value encountered in power\n",
      "  mev0f = np.sum( ( 1-np.exp(-(y/C)**W ))**N) - nyears*pr\n",
      "/home/arturo/github/downpy/codes/downscale.py:1248: RuntimeWarning: invalid value encountered in power\n",
      "  mev0f = np.sum( ( 1-np.exp(-(y/C)**W ))**N) - nyears*pr\n",
      "/home/arturo/github/downpy/codes/downscale.py:1248: RuntimeWarning: invalid value encountered in power\n",
      "  mev0f = np.sum( ( 1-np.exp(-(y/C)**W ))**N) - nyears*pr\n",
      "/home/arturo/github/downpy/codes/downscale.py:1248: RuntimeWarning: invalid value encountered in power\n",
      "  mev0f = np.sum( ( 1-np.exp(-(y/C)**W ))**N) - nyears*pr\n",
      "/home/arturo/github/downpy/codes/downscale.py:1248: RuntimeWarning: invalid value encountered in power\n",
      "  mev0f = np.sum( ( 1-np.exp(-(y/C)**W ))**N) - nyears*pr\n"
     ]
    },
    {
     "name": "stdout",
     "output_type": "stream",
     "text": [
      "mevd_quant:: ERROR - fsolve does not work -  change x0\n",
      "mevd_quant:: ERROR - fsolve does not work -  change x0\n",
      "mevd_quant:: ERROR - fsolve does not work -  change x0\n",
      "mevd_quant:: ERROR - fsolve does not work -  change x0\n",
      "mevd_quant:: ERROR - fsolve does not work -  change x0\n",
      "mevd_quant:: ERROR - fsolve does not work -  change x0\n",
      "mevd_quant:: ERROR - fsolve does not work -  change x0\n",
      "mevd_quant:: ERROR - fsolve does not work -  change x0\n",
      "mevd_quant:: ERROR - fsolve does not work -  change x0\n",
      "mevd_quant:: ERROR - fsolve does not work -  change x0\n",
      "mevd_quant:: ERROR - fsolve does not work -  change x0\n"
     ]
    },
    {
     "name": "stderr",
     "output_type": "stream",
     "text": [
      "/home/arturo/github/downpy/codes/downscale.py:1248: RuntimeWarning: invalid value encountered in power\n",
      "  mev0f = np.sum( ( 1-np.exp(-(y/C)**W ))**N) - nyears*pr\n",
      "/home/arturo/github/downpy/codes/downscale.py:1248: RuntimeWarning: invalid value encountered in power\n",
      "  mev0f = np.sum( ( 1-np.exp(-(y/C)**W ))**N) - nyears*pr\n",
      "/home/arturo/github/downpy/codes/downscale.py:1248: RuntimeWarning: invalid value encountered in power\n",
      "  mev0f = np.sum( ( 1-np.exp(-(y/C)**W ))**N) - nyears*pr\n"
     ]
    },
    {
     "name": "stdout",
     "output_type": "stream",
     "text": [
      "mevd_quant:: ERROR - fsolve does not work -  change x0\n",
      "mevd_quant:: ERROR - fsolve does not work -  change x0\n",
      "mevd_quant:: ERROR - fsolve does not work -  change x0\n",
      "mevd_quant:: ERROR - fsolve does not work -  change x0\n",
      "mevd_quant:: ERROR - fsolve does not work -  change x0\n",
      "mevd_quant:: ERROR - fsolve does not work -  change x0\n"
     ]
    },
    {
     "name": "stderr",
     "output_type": "stream",
     "text": [
      "/home/arturo/github/downpy/codes/downscale.py:1248: RuntimeWarning: invalid value encountered in power\n",
      "  mev0f = np.sum( ( 1-np.exp(-(y/C)**W ))**N) - nyears*pr\n",
      "/home/arturo/github/downpy/codes/downscale.py:1248: RuntimeWarning: invalid value encountered in power\n",
      "  mev0f = np.sum( ( 1-np.exp(-(y/C)**W ))**N) - nyears*pr\n"
     ]
    },
    {
     "name": "stdout",
     "output_type": "stream",
     "text": [
      "mevd_quant:: ERROR - fsolve does not work -  change x0\n",
      "mevd_quant:: ERROR - fsolve does not work -  change x0\n",
      "mevd_quant:: ERROR - fsolve does not work -  change x0\n",
      "mevd_quant:: ERROR - fsolve does not work -  change x0\n",
      "mevd_quant:: ERROR - fsolve does not work -  change x0\n"
     ]
    },
    {
     "name": "stderr",
     "output_type": "stream",
     "text": [
      "/home/arturo/github/downpy/codes/downscale.py:1248: RuntimeWarning: invalid value encountered in power\n",
      "  mev0f = np.sum( ( 1-np.exp(-(y/C)**W ))**N) - nyears*pr\n",
      "/home/arturo/github/downpy/codes/downscale.py:1248: RuntimeWarning: invalid value encountered in power\n",
      "  mev0f = np.sum( ( 1-np.exp(-(y/C)**W ))**N) - nyears*pr\n",
      "/home/arturo/github/downpy/codes/downscale.py:1248: RuntimeWarning: invalid value encountered in power\n",
      "  mev0f = np.sum( ( 1-np.exp(-(y/C)**W ))**N) - nyears*pr\n"
     ]
    },
    {
     "name": "stdout",
     "output_type": "stream",
     "text": [
      "mevd_quant:: ERROR - fsolve does not work -  change x0\n",
      "mevd_quant:: ERROR - fsolve does not work -  change x0\n",
      "mevd_quant:: ERROR - fsolve does not work -  change x0\n",
      "mevd_quant:: ERROR - fsolve does not work -  change x0\n",
      "62\n"
     ]
    },
    {
     "name": "stderr",
     "output_type": "stream",
     "text": [
      "/home/arturo/github/downpy/codes/downscale.py:1248: RuntimeWarning: invalid value encountered in power\n",
      "  mev0f = np.sum( ( 1-np.exp(-(y/C)**W ))**N) - nyears*pr\n",
      "/home/arturo/github/downpy/codes/downscale.py:1248: RuntimeWarning: invalid value encountered in power\n",
      "  mev0f = np.sum( ( 1-np.exp(-(y/C)**W ))**N) - nyears*pr\n",
      "/home/arturo/github/downpy/codes/downscale.py:1248: RuntimeWarning: invalid value encountered in power\n",
      "  mev0f = np.sum( ( 1-np.exp(-(y/C)**W ))**N) - nyears*pr\n",
      "/home/arturo/github/downpy/codes/downscale.py:1248: RuntimeWarning: invalid value encountered in power\n",
      "  mev0f = np.sum( ( 1-np.exp(-(y/C)**W ))**N) - nyears*pr\n",
      "/home/arturo/github/downpy/codes/downscale.py:1248: RuntimeWarning: invalid value encountered in power\n",
      "  mev0f = np.sum( ( 1-np.exp(-(y/C)**W ))**N) - nyears*pr\n",
      "/home/arturo/github/downpy/codes/downscale.py:1248: RuntimeWarning: invalid value encountered in power\n",
      "  mev0f = np.sum( ( 1-np.exp(-(y/C)**W ))**N) - nyears*pr\n",
      "/home/arturo/github/downpy/codes/downscale.py:1248: RuntimeWarning: invalid value encountered in power\n",
      "  mev0f = np.sum( ( 1-np.exp(-(y/C)**W ))**N) - nyears*pr\n"
     ]
    },
    {
     "name": "stdout",
     "output_type": "stream",
     "text": [
      "mevd_quant:: ERROR - fsolve does not work -  change x0\n",
      "mevd_quant:: ERROR - fsolve does not work -  change x0\n",
      "mevd_quant:: ERROR - fsolve does not work -  change x0\n",
      "mevd_quant:: ERROR - fsolve does not work -  change x0\n",
      "mevd_quant:: ERROR - fsolve does not work -  change x0\n",
      "mevd_quant:: ERROR - fsolve does not work -  change x0\n",
      "mevd_quant:: ERROR - fsolve does not work -  change x0\n",
      "mevd_quant:: ERROR - fsolve does not work -  change x0\n",
      "mevd_quant:: ERROR - fsolve does not work -  change x0\n",
      "mevd_quant:: ERROR - fsolve does not work -  change x0\n",
      "mevd_quant:: ERROR - fsolve does not work -  change x0\n",
      "mevd_quant:: ERROR - fsolve does not work -  change x0\n",
      "mevd_quant:: ERROR - fsolve does not work -  change x0\n",
      "mevd_quant:: ERROR - fsolve does not work -  change x0\n",
      "mevd_quant:: ERROR - fsolve does not work -  change x0\n",
      "mevd_quant:: ERROR - fsolve does not work -  change x0\n",
      "mevd_quant:: ERROR - fsolve does not work -  change x0\n",
      "mevd_quant:: ERROR - fsolve does not work -  change x0\n",
      "mevd_quant:: ERROR - fsolve does not work -  change x0\n",
      "mevd_quant:: ERROR - fsolve does not work -  change x0\n"
     ]
    },
    {
     "name": "stderr",
     "output_type": "stream",
     "text": [
      "/home/arturo/github/downpy/codes/downscale.py:1248: RuntimeWarning: invalid value encountered in power\n",
      "  mev0f = np.sum( ( 1-np.exp(-(y/C)**W ))**N) - nyears*pr\n",
      "/home/arturo/github/downpy/codes/downscale.py:1248: RuntimeWarning: invalid value encountered in power\n",
      "  mev0f = np.sum( ( 1-np.exp(-(y/C)**W ))**N) - nyears*pr\n",
      "/home/arturo/github/downpy/codes/downscale.py:1248: RuntimeWarning: invalid value encountered in power\n",
      "  mev0f = np.sum( ( 1-np.exp(-(y/C)**W ))**N) - nyears*pr\n",
      "/home/arturo/github/downpy/codes/downscale.py:1248: RuntimeWarning: invalid value encountered in power\n",
      "  mev0f = np.sum( ( 1-np.exp(-(y/C)**W ))**N) - nyears*pr\n"
     ]
    },
    {
     "name": "stdout",
     "output_type": "stream",
     "text": [
      "mevd_quant:: ERROR - fsolve does not work -  change x0\n",
      "mevd_quant:: ERROR - fsolve does not work -  change x0\n",
      "mevd_quant:: ERROR - fsolve does not work -  change x0\n",
      "mevd_quant:: ERROR - fsolve does not work -  change x0\n",
      "mevd_quant:: ERROR - fsolve does not work -  change x0\n",
      "mevd_quant:: ERROR - fsolve does not work -  change x0\n",
      "mevd_quant:: ERROR - fsolve does not work -  change x0\n",
      "mevd_quant:: ERROR - fsolve does not work -  change x0\n"
     ]
    },
    {
     "name": "stderr",
     "output_type": "stream",
     "text": [
      "/home/arturo/github/downpy/codes/downscale.py:1248: RuntimeWarning: invalid value encountered in power\n",
      "  mev0f = np.sum( ( 1-np.exp(-(y/C)**W ))**N) - nyears*pr\n",
      "/home/arturo/github/downpy/codes/downscale.py:1248: RuntimeWarning: invalid value encountered in power\n",
      "  mev0f = np.sum( ( 1-np.exp(-(y/C)**W ))**N) - nyears*pr\n",
      "/home/arturo/github/downpy/codes/downscale.py:1248: RuntimeWarning: invalid value encountered in power\n",
      "  mev0f = np.sum( ( 1-np.exp(-(y/C)**W ))**N) - nyears*pr\n",
      "/home/arturo/github/downpy/codes/downscale.py:1248: RuntimeWarning: invalid value encountered in power\n",
      "  mev0f = np.sum( ( 1-np.exp(-(y/C)**W ))**N) - nyears*pr\n"
     ]
    },
    {
     "name": "stdout",
     "output_type": "stream",
     "text": [
      "mevd_quant:: ERROR - fsolve does not work -  change x0\n",
      "mevd_quant:: ERROR - fsolve does not work -  change x0\n",
      "mevd_quant:: ERROR - fsolve does not work -  change x0\n",
      "mevd_quant:: ERROR - fsolve does not work -  change x0\n",
      "mevd_quant:: ERROR - fsolve does not work -  change x0\n",
      "mevd_quant:: ERROR - fsolve does not work -  change x0\n"
     ]
    },
    {
     "name": "stderr",
     "output_type": "stream",
     "text": [
      "/home/arturo/github/downpy/codes/downscale.py:1248: RuntimeWarning: invalid value encountered in power\n",
      "  mev0f = np.sum( ( 1-np.exp(-(y/C)**W ))**N) - nyears*pr\n",
      "/home/arturo/github/downpy/codes/downscale.py:1248: RuntimeWarning: invalid value encountered in power\n",
      "  mev0f = np.sum( ( 1-np.exp(-(y/C)**W ))**N) - nyears*pr\n"
     ]
    },
    {
     "name": "stdout",
     "output_type": "stream",
     "text": [
      "mevd_quant:: ERROR - fsolve does not work -  change x0\n",
      "mevd_quant:: ERROR - fsolve does not work -  change x0\n",
      "mevd_quant:: ERROR - fsolve does not work -  change x0\n",
      "mevd_quant:: ERROR - fsolve does not work -  change x0\n",
      "mevd_quant:: ERROR - fsolve does not work -  change x0\n",
      "mevd_quant:: ERROR - fsolve does not work -  change x0\n"
     ]
    },
    {
     "name": "stderr",
     "output_type": "stream",
     "text": [
      "/home/arturo/github/downpy/codes/downscale.py:1248: RuntimeWarning: invalid value encountered in power\n",
      "  mev0f = np.sum( ( 1-np.exp(-(y/C)**W ))**N) - nyears*pr\n",
      "/home/arturo/github/downpy/codes/downscale.py:1248: RuntimeWarning: invalid value encountered in power\n",
      "  mev0f = np.sum( ( 1-np.exp(-(y/C)**W ))**N) - nyears*pr\n"
     ]
    },
    {
     "name": "stdout",
     "output_type": "stream",
     "text": [
      "mevd_quant:: ERROR - fsolve does not work -  change x0\n",
      "mevd_quant:: ERROR - fsolve does not work -  change x0\n",
      "mevd_quant:: ERROR - fsolve does not work -  change x0\n",
      "mevd_quant:: ERROR - fsolve does not work -  change x0\n",
      "mevd_quant:: ERROR - fsolve does not work -  change x0\n",
      "mevd_quant:: ERROR - fsolve does not work -  change x0\n"
     ]
    },
    {
     "name": "stderr",
     "output_type": "stream",
     "text": [
      "/home/arturo/github/downpy/codes/downscale.py:1248: RuntimeWarning: invalid value encountered in power\n",
      "  mev0f = np.sum( ( 1-np.exp(-(y/C)**W ))**N) - nyears*pr\n",
      "/home/arturo/github/downpy/codes/downscale.py:1248: RuntimeWarning: invalid value encountered in power\n",
      "  mev0f = np.sum( ( 1-np.exp(-(y/C)**W ))**N) - nyears*pr\n",
      "/home/arturo/github/downpy/codes/downscale.py:1248: RuntimeWarning: invalid value encountered in power\n",
      "  mev0f = np.sum( ( 1-np.exp(-(y/C)**W ))**N) - nyears*pr\n"
     ]
    },
    {
     "name": "stdout",
     "output_type": "stream",
     "text": [
      "mevd_quant:: ERROR - fsolve does not work -  change x0\n",
      "mevd_quant:: ERROR - fsolve does not work -  change x0\n",
      "mevd_quant:: ERROR - fsolve does not work -  change x0\n",
      "mevd_quant:: ERROR - fsolve does not work -  change x0\n",
      "63\n",
      "mevd_quant:: ERROR - fsolve does not work -  change x0\n",
      "mevd_quant:: ERROR - fsolve does not work -  change x0\n",
      "mevd_quant:: ERROR - fsolve does not work -  change x0\n",
      "mevd_quant:: ERROR - fsolve does not work -  change x0\n",
      "mevd_quant:: ERROR - fsolve does not work -  change x0\n",
      "mevd_quant:: ERROR - fsolve does not work -  change x0\n",
      "mevd_quant:: ERROR - fsolve does not work -  change x0\n",
      "mevd_quant:: ERROR - fsolve does not work -  change x0\n",
      "mevd_quant:: ERROR - fsolve does not work -  change x0\n",
      "mevd_quant:: ERROR - fsolve does not work -  change x0\n",
      "mevd_quant:: ERROR - fsolve does not work -  change x0\n",
      "mevd_quant:: ERROR - fsolve does not work -  change x0\n",
      "mevd_quant:: ERROR - fsolve does not work -  change x0\n",
      "mevd_quant:: ERROR - fsolve does not work -  change x0\n",
      "mevd_quant:: ERROR - fsolve does not work -  change x0\n",
      "mevd_quant:: ERROR - fsolve does not work -  change x0\n",
      "mevd_quant:: ERROR - fsolve does not work -  change x0\n",
      "mevd_quant:: ERROR - fsolve does not work -  change x0\n",
      "mevd_quant:: ERROR - fsolve does not work -  change x0\n"
     ]
    },
    {
     "name": "stderr",
     "output_type": "stream",
     "text": [
      "/home/arturo/github/downpy/codes/downscale.py:1248: RuntimeWarning: invalid value encountered in power\n",
      "  mev0f = np.sum( ( 1-np.exp(-(y/C)**W ))**N) - nyears*pr\n",
      "/home/arturo/github/downpy/codes/downscale.py:1248: RuntimeWarning: invalid value encountered in power\n",
      "  mev0f = np.sum( ( 1-np.exp(-(y/C)**W ))**N) - nyears*pr\n",
      "/home/arturo/github/downpy/codes/downscale.py:1248: RuntimeWarning: invalid value encountered in power\n",
      "  mev0f = np.sum( ( 1-np.exp(-(y/C)**W ))**N) - nyears*pr\n",
      "/home/arturo/github/downpy/codes/downscale.py:1248: RuntimeWarning: invalid value encountered in power\n",
      "  mev0f = np.sum( ( 1-np.exp(-(y/C)**W ))**N) - nyears*pr\n",
      "/home/arturo/github/downpy/codes/downscale.py:1248: RuntimeWarning: invalid value encountered in power\n",
      "  mev0f = np.sum( ( 1-np.exp(-(y/C)**W ))**N) - nyears*pr\n",
      "/home/arturo/github/downpy/codes/downscale.py:1248: RuntimeWarning: invalid value encountered in power\n",
      "  mev0f = np.sum( ( 1-np.exp(-(y/C)**W ))**N) - nyears*pr\n",
      "/home/arturo/github/downpy/codes/downscale.py:1248: RuntimeWarning: invalid value encountered in power\n",
      "  mev0f = np.sum( ( 1-np.exp(-(y/C)**W ))**N) - nyears*pr\n",
      "/home/arturo/github/downpy/codes/downscale.py:1248: RuntimeWarning: invalid value encountered in power\n",
      "  mev0f = np.sum( ( 1-np.exp(-(y/C)**W ))**N) - nyears*pr\n"
     ]
    },
    {
     "name": "stdout",
     "output_type": "stream",
     "text": [
      "mevd_quant:: ERROR - fsolve does not work -  change x0\n",
      "mevd_quant:: ERROR - fsolve does not work -  change x0\n",
      "mevd_quant:: ERROR - fsolve does not work -  change x0\n",
      "mevd_quant:: ERROR - fsolve does not work -  change x0\n",
      "mevd_quant:: ERROR - fsolve does not work -  change x0\n",
      "mevd_quant:: ERROR - fsolve does not work -  change x0\n"
     ]
    },
    {
     "name": "stderr",
     "output_type": "stream",
     "text": [
      "/home/arturo/github/downpy/codes/downscale.py:1248: RuntimeWarning: invalid value encountered in power\n",
      "  mev0f = np.sum( ( 1-np.exp(-(y/C)**W ))**N) - nyears*pr\n",
      "/home/arturo/github/downpy/codes/downscale.py:1248: RuntimeWarning: invalid value encountered in power\n",
      "  mev0f = np.sum( ( 1-np.exp(-(y/C)**W ))**N) - nyears*pr\n",
      "/home/arturo/github/downpy/codes/downscale.py:1248: RuntimeWarning: invalid value encountered in power\n",
      "  mev0f = np.sum( ( 1-np.exp(-(y/C)**W ))**N) - nyears*pr\n",
      "/home/arturo/github/downpy/codes/downscale.py:1248: RuntimeWarning: invalid value encountered in power\n",
      "  mev0f = np.sum( ( 1-np.exp(-(y/C)**W ))**N) - nyears*pr\n",
      "/home/arturo/github/downpy/codes/downscale.py:1248: RuntimeWarning: invalid value encountered in power\n",
      "  mev0f = np.sum( ( 1-np.exp(-(y/C)**W ))**N) - nyears*pr\n",
      "/home/arturo/github/downpy/codes/downscale.py:1248: RuntimeWarning: invalid value encountered in power\n",
      "  mev0f = np.sum( ( 1-np.exp(-(y/C)**W ))**N) - nyears*pr\n"
     ]
    },
    {
     "name": "stdout",
     "output_type": "stream",
     "text": [
      "mevd_quant:: ERROR - fsolve does not work -  change x0\n",
      "mevd_quant:: ERROR - fsolve does not work -  change x0\n",
      "mevd_quant:: ERROR - fsolve does not work -  change x0\n",
      "mevd_quant:: ERROR - fsolve does not work -  change x0\n",
      "mevd_quant:: ERROR - fsolve does not work -  change x0\n",
      "mevd_quant:: ERROR - fsolve does not work -  change x0\n",
      "mevd_quant:: ERROR - fsolve does not work -  change x0\n",
      "mevd_quant:: ERROR - fsolve does not work -  change x0\n",
      "mevd_quant:: ERROR - fsolve does not work -  change x0\n",
      "mevd_quant:: ERROR - fsolve does not work -  change x0\n",
      "mevd_quant:: ERROR - fsolve does not work -  change x0\n",
      "mevd_quant:: ERROR - fsolve does not work -  change x0\n",
      "mevd_quant:: ERROR - fsolve does not work -  change x0\n"
     ]
    },
    {
     "name": "stderr",
     "output_type": "stream",
     "text": [
      "/home/arturo/github/downpy/codes/downscale.py:1248: RuntimeWarning: invalid value encountered in power\n",
      "  mev0f = np.sum( ( 1-np.exp(-(y/C)**W ))**N) - nyears*pr\n",
      "/home/arturo/github/downpy/codes/downscale.py:1248: RuntimeWarning: invalid value encountered in power\n",
      "  mev0f = np.sum( ( 1-np.exp(-(y/C)**W ))**N) - nyears*pr\n",
      "/home/arturo/github/downpy/codes/downscale.py:1248: RuntimeWarning: invalid value encountered in power\n",
      "  mev0f = np.sum( ( 1-np.exp(-(y/C)**W ))**N) - nyears*pr\n"
     ]
    },
    {
     "name": "stdout",
     "output_type": "stream",
     "text": [
      "mevd_quant:: ERROR - fsolve does not work -  change x0\n",
      "mevd_quant:: ERROR - fsolve does not work -  change x0\n",
      "mevd_quant:: ERROR - fsolve does not work -  change x0\n",
      "mevd_quant:: ERROR - fsolve does not work -  change x0\n",
      "mevd_quant:: ERROR - fsolve does not work -  change x0\n",
      "mevd_quant:: ERROR - fsolve does not work -  change x0\n"
     ]
    },
    {
     "name": "stderr",
     "output_type": "stream",
     "text": [
      "/home/arturo/github/downpy/codes/downscale.py:1248: RuntimeWarning: invalid value encountered in power\n",
      "  mev0f = np.sum( ( 1-np.exp(-(y/C)**W ))**N) - nyears*pr\n",
      "/home/arturo/github/downpy/codes/downscale.py:1248: RuntimeWarning: invalid value encountered in power\n",
      "  mev0f = np.sum( ( 1-np.exp(-(y/C)**W ))**N) - nyears*pr\n",
      "/home/arturo/github/downpy/codes/downscale.py:1248: RuntimeWarning: invalid value encountered in power\n",
      "  mev0f = np.sum( ( 1-np.exp(-(y/C)**W ))**N) - nyears*pr\n"
     ]
    },
    {
     "name": "stdout",
     "output_type": "stream",
     "text": [
      "mevd_quant:: ERROR - fsolve does not work -  change x0\n",
      "mevd_quant:: ERROR - fsolve does not work -  change x0\n",
      "mevd_quant:: ERROR - fsolve does not work -  change x0\n",
      "mevd_quant:: ERROR - fsolve does not work -  change x0\n"
     ]
    },
    {
     "name": "stderr",
     "output_type": "stream",
     "text": [
      "/home/arturo/github/downpy/codes/downscale.py:1248: RuntimeWarning: invalid value encountered in power\n",
      "  mev0f = np.sum( ( 1-np.exp(-(y/C)**W ))**N) - nyears*pr\n",
      "/home/arturo/github/downpy/codes/downscale.py:1248: RuntimeWarning: invalid value encountered in power\n",
      "  mev0f = np.sum( ( 1-np.exp(-(y/C)**W ))**N) - nyears*pr\n",
      "/home/arturo/github/downpy/codes/downscale.py:1248: RuntimeWarning: invalid value encountered in power\n",
      "  mev0f = np.sum( ( 1-np.exp(-(y/C)**W ))**N) - nyears*pr\n",
      "/home/arturo/github/downpy/codes/downscale.py:1248: RuntimeWarning: invalid value encountered in power\n",
      "  mev0f = np.sum( ( 1-np.exp(-(y/C)**W ))**N) - nyears*pr\n",
      "/home/arturo/github/downpy/codes/downscale.py:1248: RuntimeWarning: invalid value encountered in power\n",
      "  mev0f = np.sum( ( 1-np.exp(-(y/C)**W ))**N) - nyears*pr\n",
      "/home/arturo/github/downpy/codes/downscale.py:1248: RuntimeWarning: invalid value encountered in power\n",
      "  mev0f = np.sum( ( 1-np.exp(-(y/C)**W ))**N) - nyears*pr\n",
      "/home/arturo/github/downpy/codes/downscale.py:1248: RuntimeWarning: invalid value encountered in power\n",
      "  mev0f = np.sum( ( 1-np.exp(-(y/C)**W ))**N) - nyears*pr\n"
     ]
    },
    {
     "name": "stdout",
     "output_type": "stream",
     "text": [
      "mevd_quant:: ERROR - fsolve does not work -  change x0\n",
      "mevd_quant:: ERROR - fsolve does not work -  change x0\n",
      "mevd_quant:: ERROR - fsolve does not work -  change x0\n",
      "mevd_quant:: ERROR - fsolve does not work -  change x0\n",
      "mevd_quant:: ERROR - fsolve does not work -  change x0\n",
      "64\n",
      "mevd_quant:: ERROR - fsolve does not work -  change x0\n",
      "mevd_quant:: ERROR - fsolve does not work -  change x0\n",
      "mevd_quant:: ERROR - fsolve does not work -  change x0\n",
      "mevd_quant:: ERROR - fsolve does not work -  change x0\n",
      "mevd_quant:: ERROR - fsolve does not work -  change x0\n",
      "mevd_quant:: ERROR - fsolve does not work -  change x0\n",
      "mevd_quant:: ERROR - fsolve does not work -  change x0\n",
      "mevd_quant:: ERROR - fsolve does not work -  change x0\n",
      "mevd_quant:: ERROR - fsolve does not work -  change x0\n",
      "mevd_quant:: ERROR - fsolve does not work -  change x0\n",
      "mevd_quant:: ERROR - fsolve does not work -  change x0\n",
      "mevd_quant:: ERROR - fsolve does not work -  change x0\n",
      "mevd_quant:: ERROR - fsolve does not work -  change x0\n",
      "mevd_quant:: ERROR - fsolve does not work -  change x0\n",
      "mevd_quant:: ERROR - fsolve does not work -  change x0\n",
      "mevd_quant:: ERROR - fsolve does not work -  change x0\n",
      "mevd_quant:: ERROR - fsolve does not work -  change x0\n",
      "mevd_quant:: ERROR - fsolve does not work -  change x0\n"
     ]
    },
    {
     "name": "stderr",
     "output_type": "stream",
     "text": [
      "/home/arturo/github/downpy/codes/downscale.py:1248: RuntimeWarning: invalid value encountered in power\n",
      "  mev0f = np.sum( ( 1-np.exp(-(y/C)**W ))**N) - nyears*pr\n",
      "/home/arturo/github/downpy/codes/downscale.py:1248: RuntimeWarning: invalid value encountered in power\n",
      "  mev0f = np.sum( ( 1-np.exp(-(y/C)**W ))**N) - nyears*pr\n",
      "/home/arturo/github/downpy/codes/downscale.py:1248: RuntimeWarning: invalid value encountered in power\n",
      "  mev0f = np.sum( ( 1-np.exp(-(y/C)**W ))**N) - nyears*pr\n",
      "/home/arturo/github/downpy/codes/downscale.py:1248: RuntimeWarning: invalid value encountered in power\n",
      "  mev0f = np.sum( ( 1-np.exp(-(y/C)**W ))**N) - nyears*pr\n"
     ]
    },
    {
     "name": "stdout",
     "output_type": "stream",
     "text": [
      "mevd_quant:: ERROR - fsolve does not work -  change x0\n",
      "mevd_quant:: ERROR - fsolve does not work -  change x0\n",
      "mevd_quant:: ERROR - fsolve does not work -  change x0\n",
      "mevd_quant:: ERROR - fsolve does not work -  change x0\n",
      "mevd_quant:: ERROR - fsolve does not work -  change x0\n",
      "mevd_quant:: ERROR - fsolve does not work -  change x0\n",
      "mevd_quant:: ERROR - fsolve does not work -  change x0\n",
      "mevd_quant:: ERROR - fsolve does not work -  change x0\n"
     ]
    },
    {
     "name": "stderr",
     "output_type": "stream",
     "text": [
      "/home/arturo/github/downpy/codes/downscale.py:1248: RuntimeWarning: invalid value encountered in power\n",
      "  mev0f = np.sum( ( 1-np.exp(-(y/C)**W ))**N) - nyears*pr\n",
      "/home/arturo/github/downpy/codes/downscale.py:1248: RuntimeWarning: invalid value encountered in power\n",
      "  mev0f = np.sum( ( 1-np.exp(-(y/C)**W ))**N) - nyears*pr\n",
      "/home/arturo/github/downpy/codes/downscale.py:1248: RuntimeWarning: invalid value encountered in power\n",
      "  mev0f = np.sum( ( 1-np.exp(-(y/C)**W ))**N) - nyears*pr\n",
      "/home/arturo/github/downpy/codes/downscale.py:1248: RuntimeWarning: invalid value encountered in power\n",
      "  mev0f = np.sum( ( 1-np.exp(-(y/C)**W ))**N) - nyears*pr\n"
     ]
    },
    {
     "name": "stdout",
     "output_type": "stream",
     "text": [
      "mevd_quant:: ERROR - fsolve does not work -  change x0\n",
      "mevd_quant:: ERROR - fsolve does not work -  change x0\n",
      "mevd_quant:: ERROR - fsolve does not work -  change x0\n",
      "mevd_quant:: ERROR - fsolve does not work -  change x0\n",
      "mevd_quant:: ERROR - fsolve does not work -  change x0\n",
      "mevd_quant:: ERROR - fsolve does not work -  change x0\n",
      "mevd_quant:: ERROR - fsolve does not work -  change x0\n",
      "mevd_quant:: ERROR - fsolve does not work -  change x0\n",
      "mevd_quant:: ERROR - fsolve does not work -  change x0\n",
      "mevd_quant:: ERROR - fsolve does not work -  change x0\n",
      "mevd_quant:: ERROR - fsolve does not work -  change x0\n",
      "mevd_quant:: ERROR - fsolve does not work -  change x0\n"
     ]
    },
    {
     "name": "stderr",
     "output_type": "stream",
     "text": [
      "/home/arturo/github/downpy/codes/downscale.py:1248: RuntimeWarning: invalid value encountered in power\n",
      "  mev0f = np.sum( ( 1-np.exp(-(y/C)**W ))**N) - nyears*pr\n",
      "/home/arturo/github/downpy/codes/downscale.py:1248: RuntimeWarning: invalid value encountered in power\n",
      "  mev0f = np.sum( ( 1-np.exp(-(y/C)**W ))**N) - nyears*pr\n",
      "/home/arturo/github/downpy/codes/downscale.py:1248: RuntimeWarning: invalid value encountered in power\n",
      "  mev0f = np.sum( ( 1-np.exp(-(y/C)**W ))**N) - nyears*pr\n",
      "/home/arturo/github/downpy/codes/downscale.py:1248: RuntimeWarning: invalid value encountered in power\n",
      "  mev0f = np.sum( ( 1-np.exp(-(y/C)**W ))**N) - nyears*pr\n",
      "/home/arturo/github/downpy/codes/downscale.py:1248: RuntimeWarning: invalid value encountered in power\n",
      "  mev0f = np.sum( ( 1-np.exp(-(y/C)**W ))**N) - nyears*pr\n",
      "/home/arturo/github/downpy/codes/downscale.py:1248: RuntimeWarning: invalid value encountered in power\n",
      "  mev0f = np.sum( ( 1-np.exp(-(y/C)**W ))**N) - nyears*pr\n",
      "/home/arturo/github/downpy/codes/downscale.py:1248: RuntimeWarning: invalid value encountered in power\n",
      "  mev0f = np.sum( ( 1-np.exp(-(y/C)**W ))**N) - nyears*pr\n"
     ]
    },
    {
     "name": "stdout",
     "output_type": "stream",
     "text": [
      "mevd_quant:: ERROR - fsolve does not work -  change x0\n",
      "mevd_quant:: ERROR - fsolve does not work -  change x0\n",
      "mevd_quant:: ERROR - fsolve does not work -  change x0\n",
      "mevd_quant:: ERROR - fsolve does not work -  change x0\n",
      "mevd_quant:: ERROR - fsolve does not work -  change x0\n",
      "mevd_quant:: ERROR - fsolve does not work -  change x0\n",
      "mevd_quant:: ERROR - fsolve does not work -  change x0\n",
      "mevd_quant:: ERROR - fsolve does not work -  change x0\n",
      "mevd_quant:: ERROR - fsolve does not work -  change x0\n",
      "mevd_quant:: ERROR - fsolve does not work -  change x0\n",
      "mevd_quant:: ERROR - fsolve does not work -  change x0\n",
      "mevd_quant:: ERROR - fsolve does not work -  change x0\n",
      "mevd_quant:: ERROR - fsolve does not work -  change x0\n",
      "mevd_quant:: ERROR - fsolve does not work -  change x0\n",
      "mevd_quant:: ERROR - fsolve does not work -  change x0\n",
      "mevd_quant:: ERROR - fsolve does not work -  change x0\n",
      "mevd_quant:: ERROR - fsolve does not work -  change x0\n",
      "mevd_quant:: ERROR - fsolve does not work -  change x0\n"
     ]
    },
    {
     "name": "stderr",
     "output_type": "stream",
     "text": [
      "/home/arturo/github/downpy/codes/downscale.py:1248: RuntimeWarning: invalid value encountered in power\n",
      "  mev0f = np.sum( ( 1-np.exp(-(y/C)**W ))**N) - nyears*pr\n",
      "/home/arturo/github/downpy/codes/downscale.py:1248: RuntimeWarning: invalid value encountered in power\n",
      "  mev0f = np.sum( ( 1-np.exp(-(y/C)**W ))**N) - nyears*pr\n",
      "/home/arturo/github/downpy/codes/downscale.py:1248: RuntimeWarning: invalid value encountered in power\n",
      "  mev0f = np.sum( ( 1-np.exp(-(y/C)**W ))**N) - nyears*pr\n"
     ]
    },
    {
     "name": "stdout",
     "output_type": "stream",
     "text": [
      "mevd_quant:: ERROR - fsolve does not work -  change x0\n",
      "mevd_quant:: ERROR - fsolve does not work -  change x0\n",
      "mevd_quant:: ERROR - fsolve does not work -  change x0\n",
      "mevd_quant:: ERROR - fsolve does not work -  change x0\n",
      "mevd_quant:: ERROR - fsolve does not work -  change x0\n",
      "mevd_quant:: ERROR - fsolve does not work -  change x0\n"
     ]
    },
    {
     "name": "stderr",
     "output_type": "stream",
     "text": [
      "/home/arturo/github/downpy/codes/downscale.py:1248: RuntimeWarning: invalid value encountered in power\n",
      "  mev0f = np.sum( ( 1-np.exp(-(y/C)**W ))**N) - nyears*pr\n",
      "/home/arturo/github/downpy/codes/downscale.py:1248: RuntimeWarning: invalid value encountered in power\n",
      "  mev0f = np.sum( ( 1-np.exp(-(y/C)**W ))**N) - nyears*pr\n"
     ]
    },
    {
     "name": "stdout",
     "output_type": "stream",
     "text": [
      "mevd_quant:: ERROR - fsolve does not work -  change x0\n",
      "mevd_quant:: ERROR - fsolve does not work -  change x0\n",
      "mevd_quant:: ERROR - fsolve does not work -  change x0\n",
      "mevd_quant:: ERROR - fsolve does not work -  change x0\n",
      "mevd_quant:: ERROR - fsolve does not work -  change x0\n",
      "mevd_quant:: ERROR - fsolve does not work -  change x0\n"
     ]
    },
    {
     "name": "stderr",
     "output_type": "stream",
     "text": [
      "/home/arturo/github/downpy/codes/downscale.py:1248: RuntimeWarning: invalid value encountered in power\n",
      "  mev0f = np.sum( ( 1-np.exp(-(y/C)**W ))**N) - nyears*pr\n",
      "/home/arturo/github/downpy/codes/downscale.py:1248: RuntimeWarning: invalid value encountered in power\n",
      "  mev0f = np.sum( ( 1-np.exp(-(y/C)**W ))**N) - nyears*pr\n",
      "/home/arturo/github/downpy/codes/downscale.py:1248: RuntimeWarning: invalid value encountered in power\n",
      "  mev0f = np.sum( ( 1-np.exp(-(y/C)**W ))**N) - nyears*pr\n",
      "/home/arturo/github/downpy/codes/downscale.py:1248: RuntimeWarning: invalid value encountered in power\n",
      "  mev0f = np.sum( ( 1-np.exp(-(y/C)**W ))**N) - nyears*pr\n"
     ]
    },
    {
     "name": "stdout",
     "output_type": "stream",
     "text": [
      "mevd_quant:: ERROR - fsolve does not work -  change x0\n",
      "mevd_quant:: ERROR - fsolve does not work -  change x0\n",
      "mevd_quant:: ERROR - fsolve does not work -  change x0\n",
      "65\n",
      "mevd_quant:: ERROR - fsolve does not work -  change x0\n",
      "mevd_quant:: ERROR - fsolve does not work -  change x0\n",
      "mevd_quant:: ERROR - fsolve does not work -  change x0\n",
      "mevd_quant:: ERROR - fsolve does not work -  change x0\n",
      "mevd_quant:: ERROR - fsolve does not work -  change x0\n"
     ]
    },
    {
     "name": "stderr",
     "output_type": "stream",
     "text": [
      "/home/arturo/github/downpy/codes/downscale.py:1248: RuntimeWarning: invalid value encountered in power\n",
      "  mev0f = np.sum( ( 1-np.exp(-(y/C)**W ))**N) - nyears*pr\n",
      "/home/arturo/github/downpy/codes/downscale.py:1248: RuntimeWarning: invalid value encountered in power\n",
      "  mev0f = np.sum( ( 1-np.exp(-(y/C)**W ))**N) - nyears*pr\n",
      "/home/arturo/github/downpy/codes/downscale.py:1248: RuntimeWarning: invalid value encountered in power\n",
      "  mev0f = np.sum( ( 1-np.exp(-(y/C)**W ))**N) - nyears*pr\n",
      "/home/arturo/github/downpy/codes/downscale.py:1248: RuntimeWarning: invalid value encountered in power\n",
      "  mev0f = np.sum( ( 1-np.exp(-(y/C)**W ))**N) - nyears*pr\n",
      "/home/arturo/github/downpy/codes/downscale.py:1248: RuntimeWarning: invalid value encountered in power\n",
      "  mev0f = np.sum( ( 1-np.exp(-(y/C)**W ))**N) - nyears*pr\n",
      "/home/arturo/github/downpy/codes/downscale.py:1248: RuntimeWarning: invalid value encountered in power\n",
      "  mev0f = np.sum( ( 1-np.exp(-(y/C)**W ))**N) - nyears*pr\n",
      "/home/arturo/github/downpy/codes/downscale.py:1248: RuntimeWarning: invalid value encountered in power\n",
      "  mev0f = np.sum( ( 1-np.exp(-(y/C)**W ))**N) - nyears*pr\n",
      "/home/arturo/github/downpy/codes/downscale.py:1248: RuntimeWarning: invalid value encountered in power\n",
      "  mev0f = np.sum( ( 1-np.exp(-(y/C)**W ))**N) - nyears*pr\n",
      "/home/arturo/github/downpy/codes/downscale.py:1248: RuntimeWarning: invalid value encountered in power\n",
      "  mev0f = np.sum( ( 1-np.exp(-(y/C)**W ))**N) - nyears*pr\n",
      "/home/arturo/github/downpy/codes/downscale.py:1248: RuntimeWarning: invalid value encountered in power\n",
      "  mev0f = np.sum( ( 1-np.exp(-(y/C)**W ))**N) - nyears*pr\n",
      "/home/arturo/github/downpy/codes/downscale.py:1248: RuntimeWarning: invalid value encountered in power\n",
      "  mev0f = np.sum( ( 1-np.exp(-(y/C)**W ))**N) - nyears*pr\n"
     ]
    },
    {
     "name": "stdout",
     "output_type": "stream",
     "text": [
      "mevd_quant:: ERROR - fsolve does not work -  change x0\n",
      "mevd_quant:: ERROR - fsolve does not work -  change x0\n",
      "mevd_quant:: ERROR - fsolve does not work -  change x0\n",
      "mevd_quant:: ERROR - fsolve does not work -  change x0\n",
      "mevd_quant:: ERROR - fsolve does not work -  change x0\n",
      "mevd_quant:: ERROR - fsolve does not work -  change x0\n",
      "mevd_quant:: ERROR - fsolve does not work -  change x0\n",
      "mevd_quant:: ERROR - fsolve does not work -  change x0\n",
      "mevd_quant:: ERROR - fsolve does not work -  change x0\n",
      "mevd_quant:: ERROR - fsolve does not work -  change x0\n",
      "mevd_quant:: ERROR - fsolve does not work -  change x0\n",
      "mevd_quant:: ERROR - fsolve does not work -  change x0\n",
      "mevd_quant:: ERROR - fsolve does not work -  change x0\n",
      "mevd_quant:: ERROR - fsolve does not work -  change x0\n",
      "mevd_quant:: ERROR - fsolve does not work -  change x0\n",
      "mevd_quant:: ERROR - fsolve does not work -  change x0\n",
      "mevd_quant:: ERROR - fsolve does not work -  change x0\n",
      "mevd_quant:: ERROR - fsolve does not work -  change x0\n",
      "mevd_quant:: ERROR - fsolve does not work -  change x0\n",
      "mevd_quant:: ERROR - fsolve does not work -  change x0\n",
      "mevd_quant:: ERROR - fsolve does not work -  change x0\n",
      "mevd_quant:: ERROR - fsolve does not work -  change x0\n",
      "mevd_quant:: ERROR - fsolve does not work -  change x0\n",
      "mevd_quant:: ERROR - fsolve does not work -  change x0\n",
      "mevd_quant:: ERROR - fsolve does not work -  change x0\n",
      "mevd_quant:: ERROR - fsolve does not work -  change x0\n",
      "mevd_quant:: ERROR - fsolve does not work -  change x0\n",
      "mevd_quant:: ERROR - fsolve does not work -  change x0\n",
      "mevd_quant:: ERROR - fsolve does not work -  change x0\n",
      "mevd_quant:: ERROR - fsolve does not work -  change x0\n",
      "mevd_quant:: ERROR - fsolve does not work -  change x0\n",
      "mevd_quant:: ERROR - fsolve does not work -  change x0\n",
      "mevd_quant:: ERROR - fsolve does not work -  change x0\n",
      "mevd_quant:: ERROR - fsolve does not work -  change x0\n"
     ]
    },
    {
     "name": "stderr",
     "output_type": "stream",
     "text": [
      "/home/arturo/github/downpy/codes/downscale.py:1248: RuntimeWarning: invalid value encountered in power\n",
      "  mev0f = np.sum( ( 1-np.exp(-(y/C)**W ))**N) - nyears*pr\n",
      "/home/arturo/github/downpy/codes/downscale.py:1248: RuntimeWarning: invalid value encountered in power\n",
      "  mev0f = np.sum( ( 1-np.exp(-(y/C)**W ))**N) - nyears*pr\n",
      "/home/arturo/github/downpy/codes/downscale.py:1248: RuntimeWarning: invalid value encountered in power\n",
      "  mev0f = np.sum( ( 1-np.exp(-(y/C)**W ))**N) - nyears*pr\n",
      "/home/arturo/github/downpy/codes/downscale.py:1248: RuntimeWarning: invalid value encountered in power\n",
      "  mev0f = np.sum( ( 1-np.exp(-(y/C)**W ))**N) - nyears*pr\n",
      "/home/arturo/github/downpy/codes/downscale.py:1248: RuntimeWarning: invalid value encountered in power\n",
      "  mev0f = np.sum( ( 1-np.exp(-(y/C)**W ))**N) - nyears*pr\n"
     ]
    },
    {
     "name": "stdout",
     "output_type": "stream",
     "text": [
      "mevd_quant:: ERROR - fsolve does not work -  change x0\n",
      "mevd_quant:: ERROR - fsolve does not work -  change x0\n",
      "mevd_quant:: ERROR - fsolve does not work -  change x0\n",
      "mevd_quant:: ERROR - fsolve does not work -  change x0\n",
      "mevd_quant:: ERROR - fsolve does not work -  change x0\n",
      "mevd_quant:: ERROR - fsolve does not work -  change x0\n",
      "mevd_quant:: ERROR - fsolve does not work -  change x0\n",
      "mevd_quant:: ERROR - fsolve does not work -  change x0\n",
      "mevd_quant:: ERROR - fsolve does not work -  change x0\n",
      "mevd_quant:: ERROR - fsolve does not work -  change x0\n",
      "mevd_quant:: ERROR - fsolve does not work -  change x0\n",
      "mevd_quant:: ERROR - fsolve does not work -  change x0\n",
      "mevd_quant:: ERROR - fsolve does not work -  change x0\n"
     ]
    },
    {
     "name": "stderr",
     "output_type": "stream",
     "text": [
      "/home/arturo/github/downpy/codes/downscale.py:1248: RuntimeWarning: invalid value encountered in power\n",
      "  mev0f = np.sum( ( 1-np.exp(-(y/C)**W ))**N) - nyears*pr\n",
      "/home/arturo/github/downpy/codes/downscale.py:1248: RuntimeWarning: invalid value encountered in power\n",
      "  mev0f = np.sum( ( 1-np.exp(-(y/C)**W ))**N) - nyears*pr\n",
      "/home/arturo/github/downpy/codes/downscale.py:1248: RuntimeWarning: invalid value encountered in power\n",
      "  mev0f = np.sum( ( 1-np.exp(-(y/C)**W ))**N) - nyears*pr\n",
      "/home/arturo/github/downpy/codes/downscale.py:1248: RuntimeWarning: invalid value encountered in power\n",
      "  mev0f = np.sum( ( 1-np.exp(-(y/C)**W ))**N) - nyears*pr\n",
      "/home/arturo/github/downpy/codes/downscale.py:1248: RuntimeWarning: invalid value encountered in power\n",
      "  mev0f = np.sum( ( 1-np.exp(-(y/C)**W ))**N) - nyears*pr\n"
     ]
    },
    {
     "name": "stdout",
     "output_type": "stream",
     "text": [
      "mevd_quant:: ERROR - fsolve does not work -  change x0\n",
      "mevd_quant:: ERROR - fsolve does not work -  change x0\n",
      "mevd_quant:: ERROR - fsolve does not work -  change x0\n",
      "mevd_quant:: ERROR - fsolve does not work -  change x0\n",
      "mevd_quant:: ERROR - fsolve does not work -  change x0\n",
      "mevd_quant:: ERROR - fsolve does not work -  change x0\n",
      "mevd_quant:: ERROR - fsolve does not work -  change x0\n",
      "mevd_quant:: ERROR - fsolve does not work -  change x0\n",
      "mevd_quant:: ERROR - fsolve does not work -  change x0\n",
      "mevd_quant:: ERROR - fsolve does not work -  change x0\n",
      "mevd_quant:: ERROR - fsolve does not work -  change x0\n",
      "mevd_quant:: ERROR - fsolve does not work -  change x0\n",
      "mevd_quant:: ERROR - fsolve does not work -  change x0\n"
     ]
    },
    {
     "name": "stderr",
     "output_type": "stream",
     "text": [
      "/home/arturo/github/downpy/codes/downscale.py:1248: RuntimeWarning: invalid value encountered in power\n",
      "  mev0f = np.sum( ( 1-np.exp(-(y/C)**W ))**N) - nyears*pr\n",
      "/home/arturo/github/downpy/codes/downscale.py:1248: RuntimeWarning: invalid value encountered in power\n",
      "  mev0f = np.sum( ( 1-np.exp(-(y/C)**W ))**N) - nyears*pr\n",
      "/home/arturo/github/downpy/codes/downscale.py:1248: RuntimeWarning: invalid value encountered in power\n",
      "  mev0f = np.sum( ( 1-np.exp(-(y/C)**W ))**N) - nyears*pr\n"
     ]
    },
    {
     "name": "stdout",
     "output_type": "stream",
     "text": [
      "mevd_quant:: ERROR - fsolve does not work -  change x0\n",
      "mevd_quant:: ERROR - fsolve does not work -  change x0\n",
      "mevd_quant:: ERROR - fsolve does not work -  change x0\n",
      "mevd_quant:: ERROR - fsolve does not work -  change x0\n",
      "66\n",
      "mevd_quant:: ERROR - fsolve does not work -  change x0\n",
      "mevd_quant:: ERROR - fsolve does not work -  change x0\n",
      "mevd_quant:: ERROR - fsolve does not work -  change x0\n",
      "mevd_quant:: ERROR - fsolve does not work -  change x0\n",
      "mevd_quant:: ERROR - fsolve does not work -  change x0\n",
      "mevd_quant:: ERROR - fsolve does not work -  change x0\n",
      "mevd_quant:: ERROR - fsolve does not work -  change x0\n",
      "mevd_quant:: ERROR - fsolve does not work -  change x0\n",
      "mevd_quant:: ERROR - fsolve does not work -  change x0\n",
      "mevd_quant:: ERROR - fsolve does not work -  change x0\n",
      "mevd_quant:: ERROR - fsolve does not work -  change x0\n",
      "mevd_quant:: ERROR - fsolve does not work -  change x0\n",
      "mevd_quant:: ERROR - fsolve does not work -  change x0\n",
      "mevd_quant:: ERROR - fsolve does not work -  change x0\n",
      "mevd_quant:: ERROR - fsolve does not work -  change x0\n",
      "mevd_quant:: ERROR - fsolve does not work -  change x0\n",
      "mevd_quant:: ERROR - fsolve does not work -  change x0\n",
      "mevd_quant:: ERROR - fsolve does not work -  change x0\n"
     ]
    },
    {
     "name": "stderr",
     "output_type": "stream",
     "text": [
      "/home/arturo/github/downpy/codes/downscale.py:1248: RuntimeWarning: invalid value encountered in power\n",
      "  mev0f = np.sum( ( 1-np.exp(-(y/C)**W ))**N) - nyears*pr\n",
      "/home/arturo/github/downpy/codes/downscale.py:1248: RuntimeWarning: invalid value encountered in power\n",
      "  mev0f = np.sum( ( 1-np.exp(-(y/C)**W ))**N) - nyears*pr\n",
      "/home/arturo/github/downpy/codes/downscale.py:1248: RuntimeWarning: invalid value encountered in power\n",
      "  mev0f = np.sum( ( 1-np.exp(-(y/C)**W ))**N) - nyears*pr\n",
      "/home/arturo/github/downpy/codes/downscale.py:1248: RuntimeWarning: invalid value encountered in power\n",
      "  mev0f = np.sum( ( 1-np.exp(-(y/C)**W ))**N) - nyears*pr\n",
      "/home/arturo/github/downpy/codes/downscale.py:1248: RuntimeWarning: invalid value encountered in power\n",
      "  mev0f = np.sum( ( 1-np.exp(-(y/C)**W ))**N) - nyears*pr\n",
      "/home/arturo/github/downpy/codes/downscale.py:1248: RuntimeWarning: invalid value encountered in power\n",
      "  mev0f = np.sum( ( 1-np.exp(-(y/C)**W ))**N) - nyears*pr\n",
      "/home/arturo/github/downpy/codes/downscale.py:1248: RuntimeWarning: invalid value encountered in power\n",
      "  mev0f = np.sum( ( 1-np.exp(-(y/C)**W ))**N) - nyears*pr\n",
      "/home/arturo/github/downpy/codes/downscale.py:1248: RuntimeWarning: invalid value encountered in power\n",
      "  mev0f = np.sum( ( 1-np.exp(-(y/C)**W ))**N) - nyears*pr\n",
      "/home/arturo/github/downpy/codes/downscale.py:1248: RuntimeWarning: invalid value encountered in power\n",
      "  mev0f = np.sum( ( 1-np.exp(-(y/C)**W ))**N) - nyears*pr\n"
     ]
    },
    {
     "name": "stdout",
     "output_type": "stream",
     "text": [
      "mevd_quant:: ERROR - fsolve does not work -  change x0\n",
      "mevd_quant:: ERROR - fsolve does not work -  change x0\n",
      "mevd_quant:: ERROR - fsolve does not work -  change x0\n",
      "mevd_quant:: ERROR - fsolve does not work -  change x0\n",
      "mevd_quant:: ERROR - fsolve does not work -  change x0\n",
      "mevd_quant:: ERROR - fsolve does not work -  change x0\n",
      "mevd_quant:: ERROR - fsolve does not work -  change x0\n",
      "mevd_quant:: ERROR - fsolve does not work -  change x0\n",
      "mevd_quant:: ERROR - fsolve does not work -  change x0\n",
      "mevd_quant:: ERROR - fsolve does not work -  change x0\n",
      "mevd_quant:: ERROR - fsolve does not work -  change x0\n",
      "mevd_quant:: ERROR - fsolve does not work -  change x0\n",
      "mevd_quant:: ERROR - fsolve does not work -  change x0\n",
      "mevd_quant:: ERROR - fsolve does not work -  change x0\n",
      "mevd_quant:: ERROR - fsolve does not work -  change x0\n",
      "mevd_quant:: ERROR - fsolve does not work -  change x0\n",
      "mevd_quant:: ERROR - fsolve does not work -  change x0\n",
      "mevd_quant:: ERROR - fsolve does not work -  change x0\n",
      "mevd_quant:: ERROR - fsolve does not work -  change x0\n",
      "mevd_quant:: ERROR - fsolve does not work -  change x0\n",
      "mevd_quant:: ERROR - fsolve does not work -  change x0\n",
      "mevd_quant:: ERROR - fsolve does not work -  change x0\n",
      "mevd_quant:: ERROR - fsolve does not work -  change x0\n",
      "mevd_quant:: ERROR - fsolve does not work -  change x0\n",
      "mevd_quant:: ERROR - fsolve does not work -  change x0\n",
      "mevd_quant:: ERROR - fsolve does not work -  change x0\n",
      "mevd_quant:: ERROR - fsolve does not work -  change x0\n",
      "mevd_quant:: ERROR - fsolve does not work -  change x0\n"
     ]
    },
    {
     "name": "stderr",
     "output_type": "stream",
     "text": [
      "/home/arturo/github/downpy/codes/downscale.py:1248: RuntimeWarning: invalid value encountered in power\n",
      "  mev0f = np.sum( ( 1-np.exp(-(y/C)**W ))**N) - nyears*pr\n",
      "/home/arturo/github/downpy/codes/downscale.py:1248: RuntimeWarning: invalid value encountered in power\n",
      "  mev0f = np.sum( ( 1-np.exp(-(y/C)**W ))**N) - nyears*pr\n",
      "/home/arturo/github/downpy/codes/downscale.py:1248: RuntimeWarning: invalid value encountered in power\n",
      "  mev0f = np.sum( ( 1-np.exp(-(y/C)**W ))**N) - nyears*pr\n",
      "/home/arturo/github/downpy/codes/downscale.py:1248: RuntimeWarning: invalid value encountered in power\n",
      "  mev0f = np.sum( ( 1-np.exp(-(y/C)**W ))**N) - nyears*pr\n",
      "/home/arturo/github/downpy/codes/downscale.py:1248: RuntimeWarning: invalid value encountered in power\n",
      "  mev0f = np.sum( ( 1-np.exp(-(y/C)**W ))**N) - nyears*pr\n",
      "/home/arturo/github/downpy/codes/downscale.py:1248: RuntimeWarning: invalid value encountered in power\n",
      "  mev0f = np.sum( ( 1-np.exp(-(y/C)**W ))**N) - nyears*pr\n",
      "/home/arturo/github/downpy/codes/downscale.py:1248: RuntimeWarning: invalid value encountered in power\n",
      "  mev0f = np.sum( ( 1-np.exp(-(y/C)**W ))**N) - nyears*pr\n",
      "/home/arturo/github/downpy/codes/downscale.py:1248: RuntimeWarning: invalid value encountered in power\n",
      "  mev0f = np.sum( ( 1-np.exp(-(y/C)**W ))**N) - nyears*pr\n",
      "/home/arturo/github/downpy/codes/downscale.py:1248: RuntimeWarning: invalid value encountered in power\n",
      "  mev0f = np.sum( ( 1-np.exp(-(y/C)**W ))**N) - nyears*pr\n",
      "/home/arturo/github/downpy/codes/downscale.py:1248: RuntimeWarning: invalid value encountered in power\n",
      "  mev0f = np.sum( ( 1-np.exp(-(y/C)**W ))**N) - nyears*pr\n",
      "/home/arturo/github/downpy/codes/downscale.py:1248: RuntimeWarning: invalid value encountered in power\n",
      "  mev0f = np.sum( ( 1-np.exp(-(y/C)**W ))**N) - nyears*pr\n",
      "/home/arturo/github/downpy/codes/downscale.py:1248: RuntimeWarning: invalid value encountered in power\n",
      "  mev0f = np.sum( ( 1-np.exp(-(y/C)**W ))**N) - nyears*pr\n",
      "/home/arturo/github/downpy/codes/downscale.py:1248: RuntimeWarning: invalid value encountered in power\n",
      "  mev0f = np.sum( ( 1-np.exp(-(y/C)**W ))**N) - nyears*pr\n"
     ]
    },
    {
     "name": "stdout",
     "output_type": "stream",
     "text": [
      "mevd_quant:: ERROR - fsolve does not work -  change x0\n",
      "mevd_quant:: ERROR - fsolve does not work -  change x0\n",
      "mevd_quant:: ERROR - fsolve does not work -  change x0\n",
      "mevd_quant:: ERROR - fsolve does not work -  change x0\n",
      "mevd_quant:: ERROR - fsolve does not work -  change x0\n",
      "mevd_quant:: ERROR - fsolve does not work -  change x0\n",
      "mevd_quant:: ERROR - fsolve does not work -  change x0\n",
      "mevd_quant:: ERROR - fsolve does not work -  change x0\n",
      "mevd_quant:: ERROR - fsolve does not work -  change x0\n",
      "mevd_quant:: ERROR - fsolve does not work -  change x0\n",
      "mevd_quant:: ERROR - fsolve does not work -  change x0\n",
      "mevd_quant:: ERROR - fsolve does not work -  change x0\n",
      "mevd_quant:: ERROR - fsolve does not work -  change x0\n",
      "mevd_quant:: ERROR - fsolve does not work -  change x0\n",
      "mevd_quant:: ERROR - fsolve does not work -  change x0\n",
      "mevd_quant:: ERROR - fsolve does not work -  change x0\n",
      "mevd_quant:: ERROR - fsolve does not work -  change x0\n",
      "mevd_quant:: ERROR - fsolve does not work -  change x0\n"
     ]
    },
    {
     "name": "stderr",
     "output_type": "stream",
     "text": [
      "/home/arturo/github/downpy/codes/downscale.py:1248: RuntimeWarning: invalid value encountered in power\n",
      "  mev0f = np.sum( ( 1-np.exp(-(y/C)**W ))**N) - nyears*pr\n",
      "/home/arturo/github/downpy/codes/downscale.py:1248: RuntimeWarning: invalid value encountered in power\n",
      "  mev0f = np.sum( ( 1-np.exp(-(y/C)**W ))**N) - nyears*pr\n",
      "/home/arturo/github/downpy/codes/downscale.py:1248: RuntimeWarning: invalid value encountered in power\n",
      "  mev0f = np.sum( ( 1-np.exp(-(y/C)**W ))**N) - nyears*pr\n",
      "/home/arturo/github/downpy/codes/downscale.py:1248: RuntimeWarning: invalid value encountered in power\n",
      "  mev0f = np.sum( ( 1-np.exp(-(y/C)**W ))**N) - nyears*pr\n"
     ]
    },
    {
     "name": "stdout",
     "output_type": "stream",
     "text": [
      "mevd_quant:: ERROR - fsolve does not work -  change x0\n",
      "mevd_quant:: ERROR - fsolve does not work -  change x0\n",
      "mevd_quant:: ERROR - fsolve does not work -  change x0\n",
      "mevd_quant:: ERROR - fsolve does not work -  change x0\n",
      "mevd_quant:: ERROR - fsolve does not work -  change x0\n",
      "mevd_quant:: ERROR - fsolve does not work -  change x0\n",
      "mevd_quant:: ERROR - fsolve does not work -  change x0\n"
     ]
    },
    {
     "name": "stderr",
     "output_type": "stream",
     "text": [
      "/home/arturo/github/downpy/codes/downscale.py:1248: RuntimeWarning: invalid value encountered in power\n",
      "  mev0f = np.sum( ( 1-np.exp(-(y/C)**W ))**N) - nyears*pr\n",
      "/home/arturo/github/downpy/codes/downscale.py:1248: RuntimeWarning: invalid value encountered in power\n",
      "  mev0f = np.sum( ( 1-np.exp(-(y/C)**W ))**N) - nyears*pr\n",
      "/home/arturo/github/downpy/codes/downscale.py:1248: RuntimeWarning: invalid value encountered in power\n",
      "  mev0f = np.sum( ( 1-np.exp(-(y/C)**W ))**N) - nyears*pr\n",
      "/home/arturo/github/downpy/codes/downscale.py:1248: RuntimeWarning: invalid value encountered in power\n",
      "  mev0f = np.sum( ( 1-np.exp(-(y/C)**W ))**N) - nyears*pr\n",
      "/home/arturo/github/downpy/codes/downscale.py:1248: RuntimeWarning: invalid value encountered in power\n",
      "  mev0f = np.sum( ( 1-np.exp(-(y/C)**W ))**N) - nyears*pr\n",
      "/home/arturo/github/downpy/codes/downscale.py:1248: RuntimeWarning: invalid value encountered in power\n",
      "  mev0f = np.sum( ( 1-np.exp(-(y/C)**W ))**N) - nyears*pr\n",
      "/home/arturo/github/downpy/codes/downscale.py:1248: RuntimeWarning: invalid value encountered in power\n",
      "  mev0f = np.sum( ( 1-np.exp(-(y/C)**W ))**N) - nyears*pr\n",
      "/home/arturo/github/downpy/codes/downscale.py:1248: RuntimeWarning: invalid value encountered in power\n",
      "  mev0f = np.sum( ( 1-np.exp(-(y/C)**W ))**N) - nyears*pr\n",
      "/home/arturo/github/downpy/codes/downscale.py:1248: RuntimeWarning: invalid value encountered in power\n",
      "  mev0f = np.sum( ( 1-np.exp(-(y/C)**W ))**N) - nyears*pr\n",
      "/home/arturo/github/downpy/codes/downscale.py:1248: RuntimeWarning: invalid value encountered in power\n",
      "  mev0f = np.sum( ( 1-np.exp(-(y/C)**W ))**N) - nyears*pr\n",
      "/home/arturo/github/downpy/codes/downscale.py:1248: RuntimeWarning: invalid value encountered in power\n",
      "  mev0f = np.sum( ( 1-np.exp(-(y/C)**W ))**N) - nyears*pr\n"
     ]
    },
    {
     "name": "stdout",
     "output_type": "stream",
     "text": [
      "mevd_quant:: ERROR - fsolve does not work -  change x0\n",
      "mevd_quant:: ERROR - fsolve does not work -  change x0\n",
      "mevd_quant:: ERROR - fsolve does not work -  change x0\n",
      "mevd_quant:: ERROR - fsolve does not work -  change x0\n",
      "mevd_quant:: ERROR - fsolve does not work -  change x0\n",
      "67\n",
      "mevd_quant:: ERROR - fsolve does not work -  change x0\n",
      "mevd_quant:: ERROR - fsolve does not work -  change x0\n",
      "mevd_quant:: ERROR - fsolve does not work -  change x0\n",
      "mevd_quant:: ERROR - fsolve does not work -  change x0\n",
      "mevd_quant:: ERROR - fsolve does not work -  change x0\n",
      "mevd_quant:: ERROR - fsolve does not work -  change x0\n",
      "mevd_quant:: ERROR - fsolve does not work -  change x0\n",
      "mevd_quant:: ERROR - fsolve does not work -  change x0\n",
      "mevd_quant:: ERROR - fsolve does not work -  change x0\n",
      "mevd_quant:: ERROR - fsolve does not work -  change x0\n",
      "mevd_quant:: ERROR - fsolve does not work -  change x0\n",
      "mevd_quant:: ERROR - fsolve does not work -  change x0\n",
      "mevd_quant:: ERROR - fsolve does not work -  change x0\n",
      "mevd_quant:: ERROR - fsolve does not work -  change x0\n",
      "mevd_quant:: ERROR - fsolve does not work -  change x0\n",
      "mevd_quant:: ERROR - fsolve does not work -  change x0\n",
      "mevd_quant:: ERROR - fsolve does not work -  change x0\n",
      "mevd_quant:: ERROR - fsolve does not work -  change x0\n",
      "mevd_quant:: ERROR - fsolve does not work -  change x0\n",
      "mevd_quant:: ERROR - fsolve does not work -  change x0\n",
      "mevd_quant:: ERROR - fsolve does not work -  change x0\n",
      "mevd_quant:: ERROR - fsolve does not work -  change x0\n",
      "mevd_quant:: ERROR - fsolve does not work -  change x0\n",
      "mevd_quant:: ERROR - fsolve does not work -  change x0\n",
      "mevd_quant:: ERROR - fsolve does not work -  change x0\n"
     ]
    },
    {
     "name": "stderr",
     "output_type": "stream",
     "text": [
      "/home/arturo/github/downpy/codes/downscale.py:1248: RuntimeWarning: invalid value encountered in power\n",
      "  mev0f = np.sum( ( 1-np.exp(-(y/C)**W ))**N) - nyears*pr\n",
      "/home/arturo/github/downpy/codes/downscale.py:1248: RuntimeWarning: invalid value encountered in power\n",
      "  mev0f = np.sum( ( 1-np.exp(-(y/C)**W ))**N) - nyears*pr\n",
      "/home/arturo/github/downpy/codes/downscale.py:1248: RuntimeWarning: invalid value encountered in power\n",
      "  mev0f = np.sum( ( 1-np.exp(-(y/C)**W ))**N) - nyears*pr\n",
      "/home/arturo/github/downpy/codes/downscale.py:1248: RuntimeWarning: invalid value encountered in power\n",
      "  mev0f = np.sum( ( 1-np.exp(-(y/C)**W ))**N) - nyears*pr\n",
      "/home/arturo/github/downpy/codes/downscale.py:1248: RuntimeWarning: invalid value encountered in power\n",
      "  mev0f = np.sum( ( 1-np.exp(-(y/C)**W ))**N) - nyears*pr\n",
      "/home/arturo/github/downpy/codes/downscale.py:1248: RuntimeWarning: invalid value encountered in power\n",
      "  mev0f = np.sum( ( 1-np.exp(-(y/C)**W ))**N) - nyears*pr\n",
      "/home/arturo/github/downpy/codes/downscale.py:1248: RuntimeWarning: invalid value encountered in power\n",
      "  mev0f = np.sum( ( 1-np.exp(-(y/C)**W ))**N) - nyears*pr\n",
      "/home/arturo/github/downpy/codes/downscale.py:1248: RuntimeWarning: invalid value encountered in power\n",
      "  mev0f = np.sum( ( 1-np.exp(-(y/C)**W ))**N) - nyears*pr\n"
     ]
    },
    {
     "name": "stdout",
     "output_type": "stream",
     "text": [
      "mevd_quant:: ERROR - fsolve does not work -  change x0\n",
      "mevd_quant:: ERROR - fsolve does not work -  change x0\n",
      "mevd_quant:: ERROR - fsolve does not work -  change x0\n",
      "mevd_quant:: ERROR - fsolve does not work -  change x0\n",
      "mevd_quant:: ERROR - fsolve does not work -  change x0\n",
      "mevd_quant:: ERROR - fsolve does not work -  change x0\n",
      "mevd_quant:: ERROR - fsolve does not work -  change x0\n",
      "mevd_quant:: ERROR - fsolve does not work -  change x0\n",
      "mevd_quant:: ERROR - fsolve does not work -  change x0\n",
      "mevd_quant:: ERROR - fsolve does not work -  change x0\n",
      "mevd_quant:: ERROR - fsolve does not work -  change x0\n",
      "mevd_quant:: ERROR - fsolve does not work -  change x0\n",
      "mevd_quant:: ERROR - fsolve does not work -  change x0\n",
      "mevd_quant:: ERROR - fsolve does not work -  change x0\n",
      "mevd_quant:: ERROR - fsolve does not work -  change x0\n",
      "mevd_quant:: ERROR - fsolve does not work -  change x0\n",
      "mevd_quant:: ERROR - fsolve does not work -  change x0\n",
      "mevd_quant:: ERROR - fsolve does not work -  change x0\n",
      "mevd_quant:: ERROR - fsolve does not work -  change x0\n",
      "mevd_quant:: ERROR - fsolve does not work -  change x0\n"
     ]
    },
    {
     "name": "stderr",
     "output_type": "stream",
     "text": [
      "/home/arturo/github/downpy/codes/downscale.py:1248: RuntimeWarning: invalid value encountered in power\n",
      "  mev0f = np.sum( ( 1-np.exp(-(y/C)**W ))**N) - nyears*pr\n",
      "/home/arturo/github/downpy/codes/downscale.py:1248: RuntimeWarning: invalid value encountered in power\n",
      "  mev0f = np.sum( ( 1-np.exp(-(y/C)**W ))**N) - nyears*pr\n"
     ]
    },
    {
     "name": "stdout",
     "output_type": "stream",
     "text": [
      "mevd_quant:: ERROR - fsolve does not work -  change x0\n",
      "mevd_quant:: ERROR - fsolve does not work -  change x0\n",
      "mevd_quant:: ERROR - fsolve does not work -  change x0\n",
      "mevd_quant:: ERROR - fsolve does not work -  change x0\n"
     ]
    },
    {
     "name": "stderr",
     "output_type": "stream",
     "text": [
      "/home/arturo/github/downpy/codes/downscale.py:1248: RuntimeWarning: invalid value encountered in power\n",
      "  mev0f = np.sum( ( 1-np.exp(-(y/C)**W ))**N) - nyears*pr\n",
      "/home/arturo/github/downpy/codes/downscale.py:1248: RuntimeWarning: invalid value encountered in power\n",
      "  mev0f = np.sum( ( 1-np.exp(-(y/C)**W ))**N) - nyears*pr\n",
      "/home/arturo/github/downpy/codes/downscale.py:1248: RuntimeWarning: invalid value encountered in power\n",
      "  mev0f = np.sum( ( 1-np.exp(-(y/C)**W ))**N) - nyears*pr\n"
     ]
    },
    {
     "name": "stdout",
     "output_type": "stream",
     "text": [
      "mevd_quant:: ERROR - fsolve does not work -  change x0\n",
      "mevd_quant:: ERROR - fsolve does not work -  change x0\n",
      "mevd_quant:: ERROR - fsolve does not work -  change x0\n"
     ]
    },
    {
     "name": "stderr",
     "output_type": "stream",
     "text": [
      "/home/arturo/github/downpy/codes/downscale.py:1248: RuntimeWarning: invalid value encountered in power\n",
      "  mev0f = np.sum( ( 1-np.exp(-(y/C)**W ))**N) - nyears*pr\n",
      "/home/arturo/github/downpy/codes/downscale.py:1248: RuntimeWarning: invalid value encountered in power\n",
      "  mev0f = np.sum( ( 1-np.exp(-(y/C)**W ))**N) - nyears*pr\n",
      "/home/arturo/github/downpy/codes/downscale.py:1248: RuntimeWarning: invalid value encountered in power\n",
      "  mev0f = np.sum( ( 1-np.exp(-(y/C)**W ))**N) - nyears*pr\n"
     ]
    },
    {
     "name": "stdout",
     "output_type": "stream",
     "text": [
      "mevd_quant:: ERROR - fsolve does not work -  change x0\n",
      "mevd_quant:: ERROR - fsolve does not work -  change x0\n",
      "mevd_quant:: ERROR - fsolve does not work -  change x0\n",
      "mevd_quant:: ERROR - fsolve does not work -  change x0\n",
      "mevd_quant:: ERROR - fsolve does not work -  change x0\n",
      "mevd_quant:: ERROR - fsolve does not work -  change x0\n",
      "mevd_quant:: ERROR - fsolve does not work -  change x0\n",
      "mevd_quant:: ERROR - fsolve does not work -  change x0\n",
      "68\n",
      "mevd_quant:: ERROR - fsolve does not work -  change x0\n",
      "mevd_quant:: ERROR - fsolve does not work -  change x0\n",
      "mevd_quant:: ERROR - fsolve does not work -  change x0\n",
      "mevd_quant:: ERROR - fsolve does not work -  change x0\n",
      "mevd_quant:: ERROR - fsolve does not work -  change x0\n",
      "mevd_quant:: ERROR - fsolve does not work -  change x0\n",
      "mevd_quant:: ERROR - fsolve does not work -  change x0\n",
      "mevd_quant:: ERROR - fsolve does not work -  change x0\n",
      "mevd_quant:: ERROR - fsolve does not work -  change x0\n",
      "mevd_quant:: ERROR - fsolve does not work -  change x0\n",
      "mevd_quant:: ERROR - fsolve does not work -  change x0\n",
      "mevd_quant:: ERROR - fsolve does not work -  change x0\n",
      "mevd_quant:: ERROR - fsolve does not work -  change x0\n",
      "mevd_quant:: ERROR - fsolve does not work -  change x0\n",
      "mevd_quant:: ERROR - fsolve does not work -  change x0\n",
      "mevd_quant:: ERROR - fsolve does not work -  change x0\n",
      "mevd_quant:: ERROR - fsolve does not work -  change x0\n",
      "mevd_quant:: ERROR - fsolve does not work -  change x0\n",
      "mevd_quant:: ERROR - fsolve does not work -  change x0\n",
      "mevd_quant:: ERROR - fsolve does not work -  change x0\n",
      "mevd_quant:: ERROR - fsolve does not work -  change x0\n",
      "mevd_quant:: ERROR - fsolve does not work -  change x0\n",
      "mevd_quant:: ERROR - fsolve does not work -  change x0\n",
      "mevd_quant:: ERROR - fsolve does not work -  change x0\n"
     ]
    },
    {
     "name": "stderr",
     "output_type": "stream",
     "text": [
      "/home/arturo/github/downpy/codes/downscale.py:1248: RuntimeWarning: invalid value encountered in power\n",
      "  mev0f = np.sum( ( 1-np.exp(-(y/C)**W ))**N) - nyears*pr\n",
      "/home/arturo/github/downpy/codes/downscale.py:1248: RuntimeWarning: invalid value encountered in power\n",
      "  mev0f = np.sum( ( 1-np.exp(-(y/C)**W ))**N) - nyears*pr\n",
      "/home/arturo/github/downpy/codes/downscale.py:1248: RuntimeWarning: invalid value encountered in power\n",
      "  mev0f = np.sum( ( 1-np.exp(-(y/C)**W ))**N) - nyears*pr\n",
      "/home/arturo/github/downpy/codes/downscale.py:1248: RuntimeWarning: invalid value encountered in power\n",
      "  mev0f = np.sum( ( 1-np.exp(-(y/C)**W ))**N) - nyears*pr\n",
      "/home/arturo/github/downpy/codes/downscale.py:1248: RuntimeWarning: invalid value encountered in power\n",
      "  mev0f = np.sum( ( 1-np.exp(-(y/C)**W ))**N) - nyears*pr\n",
      "/home/arturo/github/downpy/codes/downscale.py:1248: RuntimeWarning: invalid value encountered in power\n",
      "  mev0f = np.sum( ( 1-np.exp(-(y/C)**W ))**N) - nyears*pr\n",
      "/home/arturo/github/downpy/codes/downscale.py:1248: RuntimeWarning: invalid value encountered in power\n",
      "  mev0f = np.sum( ( 1-np.exp(-(y/C)**W ))**N) - nyears*pr\n",
      "/home/arturo/github/downpy/codes/downscale.py:1248: RuntimeWarning: invalid value encountered in power\n",
      "  mev0f = np.sum( ( 1-np.exp(-(y/C)**W ))**N) - nyears*pr\n",
      "/home/arturo/github/downpy/codes/downscale.py:1248: RuntimeWarning: invalid value encountered in power\n",
      "  mev0f = np.sum( ( 1-np.exp(-(y/C)**W ))**N) - nyears*pr\n",
      "/home/arturo/github/downpy/codes/downscale.py:1248: RuntimeWarning: invalid value encountered in power\n",
      "  mev0f = np.sum( ( 1-np.exp(-(y/C)**W ))**N) - nyears*pr\n"
     ]
    },
    {
     "name": "stdout",
     "output_type": "stream",
     "text": [
      "mevd_quant:: ERROR - fsolve does not work -  change x0\n",
      "mevd_quant:: ERROR - fsolve does not work -  change x0\n",
      "mevd_quant:: ERROR - fsolve does not work -  change x0\n",
      "mevd_quant:: ERROR - fsolve does not work -  change x0\n",
      "mevd_quant:: ERROR - fsolve does not work -  change x0\n",
      "mevd_quant:: ERROR - fsolve does not work -  change x0\n",
      "mevd_quant:: ERROR - fsolve does not work -  change x0\n",
      "mevd_quant:: ERROR - fsolve does not work -  change x0\n",
      "mevd_quant:: ERROR - fsolve does not work -  change x0\n",
      "mevd_quant:: ERROR - fsolve does not work -  change x0\n",
      "mevd_quant:: ERROR - fsolve does not work -  change x0\n",
      "mevd_quant:: ERROR - fsolve does not work -  change x0\n",
      "mevd_quant:: ERROR - fsolve does not work -  change x0\n"
     ]
    },
    {
     "name": "stderr",
     "output_type": "stream",
     "text": [
      "/home/arturo/github/downpy/codes/downscale.py:1248: RuntimeWarning: invalid value encountered in power\n",
      "  mev0f = np.sum( ( 1-np.exp(-(y/C)**W ))**N) - nyears*pr\n",
      "/home/arturo/github/downpy/codes/downscale.py:1248: RuntimeWarning: invalid value encountered in power\n",
      "  mev0f = np.sum( ( 1-np.exp(-(y/C)**W ))**N) - nyears*pr\n",
      "/home/arturo/github/downpy/codes/downscale.py:1248: RuntimeWarning: invalid value encountered in power\n",
      "  mev0f = np.sum( ( 1-np.exp(-(y/C)**W ))**N) - nyears*pr\n",
      "/home/arturo/github/downpy/codes/downscale.py:1248: RuntimeWarning: invalid value encountered in power\n",
      "  mev0f = np.sum( ( 1-np.exp(-(y/C)**W ))**N) - nyears*pr\n",
      "/home/arturo/github/downpy/codes/downscale.py:1248: RuntimeWarning: invalid value encountered in power\n",
      "  mev0f = np.sum( ( 1-np.exp(-(y/C)**W ))**N) - nyears*pr\n",
      "/home/arturo/github/downpy/codes/downscale.py:1248: RuntimeWarning: invalid value encountered in power\n",
      "  mev0f = np.sum( ( 1-np.exp(-(y/C)**W ))**N) - nyears*pr\n"
     ]
    },
    {
     "name": "stdout",
     "output_type": "stream",
     "text": [
      "mevd_quant:: ERROR - fsolve does not work -  change x0\n",
      "mevd_quant:: ERROR - fsolve does not work -  change x0\n",
      "mevd_quant:: ERROR - fsolve does not work -  change x0\n",
      "mevd_quant:: ERROR - fsolve does not work -  change x0\n",
      "mevd_quant:: ERROR - fsolve does not work -  change x0\n",
      "mevd_quant:: ERROR - fsolve does not work -  change x0\n"
     ]
    },
    {
     "name": "stderr",
     "output_type": "stream",
     "text": [
      "/home/arturo/github/downpy/codes/downscale.py:1248: RuntimeWarning: invalid value encountered in power\n",
      "  mev0f = np.sum( ( 1-np.exp(-(y/C)**W ))**N) - nyears*pr\n"
     ]
    },
    {
     "name": "stdout",
     "output_type": "stream",
     "text": [
      "mevd_quant:: ERROR - fsolve does not work -  change x0\n",
      "mevd_quant:: ERROR - fsolve does not work -  change x0\n",
      "mevd_quant:: ERROR - fsolve does not work -  change x0\n"
     ]
    },
    {
     "name": "stderr",
     "output_type": "stream",
     "text": [
      "/home/arturo/github/downpy/codes/downscale.py:1248: RuntimeWarning: invalid value encountered in power\n",
      "  mev0f = np.sum( ( 1-np.exp(-(y/C)**W ))**N) - nyears*pr\n",
      "/home/arturo/github/downpy/codes/downscale.py:1248: RuntimeWarning: invalid value encountered in power\n",
      "  mev0f = np.sum( ( 1-np.exp(-(y/C)**W ))**N) - nyears*pr\n",
      "/home/arturo/github/downpy/codes/downscale.py:1248: RuntimeWarning: invalid value encountered in power\n",
      "  mev0f = np.sum( ( 1-np.exp(-(y/C)**W ))**N) - nyears*pr\n"
     ]
    },
    {
     "name": "stdout",
     "output_type": "stream",
     "text": [
      "mevd_quant:: ERROR - fsolve does not work -  change x0\n",
      "mevd_quant:: ERROR - fsolve does not work -  change x0\n",
      "mevd_quant:: ERROR - fsolve does not work -  change x0\n",
      "69\n"
     ]
    },
    {
     "name": "stderr",
     "output_type": "stream",
     "text": [
      "/home/arturo/github/downpy/codes/downscale.py:1248: RuntimeWarning: invalid value encountered in power\n",
      "  mev0f = np.sum( ( 1-np.exp(-(y/C)**W ))**N) - nyears*pr\n",
      "/home/arturo/github/downpy/codes/downscale.py:1248: RuntimeWarning: invalid value encountered in power\n",
      "  mev0f = np.sum( ( 1-np.exp(-(y/C)**W ))**N) - nyears*pr\n",
      "/home/arturo/github/downpy/codes/downscale.py:1248: RuntimeWarning: invalid value encountered in power\n",
      "  mev0f = np.sum( ( 1-np.exp(-(y/C)**W ))**N) - nyears*pr\n",
      "/home/arturo/github/downpy/codes/downscale.py:1248: RuntimeWarning: invalid value encountered in power\n",
      "  mev0f = np.sum( ( 1-np.exp(-(y/C)**W ))**N) - nyears*pr\n",
      "/home/arturo/github/downpy/codes/downscale.py:1248: RuntimeWarning: invalid value encountered in power\n",
      "  mev0f = np.sum( ( 1-np.exp(-(y/C)**W ))**N) - nyears*pr\n",
      "/home/arturo/github/downpy/codes/downscale.py:1248: RuntimeWarning: invalid value encountered in power\n",
      "  mev0f = np.sum( ( 1-np.exp(-(y/C)**W ))**N) - nyears*pr\n",
      "/home/arturo/github/downpy/codes/downscale.py:1248: RuntimeWarning: invalid value encountered in power\n",
      "  mev0f = np.sum( ( 1-np.exp(-(y/C)**W ))**N) - nyears*pr\n",
      "/home/arturo/github/downpy/codes/downscale.py:1248: RuntimeWarning: invalid value encountered in power\n",
      "  mev0f = np.sum( ( 1-np.exp(-(y/C)**W ))**N) - nyears*pr\n"
     ]
    },
    {
     "name": "stdout",
     "output_type": "stream",
     "text": [
      "mevd_quant:: ERROR - fsolve does not work -  change x0\n",
      "mevd_quant:: ERROR - fsolve does not work -  change x0\n",
      "mevd_quant:: ERROR - fsolve does not work -  change x0\n",
      "mevd_quant:: ERROR - fsolve does not work -  change x0\n",
      "mevd_quant:: ERROR - fsolve does not work -  change x0\n",
      "mevd_quant:: ERROR - fsolve does not work -  change x0\n",
      "mevd_quant:: ERROR - fsolve does not work -  change x0\n",
      "mevd_quant:: ERROR - fsolve does not work -  change x0\n",
      "mevd_quant:: ERROR - fsolve does not work -  change x0\n",
      "mevd_quant:: ERROR - fsolve does not work -  change x0\n",
      "mevd_quant:: ERROR - fsolve does not work -  change x0\n",
      "mevd_quant:: ERROR - fsolve does not work -  change x0\n",
      "mevd_quant:: ERROR - fsolve does not work -  change x0\n",
      "mevd_quant:: ERROR - fsolve does not work -  change x0\n",
      "mevd_quant:: ERROR - fsolve does not work -  change x0\n",
      "mevd_quant:: ERROR - fsolve does not work -  change x0\n",
      "mevd_quant:: ERROR - fsolve does not work -  change x0\n",
      "mevd_quant:: ERROR - fsolve does not work -  change x0\n",
      "mevd_quant:: ERROR - fsolve does not work -  change x0\n",
      "mevd_quant:: ERROR - fsolve does not work -  change x0\n"
     ]
    },
    {
     "name": "stderr",
     "output_type": "stream",
     "text": [
      "/home/arturo/github/downpy/codes/downscale.py:1248: RuntimeWarning: invalid value encountered in power\n",
      "  mev0f = np.sum( ( 1-np.exp(-(y/C)**W ))**N) - nyears*pr\n"
     ]
    },
    {
     "name": "stdout",
     "output_type": "stream",
     "text": [
      "mevd_quant:: ERROR - fsolve does not work -  change x0\n"
     ]
    },
    {
     "name": "stderr",
     "output_type": "stream",
     "text": [
      "/home/arturo/github/downpy/codes/downscale.py:1248: RuntimeWarning: invalid value encountered in power\n",
      "  mev0f = np.sum( ( 1-np.exp(-(y/C)**W ))**N) - nyears*pr\n",
      "/home/arturo/github/downpy/codes/downscale.py:1248: RuntimeWarning: invalid value encountered in power\n",
      "  mev0f = np.sum( ( 1-np.exp(-(y/C)**W ))**N) - nyears*pr\n",
      "/home/arturo/github/downpy/codes/downscale.py:1248: RuntimeWarning: invalid value encountered in power\n",
      "  mev0f = np.sum( ( 1-np.exp(-(y/C)**W ))**N) - nyears*pr\n"
     ]
    },
    {
     "name": "stdout",
     "output_type": "stream",
     "text": [
      "mevd_quant:: ERROR - fsolve does not work -  change x0\n",
      "mevd_quant:: ERROR - fsolve does not work -  change x0\n",
      "mevd_quant:: ERROR - fsolve does not work -  change x0\n",
      "mevd_quant:: ERROR - fsolve does not work -  change x0\n",
      "mevd_quant:: ERROR - fsolve does not work -  change x0\n",
      "mevd_quant:: ERROR - fsolve does not work -  change x0\n",
      "mevd_quant:: ERROR - fsolve does not work -  change x0\n",
      "mevd_quant:: ERROR - fsolve does not work -  change x0\n"
     ]
    },
    {
     "name": "stderr",
     "output_type": "stream",
     "text": [
      "/home/arturo/github/downpy/codes/downscale.py:1248: RuntimeWarning: invalid value encountered in power\n",
      "  mev0f = np.sum( ( 1-np.exp(-(y/C)**W ))**N) - nyears*pr\n",
      "/home/arturo/github/downpy/codes/downscale.py:1248: RuntimeWarning: invalid value encountered in power\n",
      "  mev0f = np.sum( ( 1-np.exp(-(y/C)**W ))**N) - nyears*pr\n",
      "/home/arturo/github/downpy/codes/downscale.py:1248: RuntimeWarning: invalid value encountered in power\n",
      "  mev0f = np.sum( ( 1-np.exp(-(y/C)**W ))**N) - nyears*pr\n",
      "/home/arturo/github/downpy/codes/downscale.py:1248: RuntimeWarning: invalid value encountered in power\n",
      "  mev0f = np.sum( ( 1-np.exp(-(y/C)**W ))**N) - nyears*pr\n",
      "/home/arturo/github/downpy/codes/downscale.py:1248: RuntimeWarning: invalid value encountered in power\n",
      "  mev0f = np.sum( ( 1-np.exp(-(y/C)**W ))**N) - nyears*pr\n",
      "/home/arturo/github/downpy/codes/downscale.py:1248: RuntimeWarning: invalid value encountered in power\n",
      "  mev0f = np.sum( ( 1-np.exp(-(y/C)**W ))**N) - nyears*pr\n",
      "/home/arturo/github/downpy/codes/downscale.py:1248: RuntimeWarning: invalid value encountered in power\n",
      "  mev0f = np.sum( ( 1-np.exp(-(y/C)**W ))**N) - nyears*pr\n",
      "/home/arturo/github/downpy/codes/downscale.py:1248: RuntimeWarning: invalid value encountered in power\n",
      "  mev0f = np.sum( ( 1-np.exp(-(y/C)**W ))**N) - nyears*pr\n"
     ]
    },
    {
     "name": "stdout",
     "output_type": "stream",
     "text": [
      "mevd_quant:: ERROR - fsolve does not work -  change x0\n",
      "mevd_quant:: ERROR - fsolve does not work -  change x0\n",
      "mevd_quant:: ERROR - fsolve does not work -  change x0\n",
      "mevd_quant:: ERROR - fsolve does not work -  change x0\n",
      "mevd_quant:: ERROR - fsolve does not work -  change x0\n",
      "mevd_quant:: ERROR - fsolve does not work -  change x0\n",
      "70\n",
      "mevd_quant:: ERROR - fsolve does not work -  change x0\n",
      "mevd_quant:: ERROR - fsolve does not work -  change x0\n",
      "mevd_quant:: ERROR - fsolve does not work -  change x0\n",
      "mevd_quant:: ERROR - fsolve does not work -  change x0\n",
      "mevd_quant:: ERROR - fsolve does not work -  change x0\n",
      "mevd_quant:: ERROR - fsolve does not work -  change x0\n",
      "mevd_quant:: ERROR - fsolve does not work -  change x0\n",
      "mevd_quant:: ERROR - fsolve does not work -  change x0\n",
      "mevd_quant:: ERROR - fsolve does not work -  change x0\n",
      "mevd_quant:: ERROR - fsolve does not work -  change x0\n",
      "mevd_quant:: ERROR - fsolve does not work -  change x0\n",
      "mevd_quant:: ERROR - fsolve does not work -  change x0\n",
      "mevd_quant:: ERROR - fsolve does not work -  change x0\n",
      "mevd_quant:: ERROR - fsolve does not work -  change x0\n",
      "mevd_quant:: ERROR - fsolve does not work -  change x0\n"
     ]
    },
    {
     "name": "stderr",
     "output_type": "stream",
     "text": [
      "/home/arturo/github/downpy/codes/downscale.py:1248: RuntimeWarning: invalid value encountered in power\n",
      "  mev0f = np.sum( ( 1-np.exp(-(y/C)**W ))**N) - nyears*pr\n"
     ]
    },
    {
     "name": "stdout",
     "output_type": "stream",
     "text": [
      "mevd_quant:: ERROR - fsolve does not work -  change x0\n"
     ]
    },
    {
     "name": "stderr",
     "output_type": "stream",
     "text": [
      "/home/arturo/github/downpy/codes/downscale.py:1248: RuntimeWarning: invalid value encountered in power\n",
      "  mev0f = np.sum( ( 1-np.exp(-(y/C)**W ))**N) - nyears*pr\n",
      "/home/arturo/github/downpy/codes/downscale.py:1248: RuntimeWarning: invalid value encountered in power\n",
      "  mev0f = np.sum( ( 1-np.exp(-(y/C)**W ))**N) - nyears*pr\n"
     ]
    },
    {
     "name": "stdout",
     "output_type": "stream",
     "text": [
      "mevd_quant:: ERROR - fsolve does not work -  change x0\n",
      "mevd_quant:: ERROR - fsolve does not work -  change x0\n",
      "mevd_quant:: ERROR - fsolve does not work -  change x0\n"
     ]
    },
    {
     "name": "stderr",
     "output_type": "stream",
     "text": [
      "/home/arturo/github/downpy/codes/downscale.py:1248: RuntimeWarning: invalid value encountered in power\n",
      "  mev0f = np.sum( ( 1-np.exp(-(y/C)**W ))**N) - nyears*pr\n"
     ]
    },
    {
     "name": "stdout",
     "output_type": "stream",
     "text": [
      "mevd_quant:: ERROR - fsolve does not work -  change x0\n",
      "mevd_quant:: ERROR - fsolve does not work -  change x0\n",
      "mevd_quant:: ERROR - fsolve does not work -  change x0\n",
      "mevd_quant:: ERROR - fsolve does not work -  change x0\n"
     ]
    },
    {
     "name": "stderr",
     "output_type": "stream",
     "text": [
      "/home/arturo/github/downpy/codes/downscale.py:1248: RuntimeWarning: invalid value encountered in power\n",
      "  mev0f = np.sum( ( 1-np.exp(-(y/C)**W ))**N) - nyears*pr\n",
      "/home/arturo/github/downpy/codes/downscale.py:1248: RuntimeWarning: invalid value encountered in power\n",
      "  mev0f = np.sum( ( 1-np.exp(-(y/C)**W ))**N) - nyears*pr\n",
      "/home/arturo/github/downpy/codes/downscale.py:1248: RuntimeWarning: invalid value encountered in power\n",
      "  mev0f = np.sum( ( 1-np.exp(-(y/C)**W ))**N) - nyears*pr\n",
      "/home/arturo/github/downpy/codes/downscale.py:1248: RuntimeWarning: invalid value encountered in power\n",
      "  mev0f = np.sum( ( 1-np.exp(-(y/C)**W ))**N) - nyears*pr\n",
      "/home/arturo/github/downpy/codes/downscale.py:1248: RuntimeWarning: invalid value encountered in power\n",
      "  mev0f = np.sum( ( 1-np.exp(-(y/C)**W ))**N) - nyears*pr\n",
      "/home/arturo/github/downpy/codes/downscale.py:1248: RuntimeWarning: invalid value encountered in power\n",
      "  mev0f = np.sum( ( 1-np.exp(-(y/C)**W ))**N) - nyears*pr\n"
     ]
    },
    {
     "name": "stdout",
     "output_type": "stream",
     "text": [
      "mevd_quant:: ERROR - fsolve does not work -  change x0\n",
      "mevd_quant:: ERROR - fsolve does not work -  change x0\n",
      "71\n",
      "mevd_quant:: ERROR - fsolve does not work -  change x0\n",
      "mevd_quant:: ERROR - fsolve does not work -  change x0\n",
      "mevd_quant:: ERROR - fsolve does not work -  change x0\n",
      "mevd_quant:: ERROR - fsolve does not work -  change x0\n",
      "mevd_quant:: ERROR - fsolve does not work -  change x0\n",
      "mevd_quant:: ERROR - fsolve does not work -  change x0\n",
      "mevd_quant:: ERROR - fsolve does not work -  change x0\n",
      "mevd_quant:: ERROR - fsolve does not work -  change x0\n",
      "mevd_quant:: ERROR - fsolve does not work -  change x0\n",
      "mevd_quant:: ERROR - fsolve does not work -  change x0\n",
      "mevd_quant:: ERROR - fsolve does not work -  change x0\n",
      "mevd_quant:: ERROR - fsolve does not work -  change x0\n"
     ]
    },
    {
     "name": "stderr",
     "output_type": "stream",
     "text": [
      "/home/arturo/github/downpy/codes/downscale.py:1248: RuntimeWarning: invalid value encountered in power\n",
      "  mev0f = np.sum( ( 1-np.exp(-(y/C)**W ))**N) - nyears*pr\n",
      "/home/arturo/github/downpy/codes/downscale.py:1248: RuntimeWarning: invalid value encountered in power\n",
      "  mev0f = np.sum( ( 1-np.exp(-(y/C)**W ))**N) - nyears*pr\n",
      "/home/arturo/github/downpy/codes/downscale.py:1248: RuntimeWarning: invalid value encountered in power\n",
      "  mev0f = np.sum( ( 1-np.exp(-(y/C)**W ))**N) - nyears*pr\n"
     ]
    },
    {
     "name": "stdout",
     "output_type": "stream",
     "text": [
      "mevd_quant:: ERROR - fsolve does not work -  change x0\n",
      "mevd_quant:: ERROR - fsolve does not work -  change x0\n",
      "mevd_quant:: ERROR - fsolve does not work -  change x0\n",
      "mevd_quant:: ERROR - fsolve does not work -  change x0\n",
      "mevd_quant:: ERROR - fsolve does not work -  change x0\n",
      "mevd_quant:: ERROR - fsolve does not work -  change x0\n"
     ]
    },
    {
     "name": "stderr",
     "output_type": "stream",
     "text": [
      "/home/arturo/github/downpy/codes/downscale.py:1248: RuntimeWarning: invalid value encountered in power\n",
      "  mev0f = np.sum( ( 1-np.exp(-(y/C)**W ))**N) - nyears*pr\n",
      "/home/arturo/github/downpy/codes/downscale.py:1248: RuntimeWarning: invalid value encountered in power\n",
      "  mev0f = np.sum( ( 1-np.exp(-(y/C)**W ))**N) - nyears*pr\n",
      "/home/arturo/github/downpy/codes/downscale.py:1248: RuntimeWarning: invalid value encountered in power\n",
      "  mev0f = np.sum( ( 1-np.exp(-(y/C)**W ))**N) - nyears*pr\n"
     ]
    },
    {
     "name": "stdout",
     "output_type": "stream",
     "text": [
      "mevd_quant:: ERROR - fsolve does not work -  change x0\n",
      "mevd_quant:: ERROR - fsolve does not work -  change x0\n",
      "mevd_quant:: ERROR - fsolve does not work -  change x0\n",
      "mevd_quant:: ERROR - fsolve does not work -  change x0\n",
      "mevd_quant:: ERROR - fsolve does not work -  change x0\n"
     ]
    },
    {
     "name": "stderr",
     "output_type": "stream",
     "text": [
      "/home/arturo/github/downpy/codes/downscale.py:1248: RuntimeWarning: invalid value encountered in power\n",
      "  mev0f = np.sum( ( 1-np.exp(-(y/C)**W ))**N) - nyears*pr\n",
      "/home/arturo/github/downpy/codes/downscale.py:1248: RuntimeWarning: invalid value encountered in power\n",
      "  mev0f = np.sum( ( 1-np.exp(-(y/C)**W ))**N) - nyears*pr\n"
     ]
    },
    {
     "name": "stdout",
     "output_type": "stream",
     "text": [
      "mevd_quant:: ERROR - fsolve does not work -  change x0\n",
      "mevd_quant:: ERROR - fsolve does not work -  change x0\n",
      "72\n"
     ]
    },
    {
     "name": "stderr",
     "output_type": "stream",
     "text": [
      "/home/arturo/github/downpy/codes/downscale.py:1248: RuntimeWarning: invalid value encountered in power\n",
      "  mev0f = np.sum( ( 1-np.exp(-(y/C)**W ))**N) - nyears*pr\n",
      "/home/arturo/github/downpy/codes/downscale.py:1248: RuntimeWarning: invalid value encountered in power\n",
      "  mev0f = np.sum( ( 1-np.exp(-(y/C)**W ))**N) - nyears*pr\n",
      "/home/arturo/github/downpy/codes/downscale.py:1248: RuntimeWarning: invalid value encountered in power\n",
      "  mev0f = np.sum( ( 1-np.exp(-(y/C)**W ))**N) - nyears*pr\n"
     ]
    },
    {
     "name": "stdout",
     "output_type": "stream",
     "text": [
      "mevd_quant:: ERROR - fsolve does not work -  change x0\n",
      "mevd_quant:: ERROR - fsolve does not work -  change x0\n",
      "mevd_quant:: ERROR - fsolve does not work -  change x0\n",
      "mevd_quant:: ERROR - fsolve does not work -  change x0\n",
      "mevd_quant:: ERROR - fsolve does not work -  change x0\n",
      "mevd_quant:: ERROR - fsolve does not work -  change x0\n",
      "mevd_quant:: ERROR - fsolve does not work -  change x0\n",
      "mevd_quant:: ERROR - fsolve does not work -  change x0\n"
     ]
    },
    {
     "name": "stderr",
     "output_type": "stream",
     "text": [
      "/home/arturo/github/downpy/codes/downscale.py:1248: RuntimeWarning: invalid value encountered in power\n",
      "  mev0f = np.sum( ( 1-np.exp(-(y/C)**W ))**N) - nyears*pr\n",
      "/home/arturo/github/downpy/codes/downscale.py:1248: RuntimeWarning: invalid value encountered in power\n",
      "  mev0f = np.sum( ( 1-np.exp(-(y/C)**W ))**N) - nyears*pr\n"
     ]
    },
    {
     "name": "stdout",
     "output_type": "stream",
     "text": [
      "mevd_quant:: ERROR - fsolve does not work -  change x0\n",
      "mevd_quant:: ERROR - fsolve does not work -  change x0\n",
      "mevd_quant:: ERROR - fsolve does not work -  change x0\n"
     ]
    },
    {
     "name": "stderr",
     "output_type": "stream",
     "text": [
      "/home/arturo/github/downpy/codes/downscale.py:1248: RuntimeWarning: invalid value encountered in power\n",
      "  mev0f = np.sum( ( 1-np.exp(-(y/C)**W ))**N) - nyears*pr\n",
      "/home/arturo/github/downpy/codes/downscale.py:1248: RuntimeWarning: invalid value encountered in power\n",
      "  mev0f = np.sum( ( 1-np.exp(-(y/C)**W ))**N) - nyears*pr\n"
     ]
    },
    {
     "name": "stdout",
     "output_type": "stream",
     "text": [
      "mevd_quant:: ERROR - fsolve does not work -  change x0\n",
      "mevd_quant:: ERROR - fsolve does not work -  change x0\n",
      "73\n",
      "mevd_quant:: ERROR - fsolve does not work -  change x0\n",
      "mevd_quant:: ERROR - fsolve does not work -  change x0\n",
      "mevd_quant:: ERROR - fsolve does not work -  change x0\n",
      "mevd_quant:: ERROR - fsolve does not work -  change x0\n",
      "mevd_quant:: ERROR - fsolve does not work -  change x0\n",
      "mevd_quant:: ERROR - fsolve does not work -  change x0\n",
      "mevd_quant:: ERROR - fsolve does not work -  change x0\n",
      "mevd_quant:: ERROR - fsolve does not work -  change x0\n",
      "mevd_quant:: ERROR - fsolve does not work -  change x0\n",
      "mevd_quant:: ERROR - fsolve does not work -  change x0\n"
     ]
    },
    {
     "name": "stderr",
     "output_type": "stream",
     "text": [
      "/home/arturo/github/downpy/codes/downscale.py:1248: RuntimeWarning: invalid value encountered in power\n",
      "  mev0f = np.sum( ( 1-np.exp(-(y/C)**W ))**N) - nyears*pr\n",
      "/home/arturo/github/downpy/codes/downscale.py:1248: RuntimeWarning: invalid value encountered in power\n",
      "  mev0f = np.sum( ( 1-np.exp(-(y/C)**W ))**N) - nyears*pr\n",
      "/home/arturo/github/downpy/codes/downscale.py:1248: RuntimeWarning: invalid value encountered in power\n",
      "  mev0f = np.sum( ( 1-np.exp(-(y/C)**W ))**N) - nyears*pr\n",
      "/home/arturo/github/downpy/codes/downscale.py:1248: RuntimeWarning: invalid value encountered in power\n",
      "  mev0f = np.sum( ( 1-np.exp(-(y/C)**W ))**N) - nyears*pr\n",
      "/home/arturo/github/downpy/codes/downscale.py:1248: RuntimeWarning: invalid value encountered in power\n",
      "  mev0f = np.sum( ( 1-np.exp(-(y/C)**W ))**N) - nyears*pr\n"
     ]
    },
    {
     "name": "stdout",
     "output_type": "stream",
     "text": [
      "mevd_quant:: ERROR - fsolve does not work -  change x0\n"
     ]
    },
    {
     "name": "stderr",
     "output_type": "stream",
     "text": [
      "/home/arturo/github/downpy/codes/downscale.py:1248: RuntimeWarning: invalid value encountered in power\n",
      "  mev0f = np.sum( ( 1-np.exp(-(y/C)**W ))**N) - nyears*pr\n",
      "/home/arturo/github/downpy/codes/downscale.py:1248: RuntimeWarning: invalid value encountered in power\n",
      "  mev0f = np.sum( ( 1-np.exp(-(y/C)**W ))**N) - nyears*pr\n",
      "/home/arturo/github/downpy/codes/downscale.py:1248: RuntimeWarning: invalid value encountered in power\n",
      "  mev0f = np.sum( ( 1-np.exp(-(y/C)**W ))**N) - nyears*pr\n"
     ]
    },
    {
     "name": "stdout",
     "output_type": "stream",
     "text": [
      "mevd_quant:: ERROR - fsolve does not work -  change x0\n",
      "mevd_quant:: ERROR - fsolve does not work -  change x0\n",
      "mevd_quant:: ERROR - fsolve does not work -  change x0\n",
      "74\n",
      "mevd_quant:: ERROR - fsolve does not work -  change x0\n",
      "mevd_quant:: ERROR - fsolve does not work -  change x0\n",
      "mevd_quant:: ERROR - fsolve does not work -  change x0\n",
      "mevd_quant:: ERROR - fsolve does not work -  change x0\n",
      "mevd_quant:: ERROR - fsolve does not work -  change x0\n",
      "mevd_quant:: ERROR - fsolve does not work -  change x0\n",
      "mevd_quant:: ERROR - fsolve does not work -  change x0\n",
      "mevd_quant:: ERROR - fsolve does not work -  change x0\n"
     ]
    },
    {
     "name": "stderr",
     "output_type": "stream",
     "text": [
      "/home/arturo/github/downpy/codes/downscale.py:1248: RuntimeWarning: invalid value encountered in power\n",
      "  mev0f = np.sum( ( 1-np.exp(-(y/C)**W ))**N) - nyears*pr\n",
      "/home/arturo/github/downpy/codes/downscale.py:1248: RuntimeWarning: invalid value encountered in power\n",
      "  mev0f = np.sum( ( 1-np.exp(-(y/C)**W ))**N) - nyears*pr\n",
      "/home/arturo/github/downpy/codes/downscale.py:1248: RuntimeWarning: invalid value encountered in power\n",
      "  mev0f = np.sum( ( 1-np.exp(-(y/C)**W ))**N) - nyears*pr\n",
      "/home/arturo/github/downpy/codes/downscale.py:1248: RuntimeWarning: invalid value encountered in power\n",
      "  mev0f = np.sum( ( 1-np.exp(-(y/C)**W ))**N) - nyears*pr\n",
      "/home/arturo/github/downpy/codes/downscale.py:1248: RuntimeWarning: invalid value encountered in power\n",
      "  mev0f = np.sum( ( 1-np.exp(-(y/C)**W ))**N) - nyears*pr\n",
      "/home/arturo/github/downpy/codes/downscale.py:1248: RuntimeWarning: invalid value encountered in power\n",
      "  mev0f = np.sum( ( 1-np.exp(-(y/C)**W ))**N) - nyears*pr\n"
     ]
    },
    {
     "name": "stdout",
     "output_type": "stream",
     "text": [
      "mevd_quant:: ERROR - fsolve does not work -  change x0\n",
      "mevd_quant:: ERROR - fsolve does not work -  change x0\n",
      "mevd_quant:: ERROR - fsolve does not work -  change x0\n",
      "mevd_quant:: ERROR - fsolve does not work -  change x0\n",
      "mevd_quant:: ERROR - fsolve does not work -  change x0\n"
     ]
    },
    {
     "name": "stderr",
     "output_type": "stream",
     "text": [
      "/home/arturo/github/downpy/codes/downscale.py:1248: RuntimeWarning: invalid value encountered in power\n",
      "  mev0f = np.sum( ( 1-np.exp(-(y/C)**W ))**N) - nyears*pr\n",
      "/home/arturo/github/downpy/codes/downscale.py:1248: RuntimeWarning: invalid value encountered in power\n",
      "  mev0f = np.sum( ( 1-np.exp(-(y/C)**W ))**N) - nyears*pr\n"
     ]
    },
    {
     "name": "stdout",
     "output_type": "stream",
     "text": [
      "mevd_quant:: ERROR - fsolve does not work -  change x0\n",
      "mevd_quant:: ERROR - fsolve does not work -  change x0\n",
      "mevd_quant:: ERROR - fsolve does not work -  change x0\n"
     ]
    },
    {
     "name": "stderr",
     "output_type": "stream",
     "text": [
      "/home/arturo/github/downpy/codes/downscale.py:1248: RuntimeWarning: invalid value encountered in power\n",
      "  mev0f = np.sum( ( 1-np.exp(-(y/C)**W ))**N) - nyears*pr\n"
     ]
    },
    {
     "name": "stdout",
     "output_type": "stream",
     "text": [
      "mevd_quant:: ERROR - fsolve does not work -  change x0\n",
      "75\n"
     ]
    },
    {
     "name": "stderr",
     "output_type": "stream",
     "text": [
      "/home/arturo/github/downpy/codes/downscale.py:1248: RuntimeWarning: invalid value encountered in power\n",
      "  mev0f = np.sum( ( 1-np.exp(-(y/C)**W ))**N) - nyears*pr\n",
      "/home/arturo/github/downpy/codes/downscale.py:1248: RuntimeWarning: invalid value encountered in power\n",
      "  mev0f = np.sum( ( 1-np.exp(-(y/C)**W ))**N) - nyears*pr\n"
     ]
    },
    {
     "name": "stdout",
     "output_type": "stream",
     "text": [
      "mevd_quant:: ERROR - fsolve does not work -  change x0\n",
      "mevd_quant:: ERROR - fsolve does not work -  change x0\n",
      "mevd_quant:: ERROR - fsolve does not work -  change x0\n",
      "mevd_quant:: ERROR - fsolve does not work -  change x0\n",
      "mevd_quant:: ERROR - fsolve does not work -  change x0\n",
      "mevd_quant:: ERROR - fsolve does not work -  change x0\n",
      "mevd_quant:: ERROR - fsolve does not work -  change x0\n",
      "mevd_quant:: ERROR - fsolve does not work -  change x0\n"
     ]
    },
    {
     "name": "stderr",
     "output_type": "stream",
     "text": [
      "/home/arturo/github/downpy/codes/downscale.py:1248: RuntimeWarning: invalid value encountered in power\n",
      "  mev0f = np.sum( ( 1-np.exp(-(y/C)**W ))**N) - nyears*pr\n",
      "/home/arturo/github/downpy/codes/downscale.py:1248: RuntimeWarning: invalid value encountered in power\n",
      "  mev0f = np.sum( ( 1-np.exp(-(y/C)**W ))**N) - nyears*pr\n"
     ]
    },
    {
     "name": "stdout",
     "output_type": "stream",
     "text": [
      "mevd_quant:: ERROR - fsolve does not work -  change x0\n",
      "mevd_quant:: ERROR - fsolve does not work -  change x0\n",
      "mevd_quant:: ERROR - fsolve does not work -  change x0\n",
      "mevd_quant:: ERROR - fsolve does not work -  change x0\n",
      "mevd_quant:: ERROR - fsolve does not work -  change x0\n"
     ]
    },
    {
     "name": "stderr",
     "output_type": "stream",
     "text": [
      "/home/arturo/github/downpy/codes/downscale.py:1248: RuntimeWarning: invalid value encountered in power\n",
      "  mev0f = np.sum( ( 1-np.exp(-(y/C)**W ))**N) - nyears*pr\n",
      "/home/arturo/github/downpy/codes/downscale.py:1248: RuntimeWarning: invalid value encountered in power\n",
      "  mev0f = np.sum( ( 1-np.exp(-(y/C)**W ))**N) - nyears*pr\n",
      "/home/arturo/github/downpy/codes/downscale.py:1248: RuntimeWarning: invalid value encountered in power\n",
      "  mev0f = np.sum( ( 1-np.exp(-(y/C)**W ))**N) - nyears*pr\n"
     ]
    },
    {
     "name": "stdout",
     "output_type": "stream",
     "text": [
      "mevd_quant:: ERROR - fsolve does not work -  change x0\n",
      "mevd_quant:: ERROR - fsolve does not work -  change x0\n",
      "mevd_quant:: ERROR - fsolve does not work -  change x0\n",
      "mevd_quant:: ERROR - fsolve does not work -  change x0\n",
      "mevd_quant:: ERROR - fsolve does not work -  change x0\n",
      "mevd_quant:: ERROR - fsolve does not work -  change x0\n",
      "76\n"
     ]
    },
    {
     "name": "stderr",
     "output_type": "stream",
     "text": [
      "/home/arturo/github/downpy/codes/downscale.py:1248: RuntimeWarning: invalid value encountered in power\n",
      "  mev0f = np.sum( ( 1-np.exp(-(y/C)**W ))**N) - nyears*pr\n"
     ]
    },
    {
     "name": "stdout",
     "output_type": "stream",
     "text": [
      "mevd_quant:: ERROR - fsolve does not work -  change x0\n"
     ]
    },
    {
     "name": "stderr",
     "output_type": "stream",
     "text": [
      "/home/arturo/github/downpy/codes/downscale.py:1248: RuntimeWarning: invalid value encountered in power\n",
      "  mev0f = np.sum( ( 1-np.exp(-(y/C)**W ))**N) - nyears*pr\n",
      "/home/arturo/github/downpy/codes/downscale.py:1248: RuntimeWarning: invalid value encountered in power\n",
      "  mev0f = np.sum( ( 1-np.exp(-(y/C)**W ))**N) - nyears*pr\n"
     ]
    },
    {
     "name": "stdout",
     "output_type": "stream",
     "text": [
      "mevd_quant:: ERROR - fsolve does not work -  change x0\n",
      "mevd_quant:: ERROR - fsolve does not work -  change x0\n",
      "mevd_quant:: ERROR - fsolve does not work -  change x0\n",
      "mevd_quant:: ERROR - fsolve does not work -  change x0\n",
      "mevd_quant:: ERROR - fsolve does not work -  change x0\n"
     ]
    },
    {
     "name": "stderr",
     "output_type": "stream",
     "text": [
      "/home/arturo/github/downpy/codes/downscale.py:1248: RuntimeWarning: invalid value encountered in power\n",
      "  mev0f = np.sum( ( 1-np.exp(-(y/C)**W ))**N) - nyears*pr\n"
     ]
    },
    {
     "name": "stdout",
     "output_type": "stream",
     "text": [
      "mevd_quant:: ERROR - fsolve does not work -  change x0\n",
      "77\n"
     ]
    },
    {
     "name": "stderr",
     "output_type": "stream",
     "text": [
      "/home/arturo/github/downpy/codes/downscale.py:1248: RuntimeWarning: invalid value encountered in power\n",
      "  mev0f = np.sum( ( 1-np.exp(-(y/C)**W ))**N) - nyears*pr\n",
      "/home/arturo/github/downpy/codes/downscale.py:1248: RuntimeWarning: invalid value encountered in power\n",
      "  mev0f = np.sum( ( 1-np.exp(-(y/C)**W ))**N) - nyears*pr\n"
     ]
    },
    {
     "name": "stdout",
     "output_type": "stream",
     "text": [
      "mevd_quant:: ERROR - fsolve does not work -  change x0\n",
      "mevd_quant:: ERROR - fsolve does not work -  change x0\n"
     ]
    },
    {
     "name": "stderr",
     "output_type": "stream",
     "text": [
      "/home/arturo/github/downpy/codes/downscale.py:1248: RuntimeWarning: invalid value encountered in power\n",
      "  mev0f = np.sum( ( 1-np.exp(-(y/C)**W ))**N) - nyears*pr\n",
      "/home/arturo/github/downpy/codes/downscale.py:1248: RuntimeWarning: invalid value encountered in power\n",
      "  mev0f = np.sum( ( 1-np.exp(-(y/C)**W ))**N) - nyears*pr\n",
      "/home/arturo/github/downpy/codes/downscale.py:1248: RuntimeWarning: invalid value encountered in power\n",
      "  mev0f = np.sum( ( 1-np.exp(-(y/C)**W ))**N) - nyears*pr\n",
      "/home/arturo/github/downpy/codes/downscale.py:1248: RuntimeWarning: invalid value encountered in power\n",
      "  mev0f = np.sum( ( 1-np.exp(-(y/C)**W ))**N) - nyears*pr\n",
      "/home/arturo/github/downpy/codes/downscale.py:1248: RuntimeWarning: invalid value encountered in power\n",
      "  mev0f = np.sum( ( 1-np.exp(-(y/C)**W ))**N) - nyears*pr\n",
      "/home/arturo/github/downpy/codes/downscale.py:1248: RuntimeWarning: invalid value encountered in power\n",
      "  mev0f = np.sum( ( 1-np.exp(-(y/C)**W ))**N) - nyears*pr\n"
     ]
    },
    {
     "name": "stdout",
     "output_type": "stream",
     "text": [
      "mevd_quant:: ERROR - fsolve does not work -  change x0\n",
      "mevd_quant:: ERROR - fsolve does not work -  change x0\n",
      "mevd_quant:: ERROR - fsolve does not work -  change x0\n",
      "mevd_quant:: ERROR - fsolve does not work -  change x0\n",
      "mevd_quant:: ERROR - fsolve does not work -  change x0\n",
      "mevd_quant:: ERROR - fsolve does not work -  change x0\n",
      "mevd_quant:: ERROR - fsolve does not work -  change x0\n",
      "mevd_quant:: ERROR - fsolve does not work -  change x0\n",
      "mevd_quant:: ERROR - fsolve does not work -  change x0\n",
      "mevd_quant:: ERROR - fsolve does not work -  change x0\n",
      "mevd_quant:: ERROR - fsolve does not work -  change x0\n",
      "mevd_quant:: ERROR - fsolve does not work -  change x0\n",
      "mevd_quant:: ERROR - fsolve does not work -  change x0\n",
      "mevd_quant:: ERROR - fsolve does not work -  change x0\n",
      "mevd_quant:: ERROR - fsolve does not work -  change x0\n",
      "mevd_quant:: ERROR - fsolve does not work -  change x0\n",
      "mevd_quant:: ERROR - fsolve does not work -  change x0\n",
      "mevd_quant:: ERROR - fsolve does not work -  change x0\n",
      "mevd_quant:: ERROR - fsolve does not work -  change x0\n"
     ]
    },
    {
     "name": "stderr",
     "output_type": "stream",
     "text": [
      "/home/arturo/github/downpy/codes/downscale.py:1248: RuntimeWarning: invalid value encountered in power\n",
      "  mev0f = np.sum( ( 1-np.exp(-(y/C)**W ))**N) - nyears*pr\n",
      "/home/arturo/github/downpy/codes/downscale.py:1248: RuntimeWarning: invalid value encountered in power\n",
      "  mev0f = np.sum( ( 1-np.exp(-(y/C)**W ))**N) - nyears*pr\n"
     ]
    },
    {
     "name": "stdout",
     "output_type": "stream",
     "text": [
      "mevd_quant:: ERROR - fsolve does not work -  change x0\n",
      "mevd_quant:: ERROR - fsolve does not work -  change x0\n"
     ]
    },
    {
     "name": "stderr",
     "output_type": "stream",
     "text": [
      "/home/arturo/github/downpy/codes/downscale.py:1248: RuntimeWarning: invalid value encountered in power\n",
      "  mev0f = np.sum( ( 1-np.exp(-(y/C)**W ))**N) - nyears*pr\n"
     ]
    },
    {
     "name": "stdout",
     "output_type": "stream",
     "text": [
      "mevd_quant:: ERROR - fsolve does not work -  change x0\n",
      "78\n"
     ]
    },
    {
     "name": "stderr",
     "output_type": "stream",
     "text": [
      "/home/arturo/github/downpy/codes/downscale.py:1248: RuntimeWarning: invalid value encountered in power\n",
      "  mev0f = np.sum( ( 1-np.exp(-(y/C)**W ))**N) - nyears*pr\n",
      "/home/arturo/github/downpy/codes/downscale.py:1248: RuntimeWarning: invalid value encountered in power\n",
      "  mev0f = np.sum( ( 1-np.exp(-(y/C)**W ))**N) - nyears*pr\n"
     ]
    },
    {
     "name": "stdout",
     "output_type": "stream",
     "text": [
      "mevd_quant:: ERROR - fsolve does not work -  change x0\n",
      "mevd_quant:: ERROR - fsolve does not work -  change x0\n",
      "mevd_quant:: ERROR - fsolve does not work -  change x0\n",
      "mevd_quant:: ERROR - fsolve does not work -  change x0\n"
     ]
    },
    {
     "name": "stderr",
     "output_type": "stream",
     "text": [
      "/home/arturo/github/downpy/codes/downscale.py:1248: RuntimeWarning: invalid value encountered in power\n",
      "  mev0f = np.sum( ( 1-np.exp(-(y/C)**W ))**N) - nyears*pr\n",
      "/home/arturo/github/downpy/codes/downscale.py:1248: RuntimeWarning: invalid value encountered in power\n",
      "  mev0f = np.sum( ( 1-np.exp(-(y/C)**W ))**N) - nyears*pr\n"
     ]
    },
    {
     "name": "stdout",
     "output_type": "stream",
     "text": [
      "mevd_quant:: ERROR - fsolve does not work -  change x0\n",
      "mevd_quant:: ERROR - fsolve does not work -  change x0\n",
      "mevd_quant:: ERROR - fsolve does not work -  change x0\n",
      "mevd_quant:: ERROR - fsolve does not work -  change x0\n"
     ]
    },
    {
     "name": "stderr",
     "output_type": "stream",
     "text": [
      "/home/arturo/github/downpy/codes/downscale.py:1248: RuntimeWarning: invalid value encountered in power\n",
      "  mev0f = np.sum( ( 1-np.exp(-(y/C)**W ))**N) - nyears*pr\n",
      "/home/arturo/github/downpy/codes/downscale.py:1248: RuntimeWarning: invalid value encountered in power\n",
      "  mev0f = np.sum( ( 1-np.exp(-(y/C)**W ))**N) - nyears*pr\n",
      "/home/arturo/github/downpy/codes/downscale.py:1248: RuntimeWarning: invalid value encountered in power\n",
      "  mev0f = np.sum( ( 1-np.exp(-(y/C)**W ))**N) - nyears*pr\n",
      "/home/arturo/github/downpy/codes/downscale.py:1248: RuntimeWarning: invalid value encountered in power\n",
      "  mev0f = np.sum( ( 1-np.exp(-(y/C)**W ))**N) - nyears*pr\n",
      "/home/arturo/github/downpy/codes/downscale.py:1248: RuntimeWarning: invalid value encountered in power\n",
      "  mev0f = np.sum( ( 1-np.exp(-(y/C)**W ))**N) - nyears*pr\n"
     ]
    },
    {
     "name": "stdout",
     "output_type": "stream",
     "text": [
      "mevd_quant:: ERROR - fsolve does not work -  change x0\n",
      "mevd_quant:: ERROR - fsolve does not work -  change x0\n",
      "mevd_quant:: ERROR - fsolve does not work -  change x0\n",
      "mevd_quant:: ERROR - fsolve does not work -  change x0\n",
      "mevd_quant:: ERROR - fsolve does not work -  change x0\n",
      "mevd_quant:: ERROR - fsolve does not work -  change x0\n",
      "mevd_quant:: ERROR - fsolve does not work -  change x0\n",
      "mevd_quant:: ERROR - fsolve does not work -  change x0\n",
      "mevd_quant:: ERROR - fsolve does not work -  change x0\n",
      "mevd_quant:: ERROR - fsolve does not work -  change x0\n",
      "mevd_quant:: ERROR - fsolve does not work -  change x0\n",
      "79\n",
      "mevd_quant:: ERROR - fsolve does not work -  change x0\n",
      "mevd_quant:: ERROR - fsolve does not work -  change x0\n",
      "mevd_quant:: ERROR - fsolve does not work -  change x0\n",
      "mevd_quant:: ERROR - fsolve does not work -  change x0\n"
     ]
    },
    {
     "name": "stderr",
     "output_type": "stream",
     "text": [
      "/home/arturo/github/downpy/codes/downscale.py:1248: RuntimeWarning: invalid value encountered in power\n",
      "  mev0f = np.sum( ( 1-np.exp(-(y/C)**W ))**N) - nyears*pr\n",
      "/home/arturo/github/downpy/codes/downscale.py:1248: RuntimeWarning: invalid value encountered in power\n",
      "  mev0f = np.sum( ( 1-np.exp(-(y/C)**W ))**N) - nyears*pr\n",
      "/home/arturo/github/downpy/codes/downscale.py:1248: RuntimeWarning: invalid value encountered in power\n",
      "  mev0f = np.sum( ( 1-np.exp(-(y/C)**W ))**N) - nyears*pr\n",
      "/home/arturo/github/downpy/codes/downscale.py:1248: RuntimeWarning: invalid value encountered in power\n",
      "  mev0f = np.sum( ( 1-np.exp(-(y/C)**W ))**N) - nyears*pr\n",
      "/home/arturo/github/downpy/codes/downscale.py:1248: RuntimeWarning: invalid value encountered in power\n",
      "  mev0f = np.sum( ( 1-np.exp(-(y/C)**W ))**N) - nyears*pr\n"
     ]
    },
    {
     "name": "stdout",
     "output_type": "stream",
     "text": [
      "mevd_quant:: ERROR - fsolve does not work -  change x0\n",
      "mevd_quant:: ERROR - fsolve does not work -  change x0\n",
      "mevd_quant:: ERROR - fsolve does not work -  change x0\n",
      "mevd_quant:: ERROR - fsolve does not work -  change x0\n",
      "mevd_quant:: ERROR - fsolve does not work -  change x0\n",
      "mevd_quant:: ERROR - fsolve does not work -  change x0\n",
      "mevd_quant:: ERROR - fsolve does not work -  change x0\n",
      "mevd_quant:: ERROR - fsolve does not work -  change x0\n"
     ]
    },
    {
     "name": "stderr",
     "output_type": "stream",
     "text": [
      "/home/arturo/github/downpy/codes/downscale.py:1248: RuntimeWarning: invalid value encountered in power\n",
      "  mev0f = np.sum( ( 1-np.exp(-(y/C)**W ))**N) - nyears*pr\n",
      "/home/arturo/github/downpy/codes/downscale.py:1248: RuntimeWarning: invalid value encountered in power\n",
      "  mev0f = np.sum( ( 1-np.exp(-(y/C)**W ))**N) - nyears*pr\n"
     ]
    },
    {
     "name": "stdout",
     "output_type": "stream",
     "text": [
      "mevd_quant:: ERROR - fsolve does not work -  change x0\n",
      "mevd_quant:: ERROR - fsolve does not work -  change x0\n",
      "mevd_quant:: ERROR - fsolve does not work -  change x0\n",
      "mevd_quant:: ERROR - fsolve does not work -  change x0\n",
      "mevd_quant:: ERROR - fsolve does not work -  change x0\n"
     ]
    },
    {
     "name": "stderr",
     "output_type": "stream",
     "text": [
      "/home/arturo/github/downpy/codes/downscale.py:1248: RuntimeWarning: invalid value encountered in power\n",
      "  mev0f = np.sum( ( 1-np.exp(-(y/C)**W ))**N) - nyears*pr\n",
      "/home/arturo/github/downpy/codes/downscale.py:1248: RuntimeWarning: invalid value encountered in power\n",
      "  mev0f = np.sum( ( 1-np.exp(-(y/C)**W ))**N) - nyears*pr\n"
     ]
    },
    {
     "name": "stdout",
     "output_type": "stream",
     "text": [
      "mevd_quant:: ERROR - fsolve does not work -  change x0\n",
      "mevd_quant:: ERROR - fsolve does not work -  change x0\n",
      "mevd_quant:: ERROR - fsolve does not work -  change x0\n",
      "mevd_quant:: ERROR - fsolve does not work -  change x0\n"
     ]
    },
    {
     "name": "stderr",
     "output_type": "stream",
     "text": [
      "/home/arturo/github/downpy/codes/downscale.py:1248: RuntimeWarning: invalid value encountered in power\n",
      "  mev0f = np.sum( ( 1-np.exp(-(y/C)**W ))**N) - nyears*pr\n"
     ]
    },
    {
     "name": "stdout",
     "output_type": "stream",
     "text": [
      "mevd_quant:: ERROR - fsolve does not work -  change x0\n",
      "80\n"
     ]
    },
    {
     "name": "stderr",
     "output_type": "stream",
     "text": [
      "/home/arturo/github/downpy/codes/downscale.py:1248: RuntimeWarning: invalid value encountered in power\n",
      "  mev0f = np.sum( ( 1-np.exp(-(y/C)**W ))**N) - nyears*pr\n",
      "/home/arturo/github/downpy/codes/downscale.py:1248: RuntimeWarning: invalid value encountered in power\n",
      "  mev0f = np.sum( ( 1-np.exp(-(y/C)**W ))**N) - nyears*pr\n",
      "/home/arturo/github/downpy/codes/downscale.py:1248: RuntimeWarning: invalid value encountered in power\n",
      "  mev0f = np.sum( ( 1-np.exp(-(y/C)**W ))**N) - nyears*pr\n",
      "/home/arturo/github/downpy/codes/downscale.py:1248: RuntimeWarning: invalid value encountered in power\n",
      "  mev0f = np.sum( ( 1-np.exp(-(y/C)**W ))**N) - nyears*pr\n",
      "/home/arturo/github/downpy/codes/downscale.py:1248: RuntimeWarning: invalid value encountered in power\n",
      "  mev0f = np.sum( ( 1-np.exp(-(y/C)**W ))**N) - nyears*pr\n",
      "/home/arturo/github/downpy/codes/downscale.py:1248: RuntimeWarning: invalid value encountered in power\n",
      "  mev0f = np.sum( ( 1-np.exp(-(y/C)**W ))**N) - nyears*pr\n"
     ]
    },
    {
     "name": "stdout",
     "output_type": "stream",
     "text": [
      "mevd_quant:: ERROR - fsolve does not work -  change x0\n",
      "mevd_quant:: ERROR - fsolve does not work -  change x0\n",
      "mevd_quant:: ERROR - fsolve does not work -  change x0\n",
      "mevd_quant:: ERROR - fsolve does not work -  change x0\n",
      "mevd_quant:: ERROR - fsolve does not work -  change x0\n",
      "mevd_quant:: ERROR - fsolve does not work -  change x0\n",
      "mevd_quant:: ERROR - fsolve does not work -  change x0\n",
      "mevd_quant:: ERROR - fsolve does not work -  change x0\n",
      "mevd_quant:: ERROR - fsolve does not work -  change x0\n",
      "mevd_quant:: ERROR - fsolve does not work -  change x0\n",
      "mevd_quant:: ERROR - fsolve does not work -  change x0\n",
      "mevd_quant:: ERROR - fsolve does not work -  change x0\n"
     ]
    },
    {
     "name": "stderr",
     "output_type": "stream",
     "text": [
      "/home/arturo/github/downpy/codes/downscale.py:1248: RuntimeWarning: invalid value encountered in power\n",
      "  mev0f = np.sum( ( 1-np.exp(-(y/C)**W ))**N) - nyears*pr\n"
     ]
    },
    {
     "name": "stdout",
     "output_type": "stream",
     "text": [
      "mevd_quant:: ERROR - fsolve does not work -  change x0\n"
     ]
    },
    {
     "name": "stderr",
     "output_type": "stream",
     "text": [
      "/home/arturo/github/downpy/codes/downscale.py:1248: RuntimeWarning: invalid value encountered in power\n",
      "  mev0f = np.sum( ( 1-np.exp(-(y/C)**W ))**N) - nyears*pr\n"
     ]
    },
    {
     "name": "stdout",
     "output_type": "stream",
     "text": [
      "mevd_quant:: ERROR - fsolve does not work -  change x0\n",
      "81\n"
     ]
    },
    {
     "name": "stderr",
     "output_type": "stream",
     "text": [
      "/home/arturo/github/downpy/codes/downscale.py:1248: RuntimeWarning: invalid value encountered in power\n",
      "  mev0f = np.sum( ( 1-np.exp(-(y/C)**W ))**N) - nyears*pr\n",
      "/home/arturo/github/downpy/codes/downscale.py:1248: RuntimeWarning: invalid value encountered in power\n",
      "  mev0f = np.sum( ( 1-np.exp(-(y/C)**W ))**N) - nyears*pr\n",
      "/home/arturo/github/downpy/codes/downscale.py:1248: RuntimeWarning: invalid value encountered in power\n",
      "  mev0f = np.sum( ( 1-np.exp(-(y/C)**W ))**N) - nyears*pr\n",
      "/home/arturo/github/downpy/codes/downscale.py:1248: RuntimeWarning: invalid value encountered in power\n",
      "  mev0f = np.sum( ( 1-np.exp(-(y/C)**W ))**N) - nyears*pr\n",
      "/home/arturo/github/downpy/codes/downscale.py:1248: RuntimeWarning: invalid value encountered in power\n",
      "  mev0f = np.sum( ( 1-np.exp(-(y/C)**W ))**N) - nyears*pr\n"
     ]
    },
    {
     "name": "stdout",
     "output_type": "stream",
     "text": [
      "mevd_quant:: ERROR - fsolve does not work -  change x0\n",
      "mevd_quant:: ERROR - fsolve does not work -  change x0\n",
      "mevd_quant:: ERROR - fsolve does not work -  change x0\n",
      "mevd_quant:: ERROR - fsolve does not work -  change x0\n",
      "mevd_quant:: ERROR - fsolve does not work -  change x0\n",
      "mevd_quant:: ERROR - fsolve does not work -  change x0\n",
      "mevd_quant:: ERROR - fsolve does not work -  change x0\n",
      "mevd_quant:: ERROR - fsolve does not work -  change x0\n",
      "mevd_quant:: ERROR - fsolve does not work -  change x0\n",
      "mevd_quant:: ERROR - fsolve does not work -  change x0\n",
      "mevd_quant:: ERROR - fsolve does not work -  change x0\n",
      "mevd_quant:: ERROR - fsolve does not work -  change x0\n",
      "mevd_quant:: ERROR - fsolve does not work -  change x0\n",
      "mevd_quant:: ERROR - fsolve does not work -  change x0\n",
      "mevd_quant:: ERROR - fsolve does not work -  change x0\n",
      "mevd_quant:: ERROR - fsolve does not work -  change x0\n"
     ]
    },
    {
     "name": "stderr",
     "output_type": "stream",
     "text": [
      "/home/arturo/github/downpy/codes/downscale.py:1248: RuntimeWarning: invalid value encountered in power\n",
      "  mev0f = np.sum( ( 1-np.exp(-(y/C)**W ))**N) - nyears*pr\n",
      "/home/arturo/github/downpy/codes/downscale.py:1248: RuntimeWarning: invalid value encountered in power\n",
      "  mev0f = np.sum( ( 1-np.exp(-(y/C)**W ))**N) - nyears*pr\n"
     ]
    },
    {
     "name": "stdout",
     "output_type": "stream",
     "text": [
      "mevd_quant:: ERROR - fsolve does not work -  change x0\n",
      "mevd_quant:: ERROR - fsolve does not work -  change x0\n",
      "mevd_quant:: ERROR - fsolve does not work -  change x0\n"
     ]
    },
    {
     "name": "stderr",
     "output_type": "stream",
     "text": [
      "/home/arturo/github/downpy/codes/downscale.py:1248: RuntimeWarning: invalid value encountered in power\n",
      "  mev0f = np.sum( ( 1-np.exp(-(y/C)**W ))**N) - nyears*pr\n"
     ]
    },
    {
     "name": "stdout",
     "output_type": "stream",
     "text": [
      "mevd_quant:: ERROR - fsolve does not work -  change x0\n",
      "82\n"
     ]
    },
    {
     "name": "stderr",
     "output_type": "stream",
     "text": [
      "/home/arturo/github/downpy/codes/downscale.py:1248: RuntimeWarning: invalid value encountered in power\n",
      "  mev0f = np.sum( ( 1-np.exp(-(y/C)**W ))**N) - nyears*pr\n",
      "/home/arturo/github/downpy/codes/downscale.py:1248: RuntimeWarning: invalid value encountered in power\n",
      "  mev0f = np.sum( ( 1-np.exp(-(y/C)**W ))**N) - nyears*pr\n",
      "/home/arturo/github/downpy/codes/downscale.py:1248: RuntimeWarning: invalid value encountered in power\n",
      "  mev0f = np.sum( ( 1-np.exp(-(y/C)**W ))**N) - nyears*pr\n",
      "/home/arturo/github/downpy/codes/downscale.py:1248: RuntimeWarning: invalid value encountered in power\n",
      "  mev0f = np.sum( ( 1-np.exp(-(y/C)**W ))**N) - nyears*pr\n"
     ]
    },
    {
     "name": "stdout",
     "output_type": "stream",
     "text": [
      "mevd_quant:: ERROR - fsolve does not work -  change x0\n",
      "mevd_quant:: ERROR - fsolve does not work -  change x0\n",
      "mevd_quant:: ERROR - fsolve does not work -  change x0\n",
      "mevd_quant:: ERROR - fsolve does not work -  change x0\n",
      "mevd_quant:: ERROR - fsolve does not work -  change x0\n",
      "mevd_quant:: ERROR - fsolve does not work -  change x0\n",
      "mevd_quant:: ERROR - fsolve does not work -  change x0\n",
      "mevd_quant:: ERROR - fsolve does not work -  change x0\n",
      "mevd_quant:: ERROR - fsolve does not work -  change x0\n"
     ]
    },
    {
     "name": "stderr",
     "output_type": "stream",
     "text": [
      "/home/arturo/github/downpy/codes/downscale.py:1248: RuntimeWarning: invalid value encountered in power\n",
      "  mev0f = np.sum( ( 1-np.exp(-(y/C)**W ))**N) - nyears*pr\n",
      "/home/arturo/github/downpy/codes/downscale.py:1248: RuntimeWarning: invalid value encountered in power\n",
      "  mev0f = np.sum( ( 1-np.exp(-(y/C)**W ))**N) - nyears*pr\n",
      "/home/arturo/github/downpy/codes/downscale.py:1248: RuntimeWarning: invalid value encountered in power\n",
      "  mev0f = np.sum( ( 1-np.exp(-(y/C)**W ))**N) - nyears*pr\n"
     ]
    },
    {
     "name": "stdout",
     "output_type": "stream",
     "text": [
      "mevd_quant:: ERROR - fsolve does not work -  change x0\n",
      "mevd_quant:: ERROR - fsolve does not work -  change x0\n",
      "mevd_quant:: ERROR - fsolve does not work -  change x0\n",
      "mevd_quant:: ERROR - fsolve does not work -  change x0\n",
      "83\n"
     ]
    },
    {
     "name": "stderr",
     "output_type": "stream",
     "text": [
      "/home/arturo/github/downpy/codes/downscale.py:1248: RuntimeWarning: invalid value encountered in power\n",
      "  mev0f = np.sum( ( 1-np.exp(-(y/C)**W ))**N) - nyears*pr\n",
      "/home/arturo/github/downpy/codes/downscale.py:1248: RuntimeWarning: invalid value encountered in power\n",
      "  mev0f = np.sum( ( 1-np.exp(-(y/C)**W ))**N) - nyears*pr\n",
      "/home/arturo/github/downpy/codes/downscale.py:1248: RuntimeWarning: invalid value encountered in power\n",
      "  mev0f = np.sum( ( 1-np.exp(-(y/C)**W ))**N) - nyears*pr\n"
     ]
    },
    {
     "name": "stdout",
     "output_type": "stream",
     "text": [
      "mevd_quant:: ERROR - fsolve does not work -  change x0\n",
      "mevd_quant:: ERROR - fsolve does not work -  change x0\n",
      "mevd_quant:: ERROR - fsolve does not work -  change x0\n",
      "mevd_quant:: ERROR - fsolve does not work -  change x0\n"
     ]
    },
    {
     "name": "stderr",
     "output_type": "stream",
     "text": [
      "/home/arturo/github/downpy/codes/downscale.py:1248: RuntimeWarning: invalid value encountered in power\n",
      "  mev0f = np.sum( ( 1-np.exp(-(y/C)**W ))**N) - nyears*pr\n"
     ]
    },
    {
     "name": "stdout",
     "output_type": "stream",
     "text": [
      "mevd_quant:: ERROR - fsolve does not work -  change x0\n",
      "mevd_quant:: ERROR - fsolve does not work -  change x0\n",
      "84\n",
      "mevd_quant:: ERROR - fsolve does not work -  change x0\n",
      "mevd_quant:: ERROR - fsolve does not work -  change x0\n"
     ]
    },
    {
     "name": "stderr",
     "output_type": "stream",
     "text": [
      "/home/arturo/github/downpy/codes/downscale.py:1248: RuntimeWarning: invalid value encountered in power\n",
      "  mev0f = np.sum( ( 1-np.exp(-(y/C)**W ))**N) - nyears*pr\n",
      "/home/arturo/github/downpy/codes/downscale.py:1248: RuntimeWarning: invalid value encountered in power\n",
      "  mev0f = np.sum( ( 1-np.exp(-(y/C)**W ))**N) - nyears*pr\n",
      "/home/arturo/github/downpy/codes/downscale.py:1248: RuntimeWarning: invalid value encountered in power\n",
      "  mev0f = np.sum( ( 1-np.exp(-(y/C)**W ))**N) - nyears*pr\n"
     ]
    },
    {
     "name": "stdout",
     "output_type": "stream",
     "text": [
      "mevd_quant:: ERROR - fsolve does not work -  change x0\n",
      "mevd_quant:: ERROR - fsolve does not work -  change x0\n",
      "mevd_quant:: ERROR - fsolve does not work -  change x0\n"
     ]
    },
    {
     "name": "stderr",
     "output_type": "stream",
     "text": [
      "/home/arturo/github/downpy/codes/downscale.py:1248: RuntimeWarning: invalid value encountered in power\n",
      "  mev0f = np.sum( ( 1-np.exp(-(y/C)**W ))**N) - nyears*pr\n"
     ]
    },
    {
     "name": "stdout",
     "output_type": "stream",
     "text": [
      "mevd_quant:: ERROR - fsolve does not work -  change x0\n",
      "mevd_quant:: ERROR - fsolve does not work -  change x0\n"
     ]
    },
    {
     "name": "stderr",
     "output_type": "stream",
     "text": [
      "/home/arturo/github/downpy/codes/downscale.py:1248: RuntimeWarning: invalid value encountered in power\n",
      "  mev0f = np.sum( ( 1-np.exp(-(y/C)**W ))**N) - nyears*pr\n"
     ]
    },
    {
     "name": "stdout",
     "output_type": "stream",
     "text": [
      "mevd_quant:: ERROR - fsolve does not work -  change x0\n",
      "85\n"
     ]
    },
    {
     "name": "stderr",
     "output_type": "stream",
     "text": [
      "/home/arturo/github/downpy/codes/downscale.py:1248: RuntimeWarning: invalid value encountered in power\n",
      "  mev0f = np.sum( ( 1-np.exp(-(y/C)**W ))**N) - nyears*pr\n",
      "/home/arturo/github/downpy/codes/downscale.py:1248: RuntimeWarning: invalid value encountered in power\n",
      "  mev0f = np.sum( ( 1-np.exp(-(y/C)**W ))**N) - nyears*pr\n",
      "/home/arturo/github/downpy/codes/downscale.py:1248: RuntimeWarning: invalid value encountered in power\n",
      "  mev0f = np.sum( ( 1-np.exp(-(y/C)**W ))**N) - nyears*pr\n",
      "/home/arturo/github/downpy/codes/downscale.py:1248: RuntimeWarning: invalid value encountered in power\n",
      "  mev0f = np.sum( ( 1-np.exp(-(y/C)**W ))**N) - nyears*pr\n",
      "/home/arturo/github/downpy/codes/downscale.py:1248: RuntimeWarning: invalid value encountered in power\n",
      "  mev0f = np.sum( ( 1-np.exp(-(y/C)**W ))**N) - nyears*pr\n",
      "/home/arturo/github/downpy/codes/downscale.py:1248: RuntimeWarning: invalid value encountered in power\n",
      "  mev0f = np.sum( ( 1-np.exp(-(y/C)**W ))**N) - nyears*pr\n"
     ]
    },
    {
     "name": "stdout",
     "output_type": "stream",
     "text": [
      "mevd_quant:: ERROR - fsolve does not work -  change x0\n",
      "mevd_quant:: ERROR - fsolve does not work -  change x0\n",
      "mevd_quant:: ERROR - fsolve does not work -  change x0\n",
      "mevd_quant:: ERROR - fsolve does not work -  change x0\n",
      "mevd_quant:: ERROR - fsolve does not work -  change x0\n",
      "mevd_quant:: ERROR - fsolve does not work -  change x0\n",
      "mevd_quant:: ERROR - fsolve does not work -  change x0\n",
      "mevd_quant:: ERROR - fsolve does not work -  change x0\n",
      "mevd_quant:: ERROR - fsolve does not work -  change x0\n",
      "mevd_quant:: ERROR - fsolve does not work -  change x0\n"
     ]
    },
    {
     "name": "stderr",
     "output_type": "stream",
     "text": [
      "/home/arturo/github/downpy/codes/downscale.py:1248: RuntimeWarning: invalid value encountered in power\n",
      "  mev0f = np.sum( ( 1-np.exp(-(y/C)**W ))**N) - nyears*pr\n",
      "/home/arturo/github/downpy/codes/downscale.py:1248: RuntimeWarning: invalid value encountered in power\n",
      "  mev0f = np.sum( ( 1-np.exp(-(y/C)**W ))**N) - nyears*pr\n"
     ]
    },
    {
     "name": "stdout",
     "output_type": "stream",
     "text": [
      "mevd_quant:: ERROR - fsolve does not work -  change x0\n",
      "mevd_quant:: ERROR - fsolve does not work -  change x0\n",
      "mevd_quant:: ERROR - fsolve does not work -  change x0\n",
      "86\n"
     ]
    },
    {
     "name": "stderr",
     "output_type": "stream",
     "text": [
      "/home/arturo/github/downpy/codes/downscale.py:1248: RuntimeWarning: invalid value encountered in power\n",
      "  mev0f = np.sum( ( 1-np.exp(-(y/C)**W ))**N) - nyears*pr\n",
      "/home/arturo/github/downpy/codes/downscale.py:1248: RuntimeWarning: invalid value encountered in power\n",
      "  mev0f = np.sum( ( 1-np.exp(-(y/C)**W ))**N) - nyears*pr\n",
      "/home/arturo/github/downpy/codes/downscale.py:1248: RuntimeWarning: invalid value encountered in power\n",
      "  mev0f = np.sum( ( 1-np.exp(-(y/C)**W ))**N) - nyears*pr\n"
     ]
    },
    {
     "name": "stdout",
     "output_type": "stream",
     "text": [
      "mevd_quant:: ERROR - fsolve does not work -  change x0\n",
      "mevd_quant:: ERROR - fsolve does not work -  change x0\n",
      "mevd_quant:: ERROR - fsolve does not work -  change x0\n",
      "mevd_quant:: ERROR - fsolve does not work -  change x0\n",
      "mevd_quant:: ERROR - fsolve does not work -  change x0\n",
      "mevd_quant:: ERROR - fsolve does not work -  change x0\n",
      "mevd_quant:: ERROR - fsolve does not work -  change x0\n",
      "mevd_quant:: ERROR - fsolve does not work -  change x0\n",
      "mevd_quant:: ERROR - fsolve does not work -  change x0\n",
      "mevd_quant:: ERROR - fsolve does not work -  change x0\n"
     ]
    },
    {
     "name": "stderr",
     "output_type": "stream",
     "text": [
      "/home/arturo/github/downpy/codes/downscale.py:1248: RuntimeWarning: invalid value encountered in power\n",
      "  mev0f = np.sum( ( 1-np.exp(-(y/C)**W ))**N) - nyears*pr\n",
      "/home/arturo/github/downpy/codes/downscale.py:1248: RuntimeWarning: invalid value encountered in power\n",
      "  mev0f = np.sum( ( 1-np.exp(-(y/C)**W ))**N) - nyears*pr\n"
     ]
    },
    {
     "name": "stdout",
     "output_type": "stream",
     "text": [
      "mevd_quant:: ERROR - fsolve does not work -  change x0\n",
      "mevd_quant:: ERROR - fsolve does not work -  change x0\n",
      "mevd_quant:: ERROR - fsolve does not work -  change x0\n",
      "mevd_quant:: ERROR - fsolve does not work -  change x0\n",
      "mevd_quant:: ERROR - fsolve does not work -  change x0\n",
      "mevd_quant:: ERROR - fsolve does not work -  change x0\n",
      "87\n"
     ]
    },
    {
     "name": "stderr",
     "output_type": "stream",
     "text": [
      "/home/arturo/github/downpy/codes/downscale.py:1248: RuntimeWarning: invalid value encountered in power\n",
      "  mev0f = np.sum( ( 1-np.exp(-(y/C)**W ))**N) - nyears*pr\n"
     ]
    },
    {
     "name": "stdout",
     "output_type": "stream",
     "text": [
      "mevd_quant:: ERROR - fsolve does not work -  change x0\n",
      "88\n",
      "mevd_quant:: ERROR - fsolve does not work -  change x0\n"
     ]
    },
    {
     "name": "stderr",
     "output_type": "stream",
     "text": [
      "/home/arturo/github/downpy/codes/downscale.py:1248: RuntimeWarning: invalid value encountered in power\n",
      "  mev0f = np.sum( ( 1-np.exp(-(y/C)**W ))**N) - nyears*pr\n",
      "/home/arturo/github/downpy/codes/downscale.py:1248: RuntimeWarning: invalid value encountered in power\n",
      "  mev0f = np.sum( ( 1-np.exp(-(y/C)**W ))**N) - nyears*pr\n",
      "/home/arturo/github/downpy/codes/downscale.py:1248: RuntimeWarning: invalid value encountered in power\n",
      "  mev0f = np.sum( ( 1-np.exp(-(y/C)**W ))**N) - nyears*pr\n",
      "/home/arturo/github/downpy/codes/downscale.py:1248: RuntimeWarning: invalid value encountered in power\n",
      "  mev0f = np.sum( ( 1-np.exp(-(y/C)**W ))**N) - nyears*pr\n",
      "/home/arturo/github/downpy/codes/downscale.py:1248: RuntimeWarning: invalid value encountered in power\n",
      "  mev0f = np.sum( ( 1-np.exp(-(y/C)**W ))**N) - nyears*pr\n"
     ]
    },
    {
     "name": "stdout",
     "output_type": "stream",
     "text": [
      "mevd_quant:: ERROR - fsolve does not work -  change x0\n",
      "mevd_quant:: ERROR - fsolve does not work -  change x0\n",
      "mevd_quant:: ERROR - fsolve does not work -  change x0\n",
      "mevd_quant:: ERROR - fsolve does not work -  change x0\n",
      "mevd_quant:: ERROR - fsolve does not work -  change x0\n",
      "mevd_quant:: ERROR - fsolve does not work -  change x0\n",
      "mevd_quant:: ERROR - fsolve does not work -  change x0\n",
      "mevd_quant:: ERROR - fsolve does not work -  change x0\n",
      "mevd_quant:: ERROR - fsolve does not work -  change x0\n",
      "mevd_quant:: ERROR - fsolve does not work -  change x0\n"
     ]
    },
    {
     "name": "stderr",
     "output_type": "stream",
     "text": [
      "/home/arturo/github/downpy/codes/downscale.py:1248: RuntimeWarning: invalid value encountered in power\n",
      "  mev0f = np.sum( ( 1-np.exp(-(y/C)**W ))**N) - nyears*pr\n",
      "/home/arturo/github/downpy/codes/downscale.py:1248: RuntimeWarning: invalid value encountered in power\n",
      "  mev0f = np.sum( ( 1-np.exp(-(y/C)**W ))**N) - nyears*pr\n",
      "/home/arturo/github/downpy/codes/downscale.py:1248: RuntimeWarning: invalid value encountered in power\n",
      "  mev0f = np.sum( ( 1-np.exp(-(y/C)**W ))**N) - nyears*pr\n",
      "/home/arturo/github/downpy/codes/downscale.py:1248: RuntimeWarning: invalid value encountered in power\n",
      "  mev0f = np.sum( ( 1-np.exp(-(y/C)**W ))**N) - nyears*pr\n",
      "/home/arturo/github/downpy/codes/downscale.py:1248: RuntimeWarning: invalid value encountered in power\n",
      "  mev0f = np.sum( ( 1-np.exp(-(y/C)**W ))**N) - nyears*pr\n",
      "/home/arturo/github/downpy/codes/downscale.py:1248: RuntimeWarning: invalid value encountered in power\n",
      "  mev0f = np.sum( ( 1-np.exp(-(y/C)**W ))**N) - nyears*pr\n"
     ]
    },
    {
     "name": "stdout",
     "output_type": "stream",
     "text": [
      "mevd_quant:: ERROR - fsolve does not work -  change x0\n",
      "mevd_quant:: ERROR - fsolve does not work -  change x0\n",
      "mevd_quant:: ERROR - fsolve does not work -  change x0\n",
      "mevd_quant:: ERROR - fsolve does not work -  change x0\n",
      "mevd_quant:: ERROR - fsolve does not work -  change x0\n",
      "mevd_quant:: ERROR - fsolve does not work -  change x0\n",
      "mevd_quant:: ERROR - fsolve does not work -  change x0\n",
      "mevd_quant:: ERROR - fsolve does not work -  change x0\n",
      "mevd_quant:: ERROR - fsolve does not work -  change x0\n",
      "mevd_quant:: ERROR - fsolve does not work -  change x0\n"
     ]
    },
    {
     "name": "stderr",
     "output_type": "stream",
     "text": [
      "/home/arturo/github/downpy/codes/downscale.py:1248: RuntimeWarning: invalid value encountered in power\n",
      "  mev0f = np.sum( ( 1-np.exp(-(y/C)**W ))**N) - nyears*pr\n"
     ]
    },
    {
     "name": "stdout",
     "output_type": "stream",
     "text": [
      "mevd_quant:: ERROR - fsolve does not work -  change x0\n",
      "mevd_quant:: ERROR - fsolve does not work -  change x0\n",
      "89\n",
      "mevd_quant:: ERROR - fsolve does not work -  change x0\n"
     ]
    },
    {
     "name": "stderr",
     "output_type": "stream",
     "text": [
      "/home/arturo/github/downpy/codes/downscale.py:1248: RuntimeWarning: invalid value encountered in power\n",
      "  mev0f = np.sum( ( 1-np.exp(-(y/C)**W ))**N) - nyears*pr\n",
      "/home/arturo/github/downpy/codes/downscale.py:1248: RuntimeWarning: invalid value encountered in power\n",
      "  mev0f = np.sum( ( 1-np.exp(-(y/C)**W ))**N) - nyears*pr\n",
      "/home/arturo/github/downpy/codes/downscale.py:1248: RuntimeWarning: invalid value encountered in power\n",
      "  mev0f = np.sum( ( 1-np.exp(-(y/C)**W ))**N) - nyears*pr\n"
     ]
    },
    {
     "name": "stdout",
     "output_type": "stream",
     "text": [
      "mevd_quant:: ERROR - fsolve does not work -  change x0\n",
      "mevd_quant:: ERROR - fsolve does not work -  change x0\n",
      "mevd_quant:: ERROR - fsolve does not work -  change x0\n",
      "mevd_quant:: ERROR - fsolve does not work -  change x0\n"
     ]
    },
    {
     "name": "stderr",
     "output_type": "stream",
     "text": [
      "/home/arturo/github/downpy/codes/downscale.py:1248: RuntimeWarning: invalid value encountered in power\n",
      "  mev0f = np.sum( ( 1-np.exp(-(y/C)**W ))**N) - nyears*pr\n",
      "/home/arturo/github/downpy/codes/downscale.py:1248: RuntimeWarning: invalid value encountered in power\n",
      "  mev0f = np.sum( ( 1-np.exp(-(y/C)**W ))**N) - nyears*pr\n",
      "/home/arturo/github/downpy/codes/downscale.py:1248: RuntimeWarning: invalid value encountered in power\n",
      "  mev0f = np.sum( ( 1-np.exp(-(y/C)**W ))**N) - nyears*pr\n"
     ]
    },
    {
     "name": "stdout",
     "output_type": "stream",
     "text": [
      "mevd_quant:: ERROR - fsolve does not work -  change x0\n",
      "mevd_quant:: ERROR - fsolve does not work -  change x0\n",
      "mevd_quant:: ERROR - fsolve does not work -  change x0\n",
      "mevd_quant:: ERROR - fsolve does not work -  change x0\n",
      "mevd_quant:: ERROR - fsolve does not work -  change x0\n",
      "90\n"
     ]
    },
    {
     "name": "stderr",
     "output_type": "stream",
     "text": [
      "/home/arturo/github/downpy/codes/downscale.py:1248: RuntimeWarning: invalid value encountered in power\n",
      "  mev0f = np.sum( ( 1-np.exp(-(y/C)**W ))**N) - nyears*pr\n",
      "/home/arturo/github/downpy/codes/downscale.py:1248: RuntimeWarning: invalid value encountered in power\n",
      "  mev0f = np.sum( ( 1-np.exp(-(y/C)**W ))**N) - nyears*pr\n",
      "/home/arturo/github/downpy/codes/downscale.py:1248: RuntimeWarning: invalid value encountered in power\n",
      "  mev0f = np.sum( ( 1-np.exp(-(y/C)**W ))**N) - nyears*pr\n",
      "/home/arturo/github/downpy/codes/downscale.py:1248: RuntimeWarning: invalid value encountered in power\n",
      "  mev0f = np.sum( ( 1-np.exp(-(y/C)**W ))**N) - nyears*pr\n",
      "/home/arturo/github/downpy/codes/downscale.py:1248: RuntimeWarning: invalid value encountered in power\n",
      "  mev0f = np.sum( ( 1-np.exp(-(y/C)**W ))**N) - nyears*pr\n"
     ]
    },
    {
     "name": "stdout",
     "output_type": "stream",
     "text": [
      "mevd_quant:: ERROR - fsolve does not work -  change x0\n",
      "mevd_quant:: ERROR - fsolve does not work -  change x0\n",
      "mevd_quant:: ERROR - fsolve does not work -  change x0\n",
      "mevd_quant:: ERROR - fsolve does not work -  change x0\n",
      "mevd_quant:: ERROR - fsolve does not work -  change x0\n",
      "mevd_quant:: ERROR - fsolve does not work -  change x0\n",
      "mevd_quant:: ERROR - fsolve does not work -  change x0\n",
      "mevd_quant:: ERROR - fsolve does not work -  change x0\n"
     ]
    },
    {
     "name": "stderr",
     "output_type": "stream",
     "text": [
      "/home/arturo/github/downpy/codes/downscale.py:1248: RuntimeWarning: invalid value encountered in power\n",
      "  mev0f = np.sum( ( 1-np.exp(-(y/C)**W ))**N) - nyears*pr\n",
      "/home/arturo/github/downpy/codes/downscale.py:1248: RuntimeWarning: invalid value encountered in power\n",
      "  mev0f = np.sum( ( 1-np.exp(-(y/C)**W ))**N) - nyears*pr\n"
     ]
    },
    {
     "name": "stdout",
     "output_type": "stream",
     "text": [
      "mevd_quant:: ERROR - fsolve does not work -  change x0\n",
      "mevd_quant:: ERROR - fsolve does not work -  change x0\n",
      "mevd_quant:: ERROR - fsolve does not work -  change x0\n",
      "mevd_quant:: ERROR - fsolve does not work -  change x0\n",
      "mevd_quant:: ERROR - fsolve does not work -  change x0\n",
      "mevd_quant:: ERROR - fsolve does not work -  change x0\n"
     ]
    },
    {
     "name": "stderr",
     "output_type": "stream",
     "text": [
      "/home/arturo/github/downpy/codes/downscale.py:1248: RuntimeWarning: invalid value encountered in power\n",
      "  mev0f = np.sum( ( 1-np.exp(-(y/C)**W ))**N) - nyears*pr\n",
      "/home/arturo/github/downpy/codes/downscale.py:1248: RuntimeWarning: invalid value encountered in power\n",
      "  mev0f = np.sum( ( 1-np.exp(-(y/C)**W ))**N) - nyears*pr\n",
      "/home/arturo/github/downpy/codes/downscale.py:1248: RuntimeWarning: invalid value encountered in power\n",
      "  mev0f = np.sum( ( 1-np.exp(-(y/C)**W ))**N) - nyears*pr\n"
     ]
    },
    {
     "name": "stdout",
     "output_type": "stream",
     "text": [
      "mevd_quant:: ERROR - fsolve does not work -  change x0\n",
      "mevd_quant:: ERROR - fsolve does not work -  change x0\n",
      "mevd_quant:: ERROR - fsolve does not work -  change x0\n",
      "mevd_quant:: ERROR - fsolve does not work -  change x0\n"
     ]
    },
    {
     "name": "stderr",
     "output_type": "stream",
     "text": [
      "/home/arturo/github/downpy/codes/downscale.py:1248: RuntimeWarning: invalid value encountered in power\n",
      "  mev0f = np.sum( ( 1-np.exp(-(y/C)**W ))**N) - nyears*pr\n",
      "/home/arturo/github/downpy/codes/downscale.py:1248: RuntimeWarning: invalid value encountered in power\n",
      "  mev0f = np.sum( ( 1-np.exp(-(y/C)**W ))**N) - nyears*pr\n"
     ]
    },
    {
     "name": "stdout",
     "output_type": "stream",
     "text": [
      "mevd_quant:: ERROR - fsolve does not work -  change x0\n",
      "mevd_quant:: ERROR - fsolve does not work -  change x0\n",
      "91\n"
     ]
    },
    {
     "name": "stderr",
     "output_type": "stream",
     "text": [
      "/home/arturo/github/downpy/codes/downscale.py:1248: RuntimeWarning: invalid value encountered in power\n",
      "  mev0f = np.sum( ( 1-np.exp(-(y/C)**W ))**N) - nyears*pr\n",
      "/home/arturo/github/downpy/codes/downscale.py:1248: RuntimeWarning: invalid value encountered in power\n",
      "  mev0f = np.sum( ( 1-np.exp(-(y/C)**W ))**N) - nyears*pr\n"
     ]
    },
    {
     "name": "stdout",
     "output_type": "stream",
     "text": [
      "mevd_quant:: ERROR - fsolve does not work -  change x0\n",
      "mevd_quant:: ERROR - fsolve does not work -  change x0\n"
     ]
    },
    {
     "name": "stderr",
     "output_type": "stream",
     "text": [
      "/home/arturo/github/downpy/codes/downscale.py:1248: RuntimeWarning: invalid value encountered in power\n",
      "  mev0f = np.sum( ( 1-np.exp(-(y/C)**W ))**N) - nyears*pr\n",
      "/home/arturo/github/downpy/codes/downscale.py:1248: RuntimeWarning: invalid value encountered in power\n",
      "  mev0f = np.sum( ( 1-np.exp(-(y/C)**W ))**N) - nyears*pr\n",
      "/home/arturo/github/downpy/codes/downscale.py:1248: RuntimeWarning: invalid value encountered in power\n",
      "  mev0f = np.sum( ( 1-np.exp(-(y/C)**W ))**N) - nyears*pr\n",
      "/home/arturo/github/downpy/codes/downscale.py:1248: RuntimeWarning: invalid value encountered in power\n",
      "  mev0f = np.sum( ( 1-np.exp(-(y/C)**W ))**N) - nyears*pr\n",
      "/home/arturo/github/downpy/codes/downscale.py:1248: RuntimeWarning: invalid value encountered in power\n",
      "  mev0f = np.sum( ( 1-np.exp(-(y/C)**W ))**N) - nyears*pr\n",
      "/home/arturo/github/downpy/codes/downscale.py:1248: RuntimeWarning: invalid value encountered in power\n",
      "  mev0f = np.sum( ( 1-np.exp(-(y/C)**W ))**N) - nyears*pr\n"
     ]
    },
    {
     "name": "stdout",
     "output_type": "stream",
     "text": [
      "mevd_quant:: ERROR - fsolve does not work -  change x0\n",
      "mevd_quant:: ERROR - fsolve does not work -  change x0\n",
      "mevd_quant:: ERROR - fsolve does not work -  change x0\n",
      "mevd_quant:: ERROR - fsolve does not work -  change x0\n",
      "mevd_quant:: ERROR - fsolve does not work -  change x0\n",
      "mevd_quant:: ERROR - fsolve does not work -  change x0\n",
      "mevd_quant:: ERROR - fsolve does not work -  change x0\n",
      "mevd_quant:: ERROR - fsolve does not work -  change x0\n",
      "mevd_quant:: ERROR - fsolve does not work -  change x0\n",
      "mevd_quant:: ERROR - fsolve does not work -  change x0\n",
      "mevd_quant:: ERROR - fsolve does not work -  change x0\n",
      "mevd_quant:: ERROR - fsolve does not work -  change x0\n"
     ]
    },
    {
     "name": "stderr",
     "output_type": "stream",
     "text": [
      "/home/arturo/github/downpy/codes/downscale.py:1248: RuntimeWarning: invalid value encountered in power\n",
      "  mev0f = np.sum( ( 1-np.exp(-(y/C)**W ))**N) - nyears*pr\n",
      "/home/arturo/github/downpy/codes/downscale.py:1248: RuntimeWarning: invalid value encountered in power\n",
      "  mev0f = np.sum( ( 1-np.exp(-(y/C)**W ))**N) - nyears*pr\n"
     ]
    },
    {
     "name": "stdout",
     "output_type": "stream",
     "text": [
      "mevd_quant:: ERROR - fsolve does not work -  change x0\n",
      "mevd_quant:: ERROR - fsolve does not work -  change x0\n",
      "mevd_quant:: ERROR - fsolve does not work -  change x0\n",
      "mevd_quant:: ERROR - fsolve does not work -  change x0\n",
      "mevd_quant:: ERROR - fsolve does not work -  change x0\n"
     ]
    },
    {
     "name": "stderr",
     "output_type": "stream",
     "text": [
      "/home/arturo/github/downpy/codes/downscale.py:1248: RuntimeWarning: invalid value encountered in power\n",
      "  mev0f = np.sum( ( 1-np.exp(-(y/C)**W ))**N) - nyears*pr\n"
     ]
    },
    {
     "name": "stdout",
     "output_type": "stream",
     "text": [
      "mevd_quant:: ERROR - fsolve does not work -  change x0\n",
      "92\n"
     ]
    },
    {
     "name": "stderr",
     "output_type": "stream",
     "text": [
      "/home/arturo/github/downpy/codes/downscale.py:1248: RuntimeWarning: invalid value encountered in power\n",
      "  mev0f = np.sum( ( 1-np.exp(-(y/C)**W ))**N) - nyears*pr\n",
      "/home/arturo/github/downpy/codes/downscale.py:1248: RuntimeWarning: invalid value encountered in power\n",
      "  mev0f = np.sum( ( 1-np.exp(-(y/C)**W ))**N) - nyears*pr\n",
      "/home/arturo/github/downpy/codes/downscale.py:1248: RuntimeWarning: invalid value encountered in power\n",
      "  mev0f = np.sum( ( 1-np.exp(-(y/C)**W ))**N) - nyears*pr\n",
      "/home/arturo/github/downpy/codes/downscale.py:1248: RuntimeWarning: invalid value encountered in power\n",
      "  mev0f = np.sum( ( 1-np.exp(-(y/C)**W ))**N) - nyears*pr\n",
      "/home/arturo/github/downpy/codes/downscale.py:1248: RuntimeWarning: invalid value encountered in power\n",
      "  mev0f = np.sum( ( 1-np.exp(-(y/C)**W ))**N) - nyears*pr\n"
     ]
    },
    {
     "name": "stdout",
     "output_type": "stream",
     "text": [
      "mevd_quant:: ERROR - fsolve does not work -  change x0\n",
      "mevd_quant:: ERROR - fsolve does not work -  change x0\n",
      "mevd_quant:: ERROR - fsolve does not work -  change x0\n",
      "mevd_quant:: ERROR - fsolve does not work -  change x0\n",
      "mevd_quant:: ERROR - fsolve does not work -  change x0\n",
      "mevd_quant:: ERROR - fsolve does not work -  change x0\n",
      "mevd_quant:: ERROR - fsolve does not work -  change x0\n",
      "mevd_quant:: ERROR - fsolve does not work -  change x0\n",
      "mevd_quant:: ERROR - fsolve does not work -  change x0\n",
      "mevd_quant:: ERROR - fsolve does not work -  change x0\n",
      "mevd_quant:: ERROR - fsolve does not work -  change x0\n"
     ]
    },
    {
     "name": "stderr",
     "output_type": "stream",
     "text": [
      "/home/arturo/github/downpy/codes/downscale.py:1248: RuntimeWarning: invalid value encountered in power\n",
      "  mev0f = np.sum( ( 1-np.exp(-(y/C)**W ))**N) - nyears*pr\n"
     ]
    },
    {
     "name": "stdout",
     "output_type": "stream",
     "text": [
      "mevd_quant:: ERROR - fsolve does not work -  change x0\n",
      "mevd_quant:: ERROR - fsolve does not work -  change x0\n"
     ]
    },
    {
     "name": "stderr",
     "output_type": "stream",
     "text": [
      "/home/arturo/github/downpy/codes/downscale.py:1248: RuntimeWarning: invalid value encountered in power\n",
      "  mev0f = np.sum( ( 1-np.exp(-(y/C)**W ))**N) - nyears*pr\n",
      "/home/arturo/github/downpy/codes/downscale.py:1248: RuntimeWarning: invalid value encountered in power\n",
      "  mev0f = np.sum( ( 1-np.exp(-(y/C)**W ))**N) - nyears*pr\n",
      "/home/arturo/github/downpy/codes/downscale.py:1248: RuntimeWarning: invalid value encountered in power\n",
      "  mev0f = np.sum( ( 1-np.exp(-(y/C)**W ))**N) - nyears*pr\n"
     ]
    },
    {
     "name": "stdout",
     "output_type": "stream",
     "text": [
      "mevd_quant:: ERROR - fsolve does not work -  change x0\n",
      "mevd_quant:: ERROR - fsolve does not work -  change x0\n",
      "mevd_quant:: ERROR - fsolve does not work -  change x0\n",
      "mevd_quant:: ERROR - fsolve does not work -  change x0\n",
      "mevd_quant:: ERROR - fsolve does not work -  change x0\n",
      "mevd_quant:: ERROR - fsolve does not work -  change x0\n",
      "mevd_quant:: ERROR - fsolve does not work -  change x0\n",
      "mevd_quant:: ERROR - fsolve does not work -  change x0\n"
     ]
    },
    {
     "name": "stderr",
     "output_type": "stream",
     "text": [
      "/home/arturo/github/downpy/codes/downscale.py:1248: RuntimeWarning: invalid value encountered in power\n",
      "  mev0f = np.sum( ( 1-np.exp(-(y/C)**W ))**N) - nyears*pr\n"
     ]
    },
    {
     "name": "stdout",
     "output_type": "stream",
     "text": [
      "mevd_quant:: ERROR - fsolve does not work -  change x0\n",
      "93\n"
     ]
    },
    {
     "name": "stderr",
     "output_type": "stream",
     "text": [
      "/home/arturo/github/downpy/codes/downscale.py:1248: RuntimeWarning: invalid value encountered in power\n",
      "  mev0f = np.sum( ( 1-np.exp(-(y/C)**W ))**N) - nyears*pr\n",
      "/home/arturo/github/downpy/codes/downscale.py:1248: RuntimeWarning: invalid value encountered in power\n",
      "  mev0f = np.sum( ( 1-np.exp(-(y/C)**W ))**N) - nyears*pr\n",
      "/home/arturo/github/downpy/codes/downscale.py:1248: RuntimeWarning: invalid value encountered in power\n",
      "  mev0f = np.sum( ( 1-np.exp(-(y/C)**W ))**N) - nyears*pr\n"
     ]
    },
    {
     "name": "stdout",
     "output_type": "stream",
     "text": [
      "mevd_quant:: ERROR - fsolve does not work -  change x0\n",
      "mevd_quant:: ERROR - fsolve does not work -  change x0\n",
      "mevd_quant:: ERROR - fsolve does not work -  change x0\n",
      "mevd_quant:: ERROR - fsolve does not work -  change x0\n",
      "mevd_quant:: ERROR - fsolve does not work -  change x0\n",
      "mevd_quant:: ERROR - fsolve does not work -  change x0\n",
      "mevd_quant:: ERROR - fsolve does not work -  change x0\n"
     ]
    },
    {
     "name": "stderr",
     "output_type": "stream",
     "text": [
      "/home/arturo/github/downpy/codes/downscale.py:1248: RuntimeWarning: invalid value encountered in power\n",
      "  mev0f = np.sum( ( 1-np.exp(-(y/C)**W ))**N) - nyears*pr\n",
      "/home/arturo/github/downpy/codes/downscale.py:1248: RuntimeWarning: invalid value encountered in power\n",
      "  mev0f = np.sum( ( 1-np.exp(-(y/C)**W ))**N) - nyears*pr\n"
     ]
    },
    {
     "name": "stdout",
     "output_type": "stream",
     "text": [
      "mevd_quant:: ERROR - fsolve does not work -  change x0\n",
      "mevd_quant:: ERROR - fsolve does not work -  change x0\n",
      "mevd_quant:: ERROR - fsolve does not work -  change x0\n"
     ]
    },
    {
     "name": "stderr",
     "output_type": "stream",
     "text": [
      "/home/arturo/github/downpy/codes/downscale.py:1248: RuntimeWarning: invalid value encountered in power\n",
      "  mev0f = np.sum( ( 1-np.exp(-(y/C)**W ))**N) - nyears*pr\n",
      "/home/arturo/github/downpy/codes/downscale.py:1248: RuntimeWarning: invalid value encountered in power\n",
      "  mev0f = np.sum( ( 1-np.exp(-(y/C)**W ))**N) - nyears*pr\n",
      "/home/arturo/github/downpy/codes/downscale.py:1248: RuntimeWarning: invalid value encountered in power\n",
      "  mev0f = np.sum( ( 1-np.exp(-(y/C)**W ))**N) - nyears*pr\n",
      "/home/arturo/github/downpy/codes/downscale.py:1248: RuntimeWarning: invalid value encountered in power\n",
      "  mev0f = np.sum( ( 1-np.exp(-(y/C)**W ))**N) - nyears*pr\n",
      "/home/arturo/github/downpy/codes/downscale.py:1248: RuntimeWarning: invalid value encountered in power\n",
      "  mev0f = np.sum( ( 1-np.exp(-(y/C)**W ))**N) - nyears*pr\n"
     ]
    },
    {
     "name": "stdout",
     "output_type": "stream",
     "text": [
      "mevd_quant:: ERROR - fsolve does not work -  change x0\n",
      "mevd_quant:: ERROR - fsolve does not work -  change x0\n",
      "mevd_quant:: ERROR - fsolve does not work -  change x0\n",
      "mevd_quant:: ERROR - fsolve does not work -  change x0\n",
      "mevd_quant:: ERROR - fsolve does not work -  change x0\n",
      "mevd_quant:: ERROR - fsolve does not work -  change x0\n",
      "mevd_quant:: ERROR - fsolve does not work -  change x0\n",
      "mevd_quant:: ERROR - fsolve does not work -  change x0\n",
      "mevd_quant:: ERROR - fsolve does not work -  change x0\n"
     ]
    },
    {
     "name": "stderr",
     "output_type": "stream",
     "text": [
      "/home/arturo/github/downpy/codes/downscale.py:1248: RuntimeWarning: invalid value encountered in power\n",
      "  mev0f = np.sum( ( 1-np.exp(-(y/C)**W ))**N) - nyears*pr\n"
     ]
    },
    {
     "name": "stdout",
     "output_type": "stream",
     "text": [
      "mevd_quant:: ERROR - fsolve does not work -  change x0\n",
      "94\n"
     ]
    },
    {
     "name": "stderr",
     "output_type": "stream",
     "text": [
      "/home/arturo/github/downpy/codes/downscale.py:1248: RuntimeWarning: invalid value encountered in power\n",
      "  mev0f = np.sum( ( 1-np.exp(-(y/C)**W ))**N) - nyears*pr\n"
     ]
    },
    {
     "name": "stdout",
     "output_type": "stream",
     "text": [
      "mevd_quant:: ERROR - fsolve does not work -  change x0\n"
     ]
    },
    {
     "name": "stderr",
     "output_type": "stream",
     "text": [
      "/home/arturo/github/downpy/codes/downscale.py:1248: RuntimeWarning: invalid value encountered in power\n",
      "  mev0f = np.sum( ( 1-np.exp(-(y/C)**W ))**N) - nyears*pr\n",
      "/home/arturo/github/downpy/codes/downscale.py:1248: RuntimeWarning: invalid value encountered in power\n",
      "  mev0f = np.sum( ( 1-np.exp(-(y/C)**W ))**N) - nyears*pr\n"
     ]
    },
    {
     "name": "stdout",
     "output_type": "stream",
     "text": [
      "mevd_quant:: ERROR - fsolve does not work -  change x0\n",
      "mevd_quant:: ERROR - fsolve does not work -  change x0\n",
      "mevd_quant:: ERROR - fsolve does not work -  change x0\n"
     ]
    },
    {
     "name": "stderr",
     "output_type": "stream",
     "text": [
      "/home/arturo/github/downpy/codes/downscale.py:1248: RuntimeWarning: invalid value encountered in power\n",
      "  mev0f = np.sum( ( 1-np.exp(-(y/C)**W ))**N) - nyears*pr\n"
     ]
    },
    {
     "name": "stdout",
     "output_type": "stream",
     "text": [
      "mevd_quant:: ERROR - fsolve does not work -  change x0\n",
      "mevd_quant:: ERROR - fsolve does not work -  change x0\n",
      "95\n"
     ]
    },
    {
     "name": "stderr",
     "output_type": "stream",
     "text": [
      "/home/arturo/github/downpy/codes/downscale.py:1248: RuntimeWarning: invalid value encountered in power\n",
      "  mev0f = np.sum( ( 1-np.exp(-(y/C)**W ))**N) - nyears*pr\n"
     ]
    },
    {
     "name": "stdout",
     "output_type": "stream",
     "text": [
      "mevd_quant:: ERROR - fsolve does not work -  change x0\n",
      "mevd_quant:: ERROR - fsolve does not work -  change x0\n"
     ]
    },
    {
     "name": "stderr",
     "output_type": "stream",
     "text": [
      "/home/arturo/github/downpy/codes/downscale.py:1248: RuntimeWarning: invalid value encountered in power\n",
      "  mev0f = np.sum( ( 1-np.exp(-(y/C)**W ))**N) - nyears*pr\n",
      "/home/arturo/github/downpy/codes/downscale.py:1248: RuntimeWarning: invalid value encountered in power\n",
      "  mev0f = np.sum( ( 1-np.exp(-(y/C)**W ))**N) - nyears*pr\n"
     ]
    },
    {
     "name": "stdout",
     "output_type": "stream",
     "text": [
      "mevd_quant:: ERROR - fsolve does not work -  change x0\n",
      "mevd_quant:: ERROR - fsolve does not work -  change x0\n",
      "96\n"
     ]
    },
    {
     "name": "stderr",
     "output_type": "stream",
     "text": [
      "/home/arturo/github/downpy/codes/downscale.py:1248: RuntimeWarning: invalid value encountered in power\n",
      "  mev0f = np.sum( ( 1-np.exp(-(y/C)**W ))**N) - nyears*pr\n"
     ]
    },
    {
     "name": "stdout",
     "output_type": "stream",
     "text": [
      "mevd_quant:: ERROR - fsolve does not work -  change x0\n"
     ]
    },
    {
     "name": "stderr",
     "output_type": "stream",
     "text": [
      "/home/arturo/github/downpy/codes/downscale.py:1248: RuntimeWarning: invalid value encountered in power\n",
      "  mev0f = np.sum( ( 1-np.exp(-(y/C)**W ))**N) - nyears*pr\n"
     ]
    },
    {
     "name": "stdout",
     "output_type": "stream",
     "text": [
      "mevd_quant:: ERROR - fsolve does not work -  change x0\n",
      "mevd_quant:: ERROR - fsolve does not work -  change x0\n",
      "97\n"
     ]
    },
    {
     "name": "stderr",
     "output_type": "stream",
     "text": [
      "/home/arturo/github/downpy/codes/downscale.py:1248: RuntimeWarning: invalid value encountered in power\n",
      "  mev0f = np.sum( ( 1-np.exp(-(y/C)**W ))**N) - nyears*pr\n"
     ]
    },
    {
     "name": "stdout",
     "output_type": "stream",
     "text": [
      "mevd_quant:: ERROR - fsolve does not work -  change x0\n",
      "mevd_quant:: ERROR - fsolve does not work -  change x0\n"
     ]
    },
    {
     "name": "stderr",
     "output_type": "stream",
     "text": [
      "/home/arturo/github/downpy/codes/downscale.py:1248: RuntimeWarning: invalid value encountered in power\n",
      "  mev0f = np.sum( ( 1-np.exp(-(y/C)**W ))**N) - nyears*pr\n",
      "/home/arturo/github/downpy/codes/downscale.py:1248: RuntimeWarning: invalid value encountered in power\n",
      "  mev0f = np.sum( ( 1-np.exp(-(y/C)**W ))**N) - nyears*pr\n",
      "/home/arturo/github/downpy/codes/downscale.py:1248: RuntimeWarning: invalid value encountered in power\n",
      "  mev0f = np.sum( ( 1-np.exp(-(y/C)**W ))**N) - nyears*pr\n"
     ]
    },
    {
     "name": "stdout",
     "output_type": "stream",
     "text": [
      "mevd_quant:: ERROR - fsolve does not work -  change x0\n",
      "mevd_quant:: ERROR - fsolve does not work -  change x0\n",
      "mevd_quant:: ERROR - fsolve does not work -  change x0\n",
      "mevd_quant:: ERROR - fsolve does not work -  change x0\n",
      "mevd_quant:: ERROR - fsolve does not work -  change x0\n"
     ]
    },
    {
     "name": "stderr",
     "output_type": "stream",
     "text": [
      "/home/arturo/github/downpy/codes/downscale.py:1248: RuntimeWarning: invalid value encountered in power\n",
      "  mev0f = np.sum( ( 1-np.exp(-(y/C)**W ))**N) - nyears*pr\n"
     ]
    },
    {
     "name": "stdout",
     "output_type": "stream",
     "text": [
      "mevd_quant:: ERROR - fsolve does not work -  change x0\n",
      "98\n",
      "mevd_quant:: ERROR - fsolve does not work -  change x0\n",
      "mevd_quant:: ERROR - fsolve does not work -  change x0\n"
     ]
    },
    {
     "name": "stderr",
     "output_type": "stream",
     "text": [
      "/home/arturo/github/downpy/codes/downscale.py:1248: RuntimeWarning: invalid value encountered in power\n",
      "  mev0f = np.sum( ( 1-np.exp(-(y/C)**W ))**N) - nyears*pr\n",
      "/home/arturo/github/downpy/codes/downscale.py:1248: RuntimeWarning: invalid value encountered in power\n",
      "  mev0f = np.sum( ( 1-np.exp(-(y/C)**W ))**N) - nyears*pr\n",
      "/home/arturo/github/downpy/codes/downscale.py:1248: RuntimeWarning: invalid value encountered in power\n",
      "  mev0f = np.sum( ( 1-np.exp(-(y/C)**W ))**N) - nyears*pr\n",
      "/home/arturo/github/downpy/codes/downscale.py:1248: RuntimeWarning: invalid value encountered in power\n",
      "  mev0f = np.sum( ( 1-np.exp(-(y/C)**W ))**N) - nyears*pr\n"
     ]
    },
    {
     "name": "stdout",
     "output_type": "stream",
     "text": [
      "mevd_quant:: ERROR - fsolve does not work -  change x0\n",
      "mevd_quant:: ERROR - fsolve does not work -  change x0\n",
      "mevd_quant:: ERROR - fsolve does not work -  change x0\n",
      "mevd_quant:: ERROR - fsolve does not work -  change x0\n",
      "mevd_quant:: ERROR - fsolve does not work -  change x0\n",
      "mevd_quant:: ERROR - fsolve does not work -  change x0\n",
      "99\n",
      "mevd_quant:: ERROR - fsolve does not work -  change x0\n"
     ]
    },
    {
     "name": "stderr",
     "output_type": "stream",
     "text": [
      "/home/arturo/github/downpy/codes/downscale.py:1248: RuntimeWarning: invalid value encountered in power\n",
      "  mev0f = np.sum( ( 1-np.exp(-(y/C)**W ))**N) - nyears*pr\n",
      "/home/arturo/github/downpy/codes/downscale.py:1248: RuntimeWarning: invalid value encountered in power\n",
      "  mev0f = np.sum( ( 1-np.exp(-(y/C)**W ))**N) - nyears*pr\n",
      "/home/arturo/github/downpy/codes/downscale.py:1248: RuntimeWarning: invalid value encountered in power\n",
      "  mev0f = np.sum( ( 1-np.exp(-(y/C)**W ))**N) - nyears*pr\n"
     ]
    },
    {
     "name": "stdout",
     "output_type": "stream",
     "text": [
      "mevd_quant:: ERROR - fsolve does not work -  change x0\n",
      "100\n",
      "mevd_quant:: ERROR - fsolve does not work -  change x0\n",
      "mevd_quant:: ERROR - fsolve does not work -  change x0\n"
     ]
    },
    {
     "name": "stderr",
     "output_type": "stream",
     "text": [
      "/home/arturo/github/downpy/codes/downscale.py:1248: RuntimeWarning: invalid value encountered in power\n",
      "  mev0f = np.sum( ( 1-np.exp(-(y/C)**W ))**N) - nyears*pr\n",
      "/home/arturo/github/downpy/codes/downscale.py:1248: RuntimeWarning: invalid value encountered in power\n",
      "  mev0f = np.sum( ( 1-np.exp(-(y/C)**W ))**N) - nyears*pr\n"
     ]
    },
    {
     "name": "stdout",
     "output_type": "stream",
     "text": [
      "mevd_quant:: ERROR - fsolve does not work -  change x0\n",
      "mevd_quant:: ERROR - fsolve does not work -  change x0\n"
     ]
    },
    {
     "name": "stderr",
     "output_type": "stream",
     "text": [
      "/home/arturo/github/downpy/codes/downscale.py:1248: RuntimeWarning: invalid value encountered in power\n",
      "  mev0f = np.sum( ( 1-np.exp(-(y/C)**W ))**N) - nyears*pr\n",
      "/home/arturo/github/downpy/codes/downscale.py:1248: RuntimeWarning: invalid value encountered in power\n",
      "  mev0f = np.sum( ( 1-np.exp(-(y/C)**W ))**N) - nyears*pr\n"
     ]
    },
    {
     "name": "stdout",
     "output_type": "stream",
     "text": [
      "mevd_quant:: ERROR - fsolve does not work -  change x0\n",
      "mevd_quant:: ERROR - fsolve does not work -  change x0\n",
      "mevd_quant:: ERROR - fsolve does not work -  change x0\n",
      "mevd_quant:: ERROR - fsolve does not work -  change x0\n",
      "mevd_quant:: ERROR - fsolve does not work -  change x0\n",
      "101\n"
     ]
    },
    {
     "name": "stderr",
     "output_type": "stream",
     "text": [
      "/home/arturo/github/downpy/codes/downscale.py:1248: RuntimeWarning: invalid value encountered in power\n",
      "  mev0f = np.sum( ( 1-np.exp(-(y/C)**W ))**N) - nyears*pr\n"
     ]
    },
    {
     "name": "stdout",
     "output_type": "stream",
     "text": [
      "mevd_quant:: ERROR - fsolve does not work -  change x0\n"
     ]
    },
    {
     "name": "stderr",
     "output_type": "stream",
     "text": [
      "/home/arturo/github/downpy/codes/downscale.py:1248: RuntimeWarning: invalid value encountered in power\n",
      "  mev0f = np.sum( ( 1-np.exp(-(y/C)**W ))**N) - nyears*pr\n",
      "/home/arturo/github/downpy/codes/downscale.py:1248: RuntimeWarning: invalid value encountered in power\n",
      "  mev0f = np.sum( ( 1-np.exp(-(y/C)**W ))**N) - nyears*pr\n"
     ]
    },
    {
     "name": "stdout",
     "output_type": "stream",
     "text": [
      "mevd_quant:: ERROR - fsolve does not work -  change x0\n",
      "mevd_quant:: ERROR - fsolve does not work -  change x0\n",
      "mevd_quant:: ERROR - fsolve does not work -  change x0\n",
      "mevd_quant:: ERROR - fsolve does not work -  change x0\n",
      "mevd_quant:: ERROR - fsolve does not work -  change x0\n",
      "mevd_quant:: ERROR - fsolve does not work -  change x0\n",
      "102\n",
      "mevd_quant:: ERROR - fsolve does not work -  change x0\n"
     ]
    },
    {
     "name": "stderr",
     "output_type": "stream",
     "text": [
      "/home/arturo/github/downpy/codes/downscale.py:1248: RuntimeWarning: invalid value encountered in power\n",
      "  mev0f = np.sum( ( 1-np.exp(-(y/C)**W ))**N) - nyears*pr\n",
      "/home/arturo/github/downpy/codes/downscale.py:1248: RuntimeWarning: invalid value encountered in power\n",
      "  mev0f = np.sum( ( 1-np.exp(-(y/C)**W ))**N) - nyears*pr\n",
      "/home/arturo/github/downpy/codes/downscale.py:1248: RuntimeWarning: invalid value encountered in power\n",
      "  mev0f = np.sum( ( 1-np.exp(-(y/C)**W ))**N) - nyears*pr\n"
     ]
    },
    {
     "name": "stdout",
     "output_type": "stream",
     "text": [
      "mevd_quant:: ERROR - fsolve does not work -  change x0\n",
      "mevd_quant:: ERROR - fsolve does not work -  change x0\n",
      "mevd_quant:: ERROR - fsolve does not work -  change x0\n",
      "mevd_quant:: ERROR - fsolve does not work -  change x0\n"
     ]
    },
    {
     "name": "stderr",
     "output_type": "stream",
     "text": [
      "/home/arturo/github/downpy/codes/downscale.py:1248: RuntimeWarning: invalid value encountered in power\n",
      "  mev0f = np.sum( ( 1-np.exp(-(y/C)**W ))**N) - nyears*pr\n"
     ]
    },
    {
     "name": "stdout",
     "output_type": "stream",
     "text": [
      "mevd_quant:: ERROR - fsolve does not work -  change x0\n",
      "mevd_quant:: ERROR - fsolve does not work -  change x0\n",
      "mevd_quant:: ERROR - fsolve does not work -  change x0\n",
      "103\n",
      "mevd_quant:: ERROR - fsolve does not work -  change x0\n",
      "mevd_quant:: ERROR - fsolve does not work -  change x0\n"
     ]
    },
    {
     "name": "stderr",
     "output_type": "stream",
     "text": [
      "/home/arturo/github/downpy/codes/downscale.py:1248: RuntimeWarning: invalid value encountered in power\n",
      "  mev0f = np.sum( ( 1-np.exp(-(y/C)**W ))**N) - nyears*pr\n",
      "/home/arturo/github/downpy/codes/downscale.py:1248: RuntimeWarning: invalid value encountered in power\n",
      "  mev0f = np.sum( ( 1-np.exp(-(y/C)**W ))**N) - nyears*pr\n"
     ]
    },
    {
     "name": "stdout",
     "output_type": "stream",
     "text": [
      "mevd_quant:: ERROR - fsolve does not work -  change x0\n"
     ]
    },
    {
     "name": "stderr",
     "output_type": "stream",
     "text": [
      "/home/arturo/github/downpy/codes/downscale.py:1248: RuntimeWarning: invalid value encountered in power\n",
      "  mev0f = np.sum( ( 1-np.exp(-(y/C)**W ))**N) - nyears*pr\n",
      "/home/arturo/github/downpy/codes/downscale.py:1248: RuntimeWarning: invalid value encountered in power\n",
      "  mev0f = np.sum( ( 1-np.exp(-(y/C)**W ))**N) - nyears*pr\n"
     ]
    },
    {
     "name": "stdout",
     "output_type": "stream",
     "text": [
      "mevd_quant:: ERROR - fsolve does not work -  change x0\n",
      "mevd_quant:: ERROR - fsolve does not work -  change x0\n",
      "mevd_quant:: ERROR - fsolve does not work -  change x0\n",
      "mevd_quant:: ERROR - fsolve does not work -  change x0\n",
      "mevd_quant:: ERROR - fsolve does not work -  change x0\n"
     ]
    },
    {
     "name": "stderr",
     "output_type": "stream",
     "text": [
      "/home/arturo/github/downpy/codes/downscale.py:1248: RuntimeWarning: invalid value encountered in power\n",
      "  mev0f = np.sum( ( 1-np.exp(-(y/C)**W ))**N) - nyears*pr\n",
      "/home/arturo/github/downpy/codes/downscale.py:1248: RuntimeWarning: invalid value encountered in power\n",
      "  mev0f = np.sum( ( 1-np.exp(-(y/C)**W ))**N) - nyears*pr\n"
     ]
    },
    {
     "name": "stdout",
     "output_type": "stream",
     "text": [
      "mevd_quant:: ERROR - fsolve does not work -  change x0\n",
      "mevd_quant:: ERROR - fsolve does not work -  change x0\n",
      "mevd_quant:: ERROR - fsolve does not work -  change x0\n",
      "mevd_quant:: ERROR - fsolve does not work -  change x0\n",
      "104\n",
      "mevd_quant:: ERROR - fsolve does not work -  change x0\n",
      "mevd_quant:: ERROR - fsolve does not work -  change x0\n",
      "mevd_quant:: ERROR - fsolve does not work -  change x0\n",
      "mevd_quant:: ERROR - fsolve does not work -  change x0\n"
     ]
    },
    {
     "name": "stderr",
     "output_type": "stream",
     "text": [
      "/home/arturo/github/downpy/codes/downscale.py:1248: RuntimeWarning: invalid value encountered in power\n",
      "  mev0f = np.sum( ( 1-np.exp(-(y/C)**W ))**N) - nyears*pr\n",
      "/home/arturo/github/downpy/codes/downscale.py:1248: RuntimeWarning: invalid value encountered in power\n",
      "  mev0f = np.sum( ( 1-np.exp(-(y/C)**W ))**N) - nyears*pr\n",
      "/home/arturo/github/downpy/codes/downscale.py:1248: RuntimeWarning: invalid value encountered in power\n",
      "  mev0f = np.sum( ( 1-np.exp(-(y/C)**W ))**N) - nyears*pr\n"
     ]
    },
    {
     "name": "stdout",
     "output_type": "stream",
     "text": [
      "mevd_quant:: ERROR - fsolve does not work -  change x0\n",
      "mevd_quant:: ERROR - fsolve does not work -  change x0\n",
      "mevd_quant:: ERROR - fsolve does not work -  change x0\n",
      "mevd_quant:: ERROR - fsolve does not work -  change x0\n",
      "mevd_quant:: ERROR - fsolve does not work -  change x0\n"
     ]
    },
    {
     "name": "stderr",
     "output_type": "stream",
     "text": [
      "/home/arturo/github/downpy/codes/downscale.py:1248: RuntimeWarning: invalid value encountered in power\n",
      "  mev0f = np.sum( ( 1-np.exp(-(y/C)**W ))**N) - nyears*pr\n"
     ]
    },
    {
     "name": "stdout",
     "output_type": "stream",
     "text": [
      "mevd_quant:: ERROR - fsolve does not work -  change x0\n",
      "mevd_quant:: ERROR - fsolve does not work -  change x0\n",
      "105\n",
      "mevd_quant:: ERROR - fsolve does not work -  change x0\n",
      "mevd_quant:: ERROR - fsolve does not work -  change x0\n",
      "mevd_quant:: ERROR - fsolve does not work -  change x0\n",
      "mevd_quant:: ERROR - fsolve does not work -  change x0\n",
      "mevd_quant:: ERROR - fsolve does not work -  change x0\n"
     ]
    },
    {
     "name": "stderr",
     "output_type": "stream",
     "text": [
      "/home/arturo/github/downpy/codes/downscale.py:1248: RuntimeWarning: invalid value encountered in power\n",
      "  mev0f = np.sum( ( 1-np.exp(-(y/C)**W ))**N) - nyears*pr\n",
      "/home/arturo/github/downpy/codes/downscale.py:1248: RuntimeWarning: invalid value encountered in power\n",
      "  mev0f = np.sum( ( 1-np.exp(-(y/C)**W ))**N) - nyears*pr\n",
      "/home/arturo/github/downpy/codes/downscale.py:1248: RuntimeWarning: invalid value encountered in power\n",
      "  mev0f = np.sum( ( 1-np.exp(-(y/C)**W ))**N) - nyears*pr\n",
      "/home/arturo/github/downpy/codes/downscale.py:1248: RuntimeWarning: invalid value encountered in power\n",
      "  mev0f = np.sum( ( 1-np.exp(-(y/C)**W ))**N) - nyears*pr\n"
     ]
    },
    {
     "name": "stdout",
     "output_type": "stream",
     "text": [
      "mevd_quant:: ERROR - fsolve does not work -  change x0\n",
      "mevd_quant:: ERROR - fsolve does not work -  change x0\n",
      "mevd_quant:: ERROR - fsolve does not work -  change x0\n",
      "mevd_quant:: ERROR - fsolve does not work -  change x0\n",
      "mevd_quant:: ERROR - fsolve does not work -  change x0\n",
      "mevd_quant:: ERROR - fsolve does not work -  change x0\n"
     ]
    },
    {
     "name": "stderr",
     "output_type": "stream",
     "text": [
      "/home/arturo/github/downpy/codes/downscale.py:1248: RuntimeWarning: invalid value encountered in power\n",
      "  mev0f = np.sum( ( 1-np.exp(-(y/C)**W ))**N) - nyears*pr\n",
      "/home/arturo/github/downpy/codes/downscale.py:1248: RuntimeWarning: invalid value encountered in power\n",
      "  mev0f = np.sum( ( 1-np.exp(-(y/C)**W ))**N) - nyears*pr\n"
     ]
    },
    {
     "name": "stdout",
     "output_type": "stream",
     "text": [
      "mevd_quant:: ERROR - fsolve does not work -  change x0\n",
      "mevd_quant:: ERROR - fsolve does not work -  change x0\n",
      "mevd_quant:: ERROR - fsolve does not work -  change x0\n",
      "mevd_quant:: ERROR - fsolve does not work -  change x0\n"
     ]
    },
    {
     "name": "stderr",
     "output_type": "stream",
     "text": [
      "/home/arturo/github/downpy/codes/downscale.py:1248: RuntimeWarning: invalid value encountered in power\n",
      "  mev0f = np.sum( ( 1-np.exp(-(y/C)**W ))**N) - nyears*pr\n"
     ]
    },
    {
     "name": "stdout",
     "output_type": "stream",
     "text": [
      "mevd_quant:: ERROR - fsolve does not work -  change x0\n",
      "106\n",
      "mevd_quant:: ERROR - fsolve does not work -  change x0\n",
      "mevd_quant:: ERROR - fsolve does not work -  change x0\n",
      "mevd_quant:: ERROR - fsolve does not work -  change x0\n"
     ]
    },
    {
     "name": "stderr",
     "output_type": "stream",
     "text": [
      "/home/arturo/github/downpy/codes/downscale.py:1248: RuntimeWarning: invalid value encountered in power\n",
      "  mev0f = np.sum( ( 1-np.exp(-(y/C)**W ))**N) - nyears*pr\n",
      "/home/arturo/github/downpy/codes/downscale.py:1248: RuntimeWarning: invalid value encountered in power\n",
      "  mev0f = np.sum( ( 1-np.exp(-(y/C)**W ))**N) - nyears*pr\n",
      "/home/arturo/github/downpy/codes/downscale.py:1248: RuntimeWarning: invalid value encountered in power\n",
      "  mev0f = np.sum( ( 1-np.exp(-(y/C)**W ))**N) - nyears*pr\n"
     ]
    },
    {
     "name": "stdout",
     "output_type": "stream",
     "text": [
      "mevd_quant:: ERROR - fsolve does not work -  change x0\n",
      "mevd_quant:: ERROR - fsolve does not work -  change x0\n",
      "mevd_quant:: ERROR - fsolve does not work -  change x0\n",
      "mevd_quant:: ERROR - fsolve does not work -  change x0\n"
     ]
    },
    {
     "name": "stderr",
     "output_type": "stream",
     "text": [
      "/home/arturo/github/downpy/codes/downscale.py:1248: RuntimeWarning: invalid value encountered in power\n",
      "  mev0f = np.sum( ( 1-np.exp(-(y/C)**W ))**N) - nyears*pr\n"
     ]
    },
    {
     "name": "stdout",
     "output_type": "stream",
     "text": [
      "mevd_quant:: ERROR - fsolve does not work -  change x0\n",
      "107\n",
      "mevd_quant:: ERROR - fsolve does not work -  change x0\n",
      "mevd_quant:: ERROR - fsolve does not work -  change x0\n",
      "mevd_quant:: ERROR - fsolve does not work -  change x0\n",
      "mevd_quant:: ERROR - fsolve does not work -  change x0\n",
      "mevd_quant:: ERROR - fsolve does not work -  change x0\n"
     ]
    },
    {
     "name": "stderr",
     "output_type": "stream",
     "text": [
      "/home/arturo/github/downpy/codes/downscale.py:1248: RuntimeWarning: invalid value encountered in power\n",
      "  mev0f = np.sum( ( 1-np.exp(-(y/C)**W ))**N) - nyears*pr\n",
      "/home/arturo/github/downpy/codes/downscale.py:1248: RuntimeWarning: invalid value encountered in power\n",
      "  mev0f = np.sum( ( 1-np.exp(-(y/C)**W ))**N) - nyears*pr\n",
      "/home/arturo/github/downpy/codes/downscale.py:1248: RuntimeWarning: invalid value encountered in power\n",
      "  mev0f = np.sum( ( 1-np.exp(-(y/C)**W ))**N) - nyears*pr\n"
     ]
    },
    {
     "name": "stdout",
     "output_type": "stream",
     "text": [
      "mevd_quant:: ERROR - fsolve does not work -  change x0\n",
      "mevd_quant:: ERROR - fsolve does not work -  change x0\n"
     ]
    },
    {
     "name": "stderr",
     "output_type": "stream",
     "text": [
      "/home/arturo/github/downpy/codes/downscale.py:1248: RuntimeWarning: invalid value encountered in power\n",
      "  mev0f = np.sum( ( 1-np.exp(-(y/C)**W ))**N) - nyears*pr\n"
     ]
    },
    {
     "name": "stdout",
     "output_type": "stream",
     "text": [
      "mevd_quant:: ERROR - fsolve does not work -  change x0\n"
     ]
    },
    {
     "name": "stderr",
     "output_type": "stream",
     "text": [
      "/home/arturo/github/downpy/codes/downscale.py:1248: RuntimeWarning: invalid value encountered in power\n",
      "  mev0f = np.sum( ( 1-np.exp(-(y/C)**W ))**N) - nyears*pr\n",
      "/home/arturo/github/downpy/codes/downscale.py:1248: RuntimeWarning: invalid value encountered in power\n",
      "  mev0f = np.sum( ( 1-np.exp(-(y/C)**W ))**N) - nyears*pr\n"
     ]
    },
    {
     "name": "stdout",
     "output_type": "stream",
     "text": [
      "mevd_quant:: ERROR - fsolve does not work -  change x0\n",
      "mevd_quant:: ERROR - fsolve does not work -  change x0\n",
      "mevd_quant:: ERROR - fsolve does not work -  change x0\n",
      "mevd_quant:: ERROR - fsolve does not work -  change x0\n",
      "108\n",
      "mevd_quant:: ERROR - fsolve does not work -  change x0\n",
      "mevd_quant:: ERROR - fsolve does not work -  change x0\n",
      "mevd_quant:: ERROR - fsolve does not work -  change x0\n",
      "mevd_quant:: ERROR - fsolve does not work -  change x0\n"
     ]
    },
    {
     "name": "stderr",
     "output_type": "stream",
     "text": [
      "/home/arturo/github/downpy/codes/downscale.py:1248: RuntimeWarning: invalid value encountered in power\n",
      "  mev0f = np.sum( ( 1-np.exp(-(y/C)**W ))**N) - nyears*pr\n",
      "/home/arturo/github/downpy/codes/downscale.py:1248: RuntimeWarning: invalid value encountered in power\n",
      "  mev0f = np.sum( ( 1-np.exp(-(y/C)**W ))**N) - nyears*pr\n"
     ]
    },
    {
     "name": "stdout",
     "output_type": "stream",
     "text": [
      "mevd_quant:: ERROR - fsolve does not work -  change x0\n",
      "mevd_quant:: ERROR - fsolve does not work -  change x0\n",
      "mevd_quant:: ERROR - fsolve does not work -  change x0\n"
     ]
    },
    {
     "name": "stderr",
     "output_type": "stream",
     "text": [
      "/home/arturo/github/downpy/codes/downscale.py:1248: RuntimeWarning: invalid value encountered in power\n",
      "  mev0f = np.sum( ( 1-np.exp(-(y/C)**W ))**N) - nyears*pr\n"
     ]
    },
    {
     "name": "stdout",
     "output_type": "stream",
     "text": [
      "mevd_quant:: ERROR - fsolve does not work -  change x0\n"
     ]
    },
    {
     "name": "stderr",
     "output_type": "stream",
     "text": [
      "/home/arturo/github/downpy/codes/downscale.py:1248: RuntimeWarning: invalid value encountered in power\n",
      "  mev0f = np.sum( ( 1-np.exp(-(y/C)**W ))**N) - nyears*pr\n"
     ]
    },
    {
     "name": "stdout",
     "output_type": "stream",
     "text": [
      "mevd_quant:: ERROR - fsolve does not work -  change x0\n"
     ]
    },
    {
     "name": "stderr",
     "output_type": "stream",
     "text": [
      "/home/arturo/github/downpy/codes/downscale.py:1248: RuntimeWarning: invalid value encountered in power\n",
      "  mev0f = np.sum( ( 1-np.exp(-(y/C)**W ))**N) - nyears*pr\n",
      "/home/arturo/github/downpy/codes/downscale.py:1248: RuntimeWarning: invalid value encountered in power\n",
      "  mev0f = np.sum( ( 1-np.exp(-(y/C)**W ))**N) - nyears*pr\n",
      "/home/arturo/github/downpy/codes/downscale.py:1248: RuntimeWarning: invalid value encountered in power\n",
      "  mev0f = np.sum( ( 1-np.exp(-(y/C)**W ))**N) - nyears*pr\n",
      "/home/arturo/github/downpy/codes/downscale.py:1248: RuntimeWarning: invalid value encountered in power\n",
      "  mev0f = np.sum( ( 1-np.exp(-(y/C)**W ))**N) - nyears*pr\n"
     ]
    },
    {
     "name": "stdout",
     "output_type": "stream",
     "text": [
      "mevd_quant:: ERROR - fsolve does not work -  change x0\n",
      "mevd_quant:: ERROR - fsolve does not work -  change x0\n",
      "109\n",
      "mevd_quant:: ERROR - fsolve does not work -  change x0\n",
      "mevd_quant:: ERROR - fsolve does not work -  change x0\n",
      "mevd_quant:: ERROR - fsolve does not work -  change x0\n",
      "mevd_quant:: ERROR - fsolve does not work -  change x0\n",
      "mevd_quant:: ERROR - fsolve does not work -  change x0\n",
      "mevd_quant:: ERROR - fsolve does not work -  change x0\n",
      "110\n",
      "mevd_quant:: ERROR - fsolve does not work -  change x0\n",
      "mevd_quant:: ERROR - fsolve does not work -  change x0\n",
      "mevd_quant:: ERROR - fsolve does not work -  change x0\n"
     ]
    },
    {
     "name": "stderr",
     "output_type": "stream",
     "text": [
      "/home/arturo/github/downpy/codes/downscale.py:1248: RuntimeWarning: invalid value encountered in power\n",
      "  mev0f = np.sum( ( 1-np.exp(-(y/C)**W ))**N) - nyears*pr\n",
      "/home/arturo/github/downpy/codes/downscale.py:1248: RuntimeWarning: invalid value encountered in power\n",
      "  mev0f = np.sum( ( 1-np.exp(-(y/C)**W ))**N) - nyears*pr\n",
      "/home/arturo/github/downpy/codes/downscale.py:1248: RuntimeWarning: invalid value encountered in power\n",
      "  mev0f = np.sum( ( 1-np.exp(-(y/C)**W ))**N) - nyears*pr\n"
     ]
    },
    {
     "name": "stdout",
     "output_type": "stream",
     "text": [
      "mevd_quant:: ERROR - fsolve does not work -  change x0\n",
      "mevd_quant:: ERROR - fsolve does not work -  change x0\n"
     ]
    },
    {
     "name": "stderr",
     "output_type": "stream",
     "text": [
      "/home/arturo/github/downpy/codes/downscale.py:1248: RuntimeWarning: invalid value encountered in power\n",
      "  mev0f = np.sum( ( 1-np.exp(-(y/C)**W ))**N) - nyears*pr\n"
     ]
    },
    {
     "name": "stdout",
     "output_type": "stream",
     "text": [
      "mevd_quant:: ERROR - fsolve does not work -  change x0\n",
      "111\n",
      "mevd_quant:: ERROR - fsolve does not work -  change x0\n",
      "mevd_quant:: ERROR - fsolve does not work -  change x0\n",
      "mevd_quant:: ERROR - fsolve does not work -  change x0\n",
      "mevd_quant:: ERROR - fsolve does not work -  change x0\n"
     ]
    },
    {
     "name": "stderr",
     "output_type": "stream",
     "text": [
      "/home/arturo/github/downpy/codes/downscale.py:1248: RuntimeWarning: invalid value encountered in power\n",
      "  mev0f = np.sum( ( 1-np.exp(-(y/C)**W ))**N) - nyears*pr\n",
      "/home/arturo/github/downpy/codes/downscale.py:1248: RuntimeWarning: invalid value encountered in power\n",
      "  mev0f = np.sum( ( 1-np.exp(-(y/C)**W ))**N) - nyears*pr\n",
      "/home/arturo/github/downpy/codes/downscale.py:1248: RuntimeWarning: invalid value encountered in power\n",
      "  mev0f = np.sum( ( 1-np.exp(-(y/C)**W ))**N) - nyears*pr\n",
      "/home/arturo/github/downpy/codes/downscale.py:1248: RuntimeWarning: invalid value encountered in power\n",
      "  mev0f = np.sum( ( 1-np.exp(-(y/C)**W ))**N) - nyears*pr\n",
      "/home/arturo/github/downpy/codes/downscale.py:1248: RuntimeWarning: invalid value encountered in power\n",
      "  mev0f = np.sum( ( 1-np.exp(-(y/C)**W ))**N) - nyears*pr\n",
      "/home/arturo/github/downpy/codes/downscale.py:1248: RuntimeWarning: invalid value encountered in power\n",
      "  mev0f = np.sum( ( 1-np.exp(-(y/C)**W ))**N) - nyears*pr\n",
      "/home/arturo/github/downpy/codes/downscale.py:1248: RuntimeWarning: invalid value encountered in power\n",
      "  mev0f = np.sum( ( 1-np.exp(-(y/C)**W ))**N) - nyears*pr\n",
      "/home/arturo/github/downpy/codes/downscale.py:1248: RuntimeWarning: invalid value encountered in power\n",
      "  mev0f = np.sum( ( 1-np.exp(-(y/C)**W ))**N) - nyears*pr\n"
     ]
    },
    {
     "name": "stdout",
     "output_type": "stream",
     "text": [
      "mevd_quant:: ERROR - fsolve does not work -  change x0\n",
      "mevd_quant:: ERROR - fsolve does not work -  change x0\n",
      "mevd_quant:: ERROR - fsolve does not work -  change x0\n",
      "mevd_quant:: ERROR - fsolve does not work -  change x0\n",
      "mevd_quant:: ERROR - fsolve does not work -  change x0\n",
      "mevd_quant:: ERROR - fsolve does not work -  change x0\n",
      "mevd_quant:: ERROR - fsolve does not work -  change x0\n",
      "mevd_quant:: ERROR - fsolve does not work -  change x0\n",
      "mevd_quant:: ERROR - fsolve does not work -  change x0\n",
      "mevd_quant:: ERROR - fsolve does not work -  change x0\n",
      "mevd_quant:: ERROR - fsolve does not work -  change x0\n",
      "mevd_quant:: ERROR - fsolve does not work -  change x0\n",
      "mevd_quant:: ERROR - fsolve does not work -  change x0\n",
      "mevd_quant:: ERROR - fsolve does not work -  change x0\n",
      "mevd_quant:: ERROR - fsolve does not work -  change x0\n",
      "mevd_quant:: ERROR - fsolve does not work -  change x0\n",
      "112\n",
      "mevd_quant:: ERROR - fsolve does not work -  change x0\n"
     ]
    },
    {
     "name": "stderr",
     "output_type": "stream",
     "text": [
      "/home/arturo/github/downpy/codes/downscale.py:1248: RuntimeWarning: invalid value encountered in power\n",
      "  mev0f = np.sum( ( 1-np.exp(-(y/C)**W ))**N) - nyears*pr\n",
      "/home/arturo/github/downpy/codes/downscale.py:1248: RuntimeWarning: invalid value encountered in power\n",
      "  mev0f = np.sum( ( 1-np.exp(-(y/C)**W ))**N) - nyears*pr\n",
      "/home/arturo/github/downpy/codes/downscale.py:1248: RuntimeWarning: invalid value encountered in power\n",
      "  mev0f = np.sum( ( 1-np.exp(-(y/C)**W ))**N) - nyears*pr\n",
      "/home/arturo/github/downpy/codes/downscale.py:1248: RuntimeWarning: invalid value encountered in power\n",
      "  mev0f = np.sum( ( 1-np.exp(-(y/C)**W ))**N) - nyears*pr\n",
      "/home/arturo/github/downpy/codes/downscale.py:1248: RuntimeWarning: invalid value encountered in power\n",
      "  mev0f = np.sum( ( 1-np.exp(-(y/C)**W ))**N) - nyears*pr\n"
     ]
    },
    {
     "name": "stdout",
     "output_type": "stream",
     "text": [
      "mevd_quant:: ERROR - fsolve does not work -  change x0\n",
      "mevd_quant:: ERROR - fsolve does not work -  change x0\n",
      "mevd_quant:: ERROR - fsolve does not work -  change x0\n",
      "mevd_quant:: ERROR - fsolve does not work -  change x0\n",
      "mevd_quant:: ERROR - fsolve does not work -  change x0\n",
      "mevd_quant:: ERROR - fsolve does not work -  change x0\n",
      "mevd_quant:: ERROR - fsolve does not work -  change x0\n",
      "mevd_quant:: ERROR - fsolve does not work -  change x0\n",
      "mevd_quant:: ERROR - fsolve does not work -  change x0\n",
      "mevd_quant:: ERROR - fsolve does not work -  change x0\n",
      "mevd_quant:: ERROR - fsolve does not work -  change x0\n",
      "mevd_quant:: ERROR - fsolve does not work -  change x0\n",
      "mevd_quant:: ERROR - fsolve does not work -  change x0\n",
      "113\n",
      "mevd_quant:: ERROR - fsolve does not work -  change x0\n",
      "mevd_quant:: ERROR - fsolve does not work -  change x0\n"
     ]
    },
    {
     "name": "stderr",
     "output_type": "stream",
     "text": [
      "/home/arturo/github/downpy/codes/downscale.py:1248: RuntimeWarning: invalid value encountered in power\n",
      "  mev0f = np.sum( ( 1-np.exp(-(y/C)**W ))**N) - nyears*pr\n",
      "/home/arturo/github/downpy/codes/downscale.py:1248: RuntimeWarning: invalid value encountered in power\n",
      "  mev0f = np.sum( ( 1-np.exp(-(y/C)**W ))**N) - nyears*pr\n",
      "/home/arturo/github/downpy/codes/downscale.py:1248: RuntimeWarning: invalid value encountered in power\n",
      "  mev0f = np.sum( ( 1-np.exp(-(y/C)**W ))**N) - nyears*pr\n",
      "/home/arturo/github/downpy/codes/downscale.py:1248: RuntimeWarning: invalid value encountered in power\n",
      "  mev0f = np.sum( ( 1-np.exp(-(y/C)**W ))**N) - nyears*pr\n",
      "/home/arturo/github/downpy/codes/downscale.py:1248: RuntimeWarning: invalid value encountered in power\n",
      "  mev0f = np.sum( ( 1-np.exp(-(y/C)**W ))**N) - nyears*pr\n",
      "/home/arturo/github/downpy/codes/downscale.py:1248: RuntimeWarning: invalid value encountered in power\n",
      "  mev0f = np.sum( ( 1-np.exp(-(y/C)**W ))**N) - nyears*pr\n"
     ]
    },
    {
     "name": "stdout",
     "output_type": "stream",
     "text": [
      "mevd_quant:: ERROR - fsolve does not work -  change x0\n",
      "mevd_quant:: ERROR - fsolve does not work -  change x0\n",
      "mevd_quant:: ERROR - fsolve does not work -  change x0\n",
      "mevd_quant:: ERROR - fsolve does not work -  change x0\n",
      "mevd_quant:: ERROR - fsolve does not work -  change x0\n",
      "mevd_quant:: ERROR - fsolve does not work -  change x0\n",
      "mevd_quant:: ERROR - fsolve does not work -  change x0\n",
      "mevd_quant:: ERROR - fsolve does not work -  change x0\n",
      "mevd_quant:: ERROR - fsolve does not work -  change x0\n"
     ]
    },
    {
     "name": "stderr",
     "output_type": "stream",
     "text": [
      "/home/arturo/github/downpy/codes/downscale.py:1248: RuntimeWarning: invalid value encountered in power\n",
      "  mev0f = np.sum( ( 1-np.exp(-(y/C)**W ))**N) - nyears*pr\n"
     ]
    },
    {
     "name": "stdout",
     "output_type": "stream",
     "text": [
      "mevd_quant:: ERROR - fsolve does not work -  change x0\n",
      "114\n"
     ]
    },
    {
     "name": "stderr",
     "output_type": "stream",
     "text": [
      "/home/arturo/github/downpy/codes/downscale.py:1248: RuntimeWarning: invalid value encountered in power\n",
      "  mev0f = np.sum( ( 1-np.exp(-(y/C)**W ))**N) - nyears*pr\n"
     ]
    },
    {
     "name": "stdout",
     "output_type": "stream",
     "text": [
      "mevd_quant:: ERROR - fsolve does not work -  change x0\n",
      "mevd_quant:: ERROR - fsolve does not work -  change x0\n"
     ]
    },
    {
     "name": "stderr",
     "output_type": "stream",
     "text": [
      "/home/arturo/github/downpy/codes/downscale.py:1248: RuntimeWarning: invalid value encountered in power\n",
      "  mev0f = np.sum( ( 1-np.exp(-(y/C)**W ))**N) - nyears*pr\n",
      "/home/arturo/github/downpy/codes/downscale.py:1248: RuntimeWarning: invalid value encountered in power\n",
      "  mev0f = np.sum( ( 1-np.exp(-(y/C)**W ))**N) - nyears*pr\n",
      "/home/arturo/github/downpy/codes/downscale.py:1248: RuntimeWarning: invalid value encountered in power\n",
      "  mev0f = np.sum( ( 1-np.exp(-(y/C)**W ))**N) - nyears*pr\n",
      "/home/arturo/github/downpy/codes/downscale.py:1248: RuntimeWarning: invalid value encountered in power\n",
      "  mev0f = np.sum( ( 1-np.exp(-(y/C)**W ))**N) - nyears*pr\n",
      "/home/arturo/github/downpy/codes/downscale.py:1248: RuntimeWarning: invalid value encountered in power\n",
      "  mev0f = np.sum( ( 1-np.exp(-(y/C)**W ))**N) - nyears*pr\n"
     ]
    },
    {
     "name": "stdout",
     "output_type": "stream",
     "text": [
      "mevd_quant:: ERROR - fsolve does not work -  change x0\n",
      "mevd_quant:: ERROR - fsolve does not work -  change x0\n",
      "mevd_quant:: ERROR - fsolve does not work -  change x0\n",
      "mevd_quant:: ERROR - fsolve does not work -  change x0\n",
      "mevd_quant:: ERROR - fsolve does not work -  change x0\n",
      "mevd_quant:: ERROR - fsolve does not work -  change x0\n",
      "mevd_quant:: ERROR - fsolve does not work -  change x0\n",
      "mevd_quant:: ERROR - fsolve does not work -  change x0\n",
      "mevd_quant:: ERROR - fsolve does not work -  change x0\n",
      "mevd_quant:: ERROR - fsolve does not work -  change x0\n",
      "mevd_quant:: ERROR - fsolve does not work -  change x0\n",
      "mevd_quant:: ERROR - fsolve does not work -  change x0\n",
      "mevd_quant:: ERROR - fsolve does not work -  change x0\n",
      "mevd_quant:: ERROR - fsolve does not work -  change x0\n",
      "mevd_quant:: ERROR - fsolve does not work -  change x0\n"
     ]
    },
    {
     "name": "stderr",
     "output_type": "stream",
     "text": [
      "/home/arturo/github/downpy/codes/downscale.py:1248: RuntimeWarning: invalid value encountered in power\n",
      "  mev0f = np.sum( ( 1-np.exp(-(y/C)**W ))**N) - nyears*pr\n"
     ]
    },
    {
     "name": "stdout",
     "output_type": "stream",
     "text": [
      "mevd_quant:: ERROR - fsolve does not work -  change x0\n",
      "mevd_quant:: ERROR - fsolve does not work -  change x0\n",
      "115\n"
     ]
    },
    {
     "name": "stderr",
     "output_type": "stream",
     "text": [
      "/home/arturo/github/downpy/codes/downscale.py:1248: RuntimeWarning: invalid value encountered in power\n",
      "  mev0f = np.sum( ( 1-np.exp(-(y/C)**W ))**N) - nyears*pr\n",
      "/home/arturo/github/downpy/codes/downscale.py:1248: RuntimeWarning: invalid value encountered in power\n",
      "  mev0f = np.sum( ( 1-np.exp(-(y/C)**W ))**N) - nyears*pr\n",
      "/home/arturo/github/downpy/codes/downscale.py:1248: RuntimeWarning: invalid value encountered in power\n",
      "  mev0f = np.sum( ( 1-np.exp(-(y/C)**W ))**N) - nyears*pr\n",
      "/home/arturo/github/downpy/codes/downscale.py:1248: RuntimeWarning: invalid value encountered in power\n",
      "  mev0f = np.sum( ( 1-np.exp(-(y/C)**W ))**N) - nyears*pr\n",
      "/home/arturo/github/downpy/codes/downscale.py:1248: RuntimeWarning: invalid value encountered in power\n",
      "  mev0f = np.sum( ( 1-np.exp(-(y/C)**W ))**N) - nyears*pr\n",
      "/home/arturo/github/downpy/codes/downscale.py:1248: RuntimeWarning: invalid value encountered in power\n",
      "  mev0f = np.sum( ( 1-np.exp(-(y/C)**W ))**N) - nyears*pr\n",
      "/home/arturo/github/downpy/codes/downscale.py:1248: RuntimeWarning: invalid value encountered in power\n",
      "  mev0f = np.sum( ( 1-np.exp(-(y/C)**W ))**N) - nyears*pr\n"
     ]
    },
    {
     "name": "stdout",
     "output_type": "stream",
     "text": [
      "mevd_quant:: ERROR - fsolve does not work -  change x0\n",
      "mevd_quant:: ERROR - fsolve does not work -  change x0\n",
      "mevd_quant:: ERROR - fsolve does not work -  change x0\n",
      "mevd_quant:: ERROR - fsolve does not work -  change x0\n",
      "mevd_quant:: ERROR - fsolve does not work -  change x0\n",
      "mevd_quant:: ERROR - fsolve does not work -  change x0\n",
      "mevd_quant:: ERROR - fsolve does not work -  change x0\n",
      "mevd_quant:: ERROR - fsolve does not work -  change x0\n",
      "mevd_quant:: ERROR - fsolve does not work -  change x0\n",
      "mevd_quant:: ERROR - fsolve does not work -  change x0\n",
      "mevd_quant:: ERROR - fsolve does not work -  change x0\n",
      "mevd_quant:: ERROR - fsolve does not work -  change x0\n",
      "mevd_quant:: ERROR - fsolve does not work -  change x0\n",
      "mevd_quant:: ERROR - fsolve does not work -  change x0\n",
      "116\n"
     ]
    },
    {
     "name": "stderr",
     "output_type": "stream",
     "text": [
      "/home/arturo/github/downpy/codes/downscale.py:1248: RuntimeWarning: invalid value encountered in power\n",
      "  mev0f = np.sum( ( 1-np.exp(-(y/C)**W ))**N) - nyears*pr\n"
     ]
    },
    {
     "name": "stdout",
     "output_type": "stream",
     "text": [
      "mevd_quant:: ERROR - fsolve does not work -  change x0\n"
     ]
    },
    {
     "name": "stderr",
     "output_type": "stream",
     "text": [
      "/home/arturo/github/downpy/codes/downscale.py:1248: RuntimeWarning: invalid value encountered in power\n",
      "  mev0f = np.sum( ( 1-np.exp(-(y/C)**W ))**N) - nyears*pr\n",
      "/home/arturo/github/downpy/codes/downscale.py:1248: RuntimeWarning: invalid value encountered in power\n",
      "  mev0f = np.sum( ( 1-np.exp(-(y/C)**W ))**N) - nyears*pr\n",
      "/home/arturo/github/downpy/codes/downscale.py:1248: RuntimeWarning: invalid value encountered in power\n",
      "  mev0f = np.sum( ( 1-np.exp(-(y/C)**W ))**N) - nyears*pr\n"
     ]
    },
    {
     "name": "stdout",
     "output_type": "stream",
     "text": [
      "mevd_quant:: ERROR - fsolve does not work -  change x0\n",
      "mevd_quant:: ERROR - fsolve does not work -  change x0\n",
      "mevd_quant:: ERROR - fsolve does not work -  change x0\n",
      "mevd_quant:: ERROR - fsolve does not work -  change x0\n",
      "mevd_quant:: ERROR - fsolve does not work -  change x0\n",
      "117\n"
     ]
    },
    {
     "name": "stderr",
     "output_type": "stream",
     "text": [
      "/home/arturo/github/downpy/codes/downscale.py:1248: RuntimeWarning: invalid value encountered in power\n",
      "  mev0f = np.sum( ( 1-np.exp(-(y/C)**W ))**N) - nyears*pr\n",
      "/home/arturo/github/downpy/codes/downscale.py:1248: RuntimeWarning: invalid value encountered in power\n",
      "  mev0f = np.sum( ( 1-np.exp(-(y/C)**W ))**N) - nyears*pr\n",
      "/home/arturo/github/downpy/codes/downscale.py:1248: RuntimeWarning: invalid value encountered in power\n",
      "  mev0f = np.sum( ( 1-np.exp(-(y/C)**W ))**N) - nyears*pr\n",
      "/home/arturo/github/downpy/codes/downscale.py:1248: RuntimeWarning: invalid value encountered in power\n",
      "  mev0f = np.sum( ( 1-np.exp(-(y/C)**W ))**N) - nyears*pr\n",
      "/home/arturo/github/downpy/codes/downscale.py:1248: RuntimeWarning: invalid value encountered in power\n",
      "  mev0f = np.sum( ( 1-np.exp(-(y/C)**W ))**N) - nyears*pr\n"
     ]
    },
    {
     "name": "stdout",
     "output_type": "stream",
     "text": [
      "mevd_quant:: ERROR - fsolve does not work -  change x0\n",
      "mevd_quant:: ERROR - fsolve does not work -  change x0\n",
      "mevd_quant:: ERROR - fsolve does not work -  change x0\n",
      "mevd_quant:: ERROR - fsolve does not work -  change x0\n",
      "mevd_quant:: ERROR - fsolve does not work -  change x0\n",
      "mevd_quant:: ERROR - fsolve does not work -  change x0\n",
      "mevd_quant:: ERROR - fsolve does not work -  change x0\n",
      "mevd_quant:: ERROR - fsolve does not work -  change x0\n",
      "118\n"
     ]
    },
    {
     "name": "stderr",
     "output_type": "stream",
     "text": [
      "/home/arturo/github/downpy/codes/downscale.py:1248: RuntimeWarning: invalid value encountered in power\n",
      "  mev0f = np.sum( ( 1-np.exp(-(y/C)**W ))**N) - nyears*pr\n"
     ]
    },
    {
     "name": "stdout",
     "output_type": "stream",
     "text": [
      "mevd_quant:: ERROR - fsolve does not work -  change x0\n",
      "mevd_quant:: ERROR - fsolve does not work -  change x0\n",
      "mevd_quant:: ERROR - fsolve does not work -  change x0\n",
      "119\n"
     ]
    },
    {
     "name": "stderr",
     "output_type": "stream",
     "text": [
      "/home/arturo/github/downpy/codes/downscale.py:1248: RuntimeWarning: invalid value encountered in power\n",
      "  mev0f = np.sum( ( 1-np.exp(-(y/C)**W ))**N) - nyears*pr\n"
     ]
    },
    {
     "name": "stdout",
     "output_type": "stream",
     "text": [
      "mevd_quant:: ERROR - fsolve does not work -  change x0\n",
      "mevd_quant:: ERROR - fsolve does not work -  change x0\n",
      "mevd_quant:: ERROR - fsolve does not work -  change x0\n",
      "120\n",
      "mevd_quant:: ERROR - fsolve does not work -  change x0\n"
     ]
    },
    {
     "name": "stderr",
     "output_type": "stream",
     "text": [
      "/home/arturo/github/downpy/codes/downscale.py:1248: RuntimeWarning: invalid value encountered in power\n",
      "  mev0f = np.sum( ( 1-np.exp(-(y/C)**W ))**N) - nyears*pr\n",
      "/home/arturo/github/downpy/codes/downscale.py:1248: RuntimeWarning: invalid value encountered in power\n",
      "  mev0f = np.sum( ( 1-np.exp(-(y/C)**W ))**N) - nyears*pr\n",
      "/home/arturo/github/downpy/codes/downscale.py:1248: RuntimeWarning: invalid value encountered in power\n",
      "  mev0f = np.sum( ( 1-np.exp(-(y/C)**W ))**N) - nyears*pr\n"
     ]
    },
    {
     "name": "stdout",
     "output_type": "stream",
     "text": [
      "mevd_quant:: ERROR - fsolve does not work -  change x0\n",
      "mevd_quant:: ERROR - fsolve does not work -  change x0\n",
      "mevd_quant:: ERROR - fsolve does not work -  change x0\n",
      "mevd_quant:: ERROR - fsolve does not work -  change x0\n"
     ]
    },
    {
     "name": "stderr",
     "output_type": "stream",
     "text": [
      "/home/arturo/github/downpy/codes/downscale.py:1248: RuntimeWarning: invalid value encountered in power\n",
      "  mev0f = np.sum( ( 1-np.exp(-(y/C)**W ))**N) - nyears*pr\n",
      "/home/arturo/github/downpy/codes/downscale.py:1248: RuntimeWarning: invalid value encountered in power\n",
      "  mev0f = np.sum( ( 1-np.exp(-(y/C)**W ))**N) - nyears*pr\n",
      "/home/arturo/github/downpy/codes/downscale.py:1248: RuntimeWarning: invalid value encountered in power\n",
      "  mev0f = np.sum( ( 1-np.exp(-(y/C)**W ))**N) - nyears*pr\n"
     ]
    },
    {
     "name": "stdout",
     "output_type": "stream",
     "text": [
      "mevd_quant:: ERROR - fsolve does not work -  change x0\n",
      "mevd_quant:: ERROR - fsolve does not work -  change x0\n",
      "mevd_quant:: ERROR - fsolve does not work -  change x0\n",
      "mevd_quant:: ERROR - fsolve does not work -  change x0\n",
      "121\n",
      "mevd_quant:: ERROR - fsolve does not work -  change x0\n"
     ]
    },
    {
     "name": "stderr",
     "output_type": "stream",
     "text": [
      "/home/arturo/github/downpy/codes/downscale.py:1248: RuntimeWarning: invalid value encountered in power\n",
      "  mev0f = np.sum( ( 1-np.exp(-(y/C)**W ))**N) - nyears*pr\n",
      "/home/arturo/github/downpy/codes/downscale.py:1248: RuntimeWarning: invalid value encountered in power\n",
      "  mev0f = np.sum( ( 1-np.exp(-(y/C)**W ))**N) - nyears*pr\n"
     ]
    },
    {
     "name": "stdout",
     "output_type": "stream",
     "text": [
      "mevd_quant:: ERROR - fsolve does not work -  change x0\n",
      "mevd_quant:: ERROR - fsolve does not work -  change x0\n"
     ]
    },
    {
     "name": "stderr",
     "output_type": "stream",
     "text": [
      "/home/arturo/github/downpy/codes/downscale.py:1248: RuntimeWarning: invalid value encountered in power\n",
      "  mev0f = np.sum( ( 1-np.exp(-(y/C)**W ))**N) - nyears*pr\n"
     ]
    },
    {
     "name": "stdout",
     "output_type": "stream",
     "text": [
      "mevd_quant:: ERROR - fsolve does not work -  change x0\n",
      "122\n"
     ]
    },
    {
     "name": "stderr",
     "output_type": "stream",
     "text": [
      "/home/arturo/github/downpy/codes/downscale.py:1248: RuntimeWarning: invalid value encountered in power\n",
      "  mev0f = np.sum( ( 1-np.exp(-(y/C)**W ))**N) - nyears*pr\n"
     ]
    },
    {
     "name": "stdout",
     "output_type": "stream",
     "text": [
      "mevd_quant:: ERROR - fsolve does not work -  change x0\n",
      "123\n"
     ]
    },
    {
     "name": "stderr",
     "output_type": "stream",
     "text": [
      "/home/arturo/github/downpy/codes/downscale.py:1248: RuntimeWarning: invalid value encountered in power\n",
      "  mev0f = np.sum( ( 1-np.exp(-(y/C)**W ))**N) - nyears*pr\n"
     ]
    },
    {
     "name": "stdout",
     "output_type": "stream",
     "text": [
      "mevd_quant:: ERROR - fsolve does not work -  change x0\n",
      "mevd_quant:: ERROR - fsolve does not work -  change x0\n"
     ]
    },
    {
     "name": "stderr",
     "output_type": "stream",
     "text": [
      "/home/arturo/github/downpy/codes/downscale.py:1248: RuntimeWarning: invalid value encountered in power\n",
      "  mev0f = np.sum( ( 1-np.exp(-(y/C)**W ))**N) - nyears*pr\n",
      "/home/arturo/github/downpy/codes/downscale.py:1248: RuntimeWarning: invalid value encountered in power\n",
      "  mev0f = np.sum( ( 1-np.exp(-(y/C)**W ))**N) - nyears*pr\n"
     ]
    },
    {
     "name": "stdout",
     "output_type": "stream",
     "text": [
      "mevd_quant:: ERROR - fsolve does not work -  change x0\n",
      "mevd_quant:: ERROR - fsolve does not work -  change x0\n",
      "mevd_quant:: ERROR - fsolve does not work -  change x0\n",
      "124\n"
     ]
    },
    {
     "name": "stderr",
     "output_type": "stream",
     "text": [
      "/home/arturo/github/downpy/codes/downscale.py:1248: RuntimeWarning: invalid value encountered in power\n",
      "  mev0f = np.sum( ( 1-np.exp(-(y/C)**W ))**N) - nyears*pr\n"
     ]
    },
    {
     "name": "stdout",
     "output_type": "stream",
     "text": [
      "mevd_quant:: ERROR - fsolve does not work -  change x0\n",
      "125\n"
     ]
    },
    {
     "name": "stderr",
     "output_type": "stream",
     "text": [
      "/home/arturo/github/downpy/codes/downscale.py:1248: RuntimeWarning: invalid value encountered in power\n",
      "  mev0f = np.sum( ( 1-np.exp(-(y/C)**W ))**N) - nyears*pr\n"
     ]
    },
    {
     "name": "stdout",
     "output_type": "stream",
     "text": [
      "mevd_quant:: ERROR - fsolve does not work -  change x0\n"
     ]
    },
    {
     "name": "stderr",
     "output_type": "stream",
     "text": [
      "/home/arturo/github/downpy/codes/downscale.py:1248: RuntimeWarning: invalid value encountered in power\n",
      "  mev0f = np.sum( ( 1-np.exp(-(y/C)**W ))**N) - nyears*pr\n"
     ]
    },
    {
     "name": "stdout",
     "output_type": "stream",
     "text": [
      "mevd_quant:: ERROR - fsolve does not work -  change x0\n",
      "126\n",
      "mevd_quant:: ERROR - fsolve does not work -  change x0\n"
     ]
    },
    {
     "name": "stderr",
     "output_type": "stream",
     "text": [
      "/home/arturo/github/downpy/codes/downscale.py:1248: RuntimeWarning: invalid value encountered in power\n",
      "  mev0f = np.sum( ( 1-np.exp(-(y/C)**W ))**N) - nyears*pr\n",
      "/home/arturo/github/downpy/codes/downscale.py:1248: RuntimeWarning: invalid value encountered in power\n",
      "  mev0f = np.sum( ( 1-np.exp(-(y/C)**W ))**N) - nyears*pr\n",
      "/home/arturo/github/downpy/codes/downscale.py:1248: RuntimeWarning: invalid value encountered in power\n",
      "  mev0f = np.sum( ( 1-np.exp(-(y/C)**W ))**N) - nyears*pr\n"
     ]
    },
    {
     "name": "stdout",
     "output_type": "stream",
     "text": [
      "mevd_quant:: ERROR - fsolve does not work -  change x0\n",
      "mevd_quant:: ERROR - fsolve does not work -  change x0\n",
      "mevd_quant:: ERROR - fsolve does not work -  change x0\n",
      "mevd_quant:: ERROR - fsolve does not work -  change x0\n",
      "mevd_quant:: ERROR - fsolve does not work -  change x0\n",
      "127\n",
      "mevd_quant:: ERROR - fsolve does not work -  change x0\n"
     ]
    },
    {
     "name": "stderr",
     "output_type": "stream",
     "text": [
      "/home/arturo/github/downpy/codes/downscale.py:1248: RuntimeWarning: invalid value encountered in power\n",
      "  mev0f = np.sum( ( 1-np.exp(-(y/C)**W ))**N) - nyears*pr\n"
     ]
    },
    {
     "name": "stdout",
     "output_type": "stream",
     "text": [
      "128\n",
      "mevd_quant:: ERROR - fsolve does not work -  change x0\n",
      "mevd_quant:: ERROR - fsolve does not work -  change x0\n"
     ]
    },
    {
     "name": "stderr",
     "output_type": "stream",
     "text": [
      "/home/arturo/github/downpy/codes/downscale.py:1248: RuntimeWarning: invalid value encountered in power\n",
      "  mev0f = np.sum( ( 1-np.exp(-(y/C)**W ))**N) - nyears*pr\n",
      "/home/arturo/github/downpy/codes/downscale.py:1248: RuntimeWarning: invalid value encountered in power\n",
      "  mev0f = np.sum( ( 1-np.exp(-(y/C)**W ))**N) - nyears*pr\n"
     ]
    },
    {
     "name": "stdout",
     "output_type": "stream",
     "text": [
      "mevd_quant:: ERROR - fsolve does not work -  change x0\n",
      "129\n",
      "130\n"
     ]
    },
    {
     "name": "stderr",
     "output_type": "stream",
     "text": [
      "/home/arturo/github/downpy/codes/downscale.py:1248: RuntimeWarning: invalid value encountered in power\n",
      "  mev0f = np.sum( ( 1-np.exp(-(y/C)**W ))**N) - nyears*pr\n"
     ]
    },
    {
     "name": "stdout",
     "output_type": "stream",
     "text": [
      "mevd_quant:: ERROR - fsolve does not work -  change x0\n",
      "mevd_quant:: ERROR - fsolve does not work -  change x0\n",
      "131\n",
      "mevd_quant:: ERROR - fsolve does not work -  change x0\n"
     ]
    },
    {
     "name": "stderr",
     "output_type": "stream",
     "text": [
      "/home/arturo/github/downpy/codes/downscale.py:1248: RuntimeWarning: invalid value encountered in power\n",
      "  mev0f = np.sum( ( 1-np.exp(-(y/C)**W ))**N) - nyears*pr\n",
      "/home/arturo/github/downpy/codes/downscale.py:1248: RuntimeWarning: invalid value encountered in power\n",
      "  mev0f = np.sum( ( 1-np.exp(-(y/C)**W ))**N) - nyears*pr\n",
      "/home/arturo/github/downpy/codes/downscale.py:1248: RuntimeWarning: invalid value encountered in power\n",
      "  mev0f = np.sum( ( 1-np.exp(-(y/C)**W ))**N) - nyears*pr\n",
      "/home/arturo/github/downpy/codes/downscale.py:1248: RuntimeWarning: invalid value encountered in power\n",
      "  mev0f = np.sum( ( 1-np.exp(-(y/C)**W ))**N) - nyears*pr\n"
     ]
    },
    {
     "name": "stdout",
     "output_type": "stream",
     "text": [
      "132\n",
      "133\n"
     ]
    },
    {
     "name": "stderr",
     "output_type": "stream",
     "text": [
      "/home/arturo/github/downpy/codes/downscale.py:1248: RuntimeWarning: invalid value encountered in power\n",
      "  mev0f = np.sum( ( 1-np.exp(-(y/C)**W ))**N) - nyears*pr\n"
     ]
    },
    {
     "name": "stdout",
     "output_type": "stream",
     "text": [
      "mevd_quant:: ERROR - fsolve does not work -  change x0\n",
      "mevd_quant:: ERROR - fsolve does not work -  change x0\n",
      "134\n"
     ]
    },
    {
     "name": "stderr",
     "output_type": "stream",
     "text": [
      "/home/arturo/github/downpy/codes/downscale.py:1248: RuntimeWarning: invalid value encountered in power\n",
      "  mev0f = np.sum( ( 1-np.exp(-(y/C)**W ))**N) - nyears*pr\n"
     ]
    },
    {
     "name": "stdout",
     "output_type": "stream",
     "text": [
      "mevd_quant:: ERROR - fsolve does not work -  change x0\n",
      "135\n"
     ]
    },
    {
     "name": "stderr",
     "output_type": "stream",
     "text": [
      "/home/arturo/github/downpy/codes/downscale.py:1248: RuntimeWarning: invalid value encountered in power\n",
      "  mev0f = np.sum( ( 1-np.exp(-(y/C)**W ))**N) - nyears*pr\n",
      "/home/arturo/github/downpy/codes/downscale.py:1248: RuntimeWarning: invalid value encountered in power\n",
      "  mev0f = np.sum( ( 1-np.exp(-(y/C)**W ))**N) - nyears*pr\n"
     ]
    },
    {
     "name": "stdout",
     "output_type": "stream",
     "text": [
      "mevd_quant:: ERROR - fsolve does not work -  change x0\n",
      "mevd_quant:: ERROR - fsolve does not work -  change x0\n",
      "mevd_quant:: ERROR - fsolve does not work -  change x0\n",
      "mevd_quant:: ERROR - fsolve does not work -  change x0\n",
      "mevd_quant:: ERROR - fsolve does not work -  change x0\n",
      "136\n"
     ]
    },
    {
     "name": "stderr",
     "output_type": "stream",
     "text": [
      "/home/arturo/github/downpy/codes/downscale.py:1248: RuntimeWarning: invalid value encountered in power\n",
      "  mev0f = np.sum( ( 1-np.exp(-(y/C)**W ))**N) - nyears*pr\n"
     ]
    },
    {
     "name": "stdout",
     "output_type": "stream",
     "text": [
      "mevd_quant:: ERROR - fsolve does not work -  change x0\n",
      "mevd_quant:: ERROR - fsolve does not work -  change x0\n"
     ]
    },
    {
     "name": "stderr",
     "output_type": "stream",
     "text": [
      "/home/arturo/github/downpy/codes/downscale.py:1248: RuntimeWarning: invalid value encountered in power\n",
      "  mev0f = np.sum( ( 1-np.exp(-(y/C)**W ))**N) - nyears*pr\n"
     ]
    },
    {
     "name": "stdout",
     "output_type": "stream",
     "text": [
      "mevd_quant:: ERROR - fsolve does not work -  change x0\n",
      "137\n"
     ]
    },
    {
     "name": "stderr",
     "output_type": "stream",
     "text": [
      "/home/arturo/github/downpy/codes/downscale.py:1248: RuntimeWarning: invalid value encountered in power\n",
      "  mev0f = np.sum( ( 1-np.exp(-(y/C)**W ))**N) - nyears*pr\n"
     ]
    },
    {
     "name": "stdout",
     "output_type": "stream",
     "text": [
      "mevd_quant:: ERROR - fsolve does not work -  change x0\n",
      "138\n",
      "139\n",
      "140\n"
     ]
    },
    {
     "name": "stderr",
     "output_type": "stream",
     "text": [
      "/home/arturo/github/downpy/codes/downscale.py:1248: RuntimeWarning: invalid value encountered in power\n",
      "  mev0f = np.sum( ( 1-np.exp(-(y/C)**W ))**N) - nyears*pr\n"
     ]
    },
    {
     "name": "stdout",
     "output_type": "stream",
     "text": [
      "mevd_quant:: ERROR - fsolve does not work -  change x0\n"
     ]
    },
    {
     "name": "stderr",
     "output_type": "stream",
     "text": [
      "/home/arturo/github/downpy/codes/downscale.py:1248: RuntimeWarning: invalid value encountered in power\n",
      "  mev0f = np.sum( ( 1-np.exp(-(y/C)**W ))**N) - nyears*pr\n"
     ]
    },
    {
     "name": "stdout",
     "output_type": "stream",
     "text": [
      "mevd_quant:: ERROR - fsolve does not work -  change x0\n",
      "mevd_quant:: ERROR - fsolve does not work -  change x0\n",
      "mevd_quant:: ERROR - fsolve does not work -  change x0\n",
      "mevd_quant:: ERROR - fsolve does not work -  change x0\n",
      "141\n"
     ]
    },
    {
     "name": "stderr",
     "output_type": "stream",
     "text": [
      "/home/arturo/github/downpy/codes/downscale.py:1248: RuntimeWarning: invalid value encountered in power\n",
      "  mev0f = np.sum( ( 1-np.exp(-(y/C)**W ))**N) - nyears*pr\n"
     ]
    },
    {
     "name": "stdout",
     "output_type": "stream",
     "text": [
      "mevd_quant:: ERROR - fsolve does not work -  change x0\n",
      "mevd_quant:: ERROR - fsolve does not work -  change x0\n",
      "mevd_quant:: ERROR - fsolve does not work -  change x0\n"
     ]
    },
    {
     "name": "stderr",
     "output_type": "stream",
     "text": [
      "/home/arturo/github/downpy/codes/downscale.py:1248: RuntimeWarning: invalid value encountered in power\n",
      "  mev0f = np.sum( ( 1-np.exp(-(y/C)**W ))**N) - nyears*pr\n"
     ]
    },
    {
     "name": "stdout",
     "output_type": "stream",
     "text": [
      "mevd_quant:: ERROR - fsolve does not work -  change x0\n",
      "mevd_quant:: ERROR - fsolve does not work -  change x0\n",
      "142\n",
      "143\n"
     ]
    },
    {
     "name": "stderr",
     "output_type": "stream",
     "text": [
      "/home/arturo/github/downpy/codes/downscale.py:1248: RuntimeWarning: invalid value encountered in power\n",
      "  mev0f = np.sum( ( 1-np.exp(-(y/C)**W ))**N) - nyears*pr\n",
      "/home/arturo/github/downpy/codes/downscale.py:1248: RuntimeWarning: invalid value encountered in power\n",
      "  mev0f = np.sum( ( 1-np.exp(-(y/C)**W ))**N) - nyears*pr\n"
     ]
    },
    {
     "name": "stdout",
     "output_type": "stream",
     "text": [
      "mevd_quant:: ERROR - fsolve does not work -  change x0\n",
      "mevd_quant:: ERROR - fsolve does not work -  change x0\n"
     ]
    },
    {
     "name": "stderr",
     "output_type": "stream",
     "text": [
      "/home/arturo/github/downpy/codes/downscale.py:1248: RuntimeWarning: invalid value encountered in power\n",
      "  mev0f = np.sum( ( 1-np.exp(-(y/C)**W ))**N) - nyears*pr\n"
     ]
    },
    {
     "name": "stdout",
     "output_type": "stream",
     "text": [
      "mevd_quant:: ERROR - fsolve does not work -  change x0\n",
      "144\n",
      "145\n"
     ]
    },
    {
     "name": "stderr",
     "output_type": "stream",
     "text": [
      "/home/arturo/github/downpy/codes/downscale.py:1248: RuntimeWarning: invalid value encountered in power\n",
      "  mev0f = np.sum( ( 1-np.exp(-(y/C)**W ))**N) - nyears*pr\n"
     ]
    },
    {
     "name": "stdout",
     "output_type": "stream",
     "text": [
      "mevd_quant:: ERROR - fsolve does not work -  change x0\n",
      "146\n",
      "mevd_quant:: ERROR - fsolve does not work -  change x0\n"
     ]
    },
    {
     "name": "stderr",
     "output_type": "stream",
     "text": [
      "/home/arturo/github/downpy/codes/downscale.py:1248: RuntimeWarning: invalid value encountered in power\n",
      "  mev0f = np.sum( ( 1-np.exp(-(y/C)**W ))**N) - nyears*pr\n",
      "/home/arturo/github/downpy/codes/downscale.py:1248: RuntimeWarning: invalid value encountered in power\n",
      "  mev0f = np.sum( ( 1-np.exp(-(y/C)**W ))**N) - nyears*pr\n"
     ]
    },
    {
     "name": "stdout",
     "output_type": "stream",
     "text": [
      "mevd_quant:: ERROR - fsolve does not work -  change x0\n",
      "147\n",
      "mevd_quant:: ERROR - fsolve does not work -  change x0\n"
     ]
    },
    {
     "name": "stderr",
     "output_type": "stream",
     "text": [
      "/home/arturo/github/downpy/codes/downscale.py:1248: RuntimeWarning: invalid value encountered in power\n",
      "  mev0f = np.sum( ( 1-np.exp(-(y/C)**W ))**N) - nyears*pr\n"
     ]
    },
    {
     "name": "stdout",
     "output_type": "stream",
     "text": [
      "148\n",
      "149\n",
      "150\n",
      "151\n",
      "152\n",
      "153\n",
      "154\n",
      "mevd_quant:: ERROR - fsolve does not work -  change x0\n",
      "mevd_quant:: ERROR - fsolve does not work -  change x0\n",
      "mevd_quant:: ERROR - fsolve does not work -  change x0\n",
      "mevd_quant:: ERROR - fsolve does not work -  change x0\n"
     ]
    },
    {
     "name": "stderr",
     "output_type": "stream",
     "text": [
      "/home/arturo/github/downpy/codes/downscale.py:1248: RuntimeWarning: invalid value encountered in power\n",
      "  mev0f = np.sum( ( 1-np.exp(-(y/C)**W ))**N) - nyears*pr\n"
     ]
    },
    {
     "name": "stdout",
     "output_type": "stream",
     "text": [
      "155\n",
      "mevd_quant:: ERROR - fsolve does not work -  change x0\n"
     ]
    },
    {
     "name": "stderr",
     "output_type": "stream",
     "text": [
      "/home/arturo/github/downpy/codes/downscale.py:1248: RuntimeWarning: invalid value encountered in power\n",
      "  mev0f = np.sum( ( 1-np.exp(-(y/C)**W ))**N) - nyears*pr\n"
     ]
    },
    {
     "name": "stdout",
     "output_type": "stream",
     "text": [
      "156\n",
      "157\n",
      "158\n",
      "159\n",
      "160\n"
     ]
    },
    {
     "name": "stderr",
     "output_type": "stream",
     "text": [
      "/home/arturo/github/downpy/codes/downscale.py:1248: RuntimeWarning: invalid value encountered in power\n",
      "  mev0f = np.sum( ( 1-np.exp(-(y/C)**W ))**N) - nyears*pr\n"
     ]
    },
    {
     "name": "stdout",
     "output_type": "stream",
     "text": [
      "mevd_quant:: ERROR - fsolve does not work -  change x0\n",
      "161\n",
      "162\n"
     ]
    },
    {
     "name": "stderr",
     "output_type": "stream",
     "text": [
      "/home/arturo/github/downpy/codes/downscale.py:1248: RuntimeWarning: invalid value encountered in power\n",
      "  mev0f = np.sum( ( 1-np.exp(-(y/C)**W ))**N) - nyears*pr\n"
     ]
    },
    {
     "name": "stdout",
     "output_type": "stream",
     "text": [
      "mevd_quant:: ERROR - fsolve does not work -  change x0\n",
      "163\n"
     ]
    },
    {
     "name": "stderr",
     "output_type": "stream",
     "text": [
      "/home/arturo/github/downpy/codes/downscale.py:1248: RuntimeWarning: invalid value encountered in power\n",
      "  mev0f = np.sum( ( 1-np.exp(-(y/C)**W ))**N) - nyears*pr\n",
      "/home/arturo/github/downpy/codes/downscale.py:1248: RuntimeWarning: invalid value encountered in power\n",
      "  mev0f = np.sum( ( 1-np.exp(-(y/C)**W ))**N) - nyears*pr\n"
     ]
    },
    {
     "name": "stdout",
     "output_type": "stream",
     "text": [
      "mevd_quant:: ERROR - fsolve does not work -  change x0\n",
      "mevd_quant:: ERROR - fsolve does not work -  change x0\n",
      "mevd_quant:: ERROR - fsolve does not work -  change x0\n",
      "164\n"
     ]
    },
    {
     "name": "stderr",
     "output_type": "stream",
     "text": [
      "/home/arturo/github/downpy/codes/downscale.py:1248: RuntimeWarning: invalid value encountered in power\n",
      "  mev0f = np.sum( ( 1-np.exp(-(y/C)**W ))**N) - nyears*pr\n"
     ]
    },
    {
     "name": "stdout",
     "output_type": "stream",
     "text": [
      "mevd_quant:: ERROR - fsolve does not work -  change x0\n",
      "mevd_quant:: ERROR - fsolve does not work -  change x0\n",
      "165\n"
     ]
    },
    {
     "name": "stderr",
     "output_type": "stream",
     "text": [
      "/home/arturo/github/downpy/codes/downscale.py:1248: RuntimeWarning: invalid value encountered in power\n",
      "  mev0f = np.sum( ( 1-np.exp(-(y/C)**W ))**N) - nyears*pr\n",
      "/home/arturo/github/downpy/codes/downscale.py:1248: RuntimeWarning: invalid value encountered in power\n",
      "  mev0f = np.sum( ( 1-np.exp(-(y/C)**W ))**N) - nyears*pr\n"
     ]
    },
    {
     "name": "stdout",
     "output_type": "stream",
     "text": [
      "mevd_quant:: ERROR - fsolve does not work -  change x0\n",
      "mevd_quant:: ERROR - fsolve does not work -  change x0\n",
      "166\n",
      "167\n",
      "168\n",
      "169\n",
      "170\n",
      "171\n",
      "172\n",
      "173\n",
      "174\n"
     ]
    },
    {
     "name": "stderr",
     "output_type": "stream",
     "text": [
      "/home/arturo/github/downpy/codes/downscale.py:1248: RuntimeWarning: invalid value encountered in power\n",
      "  mev0f = np.sum( ( 1-np.exp(-(y/C)**W ))**N) - nyears*pr\n"
     ]
    },
    {
     "name": "stdout",
     "output_type": "stream",
     "text": [
      "175\n"
     ]
    },
    {
     "name": "stderr",
     "output_type": "stream",
     "text": [
      "/home/arturo/github/downpy/codes/downscale.py:1248: RuntimeWarning: invalid value encountered in power\n",
      "  mev0f = np.sum( ( 1-np.exp(-(y/C)**W ))**N) - nyears*pr\n",
      "/home/arturo/github/downpy/codes/downscale.py:1248: RuntimeWarning: invalid value encountered in power\n",
      "  mev0f = np.sum( ( 1-np.exp(-(y/C)**W ))**N) - nyears*pr\n"
     ]
    },
    {
     "name": "stdout",
     "output_type": "stream",
     "text": [
      "mevd_quant:: ERROR - fsolve does not work -  change x0\n",
      "mevd_quant:: ERROR - fsolve does not work -  change x0\n",
      "mevd_quant:: ERROR - fsolve does not work -  change x0\n",
      "176\n"
     ]
    },
    {
     "name": "stderr",
     "output_type": "stream",
     "text": [
      "/home/arturo/github/downpy/codes/downscale.py:1248: RuntimeWarning: invalid value encountered in power\n",
      "  mev0f = np.sum( ( 1-np.exp(-(y/C)**W ))**N) - nyears*pr\n"
     ]
    },
    {
     "name": "stdout",
     "output_type": "stream",
     "text": [
      "mevd_quant:: ERROR - fsolve does not work -  change x0\n",
      "177\n",
      "178\n"
     ]
    },
    {
     "name": "stderr",
     "output_type": "stream",
     "text": [
      "/home/arturo/github/downpy/codes/downscale.py:1248: RuntimeWarning: invalid value encountered in power\n",
      "  mev0f = np.sum( ( 1-np.exp(-(y/C)**W ))**N) - nyears*pr\n"
     ]
    },
    {
     "name": "stdout",
     "output_type": "stream",
     "text": [
      "mevd_quant:: ERROR - fsolve does not work -  change x0\n",
      "mevd_quant:: ERROR - fsolve does not work -  change x0\n"
     ]
    },
    {
     "name": "stderr",
     "output_type": "stream",
     "text": [
      "/home/arturo/github/downpy/codes/downscale.py:1248: RuntimeWarning: invalid value encountered in power\n",
      "  mev0f = np.sum( ( 1-np.exp(-(y/C)**W ))**N) - nyears*pr\n"
     ]
    },
    {
     "name": "stdout",
     "output_type": "stream",
     "text": [
      "mevd_quant:: ERROR - fsolve does not work -  change x0\n",
      "179\n"
     ]
    },
    {
     "name": "stderr",
     "output_type": "stream",
     "text": [
      "/home/arturo/github/downpy/codes/downscale.py:1248: RuntimeWarning: invalid value encountered in power\n",
      "  mev0f = np.sum( ( 1-np.exp(-(y/C)**W ))**N) - nyears*pr\n",
      "/home/arturo/github/downpy/codes/downscale.py:1248: RuntimeWarning: invalid value encountered in power\n",
      "  mev0f = np.sum( ( 1-np.exp(-(y/C)**W ))**N) - nyears*pr\n"
     ]
    },
    {
     "name": "stdout",
     "output_type": "stream",
     "text": [
      "mevd_quant:: ERROR - fsolve does not work -  change x0\n",
      "mevd_quant:: ERROR - fsolve does not work -  change x0\n"
     ]
    },
    {
     "name": "stderr",
     "output_type": "stream",
     "text": [
      "/home/arturo/github/downpy/codes/downscale.py:1248: RuntimeWarning: invalid value encountered in power\n",
      "  mev0f = np.sum( ( 1-np.exp(-(y/C)**W ))**N) - nyears*pr\n"
     ]
    },
    {
     "name": "stdout",
     "output_type": "stream",
     "text": [
      "180\n"
     ]
    },
    {
     "name": "stderr",
     "output_type": "stream",
     "text": [
      "/home/arturo/github/downpy/codes/downscale.py:1248: RuntimeWarning: invalid value encountered in power\n",
      "  mev0f = np.sum( ( 1-np.exp(-(y/C)**W ))**N) - nyears*pr\n"
     ]
    },
    {
     "name": "stdout",
     "output_type": "stream",
     "text": [
      "mevd_quant:: ERROR - fsolve does not work -  change x0\n",
      "mevd_quant:: ERROR - fsolve does not work -  change x0\n",
      "181\n"
     ]
    },
    {
     "name": "stderr",
     "output_type": "stream",
     "text": [
      "/home/arturo/github/downpy/codes/downscale.py:1248: RuntimeWarning: invalid value encountered in power\n",
      "  mev0f = np.sum( ( 1-np.exp(-(y/C)**W ))**N) - nyears*pr\n",
      "/home/arturo/github/downpy/codes/downscale.py:1248: RuntimeWarning: invalid value encountered in power\n",
      "  mev0f = np.sum( ( 1-np.exp(-(y/C)**W ))**N) - nyears*pr\n"
     ]
    },
    {
     "name": "stdout",
     "output_type": "stream",
     "text": [
      "mevd_quant:: ERROR - fsolve does not work -  change x0\n",
      "mevd_quant:: ERROR - fsolve does not work -  change x0\n",
      "182\n"
     ]
    },
    {
     "name": "stderr",
     "output_type": "stream",
     "text": [
      "/home/arturo/github/downpy/codes/downscale.py:1248: RuntimeWarning: invalid value encountered in power\n",
      "  mev0f = np.sum( ( 1-np.exp(-(y/C)**W ))**N) - nyears*pr\n"
     ]
    },
    {
     "name": "stdout",
     "output_type": "stream",
     "text": [
      "183\n"
     ]
    },
    {
     "name": "stderr",
     "output_type": "stream",
     "text": [
      "/home/arturo/github/downpy/codes/downscale.py:1248: RuntimeWarning: invalid value encountered in power\n",
      "  mev0f = np.sum( ( 1-np.exp(-(y/C)**W ))**N) - nyears*pr\n"
     ]
    },
    {
     "name": "stdout",
     "output_type": "stream",
     "text": [
      "mevd_quant:: ERROR - fsolve does not work -  change x0\n",
      "184\n"
     ]
    },
    {
     "name": "stderr",
     "output_type": "stream",
     "text": [
      "/home/arturo/github/downpy/codes/downscale.py:1248: RuntimeWarning: invalid value encountered in power\n",
      "  mev0f = np.sum( ( 1-np.exp(-(y/C)**W ))**N) - nyears*pr\n"
     ]
    },
    {
     "name": "stdout",
     "output_type": "stream",
     "text": [
      "mevd_quant:: ERROR - fsolve does not work -  change x0\n",
      "185\n"
     ]
    },
    {
     "name": "stderr",
     "output_type": "stream",
     "text": [
      "/home/arturo/github/downpy/codes/downscale.py:1248: RuntimeWarning: invalid value encountered in power\n",
      "  mev0f = np.sum( ( 1-np.exp(-(y/C)**W ))**N) - nyears*pr\n"
     ]
    },
    {
     "name": "stdout",
     "output_type": "stream",
     "text": [
      "mevd_quant:: ERROR - fsolve does not work -  change x0\n",
      "mevd_quant:: ERROR - fsolve does not work -  change x0\n",
      "186\n"
     ]
    },
    {
     "name": "stderr",
     "output_type": "stream",
     "text": [
      "/home/arturo/github/downpy/codes/downscale.py:1248: RuntimeWarning: invalid value encountered in power\n",
      "  mev0f = np.sum( ( 1-np.exp(-(y/C)**W ))**N) - nyears*pr\n"
     ]
    },
    {
     "name": "stdout",
     "output_type": "stream",
     "text": [
      "mevd_quant:: ERROR - fsolve does not work -  change x0\n",
      "187\n"
     ]
    },
    {
     "name": "stderr",
     "output_type": "stream",
     "text": [
      "/home/arturo/github/downpy/codes/downscale.py:1248: RuntimeWarning: invalid value encountered in power\n",
      "  mev0f = np.sum( ( 1-np.exp(-(y/C)**W ))**N) - nyears*pr\n"
     ]
    },
    {
     "name": "stdout",
     "output_type": "stream",
     "text": [
      "mevd_quant:: ERROR - fsolve does not work -  change x0\n"
     ]
    },
    {
     "name": "stderr",
     "output_type": "stream",
     "text": [
      "/home/arturo/github/downpy/codes/downscale.py:1248: RuntimeWarning: invalid value encountered in power\n",
      "  mev0f = np.sum( ( 1-np.exp(-(y/C)**W ))**N) - nyears*pr\n"
     ]
    },
    {
     "name": "stdout",
     "output_type": "stream",
     "text": [
      "mevd_quant:: ERROR - fsolve does not work -  change x0\n",
      "188\n"
     ]
    },
    {
     "name": "stderr",
     "output_type": "stream",
     "text": [
      "/home/arturo/github/downpy/codes/downscale.py:1248: RuntimeWarning: invalid value encountered in power\n",
      "  mev0f = np.sum( ( 1-np.exp(-(y/C)**W ))**N) - nyears*pr\n"
     ]
    },
    {
     "name": "stdout",
     "output_type": "stream",
     "text": [
      "mevd_quant:: ERROR - fsolve does not work -  change x0\n",
      "189\n"
     ]
    },
    {
     "name": "stderr",
     "output_type": "stream",
     "text": [
      "/home/arturo/github/downpy/codes/downscale.py:1248: RuntimeWarning: invalid value encountered in power\n",
      "  mev0f = np.sum( ( 1-np.exp(-(y/C)**W ))**N) - nyears*pr\n",
      "/home/arturo/github/downpy/codes/downscale.py:1248: RuntimeWarning: invalid value encountered in power\n",
      "  mev0f = np.sum( ( 1-np.exp(-(y/C)**W ))**N) - nyears*pr\n"
     ]
    },
    {
     "name": "stdout",
     "output_type": "stream",
     "text": [
      "mevd_quant:: ERROR - fsolve does not work -  change x0\n",
      "mevd_quant:: ERROR - fsolve does not work -  change x0\n",
      "mevd_quant:: ERROR - fsolve does not work -  change x0\n",
      "mevd_quant:: ERROR - fsolve does not work -  change x0\n"
     ]
    },
    {
     "name": "stderr",
     "output_type": "stream",
     "text": [
      "/home/arturo/github/downpy/codes/downscale.py:1248: RuntimeWarning: invalid value encountered in power\n",
      "  mev0f = np.sum( ( 1-np.exp(-(y/C)**W ))**N) - nyears*pr\n",
      "/home/arturo/github/downpy/codes/downscale.py:1248: RuntimeWarning: invalid value encountered in power\n",
      "  mev0f = np.sum( ( 1-np.exp(-(y/C)**W ))**N) - nyears*pr\n"
     ]
    },
    {
     "name": "stdout",
     "output_type": "stream",
     "text": [
      "mevd_quant:: ERROR - fsolve does not work -  change x0\n",
      "mevd_quant:: ERROR - fsolve does not work -  change x0\n"
     ]
    },
    {
     "name": "stderr",
     "output_type": "stream",
     "text": [
      "/home/arturo/github/downpy/codes/downscale.py:1248: RuntimeWarning: invalid value encountered in power\n",
      "  mev0f = np.sum( ( 1-np.exp(-(y/C)**W ))**N) - nyears*pr\n"
     ]
    },
    {
     "name": "stdout",
     "output_type": "stream",
     "text": [
      "mevd_quant:: ERROR - fsolve does not work -  change x0\n",
      "mevd_quant:: ERROR - fsolve does not work -  change x0\n",
      "190\n"
     ]
    },
    {
     "name": "stderr",
     "output_type": "stream",
     "text": [
      "/home/arturo/github/downpy/codes/downscale.py:1248: RuntimeWarning: invalid value encountered in power\n",
      "  mev0f = np.sum( ( 1-np.exp(-(y/C)**W ))**N) - nyears*pr\n"
     ]
    },
    {
     "name": "stdout",
     "output_type": "stream",
     "text": [
      "mevd_quant:: ERROR - fsolve does not work -  change x0\n"
     ]
    },
    {
     "name": "stderr",
     "output_type": "stream",
     "text": [
      "/home/arturo/github/downpy/codes/downscale.py:1248: RuntimeWarning: invalid value encountered in power\n",
      "  mev0f = np.sum( ( 1-np.exp(-(y/C)**W ))**N) - nyears*pr\n"
     ]
    },
    {
     "name": "stdout",
     "output_type": "stream",
     "text": [
      "mevd_quant:: ERROR - fsolve does not work -  change x0\n",
      "191\n"
     ]
    },
    {
     "name": "stderr",
     "output_type": "stream",
     "text": [
      "/home/arturo/github/downpy/codes/downscale.py:1248: RuntimeWarning: invalid value encountered in power\n",
      "  mev0f = np.sum( ( 1-np.exp(-(y/C)**W ))**N) - nyears*pr\n",
      "/home/arturo/github/downpy/codes/downscale.py:1248: RuntimeWarning: invalid value encountered in power\n",
      "  mev0f = np.sum( ( 1-np.exp(-(y/C)**W ))**N) - nyears*pr\n"
     ]
    },
    {
     "name": "stdout",
     "output_type": "stream",
     "text": [
      "mevd_quant:: ERROR - fsolve does not work -  change x0\n",
      "mevd_quant:: ERROR - fsolve does not work -  change x0\n",
      "mevd_quant:: ERROR - fsolve does not work -  change x0\n"
     ]
    },
    {
     "name": "stderr",
     "output_type": "stream",
     "text": [
      "/home/arturo/github/downpy/codes/downscale.py:1248: RuntimeWarning: invalid value encountered in power\n",
      "  mev0f = np.sum( ( 1-np.exp(-(y/C)**W ))**N) - nyears*pr\n"
     ]
    },
    {
     "name": "stdout",
     "output_type": "stream",
     "text": [
      "mevd_quant:: ERROR - fsolve does not work -  change x0\n",
      "mevd_quant:: ERROR - fsolve does not work -  change x0\n",
      "192\n"
     ]
    },
    {
     "name": "stderr",
     "output_type": "stream",
     "text": [
      "/home/arturo/github/downpy/codes/downscale.py:1248: RuntimeWarning: invalid value encountered in power\n",
      "  mev0f = np.sum( ( 1-np.exp(-(y/C)**W ))**N) - nyears*pr\n",
      "/home/arturo/github/downpy/codes/downscale.py:1248: RuntimeWarning: invalid value encountered in power\n",
      "  mev0f = np.sum( ( 1-np.exp(-(y/C)**W ))**N) - nyears*pr\n",
      "/home/arturo/github/downpy/codes/downscale.py:1248: RuntimeWarning: invalid value encountered in power\n",
      "  mev0f = np.sum( ( 1-np.exp(-(y/C)**W ))**N) - nyears*pr\n"
     ]
    },
    {
     "name": "stdout",
     "output_type": "stream",
     "text": [
      "mevd_quant:: ERROR - fsolve does not work -  change x0\n",
      "mevd_quant:: ERROR - fsolve does not work -  change x0\n",
      "mevd_quant:: ERROR - fsolve does not work -  change x0\n"
     ]
    },
    {
     "name": "stderr",
     "output_type": "stream",
     "text": [
      "/home/arturo/github/downpy/codes/downscale.py:1248: RuntimeWarning: invalid value encountered in power\n",
      "  mev0f = np.sum( ( 1-np.exp(-(y/C)**W ))**N) - nyears*pr\n"
     ]
    },
    {
     "name": "stdout",
     "output_type": "stream",
     "text": [
      "mevd_quant:: ERROR - fsolve does not work -  change x0\n",
      "193\n"
     ]
    },
    {
     "name": "stderr",
     "output_type": "stream",
     "text": [
      "/home/arturo/github/downpy/codes/downscale.py:1248: RuntimeWarning: invalid value encountered in power\n",
      "  mev0f = np.sum( ( 1-np.exp(-(y/C)**W ))**N) - nyears*pr\n",
      "/home/arturo/github/downpy/codes/downscale.py:1248: RuntimeWarning: invalid value encountered in power\n",
      "  mev0f = np.sum( ( 1-np.exp(-(y/C)**W ))**N) - nyears*pr\n",
      "/home/arturo/github/downpy/codes/downscale.py:1248: RuntimeWarning: invalid value encountered in power\n",
      "  mev0f = np.sum( ( 1-np.exp(-(y/C)**W ))**N) - nyears*pr\n",
      "/home/arturo/github/downpy/codes/downscale.py:1248: RuntimeWarning: invalid value encountered in power\n",
      "  mev0f = np.sum( ( 1-np.exp(-(y/C)**W ))**N) - nyears*pr\n",
      "/home/arturo/github/downpy/codes/downscale.py:1248: RuntimeWarning: invalid value encountered in power\n",
      "  mev0f = np.sum( ( 1-np.exp(-(y/C)**W ))**N) - nyears*pr\n"
     ]
    },
    {
     "name": "stdout",
     "output_type": "stream",
     "text": [
      "mevd_quant:: ERROR - fsolve does not work -  change x0\n",
      "mevd_quant:: ERROR - fsolve does not work -  change x0\n",
      "mevd_quant:: ERROR - fsolve does not work -  change x0\n",
      "mevd_quant:: ERROR - fsolve does not work -  change x0\n",
      "mevd_quant:: ERROR - fsolve does not work -  change x0\n",
      "mevd_quant:: ERROR - fsolve does not work -  change x0\n",
      "mevd_quant:: ERROR - fsolve does not work -  change x0\n",
      "mevd_quant:: ERROR - fsolve does not work -  change x0\n",
      "mevd_quant:: ERROR - fsolve does not work -  change x0\n",
      "mevd_quant:: ERROR - fsolve does not work -  change x0\n"
     ]
    },
    {
     "name": "stderr",
     "output_type": "stream",
     "text": [
      "/home/arturo/github/downpy/codes/downscale.py:1248: RuntimeWarning: invalid value encountered in power\n",
      "  mev0f = np.sum( ( 1-np.exp(-(y/C)**W ))**N) - nyears*pr\n",
      "/home/arturo/github/downpy/codes/downscale.py:1248: RuntimeWarning: invalid value encountered in power\n",
      "  mev0f = np.sum( ( 1-np.exp(-(y/C)**W ))**N) - nyears*pr\n"
     ]
    },
    {
     "name": "stdout",
     "output_type": "stream",
     "text": [
      "mevd_quant:: ERROR - fsolve does not work -  change x0\n"
     ]
    },
    {
     "name": "stderr",
     "output_type": "stream",
     "text": [
      "/home/arturo/github/downpy/codes/downscale.py:1248: RuntimeWarning: invalid value encountered in power\n",
      "  mev0f = np.sum( ( 1-np.exp(-(y/C)**W ))**N) - nyears*pr\n"
     ]
    },
    {
     "name": "stdout",
     "output_type": "stream",
     "text": [
      "mevd_quant:: ERROR - fsolve does not work -  change x0\n",
      "194\n"
     ]
    },
    {
     "name": "stderr",
     "output_type": "stream",
     "text": [
      "/home/arturo/github/downpy/codes/downscale.py:1248: RuntimeWarning: invalid value encountered in power\n",
      "  mev0f = np.sum( ( 1-np.exp(-(y/C)**W ))**N) - nyears*pr\n",
      "/home/arturo/github/downpy/codes/downscale.py:1248: RuntimeWarning: invalid value encountered in power\n",
      "  mev0f = np.sum( ( 1-np.exp(-(y/C)**W ))**N) - nyears*pr\n"
     ]
    },
    {
     "name": "stdout",
     "output_type": "stream",
     "text": [
      "mevd_quant:: ERROR - fsolve does not work -  change x0\n",
      "mevd_quant:: ERROR - fsolve does not work -  change x0\n"
     ]
    },
    {
     "name": "stderr",
     "output_type": "stream",
     "text": [
      "/home/arturo/github/downpy/codes/downscale.py:1248: RuntimeWarning: invalid value encountered in power\n",
      "  mev0f = np.sum( ( 1-np.exp(-(y/C)**W ))**N) - nyears*pr\n"
     ]
    },
    {
     "name": "stdout",
     "output_type": "stream",
     "text": [
      "mevd_quant:: ERROR - fsolve does not work -  change x0\n"
     ]
    },
    {
     "name": "stderr",
     "output_type": "stream",
     "text": [
      "/home/arturo/github/downpy/codes/downscale.py:1248: RuntimeWarning: invalid value encountered in power\n",
      "  mev0f = np.sum( ( 1-np.exp(-(y/C)**W ))**N) - nyears*pr\n"
     ]
    },
    {
     "name": "stdout",
     "output_type": "stream",
     "text": [
      "mevd_quant:: ERROR - fsolve does not work -  change x0\n",
      "mevd_quant:: ERROR - fsolve does not work -  change x0\n",
      "195\n"
     ]
    },
    {
     "name": "stderr",
     "output_type": "stream",
     "text": [
      "/home/arturo/github/downpy/codes/downscale.py:1248: RuntimeWarning: invalid value encountered in power\n",
      "  mev0f = np.sum( ( 1-np.exp(-(y/C)**W ))**N) - nyears*pr\n",
      "/home/arturo/github/downpy/codes/downscale.py:1248: RuntimeWarning: invalid value encountered in power\n",
      "  mev0f = np.sum( ( 1-np.exp(-(y/C)**W ))**N) - nyears*pr\n"
     ]
    },
    {
     "name": "stdout",
     "output_type": "stream",
     "text": [
      "mevd_quant:: ERROR - fsolve does not work -  change x0\n",
      "mevd_quant:: ERROR - fsolve does not work -  change x0\n",
      "mevd_quant:: ERROR - fsolve does not work -  change x0\n",
      "mevd_quant:: ERROR - fsolve does not work -  change x0\n",
      "mevd_quant:: ERROR - fsolve does not work -  change x0\n"
     ]
    },
    {
     "name": "stderr",
     "output_type": "stream",
     "text": [
      "/home/arturo/github/downpy/codes/downscale.py:1248: RuntimeWarning: invalid value encountered in power\n",
      "  mev0f = np.sum( ( 1-np.exp(-(y/C)**W ))**N) - nyears*pr\n",
      "/home/arturo/github/downpy/codes/downscale.py:1248: RuntimeWarning: invalid value encountered in power\n",
      "  mev0f = np.sum( ( 1-np.exp(-(y/C)**W ))**N) - nyears*pr\n",
      "/home/arturo/github/downpy/codes/downscale.py:1248: RuntimeWarning: invalid value encountered in power\n",
      "  mev0f = np.sum( ( 1-np.exp(-(y/C)**W ))**N) - nyears*pr\n"
     ]
    },
    {
     "name": "stdout",
     "output_type": "stream",
     "text": [
      "mevd_quant:: ERROR - fsolve does not work -  change x0\n",
      "mevd_quant:: ERROR - fsolve does not work -  change x0\n",
      "mevd_quant:: ERROR - fsolve does not work -  change x0\n"
     ]
    },
    {
     "name": "stderr",
     "output_type": "stream",
     "text": [
      "/home/arturo/github/downpy/codes/downscale.py:1248: RuntimeWarning: invalid value encountered in power\n",
      "  mev0f = np.sum( ( 1-np.exp(-(y/C)**W ))**N) - nyears*pr\n",
      "/home/arturo/github/downpy/codes/downscale.py:1248: RuntimeWarning: invalid value encountered in power\n",
      "  mev0f = np.sum( ( 1-np.exp(-(y/C)**W ))**N) - nyears*pr\n"
     ]
    },
    {
     "name": "stdout",
     "output_type": "stream",
     "text": [
      "mevd_quant:: ERROR - fsolve does not work -  change x0\n",
      "mevd_quant:: ERROR - fsolve does not work -  change x0\n",
      "mevd_quant:: ERROR - fsolve does not work -  change x0\n",
      "196\n"
     ]
    },
    {
     "name": "stderr",
     "output_type": "stream",
     "text": [
      "/home/arturo/github/downpy/codes/downscale.py:1248: RuntimeWarning: invalid value encountered in power\n",
      "  mev0f = np.sum( ( 1-np.exp(-(y/C)**W ))**N) - nyears*pr\n",
      "/home/arturo/github/downpy/codes/downscale.py:1248: RuntimeWarning: invalid value encountered in power\n",
      "  mev0f = np.sum( ( 1-np.exp(-(y/C)**W ))**N) - nyears*pr\n",
      "/home/arturo/github/downpy/codes/downscale.py:1248: RuntimeWarning: invalid value encountered in power\n",
      "  mev0f = np.sum( ( 1-np.exp(-(y/C)**W ))**N) - nyears*pr\n"
     ]
    },
    {
     "name": "stdout",
     "output_type": "stream",
     "text": [
      "mevd_quant:: ERROR - fsolve does not work -  change x0\n",
      "mevd_quant:: ERROR - fsolve does not work -  change x0\n",
      "mevd_quant:: ERROR - fsolve does not work -  change x0\n",
      "mevd_quant:: ERROR - fsolve does not work -  change x0\n"
     ]
    },
    {
     "name": "stderr",
     "output_type": "stream",
     "text": [
      "/home/arturo/github/downpy/codes/downscale.py:1248: RuntimeWarning: invalid value encountered in power\n",
      "  mev0f = np.sum( ( 1-np.exp(-(y/C)**W ))**N) - nyears*pr\n",
      "/home/arturo/github/downpy/codes/downscale.py:1248: RuntimeWarning: invalid value encountered in power\n",
      "  mev0f = np.sum( ( 1-np.exp(-(y/C)**W ))**N) - nyears*pr\n"
     ]
    },
    {
     "name": "stdout",
     "output_type": "stream",
     "text": [
      "mevd_quant:: ERROR - fsolve does not work -  change x0\n",
      "mevd_quant:: ERROR - fsolve does not work -  change x0\n",
      "mevd_quant:: ERROR - fsolve does not work -  change x0\n",
      "197\n"
     ]
    },
    {
     "name": "stderr",
     "output_type": "stream",
     "text": [
      "/home/arturo/github/downpy/codes/downscale.py:1248: RuntimeWarning: invalid value encountered in power\n",
      "  mev0f = np.sum( ( 1-np.exp(-(y/C)**W ))**N) - nyears*pr\n",
      "/home/arturo/github/downpy/codes/downscale.py:1248: RuntimeWarning: invalid value encountered in power\n",
      "  mev0f = np.sum( ( 1-np.exp(-(y/C)**W ))**N) - nyears*pr\n"
     ]
    },
    {
     "name": "stdout",
     "output_type": "stream",
     "text": [
      "mevd_quant:: ERROR - fsolve does not work -  change x0\n"
     ]
    },
    {
     "name": "stderr",
     "output_type": "stream",
     "text": [
      "/home/arturo/github/downpy/codes/downscale.py:1248: RuntimeWarning: invalid value encountered in power\n",
      "  mev0f = np.sum( ( 1-np.exp(-(y/C)**W ))**N) - nyears*pr\n"
     ]
    },
    {
     "name": "stdout",
     "output_type": "stream",
     "text": [
      "mevd_quant:: ERROR - fsolve does not work -  change x0\n",
      "198\n"
     ]
    },
    {
     "name": "stderr",
     "output_type": "stream",
     "text": [
      "/home/arturo/github/downpy/codes/downscale.py:1248: RuntimeWarning: invalid value encountered in power\n",
      "  mev0f = np.sum( ( 1-np.exp(-(y/C)**W ))**N) - nyears*pr\n",
      "/home/arturo/github/downpy/codes/downscale.py:1248: RuntimeWarning: invalid value encountered in power\n",
      "  mev0f = np.sum( ( 1-np.exp(-(y/C)**W ))**N) - nyears*pr\n"
     ]
    },
    {
     "name": "stdout",
     "output_type": "stream",
     "text": [
      "mevd_quant:: ERROR - fsolve does not work -  change x0\n",
      "199\n",
      "mevd_quant:: ERROR - fsolve does not work -  change x0\n",
      "mevd_quant:: ERROR - fsolve does not work -  change x0\n"
     ]
    },
    {
     "name": "stderr",
     "output_type": "stream",
     "text": [
      "/home/arturo/github/downpy/codes/downscale.py:1248: RuntimeWarning: invalid value encountered in power\n",
      "  mev0f = np.sum( ( 1-np.exp(-(y/C)**W ))**N) - nyears*pr\n",
      "/home/arturo/github/downpy/codes/downscale.py:1248: RuntimeWarning: invalid value encountered in power\n",
      "  mev0f = np.sum( ( 1-np.exp(-(y/C)**W ))**N) - nyears*pr\n",
      "/home/arturo/github/downpy/codes/downscale.py:1248: RuntimeWarning: invalid value encountered in power\n",
      "  mev0f = np.sum( ( 1-np.exp(-(y/C)**W ))**N) - nyears*pr\n",
      "/home/arturo/github/downpy/codes/downscale.py:1248: RuntimeWarning: invalid value encountered in power\n",
      "  mev0f = np.sum( ( 1-np.exp(-(y/C)**W ))**N) - nyears*pr\n"
     ]
    },
    {
     "name": "stdout",
     "output_type": "stream",
     "text": [
      "mevd_quant:: ERROR - fsolve does not work -  change x0\n",
      "mevd_quant:: ERROR - fsolve does not work -  change x0\n",
      "mevd_quant:: ERROR - fsolve does not work -  change x0\n",
      "mevd_quant:: ERROR - fsolve does not work -  change x0\n",
      "mevd_quant:: ERROR - fsolve does not work -  change x0\n",
      "200\n"
     ]
    },
    {
     "name": "stderr",
     "output_type": "stream",
     "text": [
      "/home/arturo/github/downpy/codes/downscale.py:1248: RuntimeWarning: invalid value encountered in power\n",
      "  mev0f = np.sum( ( 1-np.exp(-(y/C)**W ))**N) - nyears*pr\n",
      "/home/arturo/github/downpy/codes/downscale.py:1248: RuntimeWarning: invalid value encountered in power\n",
      "  mev0f = np.sum( ( 1-np.exp(-(y/C)**W ))**N) - nyears*pr\n"
     ]
    },
    {
     "name": "stdout",
     "output_type": "stream",
     "text": [
      "mevd_quant:: ERROR - fsolve does not work -  change x0\n",
      "mevd_quant:: ERROR - fsolve does not work -  change x0\n",
      "201\n"
     ]
    },
    {
     "name": "stderr",
     "output_type": "stream",
     "text": [
      "/home/arturo/github/downpy/codes/downscale.py:1248: RuntimeWarning: invalid value encountered in power\n",
      "  mev0f = np.sum( ( 1-np.exp(-(y/C)**W ))**N) - nyears*pr\n"
     ]
    },
    {
     "name": "stdout",
     "output_type": "stream",
     "text": [
      "mevd_quant:: ERROR - fsolve does not work -  change x0\n"
     ]
    },
    {
     "name": "stderr",
     "output_type": "stream",
     "text": [
      "/home/arturo/github/downpy/codes/downscale.py:1248: RuntimeWarning: invalid value encountered in power\n",
      "  mev0f = np.sum( ( 1-np.exp(-(y/C)**W ))**N) - nyears*pr\n"
     ]
    },
    {
     "name": "stdout",
     "output_type": "stream",
     "text": [
      "mevd_quant:: ERROR - fsolve does not work -  change x0\n",
      "mevd_quant:: ERROR - fsolve does not work -  change x0\n",
      "202\n"
     ]
    },
    {
     "name": "stderr",
     "output_type": "stream",
     "text": [
      "/home/arturo/github/downpy/codes/downscale.py:1248: RuntimeWarning: invalid value encountered in power\n",
      "  mev0f = np.sum( ( 1-np.exp(-(y/C)**W ))**N) - nyears*pr\n"
     ]
    },
    {
     "name": "stdout",
     "output_type": "stream",
     "text": [
      "mevd_quant:: ERROR - fsolve does not work -  change x0\n"
     ]
    },
    {
     "name": "stderr",
     "output_type": "stream",
     "text": [
      "/home/arturo/github/downpy/codes/downscale.py:1248: RuntimeWarning: invalid value encountered in power\n",
      "  mev0f = np.sum( ( 1-np.exp(-(y/C)**W ))**N) - nyears*pr\n"
     ]
    },
    {
     "name": "stdout",
     "output_type": "stream",
     "text": [
      "mevd_quant:: ERROR - fsolve does not work -  change x0\n",
      "203\n"
     ]
    },
    {
     "name": "stderr",
     "output_type": "stream",
     "text": [
      "/home/arturo/github/downpy/codes/downscale.py:1248: RuntimeWarning: invalid value encountered in power\n",
      "  mev0f = np.sum( ( 1-np.exp(-(y/C)**W ))**N) - nyears*pr\n"
     ]
    },
    {
     "name": "stdout",
     "output_type": "stream",
     "text": [
      "mevd_quant:: ERROR - fsolve does not work -  change x0\n",
      "204\n"
     ]
    },
    {
     "name": "stderr",
     "output_type": "stream",
     "text": [
      "/home/arturo/github/downpy/codes/downscale.py:1248: RuntimeWarning: invalid value encountered in power\n",
      "  mev0f = np.sum( ( 1-np.exp(-(y/C)**W ))**N) - nyears*pr\n",
      "/home/arturo/github/downpy/codes/downscale.py:1248: RuntimeWarning: invalid value encountered in power\n",
      "  mev0f = np.sum( ( 1-np.exp(-(y/C)**W ))**N) - nyears*pr\n",
      "/home/arturo/github/downpy/codes/downscale.py:1248: RuntimeWarning: invalid value encountered in power\n",
      "  mev0f = np.sum( ( 1-np.exp(-(y/C)**W ))**N) - nyears*pr\n"
     ]
    },
    {
     "name": "stdout",
     "output_type": "stream",
     "text": [
      "mevd_quant:: ERROR - fsolve does not work -  change x0\n",
      "mevd_quant:: ERROR - fsolve does not work -  change x0\n",
      "mevd_quant:: ERROR - fsolve does not work -  change x0\n",
      "mevd_quant:: ERROR - fsolve does not work -  change x0\n",
      "mevd_quant:: ERROR - fsolve does not work -  change x0\n",
      "mevd_quant:: ERROR - fsolve does not work -  change x0\n",
      "205\n"
     ]
    },
    {
     "name": "stderr",
     "output_type": "stream",
     "text": [
      "/home/arturo/github/downpy/codes/downscale.py:1248: RuntimeWarning: invalid value encountered in power\n",
      "  mev0f = np.sum( ( 1-np.exp(-(y/C)**W ))**N) - nyears*pr\n",
      "/home/arturo/github/downpy/codes/downscale.py:1248: RuntimeWarning: invalid value encountered in power\n",
      "  mev0f = np.sum( ( 1-np.exp(-(y/C)**W ))**N) - nyears*pr\n",
      "/home/arturo/github/downpy/codes/downscale.py:1248: RuntimeWarning: invalid value encountered in power\n",
      "  mev0f = np.sum( ( 1-np.exp(-(y/C)**W ))**N) - nyears*pr\n"
     ]
    },
    {
     "name": "stdout",
     "output_type": "stream",
     "text": [
      "mevd_quant:: ERROR - fsolve does not work -  change x0\n",
      "mevd_quant:: ERROR - fsolve does not work -  change x0\n",
      "mevd_quant:: ERROR - fsolve does not work -  change x0\n",
      "mevd_quant:: ERROR - fsolve does not work -  change x0\n",
      "mevd_quant:: ERROR - fsolve does not work -  change x0\n",
      "206\n"
     ]
    },
    {
     "name": "stderr",
     "output_type": "stream",
     "text": [
      "/home/arturo/github/downpy/codes/downscale.py:1248: RuntimeWarning: invalid value encountered in power\n",
      "  mev0f = np.sum( ( 1-np.exp(-(y/C)**W ))**N) - nyears*pr\n",
      "/home/arturo/github/downpy/codes/downscale.py:1248: RuntimeWarning: invalid value encountered in power\n",
      "  mev0f = np.sum( ( 1-np.exp(-(y/C)**W ))**N) - nyears*pr\n",
      "/home/arturo/github/downpy/codes/downscale.py:1248: RuntimeWarning: invalid value encountered in power\n",
      "  mev0f = np.sum( ( 1-np.exp(-(y/C)**W ))**N) - nyears*pr\n"
     ]
    },
    {
     "name": "stdout",
     "output_type": "stream",
     "text": [
      "mevd_quant:: ERROR - fsolve does not work -  change x0\n",
      "mevd_quant:: ERROR - fsolve does not work -  change x0\n",
      "mevd_quant:: ERROR - fsolve does not work -  change x0\n",
      "mevd_quant:: ERROR - fsolve does not work -  change x0\n",
      "mevd_quant:: ERROR - fsolve does not work -  change x0\n",
      "207\n"
     ]
    },
    {
     "name": "stderr",
     "output_type": "stream",
     "text": [
      "/home/arturo/github/downpy/codes/downscale.py:1248: RuntimeWarning: invalid value encountered in power\n",
      "  mev0f = np.sum( ( 1-np.exp(-(y/C)**W ))**N) - nyears*pr\n",
      "/home/arturo/github/downpy/codes/downscale.py:1248: RuntimeWarning: invalid value encountered in power\n",
      "  mev0f = np.sum( ( 1-np.exp(-(y/C)**W ))**N) - nyears*pr\n",
      "/home/arturo/github/downpy/codes/downscale.py:1248: RuntimeWarning: invalid value encountered in power\n",
      "  mev0f = np.sum( ( 1-np.exp(-(y/C)**W ))**N) - nyears*pr\n",
      "/home/arturo/github/downpy/codes/downscale.py:1248: RuntimeWarning: invalid value encountered in power\n",
      "  mev0f = np.sum( ( 1-np.exp(-(y/C)**W ))**N) - nyears*pr\n",
      "/home/arturo/github/downpy/codes/downscale.py:1248: RuntimeWarning: invalid value encountered in power\n",
      "  mev0f = np.sum( ( 1-np.exp(-(y/C)**W ))**N) - nyears*pr\n",
      "/home/arturo/github/downpy/codes/downscale.py:1248: RuntimeWarning: invalid value encountered in power\n",
      "  mev0f = np.sum( ( 1-np.exp(-(y/C)**W ))**N) - nyears*pr\n",
      "/home/arturo/github/downpy/codes/downscale.py:1248: RuntimeWarning: invalid value encountered in power\n",
      "  mev0f = np.sum( ( 1-np.exp(-(y/C)**W ))**N) - nyears*pr\n"
     ]
    },
    {
     "name": "stdout",
     "output_type": "stream",
     "text": [
      "mevd_quant:: ERROR - fsolve does not work -  change x0\n",
      "mevd_quant:: ERROR - fsolve does not work -  change x0\n",
      "mevd_quant:: ERROR - fsolve does not work -  change x0\n",
      "mevd_quant:: ERROR - fsolve does not work -  change x0\n",
      "mevd_quant:: ERROR - fsolve does not work -  change x0\n",
      "mevd_quant:: ERROR - fsolve does not work -  change x0\n",
      "mevd_quant:: ERROR - fsolve does not work -  change x0\n",
      "mevd_quant:: ERROR - fsolve does not work -  change x0\n",
      "208\n"
     ]
    },
    {
     "name": "stderr",
     "output_type": "stream",
     "text": [
      "/home/arturo/github/downpy/codes/downscale.py:1248: RuntimeWarning: invalid value encountered in power\n",
      "  mev0f = np.sum( ( 1-np.exp(-(y/C)**W ))**N) - nyears*pr\n",
      "/home/arturo/github/downpy/codes/downscale.py:1248: RuntimeWarning: invalid value encountered in power\n",
      "  mev0f = np.sum( ( 1-np.exp(-(y/C)**W ))**N) - nyears*pr\n",
      "/home/arturo/github/downpy/codes/downscale.py:1248: RuntimeWarning: invalid value encountered in power\n",
      "  mev0f = np.sum( ( 1-np.exp(-(y/C)**W ))**N) - nyears*pr\n",
      "/home/arturo/github/downpy/codes/downscale.py:1248: RuntimeWarning: invalid value encountered in power\n",
      "  mev0f = np.sum( ( 1-np.exp(-(y/C)**W ))**N) - nyears*pr\n",
      "/home/arturo/github/downpy/codes/downscale.py:1248: RuntimeWarning: invalid value encountered in power\n",
      "  mev0f = np.sum( ( 1-np.exp(-(y/C)**W ))**N) - nyears*pr\n",
      "/home/arturo/github/downpy/codes/downscale.py:1248: RuntimeWarning: invalid value encountered in power\n",
      "  mev0f = np.sum( ( 1-np.exp(-(y/C)**W ))**N) - nyears*pr\n",
      "/home/arturo/github/downpy/codes/downscale.py:1248: RuntimeWarning: invalid value encountered in power\n",
      "  mev0f = np.sum( ( 1-np.exp(-(y/C)**W ))**N) - nyears*pr\n",
      "/home/arturo/github/downpy/codes/downscale.py:1248: RuntimeWarning: invalid value encountered in power\n",
      "  mev0f = np.sum( ( 1-np.exp(-(y/C)**W ))**N) - nyears*pr\n"
     ]
    },
    {
     "name": "stdout",
     "output_type": "stream",
     "text": [
      "mevd_quant:: ERROR - fsolve does not work -  change x0\n",
      "mevd_quant:: ERROR - fsolve does not work -  change x0\n",
      "mevd_quant:: ERROR - fsolve does not work -  change x0\n",
      "mevd_quant:: ERROR - fsolve does not work -  change x0\n",
      "mevd_quant:: ERROR - fsolve does not work -  change x0\n",
      "mevd_quant:: ERROR - fsolve does not work -  change x0\n",
      "mevd_quant:: ERROR - fsolve does not work -  change x0\n",
      "mevd_quant:: ERROR - fsolve does not work -  change x0\n",
      "mevd_quant:: ERROR - fsolve does not work -  change x0\n",
      "mevd_quant:: ERROR - fsolve does not work -  change x0\n",
      "mevd_quant:: ERROR - fsolve does not work -  change x0\n",
      "mevd_quant:: ERROR - fsolve does not work -  change x0\n",
      "mevd_quant:: ERROR - fsolve does not work -  change x0\n",
      "mevd_quant:: ERROR - fsolve does not work -  change x0\n",
      "209\n"
     ]
    },
    {
     "name": "stderr",
     "output_type": "stream",
     "text": [
      "/home/arturo/github/downpy/codes/downscale.py:1248: RuntimeWarning: invalid value encountered in power\n",
      "  mev0f = np.sum( ( 1-np.exp(-(y/C)**W ))**N) - nyears*pr\n",
      "/home/arturo/github/downpy/codes/downscale.py:1248: RuntimeWarning: invalid value encountered in power\n",
      "  mev0f = np.sum( ( 1-np.exp(-(y/C)**W ))**N) - nyears*pr\n",
      "/home/arturo/github/downpy/codes/downscale.py:1248: RuntimeWarning: invalid value encountered in power\n",
      "  mev0f = np.sum( ( 1-np.exp(-(y/C)**W ))**N) - nyears*pr\n",
      "/home/arturo/github/downpy/codes/downscale.py:1248: RuntimeWarning: invalid value encountered in power\n",
      "  mev0f = np.sum( ( 1-np.exp(-(y/C)**W ))**N) - nyears*pr\n",
      "/home/arturo/github/downpy/codes/downscale.py:1248: RuntimeWarning: invalid value encountered in power\n",
      "  mev0f = np.sum( ( 1-np.exp(-(y/C)**W ))**N) - nyears*pr\n"
     ]
    },
    {
     "name": "stdout",
     "output_type": "stream",
     "text": [
      "mevd_quant:: ERROR - fsolve does not work -  change x0\n",
      "mevd_quant:: ERROR - fsolve does not work -  change x0\n",
      "mevd_quant:: ERROR - fsolve does not work -  change x0\n",
      "mevd_quant:: ERROR - fsolve does not work -  change x0\n",
      "mevd_quant:: ERROR - fsolve does not work -  change x0\n",
      "mevd_quant:: ERROR - fsolve does not work -  change x0\n",
      "mevd_quant:: ERROR - fsolve does not work -  change x0\n",
      "mevd_quant:: ERROR - fsolve does not work -  change x0\n",
      "mevd_quant:: ERROR - fsolve does not work -  change x0\n",
      "210\n"
     ]
    },
    {
     "name": "stderr",
     "output_type": "stream",
     "text": [
      "/home/arturo/github/downpy/codes/downscale.py:1248: RuntimeWarning: invalid value encountered in power\n",
      "  mev0f = np.sum( ( 1-np.exp(-(y/C)**W ))**N) - nyears*pr\n",
      "/home/arturo/github/downpy/codes/downscale.py:1248: RuntimeWarning: invalid value encountered in power\n",
      "  mev0f = np.sum( ( 1-np.exp(-(y/C)**W ))**N) - nyears*pr\n",
      "/home/arturo/github/downpy/codes/downscale.py:1248: RuntimeWarning: invalid value encountered in power\n",
      "  mev0f = np.sum( ( 1-np.exp(-(y/C)**W ))**N) - nyears*pr\n"
     ]
    },
    {
     "name": "stdout",
     "output_type": "stream",
     "text": [
      "mevd_quant:: ERROR - fsolve does not work -  change x0\n",
      "mevd_quant:: ERROR - fsolve does not work -  change x0\n",
      "211\n"
     ]
    },
    {
     "name": "stderr",
     "output_type": "stream",
     "text": [
      "/home/arturo/github/downpy/codes/downscale.py:1248: RuntimeWarning: invalid value encountered in power\n",
      "  mev0f = np.sum( ( 1-np.exp(-(y/C)**W ))**N) - nyears*pr\n",
      "/home/arturo/github/downpy/codes/downscale.py:1248: RuntimeWarning: invalid value encountered in power\n",
      "  mev0f = np.sum( ( 1-np.exp(-(y/C)**W ))**N) - nyears*pr\n",
      "/home/arturo/github/downpy/codes/downscale.py:1248: RuntimeWarning: invalid value encountered in power\n",
      "  mev0f = np.sum( ( 1-np.exp(-(y/C)**W ))**N) - nyears*pr\n",
      "/home/arturo/github/downpy/codes/downscale.py:1248: RuntimeWarning: invalid value encountered in power\n",
      "  mev0f = np.sum( ( 1-np.exp(-(y/C)**W ))**N) - nyears*pr\n"
     ]
    },
    {
     "name": "stdout",
     "output_type": "stream",
     "text": [
      "mevd_quant:: ERROR - fsolve does not work -  change x0\n",
      "mevd_quant:: ERROR - fsolve does not work -  change x0\n",
      "mevd_quant:: ERROR - fsolve does not work -  change x0\n",
      "mevd_quant:: ERROR - fsolve does not work -  change x0\n",
      "mevd_quant:: ERROR - fsolve does not work -  change x0\n",
      "212\n"
     ]
    },
    {
     "name": "stderr",
     "output_type": "stream",
     "text": [
      "/home/arturo/github/downpy/codes/downscale.py:1248: RuntimeWarning: invalid value encountered in power\n",
      "  mev0f = np.sum( ( 1-np.exp(-(y/C)**W ))**N) - nyears*pr\n",
      "/home/arturo/github/downpy/codes/downscale.py:1248: RuntimeWarning: invalid value encountered in power\n",
      "  mev0f = np.sum( ( 1-np.exp(-(y/C)**W ))**N) - nyears*pr\n",
      "/home/arturo/github/downpy/codes/downscale.py:1248: RuntimeWarning: invalid value encountered in power\n",
      "  mev0f = np.sum( ( 1-np.exp(-(y/C)**W ))**N) - nyears*pr\n"
     ]
    },
    {
     "name": "stdout",
     "output_type": "stream",
     "text": [
      "mevd_quant:: ERROR - fsolve does not work -  change x0\n",
      "mevd_quant:: ERROR - fsolve does not work -  change x0\n",
      "mevd_quant:: ERROR - fsolve does not work -  change x0\n",
      "mevd_quant:: ERROR - fsolve does not work -  change x0\n"
     ]
    },
    {
     "name": "stderr",
     "output_type": "stream",
     "text": [
      "/home/arturo/github/downpy/codes/downscale.py:1248: RuntimeWarning: invalid value encountered in power\n",
      "  mev0f = np.sum( ( 1-np.exp(-(y/C)**W ))**N) - nyears*pr\n",
      "/home/arturo/github/downpy/codes/downscale.py:1248: RuntimeWarning: invalid value encountered in power\n",
      "  mev0f = np.sum( ( 1-np.exp(-(y/C)**W ))**N) - nyears*pr\n",
      "/home/arturo/github/downpy/codes/downscale.py:1248: RuntimeWarning: invalid value encountered in power\n",
      "  mev0f = np.sum( ( 1-np.exp(-(y/C)**W ))**N) - nyears*pr\n"
     ]
    },
    {
     "name": "stdout",
     "output_type": "stream",
     "text": [
      "mevd_quant:: ERROR - fsolve does not work -  change x0\n",
      "mevd_quant:: ERROR - fsolve does not work -  change x0\n",
      "mevd_quant:: ERROR - fsolve does not work -  change x0\n",
      "mevd_quant:: ERROR - fsolve does not work -  change x0\n",
      "213\n"
     ]
    },
    {
     "name": "stderr",
     "output_type": "stream",
     "text": [
      "/home/arturo/github/downpy/codes/downscale.py:1248: RuntimeWarning: invalid value encountered in power\n",
      "  mev0f = np.sum( ( 1-np.exp(-(y/C)**W ))**N) - nyears*pr\n",
      "/home/arturo/github/downpy/codes/downscale.py:1248: RuntimeWarning: invalid value encountered in power\n",
      "  mev0f = np.sum( ( 1-np.exp(-(y/C)**W ))**N) - nyears*pr\n",
      "/home/arturo/github/downpy/codes/downscale.py:1248: RuntimeWarning: invalid value encountered in power\n",
      "  mev0f = np.sum( ( 1-np.exp(-(y/C)**W ))**N) - nyears*pr\n",
      "/home/arturo/github/downpy/codes/downscale.py:1248: RuntimeWarning: invalid value encountered in power\n",
      "  mev0f = np.sum( ( 1-np.exp(-(y/C)**W ))**N) - nyears*pr\n",
      "/home/arturo/github/downpy/codes/downscale.py:1248: RuntimeWarning: invalid value encountered in power\n",
      "  mev0f = np.sum( ( 1-np.exp(-(y/C)**W ))**N) - nyears*pr\n",
      "/home/arturo/github/downpy/codes/downscale.py:1248: RuntimeWarning: invalid value encountered in power\n",
      "  mev0f = np.sum( ( 1-np.exp(-(y/C)**W ))**N) - nyears*pr\n",
      "/home/arturo/github/downpy/codes/downscale.py:1248: RuntimeWarning: invalid value encountered in power\n",
      "  mev0f = np.sum( ( 1-np.exp(-(y/C)**W ))**N) - nyears*pr\n",
      "/home/arturo/github/downpy/codes/downscale.py:1248: RuntimeWarning: invalid value encountered in power\n",
      "  mev0f = np.sum( ( 1-np.exp(-(y/C)**W ))**N) - nyears*pr\n",
      "/home/arturo/github/downpy/codes/downscale.py:1248: RuntimeWarning: invalid value encountered in power\n",
      "  mev0f = np.sum( ( 1-np.exp(-(y/C)**W ))**N) - nyears*pr\n"
     ]
    },
    {
     "name": "stdout",
     "output_type": "stream",
     "text": [
      "mevd_quant:: ERROR - fsolve does not work -  change x0\n",
      "mevd_quant:: ERROR - fsolve does not work -  change x0\n",
      "mevd_quant:: ERROR - fsolve does not work -  change x0\n",
      "mevd_quant:: ERROR - fsolve does not work -  change x0\n",
      "mevd_quant:: ERROR - fsolve does not work -  change x0\n",
      "mevd_quant:: ERROR - fsolve does not work -  change x0\n",
      "mevd_quant:: ERROR - fsolve does not work -  change x0\n",
      "mevd_quant:: ERROR - fsolve does not work -  change x0\n",
      "mevd_quant:: ERROR - fsolve does not work -  change x0\n",
      "214\n"
     ]
    },
    {
     "name": "stderr",
     "output_type": "stream",
     "text": [
      "/home/arturo/github/downpy/codes/downscale.py:1248: RuntimeWarning: invalid value encountered in power\n",
      "  mev0f = np.sum( ( 1-np.exp(-(y/C)**W ))**N) - nyears*pr\n",
      "/home/arturo/github/downpy/codes/downscale.py:1248: RuntimeWarning: invalid value encountered in power\n",
      "  mev0f = np.sum( ( 1-np.exp(-(y/C)**W ))**N) - nyears*pr\n"
     ]
    },
    {
     "name": "stdout",
     "output_type": "stream",
     "text": [
      "215\n"
     ]
    },
    {
     "name": "stderr",
     "output_type": "stream",
     "text": [
      "/home/arturo/github/downpy/codes/downscale.py:1248: RuntimeWarning: invalid value encountered in power\n",
      "  mev0f = np.sum( ( 1-np.exp(-(y/C)**W ))**N) - nyears*pr\n",
      "/home/arturo/github/downpy/codes/downscale.py:1248: RuntimeWarning: invalid value encountered in power\n",
      "  mev0f = np.sum( ( 1-np.exp(-(y/C)**W ))**N) - nyears*pr\n"
     ]
    },
    {
     "name": "stdout",
     "output_type": "stream",
     "text": [
      "mevd_quant:: ERROR - fsolve does not work -  change x0\n",
      "mevd_quant:: ERROR - fsolve does not work -  change x0\n",
      "216\n"
     ]
    },
    {
     "name": "stderr",
     "output_type": "stream",
     "text": [
      "/home/arturo/github/downpy/codes/downscale.py:1248: RuntimeWarning: invalid value encountered in power\n",
      "  mev0f = np.sum( ( 1-np.exp(-(y/C)**W ))**N) - nyears*pr\n",
      "/home/arturo/github/downpy/codes/downscale.py:1248: RuntimeWarning: invalid value encountered in power\n",
      "  mev0f = np.sum( ( 1-np.exp(-(y/C)**W ))**N) - nyears*pr\n"
     ]
    },
    {
     "name": "stdout",
     "output_type": "stream",
     "text": [
      "217\n"
     ]
    },
    {
     "name": "stderr",
     "output_type": "stream",
     "text": [
      "/home/arturo/github/downpy/codes/downscale.py:1248: RuntimeWarning: invalid value encountered in power\n",
      "  mev0f = np.sum( ( 1-np.exp(-(y/C)**W ))**N) - nyears*pr\n",
      "/home/arturo/github/downpy/codes/downscale.py:1248: RuntimeWarning: invalid value encountered in power\n",
      "  mev0f = np.sum( ( 1-np.exp(-(y/C)**W ))**N) - nyears*pr\n",
      "/home/arturo/github/downpy/codes/downscale.py:1248: RuntimeWarning: invalid value encountered in power\n",
      "  mev0f = np.sum( ( 1-np.exp(-(y/C)**W ))**N) - nyears*pr\n",
      "/home/arturo/github/downpy/codes/downscale.py:1248: RuntimeWarning: invalid value encountered in power\n",
      "  mev0f = np.sum( ( 1-np.exp(-(y/C)**W ))**N) - nyears*pr\n",
      "/home/arturo/github/downpy/codes/downscale.py:1248: RuntimeWarning: invalid value encountered in power\n",
      "  mev0f = np.sum( ( 1-np.exp(-(y/C)**W ))**N) - nyears*pr\n",
      "/home/arturo/github/downpy/codes/downscale.py:1248: RuntimeWarning: invalid value encountered in power\n",
      "  mev0f = np.sum( ( 1-np.exp(-(y/C)**W ))**N) - nyears*pr\n",
      "/home/arturo/github/downpy/codes/downscale.py:1248: RuntimeWarning: invalid value encountered in power\n",
      "  mev0f = np.sum( ( 1-np.exp(-(y/C)**W ))**N) - nyears*pr\n"
     ]
    },
    {
     "name": "stdout",
     "output_type": "stream",
     "text": [
      "mevd_quant:: ERROR - fsolve does not work -  change x0\n",
      "mevd_quant:: ERROR - fsolve does not work -  change x0\n",
      "mevd_quant:: ERROR - fsolve does not work -  change x0\n",
      "mevd_quant:: ERROR - fsolve does not work -  change x0\n",
      "mevd_quant:: ERROR - fsolve does not work -  change x0\n",
      "mevd_quant:: ERROR - fsolve does not work -  change x0\n",
      "mevd_quant:: ERROR - fsolve does not work -  change x0\n",
      "218\n"
     ]
    },
    {
     "name": "stderr",
     "output_type": "stream",
     "text": [
      "/home/arturo/github/downpy/codes/downscale.py:1248: RuntimeWarning: invalid value encountered in power\n",
      "  mev0f = np.sum( ( 1-np.exp(-(y/C)**W ))**N) - nyears*pr\n",
      "/home/arturo/github/downpy/codes/downscale.py:1248: RuntimeWarning: invalid value encountered in power\n",
      "  mev0f = np.sum( ( 1-np.exp(-(y/C)**W ))**N) - nyears*pr\n",
      "/home/arturo/github/downpy/codes/downscale.py:1248: RuntimeWarning: invalid value encountered in power\n",
      "  mev0f = np.sum( ( 1-np.exp(-(y/C)**W ))**N) - nyears*pr\n",
      "/home/arturo/github/downpy/codes/downscale.py:1248: RuntimeWarning: invalid value encountered in power\n",
      "  mev0f = np.sum( ( 1-np.exp(-(y/C)**W ))**N) - nyears*pr\n",
      "/home/arturo/github/downpy/codes/downscale.py:1248: RuntimeWarning: invalid value encountered in power\n",
      "  mev0f = np.sum( ( 1-np.exp(-(y/C)**W ))**N) - nyears*pr\n",
      "/home/arturo/github/downpy/codes/downscale.py:1248: RuntimeWarning: invalid value encountered in power\n",
      "  mev0f = np.sum( ( 1-np.exp(-(y/C)**W ))**N) - nyears*pr\n"
     ]
    },
    {
     "name": "stdout",
     "output_type": "stream",
     "text": [
      "mevd_quant:: ERROR - fsolve does not work -  change x0\n",
      "mevd_quant:: ERROR - fsolve does not work -  change x0\n",
      "mevd_quant:: ERROR - fsolve does not work -  change x0\n",
      "mevd_quant:: ERROR - fsolve does not work -  change x0\n",
      "mevd_quant:: ERROR - fsolve does not work -  change x0\n",
      "219\n"
     ]
    },
    {
     "name": "stderr",
     "output_type": "stream",
     "text": [
      "/home/arturo/github/downpy/codes/downscale.py:1248: RuntimeWarning: invalid value encountered in power\n",
      "  mev0f = np.sum( ( 1-np.exp(-(y/C)**W ))**N) - nyears*pr\n",
      "/home/arturo/github/downpy/codes/downscale.py:1248: RuntimeWarning: invalid value encountered in power\n",
      "  mev0f = np.sum( ( 1-np.exp(-(y/C)**W ))**N) - nyears*pr\n",
      "/home/arturo/github/downpy/codes/downscale.py:1248: RuntimeWarning: invalid value encountered in power\n",
      "  mev0f = np.sum( ( 1-np.exp(-(y/C)**W ))**N) - nyears*pr\n",
      "/home/arturo/github/downpy/codes/downscale.py:1248: RuntimeWarning: invalid value encountered in power\n",
      "  mev0f = np.sum( ( 1-np.exp(-(y/C)**W ))**N) - nyears*pr\n",
      "/home/arturo/github/downpy/codes/downscale.py:1248: RuntimeWarning: invalid value encountered in power\n",
      "  mev0f = np.sum( ( 1-np.exp(-(y/C)**W ))**N) - nyears*pr\n",
      "/home/arturo/github/downpy/codes/downscale.py:1248: RuntimeWarning: invalid value encountered in power\n",
      "  mev0f = np.sum( ( 1-np.exp(-(y/C)**W ))**N) - nyears*pr\n",
      "/home/arturo/github/downpy/codes/downscale.py:1248: RuntimeWarning: invalid value encountered in power\n",
      "  mev0f = np.sum( ( 1-np.exp(-(y/C)**W ))**N) - nyears*pr\n"
     ]
    },
    {
     "name": "stdout",
     "output_type": "stream",
     "text": [
      "mevd_quant:: ERROR - fsolve does not work -  change x0\n",
      "mevd_quant:: ERROR - fsolve does not work -  change x0\n",
      "mevd_quant:: ERROR - fsolve does not work -  change x0\n",
      "mevd_quant:: ERROR - fsolve does not work -  change x0\n",
      "mevd_quant:: ERROR - fsolve does not work -  change x0\n",
      "mevd_quant:: ERROR - fsolve does not work -  change x0\n",
      "220\n"
     ]
    },
    {
     "name": "stderr",
     "output_type": "stream",
     "text": [
      "/home/arturo/github/downpy/codes/downscale.py:1248: RuntimeWarning: invalid value encountered in power\n",
      "  mev0f = np.sum( ( 1-np.exp(-(y/C)**W ))**N) - nyears*pr\n",
      "/home/arturo/github/downpy/codes/downscale.py:1248: RuntimeWarning: invalid value encountered in power\n",
      "  mev0f = np.sum( ( 1-np.exp(-(y/C)**W ))**N) - nyears*pr\n",
      "/home/arturo/github/downpy/codes/downscale.py:1248: RuntimeWarning: invalid value encountered in power\n",
      "  mev0f = np.sum( ( 1-np.exp(-(y/C)**W ))**N) - nyears*pr\n",
      "/home/arturo/github/downpy/codes/downscale.py:1248: RuntimeWarning: invalid value encountered in power\n",
      "  mev0f = np.sum( ( 1-np.exp(-(y/C)**W ))**N) - nyears*pr\n",
      "/home/arturo/github/downpy/codes/downscale.py:1248: RuntimeWarning: invalid value encountered in power\n",
      "  mev0f = np.sum( ( 1-np.exp(-(y/C)**W ))**N) - nyears*pr\n",
      "/home/arturo/github/downpy/codes/downscale.py:1248: RuntimeWarning: invalid value encountered in power\n",
      "  mev0f = np.sum( ( 1-np.exp(-(y/C)**W ))**N) - nyears*pr\n"
     ]
    },
    {
     "name": "stdout",
     "output_type": "stream",
     "text": [
      "mevd_quant:: ERROR - fsolve does not work -  change x0\n",
      "mevd_quant:: ERROR - fsolve does not work -  change x0\n",
      "mevd_quant:: ERROR - fsolve does not work -  change x0\n",
      "mevd_quant:: ERROR - fsolve does not work -  change x0\n",
      "mevd_quant:: ERROR - fsolve does not work -  change x0\n",
      "mevd_quant:: ERROR - fsolve does not work -  change x0\n",
      "mevd_quant:: ERROR - fsolve does not work -  change x0\n",
      "mevd_quant:: ERROR - fsolve does not work -  change x0\n",
      "mevd_quant:: ERROR - fsolve does not work -  change x0\n",
      "mevd_quant:: ERROR - fsolve does not work -  change x0\n",
      "221\n"
     ]
    },
    {
     "name": "stderr",
     "output_type": "stream",
     "text": [
      "/home/arturo/github/downpy/codes/downscale.py:1248: RuntimeWarning: invalid value encountered in power\n",
      "  mev0f = np.sum( ( 1-np.exp(-(y/C)**W ))**N) - nyears*pr\n",
      "/home/arturo/github/downpy/codes/downscale.py:1248: RuntimeWarning: invalid value encountered in power\n",
      "  mev0f = np.sum( ( 1-np.exp(-(y/C)**W ))**N) - nyears*pr\n",
      "/home/arturo/github/downpy/codes/downscale.py:1248: RuntimeWarning: invalid value encountered in power\n",
      "  mev0f = np.sum( ( 1-np.exp(-(y/C)**W ))**N) - nyears*pr\n",
      "/home/arturo/github/downpy/codes/downscale.py:1248: RuntimeWarning: invalid value encountered in power\n",
      "  mev0f = np.sum( ( 1-np.exp(-(y/C)**W ))**N) - nyears*pr\n",
      "/home/arturo/github/downpy/codes/downscale.py:1248: RuntimeWarning: invalid value encountered in power\n",
      "  mev0f = np.sum( ( 1-np.exp(-(y/C)**W ))**N) - nyears*pr\n"
     ]
    },
    {
     "name": "stdout",
     "output_type": "stream",
     "text": [
      "mevd_quant:: ERROR - fsolve does not work -  change x0\n",
      "mevd_quant:: ERROR - fsolve does not work -  change x0\n",
      "mevd_quant:: ERROR - fsolve does not work -  change x0\n",
      "mevd_quant:: ERROR - fsolve does not work -  change x0\n",
      "222\n"
     ]
    },
    {
     "name": "stderr",
     "output_type": "stream",
     "text": [
      "/home/arturo/github/downpy/codes/downscale.py:1248: RuntimeWarning: invalid value encountered in power\n",
      "  mev0f = np.sum( ( 1-np.exp(-(y/C)**W ))**N) - nyears*pr\n",
      "/home/arturo/github/downpy/codes/downscale.py:1248: RuntimeWarning: invalid value encountered in power\n",
      "  mev0f = np.sum( ( 1-np.exp(-(y/C)**W ))**N) - nyears*pr\n",
      "/home/arturo/github/downpy/codes/downscale.py:1248: RuntimeWarning: invalid value encountered in power\n",
      "  mev0f = np.sum( ( 1-np.exp(-(y/C)**W ))**N) - nyears*pr\n",
      "/home/arturo/github/downpy/codes/downscale.py:1248: RuntimeWarning: invalid value encountered in power\n",
      "  mev0f = np.sum( ( 1-np.exp(-(y/C)**W ))**N) - nyears*pr\n"
     ]
    },
    {
     "name": "stdout",
     "output_type": "stream",
     "text": [
      "mevd_quant:: ERROR - fsolve does not work -  change x0\n",
      "mevd_quant:: ERROR - fsolve does not work -  change x0\n",
      "223\n",
      "224\n"
     ]
    },
    {
     "name": "stderr",
     "output_type": "stream",
     "text": [
      "/home/arturo/github/downpy/codes/downscale.py:1248: RuntimeWarning: invalid value encountered in power\n",
      "  mev0f = np.sum( ( 1-np.exp(-(y/C)**W ))**N) - nyears*pr\n"
     ]
    },
    {
     "name": "stdout",
     "output_type": "stream",
     "text": [
      "225\n"
     ]
    },
    {
     "name": "stderr",
     "output_type": "stream",
     "text": [
      "/home/arturo/github/downpy/codes/downscale.py:1248: RuntimeWarning: invalid value encountered in power\n",
      "  mev0f = np.sum( ( 1-np.exp(-(y/C)**W ))**N) - nyears*pr\n",
      "/home/arturo/github/downpy/codes/downscale.py:1248: RuntimeWarning: invalid value encountered in power\n",
      "  mev0f = np.sum( ( 1-np.exp(-(y/C)**W ))**N) - nyears*pr\n",
      "/home/arturo/github/downpy/codes/downscale.py:1248: RuntimeWarning: invalid value encountered in power\n",
      "  mev0f = np.sum( ( 1-np.exp(-(y/C)**W ))**N) - nyears*pr\n",
      "/home/arturo/github/downpy/codes/downscale.py:1248: RuntimeWarning: invalid value encountered in power\n",
      "  mev0f = np.sum( ( 1-np.exp(-(y/C)**W ))**N) - nyears*pr\n"
     ]
    },
    {
     "name": "stdout",
     "output_type": "stream",
     "text": [
      "226\n"
     ]
    },
    {
     "name": "stderr",
     "output_type": "stream",
     "text": [
      "/home/arturo/github/downpy/codes/downscale.py:1248: RuntimeWarning: invalid value encountered in power\n",
      "  mev0f = np.sum( ( 1-np.exp(-(y/C)**W ))**N) - nyears*pr\n",
      "/home/arturo/github/downpy/codes/downscale.py:1248: RuntimeWarning: invalid value encountered in power\n",
      "  mev0f = np.sum( ( 1-np.exp(-(y/C)**W ))**N) - nyears*pr\n",
      "/home/arturo/github/downpy/codes/downscale.py:1248: RuntimeWarning: invalid value encountered in power\n",
      "  mev0f = np.sum( ( 1-np.exp(-(y/C)**W ))**N) - nyears*pr\n"
     ]
    },
    {
     "name": "stdout",
     "output_type": "stream",
     "text": [
      "227\n"
     ]
    },
    {
     "name": "stderr",
     "output_type": "stream",
     "text": [
      "/home/arturo/github/downpy/codes/downscale.py:1248: RuntimeWarning: invalid value encountered in power\n",
      "  mev0f = np.sum( ( 1-np.exp(-(y/C)**W ))**N) - nyears*pr\n"
     ]
    },
    {
     "name": "stdout",
     "output_type": "stream",
     "text": [
      "228\n",
      "229\n",
      "230\n"
     ]
    },
    {
     "name": "stderr",
     "output_type": "stream",
     "text": [
      "/home/arturo/github/downpy/codes/downscale.py:1248: RuntimeWarning: invalid value encountered in power\n",
      "  mev0f = np.sum( ( 1-np.exp(-(y/C)**W ))**N) - nyears*pr\n",
      "/home/arturo/github/downpy/codes/downscale.py:1248: RuntimeWarning: invalid value encountered in power\n",
      "  mev0f = np.sum( ( 1-np.exp(-(y/C)**W ))**N) - nyears*pr\n"
     ]
    },
    {
     "name": "stdout",
     "output_type": "stream",
     "text": [
      "mevd_quant:: ERROR - fsolve does not work -  change x0\n",
      "mevd_quant:: ERROR - fsolve does not work -  change x0\n",
      "231\n"
     ]
    },
    {
     "name": "stderr",
     "output_type": "stream",
     "text": [
      "/home/arturo/github/downpy/codes/downscale.py:1248: RuntimeWarning: invalid value encountered in power\n",
      "  mev0f = np.sum( ( 1-np.exp(-(y/C)**W ))**N) - nyears*pr\n",
      "/home/arturo/github/downpy/codes/downscale.py:1248: RuntimeWarning: invalid value encountered in power\n",
      "  mev0f = np.sum( ( 1-np.exp(-(y/C)**W ))**N) - nyears*pr\n"
     ]
    },
    {
     "name": "stdout",
     "output_type": "stream",
     "text": [
      "mevd_quant:: ERROR - fsolve does not work -  change x0\n",
      "mevd_quant:: ERROR - fsolve does not work -  change x0\n",
      "mevd_quant:: ERROR - fsolve does not work -  change x0\n",
      "mevd_quant:: ERROR - fsolve does not work -  change x0\n",
      "mevd_quant:: ERROR - fsolve does not work -  change x0\n",
      "mevd_quant:: ERROR - fsolve does not work -  change x0\n",
      "232\n"
     ]
    },
    {
     "name": "stderr",
     "output_type": "stream",
     "text": [
      "/home/arturo/github/downpy/codes/downscale.py:1248: RuntimeWarning: invalid value encountered in power\n",
      "  mev0f = np.sum( ( 1-np.exp(-(y/C)**W ))**N) - nyears*pr\n"
     ]
    },
    {
     "name": "stdout",
     "output_type": "stream",
     "text": [
      "mevd_quant:: ERROR - fsolve does not work -  change x0\n",
      "mevd_quant:: ERROR - fsolve does not work -  change x0\n",
      "mevd_quant:: ERROR - fsolve does not work -  change x0\n",
      "233\n"
     ]
    },
    {
     "name": "stderr",
     "output_type": "stream",
     "text": [
      "/home/arturo/github/downpy/codes/downscale.py:1248: RuntimeWarning: invalid value encountered in power\n",
      "  mev0f = np.sum( ( 1-np.exp(-(y/C)**W ))**N) - nyears*pr\n"
     ]
    },
    {
     "name": "stdout",
     "output_type": "stream",
     "text": [
      "mevd_quant:: ERROR - fsolve does not work -  change x0\n",
      "mevd_quant:: ERROR - fsolve does not work -  change x0\n",
      "mevd_quant:: ERROR - fsolve does not work -  change x0\n",
      "234\n",
      "235\n"
     ]
    },
    {
     "name": "stderr",
     "output_type": "stream",
     "text": [
      "/home/arturo/github/downpy/codes/downscale.py:1248: RuntimeWarning: invalid value encountered in power\n",
      "  mev0f = np.sum( ( 1-np.exp(-(y/C)**W ))**N) - nyears*pr\n",
      "/home/arturo/github/downpy/codes/downscale.py:1248: RuntimeWarning: invalid value encountered in power\n",
      "  mev0f = np.sum( ( 1-np.exp(-(y/C)**W ))**N) - nyears*pr\n",
      "/home/arturo/github/downpy/codes/downscale.py:1248: RuntimeWarning: invalid value encountered in power\n",
      "  mev0f = np.sum( ( 1-np.exp(-(y/C)**W ))**N) - nyears*pr\n"
     ]
    },
    {
     "name": "stdout",
     "output_type": "stream",
     "text": [
      "mevd_quant:: ERROR - fsolve does not work -  change x0\n",
      "mevd_quant:: ERROR - fsolve does not work -  change x0\n",
      "mevd_quant:: ERROR - fsolve does not work -  change x0\n",
      "mevd_quant:: ERROR - fsolve does not work -  change x0\n",
      "mevd_quant:: ERROR - fsolve does not work -  change x0\n",
      "236\n"
     ]
    },
    {
     "name": "stderr",
     "output_type": "stream",
     "text": [
      "/home/arturo/github/downpy/codes/downscale.py:1248: RuntimeWarning: invalid value encountered in power\n",
      "  mev0f = np.sum( ( 1-np.exp(-(y/C)**W ))**N) - nyears*pr\n",
      "/home/arturo/github/downpy/codes/downscale.py:1248: RuntimeWarning: invalid value encountered in power\n",
      "  mev0f = np.sum( ( 1-np.exp(-(y/C)**W ))**N) - nyears*pr\n",
      "/home/arturo/github/downpy/codes/downscale.py:1248: RuntimeWarning: invalid value encountered in power\n",
      "  mev0f = np.sum( ( 1-np.exp(-(y/C)**W ))**N) - nyears*pr\n"
     ]
    },
    {
     "name": "stdout",
     "output_type": "stream",
     "text": [
      "mevd_quant:: ERROR - fsolve does not work -  change x0\n",
      "mevd_quant:: ERROR - fsolve does not work -  change x0\n",
      "mevd_quant:: ERROR - fsolve does not work -  change x0\n",
      "mevd_quant:: ERROR - fsolve does not work -  change x0\n",
      "mevd_quant:: ERROR - fsolve does not work -  change x0\n",
      "mevd_quant:: ERROR - fsolve does not work -  change x0\n",
      "237\n"
     ]
    },
    {
     "name": "stderr",
     "output_type": "stream",
     "text": [
      "/home/arturo/github/downpy/codes/downscale.py:1248: RuntimeWarning: invalid value encountered in power\n",
      "  mev0f = np.sum( ( 1-np.exp(-(y/C)**W ))**N) - nyears*pr\n",
      "/home/arturo/github/downpy/codes/downscale.py:1248: RuntimeWarning: invalid value encountered in power\n",
      "  mev0f = np.sum( ( 1-np.exp(-(y/C)**W ))**N) - nyears*pr\n"
     ]
    },
    {
     "name": "stdout",
     "output_type": "stream",
     "text": [
      "mevd_quant:: ERROR - fsolve does not work -  change x0\n",
      "mevd_quant:: ERROR - fsolve does not work -  change x0\n",
      "mevd_quant:: ERROR - fsolve does not work -  change x0\n",
      "238\n",
      "239\n",
      "240\n",
      "241\n",
      "242\n",
      "243\n"
     ]
    },
    {
     "name": "stderr",
     "output_type": "stream",
     "text": [
      "/home/arturo/github/downpy/codes/downscale.py:1248: RuntimeWarning: invalid value encountered in power\n",
      "  mev0f = np.sum( ( 1-np.exp(-(y/C)**W ))**N) - nyears*pr\n"
     ]
    },
    {
     "name": "stdout",
     "output_type": "stream",
     "text": [
      "mevd_quant:: ERROR - fsolve does not work -  change x0\n",
      "mevd_quant:: ERROR - fsolve does not work -  change x0\n",
      "244\n"
     ]
    },
    {
     "name": "stderr",
     "output_type": "stream",
     "text": [
      "/home/arturo/github/downpy/codes/downscale.py:1248: RuntimeWarning: invalid value encountered in power\n",
      "  mev0f = np.sum( ( 1-np.exp(-(y/C)**W ))**N) - nyears*pr\n"
     ]
    },
    {
     "name": "stdout",
     "output_type": "stream",
     "text": [
      "mevd_quant:: ERROR - fsolve does not work -  change x0\n",
      "245\n"
     ]
    },
    {
     "name": "stderr",
     "output_type": "stream",
     "text": [
      "/home/arturo/github/downpy/codes/downscale.py:1248: RuntimeWarning: invalid value encountered in power\n",
      "  mev0f = np.sum( ( 1-np.exp(-(y/C)**W ))**N) - nyears*pr\n"
     ]
    },
    {
     "name": "stdout",
     "output_type": "stream",
     "text": [
      "mevd_quant:: ERROR - fsolve does not work -  change x0\n"
     ]
    },
    {
     "name": "stderr",
     "output_type": "stream",
     "text": [
      "/home/arturo/github/downpy/codes/downscale.py:1248: RuntimeWarning: invalid value encountered in power\n",
      "  mev0f = np.sum( ( 1-np.exp(-(y/C)**W ))**N) - nyears*pr\n",
      "/home/arturo/github/downpy/codes/downscale.py:1248: RuntimeWarning: invalid value encountered in power\n",
      "  mev0f = np.sum( ( 1-np.exp(-(y/C)**W ))**N) - nyears*pr\n"
     ]
    },
    {
     "name": "stdout",
     "output_type": "stream",
     "text": [
      "mevd_quant:: ERROR - fsolve does not work -  change x0\n",
      "mevd_quant:: ERROR - fsolve does not work -  change x0\n",
      "246\n"
     ]
    },
    {
     "name": "stderr",
     "output_type": "stream",
     "text": [
      "/home/arturo/github/downpy/codes/downscale.py:1248: RuntimeWarning: invalid value encountered in power\n",
      "  mev0f = np.sum( ( 1-np.exp(-(y/C)**W ))**N) - nyears*pr\n"
     ]
    },
    {
     "name": "stdout",
     "output_type": "stream",
     "text": [
      "mevd_quant:: ERROR - fsolve does not work -  change x0\n",
      "247\n",
      "248\n",
      "249\n",
      "250\n",
      "251\n",
      "252\n",
      "253\n"
     ]
    },
    {
     "name": "stderr",
     "output_type": "stream",
     "text": [
      "/home/arturo/github/downpy/codes/downscale.py:1248: RuntimeWarning: invalid value encountered in power\n",
      "  mev0f = np.sum( ( 1-np.exp(-(y/C)**W ))**N) - nyears*pr\n"
     ]
    },
    {
     "name": "stdout",
     "output_type": "stream",
     "text": [
      "mevd_quant:: ERROR - fsolve does not work -  change x0\n",
      "mevd_quant:: ERROR - fsolve does not work -  change x0\n",
      "254\n"
     ]
    },
    {
     "name": "stderr",
     "output_type": "stream",
     "text": [
      "/home/arturo/github/downpy/codes/downscale.py:1248: RuntimeWarning: invalid value encountered in power\n",
      "  mev0f = np.sum( ( 1-np.exp(-(y/C)**W ))**N) - nyears*pr\n"
     ]
    },
    {
     "name": "stdout",
     "output_type": "stream",
     "text": [
      "mevd_quant:: ERROR - fsolve does not work -  change x0\n"
     ]
    },
    {
     "name": "stderr",
     "output_type": "stream",
     "text": [
      "/home/arturo/github/downpy/codes/downscale.py:1248: RuntimeWarning: invalid value encountered in power\n",
      "  mev0f = np.sum( ( 1-np.exp(-(y/C)**W ))**N) - nyears*pr\n"
     ]
    },
    {
     "name": "stdout",
     "output_type": "stream",
     "text": [
      "mevd_quant:: ERROR - fsolve does not work -  change x0\n",
      "mevd_quant:: ERROR - fsolve does not work -  change x0\n",
      "mevd_quant:: ERROR - fsolve does not work -  change x0\n",
      "mevd_quant:: ERROR - fsolve does not work -  change x0\n",
      "255\n"
     ]
    },
    {
     "name": "stderr",
     "output_type": "stream",
     "text": [
      "/home/arturo/github/downpy/codes/downscale.py:1248: RuntimeWarning: invalid value encountered in power\n",
      "  mev0f = np.sum( ( 1-np.exp(-(y/C)**W ))**N) - nyears*pr\n",
      "/home/arturo/github/downpy/codes/downscale.py:1248: RuntimeWarning: invalid value encountered in power\n",
      "  mev0f = np.sum( ( 1-np.exp(-(y/C)**W ))**N) - nyears*pr\n"
     ]
    },
    {
     "name": "stdout",
     "output_type": "stream",
     "text": [
      "mevd_quant:: ERROR - fsolve does not work -  change x0\n",
      "mevd_quant:: ERROR - fsolve does not work -  change x0\n",
      "mevd_quant:: ERROR - fsolve does not work -  change x0\n",
      "mevd_quant:: ERROR - fsolve does not work -  change x0\n",
      "mevd_quant:: ERROR - fsolve does not work -  change x0\n",
      "mevd_quant:: ERROR - fsolve does not work -  change x0\n",
      "256\n"
     ]
    },
    {
     "name": "stderr",
     "output_type": "stream",
     "text": [
      "/home/arturo/github/downpy/codes/downscale.py:1248: RuntimeWarning: invalid value encountered in power\n",
      "  mev0f = np.sum( ( 1-np.exp(-(y/C)**W ))**N) - nyears*pr\n"
     ]
    },
    {
     "name": "stdout",
     "output_type": "stream",
     "text": [
      "mevd_quant:: ERROR - fsolve does not work -  change x0\n",
      "mevd_quant:: ERROR - fsolve does not work -  change x0\n",
      "257\n"
     ]
    },
    {
     "name": "stderr",
     "output_type": "stream",
     "text": [
      "/home/arturo/github/downpy/codes/downscale.py:1248: RuntimeWarning: invalid value encountered in power\n",
      "  mev0f = np.sum( ( 1-np.exp(-(y/C)**W ))**N) - nyears*pr\n"
     ]
    },
    {
     "name": "stdout",
     "output_type": "stream",
     "text": [
      "mevd_quant:: ERROR - fsolve does not work -  change x0\n",
      "mevd_quant:: ERROR - fsolve does not work -  change x0\n",
      "258\n",
      "259\n",
      "260\n"
     ]
    },
    {
     "name": "stderr",
     "output_type": "stream",
     "text": [
      "/home/arturo/github/downpy/codes/downscale.py:1248: RuntimeWarning: invalid value encountered in power\n",
      "  mev0f = np.sum( ( 1-np.exp(-(y/C)**W ))**N) - nyears*pr\n"
     ]
    },
    {
     "name": "stdout",
     "output_type": "stream",
     "text": [
      "mevd_quant:: ERROR - fsolve does not work -  change x0\n",
      "261\n",
      "262\n",
      "263\n",
      "264\n",
      "265\n",
      "266\n"
     ]
    },
    {
     "name": "stderr",
     "output_type": "stream",
     "text": [
      "/home/arturo/github/downpy/codes/downscale.py:1248: RuntimeWarning: invalid value encountered in power\n",
      "  mev0f = np.sum( ( 1-np.exp(-(y/C)**W ))**N) - nyears*pr\n",
      "/home/arturo/github/downpy/codes/downscale.py:1248: RuntimeWarning: invalid value encountered in power\n",
      "  mev0f = np.sum( ( 1-np.exp(-(y/C)**W ))**N) - nyears*pr\n"
     ]
    },
    {
     "name": "stdout",
     "output_type": "stream",
     "text": [
      "mevd_quant:: ERROR - fsolve does not work -  change x0\n",
      "mevd_quant:: ERROR - fsolve does not work -  change x0\n",
      "mevd_quant:: ERROR - fsolve does not work -  change x0\n",
      "mevd_quant:: ERROR - fsolve does not work -  change x0\n",
      "267\n",
      "268\n"
     ]
    },
    {
     "name": "stderr",
     "output_type": "stream",
     "text": [
      "/home/arturo/github/downpy/codes/downscale.py:1248: RuntimeWarning: invalid value encountered in power\n",
      "  mev0f = np.sum( ( 1-np.exp(-(y/C)**W ))**N) - nyears*pr\n"
     ]
    },
    {
     "name": "stdout",
     "output_type": "stream",
     "text": [
      "mevd_quant:: ERROR - fsolve does not work -  change x0\n",
      "269\n",
      "270\n"
     ]
    },
    {
     "name": "stderr",
     "output_type": "stream",
     "text": [
      "/home/arturo/github/downpy/codes/downscale.py:1248: RuntimeWarning: invalid value encountered in power\n",
      "  mev0f = np.sum( ( 1-np.exp(-(y/C)**W ))**N) - nyears*pr\n"
     ]
    },
    {
     "name": "stdout",
     "output_type": "stream",
     "text": [
      "mevd_quant:: ERROR - fsolve does not work -  change x0\n",
      "271\n",
      "272\n"
     ]
    },
    {
     "name": "stderr",
     "output_type": "stream",
     "text": [
      "/home/arturo/github/downpy/codes/downscale.py:1248: RuntimeWarning: invalid value encountered in power\n",
      "  mev0f = np.sum( ( 1-np.exp(-(y/C)**W ))**N) - nyears*pr\n"
     ]
    },
    {
     "name": "stdout",
     "output_type": "stream",
     "text": [
      "mevd_quant:: ERROR - fsolve does not work -  change x0\n",
      "273\n",
      "274\n",
      "275\n",
      "276\n",
      "277\n",
      "278\n",
      "279\n"
     ]
    }
   ],
   "source": [
    "# for each grid cell do the following:\n",
    "ntr = np.size(TR)\n",
    "Fi = 1 - 1 / TR\n",
    "qmev = np.zeros((nlon, nlat, ntr))\n",
    "qgev = np.zeros((nlon, nlat, ntr))\n",
    "for ii, clon in enumerate(tmpalon):\n",
    "    print(ii)\n",
    "    for jj, clat in enumerate(tmpalat):\n",
    "        xpixel = xconus.sel(lat=clat, lon=clon).dropna(dim='time', how='any').load()\n",
    "        ts = xpixel.values\n",
    "        years = xpixel.time.dt.year.values\n",
    "        df = pd.DataFrame({'PRCP': ts, 'YEAR': years})\n",
    "        # df = down.remove_missing_years(df, maxmiss)[0]\n",
    "        \n",
    "        Ny, Cy, Wy = down.mev_fit(df, thresh=thresh)\n",
    "        x0 = 9.0 * np.mean(Cy)\n",
    "        qmev[ii, jj, :] = down.mev_quant(Fi, x0, Ny, Cy, Wy, thresh=thresh)[0]\n",
    "        # fit GEV and compute quantiles\n",
    "        XIemp, Fiemp, TRemp = down.tab_rain_max(df)\n",
    "        \n",
    "        csi, psi, mu = down.gev_fit_lmom(df['PRCP'].values) # origianl: csi, psi, mu = down.gev_fit_lmom(XIemp)  # fit to annual maxima\n",
    "        \n",
    "        qgev[ii, jj, :] = down.gev_quant(Fi, csi, psi, mu)"
   ]
  },
  {
   "cell_type": "code",
   "execution_count": 70,
   "metadata": {},
   "outputs": [],
   "source": [
    "outdir_data  = os.path.join('..', 'output', 'pixel_stats')\n",
    "outname2 = \"tmpa_mev_global_quants.hdf5\""
   ]
  },
  {
   "cell_type": "code",
   "execution_count": 71,
   "metadata": {},
   "outputs": [],
   "source": [
    "with h5py.File(os.path.join(outdir_data, outname2), \"w\") as f:\n",
    "    f.create_dataset(\"qmev\", data = qmev, dtype='f')\n",
    "    f.create_dataset(\"qgev\", data = qgev, dtype='f')\n",
    "    # f.create_dataset(\"num_complete_years\", data = num_complete_years, dtype='int32')\n",
    "    f.create_dataset(\"Tr\", data = TR,  dtype='int32')\n",
    "    f.create_dataset(\"lat\", data = tmpalat,  dtype='f')\n",
    "    f.create_dataset(\"lon\", data =tmpalon,  dtype='f')\n",
    "    # f.create_dataset(\"nmax_miss\", data =nmax_miss,  dtype='f')\n",
    "    f.create_dataset(\"thresh\", data =thresh,  dtype='f')\n",
    "    # f.create_dataset(\"min_n_complete_years\", data =min_n_years,  dtype='int32')"
   ]
  },
  {
   "cell_type": "code",
   "execution_count": null,
   "metadata": {},
   "outputs": [],
   "source": []
  }
 ],
 "metadata": {
  "kernelspec": {
   "display_name": "AXE",
   "language": "python",
   "name": "python3"
  },
  "language_info": {
   "codemirror_mode": {
    "name": "ipython",
    "version": 3
   },
   "file_extension": ".py",
   "mimetype": "text/x-python",
   "name": "python",
   "nbconvert_exporter": "python",
   "pygments_lexer": "ipython3",
   "version": "3.1.-1"
  }
 },
 "nbformat": 4,
 "nbformat_minor": 2
}
