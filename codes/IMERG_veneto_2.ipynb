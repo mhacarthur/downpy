{
 "cells": [
  {
   "cell_type": "code",
   "execution_count": 1,
   "metadata": {},
   "outputs": [],
   "source": [
    "import os\n",
    "import glob\n",
    "import numpy as np\n",
    "import pandas as pd\n",
    "import xarray as xr\n",
    "\n",
    "import cartopy\n",
    "import cartopy.feature as cf\n",
    "import cartopy.crs as ccrs\n",
    "import cartopy.feature as cfeature\n",
    "import cartopy.io.shapereader as shpreader\n",
    "\n",
    "from matplotlib import patches\n",
    "import matplotlib.pyplot as plt\n",
    "import matplotlib.patches as mpatches\n",
    "import matplotlib.gridspec as gridspec\n",
    "\n",
    "import warnings\n",
    "warnings.filterwarnings('ignore')"
   ]
  },
  {
   "cell_type": "markdown",
   "metadata": {},
   "source": [
    "## Merge 3h IMERG data and cut for Veneto Region"
   ]
  },
  {
   "cell_type": "code",
   "execution_count": 2,
   "metadata": {},
   "outputs": [],
   "source": [
    "dir_base = os.path.join('/','media','arturo','Arturo','Data','Italy','Satellite','IMERG','3_hour','yearly')"
   ]
  },
  {
   "cell_type": "code",
   "execution_count": 12,
   "metadata": {},
   "outputs": [
    {
     "name": "stdout",
     "output_type": "stream",
     "text": [
      "Number of IMERG files: 23\n"
     ]
    }
   ],
   "source": [
    "IMERG_files = glob.glob(os.path.join(dir_base,'*.nc'))\n",
    "IMERG_files = sorted(IMERG_files)\n",
    "IMERG_files = IMERG_files[1:] # dont use 2000\n",
    "IMERG_len = len(IMERG_files)\n",
    "print(f'Number of IMERG files: {IMERG_len}')"
   ]
  },
  {
   "cell_type": "code",
   "execution_count": 13,
   "metadata": {},
   "outputs": [],
   "source": [
    "min_lon, max_lon, min_lat, max_lat = 10, 14, 44, 47 # Veneto"
   ]
  },
  {
   "cell_type": "code",
   "execution_count": 14,
   "metadata": {},
   "outputs": [],
   "source": [
    "PRE = None\n",
    "\n",
    "for nn in range(IMERG_len):#IMERG_len\n",
    "    DATA = xr.open_dataset(IMERG_files[nn])\n",
    "    DATA = DATA.sel(lat=slice(min_lat,max_lat), lon=slice(min_lon,max_lon))\n",
    "    \n",
    "    if PRE is None:\n",
    "        PRE = DATA['PRE'].data\n",
    "        time = DATA['time'].data\n",
    "        lat = DATA['lat'].data\n",
    "        lon = DATA['lon'].data\n",
    "    \n",
    "    else:\n",
    "        pre_tmp = DATA['PRE'].data\n",
    "        time_tmp = DATA['time'].data\n",
    "        PRE = np.concatenate([PRE, pre_tmp])\n",
    "        time = np.concatenate([time, time_tmp])"
   ]
  },
  {
   "cell_type": "code",
   "execution_count": 15,
   "metadata": {},
   "outputs": [],
   "source": [
    "time = pd.to_datetime(time)"
   ]
  },
  {
   "cell_type": "code",
   "execution_count": 16,
   "metadata": {},
   "outputs": [],
   "source": [
    "PRE_xr = xr.Dataset(data_vars={\"PRE\": ((\"time\",\"lat\",\"lon\"), PRE)},\n",
    "                    coords={'time': time, 'lat': lat, 'lon': lon},\n",
    "                    attrs=dict(description=\"IMERG 3 hour data for Veneto region\"))\n",
    "\n",
    "PRE_xr.PRE.attrs[\"units\"] = \"mm/3h\"\n",
    "PRE_xr.PRE.attrs[\"long_name\"] = \"3 hour precipitation rate (combined microwave-IR) estimate. Formerly precipitationCal\"\n",
    "PRE_xr.PRE.attrs[\"origname\"] = \"precipitation\"\n",
    "\n",
    "PRE_xr.lat.attrs[\"units\"] = \"degrees_north\"\n",
    "PRE_xr.lat.attrs[\"long_name\"] = \"Latitude\"\n",
    "\n",
    "PRE_xr.lon.attrs[\"units\"] = \"degrees_east\"\n",
    "PRE_xr.lon.attrs[\"long_name\"] = \"Longitude\""
   ]
  },
  {
   "cell_type": "code",
   "execution_count": 17,
   "metadata": {},
   "outputs": [
    {
     "name": "stdout",
     "output_type": "stream",
     "text": [
      "Start time: 01/01/2001\n",
      "End time: 31/12/2023\n"
     ]
    }
   ],
   "source": [
    "time_vector = pd.to_datetime(PRE_xr['time'])\n",
    "\n",
    "yy_s = pd.to_datetime(time_vector[0]).year\n",
    "mm_s = str(pd.to_datetime(time_vector[0]).month).zfill(2)\n",
    "dd_s = str(pd.to_datetime(time_vector[0]).day).zfill(2)\n",
    "\n",
    "yy_e = pd.to_datetime(time_vector[-1]).year\n",
    "mm_e = str(pd.to_datetime(time_vector[-1]).month).zfill(2)\n",
    "dd_e = str(pd.to_datetime(time_vector[-1]).day).zfill(2)\n",
    "\n",
    "print(f'Start time: {dd_s}/{mm_s}/{yy_s}')\n",
    "print(f'End time: {dd_e}/{mm_e}/{yy_e}')"
   ]
  },
  {
   "cell_type": "code",
   "execution_count": 18,
   "metadata": {},
   "outputs": [
    {
     "name": "stdout",
     "output_type": "stream",
     "text": [
      "Export PRE data to /media/arturo/Arturo/Data/Italy/Satellite/IMERG/3_hour/IMERG_Veneto_3h_2001_01_01_2023_12_31.nc\n"
     ]
    }
   ],
   "source": [
    "PRE_out = os.path.join('/','media','arturo','Arturo','Data','Italy','Satellite','IMERG','3_hour',f'IMERG_Veneto_3h_{yy_s}_{mm_s}_{dd_s}_{yy_e}_{mm_e}_{dd_e}.nc')\n",
    "print(f'Export PRE data to {PRE_out}')\n",
    "PRE_xr.to_netcdf(PRE_out)"
   ]
  },
  {
   "cell_type": "code",
   "execution_count": null,
   "metadata": {},
   "outputs": [],
   "source": []
  }
 ],
 "metadata": {
  "kernelspec": {
   "display_name": "AXE",
   "language": "python",
   "name": "python3"
  },
  "language_info": {
   "codemirror_mode": {
    "name": "ipython",
    "version": 3
   },
   "file_extension": ".py",
   "mimetype": "text/x-python",
   "name": "python",
   "nbconvert_exporter": "python",
   "pygments_lexer": "ipython3",
   "version": "3.12.2"
  }
 },
 "nbformat": 4,
 "nbformat_minor": 2
}
