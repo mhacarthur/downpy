{
 "cells": [
  {
   "cell_type": "code",
   "execution_count": 1,
   "metadata": {},
   "outputs": [],
   "source": [
    "from PIL import Image\n",
    "import glob"
   ]
  },
  {
   "cell_type": "code",
   "execution_count": 2,
   "metadata": {},
   "outputs": [],
   "source": [
    "# images = glob.glob('/home/arturo/github/downpy/fig/gif/corr/*.png')\n",
    "# images = glob.glob('/home/arturo/github/downpy/fig/OBS_corr/veneto/*.png')\n",
    "images = glob.glob('/home/arturo/github/downpy/fig/OBS_weibull/*.png')"
   ]
  },
  {
   "cell_type": "code",
   "execution_count": 3,
   "metadata": {},
   "outputs": [
    {
     "name": "stdout",
     "output_type": "stream",
     "text": [
      "Number of images: 43\n"
     ]
    }
   ],
   "source": [
    "images = sorted(images)\n",
    "len_images = len(images)\n",
    "print(f'Number of images: {len_images}')"
   ]
  },
  {
   "cell_type": "code",
   "execution_count": 4,
   "metadata": {},
   "outputs": [
    {
     "data": {
      "text/plain": [
       "['/home/arturo/github/downpy/fig/OBS_weibull/Veneto_OBS_IMERG_1981.png',\n",
       " '/home/arturo/github/downpy/fig/OBS_weibull/Veneto_OBS_IMERG_1982.png',\n",
       " '/home/arturo/github/downpy/fig/OBS_weibull/Veneto_OBS_IMERG_1983.png',\n",
       " '/home/arturo/github/downpy/fig/OBS_weibull/Veneto_OBS_IMERG_1984.png',\n",
       " '/home/arturo/github/downpy/fig/OBS_weibull/Veneto_OBS_IMERG_1985.png',\n",
       " '/home/arturo/github/downpy/fig/OBS_weibull/Veneto_OBS_IMERG_1986.png',\n",
       " '/home/arturo/github/downpy/fig/OBS_weibull/Veneto_OBS_IMERG_1987.png',\n",
       " '/home/arturo/github/downpy/fig/OBS_weibull/Veneto_OBS_IMERG_1988.png',\n",
       " '/home/arturo/github/downpy/fig/OBS_weibull/Veneto_OBS_IMERG_1989.png',\n",
       " '/home/arturo/github/downpy/fig/OBS_weibull/Veneto_OBS_IMERG_1990.png']"
      ]
     },
     "execution_count": 4,
     "metadata": {},
     "output_type": "execute_result"
    }
   ],
   "source": [
    "images[0:10]"
   ]
  },
  {
   "cell_type": "code",
   "execution_count": 5,
   "metadata": {},
   "outputs": [],
   "source": [
    "img_list = [Image.open(img) for img in images]"
   ]
  },
  {
   "cell_type": "code",
   "execution_count": 6,
   "metadata": {},
   "outputs": [],
   "source": [
    "# gif_dir = '/home/arturo/github/downpy/fig/OBS_corr/OBS_corr.gif'\n",
    "gif_dir = '/home/arturo/github/downpy/fig/OBS_weibull/OBS_weibull.gif'\n",
    "\n",
    "img_list[0].save(gif_dir, save_all=True, \n",
    "                append_images=img_list[1:], # Adds all the other images to the GIF\n",
    "                duration=180, #  The time in milliseconds each image is displayed in the GIF\n",
    "                loop=0 # The GIF will loop infinitely\n",
    "                )"
   ]
  },
  {
   "cell_type": "code",
   "execution_count": null,
   "metadata": {},
   "outputs": [],
   "source": []
  }
 ],
 "metadata": {
  "kernelspec": {
   "display_name": "AXE",
   "language": "python",
   "name": "python3"
  },
  "language_info": {
   "codemirror_mode": {
    "name": "ipython",
    "version": 3
   },
   "file_extension": ".py",
   "mimetype": "text/x-python",
   "name": "python",
   "nbconvert_exporter": "python",
   "pygments_lexer": "ipython3",
   "version": "3.12.2"
  }
 },
 "nbformat": 4,
 "nbformat_minor": 2
}
