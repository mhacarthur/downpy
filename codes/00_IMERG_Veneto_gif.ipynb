{
 "cells": [
  {
   "cell_type": "code",
   "execution_count": 1,
   "metadata": {},
   "outputs": [],
   "source": [
    "from PIL import Image\n",
    "import glob"
   ]
  },
  {
   "cell_type": "code",
   "execution_count": 2,
   "metadata": {},
   "outputs": [
    {
     "name": "stdout",
     "output_type": "stream",
     "text": [
      "Number of images: 625\n"
     ]
    }
   ],
   "source": [
    "images = glob.glob('/home/arturo/github/downpy/fig/corr/*.png')\n",
    "images = sorted(images)\n",
    "len_images = len(images)\n",
    "print(f'Number of images: {len_images}')"
   ]
  },
  {
   "cell_type": "code",
   "execution_count": 3,
   "metadata": {},
   "outputs": [
    {
     "data": {
      "text/plain": [
       "['/home/arturo/github/downpy/fig/corr/Corr_001.png',\n",
       " '/home/arturo/github/downpy/fig/corr/Corr_002.png',\n",
       " '/home/arturo/github/downpy/fig/corr/Corr_003.png',\n",
       " '/home/arturo/github/downpy/fig/corr/Corr_004.png',\n",
       " '/home/arturo/github/downpy/fig/corr/Corr_005.png',\n",
       " '/home/arturo/github/downpy/fig/corr/Corr_006.png',\n",
       " '/home/arturo/github/downpy/fig/corr/Corr_007.png',\n",
       " '/home/arturo/github/downpy/fig/corr/Corr_008.png',\n",
       " '/home/arturo/github/downpy/fig/corr/Corr_009.png',\n",
       " '/home/arturo/github/downpy/fig/corr/Corr_010.png']"
      ]
     },
     "execution_count": 3,
     "metadata": {},
     "output_type": "execute_result"
    }
   ],
   "source": [
    "images[0:10]"
   ]
  },
  {
   "cell_type": "code",
   "execution_count": 4,
   "metadata": {},
   "outputs": [],
   "source": [
    "img_list = [Image.open(img) for img in images]"
   ]
  },
  {
   "cell_type": "code",
   "execution_count": 5,
   "metadata": {},
   "outputs": [],
   "source": [
    "gif_dir = '/home/arturo/github/downpy/fig/corr/Corr.gif'\n",
    "img_list[0].save(gif_dir, save_all=True, \n",
    "                append_images=img_list[1:], # Adds all the other images to the GIF\n",
    "                duration=100, #  The time in milliseconds each image is displayed in the GIF\n",
    "                loop=0 # The GIF will loop infinitely\n",
    "                )"
   ]
  },
  {
   "cell_type": "code",
   "execution_count": null,
   "metadata": {},
   "outputs": [],
   "source": []
  }
 ],
 "metadata": {
  "kernelspec": {
   "display_name": "AXE",
   "language": "python",
   "name": "python3"
  },
  "language_info": {
   "codemirror_mode": {
    "name": "ipython",
    "version": 3
   },
   "file_extension": ".py",
   "mimetype": "text/x-python",
   "name": "python",
   "nbconvert_exporter": "python",
   "pygments_lexer": "ipython3",
   "version": "3.12.2"
  }
 },
 "nbformat": 4,
 "nbformat_minor": 2
}
