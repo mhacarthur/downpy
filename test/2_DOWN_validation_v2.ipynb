{
 "cells": [
  {
   "cell_type": "code",
   "execution_count": 54,
   "id": "9a2dfa55",
   "metadata": {},
   "outputs": [],
   "source": [
    "import os\n",
    "import numpy as np\n",
    "import xarray as xr\n",
    "import pandas as pd\n",
    "import seaborn as sns\n",
    "import geopandas as gpd\n",
    "\n",
    "import cartopy.crs as ccrs\n",
    "import scipy.stats as stats\n",
    "\n",
    "from matplotlib import patches\n",
    "import matplotlib.pyplot as plt\n",
    "import matplotlib.colors as mcolors\n",
    "import matplotlib.colors as mcolors\n",
    "import matplotlib.gridspec as gridspec\n",
    "\n",
    "import shapely.geometry as sg\n",
    "from shapely.geometry import Point\n",
    "\n",
    "import sys\n",
    "sys.path.append(os.path.abspath(\"..\"))\n",
    "from function import DOWN_raw\n",
    "from function import ART_preprocessing as ART_pre\n",
    "\n",
    "import warnings\n",
    "warnings.filterwarnings('ignore')"
   ]
  },
  {
   "cell_type": "code",
   "execution_count": 55,
   "id": "e7c55687",
   "metadata": {},
   "outputs": [],
   "source": [
    "lon_min, lon_max, lat_min, lat_max, area, toll = 6.5, 19, 36.5, 48, 'ITALY', 0.002\n",
    "\n",
    "Tr = [5, 10, 20, 50, 100]\n",
    "Fi = 1 - 1/np.array(Tr)"
   ]
  },
  {
   "cell_type": "code",
   "execution_count": 56,
   "id": "5fec31fc",
   "metadata": {},
   "outputs": [],
   "source": [
    "veneto_dir = os.path.join('/','media','arturo','T9','Data','shapes','Europa','Italy')\n",
    "\n",
    "if os.path.exists(veneto_dir):\n",
    "    REGIONS = gpd.read_file(os.path.join(veneto_dir,'Italy_regions.geojson'))\n",
    "else:\n",
    "    raise SystemExit(f\"File not found: {veneto_dir}\")"
   ]
  },
  {
   "cell_type": "code",
   "execution_count": 57,
   "id": "6853b29d",
   "metadata": {},
   "outputs": [],
   "source": [
    "obs_base = os.path.join('/','media','arturo','T9','Data','Italy', 'stations', 'Italy_raingauges')\n",
    "sat_base = os.path.join('/','media','arturo','T9','Data','Italy','Satellite','5_DOWN')"
   ]
  },
  {
   "cell_type": "code",
   "execution_count": 58,
   "id": "ff8756d3",
   "metadata": {},
   "outputs": [
    {
     "data": {
      "text/html": [
       "<div>\n",
       "<style scoped>\n",
       "    .dataframe tbody tr th:only-of-type {\n",
       "        vertical-align: middle;\n",
       "    }\n",
       "\n",
       "    .dataframe tbody tr th {\n",
       "        vertical-align: top;\n",
       "    }\n",
       "\n",
       "    .dataframe thead th {\n",
       "        text-align: right;\n",
       "    }\n",
       "</style>\n",
       "<table border=\"1\" class=\"dataframe\">\n",
       "  <thead>\n",
       "    <tr style=\"text-align: right;\">\n",
       "      <th></th>\n",
       "      <th>File</th>\n",
       "      <th>ISO</th>\n",
       "      <th>Region</th>\n",
       "      <th>Code</th>\n",
       "      <th>Name</th>\n",
       "      <th>Elevation</th>\n",
       "      <th>Orig_EPSG</th>\n",
       "      <th>CRS_E</th>\n",
       "      <th>CRS_N</th>\n",
       "      <th>Lat</th>\n",
       "      <th>Lon</th>\n",
       "      <th>Year_Start</th>\n",
       "      <th>Year_End</th>\n",
       "      <th>INTENSE_Resp</th>\n",
       "      <th>AGENCY</th>\n",
       "      <th>Source</th>\n",
       "      <th>TimeZone</th>\n",
       "      <th>Agency</th>\n",
       "    </tr>\n",
       "  </thead>\n",
       "  <tbody>\n",
       "    <tr>\n",
       "      <th>0</th>\n",
       "      <td>IT-210_PIE-001030-900_0060.csv</td>\n",
       "      <td>IT-210</td>\n",
       "      <td>Piedmont</td>\n",
       "      <td>PIE-001030-900</td>\n",
       "      <td>BORGOFRANCODIVREA</td>\n",
       "      <td>337.0</td>\n",
       "      <td>32632.0</td>\n",
       "      <td>410005.0</td>\n",
       "      <td>5040731.0</td>\n",
       "      <td>45.514302</td>\n",
       "      <td>7.847798</td>\n",
       "      <td>1988-05-08 05:00:00</td>\n",
       "      <td>2024-09-09 01:00:00</td>\n",
       "      <td>DT</td>\n",
       "      <td>ARPA Piemonte</td>\n",
       "      <td>Piedmont</td>\n",
       "      <td>UTC</td>\n",
       "      <td>NaN</td>\n",
       "    </tr>\n",
       "    <tr>\n",
       "      <th>1</th>\n",
       "      <td>IT-210_PIE-001097-900_0060.csv</td>\n",
       "      <td>IT-210</td>\n",
       "      <td>Piedmont</td>\n",
       "      <td>PIE-001097-900</td>\n",
       "      <td>CUMIANA</td>\n",
       "      <td>327.0</td>\n",
       "      <td>32632.0</td>\n",
       "      <td>373092.0</td>\n",
       "      <td>4980177.0</td>\n",
       "      <td>44.963696</td>\n",
       "      <td>7.390821</td>\n",
       "      <td>1988-01-29 03:00:00</td>\n",
       "      <td>2024-09-18 12:00:00</td>\n",
       "      <td>DT</td>\n",
       "      <td>ARPA Piemonte</td>\n",
       "      <td>Piedmont</td>\n",
       "      <td>UTC</td>\n",
       "      <td>NaN</td>\n",
       "    </tr>\n",
       "  </tbody>\n",
       "</table>\n",
       "</div>"
      ],
      "text/plain": [
       "                             File     ISO    Region            Code  \\\n",
       "0  IT-210_PIE-001030-900_0060.csv  IT-210  Piedmont  PIE-001030-900   \n",
       "1  IT-210_PIE-001097-900_0060.csv  IT-210  Piedmont  PIE-001097-900   \n",
       "\n",
       "                Name  Elevation  Orig_EPSG     CRS_E      CRS_N        Lat  \\\n",
       "0  BORGOFRANCODIVREA      337.0    32632.0  410005.0  5040731.0  45.514302   \n",
       "1            CUMIANA      327.0    32632.0  373092.0  4980177.0  44.963696   \n",
       "\n",
       "        Lon           Year_Start             Year_End INTENSE_Resp  \\\n",
       "0  7.847798  1988-05-08 05:00:00  2024-09-09 01:00:00           DT   \n",
       "1  7.390821  1988-01-29 03:00:00  2024-09-18 12:00:00           DT   \n",
       "\n",
       "          AGENCY    Source TimeZone Agency  \n",
       "0  ARPA Piemonte  Piedmont      UTC    NaN  \n",
       "1  ARPA Piemonte  Piedmont      UTC    NaN  "
      ]
     },
     "execution_count": 58,
     "metadata": {},
     "output_type": "execute_result"
    }
   ],
   "source": [
    "METADATA = pd.read_csv(os.path.join(obs_base, 'METADATA', 'METADATA_INTENSE_NOQC_update.csv'))\n",
    "METADATA.head(2)"
   ]
  },
  {
   "cell_type": "markdown",
   "id": "309b045d",
   "metadata": {},
   "source": [
    "## Load ENSEMBLE data"
   ]
  },
  {
   "cell_type": "code",
   "execution_count": 59,
   "id": "d712d9d1",
   "metadata": {},
   "outputs": [],
   "source": [
    "dir_in = os.path.join(sat_base,'ITALY_ENSEMBLE_1dy_2002_2023_npix_2_thr_1_acf_mar_genetic_pearson.nc')\n",
    "data = xr.open_dataset(dir_in)\n",
    "\n",
    "lat_sat = data.lat.values\n",
    "lon_sat = data.lon.values\n",
    "lon2d_sat, lat2d_sat = np.meshgrid(lon_sat, lat_sat)\n",
    "\n",
    "Sat_year = data.year.values\n",
    "\n",
    "Sat_NYd = data.NYd.values\n",
    "Sat_CYd = data.CYd.values\n",
    "Sat_WYd = data.WYd.values"
   ]
  },
  {
   "cell_type": "markdown",
   "id": "a8016ac9",
   "metadata": {},
   "source": [
    "## Choose the Region"
   ]
  },
  {
   "cell_type": "code",
   "execution_count": 60,
   "id": "023d0c73",
   "metadata": {},
   "outputs": [
    {
     "name": "stdout",
     "output_type": "stream",
     "text": [
      "Region: IT-210\n"
     ]
    }
   ],
   "source": [
    "regions_ISO = sorted(METADATA['ISO'].unique())\n",
    "region_ = regions_ISO[0]\n",
    "print(f'Region: {region_}') "
   ]
  },
  {
   "cell_type": "code",
   "execution_count": 89,
   "id": "e8734414",
   "metadata": {},
   "outputs": [],
   "source": [
    "METADATA_clear = METADATA[METADATA['ISO']==region_].reset_index(inplace=False)\n",
    "\n",
    "RE_50 = []\n",
    "for nn in range(len(METADATA_clear)):#len(METADATA_clear)\n",
    "    filename = f'{METADATA_clear['File'].values[nn]}'\n",
    "    lat_obs = METADATA_clear['Lat'][nn]\n",
    "    lon_obs = METADATA_clear['Lon'][nn]\n",
    "\n",
    "    OBS_pd = pd.read_csv(os.path.join(obs_base, 'DATA_1dy', 'statistics', region_, filename))\n",
    "    OBS_pd = OBS_pd[(OBS_pd['Year']>=2002)&(OBS_pd['Year']<=2023)].reset_index(drop=True)\n",
    "\n",
    "    OBS_N = OBS_pd['N'].values\n",
    "    OBS_C = OBS_pd['C'].values\n",
    "    OBS_W = OBS_pd['W'].values\n",
    "    OBS_Y = OBS_pd['Year'].values\n",
    "\n",
    "    x0 = np.nanmean(OBS_C)\n",
    "    OBS_Q, flag = DOWN_raw.mev_quant_update(Fi, x0, OBS_N, OBS_C, OBS_W, thresh=1)\n",
    "    OBS_Q2 = np.where(flag, OBS_Q, np.nan)\n",
    "\n",
    "    distances = ART_pre.haversine(lat2d_sat, lon2d_sat, lat_obs, lon_obs)\n",
    "    min_index = np.unravel_index(np.argmin(distances, axis=None), distances.shape)\n",
    "    Sat_NYd_ = Sat_NYd[:,min_index[0],min_index[1]]\n",
    "    Sat_CYd_ = Sat_CYd[:,min_index[0],min_index[1]]\n",
    "    Sat_WYd_ = Sat_WYd[:,min_index[0],min_index[1]]\n",
    "\n",
    "    Sat_pd = pd.DataFrame({'Year':Sat_year, 'N':Sat_NYd_, 'C':Sat_CYd_, 'W':Sat_WYd_})\n",
    "    # Sat_pd_filtered = Sat_pd[Sat_pd['Year'].isin(OBS_pd['Year'])]\n",
    "    Sat_pd_filtered = Sat_pd.set_index('Year').loc[OBS_pd['Year']].reset_index()\n",
    "\n",
    "    SAT_N = Sat_pd_filtered['N'].values\n",
    "    SAT_C = Sat_pd_filtered['C'].values\n",
    "    SAT_W = Sat_pd_filtered['W'].values\n",
    "    SAT_Y = Sat_pd_filtered['Year'].values\n",
    "    \n",
    "    if len(OBS_Y) != len(SAT_Y):\n",
    "        print('ERROR')\n",
    "        sys.exit()\n",
    "    else:\n",
    "        x0 = np.nanmean(SAT_C)\n",
    "        SAT_Q, flag = DOWN_raw.mev_quant_update(Fi, x0, SAT_N, SAT_C, SAT_W, thresh=1)\n",
    "        SAT_Q2 = np.where(flag, SAT_Q, np.nan)\n",
    "    \n",
    "    relative_e_50 = (SAT_Q2[3] - OBS_Q2[3])/OBS_Q2[3]\n",
    "    RE_50.append(float(relative_e_50))"
   ]
  },
  {
   "cell_type": "code",
   "execution_count": 92,
   "id": "3a813066",
   "metadata": {},
   "outputs": [
    {
     "data": {
      "text/plain": [
       "Text(0.0, 1.0, 'Region IT-210')"
      ]
     },
     "execution_count": 92,
     "metadata": {},
     "output_type": "execute_result"
    },
    {
     "data": {
      "image/png": "[encoded data removed]",
      "text/plain": [
       "<Figure size 2000x600 with 1 Axes>"
      ]
     },
     "metadata": {},
     "output_type": "display_data"
    }
   ],
   "source": [
    "fig = plt.figure(figsize=(10,3),dpi=200)\n",
    "gs = gridspec.GridSpec(1,2)\n",
    "\n",
    "# =========================================================================================================================\n",
    "ax1 = plt.subplot(gs[0, 0])\n",
    "sns.kdeplot(RE_50,color='k',cumulative=False,fill=False,multiple=\"stack\",ax=ax1,label=f'ENSEMBLEd')\n",
    "ax1.axvline(np.mean(RE_50),color='k',linestyle='--',linewidth=1, label=f'Mean: {np.round(np.mean(RE_50),2)}')\n",
    "\n",
    "ax1.legend(fontsize=4, loc=0, ncol=1)\n",
    "ax1.grid(linewidth=0.3, linestyle='--')\n",
    "ax1.set_xlim(-1.5,1.5)\n",
    "ax1.set_ylim(0,3.5)\n",
    "ax1.tick_params(axis='both', which='major', labelsize=7)\n",
    "ax1.set_ylabel('')\n",
    "ax1.set_xlabel('Relative Error values',fontsize=7) \n",
    "ax1.set_ylabel('Percent [%]',fontsize=7)\n",
    "\n",
    "ax1.set_title(f'Region {region_}', fontsize=9, loc='left')"
   ]
  },
  {
   "cell_type": "code",
   "execution_count": 93,
   "id": "de22c82e",
   "metadata": {},
   "outputs": [
    {
     "data": {
      "text/plain": [
       "<matplotlib.legend.Legend at 0x723bd5f4a0d0>"
      ]
     },
     "execution_count": 93,
     "metadata": {},
     "output_type": "execute_result"
    },
    {
     "data": {
      "image/png": "[encoded data removed]",
      "text/plain": [
       "<Figure size 640x480 with 1 Axes>"
      ]
     },
     "metadata": {},
     "output_type": "display_data"
    }
   ],
   "source": [
    "plt.plot(Tr, OBS_Q2, label='OBS')\n",
    "plt.plot(Tr, SAT_Q2, label='SAT')\n",
    "plt.legend()"
   ]
  },
  {
   "cell_type": "code",
   "execution_count": 63,
   "id": "2272638e",
   "metadata": {},
   "outputs": [
    {
     "data": {
      "text/plain": [
       "<matplotlib.legend.Legend at 0x723bdc6a3390>"
      ]
     },
     "execution_count": 63,
     "metadata": {},
     "output_type": "execute_result"
    },
    {
     "data": {
      "image/png": "[encoded data removed]",
      "text/plain": [
       "<Figure size 640x480 with 1 Axes>"
      ]
     },
     "metadata": {},
     "output_type": "display_data"
    }
   ],
   "source": [
    "plt.plot(Tr, OBS_Q2, label='OBS')\n",
    "plt.plot(Tr, SAT_Q2, label='SAT')\n",
    "plt.legend()"
   ]
  },
  {
   "cell_type": "code",
   "execution_count": 64,
   "id": "1fece038",
   "metadata": {},
   "outputs": [
    {
     "data": {
      "text/plain": [
       "array([109.38683389, 148.52784573, 215.13824287, 335.16718169,\n",
       "       436.98312057])"
      ]
     },
     "execution_count": 64,
     "metadata": {},
     "output_type": "execute_result"
    }
   ],
   "source": [
    "TMP_Q2"
   ]
  },
  {
   "cell_type": "code",
   "execution_count": 65,
   "id": "21424b78",
   "metadata": {},
   "outputs": [
    {
     "data": {
      "text/html": [
       "<div>\n",
       "<style scoped>\n",
       "    .dataframe tbody tr th:only-of-type {\n",
       "        vertical-align: middle;\n",
       "    }\n",
       "\n",
       "    .dataframe tbody tr th {\n",
       "        vertical-align: top;\n",
       "    }\n",
       "\n",
       "    .dataframe thead th {\n",
       "        text-align: right;\n",
       "    }\n",
       "</style>\n",
       "<table border=\"1\" class=\"dataframe\">\n",
       "  <thead>\n",
       "    <tr style=\"text-align: right;\">\n",
       "      <th></th>\n",
       "      <th>Year</th>\n",
       "      <th>N</th>\n",
       "      <th>C</th>\n",
       "      <th>W</th>\n",
       "    </tr>\n",
       "  </thead>\n",
       "  <tbody>\n",
       "    <tr>\n",
       "      <th>0</th>\n",
       "      <td>2002</td>\n",
       "      <td>135.500000</td>\n",
       "      <td>5.742154</td>\n",
       "      <td>0.758284</td>\n",
       "    </tr>\n",
       "    <tr>\n",
       "      <th>1</th>\n",
       "      <td>2003</td>\n",
       "      <td>96.166667</td>\n",
       "      <td>4.436469</td>\n",
       "      <td>0.768746</td>\n",
       "    </tr>\n",
       "    <tr>\n",
       "      <th>2</th>\n",
       "      <td>2004</td>\n",
       "      <td>102.833333</td>\n",
       "      <td>4.816773</td>\n",
       "      <td>0.755025</td>\n",
       "    </tr>\n",
       "    <tr>\n",
       "      <th>3</th>\n",
       "      <td>2005</td>\n",
       "      <td>98.166667</td>\n",
       "      <td>4.900935</td>\n",
       "      <td>0.761240</td>\n",
       "    </tr>\n",
       "    <tr>\n",
       "      <th>4</th>\n",
       "      <td>2006</td>\n",
       "      <td>117.166667</td>\n",
       "      <td>4.238214</td>\n",
       "      <td>0.703778</td>\n",
       "    </tr>\n",
       "    <tr>\n",
       "      <th>5</th>\n",
       "      <td>2007</td>\n",
       "      <td>118.166667</td>\n",
       "      <td>4.997718</td>\n",
       "      <td>0.829142</td>\n",
       "    </tr>\n",
       "    <tr>\n",
       "      <th>6</th>\n",
       "      <td>2008</td>\n",
       "      <td>139.000000</td>\n",
       "      <td>5.967207</td>\n",
       "      <td>0.793423</td>\n",
       "    </tr>\n",
       "    <tr>\n",
       "      <th>7</th>\n",
       "      <td>2009</td>\n",
       "      <td>128.500000</td>\n",
       "      <td>5.646119</td>\n",
       "      <td>0.801471</td>\n",
       "    </tr>\n",
       "    <tr>\n",
       "      <th>8</th>\n",
       "      <td>2010</td>\n",
       "      <td>133.666667</td>\n",
       "      <td>5.868656</td>\n",
       "      <td>0.715653</td>\n",
       "    </tr>\n",
       "    <tr>\n",
       "      <th>9</th>\n",
       "      <td>2011</td>\n",
       "      <td>112.166667</td>\n",
       "      <td>6.727721</td>\n",
       "      <td>0.709132</td>\n",
       "    </tr>\n",
       "    <tr>\n",
       "      <th>10</th>\n",
       "      <td>2012</td>\n",
       "      <td>122.166667</td>\n",
       "      <td>5.653040</td>\n",
       "      <td>0.750203</td>\n",
       "    </tr>\n",
       "    <tr>\n",
       "      <th>11</th>\n",
       "      <td>2013</td>\n",
       "      <td>128.833333</td>\n",
       "      <td>5.907823</td>\n",
       "      <td>0.762470</td>\n",
       "    </tr>\n",
       "    <tr>\n",
       "      <th>12</th>\n",
       "      <td>2014</td>\n",
       "      <td>140.500000</td>\n",
       "      <td>5.858846</td>\n",
       "      <td>0.774825</td>\n",
       "    </tr>\n",
       "    <tr>\n",
       "      <th>13</th>\n",
       "      <td>2015</td>\n",
       "      <td>114.500000</td>\n",
       "      <td>5.650243</td>\n",
       "      <td>0.762165</td>\n",
       "    </tr>\n",
       "    <tr>\n",
       "      <th>14</th>\n",
       "      <td>2016</td>\n",
       "      <td>118.500000</td>\n",
       "      <td>5.831023</td>\n",
       "      <td>0.703856</td>\n",
       "    </tr>\n",
       "    <tr>\n",
       "      <th>15</th>\n",
       "      <td>2017</td>\n",
       "      <td>102.666667</td>\n",
       "      <td>5.098322</td>\n",
       "      <td>0.790381</td>\n",
       "    </tr>\n",
       "    <tr>\n",
       "      <th>16</th>\n",
       "      <td>2018</td>\n",
       "      <td>140.166667</td>\n",
       "      <td>5.632664</td>\n",
       "      <td>0.757805</td>\n",
       "    </tr>\n",
       "    <tr>\n",
       "      <th>17</th>\n",
       "      <td>2019</td>\n",
       "      <td>120.666667</td>\n",
       "      <td>5.727566</td>\n",
       "      <td>0.749056</td>\n",
       "    </tr>\n",
       "    <tr>\n",
       "      <th>18</th>\n",
       "      <td>2020</td>\n",
       "      <td>120.333333</td>\n",
       "      <td>4.734593</td>\n",
       "      <td>0.764313</td>\n",
       "    </tr>\n",
       "    <tr>\n",
       "      <th>19</th>\n",
       "      <td>2021</td>\n",
       "      <td>116.666667</td>\n",
       "      <td>4.232895</td>\n",
       "      <td>0.739922</td>\n",
       "    </tr>\n",
       "    <tr>\n",
       "      <th>20</th>\n",
       "      <td>2022</td>\n",
       "      <td>103.333333</td>\n",
       "      <td>3.961668</td>\n",
       "      <td>0.852030</td>\n",
       "    </tr>\n",
       "    <tr>\n",
       "      <th>21</th>\n",
       "      <td>2023</td>\n",
       "      <td>107.666667</td>\n",
       "      <td>5.174013</td>\n",
       "      <td>0.756789</td>\n",
       "    </tr>\n",
       "  </tbody>\n",
       "</table>\n",
       "</div>"
      ],
      "text/plain": [
       "    Year           N         C         W\n",
       "0   2002  135.500000  5.742154  0.758284\n",
       "1   2003   96.166667  4.436469  0.768746\n",
       "2   2004  102.833333  4.816773  0.755025\n",
       "3   2005   98.166667  4.900935  0.761240\n",
       "4   2006  117.166667  4.238214  0.703778\n",
       "5   2007  118.166667  4.997718  0.829142\n",
       "6   2008  139.000000  5.967207  0.793423\n",
       "7   2009  128.500000  5.646119  0.801471\n",
       "8   2010  133.666667  5.868656  0.715653\n",
       "9   2011  112.166667  6.727721  0.709132\n",
       "10  2012  122.166667  5.653040  0.750203\n",
       "11  2013  128.833333  5.907823  0.762470\n",
       "12  2014  140.500000  5.858846  0.774825\n",
       "13  2015  114.500000  5.650243  0.762165\n",
       "14  2016  118.500000  5.831023  0.703856\n",
       "15  2017  102.666667  5.098322  0.790381\n",
       "16  2018  140.166667  5.632664  0.757805\n",
       "17  2019  120.666667  5.727566  0.749056\n",
       "18  2020  120.333333  4.734593  0.764313\n",
       "19  2021  116.666667  4.232895  0.739922\n",
       "20  2022  103.333333  3.961668  0.852030\n",
       "21  2023  107.666667  5.174013  0.756789"
      ]
     },
     "execution_count": 65,
     "metadata": {},
     "output_type": "execute_result"
    }
   ],
   "source": [
    "Sat_pd"
   ]
  }
 ],
 "metadata": {
  "kernelspec": {
   "display_name": "AXE",
   "language": "python",
   "name": "python3"
  },
  "language_info": {
   "codemirror_mode": {
    "name": "ipython",
    "version": 3
   },
   "file_extension": ".py",
   "mimetype": "text/x-python",
   "name": "python",
   "nbconvert_exporter": "python",
   "pygments_lexer": "ipython3",
   "version": "3.13.1"
  }
 },
 "nbformat": 4,
 "nbformat_minor": 5
}
