{
 "cells": [
  {
   "cell_type": "code",
   "execution_count": 4,
   "id": "628b32ed",
   "metadata": {},
   "outputs": [],
   "source": [
    "import os\n",
    "import numpy as np\n",
    "import xarray as xr\n",
    "import pandas as pd\n",
    "import seaborn as sns\n",
    "import geopandas as gpd\n",
    "\n",
    "import cartopy.crs as ccrs\n",
    "import scipy.stats as stats\n",
    "\n",
    "from matplotlib import patches\n",
    "import matplotlib.pyplot as plt\n",
    "import matplotlib.colors as mcolors\n",
    "import matplotlib.colors as mcolors\n",
    "import matplotlib.gridspec as gridspec\n",
    "\n",
    "import shapely.geometry as sg\n",
    "from shapely.geometry import Point\n",
    "\n",
    "import warnings\n",
    "warnings.filterwarnings('ignore')"
   ]
  },
  {
   "cell_type": "code",
   "execution_count": 5,
   "id": "9ba71259",
   "metadata": {},
   "outputs": [],
   "source": [
    "yy_s, yy_e = 2002, 2022\n",
    "years_num = yy_e - yy_s + 1"
   ]
  },
  {
   "cell_type": "code",
   "execution_count": 15,
   "id": "3fd6232e",
   "metadata": {},
   "outputs": [],
   "source": [
    "dir_base = os.path.join('/','media','arturo','T9','Data','Italy', 'stations', 'Italy_raingauges')"
   ]
  },
  {
   "cell_type": "markdown",
   "id": "d5e65156",
   "metadata": {},
   "source": [
    "## Load METADATA"
   ]
  },
  {
   "cell_type": "code",
   "execution_count": 18,
   "id": "2f777a82",
   "metadata": {},
   "outputs": [
    {
     "data": {
      "text/html": [
       "<div>\n",
       "<style scoped>\n",
       "    .dataframe tbody tr th:only-of-type {\n",
       "        vertical-align: middle;\n",
       "    }\n",
       "\n",
       "    .dataframe tbody tr th {\n",
       "        vertical-align: top;\n",
       "    }\n",
       "\n",
       "    .dataframe thead th {\n",
       "        text-align: right;\n",
       "    }\n",
       "</style>\n",
       "<table border=\"1\" class=\"dataframe\">\n",
       "  <thead>\n",
       "    <tr style=\"text-align: right;\">\n",
       "      <th></th>\n",
       "      <th>File</th>\n",
       "      <th>Region</th>\n",
       "      <th>Code</th>\n",
       "      <th>Name</th>\n",
       "      <th>Elevation</th>\n",
       "      <th>Orig_EPSG</th>\n",
       "      <th>CRS_E</th>\n",
       "      <th>CRS_N</th>\n",
       "      <th>Lat</th>\n",
       "      <th>Lon</th>\n",
       "      <th>Year_Start</th>\n",
       "      <th>Year_End</th>\n",
       "      <th>INTENSE_Resp</th>\n",
       "      <th>AGENCY</th>\n",
       "      <th>Source</th>\n",
       "      <th>TimeZone</th>\n",
       "      <th>Agency</th>\n",
       "    </tr>\n",
       "  </thead>\n",
       "  <tbody>\n",
       "    <tr>\n",
       "      <th>0</th>\n",
       "      <td>IT-210_PIE-001030-900_0060.csv</td>\n",
       "      <td>Piedmont</td>\n",
       "      <td>PIE-001030-900</td>\n",
       "      <td>BORGOFRANCODIVREA</td>\n",
       "      <td>337.0</td>\n",
       "      <td>32632.0</td>\n",
       "      <td>410005.0</td>\n",
       "      <td>5040731.0</td>\n",
       "      <td>45.514302</td>\n",
       "      <td>7.847798</td>\n",
       "      <td>1988-05-08 05:00:00</td>\n",
       "      <td>2024-09-09 01:00:00</td>\n",
       "      <td>DT</td>\n",
       "      <td>ARPA Piemonte</td>\n",
       "      <td>Piedmont</td>\n",
       "      <td>UTC</td>\n",
       "      <td>NaN</td>\n",
       "    </tr>\n",
       "    <tr>\n",
       "      <th>1</th>\n",
       "      <td>IT-210_PIE-001097-900_0060.csv</td>\n",
       "      <td>Piedmont</td>\n",
       "      <td>PIE-001097-900</td>\n",
       "      <td>CUMIANA</td>\n",
       "      <td>327.0</td>\n",
       "      <td>32632.0</td>\n",
       "      <td>373092.0</td>\n",
       "      <td>4980177.0</td>\n",
       "      <td>44.963696</td>\n",
       "      <td>7.390821</td>\n",
       "      <td>1988-01-29 03:00:00</td>\n",
       "      <td>2024-09-18 12:00:00</td>\n",
       "      <td>DT</td>\n",
       "      <td>ARPA Piemonte</td>\n",
       "      <td>Piedmont</td>\n",
       "      <td>UTC</td>\n",
       "      <td>NaN</td>\n",
       "    </tr>\n",
       "    <tr>\n",
       "      <th>2</th>\n",
       "      <td>IT-210_PIE-001128-900_0060.csv</td>\n",
       "      <td>Piedmont</td>\n",
       "      <td>PIE-001128-900</td>\n",
       "      <td>LANZO</td>\n",
       "      <td>580.0</td>\n",
       "      <td>32632.0</td>\n",
       "      <td>381803.0</td>\n",
       "      <td>5016138.0</td>\n",
       "      <td>45.288798</td>\n",
       "      <td>7.492737</td>\n",
       "      <td>1989-09-02 02:00:00</td>\n",
       "      <td>2024-09-09 05:00:00</td>\n",
       "      <td>DT</td>\n",
       "      <td>ARPA Piemonte</td>\n",
       "      <td>Piedmont</td>\n",
       "      <td>UTC</td>\n",
       "      <td>NaN</td>\n",
       "    </tr>\n",
       "  </tbody>\n",
       "</table>\n",
       "</div>"
      ],
      "text/plain": [
       "                             File    Region            Code  \\\n",
       "0  IT-210_PIE-001030-900_0060.csv  Piedmont  PIE-001030-900   \n",
       "1  IT-210_PIE-001097-900_0060.csv  Piedmont  PIE-001097-900   \n",
       "2  IT-210_PIE-001128-900_0060.csv  Piedmont  PIE-001128-900   \n",
       "\n",
       "                Name  Elevation  Orig_EPSG     CRS_E      CRS_N        Lat  \\\n",
       "0  BORGOFRANCODIVREA      337.0    32632.0  410005.0  5040731.0  45.514302   \n",
       "1            CUMIANA      327.0    32632.0  373092.0  4980177.0  44.963696   \n",
       "2              LANZO      580.0    32632.0  381803.0  5016138.0  45.288798   \n",
       "\n",
       "        Lon           Year_Start             Year_End INTENSE_Resp  \\\n",
       "0  7.847798  1988-05-08 05:00:00  2024-09-09 01:00:00           DT   \n",
       "1  7.390821  1988-01-29 03:00:00  2024-09-18 12:00:00           DT   \n",
       "2  7.492737  1989-09-02 02:00:00  2024-09-09 05:00:00           DT   \n",
       "\n",
       "          AGENCY    Source TimeZone Agency  \n",
       "0  ARPA Piemonte  Piedmont      UTC    NaN  \n",
       "1  ARPA Piemonte  Piedmont      UTC    NaN  \n",
       "2  ARPA Piemonte  Piedmont      UTC    NaN  "
      ]
     },
     "execution_count": 18,
     "metadata": {},
     "output_type": "execute_result"
    }
   ],
   "source": [
    "METADATA = pd.read_csv(os.path.join(dir_base, 'METADATA', 'METADATA_INTENSE_NOQC.csv'))\n",
    "METADATA.head(3)"
   ]
  },
  {
   "cell_type": "markdown",
   "id": "596c8e3a",
   "metadata": {},
   "source": [
    "## List raingauges directories"
   ]
  },
  {
   "cell_type": "code",
   "execution_count": 19,
   "id": "819a45d8",
   "metadata": {},
   "outputs": [],
   "source": [
    "dir_read = os.path.join(dir_base, 'DATA_1dy', 'raingauges')\n",
    "dirs = [d for d in os.listdir(dir_read) if os.path.isdir(os.path.join(dir_read, d))]"
   ]
  },
  {
   "cell_type": "code",
   "execution_count": null,
   "id": "1e25b691",
   "metadata": {},
   "outputs": [
    {
     "name": "stdout",
     "output_type": "stream",
     "text": [
      "Region: IT-450\n"
     ]
    }
   ],
   "source": [
    "dd = dirs[8]\n",
    "print(f'Region: {dd}')\n",
    "METADATA_clear = METADATA[METADATA['']]"
   ]
  },
  {
   "cell_type": "code",
   "execution_count": null,
   "id": "10b39b8b",
   "metadata": {},
   "outputs": [],
   "source": [
    "files_read = os.path.join(dir_read, dd)\n",
    "file_list ="
   ]
  }
 ],
 "metadata": {
  "kernelspec": {
   "display_name": "AXE",
   "language": "python",
   "name": "python3"
  },
  "language_info": {
   "codemirror_mode": {
    "name": "ipython",
    "version": 3
   },
   "file_extension": ".py",
   "mimetype": "text/x-python",
   "name": "python",
   "nbconvert_exporter": "python",
   "pygments_lexer": "ipython3",
   "version": "3.13.1"
  }
 },
 "nbformat": 4,
 "nbformat_minor": 5
}
