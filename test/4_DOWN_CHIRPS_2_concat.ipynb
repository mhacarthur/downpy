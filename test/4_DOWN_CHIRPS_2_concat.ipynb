{
 "cells": [
  {
   "cell_type": "code",
   "execution_count": 24,
   "id": "d2e61655",
   "metadata": {},
   "outputs": [],
   "source": [
    "import os\n",
    "import glob\n",
    "import json\n",
    "import numpy as np\n",
    "import xarray as xr\n",
    "\n",
    "import cartopy.crs as ccrs\n",
    "import cartopy.feature as cf\n",
    "import cartopy.feature as cfeature\n",
    "\n",
    "import matplotlib.pyplot as plt\n",
    "import matplotlib.gridspec as gridspec"
   ]
  },
  {
   "cell_type": "markdown",
   "id": "b585883b",
   "metadata": {},
   "source": [
    "## Read CHIRPS json and export all in one netcdf file"
   ]
  },
  {
   "cell_type": "code",
   "execution_count": 2,
   "id": "71f61bc0",
   "metadata": {},
   "outputs": [],
   "source": [
    "dir_base = os.path.join('/','media','arturo','T9','Data','Italy','Satellite','CHIRPS')\n",
    "dir_json = os.path.join('/','home','arturo','github','downpy','point')"
   ]
  },
  {
   "cell_type": "code",
   "execution_count": 3,
   "id": "ba0c1310",
   "metadata": {},
   "outputs": [],
   "source": [
    "data = xr.open_dataset(os.path.join(dir_base,'1dy','CHIRPS_Italy_1dy_1981_01_01_2024_06_30.nc'))\n",
    "\n",
    "lat = data.lat.values\n",
    "lon = data.lon.values\n",
    "lon2d, lat2d = np.meshgrid(lon, lat)\n",
    "\n",
    "del data"
   ]
  },
  {
   "cell_type": "code",
   "execution_count": 4,
   "id": "50b9a81b",
   "metadata": {},
   "outputs": [
    {
     "name": "stdout",
     "output_type": "stream",
     "text": [
      "Number of files: 26520\n"
     ]
    }
   ],
   "source": [
    "files_list = glob.glob(os.path.join(dir_json,'*.json'))\n",
    "files_list = sorted(files_list)\n",
    "files_len = len(files_list)\n",
    "print(f'Number of files: {files_len}')"
   ]
  },
  {
   "cell_type": "code",
   "execution_count": 5,
   "id": "402f3041",
   "metadata": {},
   "outputs": [],
   "source": [
    "json_read = files_list[0]\n",
    "with open (json_read) as f:\n",
    "        param = json.load(f)"
   ]
  },
  {
   "cell_type": "code",
   "execution_count": 44,
   "id": "75e0e17d",
   "metadata": {},
   "outputs": [],
   "source": [
    "NYs_2d = np.zeros([22, len(lat),len(lon)])\n",
    "CYs_2d = np.zeros([22, len(lat),len(lon)])\n",
    "WYs_2d = np.zeros([22, len(lat),len(lon)])\n",
    "MEVs_2d = np.zeros([6, len(lat),len(lon)])\n",
    "\n",
    "NYd_2d = np.zeros([22, len(lat),len(lon)])\n",
    "CYd_2d = np.zeros([22, len(lat),len(lon)])\n",
    "WYd_2d = np.zeros([22, len(lat),len(lon)])\n",
    "MEVd_2d = np.zeros([6, len(lat),len(lon)])\n",
    "\n",
    "BETA_2d = np.zeros([len(lat),len(lon)])\n",
    "GAMMA_2d = np.zeros([len(lat),len(lon)])\n",
    "FUNVAL_2d = np.zeros([len(lat),len(lon)])\n",
    "\n",
    "for nn in range(files_len):\n",
    "    with open(files_list[nn], 'r') as f:\n",
    "        tmp = json.load(f)\n",
    "    \n",
    "    year_ = np.fromstring(tmp['YEARS'].strip('[]'), sep=' ')\n",
    "    Tr_ = np.fromstring(tmp['Tr'].strip('[]'), sep=' ')\n",
    "    \n",
    "    NYs_ = np.fromstring(tmp['NYs'].strip('[]'), sep=' ')\n",
    "    CYs_ = np.fromstring(tmp['CYs'].strip('[]'), sep=' ')\n",
    "    WYs_ = np.fromstring(tmp['WYs'].strip('[]'), sep=' ')\n",
    "    mev_s_ = np.fromstring(tmp['mev_s'].strip('[]'), sep=' ')\n",
    "    \n",
    "    NYd_ = np.fromstring(tmp['NYd'].strip('[]'), sep=' ')\n",
    "    CYd_ = np.fromstring(tmp['CYd'].strip('[]'), sep=' ')\n",
    "    WYd_ = np.fromstring(tmp['WYd'].strip('[]'), sep=' ')\n",
    "    mev_d_ = np.fromstring(tmp['mev_d'].strip('[]'), sep=' ')\n",
    "    \n",
    "    beta_ = tmp['beta']\n",
    "    gamma_ = tmp['gam_d']\n",
    "    \n",
    "    funval_ = tmp['corr_down_funval']\n",
    "\n",
    "    lat_pos = np.where(lat==float(tmp['clat']))[0][0]\n",
    "    lon_pos = np.where(lon==float(tmp['clon']))[0][0]\n",
    "\n",
    "    NYs_2d[:, lat_pos, lon_pos] = NYs_\n",
    "    CYs_2d[:, lat_pos, lon_pos] = CYs_\n",
    "    WYs_2d[:, lat_pos, lon_pos] = WYs_\n",
    "    MEVs_2d[:,lat_pos, lon_pos] = mev_s_\n",
    "    \n",
    "    NYd_2d[:, lat_pos, lon_pos] = NYd_\n",
    "    CYd_2d[:, lat_pos, lon_pos] = CYd_\n",
    "    WYd_2d[:, lat_pos, lon_pos] = WYd_\n",
    "    MEVd_2d[:,lat_pos, lon_pos] = mev_d_\n",
    "\n",
    "    BETA_2d[lat_pos, lon_pos] = beta_\n",
    "    GAMMA_2d[lat_pos, lon_pos] = gamma_\n",
    "    FUNVAL_2d[lat_pos, lon_pos] = funval_"
   ]
  },
  {
   "cell_type": "code",
   "execution_count": 55,
   "id": "a31786c4",
   "metadata": {},
   "outputs": [],
   "source": [
    "DOWN_xr = xr.Dataset(data_vars={\n",
    "                    \"NYs\": ((\"year\",\"lat\",\"lon\"), NYs_2d),\n",
    "                    \"CYs\": ((\"year\",\"lat\",\"lon\"), CYs_2d),\n",
    "                    \"WYs\": ((\"year\",\"lat\",\"lon\"), WYs_2d),\n",
    "                    \"Mev_s\": ((\"Tr\",\"lat\",\"lon\"), MEVs_2d),\n",
    "                    \"NYd\": ((\"year\",\"lat\",\"lon\"), NYd_2d),\n",
    "                    \"CYd\": ((\"year\",\"lat\",\"lon\"), CYd_2d),\n",
    "                    \"WYd\": ((\"year\",\"lat\",\"lon\"), WYd_2d),\n",
    "                    \"Mev_d\": ((\"Tr\",\"lat\",\"lon\"), MEVd_2d),\n",
    "                    \"BETA\": ((\"lat\",\"lon\"), BETA_2d),\n",
    "                    \"GAMMA\": ((\"lat\",\"lon\"), GAMMA_2d),\n",
    "                    \"FUNVAL\": ((\"lat\",\"lon\"), FUNVAL_2d)\n",
    "                    },\n",
    "        coords={'year':year_,'Tr':Tr_,'lat': lat, 'lon': lon},\n",
    "        attrs=dict(description=f\"\"\"Downscaling for CHIRPS in the Italy area bounded by \n",
    "                    longitudes 6.5 to 19 and latitudes 36.5 to 48, using mar as the acf function, 1 mm' \n",
    "                    threshold, pearson correlation, optimization method genetic, toll equal 0.002 and box size 5x5.\"\"\"))"
   ]
  },
  {
   "cell_type": "code",
   "execution_count": 57,
   "id": "75f509e2",
   "metadata": {},
   "outputs": [
    {
     "name": "stdout",
     "output_type": "stream",
     "text": [
      "Export Data to /media/arturo/T9/Data/Italy/Satellite/5_DOWN/Italy_DOWN_CHIRPS_1dy_2002_2023_npix_5_thr_1_acf_mar_genetic_pearson.nc\n"
     ]
    }
   ],
   "source": [
    "dir_out = os.path.join('/','media','arturo','T9','Data','Italy','Satellite','5_DOWN')\n",
    "DOWN_out = os.path.join(dir_out,f'Italy_DOWN_CHIRPS_1dy_2002_2023_npix_5_thr_1_acf_mar_genetic_pearson.nc')\n",
    "print(f'Export Data to {DOWN_out}')\n",
    "DOWN_xr.to_netcdf(DOWN_out)"
   ]
  },
  {
   "cell_type": "code",
   "execution_count": null,
   "id": "058a53dd",
   "metadata": {},
   "outputs": [],
   "source": []
  }
 ],
 "metadata": {
  "kernelspec": {
   "display_name": "AXE",
   "language": "python",
   "name": "python3"
  },
  "language_info": {
   "codemirror_mode": {
    "name": "ipython",
    "version": 3
   },
   "file_extension": ".py",
   "mimetype": "text/x-python",
   "name": "python",
   "nbconvert_exporter": "python",
   "pygments_lexer": "ipython3",
   "version": "3.13.1"
  }
 },
 "nbformat": 4,
 "nbformat_minor": 5
}
