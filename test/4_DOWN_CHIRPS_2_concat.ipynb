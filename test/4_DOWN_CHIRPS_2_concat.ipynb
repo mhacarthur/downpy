{
 "cells": [
  {
   "cell_type": "code",
   "execution_count": null,
   "id": "d2e61655",
   "metadata": {},
   "outputs": [],
   "source": [
    "import os\n",
    "import glob\n",
    "import json\n",
    "import numpy as np\n",
    "import xarray as xr\n",
    "\n",
    "import cartopy.crs as ccrs\n",
    "import cartopy.feature as cf\n",
    "import cartopy.feature as cfeature\n",
    "\n",
    "import matplotlib.pyplot as plt\n",
    "import matplotlib.gridspec as gridspec"
   ]
  },
  {
   "cell_type": "markdown",
   "id": "b585883b",
   "metadata": {},
   "source": [
    "## Read CHIRPS json and export all in one netcdf file"
   ]
  },
  {
   "cell_type": "code",
   "execution_count": 2,
   "id": "71f61bc0",
   "metadata": {},
   "outputs": [],
   "source": [
    "dir_base = os.path.join('/','media','arturo','T9','Data','Italy','Satellite','CHIRPS')\n",
    "dir_json = os.path.join('/','home','arturo','github','downpy','point')"
   ]
  },
  {
   "cell_type": "code",
   "execution_count": 3,
   "id": "ba0c1310",
   "metadata": {},
   "outputs": [],
   "source": [
    "data = xr.open_dataset(os.path.join(dir_base,'1dy','CHIRPS_Italy_1dy_1981_01_01_2024_06_30.nc'))\n",
    "\n",
    "lat = data.lat.values\n",
    "lon = data.lon.values\n",
    "lon2d, lat2d = np.meshgrid(lon, lat)\n",
    "\n",
    "del data"
   ]
  },
  {
   "cell_type": "code",
   "execution_count": 4,
   "id": "50b9a81b",
   "metadata": {},
   "outputs": [
    {
     "name": "stdout",
     "output_type": "stream",
     "text": [
      "Number of files: 26520\n"
     ]
    }
   ],
   "source": [
    "files_list = glob.glob(os.path.join(dir_json,'*.json'))\n",
    "files_list = sorted(files_list)\n",
    "files_len = len(files_list)\n",
    "print(f'Number of files: {files_len}')"
   ]
  },
  {
   "cell_type": "code",
   "execution_count": 5,
   "id": "402f3041",
   "metadata": {},
   "outputs": [],
   "source": [
    "json_read = files_list[0]\n",
    "with open (json_read) as f:\n",
    "        param = json.load(f)"
   ]
  },
  {
   "cell_type": "code",
   "execution_count": null,
   "id": "75e0e17d",
   "metadata": {},
   "outputs": [],
   "source": [
    "BETA_2d = np.zeros([len(lat),len(lon)])\n",
    "GAMMA_2d = np.zeros([len(lat),len(lon)])\n",
    "MEVs_2d = np.zeros([len(lat),len(lon)])\n",
    "MEVd_2d = np.zeros([len(lat),len(lon)])\n",
    "\n",
    "for nn in range(files_len):\n",
    "    with open(files_list[nn], 'r') as f:\n",
    "        tmp = json.load(f)\n",
    "    beta_ = tmp['beta']\n",
    "    gamma_ = tmp['gam_d']\n",
    "    mev_s_ = np.fromstring(tmp['mev_s'].strip('[]'), sep=' ')[3]\n",
    "    mev_d_ = np.fromstring(tmp['mev_d'].strip('[]'), sep=' ')[3]\n",
    "\n",
    "    lat_pos = np.where(lat==float(tmp['clat']))[0][0]\n",
    "    lon_pos = np.where(lon==float(tmp['clon']))[0][0]\n",
    "\n",
    "    BETA_2d[lat_pos, lon_pos] = beta_\n",
    "    GAMMA_2d[lat_pos, lon_pos] = gamma_\n",
    "    MEVs_2d[lat_pos, lon_pos] = mev_s_\n",
    "    MEVd_2d[lat_pos, lon_pos] = mev_d_"
   ]
  },
  {
   "cell_type": "code",
   "execution_count": 8,
   "id": "058a53dd",
   "metadata": {},
   "outputs": [
    {
     "data": {
      "text/plain": [
       "{'NYs': '[44. 53. 56. 45. 70. 55. 64. 66. 61. 58. 49. 59. 66. 61. 47. 35. 63. 56.\\n 56. 44. 46. 47.]',\n",
       " 'CYs': '[12.59414761 17.6766461  17.69312752 12.76482751  7.83495564 13.19081174\\n  7.57816124 14.09042438 13.03626665 12.42957377 11.20908013 13.24834626\\n  8.71727543  9.67185485 13.20091269 11.56660818  9.74637592 11.7257976\\n  8.46911833 10.05100692  9.64160275 12.23541208]',\n",
       " 'WYs': '[0.7032108  0.94094028 1.00042076 0.80901043 0.7195931  0.90534468\\n 0.76163877 1.21086718 1.04929088 0.91027187 0.79947839 0.97630243\\n 1.00545713 0.91430636 1.51398351 0.67400999 1.13439487 0.77688668\\n 0.73405301 0.93152762 0.84763889 0.90943699]',\n",
       " 'NYd': '[60. 72. 77. 61. 96. 75. 87. 90. 83. 79. 67. 81. 90. 83. 64. 48. 86. 77.\\n 77. 60. 63. 64.]',\n",
       " 'CYd': '[ 7.28835766 10.72783687 10.84091676  7.5614773   4.55183181  7.95679044\\n  4.44464725  8.88507109  8.04627487  7.50406657  6.62702564  8.08685273\\n  5.34538512  5.84325155  8.59148869  6.64556967  6.08686408  6.89988241\\n  4.93672821  6.09024417  5.75484649  7.38577111]',\n",
       " 'WYd': '[0.57509035 0.71576168 0.74731733 0.64067872 0.58557227 0.69620863\\n 0.61192312 0.84845852 0.77222925 0.69894562 0.63497089 0.73468808\\n 0.74992637 0.7011794  0.96894655 0.55610358 0.81351842 0.62128573\\n 0.59472363 0.71064062 0.66341205 0.69848255]',\n",
       " 'Tr': '[  5  10  20  50 100 200]',\n",
       " 'mev_d': '[ 96.55696374 119.47187644 143.61041926 178.40122552 207.41162416\\n 239.08602727]',\n",
       " 'mev_s': '[ 86.33619644 104.5562273  123.42600443 150.42387777 172.85965208\\n 197.2340213 ]',\n",
       " 'YEARS': '[2002. 2003. 2004. 2005. 2006. 2007. 2008. 2009. 2010. 2011. 2012. 2013.\\n 2014. 2015. 2016. 2017. 2018. 2019. 2020. 2021. 2022. 2023.]',\n",
       " 'gam_d': '0.957161',\n",
       " 'gam_s': '0.9586026',\n",
       " 'beta': 0.7318229585210623,\n",
       " 'Nd': 74.0,\n",
       " 'Cd': 7.007607257567062,\n",
       " 'Wd': 0.6848978848718915,\n",
       " 'Ns': 54,\n",
       " 'Cs': 11.659200005058162,\n",
       " 'Ws': 0.8851915429009484,\n",
       " 'eps_s': 61.164964527700185,\n",
       " 'alp_s': 1.0000069035500885,\n",
       " 'eps_d': 58.05049749691467,\n",
       " 'alp_d': 0.9830409425933051,\n",
       " 'corr_down_success': True,\n",
       " 'corr_down_funval': 0.04294285800003829,\n",
       " 'w_down_funval': 9.839684622647837e-12,\n",
       " 'thresh': 1.0,\n",
       " 'clat': '36.524994',\n",
       " 'clon': '6.524994'}"
      ]
     },
     "execution_count": 8,
     "metadata": {},
     "output_type": "execute_result"
    }
   ],
   "source": [
    "param"
   ]
  }
 ],
 "metadata": {
  "kernelspec": {
   "display_name": "AXE",
   "language": "python",
   "name": "python3"
  },
  "language_info": {
   "codemirror_mode": {
    "name": "ipython",
    "version": 3
   },
   "file_extension": ".py",
   "mimetype": "text/x-python",
   "name": "python",
   "nbconvert_exporter": "python",
   "pygments_lexer": "ipython3",
   "version": "3.13.1"
  }
 },
 "nbformat": 4,
 "nbformat_minor": 5
}
