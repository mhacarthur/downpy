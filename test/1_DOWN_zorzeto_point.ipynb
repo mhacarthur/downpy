{
 "cells": [
  {
   "cell_type": "code",
   "execution_count": 1,
   "id": "d446199c",
   "metadata": {},
   "outputs": [
    {
     "name": "stderr",
     "output_type": "stream",
     "text": [
      "playsound is relying on another python subprocess. Please use `pip install pygobject` if you want playsound to run more efficiently.\n"
     ]
    }
   ],
   "source": [
    "import os\n",
    "import json\n",
    "import time\n",
    "import numpy as np\n",
    "import xarray as xr\n",
    "import pandas as pd\n",
    "import geopandas as gpd\n",
    "\n",
    "import cartopy.crs as ccrs\n",
    "\n",
    "import matplotlib.pyplot as plt\n",
    "import matplotlib.gridspec as gridspec\n",
    "\n",
    "from playsound import playsound\n",
    "from multiprocessing import Pool\n",
    "\n",
    "# from scipy.optimize import differential_evolution\n",
    "# from joblib import Parallel, delayed\n",
    "\n",
    "import warnings\n",
    "warnings.filterwarnings('ignore')\n",
    "\n",
    "import sys\n",
    "sys.path.append(os.path.abspath(\"..\"))\n",
    "from function import DOWN_raw"
   ]
  },
  {
   "cell_type": "code",
   "execution_count": 2,
   "id": "85ee705e",
   "metadata": {},
   "outputs": [],
   "source": [
    "# product, time_reso = 'CMORPH', '3h'\n",
    "# product, time_reso = 'ERA5', '3h'\n",
    "# product, time_reso = 'GSMaP', '3h'\n",
    "# product, time_reso = 'MSWEP', '3h'\n",
    "# product, time_reso = 'IMERG', '1dy'\n",
    "# product, time_reso = 'PERSIANN', '1dy'\n",
    "# product, time_reso  = 'SM2RAIN', '1dy'\n",
    "product, time_reso = 'CHIRPS', '1dy'\n",
    "\n",
    "yy_s, yy_e = 2002, 2023\n",
    "\n",
    "years_num = yy_e - yy_s + 1\n",
    "full_years = np.arange(yy_s, yy_e + 1)"
   ]
  },
  {
   "cell_type": "code",
   "execution_count": 3,
   "id": "0b8751be",
   "metadata": {},
   "outputs": [],
   "source": [
    "veneto_dir = os.path.join('/','media','arturo','T9','Data','shapes','Europa','Italy')\n",
    "\n",
    "if os.path.exists(veneto_dir):\n",
    "    VENETO = gpd.read_file(os.path.join(veneto_dir,'Veneto.geojson'))\n",
    "else:\n",
    "    raise SystemExit(f\"File not found: {veneto_dir}\")"
   ]
  },
  {
   "cell_type": "code",
   "execution_count": 4,
   "id": "75957a8a",
   "metadata": {},
   "outputs": [
    {
     "name": "stdout",
     "output_type": "stream",
     "text": [
      "Read json file   : CHIRPS_1dy.json\n",
      "ACF function     : mar\n",
      "Number of threads: 22\n",
      "Neighborhood area: 5x5\n",
      "Opt method       : genetic\n",
      "\n"
     ]
    }
   ],
   "source": [
    "json_read = f'../json/{product}_{time_reso}.json'\n",
    "\n",
    "if os.path.exists(json_read):\n",
    "    with open (json_read) as f:\n",
    "        param = json.load(f)\n",
    "else:\n",
    "    raise SystemExit(f\"File not found: {json_read}\")\n",
    "\n",
    "NEIBHR = 2*param['npix']+1\n",
    "\n",
    "print(f'Read json file   : {json_read.split('/')[-1]}')\n",
    "print(f'ACF function     : {param['acf']}')\n",
    "print(f'Number of threads: {param['BETA_cores']}')\n",
    "print(f'Neighborhood area: {NEIBHR}x{NEIBHR}')\n",
    "print(f'Opt method       : {param['opt_method']}')\n",
    "print()"
   ]
  },
  {
   "cell_type": "code",
   "execution_count": 5,
   "id": "95604498",
   "metadata": {},
   "outputs": [],
   "source": [
    "dir_base = os.path.join('/','media','arturo','T9','Data','Italy')"
   ]
  },
  {
   "cell_type": "code",
   "execution_count": 6,
   "id": "31ead445",
   "metadata": {},
   "outputs": [
    {
     "name": "stdout",
     "output_type": "stream",
     "text": [
      "Reading data: CHIRPS_Italy_1dy_1981_01_01_2024_06_30.nc\n"
     ]
    },
    {
     "data": {
      "text/html": [
       "<div><svg style=\"position: absolute; width: 0; height: 0; overflow: hidden\">\n",
       "<defs>\n",
       "<symbol id=\"icon-database\" viewBox=\"0 0 32 32\">\n",
       "<path d=\"M16 0c-8.837 0-16 2.239-16 5v4c0 2.761 7.163 5 16 5s16-2.239 16-5v-4c0-2.761-7.163-5-16-5z\"></path>\n",
       "<path d=\"M16 17c-8.837 0-16-2.239-16-5v6c0 2.761 7.163 5 16 5s16-2.239 16-5v-6c0 2.761-7.163 5-16 5z\"></path>\n",
       "<path d=\"M16 26c-8.837 0-16-2.239-16-5v6c0 2.761 7.163 5 16 5s16-2.239 16-5v-6c0 2.761-7.163 5-16 5z\"></path>\n",
       "</symbol>\n",
       "<symbol id=\"icon-file-text2\" viewBox=\"0 0 32 32\">\n",
       "<path d=\"M28.681 7.159c-0.694-0.947-1.662-2.053-2.724-3.116s-2.169-2.030-3.116-2.724c-1.612-1.182-2.393-1.319-2.841-1.319h-15.5c-1.378 0-2.5 1.121-2.5 2.5v27c0 1.378 1.122 2.5 2.5 2.5h23c1.378 0 2.5-1.122 2.5-2.5v-19.5c0-0.448-0.137-1.23-1.319-2.841zM24.543 5.457c0.959 0.959 1.712 1.825 2.268 2.543h-4.811v-4.811c0.718 0.556 1.584 1.309 2.543 2.268zM28 29.5c0 0.271-0.229 0.5-0.5 0.5h-23c-0.271 0-0.5-0.229-0.5-0.5v-27c0-0.271 0.229-0.5 0.5-0.5 0 0 15.499-0 15.5 0v7c0 0.552 0.448 1 1 1h7v19.5z\"></path>\n",
       "<path d=\"M23 26h-14c-0.552 0-1-0.448-1-1s0.448-1 1-1h14c0.552 0 1 0.448 1 1s-0.448 1-1 1z\"></path>\n",
       "<path d=\"M23 22h-14c-0.552 0-1-0.448-1-1s0.448-1 1-1h14c0.552 0 1 0.448 1 1s-0.448 1-1 1z\"></path>\n",
       "<path d=\"M23 18h-14c-0.552 0-1-0.448-1-1s0.448-1 1-1h14c0.552 0 1 0.448 1 1s-0.448 1-1 1z\"></path>\n",
       "</symbol>\n",
       "</defs>\n",
       "</svg>\n",
       "<style>/* CSS stylesheet for displaying xarray objects in jupyterlab.\n",
       " *\n",
       " */\n",
       "\n",
       ":root {\n",
       "  --xr-font-color0: var(--jp-content-font-color0, rgba(0, 0, 0, 1));\n",
       "  --xr-font-color2: var(--jp-content-font-color2, rgba(0, 0, 0, 0.54));\n",
       "  --xr-font-color3: var(--jp-content-font-color3, rgba(0, 0, 0, 0.38));\n",
       "  --xr-border-color: var(--jp-border-color2, #e0e0e0);\n",
       "  --xr-disabled-color: var(--jp-layout-color3, #bdbdbd);\n",
       "  --xr-background-color: var(--jp-layout-color0, white);\n",
       "  --xr-background-color-row-even: var(--jp-layout-color1, white);\n",
       "  --xr-background-color-row-odd: var(--jp-layout-color2, #eeeeee);\n",
       "}\n",
       "\n",
       "html[theme=\"dark\"],\n",
       "html[data-theme=\"dark\"],\n",
       "body[data-theme=\"dark\"],\n",
       "body.vscode-dark {\n",
       "  --xr-font-color0: rgba(255, 255, 255, 1);\n",
       "  --xr-font-color2: rgba(255, 255, 255, 0.54);\n",
       "  --xr-font-color3: rgba(255, 255, 255, 0.38);\n",
       "  --xr-border-color: #1f1f1f;\n",
       "  --xr-disabled-color: #515151;\n",
       "  --xr-background-color: #111111;\n",
       "  --xr-background-color-row-even: #111111;\n",
       "  --xr-background-color-row-odd: #313131;\n",
       "}\n",
       "\n",
       ".xr-wrap {\n",
       "  display: block !important;\n",
       "  min-width: 300px;\n",
       "  max-width: 700px;\n",
       "}\n",
       "\n",
       ".xr-text-repr-fallback {\n",
       "  /* fallback to plain text repr when CSS is not injected (untrusted notebook) */\n",
       "  display: none;\n",
       "}\n",
       "\n",
       ".xr-header {\n",
       "  padding-top: 6px;\n",
       "  padding-bottom: 6px;\n",
       "  margin-bottom: 4px;\n",
       "  border-bottom: solid 1px var(--xr-border-color);\n",
       "}\n",
       "\n",
       ".xr-header > div,\n",
       ".xr-header > ul {\n",
       "  display: inline;\n",
       "  margin-top: 0;\n",
       "  margin-bottom: 0;\n",
       "}\n",
       "\n",
       ".xr-obj-type,\n",
       ".xr-array-name {\n",
       "  margin-left: 2px;\n",
       "  margin-right: 10px;\n",
       "}\n",
       "\n",
       ".xr-obj-type {\n",
       "  color: var(--xr-font-color2);\n",
       "}\n",
       "\n",
       ".xr-sections {\n",
       "  padding-left: 0 !important;\n",
       "  display: grid;\n",
       "  grid-template-columns: 150px auto auto 1fr 0 20px 0 20px;\n",
       "}\n",
       "\n",
       ".xr-section-item {\n",
       "  display: contents;\n",
       "}\n",
       "\n",
       ".xr-section-item input {\n",
       "  display: inline-block;\n",
       "  opacity: 0;\n",
       "  height: 0;\n",
       "}\n",
       "\n",
       ".xr-section-item input + label {\n",
       "  color: var(--xr-disabled-color);\n",
       "}\n",
       "\n",
       ".xr-section-item input:enabled + label {\n",
       "  cursor: pointer;\n",
       "  color: var(--xr-font-color2);\n",
       "}\n",
       "\n",
       ".xr-section-item input:focus + label {\n",
       "  border: 2px solid var(--xr-font-color0);\n",
       "}\n",
       "\n",
       ".xr-section-item input:enabled + label:hover {\n",
       "  color: var(--xr-font-color0);\n",
       "}\n",
       "\n",
       ".xr-section-summary {\n",
       "  grid-column: 1;\n",
       "  color: var(--xr-font-color2);\n",
       "  font-weight: 500;\n",
       "}\n",
       "\n",
       ".xr-section-summary > span {\n",
       "  display: inline-block;\n",
       "  padding-left: 0.5em;\n",
       "}\n",
       "\n",
       ".xr-section-summary-in:disabled + label {\n",
       "  color: var(--xr-font-color2);\n",
       "}\n",
       "\n",
       ".xr-section-summary-in + label:before {\n",
       "  display: inline-block;\n",
       "  content: \"►\";\n",
       "  font-size: 11px;\n",
       "  width: 15px;\n",
       "  text-align: center;\n",
       "}\n",
       "\n",
       ".xr-section-summary-in:disabled + label:before {\n",
       "  color: var(--xr-disabled-color);\n",
       "}\n",
       "\n",
       ".xr-section-summary-in:checked + label:before {\n",
       "  content: \"▼\";\n",
       "}\n",
       "\n",
       ".xr-section-summary-in:checked + label > span {\n",
       "  display: none;\n",
       "}\n",
       "\n",
       ".xr-section-summary,\n",
       ".xr-section-inline-details {\n",
       "  padding-top: 4px;\n",
       "  padding-bottom: 4px;\n",
       "}\n",
       "\n",
       ".xr-section-inline-details {\n",
       "  grid-column: 2 / -1;\n",
       "}\n",
       "\n",
       ".xr-section-details {\n",
       "  display: none;\n",
       "  grid-column: 1 / -1;\n",
       "  margin-bottom: 5px;\n",
       "}\n",
       "\n",
       ".xr-section-summary-in:checked ~ .xr-section-details {\n",
       "  display: contents;\n",
       "}\n",
       "\n",
       ".xr-array-wrap {\n",
       "  grid-column: 1 / -1;\n",
       "  display: grid;\n",
       "  grid-template-columns: 20px auto;\n",
       "}\n",
       "\n",
       ".xr-array-wrap > label {\n",
       "  grid-column: 1;\n",
       "  vertical-align: top;\n",
       "}\n",
       "\n",
       ".xr-preview {\n",
       "  color: var(--xr-font-color3);\n",
       "}\n",
       "\n",
       ".xr-array-preview,\n",
       ".xr-array-data {\n",
       "  padding: 0 5px !important;\n",
       "  grid-column: 2;\n",
       "}\n",
       "\n",
       ".xr-array-data,\n",
       ".xr-array-in:checked ~ .xr-array-preview {\n",
       "  display: none;\n",
       "}\n",
       "\n",
       ".xr-array-in:checked ~ .xr-array-data,\n",
       ".xr-array-preview {\n",
       "  display: inline-block;\n",
       "}\n",
       "\n",
       ".xr-dim-list {\n",
       "  display: inline-block !important;\n",
       "  list-style: none;\n",
       "  padding: 0 !important;\n",
       "  margin: 0;\n",
       "}\n",
       "\n",
       ".xr-dim-list li {\n",
       "  display: inline-block;\n",
       "  padding: 0;\n",
       "  margin: 0;\n",
       "}\n",
       "\n",
       ".xr-dim-list:before {\n",
       "  content: \"(\";\n",
       "}\n",
       "\n",
       ".xr-dim-list:after {\n",
       "  content: \")\";\n",
       "}\n",
       "\n",
       ".xr-dim-list li:not(:last-child):after {\n",
       "  content: \",\";\n",
       "  padding-right: 5px;\n",
       "}\n",
       "\n",
       ".xr-has-index {\n",
       "  font-weight: bold;\n",
       "}\n",
       "\n",
       ".xr-var-list,\n",
       ".xr-var-item {\n",
       "  display: contents;\n",
       "}\n",
       "\n",
       ".xr-var-item > div,\n",
       ".xr-var-item label,\n",
       ".xr-var-item > .xr-var-name span {\n",
       "  background-color: var(--xr-background-color-row-even);\n",
       "  margin-bottom: 0;\n",
       "}\n",
       "\n",
       ".xr-var-item > .xr-var-name:hover span {\n",
       "  padding-right: 5px;\n",
       "}\n",
       "\n",
       ".xr-var-list > li:nth-child(odd) > div,\n",
       ".xr-var-list > li:nth-child(odd) > label,\n",
       ".xr-var-list > li:nth-child(odd) > .xr-var-name span {\n",
       "  background-color: var(--xr-background-color-row-odd);\n",
       "}\n",
       "\n",
       ".xr-var-name {\n",
       "  grid-column: 1;\n",
       "}\n",
       "\n",
       ".xr-var-dims {\n",
       "  grid-column: 2;\n",
       "}\n",
       "\n",
       ".xr-var-dtype {\n",
       "  grid-column: 3;\n",
       "  text-align: right;\n",
       "  color: var(--xr-font-color2);\n",
       "}\n",
       "\n",
       ".xr-var-preview {\n",
       "  grid-column: 4;\n",
       "}\n",
       "\n",
       ".xr-index-preview {\n",
       "  grid-column: 2 / 5;\n",
       "  color: var(--xr-font-color2);\n",
       "}\n",
       "\n",
       ".xr-var-name,\n",
       ".xr-var-dims,\n",
       ".xr-var-dtype,\n",
       ".xr-preview,\n",
       ".xr-attrs dt {\n",
       "  white-space: nowrap;\n",
       "  overflow: hidden;\n",
       "  text-overflow: ellipsis;\n",
       "  padding-right: 10px;\n",
       "}\n",
       "\n",
       ".xr-var-name:hover,\n",
       ".xr-var-dims:hover,\n",
       ".xr-var-dtype:hover,\n",
       ".xr-attrs dt:hover {\n",
       "  overflow: visible;\n",
       "  width: auto;\n",
       "  z-index: 1;\n",
       "}\n",
       "\n",
       ".xr-var-attrs,\n",
       ".xr-var-data,\n",
       ".xr-index-data {\n",
       "  display: none;\n",
       "  background-color: var(--xr-background-color) !important;\n",
       "  padding-bottom: 5px !important;\n",
       "}\n",
       "\n",
       ".xr-var-attrs-in:checked ~ .xr-var-attrs,\n",
       ".xr-var-data-in:checked ~ .xr-var-data,\n",
       ".xr-index-data-in:checked ~ .xr-index-data {\n",
       "  display: block;\n",
       "}\n",
       "\n",
       ".xr-var-data > table {\n",
       "  float: right;\n",
       "}\n",
       "\n",
       ".xr-var-name span,\n",
       ".xr-var-data,\n",
       ".xr-index-name div,\n",
       ".xr-index-data,\n",
       ".xr-attrs {\n",
       "  padding-left: 25px !important;\n",
       "}\n",
       "\n",
       ".xr-attrs,\n",
       ".xr-var-attrs,\n",
       ".xr-var-data,\n",
       ".xr-index-data {\n",
       "  grid-column: 1 / -1;\n",
       "}\n",
       "\n",
       "dl.xr-attrs {\n",
       "  padding: 0;\n",
       "  margin: 0;\n",
       "  display: grid;\n",
       "  grid-template-columns: 125px auto;\n",
       "}\n",
       "\n",
       ".xr-attrs dt,\n",
       ".xr-attrs dd {\n",
       "  padding: 0;\n",
       "  margin: 0;\n",
       "  float: left;\n",
       "  padding-right: 10px;\n",
       "  width: auto;\n",
       "}\n",
       "\n",
       ".xr-attrs dt {\n",
       "  font-weight: normal;\n",
       "  grid-column: 1;\n",
       "}\n",
       "\n",
       ".xr-attrs dt:hover span {\n",
       "  display: inline-block;\n",
       "  background: var(--xr-background-color);\n",
       "  padding-right: 10px;\n",
       "}\n",
       "\n",
       ".xr-attrs dd {\n",
       "  grid-column: 2;\n",
       "  white-space: pre-wrap;\n",
       "  word-break: break-all;\n",
       "}\n",
       "\n",
       ".xr-icon-database,\n",
       ".xr-icon-file-text2,\n",
       ".xr-no-icon {\n",
       "  display: inline-block;\n",
       "  vertical-align: middle;\n",
       "  width: 1em;\n",
       "  height: 1.5em !important;\n",
       "  stroke-width: 0;\n",
       "  stroke: currentColor;\n",
       "  fill: currentColor;\n",
       "}\n",
       "</style><pre class='xr-text-repr-fallback'>&lt;xarray.Dataset&gt; Size: 2GB\n",
       "Dimensions:  (time: 8035, lat: 240, lon: 260)\n",
       "Coordinates:\n",
       "  * time     (time) datetime64[ns] 64kB 2002-01-01 2002-01-02 ... 2023-12-31\n",
       "  * lat      (lat) float32 960B 36.02 36.07 36.12 36.17 ... 47.87 47.92 47.97\n",
       "  * lon      (lon) float32 1kB 6.025 6.075 6.125 6.175 ... 18.88 18.93 18.97\n",
       "Data variables:\n",
       "    PRE      (time, lat, lon) float32 2GB 0.0 0.0 0.0 0.0 ... 1.6 2.889 2.702\n",
       "Attributes:\n",
       "    description:  CHIRPS daily data for Italy region</pre><div class='xr-wrap' style='display:none'><div class='xr-header'><div class='xr-obj-type'>xarray.Dataset</div></div><ul class='xr-sections'><li class='xr-section-item'><input id='section-ee0af82d-a27f-4215-9184-30f061d52260' class='xr-section-summary-in' type='checkbox' disabled ><label for='section-ee0af82d-a27f-4215-9184-30f061d52260' class='xr-section-summary'  title='Expand/collapse section'>Dimensions:</label><div class='xr-section-inline-details'><ul class='xr-dim-list'><li><span class='xr-has-index'>time</span>: 8035</li><li><span class='xr-has-index'>lat</span>: 240</li><li><span class='xr-has-index'>lon</span>: 260</li></ul></div><div class='xr-section-details'></div></li><li class='xr-section-item'><input id='section-cf26643e-5c55-447c-b552-794176cb1231' class='xr-section-summary-in' type='checkbox'  checked><label for='section-cf26643e-5c55-447c-b552-794176cb1231' class='xr-section-summary' >Coordinates: <span>(3)</span></label><div class='xr-section-inline-details'></div><div class='xr-section-details'><ul class='xr-var-list'><li class='xr-var-item'><div class='xr-var-name'><span class='xr-has-index'>time</span></div><div class='xr-var-dims'>(time)</div><div class='xr-var-dtype'>datetime64[ns]</div><div class='xr-var-preview xr-preview'>2002-01-01 ... 2023-12-31</div><input id='attrs-3a964534-b079-4d60-97c1-b56fad3b9058' class='xr-var-attrs-in' type='checkbox' disabled><label for='attrs-3a964534-b079-4d60-97c1-b56fad3b9058' title='Show/Hide attributes'><svg class='icon xr-icon-file-text2'><use xlink:href='#icon-file-text2'></use></svg></label><input id='data-10d999fa-7154-41b3-b875-6d6c9c8c4d6c' class='xr-var-data-in' type='checkbox'><label for='data-10d999fa-7154-41b3-b875-6d6c9c8c4d6c' title='Show/Hide data repr'><svg class='icon xr-icon-database'><use xlink:href='#icon-database'></use></svg></label><div class='xr-var-attrs'><dl class='xr-attrs'></dl></div><div class='xr-var-data'><pre>array([&#x27;2002-01-01T00:00:00.000000000&#x27;, &#x27;2002-01-02T00:00:00.000000000&#x27;,\n",
       "       &#x27;2002-01-03T00:00:00.000000000&#x27;, ..., &#x27;2023-12-29T00:00:00.000000000&#x27;,\n",
       "       &#x27;2023-12-30T00:00:00.000000000&#x27;, &#x27;2023-12-31T00:00:00.000000000&#x27;],\n",
       "      shape=(8035,), dtype=&#x27;datetime64[ns]&#x27;)</pre></div></li><li class='xr-var-item'><div class='xr-var-name'><span class='xr-has-index'>lat</span></div><div class='xr-var-dims'>(lat)</div><div class='xr-var-dtype'>float32</div><div class='xr-var-preview xr-preview'>36.02 36.07 36.12 ... 47.92 47.97</div><input id='attrs-4431a55f-6d90-4bae-a9a3-a81b80882589' class='xr-var-attrs-in' type='checkbox' ><label for='attrs-4431a55f-6d90-4bae-a9a3-a81b80882589' title='Show/Hide attributes'><svg class='icon xr-icon-file-text2'><use xlink:href='#icon-file-text2'></use></svg></label><input id='data-0df05f03-dd82-4455-9346-040e79692407' class='xr-var-data-in' type='checkbox'><label for='data-0df05f03-dd82-4455-9346-040e79692407' title='Show/Hide data repr'><svg class='icon xr-icon-database'><use xlink:href='#icon-database'></use></svg></label><div class='xr-var-attrs'><dl class='xr-attrs'><dt><span>units :</span></dt><dd>degrees_north</dd><dt><span>long_name :</span></dt><dd>Latitude</dd></dl></div><div class='xr-var-data'><pre>array([36.024994, 36.074997, 36.125   , ..., 47.874992, 47.924995, 47.975   ],\n",
       "      shape=(240,), dtype=float32)</pre></div></li><li class='xr-var-item'><div class='xr-var-name'><span class='xr-has-index'>lon</span></div><div class='xr-var-dims'>(lon)</div><div class='xr-var-dtype'>float32</div><div class='xr-var-preview xr-preview'>6.025 6.075 6.125 ... 18.93 18.97</div><input id='attrs-38ff1295-ea9b-47d5-9e4b-a98eabaa8a83' class='xr-var-attrs-in' type='checkbox' ><label for='attrs-38ff1295-ea9b-47d5-9e4b-a98eabaa8a83' title='Show/Hide attributes'><svg class='icon xr-icon-file-text2'><use xlink:href='#icon-file-text2'></use></svg></label><input id='data-9cc56fdb-2d9e-411e-84e8-6e9c55b61cea' class='xr-var-data-in' type='checkbox'><label for='data-9cc56fdb-2d9e-411e-84e8-6e9c55b61cea' title='Show/Hide data repr'><svg class='icon xr-icon-database'><use xlink:href='#icon-database'></use></svg></label><div class='xr-var-attrs'><dl class='xr-attrs'><dt><span>units :</span></dt><dd>degrees_east</dd><dt><span>long_name :</span></dt><dd>Longitude</dd></dl></div><div class='xr-var-data'><pre>array([ 6.024994,  6.074997,  6.125   , ..., 18.875   , 18.925003, 18.97499 ],\n",
       "      shape=(260,), dtype=float32)</pre></div></li></ul></div></li><li class='xr-section-item'><input id='section-1f01e6d2-4649-4579-834a-c2f04f6cddc6' class='xr-section-summary-in' type='checkbox'  checked><label for='section-1f01e6d2-4649-4579-834a-c2f04f6cddc6' class='xr-section-summary' >Data variables: <span>(1)</span></label><div class='xr-section-inline-details'></div><div class='xr-section-details'><ul class='xr-var-list'><li class='xr-var-item'><div class='xr-var-name'><span>PRE</span></div><div class='xr-var-dims'>(time, lat, lon)</div><div class='xr-var-dtype'>float32</div><div class='xr-var-preview xr-preview'>0.0 0.0 0.0 0.0 ... 1.6 2.889 2.702</div><input id='attrs-1c89c310-2653-4611-84b1-ee6f30413982' class='xr-var-attrs-in' type='checkbox' ><label for='attrs-1c89c310-2653-4611-84b1-ee6f30413982' title='Show/Hide attributes'><svg class='icon xr-icon-file-text2'><use xlink:href='#icon-file-text2'></use></svg></label><input id='data-42463d16-0be6-40bd-9420-d30ec04e3025' class='xr-var-data-in' type='checkbox'><label for='data-42463d16-0be6-40bd-9420-d30ec04e3025' title='Show/Hide data repr'><svg class='icon xr-icon-database'><use xlink:href='#icon-database'></use></svg></label><div class='xr-var-attrs'><dl class='xr-attrs'><dt><span>units :</span></dt><dd>mm/day</dd><dt><span>long_name :</span></dt><dd>Climate Hazards group InfraRed Precipitation with Stations</dd><dt><span>origname :</span></dt><dd>convective precipitation rate</dd></dl></div><div class='xr-var-data'><pre>array([[[ 0.       ,  0.       ,  0.       , ...,        nan,\n",
       "                nan,        nan],\n",
       "        [ 0.       ,  0.       ,  0.       , ...,        nan,\n",
       "                nan,        nan],\n",
       "        [ 0.       ,  0.       ,  0.       , ...,        nan,\n",
       "                nan,        nan],\n",
       "        ...,\n",
       "        [ 0.       ,  0.       ,  0.       , ...,  0.       ,\n",
       "          0.       ,  0.       ],\n",
       "        [ 0.       ,  0.       ,  0.       , ...,  0.       ,\n",
       "          0.       ,  0.       ],\n",
       "        [ 0.       ,  0.       ,  0.       , ...,  0.       ,\n",
       "          0.       ,  0.       ]],\n",
       "\n",
       "       [[ 7.1008754,  6.8691363,  0.       , ...,        nan,\n",
       "                nan,        nan],\n",
       "        [ 8.194349 ,  7.3195252, 15.053972 , ...,        nan,\n",
       "                nan,        nan],\n",
       "        [28.699158 , 30.708706 ,  0.       , ...,        nan,\n",
       "                nan,        nan],\n",
       "...\n",
       "        [ 0.       ,  0.       ,  0.       , ...,  0.       ,\n",
       "          0.       ,  0.       ],\n",
       "        [ 0.       ,  0.       ,  0.       , ...,  0.       ,\n",
       "          0.       ,  0.       ],\n",
       "        [ 0.       ,  0.       ,  0.       , ...,  0.       ,\n",
       "          0.       ,  0.       ]],\n",
       "\n",
       "       [[ 0.       ,  0.       ,  0.       , ...,        nan,\n",
       "                nan,        nan],\n",
       "        [ 0.       ,  0.       ,  0.       , ...,        nan,\n",
       "                nan,        nan],\n",
       "        [ 0.       ,  0.       ,  0.       , ...,        nan,\n",
       "                nan,        nan],\n",
       "        ...,\n",
       "        [ 9.622421 , 10.410401 , 10.927225 , ...,  1.196184 ,\n",
       "          1.3691658,  2.7036233],\n",
       "        [10.849165 ,  9.986746 ,  9.774884 , ...,  1.6615013,\n",
       "          1.2484009,  2.538684 ],\n",
       "        [ 9.735222 , 10.916291 , 10.572497 , ...,  1.6002499,\n",
       "          2.8890932,  2.7020297]]], shape=(8035, 240, 260), dtype=float32)</pre></div></li></ul></div></li><li class='xr-section-item'><input id='section-00cc31c0-c2b4-4f7b-b899-7d014839b098' class='xr-section-summary-in' type='checkbox'  ><label for='section-00cc31c0-c2b4-4f7b-b899-7d014839b098' class='xr-section-summary' >Indexes: <span>(3)</span></label><div class='xr-section-inline-details'></div><div class='xr-section-details'><ul class='xr-var-list'><li class='xr-var-item'><div class='xr-index-name'><div>time</div></div><div class='xr-index-preview'>PandasIndex</div><input type='checkbox' disabled/><label></label><input id='index-5b0e18b3-0dad-4758-84a9-030b71b8ad82' class='xr-index-data-in' type='checkbox'/><label for='index-5b0e18b3-0dad-4758-84a9-030b71b8ad82' title='Show/Hide index repr'><svg class='icon xr-icon-database'><use xlink:href='#icon-database'></use></svg></label><div class='xr-index-data'><pre>PandasIndex(DatetimeIndex([&#x27;2002-01-01&#x27;, &#x27;2002-01-02&#x27;, &#x27;2002-01-03&#x27;, &#x27;2002-01-04&#x27;,\n",
       "               &#x27;2002-01-05&#x27;, &#x27;2002-01-06&#x27;, &#x27;2002-01-07&#x27;, &#x27;2002-01-08&#x27;,\n",
       "               &#x27;2002-01-09&#x27;, &#x27;2002-01-10&#x27;,\n",
       "               ...\n",
       "               &#x27;2023-12-22&#x27;, &#x27;2023-12-23&#x27;, &#x27;2023-12-24&#x27;, &#x27;2023-12-25&#x27;,\n",
       "               &#x27;2023-12-26&#x27;, &#x27;2023-12-27&#x27;, &#x27;2023-12-28&#x27;, &#x27;2023-12-29&#x27;,\n",
       "               &#x27;2023-12-30&#x27;, &#x27;2023-12-31&#x27;],\n",
       "              dtype=&#x27;datetime64[ns]&#x27;, name=&#x27;time&#x27;, length=8035, freq=None))</pre></div></li><li class='xr-var-item'><div class='xr-index-name'><div>lat</div></div><div class='xr-index-preview'>PandasIndex</div><input type='checkbox' disabled/><label></label><input id='index-fc85e6e1-1a5f-438d-a763-78e1bb901f80' class='xr-index-data-in' type='checkbox'/><label for='index-fc85e6e1-1a5f-438d-a763-78e1bb901f80' title='Show/Hide index repr'><svg class='icon xr-icon-database'><use xlink:href='#icon-database'></use></svg></label><div class='xr-index-data'><pre>PandasIndex(Index([36.024993896484375,  36.07499694824219,             36.125,\n",
       "        36.17499542236328, 36.224998474121094, 36.274993896484375,\n",
       "        36.32499694824219,             36.375,  36.42499542236328,\n",
       "       36.474998474121094,\n",
       "       ...\n",
       "       47.524993896484375,  47.57499694824219,  47.62499237060547,\n",
       "        47.67499542236328, 47.724998474121094, 47.774993896484375,\n",
       "        47.82499694824219,  47.87499237060547,  47.92499542236328,\n",
       "       47.974998474121094],\n",
       "      dtype=&#x27;float32&#x27;, name=&#x27;lat&#x27;, length=240))</pre></div></li><li class='xr-var-item'><div class='xr-index-name'><div>lon</div></div><div class='xr-index-preview'>PandasIndex</div><input type='checkbox' disabled/><label></label><input id='index-7bbc7abd-3390-4571-9a72-3fd8d97ffdff' class='xr-index-data-in' type='checkbox'/><label for='index-7bbc7abd-3390-4571-9a72-3fd8d97ffdff' title='Show/Hide index repr'><svg class='icon xr-icon-database'><use xlink:href='#icon-database'></use></svg></label><div class='xr-index-data'><pre>PandasIndex(Index([ 6.024993896484375, 6.0749969482421875,              6.125,\n",
       "       6.1750030517578125, 6.2249908447265625,  6.274993896484375,\n",
       "       6.3249969482421875,              6.375, 6.4250030517578125,\n",
       "       6.4749908447265625,\n",
       "       ...\n",
       "       18.524993896484375, 18.574996948242188,             18.625,\n",
       "       18.675003051757812, 18.724990844726562, 18.774993896484375,\n",
       "       18.824996948242188,             18.875, 18.925003051757812,\n",
       "       18.974990844726562],\n",
       "      dtype=&#x27;float32&#x27;, name=&#x27;lon&#x27;, length=260))</pre></div></li></ul></div></li><li class='xr-section-item'><input id='section-20903560-b170-4cf7-883f-1dd365a83d3f' class='xr-section-summary-in' type='checkbox'  checked><label for='section-20903560-b170-4cf7-883f-1dd365a83d3f' class='xr-section-summary' >Attributes: <span>(1)</span></label><div class='xr-section-inline-details'></div><div class='xr-section-details'><dl class='xr-attrs'><dt><span>description :</span></dt><dd>CHIRPS daily data for Italy region</dd></dl></div></li></ul></div></div>"
      ],
      "text/plain": [
       "<xarray.Dataset> Size: 2GB\n",
       "Dimensions:  (time: 8035, lat: 240, lon: 260)\n",
       "Coordinates:\n",
       "  * time     (time) datetime64[ns] 64kB 2002-01-01 2002-01-02 ... 2023-12-31\n",
       "  * lat      (lat) float32 960B 36.02 36.07 36.12 36.17 ... 47.87 47.92 47.97\n",
       "  * lon      (lon) float32 1kB 6.025 6.075 6.125 6.175 ... 18.88 18.93 18.97\n",
       "Data variables:\n",
       "    PRE      (time, lat, lon) float32 2GB 0.0 0.0 0.0 0.0 ... 1.6 2.889 2.702\n",
       "Attributes:\n",
       "    description:  CHIRPS daily data for Italy region"
      ]
     },
     "execution_count": 6,
     "metadata": {},
     "output_type": "execute_result"
    }
   ],
   "source": [
    "print(f'Reading data: {param['file']}')\n",
    "if product == 'SM2RAIN':\n",
    "    dir_data = os.path.join(dir_base,'Satellite',product,'ASCAT',time_reso,param['file'])\n",
    "else:\n",
    "    dir_data = os.path.join(dir_base,'Satellite',product,time_reso,param['file'])\n",
    "\n",
    "PRE_data = xr.open_dataset(dir_data)\n",
    "PRE_data = PRE_data.sel(time=PRE_data.time.dt.year.isin([np.arange(yy_s,yy_e+1)]))\n",
    "\n",
    "lats = PRE_data['lat'].data\n",
    "lons = PRE_data['lon'].data\n",
    "\n",
    "lon2d, lat2d = np.meshgrid(lons, lats)\n",
    "\n",
    "nlon = np.size(lons)\n",
    "nlat = np.size(lats)\n",
    "ntime = len(PRE_data['time'])\n",
    "\n",
    "year_vector = np.unique(pd.to_datetime(PRE_data['time']).year)\n",
    "\n",
    "PRE_data = PRE_data.where(PRE_data >= 0)  # Reemplaza valores negativos con NaN\n",
    "\n",
    "PRE_1dy = PRE_data.resample(time ='D').sum(dim='time', skipna=False)\n",
    "\n",
    "PRE_data"
   ]
  },
  {
   "cell_type": "code",
   "execution_count": null,
   "id": "8a5f20ee",
   "metadata": {},
   "outputs": [],
   "source": [
    "def downscale_clear(DATA_3h,la,lo,param):\n",
    "\n",
    "    lat_c = lats[la]\n",
    "    lon_c = lons[lo]\n",
    "\n",
    "    Tr = np.array([5, 10, 20, 50, 100, 200])\n",
    "\n",
    "    box_3h = DOWN_raw.create_box_v2(DATA_3h, lat_c, lon_c, param['npix'])\n",
    "\n",
    "    all_nan_mask = box_3h.isnull().all(dim='time')\n",
    "    num_all_nan_pixels = all_nan_mask.sum().item()\n",
    "\n",
    "    if num_all_nan_pixels == 0:\n",
    "    # all_nan_mask = box_3h.isnull().all(dim='time')\n",
    "    # num_all_nan_pixels = all_nan_mask.sum().item()\n",
    "    # total_pixels = all_nan_mask.size\n",
    "    # nan_ratio = num_all_nan_pixels / total_pixels\n",
    "    # if nan_ratio < 0.5:\n",
    "\n",
    "        downres = DOWN_raw.downscale(box_3h, Tr, thresh=1.0, L0=0.0001, \n",
    "                                    cor_method=param['corr_method'], toll=0.002,\n",
    "                                    acf=param['acf'], save_yearly=True,\n",
    "                                    maxmiss=40, clat=lat_c, clon=lon_c,\n",
    "                                    opt_method=param['opt_method'], plot=False)\n",
    "\n",
    "    else:\n",
    "        print(f'Ignore: {la}, {lo}')\n",
    "        downres = {}\n",
    "\n",
    "    return downres"
   ]
  },
  {
   "cell_type": "code",
   "execution_count": 11,
   "id": "dea8edb2",
   "metadata": {},
   "outputs": [],
   "source": [
    "la = 166\n",
    "lo = 247"
   ]
  },
  {
   "cell_type": "code",
   "execution_count": 12,
   "id": "346a4392",
   "metadata": {},
   "outputs": [
    {
     "name": "stdout",
     "output_type": "stream",
     "text": [
      "Ignore: 166, 247\n",
      "Downscaling Intermittency\n",
      "Error in downscale_pwet: zero-size array to reduction operation minimum which has no identity\n",
      "Downscaling the correlation\n",
      "Computing the correlation\n",
      "Downscaling pdf - global Weibull parameters\n",
      "warning - downscaling function:: there is something wrong solving fsolve!\n",
      "Downscaling pdf - yearly Weibull parameters\n",
      "warning - downscaling function:: there is something wrong solving fsolve!\n",
      "warning - downscaling function:: there is something wrong solving fsolve!\n",
      "warning - downscaling function:: there is something wrong solving fsolve!\n",
      "warning - downscaling function:: there is something wrong solving fsolve!\n",
      "warning - downscaling function:: there is something wrong solving fsolve!\n",
      "warning - downscaling function:: there is something wrong solving fsolve!\n",
      "warning - downscaling function:: there is something wrong solving fsolve!\n",
      "warning - downscaling function:: there is something wrong solving fsolve!\n",
      "warning - downscaling function:: there is something wrong solving fsolve!\n",
      "warning - downscaling function:: there is something wrong solving fsolve!\n",
      "warning - downscaling function:: there is something wrong solving fsolve!\n",
      "warning - downscaling function:: there is something wrong solving fsolve!\n",
      "warning - downscaling function:: there is something wrong solving fsolve!\n",
      "warning - downscaling function:: there is something wrong solving fsolve!\n",
      "warning - downscaling function:: there is something wrong solving fsolve!\n",
      "warning - downscaling function:: there is something wrong solving fsolve!\n",
      "warning - downscaling function:: there is something wrong solving fsolve!\n",
      "warning - downscaling function:: there is something wrong solving fsolve!\n",
      "warning - downscaling function:: there is something wrong solving fsolve!\n",
      "warning - downscaling function:: there is something wrong solving fsolve!\n",
      "warning - downscaling function:: there is something wrong solving fsolve!\n",
      "warning - downscaling function:: there is something wrong solving fsolve!\n"
     ]
    }
   ],
   "source": [
    "downres = downscale_clear(PRE_1dy.PRE, la, lo, param)"
   ]
  },
  {
   "cell_type": "code",
   "execution_count": 10,
   "id": "9359d23a",
   "metadata": {},
   "outputs": [],
   "source": [
    "lat_c = lats[la]\n",
    "lon_c = lons[lo]\n",
    "\n",
    "Tr = np.array([5, 10, 20, 50, 100, 200])\n",
    "\n",
    "box_3h = DOWN_raw.create_box_v2(PRE_1dy, lat_c, lon_c, param['npix'])\n",
    "xdata = box_3h.where(box_3h >= -0.001) # set negative values to np.nan if any"
   ]
  },
  {
   "cell_type": "code",
   "execution_count": 11,
   "id": "0869cac5",
   "metadata": {},
   "outputs": [
    {
     "data": {
      "text/plain": [
       "[<matplotlib.lines.Line2D at 0x7995d6754410>]"
      ]
     },
     "execution_count": 11,
     "metadata": {},
     "output_type": "execute_result"
    },
    {
     "data": {
      "image/png": "[encoded data removed]",
      "text/plain": [
       "<Figure size 640x480 with 1 Axes>"
      ]
     },
     "metadata": {},
     "output_type": "display_data"
    }
   ],
   "source": [
    "plt.plot(xdata.PRE.values[:,2,2])"
   ]
  },
  {
   "cell_type": "code",
   "execution_count": 15,
   "id": "2a2870fa",
   "metadata": {},
   "outputs": [],
   "source": [
    "# taylor = DOWN_raw.downscale_pwet(xdata.PRE, thresh=1, dt=param['dt'], L1=param['L1'],\n",
    "#                     target_x=param['L0'], target_t=param['target_t'],\n",
    "#                     origin_x=param['origin_x'], origin_t=param['origin_t'], ninterp=3000, plot='False')"
   ]
  },
  {
   "cell_type": "code",
   "execution_count": null,
   "id": "8101a0f0",
   "metadata": {},
   "outputs": [
    {
     "name": "stdout",
     "output_type": "stream",
     "text": [
      "Error in downscale_pwet: zero-size array to reduction operation minimum which has no identity\n"
     ]
    }
   ],
   "source": [
    "try:\n",
    "    taylor = DOWN_raw.downscale_pwet(xdata.PRE, thresh=1, dt=param['dt'], L1=param['L1'],\n",
    "                    target_x=0.0001, target_t=param['target_t'],\n",
    "                    origin_x=param['origin_x'], origin_t=param['origin_t'], ninterp=1000, plot='False')\n",
    "except Exception as e:\n",
    "    taylor = {}\n",
    "    taylor['beta'] = -999.9\n",
    "    print(f\"Error in downscale_pwet: {e}\")"
   ]
  },
  {
   "cell_type": "code",
   "execution_count": 15,
   "id": "009a009e",
   "metadata": {},
   "outputs": [
    {
     "data": {
      "text/plain": [
       "{'beta': nan}"
      ]
     },
     "execution_count": 15,
     "metadata": {},
     "output_type": "execute_result"
    }
   ],
   "source": [
    "taylor"
   ]
  },
  {
   "cell_type": "markdown",
   "id": "f555eebc",
   "metadata": {},
   "source": [
    "## Manual BETA"
   ]
  },
  {
   "cell_type": "code",
   "execution_count": 33,
   "id": "cf62fef5",
   "metadata": {},
   "outputs": [],
   "source": [
    "L1 = param['L1']\n",
    "L0 = param['L0']\n",
    "ninterp = 2000\n",
    "target_x = param['target_x']\n",
    "target_t = param['target_t']"
   ]
  },
  {
   "cell_type": "code",
   "execution_count": 20,
   "id": "ec30f1ac",
   "metadata": {},
   "outputs": [],
   "source": [
    "xscales_km = xscales*L1\n",
    "ntscales = np.size(tscales)\n",
    "nxscales = np.size(xscales)\n",
    "tscales_int = np.linspace(np.min(tscales), np.max(tscales), ninterp)\n",
    "pwmat_int = np.zeros((ninterp, nxscales))\n",
    "\n",
    "for col in range(nxscales):\n",
    "    pwmat_int[:, col] = np.interp(tscales_int, tscales, pwets[:, col])"
   ]
  },
  {
   "cell_type": "code",
   "execution_count": 25,
   "id": "a8cba669",
   "metadata": {},
   "outputs": [],
   "source": [
    "pw_min = np.min(pwets)\n",
    "pw_max = np.max(pwets)\n",
    "mypw = np.linspace(pw_min, pw_max, ninterp)\n",
    "\n",
    "myU = np.zeros(ninterp)   # initialize linear slope\n",
    "myX0 = np.zeros(ninterp)  # initialize linear intercept\n",
    "myindices = np.zeros((ninterp, nxscales), dtype = int)"
   ]
  },
  {
   "cell_type": "code",
   "execution_count": null,
   "id": "031d2eeb",
   "metadata": {},
   "outputs": [
    {
     "ename": "ValueError",
     "evalue": "All-NaN slice encountered",
     "output_type": "error",
     "traceback": [
      "\u001b[0;31m---------------------------------------------------------------------------\u001b[0m",
      "\u001b[0;31mValueError\u001b[0m                                Traceback (most recent call last)",
      "Cell \u001b[0;32mIn[45], line 4\u001b[0m\n\u001b[1;32m      2\u001b[0m Tvec \u001b[38;5;241m=\u001b[39m np\u001b[38;5;241m.\u001b[39mzeros(nxscales)\n\u001b[1;32m      3\u001b[0m \u001b[38;5;28;01mfor\u001b[39;00m jj \u001b[38;5;129;01min\u001b[39;00m \u001b[38;5;28mrange\u001b[39m(nxscales):\n\u001b[0;32m----> 4\u001b[0m     myindices[ii,jj] \u001b[38;5;241m=\u001b[39m \u001b[43mnp\u001b[49m\u001b[38;5;241;43m.\u001b[39;49m\u001b[43mnanargmin\u001b[49m\u001b[43m(\u001b[49m\u001b[43mnp\u001b[49m\u001b[38;5;241;43m.\u001b[39;49m\u001b[43mabs\u001b[49m\u001b[43m(\u001b[49m\u001b[43mpwmat_int\u001b[49m\u001b[43m[\u001b[49m\u001b[43m:\u001b[49m\u001b[43m,\u001b[49m\u001b[43m \u001b[49m\u001b[43mjj\u001b[49m\u001b[43m]\u001b[49m\u001b[43m \u001b[49m\u001b[38;5;241;43m-\u001b[39;49m\u001b[43m \u001b[49m\u001b[43mmypw\u001b[49m\u001b[43m[\u001b[49m\u001b[43mii\u001b[49m\u001b[43m]\u001b[49m\u001b[43m)\u001b[49m\u001b[43m)\u001b[49m\n\u001b[1;32m      5\u001b[0m     \u001b[38;5;66;03m# tvec[ii,jj] = tscales_int[myindices[ii,jj]]\u001b[39;00m\n\u001b[1;32m      6\u001b[0m     Tvec[jj] \u001b[38;5;241m=\u001b[39m tscales_int[myindices[ii,jj]]\n",
      "File \u001b[0;32m~/anaconda3/envs/AXE/lib/python3.13/site-packages/numpy/lib/_nanfunctions_impl.py:563\u001b[0m, in \u001b[0;36mnanargmin\u001b[0;34m(a, axis, out, keepdims)\u001b[0m\n\u001b[1;32m    561\u001b[0m     mask \u001b[38;5;241m=\u001b[39m np\u001b[38;5;241m.\u001b[39mall(mask, axis\u001b[38;5;241m=\u001b[39maxis)\n\u001b[1;32m    562\u001b[0m     \u001b[38;5;28;01mif\u001b[39;00m np\u001b[38;5;241m.\u001b[39many(mask):\n\u001b[0;32m--> 563\u001b[0m         \u001b[38;5;28;01mraise\u001b[39;00m \u001b[38;5;167;01mValueError\u001b[39;00m(\u001b[38;5;124m\"\u001b[39m\u001b[38;5;124mAll-NaN slice encountered\u001b[39m\u001b[38;5;124m\"\u001b[39m)\n\u001b[1;32m    564\u001b[0m res \u001b[38;5;241m=\u001b[39m np\u001b[38;5;241m.\u001b[39margmin(a, axis\u001b[38;5;241m=\u001b[39maxis, out\u001b[38;5;241m=\u001b[39mout, keepdims\u001b[38;5;241m=\u001b[39mkeepdims)\n\u001b[1;32m    565\u001b[0m \u001b[38;5;28;01mreturn\u001b[39;00m res\n",
      "\u001b[0;31mValueError\u001b[0m: All-NaN slice encountered"
     ]
    }
   ],
   "source": [
    "for ii in range(ninterp):\n",
    "    Tvec = np.zeros(nxscales)\n",
    "    for jj in range(nxscales):\n",
    "        myindices[ii,jj] = np.argmin(np.abs(pwmat_int[:, jj] - mypw[ii]))\n",
    "        Tvec[jj] = tscales_int[myindices[ii,jj]]\n",
    "\n",
    "    res = np.polyfit(Tvec[:2], xscales_km[:2], 1)\n",
    "    myU[ii] = res[0]\n",
    "    myX0[ii] = res[1]"
   ]
  },
  {
   "cell_type": "code",
   "execution_count": 32,
   "id": "69dfaae5",
   "metadata": {},
   "outputs": [],
   "source": [
    "min_index = myindices.min(axis=1)\n",
    "max_index = myindices.max(axis=1)\n",
    "col_to_keep = np.logical_and(min_index > 0, max_index < ninterp-1)\n",
    "mypw2 = mypw[col_to_keep]\n",
    "U = myU[col_to_keep]\n",
    "X0 = myX0[col_to_keep]"
   ]
  },
  {
   "cell_type": "code",
   "execution_count": 43,
   "id": "43ceb998",
   "metadata": {},
   "outputs": [
    {
     "data": {
      "text/plain": [
       "array([[0, 0, 0, ..., 0, 0, 0],\n",
       "       [0, 0, 0, ..., 0, 0, 0],\n",
       "       [0, 0, 0, ..., 0, 0, 0],\n",
       "       ...,\n",
       "       [0, 0, 0, ..., 0, 0, 0],\n",
       "       [0, 0, 0, ..., 0, 0, 0],\n",
       "       [0, 0, 0, ..., 0, 0, 0]], shape=(2000, 8035))"
      ]
     },
     "execution_count": 43,
     "metadata": {},
     "output_type": "execute_result"
    }
   ],
   "source": [
    "myindices"
   ]
  },
  {
   "cell_type": "code",
   "execution_count": 40,
   "id": "1c4dd5a5",
   "metadata": {},
   "outputs": [
    {
     "data": {
      "text/plain": [
       "array([0, 0, 0, ..., 0, 0, 0], shape=(2000,))"
      ]
     },
     "execution_count": 40,
     "metadata": {},
     "output_type": "execute_result"
    }
   ],
   "source": [
    "max_index"
   ]
  },
  {
   "cell_type": "code",
   "execution_count": 34,
   "id": "845adf4b",
   "metadata": {},
   "outputs": [
    {
     "ename": "ValueError",
     "evalue": "zero-size array to reduction operation minimum which has no identity",
     "output_type": "error",
     "traceback": [
      "\u001b[0;31m---------------------------------------------------------------------------\u001b[0m",
      "\u001b[0;31mValueError\u001b[0m                                Traceback (most recent call last)",
      "Cell \u001b[0;32mIn[34], line 3\u001b[0m\n\u001b[1;32m      1\u001b[0m dthat \u001b[38;5;241m=\u001b[39m (target_x \u001b[38;5;241m-\u001b[39m X0) \u001b[38;5;241m/\u001b[39m U \u001b[38;5;66;03m# compute time scale that would give me pwet\u001b[39;00m\n\u001b[1;32m      2\u001b[0m deltat \u001b[38;5;241m=\u001b[39m np\u001b[38;5;241m.\u001b[39mabs(dthat \u001b[38;5;241m-\u001b[39m target_t)\n\u001b[0;32m----> 3\u001b[0m opt_deltat \u001b[38;5;241m=\u001b[39m \u001b[43mnp\u001b[49m\u001b[38;5;241;43m.\u001b[39;49m\u001b[43mmin\u001b[49m\u001b[43m(\u001b[49m\u001b[43mdeltat\u001b[49m\u001b[43m)\u001b[49m\n\u001b[1;32m      4\u001b[0m max_dt \u001b[38;5;241m=\u001b[39m \u001b[38;5;241m0.5\u001b[39m \u001b[38;5;66;03m# half hour accuracy should suffice?\u001b[39;00m\n",
      "File \u001b[0;32m~/anaconda3/envs/AXE/lib/python3.13/site-packages/numpy/_core/fromnumeric.py:3302\u001b[0m, in \u001b[0;36mmin\u001b[0;34m(a, axis, out, keepdims, initial, where)\u001b[0m\n\u001b[1;32m   3190\u001b[0m \u001b[38;5;129m@array_function_dispatch\u001b[39m(_min_dispatcher)\n\u001b[1;32m   3191\u001b[0m \u001b[38;5;28;01mdef\u001b[39;00m \u001b[38;5;21mmin\u001b[39m(a, axis\u001b[38;5;241m=\u001b[39m\u001b[38;5;28;01mNone\u001b[39;00m, out\u001b[38;5;241m=\u001b[39m\u001b[38;5;28;01mNone\u001b[39;00m, keepdims\u001b[38;5;241m=\u001b[39mnp\u001b[38;5;241m.\u001b[39m_NoValue, initial\u001b[38;5;241m=\u001b[39mnp\u001b[38;5;241m.\u001b[39m_NoValue,\n\u001b[1;32m   3192\u001b[0m         where\u001b[38;5;241m=\u001b[39mnp\u001b[38;5;241m.\u001b[39m_NoValue):\n\u001b[1;32m   3193\u001b[0m \u001b[38;5;250m    \u001b[39m\u001b[38;5;124;03m\"\"\"\u001b[39;00m\n\u001b[1;32m   3194\u001b[0m \u001b[38;5;124;03m    Return the minimum of an array or minimum along an axis.\u001b[39;00m\n\u001b[1;32m   3195\u001b[0m \n\u001b[0;32m   (...)\u001b[0m\n\u001b[1;32m   3300\u001b[0m \u001b[38;5;124;03m    6\u001b[39;00m\n\u001b[1;32m   3301\u001b[0m \u001b[38;5;124;03m    \"\"\"\u001b[39;00m\n\u001b[0;32m-> 3302\u001b[0m     \u001b[38;5;28;01mreturn\u001b[39;00m \u001b[43m_wrapreduction\u001b[49m\u001b[43m(\u001b[49m\u001b[43ma\u001b[49m\u001b[43m,\u001b[49m\u001b[43m \u001b[49m\u001b[43mnp\u001b[49m\u001b[38;5;241;43m.\u001b[39;49m\u001b[43mminimum\u001b[49m\u001b[43m,\u001b[49m\u001b[43m \u001b[49m\u001b[38;5;124;43m'\u001b[39;49m\u001b[38;5;124;43mmin\u001b[39;49m\u001b[38;5;124;43m'\u001b[39;49m\u001b[43m,\u001b[49m\u001b[43m \u001b[49m\u001b[43maxis\u001b[49m\u001b[43m,\u001b[49m\u001b[43m \u001b[49m\u001b[38;5;28;43;01mNone\u001b[39;49;00m\u001b[43m,\u001b[49m\u001b[43m \u001b[49m\u001b[43mout\u001b[49m\u001b[43m,\u001b[49m\n\u001b[1;32m   3303\u001b[0m \u001b[43m                          \u001b[49m\u001b[43mkeepdims\u001b[49m\u001b[38;5;241;43m=\u001b[39;49m\u001b[43mkeepdims\u001b[49m\u001b[43m,\u001b[49m\u001b[43m \u001b[49m\u001b[43minitial\u001b[49m\u001b[38;5;241;43m=\u001b[39;49m\u001b[43minitial\u001b[49m\u001b[43m,\u001b[49m\u001b[43m \u001b[49m\u001b[43mwhere\u001b[49m\u001b[38;5;241;43m=\u001b[39;49m\u001b[43mwhere\u001b[49m\u001b[43m)\u001b[49m\n",
      "File \u001b[0;32m~/anaconda3/envs/AXE/lib/python3.13/site-packages/numpy/_core/fromnumeric.py:86\u001b[0m, in \u001b[0;36m_wrapreduction\u001b[0;34m(obj, ufunc, method, axis, dtype, out, **kwargs)\u001b[0m\n\u001b[1;32m     83\u001b[0m         \u001b[38;5;28;01melse\u001b[39;00m:\n\u001b[1;32m     84\u001b[0m             \u001b[38;5;28;01mreturn\u001b[39;00m reduction(axis\u001b[38;5;241m=\u001b[39maxis, out\u001b[38;5;241m=\u001b[39mout, \u001b[38;5;241m*\u001b[39m\u001b[38;5;241m*\u001b[39mpasskwargs)\n\u001b[0;32m---> 86\u001b[0m \u001b[38;5;28;01mreturn\u001b[39;00m \u001b[43mufunc\u001b[49m\u001b[38;5;241;43m.\u001b[39;49m\u001b[43mreduce\u001b[49m\u001b[43m(\u001b[49m\u001b[43mobj\u001b[49m\u001b[43m,\u001b[49m\u001b[43m \u001b[49m\u001b[43maxis\u001b[49m\u001b[43m,\u001b[49m\u001b[43m \u001b[49m\u001b[43mdtype\u001b[49m\u001b[43m,\u001b[49m\u001b[43m \u001b[49m\u001b[43mout\u001b[49m\u001b[43m,\u001b[49m\u001b[43m \u001b[49m\u001b[38;5;241;43m*\u001b[39;49m\u001b[38;5;241;43m*\u001b[39;49m\u001b[43mpasskwargs\u001b[49m\u001b[43m)\u001b[49m\n",
      "\u001b[0;31mValueError\u001b[0m: zero-size array to reduction operation minimum which has no identity"
     ]
    }
   ],
   "source": [
    "dthat = (target_x - X0) / U # compute time scale that would give me pwet\n",
    "deltat = np.abs(dthat - target_t)\n",
    "opt_deltat = np.min(deltat)\n",
    "max_dt = 0.5 # half hour accuracy should suffice?"
   ]
  },
  {
   "cell_type": "code",
   "execution_count": 38,
   "id": "365b30e3",
   "metadata": {},
   "outputs": [
    {
     "data": {
      "text/plain": [
       "array([], dtype=float64)"
      ]
     },
     "execution_count": 38,
     "metadata": {},
     "output_type": "execute_result"
    }
   ],
   "source": [
    "X0"
   ]
  },
  {
   "cell_type": "code",
   "execution_count": null,
   "id": "1a83349a",
   "metadata": {},
   "outputs": [],
   "source": []
  },
  {
   "cell_type": "code",
   "execution_count": null,
   "id": "94d6396d",
   "metadata": {},
   "outputs": [],
   "source": []
  },
  {
   "cell_type": "code",
   "execution_count": null,
   "id": "5b95d632",
   "metadata": {},
   "outputs": [],
   "source": []
  },
  {
   "cell_type": "code",
   "execution_count": 21,
   "id": "67256ba6",
   "metadata": {},
   "outputs": [
    {
     "ename": "ValueError",
     "evalue": "zero-size array to reduction operation minimum which has no identity",
     "output_type": "error",
     "traceback": [
      "\u001b[0;31m---------------------------------------------------------------------------\u001b[0m",
      "\u001b[0;31mValueError\u001b[0m                                Traceback (most recent call last)",
      "Cell \u001b[0;32mIn[21], line 1\u001b[0m\n\u001b[0;32m----> 1\u001b[0m resbeta \u001b[38;5;241m=\u001b[39m \u001b[43mDOWN_raw\u001b[49m\u001b[38;5;241;43m.\u001b[39;49m\u001b[43mTaylor_beta\u001b[49m\u001b[43m(\u001b[49m\u001b[43mpwets\u001b[49m\u001b[43m,\u001b[49m\u001b[43m \u001b[49m\u001b[43mxscales\u001b[49m\u001b[43m,\u001b[49m\u001b[43m \u001b[49m\u001b[43mtscales\u001b[49m\u001b[43m,\u001b[49m\u001b[43m \u001b[49m\u001b[43mL1\u001b[49m\u001b[38;5;241;43m=\u001b[39;49m\u001b[43mparam\u001b[49m\u001b[43m[\u001b[49m\u001b[38;5;124;43m'\u001b[39;49m\u001b[38;5;124;43mL1\u001b[39;49m\u001b[38;5;124;43m'\u001b[39;49m\u001b[43m]\u001b[49m\u001b[43m,\u001b[49m\n\u001b[1;32m      2\u001b[0m \u001b[43m                            \u001b[49m\u001b[43mtarget_x\u001b[49m\u001b[38;5;241;43m=\u001b[39;49m\u001b[43mparam\u001b[49m\u001b[43m[\u001b[49m\u001b[38;5;124;43m'\u001b[39;49m\u001b[38;5;124;43mtarget_x\u001b[39;49m\u001b[38;5;124;43m'\u001b[39;49m\u001b[43m]\u001b[49m\u001b[43m,\u001b[49m\u001b[43m \u001b[49m\u001b[43mtarget_t\u001b[49m\u001b[38;5;241;43m=\u001b[39;49m\u001b[43mparam\u001b[49m\u001b[43m[\u001b[49m\u001b[38;5;124;43m'\u001b[39;49m\u001b[38;5;124;43mtarget_t\u001b[39;49m\u001b[38;5;124;43m'\u001b[39;49m\u001b[43m]\u001b[49m\u001b[43m,\u001b[49m\n\u001b[1;32m      3\u001b[0m \u001b[43m                            \u001b[49m\u001b[43morigin_x\u001b[49m\u001b[38;5;241;43m=\u001b[39;49m\u001b[43mparam\u001b[49m\u001b[43m[\u001b[49m\u001b[38;5;124;43m'\u001b[39;49m\u001b[38;5;124;43morigin_x\u001b[39;49m\u001b[38;5;124;43m'\u001b[39;49m\u001b[43m]\u001b[49m\u001b[43m,\u001b[49m\u001b[43m \u001b[49m\u001b[43morigin_t\u001b[49m\u001b[38;5;241;43m=\u001b[39;49m\u001b[43mparam\u001b[49m\u001b[43m[\u001b[49m\u001b[38;5;124;43m'\u001b[39;49m\u001b[38;5;124;43morigin_t\u001b[39;49m\u001b[38;5;124;43m'\u001b[39;49m\u001b[43m]\u001b[49m\u001b[43m,\u001b[49m\n\u001b[1;32m      4\u001b[0m \u001b[43m                            \u001b[49m\u001b[43mninterp\u001b[49m\u001b[38;5;241;43m=\u001b[39;49m\u001b[38;5;241;43m1000\u001b[39;49m\u001b[43m,\u001b[49m\u001b[43m \u001b[49m\u001b[43mplot\u001b[49m\u001b[38;5;241;43m=\u001b[39;49m\u001b[38;5;124;43m'\u001b[39;49m\u001b[38;5;124;43mFalse\u001b[39;49m\u001b[38;5;124;43m'\u001b[39;49m\u001b[43m)\u001b[49m\n\u001b[1;32m      6\u001b[0m \u001b[38;5;66;03m# resbeta = DOWN_raw.Taylor_beta(pwets[1:,:], xscales, tscales[1:], L1=param['L1'],\u001b[39;00m\n\u001b[1;32m      7\u001b[0m \u001b[38;5;66;03m#                             target_x=param['target_x'], target_t=param['target_t'],\u001b[39;00m\n\u001b[1;32m      8\u001b[0m \u001b[38;5;66;03m#                             origin_x=param['origin_x'], origin_t=param['origin_t'],\u001b[39;00m\n\u001b[1;32m      9\u001b[0m \u001b[38;5;66;03m#                             ninterp=3000, plot='False')\u001b[39;00m\n",
      "File \u001b[0;32m~/github/downpy/function/DOWN_raw.py:422\u001b[0m, in \u001b[0;36mTaylor_beta\u001b[0;34m(pwets, xscales, tscales, L1, target_x, target_t, origin_x, origin_t, ninterp, plot)\u001b[0m\n\u001b[1;32m    420\u001b[0m dthat \u001b[38;5;241m=\u001b[39m (target_x \u001b[38;5;241m-\u001b[39m X0) \u001b[38;5;241m/\u001b[39m U \u001b[38;5;66;03m# compute time scale that would give me pwet\u001b[39;00m\n\u001b[1;32m    421\u001b[0m deltat \u001b[38;5;241m=\u001b[39m np\u001b[38;5;241m.\u001b[39mabs(dthat \u001b[38;5;241m-\u001b[39m target_t)\n\u001b[0;32m--> 422\u001b[0m opt_deltat \u001b[38;5;241m=\u001b[39m \u001b[43mnp\u001b[49m\u001b[38;5;241;43m.\u001b[39;49m\u001b[43mmin\u001b[49m\u001b[43m(\u001b[49m\u001b[43mdeltat\u001b[49m\u001b[43m)\u001b[49m\n\u001b[1;32m    423\u001b[0m max_dt \u001b[38;5;241m=\u001b[39m \u001b[38;5;241m0.5\u001b[39m \u001b[38;5;66;03m# half hour accuracy should suffice?\u001b[39;00m\n\u001b[1;32m    424\u001b[0m \u001b[38;5;66;03m# set a TOLL value to check we are not too far away from the real deltat\u001b[39;00m\n",
      "File \u001b[0;32m~/anaconda3/envs/AXE/lib/python3.13/site-packages/numpy/_core/fromnumeric.py:3302\u001b[0m, in \u001b[0;36mmin\u001b[0;34m(a, axis, out, keepdims, initial, where)\u001b[0m\n\u001b[1;32m   3190\u001b[0m \u001b[38;5;129m@array_function_dispatch\u001b[39m(_min_dispatcher)\n\u001b[1;32m   3191\u001b[0m \u001b[38;5;28;01mdef\u001b[39;00m \u001b[38;5;21mmin\u001b[39m(a, axis\u001b[38;5;241m=\u001b[39m\u001b[38;5;28;01mNone\u001b[39;00m, out\u001b[38;5;241m=\u001b[39m\u001b[38;5;28;01mNone\u001b[39;00m, keepdims\u001b[38;5;241m=\u001b[39mnp\u001b[38;5;241m.\u001b[39m_NoValue, initial\u001b[38;5;241m=\u001b[39mnp\u001b[38;5;241m.\u001b[39m_NoValue,\n\u001b[1;32m   3192\u001b[0m         where\u001b[38;5;241m=\u001b[39mnp\u001b[38;5;241m.\u001b[39m_NoValue):\n\u001b[1;32m   3193\u001b[0m \u001b[38;5;250m    \u001b[39m\u001b[38;5;124;03m\"\"\"\u001b[39;00m\n\u001b[1;32m   3194\u001b[0m \u001b[38;5;124;03m    Return the minimum of an array or minimum along an axis.\u001b[39;00m\n\u001b[1;32m   3195\u001b[0m \n\u001b[0;32m   (...)\u001b[0m\n\u001b[1;32m   3300\u001b[0m \u001b[38;5;124;03m    6\u001b[39;00m\n\u001b[1;32m   3301\u001b[0m \u001b[38;5;124;03m    \"\"\"\u001b[39;00m\n\u001b[0;32m-> 3302\u001b[0m     \u001b[38;5;28;01mreturn\u001b[39;00m \u001b[43m_wrapreduction\u001b[49m\u001b[43m(\u001b[49m\u001b[43ma\u001b[49m\u001b[43m,\u001b[49m\u001b[43m \u001b[49m\u001b[43mnp\u001b[49m\u001b[38;5;241;43m.\u001b[39;49m\u001b[43mminimum\u001b[49m\u001b[43m,\u001b[49m\u001b[43m \u001b[49m\u001b[38;5;124;43m'\u001b[39;49m\u001b[38;5;124;43mmin\u001b[39;49m\u001b[38;5;124;43m'\u001b[39;49m\u001b[43m,\u001b[49m\u001b[43m \u001b[49m\u001b[43maxis\u001b[49m\u001b[43m,\u001b[49m\u001b[43m \u001b[49m\u001b[38;5;28;43;01mNone\u001b[39;49;00m\u001b[43m,\u001b[49m\u001b[43m \u001b[49m\u001b[43mout\u001b[49m\u001b[43m,\u001b[49m\n\u001b[1;32m   3303\u001b[0m \u001b[43m                          \u001b[49m\u001b[43mkeepdims\u001b[49m\u001b[38;5;241;43m=\u001b[39;49m\u001b[43mkeepdims\u001b[49m\u001b[43m,\u001b[49m\u001b[43m \u001b[49m\u001b[43minitial\u001b[49m\u001b[38;5;241;43m=\u001b[39;49m\u001b[43minitial\u001b[49m\u001b[43m,\u001b[49m\u001b[43m \u001b[49m\u001b[43mwhere\u001b[49m\u001b[38;5;241;43m=\u001b[39;49m\u001b[43mwhere\u001b[49m\u001b[43m)\u001b[49m\n",
      "File \u001b[0;32m~/anaconda3/envs/AXE/lib/python3.13/site-packages/numpy/_core/fromnumeric.py:86\u001b[0m, in \u001b[0;36m_wrapreduction\u001b[0;34m(obj, ufunc, method, axis, dtype, out, **kwargs)\u001b[0m\n\u001b[1;32m     83\u001b[0m         \u001b[38;5;28;01melse\u001b[39;00m:\n\u001b[1;32m     84\u001b[0m             \u001b[38;5;28;01mreturn\u001b[39;00m reduction(axis\u001b[38;5;241m=\u001b[39maxis, out\u001b[38;5;241m=\u001b[39mout, \u001b[38;5;241m*\u001b[39m\u001b[38;5;241m*\u001b[39mpasskwargs)\n\u001b[0;32m---> 86\u001b[0m \u001b[38;5;28;01mreturn\u001b[39;00m \u001b[43mufunc\u001b[49m\u001b[38;5;241;43m.\u001b[39;49m\u001b[43mreduce\u001b[49m\u001b[43m(\u001b[49m\u001b[43mobj\u001b[49m\u001b[43m,\u001b[49m\u001b[43m \u001b[49m\u001b[43maxis\u001b[49m\u001b[43m,\u001b[49m\u001b[43m \u001b[49m\u001b[43mdtype\u001b[49m\u001b[43m,\u001b[49m\u001b[43m \u001b[49m\u001b[43mout\u001b[49m\u001b[43m,\u001b[49m\u001b[43m \u001b[49m\u001b[38;5;241;43m*\u001b[39;49m\u001b[38;5;241;43m*\u001b[39;49m\u001b[43mpasskwargs\u001b[49m\u001b[43m)\u001b[49m\n",
      "\u001b[0;31mValueError\u001b[0m: zero-size array to reduction operation minimum which has no identity"
     ]
    }
   ],
   "source": [
    "resbeta = DOWN_raw.Taylor_beta(pwets, xscales, tscales, L1=param['L1'],\n",
    "                            target_x=param['target_x'], target_t=param['target_t'],\n",
    "                            origin_x=param['origin_x'], origin_t=param['origin_t'],\n",
    "                            ninterp=1000, plot='False')\n",
    "\n",
    "# resbeta = DOWN_raw.Taylor_beta(pwets[1:,:], xscales, tscales[1:], L1=param['L1'],\n",
    "#                             target_x=param['target_x'], target_t=param['target_t'],\n",
    "#                             origin_x=param['origin_x'], origin_t=param['origin_t'],\n",
    "#                             ninterp=3000, plot='False')"
   ]
  },
  {
   "cell_type": "code",
   "execution_count": null,
   "id": "4e954e46",
   "metadata": {},
   "outputs": [
    {
     "ename": "NameError",
     "evalue": "name 'resbeta' is not defined",
     "output_type": "error",
     "traceback": [
      "\u001b[0;31m---------------------------------------------------------------------------\u001b[0m",
      "\u001b[0;31mNameError\u001b[0m                                 Traceback (most recent call last)",
      "Cell \u001b[0;32mIn[52], line 1\u001b[0m\n\u001b[0;32m----> 1\u001b[0m \u001b[43mresbeta\u001b[49m\n",
      "\u001b[0;31mNameError\u001b[0m: name 'resbeta' is not defined"
     ]
    }
   ],
   "source": [
    "resbeta"
   ]
  }
 ],
 "metadata": {
  "kernelspec": {
   "display_name": "AXE",
   "language": "python",
   "name": "python3"
  },
  "language_info": {
   "codemirror_mode": {
    "name": "ipython",
    "version": 3
   },
   "file_extension": ".py",
   "mimetype": "text/x-python",
   "name": "python",
   "nbconvert_exporter": "python",
   "pygments_lexer": "ipython3",
   "version": "3.13.1"
  }
 },
 "nbformat": 4,
 "nbformat_minor": 5
}
