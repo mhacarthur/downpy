{
 "cells": [
  {
   "cell_type": "code",
   "execution_count": 3,
   "metadata": {},
   "outputs": [],
   "source": [
    "import numpy as np\n",
    "\n",
    "from scipy.special import gamma"
   ]
  },
  {
   "cell_type": "code",
   "execution_count": 2,
   "metadata": {},
   "outputs": [],
   "source": [
    "def haversine(lat1, lon1, lat2, lon2):\n",
    "    R = 6371.0 # Earth radius in kilometers\n",
    "    \n",
    "    dlat = np.radians(lat2 - lat1)\n",
    "    dlon = np.radians(lon2 - lon1)\n",
    "    \n",
    "    a = np.sin(dlat / 2)**2 + np.cos(np.radians(lat1)) * np.cos(np.radians(lat2)) * np.sin(dlon / 2)**2\n",
    "    c = 2 * np.arctan2(np.sqrt(a), np.sqrt(1 - a))\n",
    "    \n",
    "    distance = R * c\n",
    "    return distance"
   ]
  },
  {
   "cell_type": "code",
   "execution_count": 4,
   "metadata": {},
   "outputs": [],
   "source": [
    "def wei_fit(sample):\n",
    "    ''' fit a 2-parameters Weibull distribution to a sample\n",
    "    by means of Probability Weighted Moments (PWM) matching (Greenwood 1979)\n",
    "    using only observations larger than a value 'threshold' are used for the fit\n",
    "    -- threshold without renormalization -- it assumes the values below are\n",
    "    not present. Default threshold = 0\n",
    "    INPUT:: sample (array with observations)\n",
    "            threshold (default is = 0)\n",
    "    OUTPUT::\n",
    "    returns dimension of the sample (n) (only values above threshold)\n",
    "    N represent the number of observations > threshold\n",
    "    Weibull scale (c) and shape (w) parameters '''\n",
    "    sample = np.asarray(sample) # from list to Numpy array\n",
    "    wets   = sample[sample > 0.0]\n",
    "    x      = np.sort(wets) # sort ascend by default\n",
    "    M0hat  = np.mean(x)\n",
    "    M1hat  = 0.0\n",
    "    n      = x.size # sample size\n",
    "    for ii in range(n):\n",
    "        real_ii = ii + 1\n",
    "        M1hat   = M1hat + x[ii]*(n - real_ii)\n",
    "    M1hat = M1hat/(n*(n-1))\n",
    "    c     = M0hat/gamma( np.log(M0hat/M1hat)/np.log(2)) # scale par\n",
    "    w     = np.log(2)/np.log(M0hat/(2*M1hat)) # shape par\n",
    "    return  n, c, w"
   ]
  },
  {
   "cell_type": "code",
   "execution_count": 5,
   "metadata": {},
   "outputs": [],
   "source": [
    "def wetfrac(array, thresh):\n",
    "    return np.size(array[array > thresh])/np.size(array)"
   ]
  },
  {
   "cell_type": "code",
   "execution_count": null,
   "metadata": {},
   "outputs": [],
   "source": []
  }
 ],
 "metadata": {
  "kernelspec": {
   "display_name": "AXE",
   "language": "python",
   "name": "python3"
  },
  "language_info": {
   "codemirror_mode": {
    "name": "ipython",
    "version": 3
   },
   "file_extension": ".py",
   "mimetype": "text/x-python",
   "name": "python",
   "nbconvert_exporter": "python",
   "pygments_lexer": "ipython3",
   "version": "3.12.2"
  }
 },
 "nbformat": 4,
 "nbformat_minor": 2
}
